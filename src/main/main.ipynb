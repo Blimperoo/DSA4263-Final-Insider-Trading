{
 "cells": [
  {
   "cell_type": "markdown",
   "metadata": {},
   "source": [
    "## Ensure that you have relevant data in data_untracked"
   ]
  },
  {
   "cell_type": "code",
   "execution_count": 14,
   "metadata": {},
   "outputs": [],
   "source": [
    "import numpy as np\n",
    "import pandas as pd\n",
    "import sys\n",
    "import os\n",
    "\n",
    "parent_dir = os.path.dirname(os.getcwd())\n",
    "if parent_dir not in sys.path:\n",
    "    sys.path.append(parent_dir)\n",
    "\n",
    "from extract_data import extract \n",
    "from create_features import features\n",
    "from create_labels import labels\n",
    "# from create_data import create_features\n",
    "\n",
    "import warnings\n",
    "warnings.filterwarnings(\"ignore\")\n",
    "pd.set_option('display.max_columns', None)"
   ]
  },
  {
   "cell_type": "markdown",
   "metadata": {},
   "source": [
    "### Download below required if creating footnote analysis file"
   ]
  },
  {
   "cell_type": "code",
   "execution_count": 2,
   "metadata": {},
   "outputs": [],
   "source": [
    "# nltk.download('stopwords')\n",
    "# nltk.download('punkt')\n",
    "# nltk.download(\"wordnet\")\n",
    "# nltk.download(\"averaged_perceptron_tagger\")"
   ]
  },
  {
   "cell_type": "markdown",
   "metadata": {},
   "source": [
    "___\n",
    "## Section 1. Create Data\n",
    "___"
   ]
  },
  {
   "cell_type": "markdown",
   "metadata": {},
   "source": [
    "### Extract form 4 data if missing"
   ]
  },
  {
   "cell_type": "code",
   "execution_count": 3,
   "metadata": {},
   "outputs": [
    {
     "name": "stdout",
     "output_type": "stream",
     "text": [
      "========== Some SEC files not present ==========\n",
      "=============== Begin extracting ===============\n",
      "Found 76 zip file links\n",
      "Downloaded: ../../data_untracked/raw/sec_submissions/interim/2024q4_form345.zip\n",
      "Downloaded: ../../data_untracked/raw/sec_submissions/interim/2024q3_form345.zip\n"
     ]
    },
    {
     "ename": "KeyboardInterrupt",
     "evalue": "",
     "output_type": "error",
     "traceback": [
      "\u001b[0;31m---------------------------------------------------------------------------\u001b[0m",
      "\u001b[0;31mKeyboardInterrupt\u001b[0m                         Traceback (most recent call last)",
      "Cell \u001b[0;32mIn[3], line 2\u001b[0m\n\u001b[1;32m      1\u001b[0m data_extractor \u001b[39m=\u001b[39m extract\u001b[39m.\u001b[39mData_Extractor()\n\u001b[0;32m----> 2\u001b[0m data_extractor\u001b[39m.\u001b[39;49mcreate_form4()\n",
      "File \u001b[0;32m~/Desktop/Y4S2/DSA4263/DSA4263 PROJECT/src/extract_data/extract.py:66\u001b[0m, in \u001b[0;36mData_Extractor.create_form4\u001b[0;34m(self)\u001b[0m\n\u001b[1;32m     64\u001b[0m \u001b[39mprint\u001b[39m(\u001b[39m\"\u001b[39m\u001b[39m========== Some SEC files not present ==========\u001b[39m\u001b[39m\"\u001b[39m)\n\u001b[1;32m     65\u001b[0m \u001b[39mprint\u001b[39m(\u001b[39m\"\u001b[39m\u001b[39m=============== Begin extracting ===============\u001b[39m\u001b[39m\"\u001b[39m)\n\u001b[0;32m---> 66\u001b[0m \u001b[39mself\u001b[39;49m\u001b[39m.\u001b[39;49m__extract_zip()\n\u001b[1;32m     67\u001b[0m \u001b[39mself\u001b[39m\u001b[39m.\u001b[39m__extract_and_merge_tsv_files()\n\u001b[1;32m     68\u001b[0m \u001b[39mself\u001b[39m\u001b[39m.\u001b[39m__load_metadata_and_build_mapping()\n",
      "File \u001b[0;32m~/Desktop/Y4S2/DSA4263/DSA4263 PROJECT/src/extract_data/extract.py:133\u001b[0m, in \u001b[0;36mData_Extractor.__extract_zip\u001b[0;34m(self)\u001b[0m\n\u001b[1;32m    131\u001b[0m \u001b[39mfor\u001b[39;00m link \u001b[39min\u001b[39;00m zip_links:\n\u001b[1;32m    132\u001b[0m     \u001b[39mtry\u001b[39;00m:\n\u001b[0;32m--> 133\u001b[0m         r \u001b[39m=\u001b[39m requests\u001b[39m.\u001b[39;49mget(link, headers\u001b[39m=\u001b[39;49mHEADERS)\n\u001b[1;32m    134\u001b[0m         r\u001b[39m.\u001b[39mraise_for_status()\n\u001b[1;32m    135\u001b[0m     \u001b[39mexcept\u001b[39;00m \u001b[39mException\u001b[39;00m \u001b[39mas\u001b[39;00m e:\n",
      "File \u001b[0;32m/Library/Frameworks/Python.framework/Versions/3.10/lib/python3.10/site-packages/requests/api.py:73\u001b[0m, in \u001b[0;36mget\u001b[0;34m(url, params, **kwargs)\u001b[0m\n\u001b[1;32m     62\u001b[0m \u001b[39mdef\u001b[39;00m \u001b[39mget\u001b[39m(url, params\u001b[39m=\u001b[39m\u001b[39mNone\u001b[39;00m, \u001b[39m*\u001b[39m\u001b[39m*\u001b[39mkwargs):\n\u001b[1;32m     63\u001b[0m \u001b[39m    \u001b[39m\u001b[39mr\u001b[39m\u001b[39m\"\"\"Sends a GET request.\u001b[39;00m\n\u001b[1;32m     64\u001b[0m \n\u001b[1;32m     65\u001b[0m \u001b[39m    :param url: URL for the new :class:`Request` object.\u001b[39;00m\n\u001b[0;32m   (...)\u001b[0m\n\u001b[1;32m     70\u001b[0m \u001b[39m    :rtype: requests.Response\u001b[39;00m\n\u001b[1;32m     71\u001b[0m \u001b[39m    \"\"\"\u001b[39;00m\n\u001b[0;32m---> 73\u001b[0m     \u001b[39mreturn\u001b[39;00m request(\u001b[39m\"\u001b[39;49m\u001b[39mget\u001b[39;49m\u001b[39m\"\u001b[39;49m, url, params\u001b[39m=\u001b[39;49mparams, \u001b[39m*\u001b[39;49m\u001b[39m*\u001b[39;49mkwargs)\n",
      "File \u001b[0;32m/Library/Frameworks/Python.framework/Versions/3.10/lib/python3.10/site-packages/requests/api.py:59\u001b[0m, in \u001b[0;36mrequest\u001b[0;34m(method, url, **kwargs)\u001b[0m\n\u001b[1;32m     55\u001b[0m \u001b[39m# By using the 'with' statement we are sure the session is closed, thus we\u001b[39;00m\n\u001b[1;32m     56\u001b[0m \u001b[39m# avoid leaving sockets open which can trigger a ResourceWarning in some\u001b[39;00m\n\u001b[1;32m     57\u001b[0m \u001b[39m# cases, and look like a memory leak in others.\u001b[39;00m\n\u001b[1;32m     58\u001b[0m \u001b[39mwith\u001b[39;00m sessions\u001b[39m.\u001b[39mSession() \u001b[39mas\u001b[39;00m session:\n\u001b[0;32m---> 59\u001b[0m     \u001b[39mreturn\u001b[39;00m session\u001b[39m.\u001b[39;49mrequest(method\u001b[39m=\u001b[39;49mmethod, url\u001b[39m=\u001b[39;49murl, \u001b[39m*\u001b[39;49m\u001b[39m*\u001b[39;49mkwargs)\n",
      "File \u001b[0;32m/Library/Frameworks/Python.framework/Versions/3.10/lib/python3.10/site-packages/requests/sessions.py:589\u001b[0m, in \u001b[0;36mSession.request\u001b[0;34m(self, method, url, params, data, headers, cookies, files, auth, timeout, allow_redirects, proxies, hooks, stream, verify, cert, json)\u001b[0m\n\u001b[1;32m    584\u001b[0m send_kwargs \u001b[39m=\u001b[39m {\n\u001b[1;32m    585\u001b[0m     \u001b[39m\"\u001b[39m\u001b[39mtimeout\u001b[39m\u001b[39m\"\u001b[39m: timeout,\n\u001b[1;32m    586\u001b[0m     \u001b[39m\"\u001b[39m\u001b[39mallow_redirects\u001b[39m\u001b[39m\"\u001b[39m: allow_redirects,\n\u001b[1;32m    587\u001b[0m }\n\u001b[1;32m    588\u001b[0m send_kwargs\u001b[39m.\u001b[39mupdate(settings)\n\u001b[0;32m--> 589\u001b[0m resp \u001b[39m=\u001b[39m \u001b[39mself\u001b[39;49m\u001b[39m.\u001b[39;49msend(prep, \u001b[39m*\u001b[39;49m\u001b[39m*\u001b[39;49msend_kwargs)\n\u001b[1;32m    591\u001b[0m \u001b[39mreturn\u001b[39;00m resp\n",
      "File \u001b[0;32m/Library/Frameworks/Python.framework/Versions/3.10/lib/python3.10/site-packages/requests/sessions.py:746\u001b[0m, in \u001b[0;36mSession.send\u001b[0;34m(self, request, **kwargs)\u001b[0m\n\u001b[1;32m    743\u001b[0m         \u001b[39mpass\u001b[39;00m\n\u001b[1;32m    745\u001b[0m \u001b[39mif\u001b[39;00m \u001b[39mnot\u001b[39;00m stream:\n\u001b[0;32m--> 746\u001b[0m     r\u001b[39m.\u001b[39;49mcontent\n\u001b[1;32m    748\u001b[0m \u001b[39mreturn\u001b[39;00m r\n",
      "File \u001b[0;32m/Library/Frameworks/Python.framework/Versions/3.10/lib/python3.10/site-packages/requests/models.py:902\u001b[0m, in \u001b[0;36mResponse.content\u001b[0;34m(self)\u001b[0m\n\u001b[1;32m    900\u001b[0m         \u001b[39mself\u001b[39m\u001b[39m.\u001b[39m_content \u001b[39m=\u001b[39m \u001b[39mNone\u001b[39;00m\n\u001b[1;32m    901\u001b[0m     \u001b[39melse\u001b[39;00m:\n\u001b[0;32m--> 902\u001b[0m         \u001b[39mself\u001b[39m\u001b[39m.\u001b[39m_content \u001b[39m=\u001b[39m \u001b[39mb\u001b[39;49m\u001b[39m\"\u001b[39;49m\u001b[39m\"\u001b[39;49m\u001b[39m.\u001b[39;49mjoin(\u001b[39mself\u001b[39;49m\u001b[39m.\u001b[39;49miter_content(CONTENT_CHUNK_SIZE)) \u001b[39mor\u001b[39;00m \u001b[39mb\u001b[39m\u001b[39m\"\u001b[39m\u001b[39m\"\u001b[39m\n\u001b[1;32m    904\u001b[0m \u001b[39mself\u001b[39m\u001b[39m.\u001b[39m_content_consumed \u001b[39m=\u001b[39m \u001b[39mTrue\u001b[39;00m\n\u001b[1;32m    905\u001b[0m \u001b[39m# don't need to release the connection; that's been handled by urllib3\u001b[39;00m\n\u001b[1;32m    906\u001b[0m \u001b[39m# since we exhausted the data.\u001b[39;00m\n",
      "File \u001b[0;32m/Library/Frameworks/Python.framework/Versions/3.10/lib/python3.10/site-packages/requests/models.py:820\u001b[0m, in \u001b[0;36mResponse.iter_content.<locals>.generate\u001b[0;34m()\u001b[0m\n\u001b[1;32m    818\u001b[0m \u001b[39mif\u001b[39;00m \u001b[39mhasattr\u001b[39m(\u001b[39mself\u001b[39m\u001b[39m.\u001b[39mraw, \u001b[39m\"\u001b[39m\u001b[39mstream\u001b[39m\u001b[39m\"\u001b[39m):\n\u001b[1;32m    819\u001b[0m     \u001b[39mtry\u001b[39;00m:\n\u001b[0;32m--> 820\u001b[0m         \u001b[39myield from\u001b[39;00m \u001b[39mself\u001b[39m\u001b[39m.\u001b[39mraw\u001b[39m.\u001b[39mstream(chunk_size, decode_content\u001b[39m=\u001b[39m\u001b[39mTrue\u001b[39;00m)\n\u001b[1;32m    821\u001b[0m     \u001b[39mexcept\u001b[39;00m ProtocolError \u001b[39mas\u001b[39;00m e:\n\u001b[1;32m    822\u001b[0m         \u001b[39mraise\u001b[39;00m ChunkedEncodingError(e)\n",
      "File \u001b[0;32m/Library/Frameworks/Python.framework/Versions/3.10/lib/python3.10/site-packages/urllib3/response.py:936\u001b[0m, in \u001b[0;36mHTTPResponse.stream\u001b[0;34m(self, amt, decode_content)\u001b[0m\n\u001b[1;32m    934\u001b[0m \u001b[39melse\u001b[39;00m:\n\u001b[1;32m    935\u001b[0m     \u001b[39mwhile\u001b[39;00m \u001b[39mnot\u001b[39;00m is_fp_closed(\u001b[39mself\u001b[39m\u001b[39m.\u001b[39m_fp) \u001b[39mor\u001b[39;00m \u001b[39mlen\u001b[39m(\u001b[39mself\u001b[39m\u001b[39m.\u001b[39m_decoded_buffer) \u001b[39m>\u001b[39m \u001b[39m0\u001b[39m:\n\u001b[0;32m--> 936\u001b[0m         data \u001b[39m=\u001b[39m \u001b[39mself\u001b[39;49m\u001b[39m.\u001b[39;49mread(amt\u001b[39m=\u001b[39;49mamt, decode_content\u001b[39m=\u001b[39;49mdecode_content)\n\u001b[1;32m    938\u001b[0m         \u001b[39mif\u001b[39;00m data:\n\u001b[1;32m    939\u001b[0m             \u001b[39myield\u001b[39;00m data\n",
      "File \u001b[0;32m/Library/Frameworks/Python.framework/Versions/3.10/lib/python3.10/site-packages/urllib3/response.py:879\u001b[0m, in \u001b[0;36mHTTPResponse.read\u001b[0;34m(self, amt, decode_content, cache_content)\u001b[0m\n\u001b[1;32m    876\u001b[0m     \u001b[39mif\u001b[39;00m \u001b[39mlen\u001b[39m(\u001b[39mself\u001b[39m\u001b[39m.\u001b[39m_decoded_buffer) \u001b[39m>\u001b[39m\u001b[39m=\u001b[39m amt:\n\u001b[1;32m    877\u001b[0m         \u001b[39mreturn\u001b[39;00m \u001b[39mself\u001b[39m\u001b[39m.\u001b[39m_decoded_buffer\u001b[39m.\u001b[39mget(amt)\n\u001b[0;32m--> 879\u001b[0m data \u001b[39m=\u001b[39m \u001b[39mself\u001b[39;49m\u001b[39m.\u001b[39;49m_raw_read(amt)\n\u001b[1;32m    881\u001b[0m flush_decoder \u001b[39m=\u001b[39m amt \u001b[39mis\u001b[39;00m \u001b[39mNone\u001b[39;00m \u001b[39mor\u001b[39;00m (amt \u001b[39m!=\u001b[39m \u001b[39m0\u001b[39m \u001b[39mand\u001b[39;00m \u001b[39mnot\u001b[39;00m data)\n\u001b[1;32m    883\u001b[0m \u001b[39mif\u001b[39;00m \u001b[39mnot\u001b[39;00m data \u001b[39mand\u001b[39;00m \u001b[39mlen\u001b[39m(\u001b[39mself\u001b[39m\u001b[39m.\u001b[39m_decoded_buffer) \u001b[39m==\u001b[39m \u001b[39m0\u001b[39m:\n",
      "File \u001b[0;32m/Library/Frameworks/Python.framework/Versions/3.10/lib/python3.10/site-packages/urllib3/response.py:814\u001b[0m, in \u001b[0;36mHTTPResponse._raw_read\u001b[0;34m(self, amt)\u001b[0m\n\u001b[1;32m    811\u001b[0m fp_closed \u001b[39m=\u001b[39m \u001b[39mgetattr\u001b[39m(\u001b[39mself\u001b[39m\u001b[39m.\u001b[39m_fp, \u001b[39m\"\u001b[39m\u001b[39mclosed\u001b[39m\u001b[39m\"\u001b[39m, \u001b[39mFalse\u001b[39;00m)\n\u001b[1;32m    813\u001b[0m \u001b[39mwith\u001b[39;00m \u001b[39mself\u001b[39m\u001b[39m.\u001b[39m_error_catcher():\n\u001b[0;32m--> 814\u001b[0m     data \u001b[39m=\u001b[39m \u001b[39mself\u001b[39;49m\u001b[39m.\u001b[39;49m_fp_read(amt) \u001b[39mif\u001b[39;00m \u001b[39mnot\u001b[39;00m fp_closed \u001b[39melse\u001b[39;00m \u001b[39mb\u001b[39m\u001b[39m\"\u001b[39m\u001b[39m\"\u001b[39m\n\u001b[1;32m    815\u001b[0m     \u001b[39mif\u001b[39;00m amt \u001b[39mis\u001b[39;00m \u001b[39mnot\u001b[39;00m \u001b[39mNone\u001b[39;00m \u001b[39mand\u001b[39;00m amt \u001b[39m!=\u001b[39m \u001b[39m0\u001b[39m \u001b[39mand\u001b[39;00m \u001b[39mnot\u001b[39;00m data:\n\u001b[1;32m    816\u001b[0m         \u001b[39m# Platform-specific: Buggy versions of Python.\u001b[39;00m\n\u001b[1;32m    817\u001b[0m         \u001b[39m# Close the connection when no data is returned\u001b[39;00m\n\u001b[0;32m   (...)\u001b[0m\n\u001b[1;32m    822\u001b[0m         \u001b[39m# not properly close the connection in all cases. There is\u001b[39;00m\n\u001b[1;32m    823\u001b[0m         \u001b[39m# no harm in redundantly calling close.\u001b[39;00m\n\u001b[1;32m    824\u001b[0m         \u001b[39mself\u001b[39m\u001b[39m.\u001b[39m_fp\u001b[39m.\u001b[39mclose()\n",
      "File \u001b[0;32m/Library/Frameworks/Python.framework/Versions/3.10/lib/python3.10/site-packages/urllib3/response.py:799\u001b[0m, in \u001b[0;36mHTTPResponse._fp_read\u001b[0;34m(self, amt)\u001b[0m\n\u001b[1;32m    796\u001b[0m     \u001b[39mreturn\u001b[39;00m buffer\u001b[39m.\u001b[39mgetvalue()\n\u001b[1;32m    797\u001b[0m \u001b[39melse\u001b[39;00m:\n\u001b[1;32m    798\u001b[0m     \u001b[39m# StringIO doesn't like amt=None\u001b[39;00m\n\u001b[0;32m--> 799\u001b[0m     \u001b[39mreturn\u001b[39;00m \u001b[39mself\u001b[39;49m\u001b[39m.\u001b[39;49m_fp\u001b[39m.\u001b[39;49mread(amt) \u001b[39mif\u001b[39;00m amt \u001b[39mis\u001b[39;00m \u001b[39mnot\u001b[39;00m \u001b[39mNone\u001b[39;00m \u001b[39melse\u001b[39;00m \u001b[39mself\u001b[39m\u001b[39m.\u001b[39m_fp\u001b[39m.\u001b[39mread()\n",
      "File \u001b[0;32m/Library/Frameworks/Python.framework/Versions/3.10/lib/python3.10/http/client.py:466\u001b[0m, in \u001b[0;36mHTTPResponse.read\u001b[0;34m(self, amt)\u001b[0m\n\u001b[1;32m    463\u001b[0m \u001b[39mif\u001b[39;00m \u001b[39mself\u001b[39m\u001b[39m.\u001b[39mlength \u001b[39mis\u001b[39;00m \u001b[39mnot\u001b[39;00m \u001b[39mNone\u001b[39;00m \u001b[39mand\u001b[39;00m amt \u001b[39m>\u001b[39m \u001b[39mself\u001b[39m\u001b[39m.\u001b[39mlength:\n\u001b[1;32m    464\u001b[0m     \u001b[39m# clip the read to the \"end of response\"\u001b[39;00m\n\u001b[1;32m    465\u001b[0m     amt \u001b[39m=\u001b[39m \u001b[39mself\u001b[39m\u001b[39m.\u001b[39mlength\n\u001b[0;32m--> 466\u001b[0m s \u001b[39m=\u001b[39m \u001b[39mself\u001b[39;49m\u001b[39m.\u001b[39;49mfp\u001b[39m.\u001b[39;49mread(amt)\n\u001b[1;32m    467\u001b[0m \u001b[39mif\u001b[39;00m \u001b[39mnot\u001b[39;00m s \u001b[39mand\u001b[39;00m amt:\n\u001b[1;32m    468\u001b[0m     \u001b[39m# Ideally, we would raise IncompleteRead if the content-length\u001b[39;00m\n\u001b[1;32m    469\u001b[0m     \u001b[39m# wasn't satisfied, but it might break compatibility.\u001b[39;00m\n\u001b[1;32m    470\u001b[0m     \u001b[39mself\u001b[39m\u001b[39m.\u001b[39m_close_conn()\n",
      "File \u001b[0;32m/Library/Frameworks/Python.framework/Versions/3.10/lib/python3.10/socket.py:705\u001b[0m, in \u001b[0;36mSocketIO.readinto\u001b[0;34m(self, b)\u001b[0m\n\u001b[1;32m    703\u001b[0m \u001b[39mwhile\u001b[39;00m \u001b[39mTrue\u001b[39;00m:\n\u001b[1;32m    704\u001b[0m     \u001b[39mtry\u001b[39;00m:\n\u001b[0;32m--> 705\u001b[0m         \u001b[39mreturn\u001b[39;00m \u001b[39mself\u001b[39;49m\u001b[39m.\u001b[39;49m_sock\u001b[39m.\u001b[39;49mrecv_into(b)\n\u001b[1;32m    706\u001b[0m     \u001b[39mexcept\u001b[39;00m timeout:\n\u001b[1;32m    707\u001b[0m         \u001b[39mself\u001b[39m\u001b[39m.\u001b[39m_timeout_occurred \u001b[39m=\u001b[39m \u001b[39mTrue\u001b[39;00m\n",
      "File \u001b[0;32m/Library/Frameworks/Python.framework/Versions/3.10/lib/python3.10/ssl.py:1274\u001b[0m, in \u001b[0;36mSSLSocket.recv_into\u001b[0;34m(self, buffer, nbytes, flags)\u001b[0m\n\u001b[1;32m   1270\u001b[0m     \u001b[39mif\u001b[39;00m flags \u001b[39m!=\u001b[39m \u001b[39m0\u001b[39m:\n\u001b[1;32m   1271\u001b[0m         \u001b[39mraise\u001b[39;00m \u001b[39mValueError\u001b[39;00m(\n\u001b[1;32m   1272\u001b[0m           \u001b[39m\"\u001b[39m\u001b[39mnon-zero flags not allowed in calls to recv_into() on \u001b[39m\u001b[39m%s\u001b[39;00m\u001b[39m\"\u001b[39m \u001b[39m%\u001b[39m\n\u001b[1;32m   1273\u001b[0m           \u001b[39mself\u001b[39m\u001b[39m.\u001b[39m\u001b[39m__class__\u001b[39m)\n\u001b[0;32m-> 1274\u001b[0m     \u001b[39mreturn\u001b[39;00m \u001b[39mself\u001b[39;49m\u001b[39m.\u001b[39;49mread(nbytes, buffer)\n\u001b[1;32m   1275\u001b[0m \u001b[39melse\u001b[39;00m:\n\u001b[1;32m   1276\u001b[0m     \u001b[39mreturn\u001b[39;00m \u001b[39msuper\u001b[39m()\u001b[39m.\u001b[39mrecv_into(buffer, nbytes, flags)\n",
      "File \u001b[0;32m/Library/Frameworks/Python.framework/Versions/3.10/lib/python3.10/ssl.py:1130\u001b[0m, in \u001b[0;36mSSLSocket.read\u001b[0;34m(self, len, buffer)\u001b[0m\n\u001b[1;32m   1128\u001b[0m \u001b[39mtry\u001b[39;00m:\n\u001b[1;32m   1129\u001b[0m     \u001b[39mif\u001b[39;00m buffer \u001b[39mis\u001b[39;00m \u001b[39mnot\u001b[39;00m \u001b[39mNone\u001b[39;00m:\n\u001b[0;32m-> 1130\u001b[0m         \u001b[39mreturn\u001b[39;00m \u001b[39mself\u001b[39;49m\u001b[39m.\u001b[39;49m_sslobj\u001b[39m.\u001b[39;49mread(\u001b[39mlen\u001b[39;49m, buffer)\n\u001b[1;32m   1131\u001b[0m     \u001b[39melse\u001b[39;00m:\n\u001b[1;32m   1132\u001b[0m         \u001b[39mreturn\u001b[39;00m \u001b[39mself\u001b[39m\u001b[39m.\u001b[39m_sslobj\u001b[39m.\u001b[39mread(\u001b[39mlen\u001b[39m)\n",
      "\u001b[0;31mKeyboardInterrupt\u001b[0m: "
     ]
    }
   ],
   "source": [
    "data_extractor = extract.Data_Extractor()\n",
    "data_extractor.create_form4()"
   ]
  },
  {
   "cell_type": "markdown",
   "metadata": {},
   "source": [
    "### Create labels"
   ]
  },
  {
   "cell_type": "code",
   "execution_count": 4,
   "metadata": {},
   "outputs": [
    {
     "name": "stdout",
     "output_type": "stream",
     "text": [
      "========== Required labelled files present ==========\n",
      "========== Skip data label creation ==========\n",
      "========== Reading successful ==========\n"
     ]
    }
   ],
   "source": [
    "# Create data labels if missing\n",
    "label_data_creator =  labels.Label_Data_Creator()\n",
    "label_data_creator.create_labels()"
   ]
  },
  {
   "cell_type": "markdown",
   "metadata": {},
   "source": [
    "### Create features"
   ]
  },
  {
   "cell_type": "code",
   "execution_count": 4,
   "metadata": {},
   "outputs": [
    {
     "name": "stdout",
     "output_type": "stream",
     "text": [
      "=== Final features file present ===\n"
     ]
    }
   ],
   "source": [
    "feature_data_creator = features.Feature_Data_Creator()\n",
    "feature_data_creator.create_features()"
   ]
  },
  {
   "cell_type": "markdown",
   "metadata": {},
   "source": [
    "### Create training and testing data"
   ]
  },
  {
   "cell_type": "code",
   "execution_count": 6,
   "metadata": {},
   "outputs": [
    {
     "name": "stdout",
     "output_type": "stream",
     "text": [
      "=== Training or Testing file not found. Begin creating based on quantile: 0.7\n",
      "=== Saving Training and Testing ===\n"
     ]
    }
   ],
   "source": [
    "feature_data_creator.create_training_testing()"
   ]
  },
  {
   "cell_type": "markdown",
   "metadata": {},
   "source": [
    "___\n",
    "## Section 2. Modelling, Training and Validation\n",
    "___"
   ]
  },
  {
   "cell_type": "code",
   "execution_count": 5,
   "metadata": {},
   "outputs": [
    {
     "name": "stdout",
     "output_type": "stream",
     "text": [
      "features:\n",
      "['js_bin', 's_bin', 'b_bin', 'jb_bin', 'ob_bin', 'g_bin', 'gift', 'distribution', 'charity', 'price', 'number', 'ball', 'pursuant', '10b5-1', '16b-3', 'lobbyist_score_final', 'total_senate_connections', 'total_house_connections', 'combined_seniority_score', 'PI_combined_total', 'net_trading_intensity', 'net_trading_amt', 'relative_trade_size_to_self', 'beneficial_ownership_score', 'title_score', 'TRANS_TIMELINESS_clean', 'execution_timeliness', 'filing_lag_days', 'filing_timeliness', 'is_lobby', 'has_lobby', 'has_donate', 'important_connections', 'full_congress_connections', 'sen_important_connections', 'sen_full_congress_connections', 'sen_t2_full_congress_connections', 'sen_t1_important_connections', 'sen_t1_full_congress_connections', 'house_t2_important_connections', 'house_t2_full_congress_connections', 'house_t1_important_connections', 'house_t1_full_congress_connections']\n"
     ]
    }
   ],
   "source": [
    "print(\"features:\")\n",
    "print(feature_data_creator.features)"
   ]
  },
  {
   "cell_type": "markdown",
   "metadata": {},
   "source": [
    "___\n",
    "## Compare results\n",
    "___"
   ]
  },
  {
   "cell_type": "markdown",
   "metadata": {},
   "source": [
    "# DELETE ALL BELOW"
   ]
  },
  {
   "cell_type": "code",
   "execution_count": 6,
   "metadata": {},
   "outputs": [],
   "source": [
    "from path_location import folder_location\n",
    "\n",
    "labels = pd.read_csv(f'{folder_location.PROCESSED_DATA_FOLDER}/{folder_location.ABNORMAL_CSV}')"
   ]
  },
  {
   "cell_type": "code",
   "execution_count": 7,
   "metadata": {},
   "outputs": [],
   "source": [
    "features = pd.read_csv(f'{folder_location.PROCESSED_DATA_FOLDER}/{folder_location.FULL_FEATURES_FILE}')"
   ]
  },
  {
   "cell_type": "code",
   "execution_count": 9,
   "metadata": {},
   "outputs": [
    {
     "data": {
      "text/plain": [
       "['TRANS_SK',\n",
       " 'ACCESSION_NUMBER',\n",
       " 'SECURITY_TITLE',\n",
       " 'TRANS_DATE',\n",
       " 'DEEMED_EXECUTION_DATE',\n",
       " 'TRANS_CODE',\n",
       " 'EQUITY_SWAP_INVOLVED',\n",
       " 'TRANS_TIMELINESS',\n",
       " 'TRANS_SHARES',\n",
       " 'TRANS_PRICEPERSHARE',\n",
       " 'TRANS_ACQUIRED_DISP_CD',\n",
       " 'SHRS_OWND_FOLWNG_TRANS',\n",
       " 'DIRECT_INDIRECT_OWNERSHIP',\n",
       " 'NATURE_OF_OWNERSHIP',\n",
       " 'trans_amt',\n",
       " 'FILING_DATE',\n",
       " 'PERIOD_OF_REPORT',\n",
       " 'ISSUERCIK',\n",
       " 'ISSUERNAME',\n",
       " 'ISSUERTRADINGSYMBOL',\n",
       " 'RPTOWNERCIK',\n",
       " 'NUM_RPTOWNERCIK',\n",
       " 'RPTOWNERNAME_;',\n",
       " 'RPTOWNER_RELATIONSHIP_;',\n",
       " 'RPTOWNER_TITLE_#',\n",
       " 'clean_ticker',\n",
       " 'is_weird_ticker',\n",
       " 'PERMNO',\n",
       " 'date_x',\n",
       " 'VOL',\n",
       " 'PRC',\n",
       " 'RET',\n",
       " 'TICKER',\n",
       " 'date_y',\n",
       " 'actual_ret',\n",
       " 'b_mkt',\n",
       " 'risk_free_rate',\n",
       " 'expected_ret',\n",
       " 'abnormal_ret',\n",
       " 'CAR_5_before',\n",
       " 'CAR_5_after',\n",
       " 'CAR_30_before',\n",
       " 'CAR_30_after',\n",
       " 'CAR_60_before',\n",
       " 'CAR_60_after',\n",
       " 'CAR_120_before',\n",
       " 'CAR_120_after',\n",
       " 'security_category',\n",
       " 'effective_CAR_30_after',\n",
       " 'effective_CAR_60_after',\n",
       " 'effective_CAR_120_after',\n",
       " 'local_score_30',\n",
       " 'n_local_30',\n",
       " 'isolation_raw_30',\n",
       " 'local_mean_30',\n",
       " 'local_std_30',\n",
       " 'n_local_unq_30',\n",
       " 'local_score_60',\n",
       " 'n_local_60',\n",
       " 'isolation_raw_60',\n",
       " 'local_mean_60',\n",
       " 'local_std_60',\n",
       " 'n_local_unq_60',\n",
       " 'local_score_120',\n",
       " 'n_local_120',\n",
       " 'isolation_raw_120',\n",
       " 'local_mean_120',\n",
       " 'local_std_120',\n",
       " 'n_local_unq_120',\n",
       " 'isolation_z_30',\n",
       " 'isolation_z_60',\n",
       " 'isolation_z_120',\n",
       " 'anomaly_score_30',\n",
       " 'anomaly_score_60',\n",
       " 'anomaly_score_120',\n",
       " 'local_score_30_sig',\n",
       " 'isolation_z_30_sig',\n",
       " 'anomaly_score_30_sig',\n",
       " 'local_score_60_sig',\n",
       " 'isolation_z_60_sig',\n",
       " 'anomaly_score_60_sig',\n",
       " 'local_score_120_sig',\n",
       " 'isolation_z_120_sig',\n",
       " 'anomaly_score_120_sig',\n",
       " 'trader_mean_car_30_x',\n",
       " 'trader_mean_car_60_x',\n",
       " 'trader_mean_car_120_x',\n",
       " 'trader_mean_car_30_y',\n",
       " 'trader_mean_car_60_y',\n",
       " 'trader_mean_car_120_y',\n",
       " 'trader_mean_volume',\n",
       " 'external_validation',\n",
       " 'accession_insider_volume',\n",
       " 'volume_mkt_ratio',\n",
       " 'volume_mkt_z',\n",
       " 'volume_mkt_sig',\n",
       " 'ticker_total_insider_shares',\n",
       " 'volume_peer_ratio',\n",
       " 'volume_peer_z',\n",
       " 'volume_peer_sig',\n",
       " 'turnover_ratio',\n",
       " 'turnover_z',\n",
       " 'turnover_sig',\n",
       " 'cumulative_turnover',\n",
       " 'snorkel_prob',\n",
       " 'snorkel_pred',\n",
       " 'best_threshold',\n",
       " 'y_pred']"
      ]
     },
     "execution_count": 9,
     "metadata": {},
     "output_type": "execute_result"
    }
   ],
   "source": [
    "list(labels.columns)"
   ]
  },
  {
   "cell_type": "code",
   "execution_count": 11,
   "metadata": {},
   "outputs": [
    {
     "data": {
      "text/plain": [
       "['Unnamed: 0',\n",
       " 'TRANS_SK',\n",
       " 'ACCESSION_NUMBER',\n",
       " 'SECURITY_TITLE',\n",
       " 'TRANS_DATE',\n",
       " 'DEEMED_EXECUTION_DATE',\n",
       " 'TRANS_CODE',\n",
       " 'EQUITY_SWAP_INVOLVED',\n",
       " 'TRANS_TIMELINESS',\n",
       " 'TRANS_SHARES',\n",
       " 'TRANS_PRICEPERSHARE',\n",
       " 'TRANS_ACQUIRED_DISP_CD',\n",
       " 'SHRS_OWND_FOLWNG_TRANS',\n",
       " 'DIRECT_INDIRECT_OWNERSHIP',\n",
       " 'NATURE_OF_OWNERSHIP',\n",
       " 'trans_amt',\n",
       " 'FILING_DATE',\n",
       " 'PERIOD_OF_REPORT',\n",
       " 'ISSUERCIK',\n",
       " 'ISSUERNAME',\n",
       " 'ISSUERTRADINGSYMBOL',\n",
       " 'RPTOWNERCIK',\n",
       " 'NUM_RPTOWNERCIK',\n",
       " 'RPTOWNERNAME_;',\n",
       " 'RPTOWNER_RELATIONSHIP_;',\n",
       " 'RPTOWNER_TITLE_#',\n",
       " 'clean_ticker',\n",
       " 'is_weird_ticker',\n",
       " 'PERMNO',\n",
       " 'date_x',\n",
       " 'VOL',\n",
       " 'PRC',\n",
       " 'RET',\n",
       " 'TICKER',\n",
       " 'date_y',\n",
       " 'actual_ret',\n",
       " 'b_mkt',\n",
       " 'risk_free_rate',\n",
       " 'expected_ret',\n",
       " 'abnormal_ret',\n",
       " 'CAR_5_before',\n",
       " 'CAR_5_after',\n",
       " 'CAR_30_before',\n",
       " 'CAR_30_after',\n",
       " 'CAR_60_before',\n",
       " 'CAR_60_after',\n",
       " 'CAR_120_before',\n",
       " 'CAR_120_after',\n",
       " 'security_category',\n",
       " 'effective_CAR_30_after',\n",
       " 'effective_CAR_60_after',\n",
       " 'effective_CAR_120_after',\n",
       " 'local_score_30',\n",
       " 'n_local_30',\n",
       " 'isolation_raw_30',\n",
       " 'local_mean_30',\n",
       " 'local_std_30',\n",
       " 'n_local_unq_30',\n",
       " 'local_score_60',\n",
       " 'n_local_60',\n",
       " 'isolation_raw_60',\n",
       " 'local_mean_60',\n",
       " 'local_std_60',\n",
       " 'n_local_unq_60',\n",
       " 'local_score_120',\n",
       " 'n_local_120',\n",
       " 'isolation_raw_120',\n",
       " 'local_mean_120',\n",
       " 'local_std_120',\n",
       " 'n_local_unq_120',\n",
       " 'isolation_z_30',\n",
       " 'isolation_z_60',\n",
       " 'isolation_z_120',\n",
       " 'anomaly_score_30',\n",
       " 'anomaly_score_60',\n",
       " 'anomaly_score_120',\n",
       " 'local_score_30_sig',\n",
       " 'isolation_z_30_sig',\n",
       " 'anomaly_score_30_sig',\n",
       " 'local_score_60_sig',\n",
       " 'isolation_z_60_sig',\n",
       " 'anomaly_score_60_sig',\n",
       " 'local_score_120_sig',\n",
       " 'isolation_z_120_sig',\n",
       " 'anomaly_score_120_sig',\n",
       " 'trader_mean_car_30_x',\n",
       " 'trader_mean_car_60_x',\n",
       " 'trader_mean_car_120_x',\n",
       " 'trader_mean_car_30_y',\n",
       " 'trader_mean_car_60_y',\n",
       " 'trader_mean_car_120_y',\n",
       " 'trader_mean_volume',\n",
       " 'external_validation',\n",
       " 'accession_insider_volume',\n",
       " 'volume_mkt_ratio',\n",
       " 'volume_mkt_z',\n",
       " 'volume_mkt_sig',\n",
       " 'ticker_total_insider_shares',\n",
       " 'volume_peer_ratio',\n",
       " 'volume_peer_z',\n",
       " 'volume_peer_sig',\n",
       " 'turnover_ratio',\n",
       " 'turnover_z',\n",
       " 'turnover_sig',\n",
       " 'cumulative_turnover',\n",
       " 'snorkel_prob',\n",
       " 'snorkel_pred',\n",
       " 'best_threshold',\n",
       " 'y_pred',\n",
       " 'js_bin',\n",
       " 's_bin',\n",
       " 'b_bin',\n",
       " 'jb_bin',\n",
       " 'ob_bin',\n",
       " 'g_bin',\n",
       " 'gift',\n",
       " 'distribution',\n",
       " 'charity',\n",
       " 'price',\n",
       " 'number',\n",
       " 'ball',\n",
       " 'pursuant',\n",
       " '10b5-1',\n",
       " '16b-3',\n",
       " 'lobbyist_score_final',\n",
       " 'total_senate_connections',\n",
       " 'total_house_connections',\n",
       " 'combined_seniority_score',\n",
       " 'PI_combined_total',\n",
       " 'net_trading_intensity',\n",
       " 'net_trading_amt',\n",
       " 'relative_trade_size_to_self',\n",
       " 'relative_trade_size_to_others',\n",
       " 'beneficial_ownership_score',\n",
       " 'title_score']"
      ]
     },
     "execution_count": 11,
     "metadata": {},
     "output_type": "execute_result"
    }
   ],
   "source": [
    "list(features.columns)"
   ]
  },
  {
   "cell_type": "code",
   "execution_count": 13,
   "metadata": {},
   "outputs": [
    {
     "data": {
      "text/plain": [
       "count    3.171001e+06\n",
       "mean     2.500188e-02\n",
       "std      2.435473e-01\n",
       "min      0.000000e+00\n",
       "25%      0.000000e+00\n",
       "50%      0.000000e+00\n",
       "75%      0.000000e+00\n",
       "max      2.200000e+01\n",
       "Name: gift, dtype: float64"
      ]
     },
     "execution_count": 13,
     "metadata": {},
     "output_type": "execute_result"
    }
   ],
   "source": [
    "features['gift'].describe()"
   ]
  }
 ],
 "metadata": {
  "kernelspec": {
   "display_name": "Python 3",
   "language": "python",
   "name": "python3"
  },
  "language_info": {
   "codemirror_mode": {
    "name": "ipython",
    "version": 3
   },
   "file_extension": ".py",
   "mimetype": "text/x-python",
   "name": "python",
   "nbconvert_exporter": "python",
   "pygments_lexer": "ipython3",
   "version": "3.10.11"
  }
 },
 "nbformat": 4,
 "nbformat_minor": 2
}
