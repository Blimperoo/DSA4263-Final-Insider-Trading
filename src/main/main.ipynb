{
 "cells": [
  {
   "cell_type": "markdown",
   "metadata": {},
   "source": [
    "## Ensure that you have relevant data in data_untracked"
   ]
  },
  {
   "cell_type": "code",
   "execution_count": null,
   "metadata": {},
   "outputs": [
    {
     "ename": "AttributeError",
     "evalue": "module 'create_features.features' has no attribute 'GRAPH_FEATURE'",
     "output_type": "error",
     "traceback": [
      "\u001b[0;31m---------------------------------------------------------------------------\u001b[0m",
      "\u001b[0;31mAttributeError\u001b[0m                            Traceback (most recent call last)",
      "Cell \u001b[0;32mIn[1], line 13\u001b[0m\n\u001b[1;32m     11\u001b[0m \u001b[38;5;28;01mfrom\u001b[39;00m \u001b[38;5;21;01mextract_data\u001b[39;00m \u001b[38;5;28;01mimport\u001b[39;00m extract \n\u001b[1;32m     12\u001b[0m \u001b[38;5;28;01mfrom\u001b[39;00m \u001b[38;5;21;01mcreate_features\u001b[39;00m \u001b[38;5;28;01mimport\u001b[39;00m features\n\u001b[0;32m---> 13\u001b[0m \u001b[38;5;28;01mfrom\u001b[39;00m \u001b[38;5;21;01mpreprocess_feature\u001b[39;00m \u001b[38;5;28;01mimport\u001b[39;00m preprocess\n\u001b[1;32m     14\u001b[0m \u001b[38;5;66;03m# from create_data import create_features\u001b[39;00m\n\u001b[1;32m     16\u001b[0m \u001b[38;5;28;01mimport\u001b[39;00m \u001b[38;5;21;01mwarnings\u001b[39;00m\n",
      "File \u001b[0;32m~/Documents/Projects/DSA4263_clean/DSA4263-Final-Insider-Trading/src/preprocess_feature/preprocess.py:31\u001b[0m\n\u001b[1;32m     29\u001b[0m TRANSACTION_CODE_FEATURE \u001b[38;5;241m=\u001b[39m features\u001b[38;5;241m.\u001b[39mTRANSACTION_CODE_FEATURE\n\u001b[1;32m     30\u001b[0m FOOTNOTE_FEATURE \u001b[38;5;241m=\u001b[39m features\u001b[38;5;241m.\u001b[39mFOOTNOTE_FEATURE\n\u001b[0;32m---> 31\u001b[0m GRAPH_FEATURE \u001b[38;5;241m=\u001b[39m \u001b[43mfeatures\u001b[49m\u001b[38;5;241;43m.\u001b[39;49m\u001b[43mGRAPH_FEATURE\u001b[49m\n\u001b[1;32m     32\u001b[0m OTHER_FEATURE \u001b[38;5;241m=\u001b[39m features\u001b[38;5;241m.\u001b[39mOTHER_FEATURE\n\u001b[1;32m     33\u001b[0m NETWORK_TIME_IND_FEATURE \u001b[38;5;241m=\u001b[39m features\u001b[38;5;241m.\u001b[39mNETWORK_TIME_IND_FEATURE\n",
      "\u001b[0;31mAttributeError\u001b[0m: module 'create_features.features' has no attribute 'GRAPH_FEATURE'"
     ]
    }
   ],
   "source": [
    "import numpy as np\n",
    "import pandas as pd\n",
    "import sys\n",
    "import os\n",
    "\n",
    "parent_dir = os.path.dirname(os.getcwd())\n",
    "if parent_dir not in sys.path:\n",
    "    sys.path.append(parent_dir)\n",
    "    \n",
    "from create_labels import labels\n",
    "from extract_data import extract \n",
    "from create_features import features\n",
    "from preprocess_feature import preprocess\n",
    "\n",
    "import warnings\n",
    "warnings.filterwarnings(\"ignore\")\n",
    "pd.set_option('display.max_columns', None)"
   ]
  },
  {
   "cell_type": "markdown",
   "metadata": {},
   "source": [
    "### Download below required if creating footnote analysis file"
   ]
  },
  {
   "cell_type": "code",
   "execution_count": 2,
   "metadata": {},
   "outputs": [],
   "source": [
    "# nltk.download('stopwords')\n",
    "# nltk.download('punkt')\n",
    "# nltk.download(\"wordnet\")\n",
    "# nltk.download(\"averaged_perceptron_tagger\")"
   ]
  },
  {
   "cell_type": "markdown",
   "metadata": {},
   "source": [
    "___\n",
    "## Section 1. Create Data\n",
    "___"
   ]
  },
  {
   "cell_type": "markdown",
   "metadata": {},
   "source": [
    "### Extract form 4 data if missing"
   ]
  },
  {
   "cell_type": "code",
   "execution_count": null,
   "metadata": {},
   "outputs": [],
   "source": [
    "data_extractor = extract.Data_Extractor()\n",
    "data_extractor.create_form4()"
   ]
  },
  {
   "cell_type": "markdown",
   "metadata": {},
   "source": [
    "### Create labels"
   ]
  },
  {
   "cell_type": "code",
   "execution_count": null,
   "metadata": {},
   "outputs": [
    {
     "name": "stdout",
     "output_type": "stream",
     "text": [
      "========== Required labelled files present ==========\n",
      "========== Skip data label creation ==========\n",
      "========== Reading successful ==========\n"
     ]
    }
   ],
   "source": [
    "# Create data labels if missing\n",
    "label_data_creator =  labels.Label_Data_Creator()\n",
    "label_data_creator.create_labels()"
   ]
  },
  {
   "cell_type": "markdown",
   "metadata": {},
   "source": [
    "### Create features"
   ]
  },
  {
   "cell_type": "code",
   "execution_count": null,
   "metadata": {},
   "outputs": [
    {
     "name": "stdout",
     "output_type": "stream",
     "text": [
      "=== Final features file not found. Begin creating ===\n",
      "=== Transaction Key file is found. Extracting ===\n",
      "=== Footnote Key file is found. Extracting ===\n",
      "=== Graph Key file is found. Extracting ===\n",
      "=== Network time_independent_features file is found. Extracting ===\n",
      "=== Network time_dependent_features file is found. Extracting ===\n",
      "=== Other Features Key file is found. Extracting ===\n",
      "=== Saving file ===\n"
     ]
    }
   ],
   "source": [
    "feature_data_creator = features.Feature_Data_Creator()\n",
    "feature_data_creator.create_features()"
   ]
  },
  {
   "cell_type": "markdown",
   "metadata": {},
   "source": [
    "### Create training and testing data"
   ]
  },
  {
   "cell_type": "code",
   "execution_count": null,
   "metadata": {},
   "outputs": [
    {
     "name": "stdout",
     "output_type": "stream",
     "text": [
      "=== Training or Testing file not found. Begin creating based on quantile: 0.7\n",
      "=== Saving Training and Testing ===\n"
     ]
    }
   ],
   "source": [
    "feature_preprocessor = preprocess.Feature_Preprocessor()\n",
    "feature_preprocessor.extract()\n",
    "feature_preprocessor.create_training_testing()"
   ]
  },
  {
   "cell_type": "code",
   "execution_count": null,
   "metadata": {},
   "outputs": [],
   "source": [
    "feature_preprocessor_baseline = preprocess.Feature_Preprocessor()\n",
    "feature_preprocessor_baseline.extract([\"TRANS_CODE\"])\n",
    "feature_preprocessor.baseline_create_training_testing()"
   ]
  },
  {
   "cell_type": "markdown",
   "metadata": {},
   "source": [
    "___\n",
    "## Section 2. Modelling, Training and Validation\n",
    "___"
   ]
  },
  {
   "cell_type": "code",
   "execution_count": 21,
   "metadata": {},
   "outputs": [
    {
     "name": "stdout",
     "output_type": "stream",
     "text": [
      "features:\n",
      "['js_bin', 's_bin', 'b_bin', 'jb_bin', 'ob_bin', 'g_bin', 'gift', 'distribution', 'charity', 'price', 'number', 'ball', 'pursuant', '10b5-1', '16b-3', 'lobbyist_score_final', 'total_senate_connections', 'total_house_connections', 'combined_seniority_score', 'PI_combined_total', 'net_trading_intensity', 'net_trading_amt', 'relative_trade_size_to_self', 'relative_trade_size_to_others', 'beneficial_ownership_score', 'js_bin', 's_bin', 'b_bin', 'jb_bin', 'ob_bin', 'g_bin', 'gift', 'distribution', 'charity', 'price', 'number', 'ball', 'pursuant', '10b5-1', '16b-3', 'lobbyist_score_final', 'total_senate_connections', 'total_house_connections', 'combined_seniority_score', 'PI_combined_total', 'net_trading_intensity', 'net_trading_amt', 'relative_trade_size_to_self', 'relative_trade_size_to_others', 'beneficial_ownership_score', 'js_bin', 's_bin', 'b_bin', 'jb_bin', 'ob_bin', 'g_bin', 'gift', 'distribution', 'charity', 'price', 'number', 'ball', 'pursuant', '10b5-1', '16b-3', 'lobbyist_score_final', 'total_senate_connections', 'total_house_connections', 'combined_seniority_score', 'PI_combined_total', 'net_trading_intensity', 'net_trading_amt', 'relative_trade_size_to_self', 'relative_trade_size_to_others', 'beneficial_ownership_score']\n"
     ]
    }
   ],
   "source": [
    "print(\"features:\")\n",
    "print(feature_data_creator.features)"
   ]
  },
  {
   "cell_type": "markdown",
   "metadata": {},
   "source": [
    "___\n",
    "## Compare results\n",
    "___"
   ]
  }
 ],
 "metadata": {
  "kernelspec": {
   "display_name": "Python 3",
   "language": "python",
   "name": "python3"
  },
  "language_info": {
   "codemirror_mode": {
    "name": "ipython",
    "version": 3
   },
   "file_extension": ".py",
   "mimetype": "text/x-python",
   "name": "python",
   "nbconvert_exporter": "python",
   "pygments_lexer": "ipython3",
   "version": "3.11.6"
  }
 },
 "nbformat": 4,
 "nbformat_minor": 2
}
