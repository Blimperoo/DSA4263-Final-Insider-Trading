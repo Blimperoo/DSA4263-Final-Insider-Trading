{
 "cells": [
  {
   "cell_type": "markdown",
   "metadata": {},
   "source": [
    "## Ensure that you have relevant data in data_untracked"
   ]
  },
  {
   "cell_type": "code",
   "execution_count": 1,
   "metadata": {},
   "outputs": [],
   "source": [
    "import numpy as np\n",
    "import pandas as pd\n",
    "import sys\n",
    "import os\n",
    "\n",
    "parent_dir = os.path.dirname(os.getcwd())\n",
    "if parent_dir not in sys.path:\n",
    "    sys.path.append(parent_dir)\n",
    "    \n",
    "from create_labels import labels\n",
    "from extract_data import extract \n",
    "from create_features import features\n",
    "from preprocess_feature import preprocess\n",
    "\n",
    "import warnings\n",
    "warnings.filterwarnings(\"ignore\")\n",
    "pd.set_option('display.max_columns', None)"
   ]
  },
  {
   "cell_type": "markdown",
   "metadata": {},
   "source": [
    "### Download below required if creating footnote analysis file"
   ]
  },
  {
   "cell_type": "code",
   "execution_count": 3,
   "metadata": {},
   "outputs": [],
   "source": [
    "# nltk.download('stopwords')\n",
    "# nltk.download('punkt')\n",
    "# nltk.download(\"wordnet\")\n",
    "# nltk.download(\"averaged_perceptron_tagger\")"
   ]
  },
  {
   "cell_type": "markdown",
   "metadata": {},
   "source": [
    "___\n",
    "## Section 1. Create Data\n",
    "___"
   ]
  },
  {
   "cell_type": "markdown",
   "metadata": {},
   "source": [
    "### Extract form 4 data if missing"
   ]
  },
  {
   "cell_type": "code",
   "execution_count": 3,
   "metadata": {},
   "outputs": [
    {
     "name": "stdout",
     "output_type": "stream",
     "text": [
      "========== Required SEC files present ==========\n",
      "========== Required merged transactions present ==========\n"
     ]
    }
   ],
   "source": [
    "data_extractor = extract.Data_Extractor()\n",
    "data_extractor.create_form4()\n",
    "data_extractor.merge_form4()"
   ]
  },
  {
   "cell_type": "markdown",
   "metadata": {},
   "source": [
    "### Create labels"
   ]
  },
  {
   "cell_type": "code",
   "execution_count": 4,
   "metadata": {},
   "outputs": [
    {
     "name": "stdout",
     "output_type": "stream",
     "text": [
      "========== Required labelled files present ==========\n",
      "========== Skip data label creation ==========\n",
      "========== Reading of merged_txns_SNORKEL.csv successful with shape (3171001, 108) ==========\n"
     ]
    }
   ],
   "source": [
    "# Create data labels if missing\n",
    "label_data_creator = labels.Label_Data_Creator()\n",
    "label_data_creator.create_labels()"
   ]
  },
  {
   "cell_type": "markdown",
   "metadata": {},
   "source": [
    "### Create features"
   ]
  },
  {
   "cell_type": "code",
   "execution_count": 5,
   "metadata": {},
   "outputs": [
    {
     "name": "stdout",
     "output_type": "stream",
     "text": [
      "=== Final features file not found. Begin creating ===\n",
      "=== Network time_independent_features file is found. Extracting ===\n",
      "=== Network time_dependent_features file is found. Extracting ===\n",
      "=== Network zscore_features file is found. Extracting ===\n",
      "=== Transaction Key file is found. Extracting ===\n",
      "=== Footnote Key file is found. Extracting ===\n",
      "=== Other Features Key file is found. Extracting ===\n",
      "=== Removing unwanted rows ===\n",
      "=== Before removal length 3171001 === \n",
      "=== After removal length 1786525 === \n",
      "=== Saving file ===\n"
     ]
    }
   ],
   "source": [
    "feature_data_creator = features.Feature_Data_Creator()\n",
    "feature_data_creator.create_features()"
   ]
  },
  {
   "cell_type": "markdown",
   "metadata": {},
   "source": [
    "### Create training and testing data"
   ]
  },
  {
   "cell_type": "code",
   "execution_count": 6,
   "metadata": {},
   "outputs": [
    {
     "name": "stdout",
     "output_type": "stream",
     "text": [
      "preprocess is_lobby with type object\n",
      "preprocess has_lobby with type object\n",
      "preprocess has_donate with type object\n",
      "preprocess NODEID with type float64\n",
      "preprocess important_connections with type int64\n",
      "preprocess full_congress_connections with type int64\n",
      "preprocess house_t2_important_connections with type int64\n",
      "preprocess house_t2_full_congress_connections with type int64\n",
      "preprocess house_t1_important_connections with type int64\n",
      "preprocess house_t1_full_congress_connections with type int64\n",
      "preprocess sen_important_connections with type int64\n",
      "preprocess sen_full_congress_connections with type int64\n",
      "preprocess sen_t2_important_connections with type int64\n",
      "preprocess sen_t2_full_congress_connections with type int64\n",
      "preprocess sen_t1_important_connections with type int64\n",
      "preprocess sen_t1_full_congress_connections with type int64\n",
      "preprocess full_congress_connections_z with type float64\n",
      "preprocess sen_full_congress_connections_z with type float64\n",
      "preprocess sen_t2_full_congress_connections_z with type float64\n",
      "preprocess house_t2_full_congress_connections_z with type float64\n",
      "preprocess sen_important_connections_z with type float64\n",
      "preprocess sen_t2_important_connections_z with type float64\n",
      "preprocess important_connections_z with type float64\n",
      "preprocess house_t2_important_connections_z with type float64\n",
      "preprocess full_congress_connections_z_cat with type object\n",
      "preprocess full_congress_connections_z_is_low with type float64\n",
      "preprocess full_congress_connections_z_is_high with type float64\n",
      "preprocess sen_full_congress_connections_z_cat with type object\n",
      "preprocess sen_full_congress_connections_z_is_low with type float64\n",
      "preprocess sen_full_congress_connections_z_is_high with type float64\n",
      "preprocess sen_t2_full_congress_connections_z_cat with type object\n",
      "preprocess sen_t2_full_congress_connections_z_is_low with type float64\n",
      "preprocess sen_t2_full_congress_connections_z_is_high with type float64\n",
      "preprocess house_t2_full_congress_connections_z_cat with type object\n",
      "preprocess house_t2_full_congress_connections_z_is_low with type float64\n",
      "preprocess house_t2_full_congress_connections_z_is_high with type float64\n",
      "preprocess sen_important_connections_z_cat with type object\n",
      "preprocess sen_important_connections_z_is_low with type float64\n",
      "preprocess sen_important_connections_z_is_high with type float64\n",
      "preprocess sen_t2_important_connections_z_cat with type object\n",
      "preprocess sen_t2_important_connections_z_is_low with type float64\n",
      "preprocess sen_t2_important_connections_z_is_high with type float64\n",
      "preprocess important_connections_z_cat with type object\n",
      "preprocess important_connections_z_is_low with type float64\n",
      "preprocess important_connections_z_is_high with type float64\n",
      "preprocess house_t2_important_connections_z_cat with type object\n",
      "preprocess house_t2_important_connections_z_is_low with type float64\n",
      "preprocess house_t2_important_connections_z_is_high with type float64\n",
      "preprocess js_bin with type int64\n",
      "preprocess s_bin with type int64\n",
      "preprocess b_bin with type int64\n",
      "preprocess jb_bin with type int64\n",
      "preprocess ob_bin with type int64\n",
      "preprocess gb_bin with type int64\n",
      "preprocess gift with type float64\n",
      "preprocess distribution with type float64\n",
      "preprocess charity with type float64\n",
      "preprocess price with type float64\n",
      "preprocess number with type float64\n",
      "preprocess ball with type float64\n",
      "preprocess pursuant with type float64\n",
      "preprocess 10b5-1 with type float64\n",
      "preprocess 16b-3 with type float64\n",
      "preprocess net_trading_intensity with type float64\n",
      "preprocess net_trading_amt with type float64\n",
      "preprocess relative_trade_size_to_self with type float64\n",
      "preprocess beneficial_ownership_score with type int64\n",
      "preprocess title_score with type int64\n",
      "preprocess TRANS_TIMELINESS_clean with type object\n",
      "preprocess execution_timeliness with type object\n",
      "preprocess filing_lag_days with type int64\n",
      "preprocess filing_timeliness with type object\n",
      "=== Begin creating based on quantile: 0.8\n",
      "=== Saving Training and Testing ===\n"
     ]
    }
   ],
   "source": [
    "feature_preprocessor = preprocess.Feature_Preprocessor()\n",
    "feature_preprocessor.extract()\n",
    "feature_preprocessor.create_training_testing()"
   ]
  },
  {
   "cell_type": "code",
   "execution_count": 7,
   "metadata": {},
   "outputs": [
    {
     "name": "stdout",
     "output_type": "stream",
     "text": [
      "preprocess TRANS_CODE with type object\n",
      "=== Begin creating based on quantile: 0.8\n",
      "=== Saving baseline Training and Testing ===\n"
     ]
    }
   ],
   "source": [
    "feature_preprocessor_baseline = preprocess.Feature_Preprocessor()\n",
    "feature_preprocessor_baseline.extract([\"TRANS_CODE\"])\n",
    "feature_preprocessor.baseline_create_training_testing()"
   ]
  },
  {
   "cell_type": "markdown",
   "metadata": {},
   "source": [
    "___\n",
    "## Section 2. Modelling, Training and Validation\n",
    "___"
   ]
  },
  {
   "cell_type": "code",
   "execution_count": 8,
   "metadata": {},
   "outputs": [
    {
     "name": "stdout",
     "output_type": "stream",
     "text": [
      "features:\n",
      "['js_bin', 's_bin', 'b_bin', 'jb_bin', 'ob_bin', 'gb_bin', 'gift', 'distribution', 'charity', 'price', 'number', 'ball', 'pursuant', '10b5-1', '16b-3', 'net_trading_intensity', 'net_trading_amt', 'relative_trade_size_to_self', 'beneficial_ownership_score', 'title_score', 'TRANS_TIMELINESS_clean', 'execution_timeliness', 'filing_lag_days', 'filing_timeliness', 'security_category', 'trans_amt', 'is_lobby', 'has_lobby', 'has_donate', 'NODEID', 'important_connections', 'full_congress_connections', 'house_t2_important_connections', 'house_t2_full_congress_connections', 'house_t1_important_connections', 'house_t1_full_congress_connections', 'sen_important_connections', 'sen_full_congress_connections', 'sen_t2_important_connections', 'sen_t2_full_congress_connections', 'sen_t1_important_connections', 'sen_t1_full_congress_connections', 'full_congress_connections_z', 'sen_full_congress_connections_z', 'sen_t2_full_congress_connections_z', 'house_t2_full_congress_connections_z', 'sen_important_connections_z', 'sen_t2_important_connections_z', 'important_connections_z', 'house_t2_important_connections_z', 'full_congress_connections_z_cat', 'full_congress_connections_z_is_low', 'full_congress_connections_z_is_high', 'sen_full_congress_connections_z_cat', 'sen_full_congress_connections_z_is_low', 'sen_full_congress_connections_z_is_high', 'sen_t2_full_congress_connections_z_cat', 'sen_t2_full_congress_connections_z_is_low', 'sen_t2_full_congress_connections_z_is_high', 'house_t2_full_congress_connections_z_cat', 'house_t2_full_congress_connections_z_is_low', 'house_t2_full_congress_connections_z_is_high', 'sen_important_connections_z_cat', 'sen_important_connections_z_is_low', 'sen_important_connections_z_is_high', 'sen_t2_important_connections_z_cat', 'sen_t2_important_connections_z_is_low', 'sen_t2_important_connections_z_is_high', 'important_connections_z_cat', 'important_connections_z_is_low', 'important_connections_z_is_high', 'house_t2_important_connections_z_cat', 'house_t2_important_connections_z_is_low', 'house_t2_important_connections_z_is_high', 'is_lobby', 'has_lobby', 'has_donate', 'NODEID', 'important_connections', 'full_congress_connections', 'house_t2_important_connections', 'house_t2_full_congress_connections', 'house_t1_important_connections', 'house_t1_full_congress_connections', 'sen_important_connections', 'sen_full_congress_connections', 'sen_t2_important_connections', 'sen_t2_full_congress_connections', 'sen_t1_important_connections', 'sen_t1_full_congress_connections', 'full_congress_connections_z', 'sen_full_congress_connections_z', 'sen_t2_full_congress_connections_z', 'house_t2_full_congress_connections_z', 'sen_important_connections_z', 'sen_t2_important_connections_z', 'important_connections_z', 'house_t2_important_connections_z', 'full_congress_connections_z_cat', 'full_congress_connections_z_is_low', 'full_congress_connections_z_is_high', 'sen_full_congress_connections_z_cat', 'sen_full_congress_connections_z_is_low', 'sen_full_congress_connections_z_is_high', 'sen_t2_full_congress_connections_z_cat', 'sen_t2_full_congress_connections_z_is_low', 'sen_t2_full_congress_connections_z_is_high', 'house_t2_full_congress_connections_z_cat', 'house_t2_full_congress_connections_z_is_low', 'house_t2_full_congress_connections_z_is_high', 'sen_important_connections_z_cat', 'sen_important_connections_z_is_low', 'sen_important_connections_z_is_high', 'sen_t2_important_connections_z_cat', 'sen_t2_important_connections_z_is_low', 'sen_t2_important_connections_z_is_high', 'important_connections_z_cat', 'important_connections_z_is_low', 'important_connections_z_is_high', 'house_t2_important_connections_z_cat', 'house_t2_important_connections_z_is_low', 'house_t2_important_connections_z_is_high', 'js_bin', 's_bin', 'b_bin', 'jb_bin', 'ob_bin', 'gb_bin', 'gift', 'distribution', 'charity', 'price', 'number', 'ball', 'pursuant', '10b5-1', '16b-3', 'net_trading_intensity', 'net_trading_amt', 'relative_trade_size_to_self', 'beneficial_ownership_score', 'title_score', 'TRANS_TIMELINESS_clean', 'execution_timeliness', 'filing_lag_days', 'filing_timeliness', 'security_category', 'trans_amt']\n"
     ]
    }
   ],
   "source": [
    "print(\"features:\")\n",
    "print(feature_data_creator.features)"
   ]
  },
  {
   "cell_type": "markdown",
   "metadata": {},
   "source": [
    "___\n",
    "## Compare results\n",
    "___"
   ]
  }
 ],
 "metadata": {
  "kernelspec": {
   "display_name": "Python 3",
   "language": "python",
   "name": "python3"
  },
  "language_info": {
   "codemirror_mode": {
    "name": "ipython",
    "version": 3
   },
   "file_extension": ".py",
   "mimetype": "text/x-python",
   "name": "python",
   "nbconvert_exporter": "python",
   "pygments_lexer": "ipython3",
   "version": "3.11.6"
  }
 },
 "nbformat": 4,
 "nbformat_minor": 2
}
