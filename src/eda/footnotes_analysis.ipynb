{
 "cells": [
  {
   "cell_type": "markdown",
   "metadata": {},
   "source": [
    "## We now attempt to find out if the footnotes of the SEC filing has an effect on the transaction"
   ]
  },
  {
   "cell_type": "code",
   "execution_count": 87,
   "metadata": {},
   "outputs": [],
   "source": [
    "import pandas as pd\n",
    "import numpy as np\n",
    "import warnings\n",
    "import matplotlib.pyplot as plt\n",
    "import seaborn as sns\n",
    "import re\n",
    "\n",
    "from sklearn.model_selection import train_test_split\n",
    "from sklearn.feature_extraction.text import TfidfVectorizer\n",
    "\n",
    "import nltk\n",
    "from nltk.corpus import stopwords\n",
    "from nltk.tokenize import word_tokenize\n",
    "from nltk.stem import WordNetLemmatizer\n",
    "from nltk.corpus import wordnet\n",
    "from nltk import pos_tag\n",
    "\n",
    "import scipy.stats as stats\n",
    "\n",
    "from sklearn.linear_model import LogisticRegression\n",
    "from sklearn.linear_model import LinearRegression\n",
    "\n",
    "import statsmodels.api as sm\n",
    "\n",
    "# Remove warnings to keep outputs clean\n",
    "warnings.filterwarnings(\"ignore\")\n",
    "\n",
    "PROCESSED_DATA_FOLDER = \"../../data_untracked/processed\"\n",
    "ABNORMAL_CSV = \"snorkel_labels.csv\"\n",
    "\n",
    "COMPILED_DATA_FOLDER = \"../../data_untracked/raw/sec_submissions/compiled\"\n",
    "FOOTNOTES_CSV = \"FOOTNOTES.csv\""
   ]
  },
  {
   "cell_type": "markdown",
   "metadata": {},
   "source": [
    "### Download this if haven't"
   ]
  },
  {
   "cell_type": "code",
   "execution_count": 2,
   "metadata": {},
   "outputs": [],
   "source": [
    "# nltk.download('stopwords')\n",
    "# nltk.download('punkt')\n",
    "# nltk.download(\"wordnet\")\n",
    "# nltk.download(\"averaged_perceptron_tagger\")"
   ]
  },
  {
   "cell_type": "markdown",
   "metadata": {},
   "source": [
    "## Load required datasets\n",
    "1. `snorkel_labels.csv`: Transactions with their Cumulative Abnormal Returns (CAR)\n",
    "2. `FOOTNOTES.csv`: Each transactions with their individual filing comments"
   ]
  },
  {
   "cell_type": "code",
   "execution_count": 3,
   "metadata": {},
   "outputs": [
    {
     "name": "stdout",
     "output_type": "stream",
     "text": [
      "Loading data\n"
     ]
    }
   ],
   "source": [
    "abnormal_transactions = pd.read_csv(f'{PROCESSED_DATA_FOLDER}/{ABNORMAL_CSV}')[[\"ACCESSION_NUMBER\", \"TRANS_CODE\", \"TRANS_ACQUIRED_DISP_CD\", \"snorkel_prob\", \"snorkel_pred\"]]\n",
    "abnormal_transactions = abnormal_transactions.rename(columns={\"snorkel_prob\" : \"probability\",\n",
    "                                                               \"snorkel_pred\" : \"prediction\"})\n",
    "footnotes = pd.read_csv(f'{COMPILED_DATA_FOLDER}/{FOOTNOTES_CSV}')\n",
    "print(\"Loading data\")"
   ]
  },
  {
   "cell_type": "code",
   "execution_count": 4,
   "metadata": {},
   "outputs": [
    {
     "name": "stdout",
     "output_type": "stream",
     "text": [
      "(778559, 5)\n",
      "(6453264, 3)\n"
     ]
    }
   ],
   "source": [
    "print(abnormal_transactions.shape)\n",
    "print(footnotes.shape)"
   ]
  },
  {
   "cell_type": "code",
   "execution_count": 5,
   "metadata": {},
   "outputs": [
    {
     "data": {
      "application/vnd.microsoft.datawrangler.viewer.v0+json": {
       "columns": [
        {
         "name": "index",
         "rawType": "int64",
         "type": "integer"
        },
        {
         "name": "ACCESSION_NUMBER",
         "rawType": "object",
         "type": "string"
        },
        {
         "name": "FOOTNOTE_ID",
         "rawType": "object",
         "type": "string"
        },
        {
         "name": "FOOTNOTE_TXT",
         "rawType": "object",
         "type": "string"
        }
       ],
       "conversionMethod": "pd.DataFrame",
       "ref": "d817a174-eb34-4205-bc3c-2c04c2e1e4ae",
       "rows": [
        [
         "0",
         "0001179110-14-011078",
         "F1",
         "Sale made pursuant to a Rule 10b5-1 Plan dated February 7, 2014"
        ],
        [
         "1",
         "0001179110-14-011078",
         "F2",
         "Shares adjusted for those withheld to cover tax liabilities"
        ],
        [
         "2",
         "0001144204-14-040534",
         "F3",
         "Includes 2,106 shares of common stock received pursuant to the issuer's Distribution Reinvestment Plan."
        ],
        [
         "3",
         "0001144204-14-040534",
         "F2",
         "Restricted shares of common stock issued pursuant to the issuer's Restricted Share Plan. Restricted shares vest ratably over a three-year period beginning on May 29, 2015."
        ],
        [
         "4",
         "0001144204-14-040534",
         "F1",
         "Shares issued in lieu of cash for board services."
        ]
       ],
       "shape": {
        "columns": 3,
        "rows": 5
       }
      },
      "text/html": [
       "<div>\n",
       "<style scoped>\n",
       "    .dataframe tbody tr th:only-of-type {\n",
       "        vertical-align: middle;\n",
       "    }\n",
       "\n",
       "    .dataframe tbody tr th {\n",
       "        vertical-align: top;\n",
       "    }\n",
       "\n",
       "    .dataframe thead th {\n",
       "        text-align: right;\n",
       "    }\n",
       "</style>\n",
       "<table border=\"1\" class=\"dataframe\">\n",
       "  <thead>\n",
       "    <tr style=\"text-align: right;\">\n",
       "      <th></th>\n",
       "      <th>ACCESSION_NUMBER</th>\n",
       "      <th>FOOTNOTE_ID</th>\n",
       "      <th>FOOTNOTE_TXT</th>\n",
       "    </tr>\n",
       "  </thead>\n",
       "  <tbody>\n",
       "    <tr>\n",
       "      <th>0</th>\n",
       "      <td>0001179110-14-011078</td>\n",
       "      <td>F1</td>\n",
       "      <td>Sale made pursuant to a Rule 10b5-1 Plan dated...</td>\n",
       "    </tr>\n",
       "    <tr>\n",
       "      <th>1</th>\n",
       "      <td>0001179110-14-011078</td>\n",
       "      <td>F2</td>\n",
       "      <td>Shares adjusted for those withheld to cover ta...</td>\n",
       "    </tr>\n",
       "    <tr>\n",
       "      <th>2</th>\n",
       "      <td>0001144204-14-040534</td>\n",
       "      <td>F3</td>\n",
       "      <td>Includes 2,106 shares of common stock received...</td>\n",
       "    </tr>\n",
       "    <tr>\n",
       "      <th>3</th>\n",
       "      <td>0001144204-14-040534</td>\n",
       "      <td>F2</td>\n",
       "      <td>Restricted shares of common stock issued pursu...</td>\n",
       "    </tr>\n",
       "    <tr>\n",
       "      <th>4</th>\n",
       "      <td>0001144204-14-040534</td>\n",
       "      <td>F1</td>\n",
       "      <td>Shares issued in lieu of cash for board services.</td>\n",
       "    </tr>\n",
       "  </tbody>\n",
       "</table>\n",
       "</div>"
      ],
      "text/plain": [
       "       ACCESSION_NUMBER FOOTNOTE_ID  \\\n",
       "0  0001179110-14-011078          F1   \n",
       "1  0001179110-14-011078          F2   \n",
       "2  0001144204-14-040534          F3   \n",
       "3  0001144204-14-040534          F2   \n",
       "4  0001144204-14-040534          F1   \n",
       "\n",
       "                                        FOOTNOTE_TXT  \n",
       "0  Sale made pursuant to a Rule 10b5-1 Plan dated...  \n",
       "1  Shares adjusted for those withheld to cover ta...  \n",
       "2  Includes 2,106 shares of common stock received...  \n",
       "3  Restricted shares of common stock issued pursu...  \n",
       "4  Shares issued in lieu of cash for board services.  "
      ]
     },
     "execution_count": 5,
     "metadata": {},
     "output_type": "execute_result"
    }
   ],
   "source": [
    "footnotes.head()"
   ]
  },
  {
   "cell_type": "code",
   "execution_count": 6,
   "metadata": {},
   "outputs": [
    {
     "data": {
      "application/vnd.microsoft.datawrangler.viewer.v0+json": {
       "columns": [
        {
         "name": "index",
         "rawType": "int64",
         "type": "integer"
        },
        {
         "name": "ACCESSION_NUMBER",
         "rawType": "object",
         "type": "string"
        },
        {
         "name": "FOOTNOTE_TXT",
         "rawType": "object",
         "type": "string"
        }
       ],
       "conversionMethod": "pd.DataFrame",
       "ref": "60cf41d3-61a5-4bec-8ebe-b86c16e5cb10",
       "rows": [
        [
         "0",
         "0000002178-18-000032",
         "The reporting person received a grant of 375 restricted stock units of Adams Resources & Energy, Inc. (AE) on June 29, 2018.  Each restricted stock unit represents a contingent right to receive one share of AE common stock upon vesting. The restricted stock units will vest (i.e., the restrictions will lapse) on May 8, 2019, provided the reporting person remains in continuing active service on the vesting date (subject to accelerated vesting in some circumstances)."
        ],
        [
         "1",
         "0000002178-18-000042",
         "The reporting person received a grant of 375 restricted stock units of Adams Resources & Energy, Inc. (AE) on June 29, 2018.  Each restricted stock unit represents a contingent right to receive one share of AE common stock upon vesting. The restricted stock units will vest (i.e., the restrictions will lapse) on May 8, 2019, provided the reporting person remains in continuing active service on the vesting date (subject to accelerated vesting in some circumstances)."
        ],
        [
         "2",
         "0000002178-18-000043",
         "The reporting person received a grant of 375 restricted stock units of Adams Resources & Energy, Inc. (AE) on June 29, 2018.  Each restricted stock unit represents a contingent right to receive one share of AE common stock upon vesting. The restricted stock units will vest (i.e., the restrictions will lapse) on May 8, 2019, provided the reporting person remains in continuing active service on the vesting date (subject to accelerated vesting in some circumstances)."
        ],
        [
         "3",
         "0000002178-18-000044",
         "The reporting person received a grant of 375 restricted stock units of Adams Resources & Energy, Inc. (AE) on June 29, 2018.  Each restricted stock unit represents a contingent right to receive one share of AE common stock upon vesting. The restricted stock units will vest (i.e., the restrictions will lapse) on May 8, 2019, provided the reporting person remains in continuing active service on the vesting date (subject to accelerated vesting in some circumstances)."
        ],
        [
         "4",
         "0000002178-18-000045",
         "The reporting person received a grant of 875 restricted stock units of Adams Resources & Energy, Inc. (AE) on June 29, 2018.  Each restricted stock unit represents a contingent right to receive one share of AE common stock upon vesting. The restricted stock units will vest (i.e., the restrictions will lapse) in three equal annual installments beginning on May 8, 2019, provided the reporting person remains in continuing active service on the vesting date (subject to accelerated vesting in some circumstances). The reporting person received a grant of 875 performance share units of Adams Resources & Energy, Inc. on June 29, 2018.  The performance share units will vest on May 8, 2021, provided the reporting person remains in continuing active service on the vesting date (subject to accelerated vesting in certain circumstances), and subject to the attainment of certain performance criteria as specified in the award agreement."
        ],
        [
         "5",
         "0000002178-18-000046",
         "The reporting person received a grant of 750 restricted stock units of Adams Resources & Energy, Inc. (AE) on June 29, 2018.  Each restricted stock unit represents a contingent right to receive one share of AE common stock upon vesting. The restricted stock units will vest (i.e., the restrictions will lapse) in three equal annual installments beginning on May 8, 2019, provided the reporting person remains in continuing active service on the vesting date (subject to accelerated vesting in some circumstances). The reporting person received a grant of 750 performance share units of Adams Resources & Energy, Inc. on June 29, 2018.  The performance share units will vest on May 8, 2021, provided the reporting person remains in continuing active service on the vesting date (subject to accelerated vesting in certain circumstances), and subject to the attainment of certain performance criteria as specified in the award agreement."
        ],
        [
         "6",
         "0000002178-18-000047",
         "The reporting person received a grant of 688 restricted stock units of Adams Resources & Energy, Inc. (AE) on June 29, 2018.  Each restricted stock unit represents a contingent right to receive one share of AE common stock upon vesting. The restricted stock units will vest (i.e., the restrictions will lapse) in three equal annual installments beginning on May 8, 2019, provided the reporting person remains in continuing active service on the vesting date (subject to accelerated vesting in some circumstances). The reporting person received a grant of 687 performance share units of Adams Resources & Energy, Inc. on June 29, 2018.  The performance share units will vest on May 8, 2021, provided the reporting person remains in continuing active service on the vesting date (subject to accelerated vesting in certain circumstances), and subject to the attainment of certain performance criteria as specified in the award agreement."
        ],
        [
         "7",
         "0000002178-18-000048",
         "The reporting person received a grant of 375 restricted stock units of Adams Resources & Energy, Inc. (AE) on June 29, 2018.  Each restricted stock unit represents a contingent right to receive one share of AE common stock upon vesting. The restricted stock units will vest (i.e., the restrictions will lapse) on May 8, 2019, provided the reporting person remains in continuing active service on the vesting date (subject to accelerated vesting in some circumstances)."
        ],
        [
         "8",
         "0000002178-18-000049",
         "The reporting person received a grant of 750 restricted stock units of Adams Resources & Energy, Inc. (AE) on June 29, 2018.  Each restricted stock unit represents a contingent right to receive one share of AE common stock upon vesting. The restricted stock units will vest (i.e., the restrictions will lapse) in three equal annual installments beginning on May 8, 2019, provided the reporting person remains in continuing active service on the vesting date (subject to accelerated vesting in some circumstances). The reporting person received a grant of 750 performance share units of Adams Resources & Energy, Inc. on June 29, 2018.  The performance share units will vest on May 8, 2021, provided the reporting person remains in continuing active service on the vesting date (subject to accelerated vesting in certain circumstances), and subject to the attainment of certain performance criteria as specified in the award agreement."
        ],
        [
         "9",
         "0000002178-18-000050",
         "The reporting person received a grant of 658 restricted stock units of Adams Resources & Energy, Inc. (AE) on June 29, 2018.  Each restricted stock unit represents a contingent right to receive one share of AE common stock upon vesting. The restricted stock units will vest (i.e., the restrictions will lapse) in three equal annual installments beginning on May 8, 2019, provided the reporting person remains in continuing active service on the vesting date (subject to accelerated vesting in some circumstances). The reporting person received a grant of 657 performance share units of Adams Resources & Energy, Inc. on June 29, 2018.  The performance share units will vest on May 8, 2021, provided the reporting person remains in continuing active service on the vesting date (subject to accelerated vesting in certain circumstances), and subject to the attainment of certain performance criteria as specified in the award agreement."
        ],
        [
         "10",
         "0000002178-19-000028",
         "The reporting person previously received a grant of 375 restricted stock units of Adams Resources & Energy, Inc. (AE) on June 29, 2018 and vesting on May 8, 2019.  Each restricted stock unit represents a contingent right to receive one share of AE common stock upon vesting."
        ],
        [
         "11",
         "0000002178-19-000029",
         "The reporting person previously received a grant of 375 restricted stock units of Adams Resources & Energy, Inc. (AE) on June 29, 2018 and vesting on May 8, 2019.  Each restricted stock unit represents a contingent right to receive one share of AE common stock upon vesting."
        ],
        [
         "12",
         "0000002178-19-000030",
         "The reporting person previously received a grant of 375 restricted stock units of Adams Resources & Energy, Inc. (AE) on June 29, 2018 and vesting on May 8, 2019.  Each restricted stock unit represents a contingent right to receive one share of AE common stock upon vesting."
        ],
        [
         "13",
         "0000002178-19-000037",
         "The reporting person previously received a grant of 375 restricted stock units of Adams Resources & Energy, Inc. (AE) on June 29, 2018 and vesting on May 8, 2019.  Each restricted stock unit represents a contingent right to receive one share of AE common stock upon vesting."
        ],
        [
         "14",
         "0000002178-19-000038",
         "The reporting person was previously granted 658 restricted stock units of Adams Resources & Energy, Inc. (AE) vesting in three equal installments beginning 5/8/2019.  Each restricted stock unit represents a contingent right to receive one share of AE common stock upon vesting."
        ],
        [
         "15",
         "0000002178-19-000039",
         "The reporting person was previously granted 875 restricted stock units of Adams Resources & Energy, Inc. (AE) vesting in three equal installments beginning 5/8/2019.  Each restricted stock unit represents a contingent right to receive one share of AE common stock upon vesting."
        ],
        [
         "16",
         "0000002178-19-000043",
         "The reporting person was previously granted 750 restricted stock units of Adams Resources & Energy, Inc. (AE) vesting in three equal installments beginning 5/8/2019.  Each restricted stock unit represents a contingent right to receive one share of AE common stock upon vesting."
        ],
        [
         "17",
         "0000002178-19-000044",
         "The reporting person was previously granted 688 restricted stock units of Adams Resources & Energy, Inc. (AE) vesting in three equal installments beginning 5/8/2019.  Each restricted stock unit represents a contingent right to receive one share of AE common stock upon vesting."
        ],
        [
         "18",
         "0000002178-19-000045",
         "The reporting person was previously granted 750 restricted stock units of Adams Resources & Energy, Inc. (AE) vesting in three equal installments beginning 5/8/2019.  Each restricted stock unit represents a contingent right to receive one share of AE common stock upon vesting."
        ],
        [
         "19",
         "0000002178-19-000067",
         "The reporting person received a grant of 375 restricted stock units of Adams Resources & Energy, Inc. (AE) on June 3, 2019.  Each restricted stock unit represents a contingent right to receive one share of AE common stock upon vesting. The restricted stock units will vest (i.e., the restrictions will lapse) on May 22, 2020, provided the reporting person remains in continuing active service on the vesting date (subject to accelerated vesting in some circumstances)."
        ],
        [
         "20",
         "0000002178-19-000068",
         "The reporting person received a grant of 688 restricted stock units of Adams Resources & Energy, Inc. (AE) on June 3, 2019.  Each restricted stock unit represents a contingent right to receive one share of AE common stock upon vesting. The restricted stock units will vest (i.e., the restrictions will lapse) in three equal annual installments beginning on May 22, 2020, provided the reporting person remains in continuing active service on the vesting date (subject to accelerated vesting in some circumstances). The reporting person received a grant of 687 performance share units of Adams Resources & Energy, Inc. on June 3, 2019.  The performance share units will vest on May 22, 2022, provided the reporting person remains in continuing active service on the vesting date (subject to accelerated vesting in certain circumstances), and subject to the attainment of certain performance criteria as specified in the award agreement."
        ],
        [
         "21",
         "0000002178-19-000069",
         "The reporting person received a grant of 750 restricted stock units of Adams Resources & Energy, Inc. (AE) on June 3, 2019.  Each restricted stock unit represents a contingent right to receive one share of AE common stock upon vesting. The restricted stock units will vest (i.e., the restrictions will lapse) in three equal annual installments beginning on May 22, 2020, provided the reporting person remains in continuing active service on the vesting date (subject to accelerated vesting in some circumstances). The reporting person received a grant of 750 performance share units of Adams Resources & Energy, Inc. on June 3, 2019.  The performance share units will vest on May 22, 2022, provided the reporting person remains in continuing active service on the vesting date (subject to accelerated vesting in certain circumstances), and subject to the attainment of certain performance criteria as specified in the award agreement."
        ],
        [
         "22",
         "0000002178-19-000070",
         "The reporting person received a grant of 750 restricted stock units of Adams Resources & Energy, Inc. (AE) on June 3, 2019.  Each restricted stock unit represents a contingent right to receive one share of AE common stock upon vesting. The restricted stock units will vest (i.e., the restrictions will lapse) in three equal annual installments beginning on May 22, 2020, provided the reporting person remains in continuing active service on the vesting date (subject to accelerated vesting in some circumstances). The reporting person received a grant of 750 performance share units of Adams Resources & Energy, Inc. on June 3, 2019.  The performance share units will vest on May 22, 2022, provided the reporting person remains in continuing active service on the vesting date (subject to accelerated vesting in certain circumstances), and subject to the attainment of certain performance criteria as specified in the award agreement."
        ],
        [
         "23",
         "0000002178-19-000071",
         "The reporting person received a grant of 375 restricted stock units of Adams Resources & Energy, Inc. (AE) on June 3, 2019.  Each restricted stock unit represents a contingent right to receive one share of AE common stock upon vesting. The restricted stock units will vest (i.e., the restrictions will lapse) on May 22, 2020, provided the reporting person remains in continuing active service on the vesting date (subject to accelerated vesting in some circumstances)."
        ],
        [
         "24",
         "0000002178-19-000072",
         "The reporting person received a grant of 375 restricted stock units of Adams Resources & Energy, Inc. (AE) on June 3, 2019.  Each restricted stock unit represents a contingent right to receive one share of AE common stock upon vesting. The restricted stock units will vest (i.e., the restrictions will lapse) on May 22, 2020, provided the reporting person remains in continuing active service on the vesting date (subject to accelerated vesting in some circumstances)."
        ],
        [
         "25",
         "0000002178-19-000073",
         "The reporting person received a grant of 750 restricted stock units of Adams Resources & Energy, Inc. (AE) on June 3, 2019.  Each restricted stock unit represents a contingent right to receive one share of AE common stock upon vesting. The restricted stock units will vest (i.e., the restrictions will lapse) in three equal annual installments beginning on May 22, 2020, provided the reporting person remains in continuing active service on the vesting date (subject to accelerated vesting in some circumstances). The reporting person received a grant of 750 performance share units of Adams Resources & Energy, Inc. on June 3, 2019.  The performance share units will vest on May 22, 2022, provided the reporting person remains in continuing active service on the vesting date (subject to accelerated vesting in certain circumstances), and subject to the attainment of certain performance criteria as specified in the award agreement."
        ],
        [
         "26",
         "0000002178-19-000074",
         "The reporting person received a grant of 375 restricted stock units of Adams Resources & Energy, Inc. (AE) on June 3, 2019.  Each restricted stock unit represents a contingent right to receive one share of AE common stock upon vesting. The restricted stock units will vest (i.e., the restrictions will lapse) on May 22, 2020, provided the reporting person remains in continuing active service on the vesting date (subject to accelerated vesting in some circumstances)."
        ],
        [
         "27",
         "0000002178-19-000075",
         "The reporting person received a grant of 875 restricted stock units of Adams Resources & Energy, Inc. (AE) on June 3, 2019.  Each restricted stock unit represents a contingent right to receive one share of AE common stock upon vesting. The restricted stock units will vest (i.e., the restrictions will lapse) in three equal annual installments beginning on May 22, 2020, provided the reporting person remains in continuing active service on the vesting date (subject to accelerated vesting in some circumstances). The reporting person received a grant of 875 performance share units of Adams Resources & Energy, Inc. on June 3, 2019.  The performance share units will vest on May 22, 2022, provided the reporting person remains in continuing active service on the vesting date (subject to accelerated vesting in certain circumstances), and subject to the attainment of certain performance criteria as specified in the award agreement."
        ],
        [
         "28",
         "0000002178-19-000076",
         "The reporting person received a grant of 375 restricted stock units of Adams Resources & Energy, Inc. (AE) on June 3, 2019.  Each restricted stock unit represents a contingent right to receive one share of AE common stock upon vesting. The restricted stock units will vest (i.e., the restrictions will lapse) on May 22, 2020, provided the reporting person remains in continuing active service on the vesting date (subject to accelerated vesting in some circumstances)."
        ],
        [
         "29",
         "0000002178-20-000004",
         "The restricted stock units will vest (i.e., the restrictions will lapse) in three equal installments beginning on May 22, 2020, provided the reporting person remains in continuing active service on the vesting date (subject to accelerated vesting in some circumstances). The reporting person received a grant of 263 restricted stock units of Adams Resources & Energy, Inc. (AE) on June 3, 2019.  Each restricted stock unit represents a contingent right to receive one share of AE common stock upon vesting. The reporting person received a grant of 262 performance share units of Adams Resources & Energy, Inc. on June 3, 2019. The performance share units will vest on May 22, 2022, provided the reporting person remains in continuing active service on the vesting date (subject to accelerated vesting in certain circumstances), and subject to the attainment of certain performance criteria as specified in the award agreement."
        ],
        [
         "30",
         "0000002178-20-000017",
         "The reporting person received a grant of 494 restricted stock units of Adams Resources & Energy, Inc. (AE) on March 9, 2020.  Each restricted stock unit represents a contingent right to receive one share of AE common stock upon vesting. The restricted stock units will vest (i.e., the restrictions will lapse) on March 1, 2021, provided the reporting person remains in continuing active service on the vesting date (subject to accelerated vesting in some circumstances). Total includes restricted stock units previously awarded that have different vesting and expiration dates, as reported."
        ],
        [
         "31",
         "0000002178-20-000019",
         "The reporting person received a grant of 494 restricted stock units of Adams Resources & Energy, Inc. (AE) on March 9, 2020.  Each restricted stock unit represents a contingent right to receive one share of AE common stock upon vesting. The restricted stock units will vest (i.e., the restrictions will lapse) on March 1, 2021, provided the reporting person remains in continuing active service on the vesting date (subject to accelerated vesting in some circumstances). Total includes restricted stock units previously awarded that have different vesting and expiration dates, as reported."
        ],
        [
         "32",
         "0000002178-20-000021",
         "The reporting person received a grant of 494 restricted stock units of Adams Resources & Energy, Inc. (AE) on March 9, 2020.  Each restricted stock unit represents a contingent right to receive one share of AE common stock upon vesting. The restricted stock units will vest (i.e., the restrictions will lapse) on March 1, 2021, provided the reporting person remains in continuing active service on the vesting date (subject to accelerated vesting in some circumstances). Total includes restricted stock units previously awarded that have different vesting and expiration dates, as reported."
        ],
        [
         "33",
         "0000002178-20-000023",
         "The reporting person received a grant of 494 restricted stock units of Adams Resources & Energy, Inc. (AE) on March 9, 2020.  Each restricted stock unit represents a contingent right to receive one share of AE common stock upon vesting. The restricted stock units will vest (i.e., the restrictions will lapse) on March 1, 2021, provided the reporting person remains in continuing active service on the vesting date (subject to accelerated vesting in some circumstances)."
        ],
        [
         "34",
         "0000002178-20-000025",
         "The reporting person received a grant of 494 restricted stock units of Adams Resources & Energy, Inc. (AE) on March 9, 2020.  Each restricted stock unit represents a contingent right to receive one share of AE common stock upon vesting. The restricted stock units will vest (i.e., the restrictions will lapse) on March 1, 2021, provided the reporting person remains in continuing active service on the vesting date (subject to accelerated vesting in some circumstances). Total includes restricted stock units previously awarded that have different vesting and expiration dates, as reported."
        ],
        [
         "35",
         "0000002178-20-000029",
         "The reporting person received a grant of 494 restricted stock units of Adams Resources & Energy, Inc. (AE) on March 9, 2020.  Each restricted stock unit represents a contingent right to receive one share of AE common stock upon vesting. The restricted stock units will vest (i.e., the restrictions will lapse) on March 1, 2021, provided the reporting person remains in continuing active service on the vesting date (subject to accelerated vesting in some circumstances). Total includes restricted stock units previously awarded that have different vesting and expiration dates, as reported."
        ],
        [
         "36",
         "0000002178-20-000031",
         "The reporting person received a grant of 494 restricted stock units of Adams Resources & Energy, Inc. (AE) on March 9, 2020.  Each restricted stock unit represents a contingent right to receive one share of AE common stock upon vesting. The restricted stock units will vest (i.e., the restrictions will lapse) on March 1, 2021, provided the reporting person remains in continuing active service on the vesting date (subject to accelerated vesting in some circumstances). Total includes restricted stock units previously awarded that have different vesting and expiration dates, as reported."
        ],
        [
         "37",
         "0000002178-20-000033",
         "The reporting person received a grant of 907 restricted stock units of Adams Resources & Energy, Inc. (AE) on March 9, 2020.  Each restricted stock unit represents a contingent right to receive one share of AE common stock upon vesting. The restricted stock units will vest (i.e., the restrictions will lapse) in three equal annual installments beginning on March 1, 2021, provided the reporting person remains in continuing active service on the vesting date (subject to accelerated vesting in some circumstances). Total includes restricted stock units previously awarded that have different vesting and expiration dates, as reported. The reporting person received a grant of 906 performance share units of Adams Resources & Energy, Inc. on March 9, 2020.  The performance share units will vest on March 1, 2023, provided the reporting person remains in continuing active service on the vesting date (subject to accelerated vesting in certain circumstances), and subject to the attainment of certain performance criteria as specified in the award agreement. Total includes 327 performance share units previously awarded on June 29, 2018 that vest on May 8, 2021, as reported.  The remaining performance share units awarded on June 29, 2018 and the performance share units awarded on June 3, 2019 will not vest on the basis of the applicable performance conditions set forth in the award agreement and are no longer held by the reporting person."
        ],
        [
         "38",
         "0000002178-20-000035",
         "The reporting person received a grant of 989 restricted stock units of Adams Resources & Energy, Inc. (AE) on March 9, 2020.  Each restricted stock unit represents a contingent right to receive one share of AE common stock upon vesting. The restricted stock units will vest (i.e., the restrictions will lapse) on March 1, 2021, provided the reporting person remains in continuing active service on the vesting date (subject to accelerated vesting in some circumstances). Total includes restricted stock units previously awarded that have different vesting and expiration dates, as reported. The reporting person received a grant of 989 performance share units of Adams Resources & Energy, Inc. on March 9, 2020.  The performance share units will vest on March 1, 2023, provided the reporting person remains in continuing active service on the vesting date (subject to accelerated vesting in certain circumstances), and subject to the attainment of certain performance criteria as specified in the award agreement. Total includes 357 performance share units previously awarded on June 29, 2018 that vest on May 8, 2021, as reported.  The remaining performance share units awarded on June 29, 2018 and the performance share units awarded on June 3, 2019 will not vest on the basis of the applicable performance conditions set forth in the award agreement and are no longer held by the reporting person."
        ],
        [
         "39",
         "0000002178-20-000037",
         "The reporting person received a grant of 1,154 restricted stock units of Adams Resources & Energy, Inc. (AE) on March 9, 2020.  Each restricted stock unit represents a contingent right to receive one share of AE common stock upon vesting. The restricted stock units will vest (i.e., the restrictions will lapse) in three equal annual installments beginning on March 1, 2021, provided the reporting person remains in continuing active service on the vesting date (subject to accelerated vesting in some circumstances). Total includes restricted stock units previously awarded that have different vesting and expiration dates, as reported. The reporting person received a grant of 1,153 performance share units of Adams Resources & Energy, Inc. on March 9, 2020.  The performance share units will vest on March 1, 2023, provided the reporting person remains in continuing active service on the vesting date (subject to accelerated vesting in certain circumstances), and subject to the attainment of certain performance criteria as specified in the award agreement. Total includes 313 performance share units previously awarded on June 29, 2018 that vest on May 8, 2021, as reported.  The remaining performance share units awarded on June 29, 2018 and the performance share units awarded on June 3, 2019 will not vest on the basis of the applicable performance conditions set forth in the award agreement and are no longer held by the reporting person."
        ],
        [
         "40",
         "0000002178-20-000039",
         "The reporting person received a grant of 791 restricted stock units of Adams Resources & Energy, Inc. (AE) on March 9, 2020.  Each restricted stock unit represents a contingent right to receive one share of AE common stock upon vesting. The restricted stock units will vest (i.e., the restrictions will lapse) in three equal annual installments beginning on March 1, 2021, provided the reporting person remains in continuing active service on the vesting date (subject to accelerated vesting in some circumstances). Total includes restricted stock units previously awarded that have different vesting and expiration dates, as reported. The reporting person received a grant of 791 performance share units of Adams Resources & Energy, Inc. on March 9, 2020.  The performance share units will vest on March 1, 2023, provided the reporting person remains in continuing active service on the vesting date (subject to accelerated vesting in certain circumstances), and subject to the attainment of certain performance criteria as specified in the award agreement."
        ],
        [
         "41",
         "0000002178-20-000050",
         "The reporting person received a grant of 1,117 restricted stock units of Adams Resources & Energy, Inc. (AE) on March 30, 2020.  Each restricted stock unit represents a contingent right to receive one share of AE common stock upon vesting. The restricted stock units will vest (i.e., the restrictions will lapse) in three equal annual installments beginning on March 1, 2021, provided the reporting person remains in continuing active service on the vesting date (subject to accelerated vesting in some circumstances). The reporting person received a grant of 1,117 performance share units of Adams Resources & Energy, Inc. on March 30, 2020.  The performance share units will vest on March 1, 2023, provided the reporting person remains in continuing active service on the vesting date (subject to accelerated vesting in certain circumstances), and subject to the attainment of certain performance criteria as specified in the award agreement."
        ],
        [
         "42",
         "0000002178-20-000064",
         "The reporting person was previously granted 875 restricted stock units of Adams Resources & Energy, Inc. (AE) vesting in three equal installments beginning 5/8/2019.  Each restricted stock unit represents a contingent right to receive one share of AE common stock upon vesting."
        ],
        [
         "43",
         "0000002178-20-000065",
         "The reporting person was previously granted 750 restricted stock units of Adams Resources & Energy, Inc. (AE) vesting in three equal installments beginning 5/8/2019.  Each restricted stock unit represents a contingent right to receive one share of AE common stock upon vesting."
        ],
        [
         "44",
         "0000002178-20-000066",
         "The reporting person was previously granted 688 restricted stock units of Adams Resources & Energy, Inc. (AE) vesting in three equal installments beginning 5/8/2019.  Each restricted stock unit represents a contingent right to receive one share of AE common stock upon vesting."
        ],
        [
         "45",
         "0000002178-20-000067",
         "The reporting person was previously granted 658 restricted stock units of Adams Resources & Energy, Inc. (AE) vesting in three equal installments beginning 5/8/2019.  Each restricted stock unit represents a contingent right to receive one share of AE common stock upon vesting."
        ],
        [
         "46",
         "0000002178-20-000081",
         "The reporting person was previously granted 750 restricted stock units of Adams Resources & Energy, Inc. (AE) vesting in three equal installments beginning 5/22/2020.  Each restricted stock unit represents a contingent right to receive one share of AE common stock upon vesting."
        ],
        [
         "47",
         "0000002178-20-000082",
         "The reporting person was previously granted 263 restricted stock units of Adams Resources & Energy, Inc. (AE) vesting in three equal installments beginning 5/22/2020.  Each restricted stock unit represents a contingent right to receive one share of AE common stock upon vesting."
        ],
        [
         "48",
         "0000002178-20-000083",
         "The reporting person previously received a grant of 375 restricted stock units of Adams Resources & Energy, Inc. (AE) on June 3, 2019 and vesting on May 22, 2020.  Each restricted stock unit represents a contingent right to receive one share of AE common stock upon vesting."
        ],
        [
         "49",
         "0000002178-20-000084",
         "The reporting person was previously granted 688 restricted stock units of Adams Resources & Energy, Inc. (AE) vesting in three equal installments beginning 5/22/2020.  Each restricted stock unit represents a contingent right to receive one share of AE common stock upon vesting."
        ]
       ],
       "shape": {
        "columns": 2,
        "rows": 2416571
       }
      },
      "text/html": [
       "<div>\n",
       "<style scoped>\n",
       "    .dataframe tbody tr th:only-of-type {\n",
       "        vertical-align: middle;\n",
       "    }\n",
       "\n",
       "    .dataframe tbody tr th {\n",
       "        vertical-align: top;\n",
       "    }\n",
       "\n",
       "    .dataframe thead th {\n",
       "        text-align: right;\n",
       "    }\n",
       "</style>\n",
       "<table border=\"1\" class=\"dataframe\">\n",
       "  <thead>\n",
       "    <tr style=\"text-align: right;\">\n",
       "      <th></th>\n",
       "      <th>ACCESSION_NUMBER</th>\n",
       "      <th>FOOTNOTE_TXT</th>\n",
       "    </tr>\n",
       "  </thead>\n",
       "  <tbody>\n",
       "    <tr>\n",
       "      <th>0</th>\n",
       "      <td>0000002178-18-000032</td>\n",
       "      <td>The reporting person received a grant of 375 r...</td>\n",
       "    </tr>\n",
       "    <tr>\n",
       "      <th>1</th>\n",
       "      <td>0000002178-18-000042</td>\n",
       "      <td>The reporting person received a grant of 375 r...</td>\n",
       "    </tr>\n",
       "    <tr>\n",
       "      <th>2</th>\n",
       "      <td>0000002178-18-000043</td>\n",
       "      <td>The reporting person received a grant of 375 r...</td>\n",
       "    </tr>\n",
       "    <tr>\n",
       "      <th>3</th>\n",
       "      <td>0000002178-18-000044</td>\n",
       "      <td>The reporting person received a grant of 375 r...</td>\n",
       "    </tr>\n",
       "    <tr>\n",
       "      <th>4</th>\n",
       "      <td>0000002178-18-000045</td>\n",
       "      <td>The reporting person received a grant of 875 r...</td>\n",
       "    </tr>\n",
       "    <tr>\n",
       "      <th>...</th>\n",
       "      <td>...</td>\n",
       "      <td>...</td>\n",
       "    </tr>\n",
       "    <tr>\n",
       "      <th>2416566</th>\n",
       "      <td>0002049094-24-000001</td>\n",
       "      <td>(1)This statement is jointly filed by and on b...</td>\n",
       "    </tr>\n",
       "    <tr>\n",
       "      <th>2416567</th>\n",
       "      <td>0002049094-24-000002</td>\n",
       "      <td>(1) The price reported represents the weighted...</td>\n",
       "    </tr>\n",
       "    <tr>\n",
       "      <th>2416568</th>\n",
       "      <td>0002049094-24-000003</td>\n",
       "      <td>The price reported represents the weighted ave...</td>\n",
       "    </tr>\n",
       "    <tr>\n",
       "      <th>2416569</th>\n",
       "      <td>0002049094-24-000004</td>\n",
       "      <td>The price reported represents the weighted ave...</td>\n",
       "    </tr>\n",
       "    <tr>\n",
       "      <th>2416570</th>\n",
       "      <td>0002050200-24-000002</td>\n",
       "      <td>Includes 12,914 shares of Common Stock subject...</td>\n",
       "    </tr>\n",
       "  </tbody>\n",
       "</table>\n",
       "<p>2416571 rows × 2 columns</p>\n",
       "</div>"
      ],
      "text/plain": [
       "             ACCESSION_NUMBER  \\\n",
       "0        0000002178-18-000032   \n",
       "1        0000002178-18-000042   \n",
       "2        0000002178-18-000043   \n",
       "3        0000002178-18-000044   \n",
       "4        0000002178-18-000045   \n",
       "...                       ...   \n",
       "2416566  0002049094-24-000001   \n",
       "2416567  0002049094-24-000002   \n",
       "2416568  0002049094-24-000003   \n",
       "2416569  0002049094-24-000004   \n",
       "2416570  0002050200-24-000002   \n",
       "\n",
       "                                              FOOTNOTE_TXT  \n",
       "0        The reporting person received a grant of 375 r...  \n",
       "1        The reporting person received a grant of 375 r...  \n",
       "2        The reporting person received a grant of 375 r...  \n",
       "3        The reporting person received a grant of 375 r...  \n",
       "4        The reporting person received a grant of 875 r...  \n",
       "...                                                    ...  \n",
       "2416566  (1)This statement is jointly filed by and on b...  \n",
       "2416567  (1) The price reported represents the weighted...  \n",
       "2416568  The price reported represents the weighted ave...  \n",
       "2416569  The price reported represents the weighted ave...  \n",
       "2416570  Includes 12,914 shares of Common Stock subject...  \n",
       "\n",
       "[2416571 rows x 2 columns]"
      ]
     },
     "execution_count": 6,
     "metadata": {},
     "output_type": "execute_result"
    }
   ],
   "source": [
    "df_footnote = footnotes.copy()\n",
    "df_footnote = df_footnote.sort_values(by=[\"ACCESSION_NUMBER\", \"FOOTNOTE_ID\"])\n",
    "df_footnote[\"FOOTNOTE_TXT\"] = df_footnote[\"FOOTNOTE_TXT\"].astype(str)\n",
    "df_grouped = df_footnote.groupby(\"ACCESSION_NUMBER\", sort=True)[\"FOOTNOTE_TXT\"].apply(lambda x: \" \".join(x)).reset_index()\n",
    "df_grouped"
   ]
  },
  {
   "cell_type": "code",
   "execution_count": 7,
   "metadata": {},
   "outputs": [
    {
     "data": {
      "application/vnd.microsoft.datawrangler.viewer.v0+json": {
       "columns": [
        {
         "name": "index",
         "rawType": "int64",
         "type": "integer"
        },
        {
         "name": "ACCESSION_NUMBER",
         "rawType": "object",
         "type": "string"
        },
        {
         "name": "TRANS_CODE",
         "rawType": "object",
         "type": "string"
        },
        {
         "name": "TRANS_ACQUIRED_DISP_CD",
         "rawType": "object",
         "type": "string"
        },
        {
         "name": "probability",
         "rawType": "float64",
         "type": "float"
        },
        {
         "name": "prediction",
         "rawType": "int64",
         "type": "integer"
        },
        {
         "name": "FOOTNOTE_TXT",
         "rawType": "object",
         "type": "string"
        }
       ],
       "conversionMethod": "pd.DataFrame",
       "ref": "381667cc-972d-48ff-8081-5713b21ceac5",
       "rows": [
        [
         "2",
         "0000919574-19-000485",
         "P",
         "A",
         "0.4785670472260569",
         "0",
         "The Form 3 filed by the Reporting Persons incorrectly listed beneficial ownership of 147,495 shares. The correct number of shares beneficially owned by the Reporting Persons was 107,495. These securities are owned directly by clients of Kingdon Capital Management, L.L.C. (\"Kingdon Capital\") and may be deemed to be indirectly beneficially owned by Kingdon Capital and Mark Kingdon, the managing member of Kingdon Capital."
        ],
        [
         "3",
         "0000919574-19-000485",
         "P",
         "A",
         "0.4785670472260569",
         "0",
         "The Form 3 filed by the Reporting Persons incorrectly listed beneficial ownership of 147,495 shares. The correct number of shares beneficially owned by the Reporting Persons was 107,495. These securities are owned directly by clients of Kingdon Capital Management, L.L.C. (\"Kingdon Capital\") and may be deemed to be indirectly beneficially owned by Kingdon Capital and Mark Kingdon, the managing member of Kingdon Capital."
        ],
        [
         "4",
         "0000919574-19-000485",
         "P",
         "A",
         "0.4785670472260569",
         "0",
         "The Form 3 filed by the Reporting Persons incorrectly listed beneficial ownership of 147,495 shares. The correct number of shares beneficially owned by the Reporting Persons was 107,495. These securities are owned directly by clients of Kingdon Capital Management, L.L.C. (\"Kingdon Capital\") and may be deemed to be indirectly beneficially owned by Kingdon Capital and Mark Kingdon, the managing member of Kingdon Capital."
        ],
        [
         "764",
         "0001209191-14-041289",
         "S",
         "D",
         "0.89330240677326",
         "1",
         "Represents shares beneficially owned by the Alvin Murstein Second Family Trust of which Mr. Murstein is a co-trustee and the beneficiary. Represents shares beneficially owned by the Alvin Murstein Second Family Trust registered in the name of Morgan Stanley. Represents shares acquired by gift from Mr. Murstein to the Aileen J. Murstein Family 2012 Trust of which Mr. Murstein is the grantor and Mr. Murstein's spouse is a co-trustee and the beneficiary. Represents shares owned by Mr. Murstein's spouse."
        ],
        [
         "765",
         "0001209191-14-041289",
         "S",
         "D",
         "0.89330240677326",
         "1",
         "Represents shares beneficially owned by the Alvin Murstein Second Family Trust of which Mr. Murstein is a co-trustee and the beneficiary. Represents shares beneficially owned by the Alvin Murstein Second Family Trust registered in the name of Morgan Stanley. Represents shares acquired by gift from Mr. Murstein to the Aileen J. Murstein Family 2012 Trust of which Mr. Murstein is the grantor and Mr. Murstein's spouse is a co-trustee and the beneficiary. Represents shares owned by Mr. Murstein's spouse."
        ]
       ],
       "shape": {
        "columns": 6,
        "rows": 5
       }
      },
      "text/html": [
       "<div>\n",
       "<style scoped>\n",
       "    .dataframe tbody tr th:only-of-type {\n",
       "        vertical-align: middle;\n",
       "    }\n",
       "\n",
       "    .dataframe tbody tr th {\n",
       "        vertical-align: top;\n",
       "    }\n",
       "\n",
       "    .dataframe thead th {\n",
       "        text-align: right;\n",
       "    }\n",
       "</style>\n",
       "<table border=\"1\" class=\"dataframe\">\n",
       "  <thead>\n",
       "    <tr style=\"text-align: right;\">\n",
       "      <th></th>\n",
       "      <th>ACCESSION_NUMBER</th>\n",
       "      <th>TRANS_CODE</th>\n",
       "      <th>TRANS_ACQUIRED_DISP_CD</th>\n",
       "      <th>probability</th>\n",
       "      <th>prediction</th>\n",
       "      <th>FOOTNOTE_TXT</th>\n",
       "    </tr>\n",
       "  </thead>\n",
       "  <tbody>\n",
       "    <tr>\n",
       "      <th>2</th>\n",
       "      <td>0000919574-19-000485</td>\n",
       "      <td>P</td>\n",
       "      <td>A</td>\n",
       "      <td>0.478567</td>\n",
       "      <td>0</td>\n",
       "      <td>The Form 3 filed by the Reporting Persons inco...</td>\n",
       "    </tr>\n",
       "    <tr>\n",
       "      <th>3</th>\n",
       "      <td>0000919574-19-000485</td>\n",
       "      <td>P</td>\n",
       "      <td>A</td>\n",
       "      <td>0.478567</td>\n",
       "      <td>0</td>\n",
       "      <td>The Form 3 filed by the Reporting Persons inco...</td>\n",
       "    </tr>\n",
       "    <tr>\n",
       "      <th>4</th>\n",
       "      <td>0000919574-19-000485</td>\n",
       "      <td>P</td>\n",
       "      <td>A</td>\n",
       "      <td>0.478567</td>\n",
       "      <td>0</td>\n",
       "      <td>The Form 3 filed by the Reporting Persons inco...</td>\n",
       "    </tr>\n",
       "    <tr>\n",
       "      <th>764</th>\n",
       "      <td>0001209191-14-041289</td>\n",
       "      <td>S</td>\n",
       "      <td>D</td>\n",
       "      <td>0.893302</td>\n",
       "      <td>1</td>\n",
       "      <td>Represents shares beneficially owned by the Al...</td>\n",
       "    </tr>\n",
       "    <tr>\n",
       "      <th>765</th>\n",
       "      <td>0001209191-14-041289</td>\n",
       "      <td>S</td>\n",
       "      <td>D</td>\n",
       "      <td>0.893302</td>\n",
       "      <td>1</td>\n",
       "      <td>Represents shares beneficially owned by the Al...</td>\n",
       "    </tr>\n",
       "  </tbody>\n",
       "</table>\n",
       "</div>"
      ],
      "text/plain": [
       "         ACCESSION_NUMBER TRANS_CODE TRANS_ACQUIRED_DISP_CD  probability  \\\n",
       "2    0000919574-19-000485          P                      A     0.478567   \n",
       "3    0000919574-19-000485          P                      A     0.478567   \n",
       "4    0000919574-19-000485          P                      A     0.478567   \n",
       "764  0001209191-14-041289          S                      D     0.893302   \n",
       "765  0001209191-14-041289          S                      D     0.893302   \n",
       "\n",
       "     prediction                                       FOOTNOTE_TXT  \n",
       "2             0  The Form 3 filed by the Reporting Persons inco...  \n",
       "3             0  The Form 3 filed by the Reporting Persons inco...  \n",
       "4             0  The Form 3 filed by the Reporting Persons inco...  \n",
       "764           1  Represents shares beneficially owned by the Al...  \n",
       "765           1  Represents shares beneficially owned by the Al...  "
      ]
     },
     "execution_count": 7,
     "metadata": {},
     "output_type": "execute_result"
    }
   ],
   "source": [
    "df_footnote_combined = pd.merge(abnormal_transactions, df_grouped, how = \"left\", left_on = \"ACCESSION_NUMBER\", right_on = \"ACCESSION_NUMBER\")\n",
    "df_footnote_combined = df_footnote_combined[df_footnote_combined[\"FOOTNOTE_TXT\"].notnull()]\n",
    "df_footnote_combined.head()"
   ]
  },
  {
   "cell_type": "code",
   "execution_count": 8,
   "metadata": {},
   "outputs": [
    {
     "data": {
      "text/plain": [
       "(129350, 6)"
      ]
     },
     "execution_count": 8,
     "metadata": {},
     "output_type": "execute_result"
    }
   ],
   "source": [
    "df_footnote_exist_drop = df_footnote_combined.dropna(subset=[\"prediction\"]).dropna(subset=[\"FOOTNOTE_TXT\"])\n",
    "df_footnote_exist_drop = df_footnote_exist_drop.drop_duplicates(subset=[\"ACCESSION_NUMBER\"])\n",
    "df_footnote_exist_drop.shape"
   ]
  },
  {
   "cell_type": "code",
   "execution_count": 9,
   "metadata": {},
   "outputs": [],
   "source": [
    "lemmatizer = WordNetLemmatizer()\n",
    "stop_words = set(stopwords.words(\"english\"))\n",
    "stop_words.update([\"shall\", \"should\"])"
   ]
  },
  {
   "cell_type": "code",
   "execution_count": 10,
   "metadata": {},
   "outputs": [],
   "source": [
    "def get_wordnet_pos(nltk_tag):\n",
    "    if nltk_tag.startswith(\"J\"):  # Adjective\n",
    "        return wordnet.ADJ\n",
    "    elif nltk_tag.startswith(\"N\"):  # Noun\n",
    "        return wordnet.NOUN\n",
    "    elif nltk_tag.startswith(\"V\"):  # Verb\n",
    "        return wordnet.VERB\n",
    "    elif nltk_tag.startswith(\"R\"):  # Adverb\n",
    "        return wordnet.ADV\n",
    "    else:\n",
    "        return wordnet.NOUN  # Default to noun if unknown"
   ]
  },
  {
   "cell_type": "code",
   "execution_count": 11,
   "metadata": {},
   "outputs": [],
   "source": [
    "def lemmatize_text(text):\n",
    "    words = word_tokenize(text)  # Tokenize text\n",
    "    tagged_words = pos_tag(words)  # POS tagging\n",
    "\n",
    "    lemmatized_words = [\n",
    "        lemmatizer.lemmatize(word, get_wordnet_pos(tag)) for word, tag in tagged_words if lemmatizer.lemmatize(word, get_wordnet_pos(tag)) not in  stop_words\n",
    "    ]\n",
    "\n",
    "    return \" \".join(lemmatized_words)  # Reconstruct sentence"
   ]
  },
  {
   "cell_type": "code",
   "execution_count": 12,
   "metadata": {},
   "outputs": [],
   "source": [
    "def remove_words(text):\n",
    "    # text = re.sub(r\"\\(.*\\)\", \"\", text)\n",
    "    text = re.sub(r\"[0-9,.%\\$\\\"\\(\\)\\/_]+\", \"\", text)\n",
    "    text = re.sub(r\"(january|february|march|april|may|june|july|august|september|october|november|december)\", \"\", text)\n",
    "    return text"
   ]
  },
  {
   "cell_type": "code",
   "execution_count": 13,
   "metadata": {},
   "outputs": [],
   "source": [
    "def preprocess_text(text):\n",
    "    text = text.lower()\n",
    "    removed_unecessary_text = remove_words(text)\n",
    "    lemmatized_text = lemmatize_text(removed_unecessary_text)\n",
    "\n",
    "    return lemmatized_text"
   ]
  },
  {
   "cell_type": "code",
   "execution_count": 14,
   "metadata": {},
   "outputs": [
    {
     "data": {
      "text/plain": [
       "'striped cat run quickly towards big trading house'"
      ]
     },
     "execution_count": 14,
     "metadata": {},
     "output_type": "execute_result"
    }
   ],
   "source": [
    "preprocess_text(\"The striped cats were running quickly towards the biggest trading house.\") "
   ]
  },
  {
   "cell_type": "code",
   "execution_count": 15,
   "metadata": {},
   "outputs": [
    {
     "data": {
      "text/plain": [
       "'transaction execute multiple trade price range price report reflect weighted average sale price report person hereby undertakes provide upon request sec staff issuer security holder issuer full information regard number share price transaction effect'"
      ]
     },
     "execution_count": 15,
     "metadata": {},
     "output_type": "execute_result"
    }
   ],
   "source": [
    "preprocess_text(\"This transaction was executed in multiple trades at prices ranging from $38.17 to $38.73. The price reported above reflects the weighted average sale price. The reporting person hereby undertakes to provide upon request to the SEC staff, the issuer or a security holder of the issuer full information regarding the number of shares and prices at which the transaction was effected.\")"
   ]
  },
  {
   "cell_type": "code",
   "execution_count": 16,
   "metadata": {},
   "outputs": [
    {
     "data": {
      "text/plain": [
       "'force sale'"
      ]
     },
     "execution_count": 16,
     "metadata": {},
     "output_type": "execute_result"
    }
   ],
   "source": [
    "preprocess_text(\"forced sale\")"
   ]
  },
  {
   "cell_type": "markdown",
   "metadata": {},
   "source": [
    "## Find in samples"
   ]
  },
  {
   "cell_type": "code",
   "execution_count": 17,
   "metadata": {},
   "outputs": [
    {
     "data": {
      "text/plain": [
       "(97012, 6)"
      ]
     },
     "execution_count": 17,
     "metadata": {},
     "output_type": "execute_result"
    }
   ],
   "source": [
    "df_footnote_labels = df_footnote_exist_drop.copy()\n",
    "df1, df2 = train_test_split(df_footnote_labels, test_size=0.25, random_state=4263)\n",
    "sampled_df = df1\n",
    "sampled_df.shape"
   ]
  },
  {
   "cell_type": "code",
   "execution_count": 18,
   "metadata": {},
   "outputs": [
    {
     "data": {
      "application/vnd.microsoft.datawrangler.viewer.v0+json": {
       "columns": [
        {
         "name": "index",
         "rawType": "int64",
         "type": "integer"
        },
        {
         "name": "ACCESSION_NUMBER",
         "rawType": "object",
         "type": "string"
        },
        {
         "name": "TRANS_CODE",
         "rawType": "object",
         "type": "string"
        },
        {
         "name": "TRANS_ACQUIRED_DISP_CD",
         "rawType": "object",
         "type": "string"
        },
        {
         "name": "probability",
         "rawType": "float64",
         "type": "float"
        },
        {
         "name": "prediction",
         "rawType": "int64",
         "type": "integer"
        },
        {
         "name": "FOOTNOTE_TXT",
         "rawType": "object",
         "type": "string"
        }
       ],
       "conversionMethod": "pd.DataFrame",
       "ref": "717ac421-5a15-433a-948f-5f2995e6fae8",
       "rows": [
        [
         "612633",
         "0001179110-18-011384",
         "S",
         "D",
         "1.0",
         "1",
         "This transaction was executed in multiple sales through a sales order executed by a broker-dealer at prices ranging from $32.91 to $33.87. The price reported in this column reflects the weighted average sale price. The Reporting Person will provide upon request to the SEC staff, the Issuer, or a security holder of the Issuer, full information regarding the number of shares sold at each separate price. This transaction was executed in multiple sales through a sales order executed by a broker-dealer at prices ranging from $32.67 to $33.30. The price reported in this column reflects the weighted average sale price. The Reporting Person will provide upon request to the SEC staff, the Issuer, or a security holder of the Issuer, full information regarding the number of shares sold at each separate price. This transaction was executed in multiple sales through a sales order executed by a broker-dealer at prices ranging from $33.16 to $33.80. The price reported in this column reflects the weighted average sale price. The Reporting Person will provide upon request to the SEC staff, the Issuer, or a security holder of the Issuer, full information regarding the number of shares sold at each separate price."
        ],
        [
         "607376",
         "0001209191-13-020246",
         "S",
         "D",
         "0.8775766426279378",
         "1",
         "Pursuant to 10b5-1 plan."
        ],
        [
         "33142",
         "0001044321-13-000081",
         "P",
         "A",
         "0.599162247599088",
         "1",
         "This is a weighted average price. This is a joint filing by Austin W. Marxe (Marxe) and David M. Greenhouse (Greenhouse).  They share voting and investment control over all securities owned by Special Situations Fund III QP, LP (QP) and Special Situations Cayman Fund, L.P. (Cayman), respectively 268,626 shares of Common Stock are held by QP and 91,448 shares of Common Stock are held by Cayman.   The interest of Marxe and Greenhouse in the shares of Common Stock owned by QP and Cayman is limited to the extent of his pecuniary interest."
        ],
        [
         "644773",
         "0001209191-18-043784",
         "J",
         "A",
         "0.2488441711883136",
         "0",
         "Represents the 2017 ESOP allocation reflected in reporting owner's account as of 12/31/2017. Exempt under Rule 16A-11 Additional shares resulting from dividend reinvestments Exercisable 20% per year beginning on first anniversary date of grant Exercisable 33% per year beginning on first anniversary date of grant Exercisable 33% immediately, then 33% per year on first anniversary date of grant."
        ],
        [
         "418889",
         "0001437749-19-011812",
         "S",
         "D",
         "0.5456458075461988",
         "1",
         "In accordance with the reporting person's 10b5-1 trading plan."
        ],
        [
         "622321",
         "0001209191-20-060082",
         "G",
         "D",
         "0.89330240677326",
         "1",
         "On 11/20/20, the reporting person transferred to the BBSJ Dozier Revocable Trust, of which the reporting person and her husband are trustees, settlors and beneficiaries, (i) 476 shares previously owned by the reporting person, (ii) 7,920 shares previously owned by the reporting person's husband (and of which the reporting person previously disclaimed beneficial ownership), and (iii) 200 shares previously owned by the reporting person's two sons under the Uniform Gifts to Minors Act (and of which the reporting person previously disclaimed beneficial ownership). Represents shares of time-based restricted stock granted under the First US Bancshares, Inc. 2013 Incentive Plan that will vest in equal installments on the first, second, and third anniversaries of the grant date (2/26/20). Based on information provided by Warren Averett Asset Management, LLC, the recordkeeper of the First US Bancshares, Inc. 401(k) Plan, as of 11/20/20.  Shares held in the 401(k) Plan were previously reported as directly held but will be reported as indirectly held going forward."
        ],
        [
         "604379",
         "0001073429-18-000181",
         "S",
         "D",
         "0.2089682060760345",
         "0",
         "The sale was effected pursuant to a Rule 10b5-1 trading plan adopted by the reporting person on December 12, 2017."
        ],
        [
         "532778",
         "0001567619-21-017021",
         "S",
         "D",
         "0.89330240677326",
         "1",
         "The sales reported on this Form 4 were effected pursuant to a Rule 10b5-1 trading plan adopted by the Reporting Person. The price reported in Column 4 is a weighted average price. These shares were sold in multiple transactions at prices ranging from $62.90 to $63.89. The Reporting Person undertakes to provide Interactive Brokers Group, Inc. (the \"Company\"), any security holder of the Company, or the staff of the Securities and Exchange Commission, upon request, full information regarding the number of shares sold at each price within the ranges set forth in footnotes (2) - (4) to this Form 4. The price reported in Column 4 is a weighted average price. These shares were sold in multiple transactions at prices ranging from $63.90 to $63.98. The price reported in Column 4 is a weighted average price. These shares were sold in multiple transactions at prices ranging from $62.58 to $63.28."
        ],
        [
         "237458",
         "0000075252-13-000061",
         "S",
         "D",
         "0.89330240677326",
         "1",
         "Weighted average of the sale price range of $33.25 through $33.40. On 3/31/2010, the common stock of Owens & Minor, Inc. split 3-for-2, resulting in adjustments to the quantity and exercise price of reporting person's stock options."
        ],
        [
         "564356",
         "0000927628-21-000268",
         "S",
         "D",
         "0.8400502678399753",
         "1",
         "This transaction was executed pursuant to a trading plan entered into by the reporting person on July 27, 2021, in accordance with Rule 10b5-1 of the Securities Exchange Act of 1934, as amended. The price reported in Column 4 is a weighted average price. These shares were sold in multiple transactions at prices ranging from $173.67 to $174.52. Information regarding the number of shares sold at each price will be provided upon request."
        ],
        [
         "728109",
         "0001423774-21-000084",
         "S",
         "D",
         "0.89330240677326",
         "1",
         "This transaction was effected pursuant to a 10b5-1 trading plan adopted by the Reporting Person. Represents the weighted average sale price.  The lowest price at which shares were sold was $16.57 and the highest price at which shares were sold was $17.02.  The Reporting Person undertakes to provide upon request to the staff of the U.S. Securities and Exchange Commission, the Issuer or its stockholders, full information regarding the total number of shares sold at each separate price within the range set forth in this footnote. Includes 1,119 shares of Class A Common Stock acquired on June 14, 2021, pursuant to the Issuer's employee stock purchase plan."
        ],
        [
         "677546",
         "0001127602-21-022529",
         "S",
         "D",
         "0.8390478463394041",
         "1",
         "Pursuant to 10b5-1 Plan Vesting occurs 25% per year beginning one year from grant date."
        ],
        [
         "261808",
         "0000833640-20-000087",
         "S",
         "D",
         "0.6472655321196612",
         "1",
         "Represents the automatic sale of stock to cover the tax liability associated with the vesting of a Restricted Stock Award."
        ],
        [
         "685584",
         "0001104659-19-072973",
         "P",
         "A",
         "0.4785670472260569",
         "0",
         "The price reported in Column 4 is a weighted average price.  These shares were purchased in multiple transactions at prices ranging from $1.8332 to $1.845, inclusive.  The reporting person undertakes to provide to Broadwind Energy, Inc., any security holder of Broadwind Energy, Inc., or the staff of the Securities and Exchange Commission, upon request, full information regarding the number of shares purchased at each separate price within the ranges set forth in this footnote (1) to this Form 4. Includes (i) 1,785 restricted stock units that vest on 2/21/20; (ii) 10,750 restricted stock units that vest 5,375 shares on each of 2/20/20 and 2/20/21; and (iii) 25,397 restricted stock units that vest 8,465 shares on 4/23/20 and 8,466 shares on each of 4/23/21 and 4/23/22."
        ],
        [
         "266761",
         "0000877890-20-000059",
         "S",
         "D",
         "0.546547193563164",
         "1",
         "The sales reported in this Form 4 were made pursuant to a Rule 10b5-1 plan adopted by the Reporting Person on November 6, 2019."
        ],
        [
         "614280",
         "0001225208-13-014334",
         "S",
         "D",
         "0.2089682060760345",
         "0",
         "The sale was effected pursuant to a Rule 10b5-1 trading plan adopted by the reporting person on August 31, 2012, as amended. The reported price is a weighted average sale price.  These shares were sold in mulitiple transactions at prices ranging from $52.78 to $53.32.  The reporting person will provide to the issuer, any security holder of the issuer, or the SEC staff, upon request, full information regarding the number of shares sold at each separate price within the range. The reported price is a weighted average sale price.  These shares were sold in mulitiple transactions at prices ranging from $51.73 to $52.72.  The reporting person will provide to the issuer, any security holder of the issuer, or the SEC staff, upon request, full information regarding the number of shares sold at each separate price within the range. The reported price is a weighted average sale price.  These shares were sold in mulitiple transactions at prices ranging from $51.74 to $52.2950.  The reporting person will provide to the issuer, any security holder of the issuer, or the SEC staff, upon request, full information regarding the number of shares sold at each separate price within the range. The reported price is a weighted average sale price.  These shares were sold in mulitiple transactions at prices ranging from $50.7350 to $51.7300.  The reporting person will provide to the issuer, any security holder of the issuer, or the SEC staff, upon request, full information regarding the number of shares sold at each separate price within the range."
        ],
        [
         "729428",
         "0001609711-21-000104",
         "S",
         "D",
         "0.89330240677326",
         "1",
         "Represents shares of Class A Common Stock of the Issuer sold to satisfy the Reporting Person's tax withholding obligations."
        ],
        [
         "699852",
         "0001179110-19-012107",
         "S",
         "D",
         "1.0",
         "1",
         "Represents a weighted average sales price; the sales prices range from $41.535 to $41.64. Upon request, the full sale information regarding the number of shares sold at each price increment will be provided to the Commission or to the security holder of the issuer."
        ],
        [
         "615242",
         "0001209191-20-058134",
         "S",
         "D",
         "0.89330240677326",
         "1",
         "This transaction was executed pursuant to a Rule 10b5-1 trading plan."
        ],
        [
         "142534",
         "0000831641-21-000066",
         "S",
         "D",
         "0.89330240677326",
         "1",
         "$152.0266 is an average price. Shares were sold at prices ranging from $152.010 to $152.125 per share. The option becomes exercisable as to 100% of the shares on the anniversary of the grant date. The option granted expires 10 years after the grant date."
        ],
        [
         "592736",
         "0001235802-18-000096",
         "S",
         "D",
         "1.0",
         "1",
         "These shares were sold under a pre-arranged sales instruction pursuant to Rule 10b5-1 under the Securities Exchange Act of 1934, as amended. The price reported in Column 4 is a weighted average price. These shares were sold in multiple transactions at prices ranging from $13.93 to $14.44, inclusive. The reporting person undertakes to provide to Quinstreet, Inc., any security holder of Quinstreet, Inc., or the staff of the Securities and Exchange Commission, upon request, full information regarding the number of shares sold at each separate price within the ranges set forth in this footnote (2) to this Form 4. Includes 13,888 shares of common stock that are issuable pursuant to a Restricted Stock Unit (RSU) award.  The vesting commencement date of the RSU award is November 10, 2017 and it vests daily over one year. Pursuant to a letter agreement with SPVC V, LLC, the reporting person holds this security for the sole benefit of SPVC V, LLC. Represents securities held directly by SPVC Affiliates Fund I, LLC, which is jointly managed by Split Rock Partners, LLC and Vesbridge Partners, LLC.  Voting and investment power over the shares, however, has been delegated solely to Split Rock Partners, LLC.  Split Rock Partners, LLC has delegated voting and investment decisions with respect to the shares to three individuals (one of whom is the reporting person) who require a two-thirds vote to act.  The reporting person disclaims beneficial ownership of the reported securities, except to the extent of any pecuniary interest therein.  This report shall not be deemed an admission that the reporting person is the beneficial owner of such securities for purposes of Section 16 or for any other purpose. Represents securities held directly by SPVC V, LLC, which is jointly managed by Split Rock Partners, LLC and Vesbridge Partners, LLC.  Voting and investment power over the shares, however, has been delegated solely to Split Rock Partners, LLC. Split Rock Partners, LLC has delegated voting and investment decisions with respect to the shares to three individuals (one of whom is the reporting person) who require a two-thirds vote to act.  The reporting person disclaims beneficial ownership of the reported securities, except to the extent of any pecuniary interest therein.  This report shall not be deemed an admission that the reporting person is the beneficial owner of such securities for purposes of Section 16 or for any other purpose. The price reported in Column 4 is a weighted average price. These shares were sold in multiple transactions at prices ranging from $13.91 to $14.20, inclusive. The reporting person undertakes to provide to Quinstreet, Inc., any security holder of Quinstreet, Inc., or the staff of the Securities and Exchange Commission, upon request, full information regarding the number of shares sold at each separate price within the ranges set forth in this footnote (7) to this Form 4. The price reported in Column 4 is a weighted average price. These shares were sold in multiple transactions at prices ranging from $13.96 to $14.19, inclusive. The reporting person undertakes to provide to Quinstreet, Inc., any security holder of Quinstreet, Inc., or the staff of the Securities and Exchange Commission, upon request, full information regarding the number of shares sold at each separate price within the ranges set forth in this footnote (8) to this Form 4. Represents securities held directly by the James Rexroad Simons Trust, which the reporting person is the trustee.  The reporting person disclaims beneficial ownership of the reported securities, except to the extent of any pecuniary interest therein.  This report shall not be deemed an admission that the reporting person is the beneficial owner of such securities for purposes of Section 16 or for any other purpose."
        ],
        [
         "379426",
         "0001047862-13-000060",
         "P",
         "A",
         "0.3023598325899704",
         "0",
         "Purchase of shares of common stock of Consolidated Edison, Inc. (the \"Company\") under the Company's Stock Purchase Plan. Total includes 144.44 Deferred Stock Units (\"DSUs\") acquired on March 15, 2013 pursuant to the Company's Long Term Incentive Plan's dividend reinvestment provision.    Each DSU represents one share of the Company's common stock."
        ],
        [
         "662858",
         "0000912093-20-000123",
         "S",
         "D",
         "0.2089682060760345",
         "0",
         "Each unit converts upon vesting into one share of common stock. Reflects a decrease of 7,116 shares that were transferred pursuant to an exempt transaction. These shares were retained by the Company in order to meet the tax withholding obligations of the award-holder in connection with the vesting of an installment of the restricted stock award. The amount retained by the Company was not in excess of the amount of the tax liability. This transaction was executed in multiple trades at prices ranging from $13.61 to $13.62. The price reported above reflects the weighted average sale price. The reporting person hereby undertakes to provide upon request to the SEC staff, the issuer or a security holder of the issuer full information regarding the number of shares and prices at which the transaction was effected. There are no expiration dates on RSUs."
        ],
        [
         "574553",
         "0001104659-18-046324",
         "S",
         "D",
         "0.4785670472260569",
         "0",
         "The sales reported in this Form 4 were effected pursuant to a Rule 10b5-1 trading plan. The price reported in Column 4 is a weighted average price. These shares were sold in multiple transactions ranging from $25.90 to $26.46, inclusive. The Reporting Person undertakes to provide to the Issuer, any security holder of the Issuer, or the staff of the Securities and Exchange Commission, upon request, full information regarding the number of shares sold at each separate price within the range set forth above. The price reported in Column 4 is a weighted average price. These shares were sold in multiple transactions ranging from $25.75 to $26.21, inclusive. The Reporting Person undertakes to provide to the Issuer, any security holder of the Issuer, or the staff of the Securities and Exchange Commission, upon request, full information regarding the number of shares sold at each separate price within the range set forth above. Reflects securities held by a trust for the benefit of Mr. Hill's family, for which Mr. Hill's spouse serves as trustee."
        ],
        [
         "259749",
         "0001127602-18-025110",
         "S",
         "D",
         "0.4785670472260569",
         "0",
         "The price reported is a weighted average price. Shares were sold in a series of transactions within the same trading day at prices ranging from $88.44 to $88.76, inclusive. Full information regarding the number of shares sold at each separate price is available upon request by the Commission staff, the issuer, or a security holder of the issuer."
        ],
        [
         "643983",
         "0001109189-19-000027",
         "S",
         "D",
         "0.2089682060760345",
         "0",
         "Reflects the weighted average sales price for the common stock. These shares were sold in multiple transactions at prices ranging from $4.7300 to $4.7500, inclusive. The reporting person will provide upon request by the SEC staff, the issuer or any security holder of the issuer, full information regarding the number of shares sold at each separate price."
        ],
        [
         "583467",
         "0001104659-19-013683",
         "S",
         "D",
         "0.3748193090496582",
         "0",
         "In connection with the vesting of 2,890 shares on March 6, 2019, a total of 1,381 of such shares were sold by the Company in order to satisfy the reporting person's tax withholding obligations. The reporting person had no discretion with respect to such sale, which was conducted automatically in accordance with the issuer's corporate policies. Reflects the weighted average sale price. The range of prices for such transaction is $11.20 to $11.54. The reporting person effected multiple same-way open market sale transactions on the same day at different prices through a trade order executed by a broker-dealer. The reporting person reported on a single line all such transactions that occurred within a one dollar price range. The reporting person hereby undertakes to provide upon request by the Securities Exchange Commission staff, the issuer, or a shareholder of the issuer, full information regarding the number of shares sold at each separate price. Of the 238,960 shares, 201,880 shares are restricted stock."
        ],
        [
         "613696",
         "0001209191-13-028270",
         "J",
         "A",
         "0.2089682060760345",
         "0",
         "Represents dividend equivalent rights accrued on restricted stock units awarded to the reporting person on 02/21/2013 in conjunction with the issuer's payment of a special dividend on May 20, 2013 of $6.63 per share of common stock.  The dividend equivalent rights will be converted into, and paid in the form of, shares of the issuer's common stock on a one-for-one basis in connection with the vesting of the underlying restricted stock units to which the dividend equivalent rights relate and shall be subject to the same vesting and other restrictions as the original award. Includes 28292 restricted stock units, each representing a contingent right to receive one share of issuer common stock. On May 20, 2013, the Issuer paid a special dividend to stockholders of record on April 19, 2013.  As a result of the special dividend, the reporting person received 1607 shares of common stock on May 20, 2013."
        ],
        [
         "141070",
         "0001209191-20-059337",
         "S",
         "D",
         "0.89330240677326",
         "1",
         "The price reported in Column 4 is a weighted average price.  The shares were sold in multiple transactions ranging from $ 94.094 to $ 94.723, inclusive.  The reporting person undertakes to provide, upon request, full information regarding the number of shares sold at each separate price within the range set forth in this footnote (1). The price reported in Column 4 is a weighted average price.  The shares were sold in multiple transactions ranging from $ 94.008 to $ 94.053, inclusive.  The reporting person undertakes to provide, upon request, full information regarding the number of shares sold at each separate price within the range set forth in this footnote (2)."
        ],
        [
         "381401",
         "0001181431-14-016678",
         "S",
         "D",
         "0.8456624912370264",
         "1",
         "Transaction pursuant to a 10b5-1 Trading Plan adopted by the Reporting Person in accordance with Rule 10b5-1 of the Securities Exchange Act of 1934, as amended. Each restricted stock unit represents a contingent right to receive one share of HomeAway common stock. On March 27, 2012, the reporting person was granted 11,561 restricted stock units. Six and one quarter percent (6.25%) of the restricted stock units will vest at the end of each quarter over a period of four years, measured from June 1, 2012, subject to continued service through each such vesting date. 25% of the shares of Common Stock subject to the Option shall vest on the date which is one year following the Vesting Commencement Date and an additional one forty-eighth (1/48th) of the total number of shares of Common Stock subject to the Option shall vest on the corresponding day of each month thereafter, or to the extent such a month does not have the corresponding day, on the last day of any such month, and will be fully vested as of June 18, 2014. 6.25% of the shares of Common Stock subject to the Option shall vest on the date which is three months following the Vesting Commencement Date and an additional one forty-eighth (1/48th) of the total number of shares of Common Stock subject to the Option shall vest on the corresponding day of each month thereafter, or to the extent such a month does not have the corresponding day, on the last day of any such month, and will be fully vested as of December 10, 2014. 6.25% of the shares of Common Stock subject to the Option shall vest on the date which is three months following the Vesting Commencement Date and an additional one forty-eighth (1/48th) of the total number of shares of Common Stock subject to the Option shall vest on the corresponding day of each month thereafter, or to the extent such a month does not have the corresponding day, on the last day of any such month, and will be fully vested as of April 1, 2016. 6.25% of the shares of Common Stock subject to the Option shall vest on the date which is three months following the Vesting Commencement Date and an additional one forty-eighth (1/48th) of the total number of shares of Common Stock subject to the Option shall vest on the corresponding day of each month thereafter, or to the extent such a month does not have the corresponding day, on the last day of any such month, and will be fully vested as of April 1, 2017."
        ],
        [
         "182765",
         "0001654954-18-008038",
         "S",
         "D",
         "0.8400502678399753",
         "1",
         "Shares sold pursuant to a pre-established 10b5-1(c ) trading plan."
        ],
        [
         "681171",
         "0001669572-20-000002",
         "P",
         "A",
         "0.350026040154469",
         "0",
         "Shares acquired pursuant to employee's participation in the Company's ESPP."
        ],
        [
         "652401",
         "0001596158-20-000018",
         "P",
         "A",
         "0.89330240677326",
         "1",
         "Shares purchased pursuant to 10b5-1 plan Shares purchased at average execution price of $5.24278. Subject to certain restrictions, 90,768 shares vest on February 28, 2021."
        ],
        [
         "623868",
         "0001633917-20-000052",
         "S",
         "D",
         "0.2089682060760345",
         "0",
         "The sales reported in this Form 4 were effected pursuant to a Rule 10b5-1 trading plan."
        ],
        [
         "695020",
         "0001209191-20-063288",
         "J",
         "D",
         "0.5178328434354665",
         "1",
         "Reflects the conversion of Class A Common Units (\"Class A Units\") of Carvana Group, LLC (\"Carvana Group\") owned directly by Ernest C. Garcia II into shares of Class A Common Stock (\"Class A Shares\") of the Issuer pursuant to the Exchange Agreement, dated April 27, 2017, by and among the Issuer, Carvana Co. Sub LLC, Carvana Group and the members of Carvana Group (the \"Exchange Agreement\"). These Class A Units are owned directly by the 2004 Trust and are exchangeable for 0.8 Class A Shares pursuant to the Exchange Agreement. These Class A Units are owned directly by the Multi-Generational Trust and are exchangeable for 0.8 Class A Shares pursuant to the Exchange Agreement. These Class A Units are owned directly by E-SPE and are exchangeable for 0.8 Class A Shares pursuant to the Exchange Agreement. The sales reported on this Form 4 were effected pursuant to a Rule 10b5-1 trading plan adopted by Ernest C. Garcia II and Elizabeth Joanne Garcia on June 15, 2020, as modified. Column 4 reflects weighted average prices. These shares were sold in multiple transactions at prices ranging from $252.76-$253.58 inclusive (weighted average of $253.1713); $253.79-$254.40 inclusive (weighted average of $254.1443); $254.94-$255.91 inclusive (weighted average of $255.6138); $256.04-$257.01 inclusive (weighted average of $256.5673); $257.04-$258.02 inclusive (weighted average of $257.5013); $258.04-$259.03 inclusive (weighted average of $258.4954); $259.05-$260.04 inclusive (weighted average of $259.7297); $260.05-$261.04 inclusive (weighted average of $260.3616); and $261.09-$262.08 inclusive (weighted average of $261.6262), respectively.  The reporting person undertakes to provide issuer, a securityholder of the issuer or to SEC staff, upon request, full information regarding the number of shares sold at each separate price within the ranges set forth herein. These Class A Shares are owned directly by Verde Investments, Inc., an entity which Mr. Garcia wholly owns and controls. These Class A Shares are owned directly by the Ernest C. Garcia III Multi-Generational Trust III (the \"Multi-Generational Trust\").  Mr. Garcia has sole investment and dispository power over the Multi-Generational Trust assets and Mr. Garcia's son, Ernie Garcia, III, together with Ernie Garcia, III's children, are the sole beneficiaries of the Multi-Generational Trust. Reflects the cancellation for no consideration of Class B Common Stock of the Issuer (\"Class B Shares\") in connection with the conversion of Class A Units into Class A Shares.  Following the reported transaction, the remaining Class B Shares are owned directly by Ernest C. Garcia II. These Class B Shares are owned directly by the Ernest Irrevocable 2004 Trust III (the \"2004 Trust\").  Mr. Garcia has shared investment and dispository power over the 2004 Trust assets and Mr. Garcia's son, Ernie Garcia, III, is the sole beneficiary of the 2004 Trust. These Class B Shares are owned directly by the Multi-Generational Trust. These Class B Shares are owned directly by ECG II SPE, LLC (\"E-SPE\"), an entity which Mr. Garcia wholly owns and controls."
        ],
        [
         "278619",
         "0001209191-17-041114",
         "S",
         "D",
         "0.2089682060760345",
         "0",
         "Represents the exercise price of the Stock Options referenced in Table II and Mr. Kra's tax liability, which were paid by way of withholding by the Company of shares of equal value. Represents the weighted average of the sale prices on June 16, 2017, ranging from $58.95 to $59.35. Options vested 20% on December 12, 2013, with the remaining 80% vesting in equal quarterly installments over the next four years. The grant of restricted stock units was previously reported as 32,352, but has been adjusted to reflect a 2-for-1 stock split that occurred on April 1, 2014."
        ],
        [
         "703443",
         "0000831641-19-000092",
         "J",
         "A",
         "0.8072284845604474",
         "1",
         "80 shares of common stock were acquired by the Reporting Person on December 14, 2018, pursuant to the Tetra Tech, Inc. Employee Stock Purchase Plan (ESPP)."
        ],
        [
         "542115",
         "0001209191-20-012069",
         "J",
         "A",
         "0.8775766426279378",
         "1",
         "Represents a transfer of shares of Common Stock of TechTarget, Inc. by the Strakosch Family 2014 Irrevocable Trust to Greg Strakosch in exchange for fixed income securities and cash transferred to the trust with an aggregate value of $6,347,689. The shares were previously reported as indirectly beneficially owned by the reporting person."
        ],
        [
         "658477",
         "0001505732-20-000148",
         "P",
         "A",
         "0.4025231854431007",
         "0",
         "Range of reported purchase price is $18.91 - $18.99. Reporting person agrees to provide individual transaction information to SEC upon request. 3,520 shares of restricted stock granted on February 7, 2020, pursuant to the 2012 Bankwell Financial Group, Inc. Stock Plan and will fully vest on February 7, 2025. 1,200 shares of restricted stock granted on December 20, 2019, pursuant to the 2012 Bankwell Financial Group, Inc. Stock Plan and will vest in four equal annual installments of 25%, with the first installment to vest on January 2, 2021 and an additional 25% to vest on each annual anniversary of the vesting date thereafter. 1,200 shares of restricted stock granted on March 4, 2019, pursuant to the 2012 Bankwell Financial Group, Inc. Stock Plan and will vest in four equal annual installments of 25%, with the first installment to vest on February 7, 2020 and an additional 25% to vest on each annual anniversary of the vesting date thereafter. As of the transaction date, 300 shares have vested. 1,000 shares of restricted stock granted on March 22, 2018, pursuant to the 2012 Bankwell Financial Group, Inc. Stock Plan and will vest in four equal annual installments of 25%, with the first installment to vest on February 7, 2019 and an additional 25% to vest on each annual anniversary of the vesting date thereafter. As of the transaction date, 500 shares have vested."
        ],
        [
         "664542",
         "0000899243-17-009488",
         "S",
         "D",
         "0.545601978692056",
         "1",
         "The sale reported in the Form 4 was effected pursuant to a Rule 10b5 1 trading plan adopted by the Reporting Person. The transaction was executed in multiple trades in prices ranging from $20.45 to $21.25, inclusive.  The price reported in Column 4 above reflects the weighted average sale price.  The Reporting Person hereby undertakes to provide upon request to the SEC staff, the Issuer, or a stockholder of the Issuer, information regarding the number of shares and prices at which the transaction was effected. These shares are held by the Herman Trust, dated March 16, 2001, of which Reporting Person is a co trustee."
        ],
        [
         "568267",
         "0001616707-21-000142",
         "S",
         "D",
         "0.6679604055444062",
         "1",
         "Represents the number of shares required to be sold by the reporting person to cover tax withholding obligations in connection with the vesting of the RSUs listed in Table II and does not represent a discretionary trade by the reporting person. The price reported in Column 4 is a weighted average price. These shares were sold in multiple transactions at prices ranging from $242.37 to $243.28, inclusive. The reporting person undertakes to provide to Wayfair Inc., any security holder of Wayfair Inc., or the staff of the Securities and Exchange Commission, upon request, full information regarding the number of shares sold at each separate price within the ranges set forth in this footnote. The reporting person is the trustee of the revocable trust. Each RSU represents a contingent right to receive one share of Class A Common Stock when vested. These shares of Class A Common Stock are issuable upon vesting of a RSU. The RSU vests upon the satisfaction of a service condition and have no expiration date. The service condition is satisfied as to 1/8th of the shares on August 1, 2020 and as to an additional 1/8th of the shares for each 3-month period of continuous service thereafter."
        ],
        [
         "655835",
         "0001127602-17-019596",
         "S",
         "D",
         "0.2089682060760345",
         "0",
         "Restricted Stock Units convert to shares of common stock on a one-for-one basis. These restricted stock units vested as to 25% of the original grant on November 25, 2015 and vest as to 1/16 of the original grant quarterly thereafter."
        ],
        [
         "655960",
         "0001127602-17-017545",
         "S",
         "D",
         "0.2089682060760345",
         "0",
         "The price reported is a weighted average price. Shares were sold in a series of transactions within the same trading day at prices ranging from $84.65 to $85.07, inclusive. Full information regarding the number of shares sold at each separate price is available upon request by the Commission staff, the issuer, or a security holder of the issuer."
        ],
        [
         "690340",
         "0001127602-18-027169",
         "P",
         "A",
         "1.0",
         "1",
         "Shares purchased pursuant to 10b5-1 plan 2018-Sept-6- Weighted Average- Share Price represents average price between $61.595 and $62.49. 2018-Sept-7- Weighted Average- Share Price represents average price between $61.86 and $62.49. nan"
        ],
        [
         "335649",
         "0000754811-17-000035",
         "J",
         "A",
         "0.4031339724817977",
         "0",
         "Restricted stock purchase under employee stock purchase plan"
        ],
        [
         "630502",
         "0001144204-13-024661",
         "S",
         "D",
         "0.8884602267077996",
         "1",
         "Of which, 132,813 shares of common stock are represented by unvested restricted stock units. Mr. Lang is the manager of Innovation Spring LLC (\"Innovation Spring\") and has the sole power to dispose or direct the disposition of the securities held by Innovation Spring. Innovation Spring Trust is the sole member and 100% owner of Innovation Spring and has the sole power to vote or direct the vote over the securities held by Innovation Spring. Mr. Lang does not have power to vote or direct the vote over the securities held by Innovation Spring."
        ],
        [
         "629462",
         "0001144204-14-031750",
         "P",
         "A",
         "0.89330240677326",
         "1",
         "Reflects shares of common stock of the Issuer held directly by Felix J. Baker. The price reported in Column 4 is a weighted average price. These shares were purchased by Life Sciences and 14159 in multiple transactions at prices ranging from $34.46 to $34.90, inclusive. The reporting persons undertake to provide to the Issuer, any security holder of the Issuer, or the staff of the Securities and Exchange Commission, upon request, full information regarding the number of shares traded at each separate price within the range set forth in this footnote. The price reported in Column 4 is a weighted average price. These shares were purchased by Life Sciences and 14159 in multiple transactions at prices ranging from $33.44 to $34.35, inclusive. The reporting persons undertake to provide to the Issuer, any security holder of the Issuer, or the staff of the Securities and Exchange Commission, upon request, full information regarding the number of shares traded at each separate price within the range set forth in this footnote. The price reported in Column 4 is a weighted average price. These shares were purchased by Life Sciences and 14159 in multiple transactions at prices ranging from $34.48 to $34.80, inclusive. The reporting persons undertake to provide to the Issuer, any security holder of the Issuer, or the staff of the Securities and Exchange Commission, upon request, full information regarding the number of shares traded at each separate price within the range set forth in this footnote. The price reported in Column 4 is a weighted average price. These shares were purchased by Life Sciences and 14159 in multiple transactions at prices ranging from $33.16 to $34.15, inclusive. The reporting persons undertake to provide to the Issuer, any security holder of the Issuer, or the staff of the Securities and Exchange Commission, upon request, full information regarding the number of shares traded at each separate price within the range set forth in this footnote. The price reported in Column 4 is a weighted average price. These shares were purchased by Life Sciences and 14159 in multiple transactions at prices ranging from $34.16 to $35.00, inclusive. The reporting persons undertake to provide to the Issuer, any security holder of the Issuer, or the staff of the Securities and Exchange Commission, upon request, full information regarding the number of shares traded at each separate price within the range set forth in this footnote. The price reported in Column 4 is a weighted average price. These shares were purchased by Life Sciences and 14159 in multiple transactions at prices ranging from $33.13 to $34.12, inclusive. The reporting persons undertake to provide to the Issuer, any security holder of the Issuer, or the staff of the Securities and Exchange Commission, upon request, full information regarding the number of shares traded at each separate price within the range set forth in this footnote. The price reported in Column 4 is a weighted average price. These shares were purchased by Life Sciences and 14159 in multiple transactions at prices ranging from $34.19 to $35.10, inclusive. The reporting persons undertake to provide to the Issuer, any security holder of the Issuer, or the staff of the Securities and Exchange Commission, upon request, full information regarding the number of shares traded at each separate price within the range set forth in this footnote. The aggregate indirect beneficial ownership reported on this form is 21,234,808 shares. Baker Bros. Advisors LP (the \"Adviser\") serves as the Investment Adviser to the Funds. In connection with the services provided by the Adviser, the Adviser receives an asset-based management fee that does not confer any pecuniary interest in the securities held by the Funds. Baker Bros. Advisors (GP) LLC (the Adviser GP\") is the Adviser's sole general partner. Julian C. Baker and Felix J. Baker are principals of the Adviser GP. The Adviser has complete and unlimited discretion and authority with respect to the investment and voting power of the securities held by the Funds. The general partners of the Funds relinquished to the Adviser all discretion and authority with respect to the investment and voting power of the securities held by the Funds. Julian C. Baker, Felix J. Baker, the Adviser GP and the Adviser disclaim beneficial ownership of the securities held directly by the Funds except to the extent of their pecuniary interest therein, and this report shall not be deemed an admission that any of Julian C. Baker, Felix J. Baker, the Adviser GP or the Adviser is a beneficial owner of such securities for purposes of Section 16 or any other purpose. This Form 4/A amends the Form 4 filing dated May 9, 2014, to change the year of the transaction date from 2013 to 2014. Reflects shares of common stock of the Issuer held directly by Julian C. Baker. As a result of their ownership interest in Baker Biotech Capital (GP), LLC, Felix J. Baker and Julian C. Baker may be deemed to have an indirect pecuniary interest in 3,872,076 shares of Common Stock of the Issuer beneficially owned by 667, L.P. (\"667\"), a limited partnership of which the sole general partner is Baker Biotech Capital, L.P., a limited partnership of which the sole general partner is Baker Biotech Capital (GP), LLC, due to Baker Biotech Capital, L.P.'s right to receive an allocation of a portion of the profits from 667. The price reported in Column 4 is a weighted average price. These shares were purchased by Baker Brothers Life Sciences, L.P. (\"Life Sciences\") and 14159, L.P. (\"14159\") in multiple transactions at prices ranging from $33.44 to $34.00, inclusive. The reporting persons undertake to provide to the Issuer, any security holder of the Issuer, or the staff of the Securities and Exchange Commission, upon request, full information regarding the number of shares traded at each separate price within the range set forth in this footnote. After giving effect to the transactions reported herein and as a result of their ownership interest in Baker Brothers Life Sciences Capital (GP), LLC, Julian C. Baker and Felix J. Baker each may be deemed to have an indirect pecuniary interest in the Issuer's shares of Common Stock reported in column 5 of Table I directly held by Life Sciences, a limited partnership of which the sole general partner is Baker Brothers Life Sciences Capital, L.P., a limited partnership of which the sole general partner is Baker Brothers Life Sciences Capital (GP), LLC, due to Baker Brothers Life Sciences Capital, L.P.'s right to receive an allocation of a portion of the profits from Life Sciences. After giving effect to the transactions reported herein and as a result of their ownership interest in 14159 Capital (GP), LLC, Julian C. Baker and Felix J. Baker each may be deemed to have an indirect pecuniary interest in the Issuer's shares of Common Stock reported in Column 5 of Table I directly held by 14159, and together with 667 and Life Sciences, the \"Funds\"), a limited partnership of which the sole general partner is 14159 Capital L.P., a limited partnership of which the sole general partner is 14159 Capital (GP), LLC, due to 14159 Capital L.P.'s right to receive an allocation of a portion of the profits from 14159. The price reported in Column 4 is a weighted average price. These shares were purchased by Life Sciences and 14159 in multiple transactions at prices ranging from $32.67 to $33.60, inclusive. The reporting persons undertake to provide to the Issuer, any security holder of the Issuer, or the staff of the Securities and Exchange Commission, upon request, full information regarding the number of shares traded at each separate price within the range set forth in this footnote. The price reported in Column 4 is a weighted average price. These shares were purchased by Life Sciences and 14159 in multiple transactions at prices ranging from $33.73 to $34.20, inclusive. The reporting persons undertake to provide to the Issuer, any security holder of the Issuer, or the staff of the Securities and Exchange Commission, upon request, full information regarding the number of shares traded at each separate price within the range set forth in this footnote. The price reported in Column 4 is a weighted average price. These shares were purchased by Life Sciences and 14159 in multiple transactions at prices ranging from $33.45 to $34.44, inclusive. The reporting persons undertake to provide to the Issuer, any security holder of the Issuer, or the staff of the Securities and Exchange Commission, upon request, full information regarding the number of shares traded at each separate price within the range set forth in this footnote."
        ],
        [
         "253327",
         "0001225208-19-005397",
         "G",
         "D",
         "0.89330240677326",
         "1",
         "Pursuant to the terms of the Agreement and Plan of Merger, dated as of October 9, 2018, as amended (the \"Merger Agreement\"), by and among Esterline Technologies Corporation  (\"Issuer\"), TransDigm Group Incorporated, and Thunderbird Merger Sub, Inc., each outstanding share of common stock of Issuer at the Effective Time (as defined in the Merger Agreement) was converted into the right to receive an amount in cash equal to $122.50."
        ],
        [
         "656879",
         "0000707179-18-000129",
         "J",
         "A",
         "0.1750551436411244",
         "0",
         "KSOP balance updated based upon current data. Old National Bancorp Employee Stock Purchase Plan. Includes 48,750 restricted stock units, 11,251 restricted stock shares and 41,028 shares of common stock. Fractional amounts have been rounded to the nearest whole number. Shares held with a broker in an IRA Shares of phantom stock are payable in cash following termination of the reporting person's employment with ONB or reporting person becoming disabled. The reporting person may transfer his phantom stock account into an alternative investment account at any time. Each share of phantom stock represents the right to receive one share of ONB common stock or the cash value thereof."
        ],
        [
         "674116",
         "0001514281-21-000098",
         "J",
         "A",
         "0.89330240677326",
         "1",
         "Represents restricted shares of common stock of the Issuer that have been awarded by Angelo, Gordon & Co., L.P. (\"Angelo Gordon\"), an affiliate of the manager of the Issuer, to the reporting person pursuant to a compensatory plan adopted by Angelo Gordon.  Two-thirds of the restricted shares vest on December 31, 2021 and the remaining one-third vest on December 31, 2022, in each case, subject to continued employment with Angelo Gordon."
        ]
       ],
       "shape": {
        "columns": 6,
        "rows": 97012
       }
      },
      "text/html": [
       "<div>\n",
       "<style scoped>\n",
       "    .dataframe tbody tr th:only-of-type {\n",
       "        vertical-align: middle;\n",
       "    }\n",
       "\n",
       "    .dataframe tbody tr th {\n",
       "        vertical-align: top;\n",
       "    }\n",
       "\n",
       "    .dataframe thead th {\n",
       "        text-align: right;\n",
       "    }\n",
       "</style>\n",
       "<table border=\"1\" class=\"dataframe\">\n",
       "  <thead>\n",
       "    <tr style=\"text-align: right;\">\n",
       "      <th></th>\n",
       "      <th>ACCESSION_NUMBER</th>\n",
       "      <th>TRANS_CODE</th>\n",
       "      <th>TRANS_ACQUIRED_DISP_CD</th>\n",
       "      <th>probability</th>\n",
       "      <th>prediction</th>\n",
       "      <th>FOOTNOTE_TXT</th>\n",
       "    </tr>\n",
       "  </thead>\n",
       "  <tbody>\n",
       "    <tr>\n",
       "      <th>612633</th>\n",
       "      <td>0001179110-18-011384</td>\n",
       "      <td>S</td>\n",
       "      <td>D</td>\n",
       "      <td>1.000000</td>\n",
       "      <td>1</td>\n",
       "      <td>This transaction was executed in multiple sale...</td>\n",
       "    </tr>\n",
       "    <tr>\n",
       "      <th>607376</th>\n",
       "      <td>0001209191-13-020246</td>\n",
       "      <td>S</td>\n",
       "      <td>D</td>\n",
       "      <td>0.877577</td>\n",
       "      <td>1</td>\n",
       "      <td>Pursuant to 10b5-1 plan.</td>\n",
       "    </tr>\n",
       "    <tr>\n",
       "      <th>33142</th>\n",
       "      <td>0001044321-13-000081</td>\n",
       "      <td>P</td>\n",
       "      <td>A</td>\n",
       "      <td>0.599162</td>\n",
       "      <td>1</td>\n",
       "      <td>This is a weighted average price. This is a jo...</td>\n",
       "    </tr>\n",
       "    <tr>\n",
       "      <th>644773</th>\n",
       "      <td>0001209191-18-043784</td>\n",
       "      <td>J</td>\n",
       "      <td>A</td>\n",
       "      <td>0.248844</td>\n",
       "      <td>0</td>\n",
       "      <td>Represents the 2017 ESOP allocation reflected ...</td>\n",
       "    </tr>\n",
       "    <tr>\n",
       "      <th>418889</th>\n",
       "      <td>0001437749-19-011812</td>\n",
       "      <td>S</td>\n",
       "      <td>D</td>\n",
       "      <td>0.545646</td>\n",
       "      <td>1</td>\n",
       "      <td>In accordance with the reporting person's 10b5...</td>\n",
       "    </tr>\n",
       "    <tr>\n",
       "      <th>...</th>\n",
       "      <td>...</td>\n",
       "      <td>...</td>\n",
       "      <td>...</td>\n",
       "      <td>...</td>\n",
       "      <td>...</td>\n",
       "      <td>...</td>\n",
       "    </tr>\n",
       "    <tr>\n",
       "      <th>204287</th>\n",
       "      <td>0001140361-18-031055</td>\n",
       "      <td>P</td>\n",
       "      <td>A</td>\n",
       "      <td>0.893302</td>\n",
       "      <td>1</td>\n",
       "      <td>Represents restricted stock units (\"RSUs\") tha...</td>\n",
       "    </tr>\n",
       "    <tr>\n",
       "      <th>548243</th>\n",
       "      <td>0001562180-19-005997</td>\n",
       "      <td>G</td>\n",
       "      <td>D</td>\n",
       "      <td>0.893302</td>\n",
       "      <td>1</td>\n",
       "      <td>This transaction was executed in multiple trad...</td>\n",
       "    </tr>\n",
       "    <tr>\n",
       "      <th>668626</th>\n",
       "      <td>0001104659-19-033425</td>\n",
       "      <td>S</td>\n",
       "      <td>D</td>\n",
       "      <td>1.000000</td>\n",
       "      <td>1</td>\n",
       "      <td>This transaction was executed in multiple trad...</td>\n",
       "    </tr>\n",
       "    <tr>\n",
       "      <th>18095</th>\n",
       "      <td>0001144204-14-027352</td>\n",
       "      <td>S</td>\n",
       "      <td>D</td>\n",
       "      <td>0.893302</td>\n",
       "      <td>1</td>\n",
       "      <td>This transaction relates to the distribution a...</td>\n",
       "    </tr>\n",
       "    <tr>\n",
       "      <th>310291</th>\n",
       "      <td>0001209191-14-038184</td>\n",
       "      <td>P</td>\n",
       "      <td>A</td>\n",
       "      <td>0.647266</td>\n",
       "      <td>1</td>\n",
       "      <td>The reporting person acquired these shares und...</td>\n",
       "    </tr>\n",
       "  </tbody>\n",
       "</table>\n",
       "<p>97012 rows × 6 columns</p>\n",
       "</div>"
      ],
      "text/plain": [
       "            ACCESSION_NUMBER TRANS_CODE TRANS_ACQUIRED_DISP_CD  probability  \\\n",
       "612633  0001179110-18-011384          S                      D     1.000000   \n",
       "607376  0001209191-13-020246          S                      D     0.877577   \n",
       "33142   0001044321-13-000081          P                      A     0.599162   \n",
       "644773  0001209191-18-043784          J                      A     0.248844   \n",
       "418889  0001437749-19-011812          S                      D     0.545646   \n",
       "...                      ...        ...                    ...          ...   \n",
       "204287  0001140361-18-031055          P                      A     0.893302   \n",
       "548243  0001562180-19-005997          G                      D     0.893302   \n",
       "668626  0001104659-19-033425          S                      D     1.000000   \n",
       "18095   0001144204-14-027352          S                      D     0.893302   \n",
       "310291  0001209191-14-038184          P                      A     0.647266   \n",
       "\n",
       "        prediction                                       FOOTNOTE_TXT  \n",
       "612633           1  This transaction was executed in multiple sale...  \n",
       "607376           1                           Pursuant to 10b5-1 plan.  \n",
       "33142            1  This is a weighted average price. This is a jo...  \n",
       "644773           0  Represents the 2017 ESOP allocation reflected ...  \n",
       "418889           1  In accordance with the reporting person's 10b5...  \n",
       "...            ...                                                ...  \n",
       "204287           1  Represents restricted stock units (\"RSUs\") tha...  \n",
       "548243           1  This transaction was executed in multiple trad...  \n",
       "668626           1  This transaction was executed in multiple trad...  \n",
       "18095            1  This transaction relates to the distribution a...  \n",
       "310291           1  The reporting person acquired these shares und...  \n",
       "\n",
       "[97012 rows x 6 columns]"
      ]
     },
     "execution_count": 18,
     "metadata": {},
     "output_type": "execute_result"
    }
   ],
   "source": [
    "sampled_df"
   ]
  },
  {
   "cell_type": "code",
   "execution_count": 19,
   "metadata": {},
   "outputs": [
    {
     "data": {
      "application/vnd.microsoft.datawrangler.viewer.v0+json": {
       "columns": [
        {
         "name": "index",
         "rawType": "int64",
         "type": "integer"
        },
        {
         "name": "ACCESSION_NUMBER",
         "rawType": "object",
         "type": "string"
        },
        {
         "name": "TRANS_CODE",
         "rawType": "object",
         "type": "string"
        },
        {
         "name": "TRANS_ACQUIRED_DISP_CD",
         "rawType": "object",
         "type": "string"
        },
        {
         "name": "probability",
         "rawType": "float64",
         "type": "float"
        },
        {
         "name": "prediction",
         "rawType": "int64",
         "type": "integer"
        },
        {
         "name": "FOOTNOTE_TXT",
         "rawType": "object",
         "type": "string"
        },
        {
         "name": "processed_txt",
         "rawType": "object",
         "type": "string"
        }
       ],
       "conversionMethod": "pd.DataFrame",
       "ref": "fa771461-fe9b-4972-89bb-f584cb1bea13",
       "rows": [
        [
         "612633",
         "0001179110-18-011384",
         "S",
         "D",
         "1.0",
         "1",
         "This transaction was executed in multiple sales through a sales order executed by a broker-dealer at prices ranging from $32.91 to $33.87. The price reported in this column reflects the weighted average sale price. The Reporting Person will provide upon request to the SEC staff, the Issuer, or a security holder of the Issuer, full information regarding the number of shares sold at each separate price. This transaction was executed in multiple sales through a sales order executed by a broker-dealer at prices ranging from $32.67 to $33.30. The price reported in this column reflects the weighted average sale price. The Reporting Person will provide upon request to the SEC staff, the Issuer, or a security holder of the Issuer, full information regarding the number of shares sold at each separate price. This transaction was executed in multiple sales through a sales order executed by a broker-dealer at prices ranging from $33.16 to $33.80. The price reported in this column reflects the weighted average sale price. The Reporting Person will provide upon request to the SEC staff, the Issuer, or a security holder of the Issuer, full information regarding the number of shares sold at each separate price.",
         "transaction execute multiple sale sale order execute broker-dealer price range price report column reflect weighted average sale price report person provide upon request sec staff issuer security holder issuer full information regard number share sell separate price transaction execute multiple sale sale order execute broker-dealer price range price report column reflect weighted average sale price report person provide upon request sec staff issuer security holder issuer full information regard number share sell separate price transaction execute multiple sale sale order execute broker-dealer price range price report column reflect weighted average sale price report person provide upon request sec staff issuer security holder issuer full information regard number share sell separate price"
        ],
        [
         "607376",
         "0001209191-13-020246",
         "S",
         "D",
         "0.8775766426279378",
         "1",
         "Pursuant to 10b5-1 plan.",
         "pursuant b- plan"
        ],
        [
         "33142",
         "0001044321-13-000081",
         "P",
         "A",
         "0.599162247599088",
         "1",
         "This is a weighted average price. This is a joint filing by Austin W. Marxe (Marxe) and David M. Greenhouse (Greenhouse).  They share voting and investment control over all securities owned by Special Situations Fund III QP, LP (QP) and Special Situations Cayman Fund, L.P. (Cayman), respectively 268,626 shares of Common Stock are held by QP and 91,448 shares of Common Stock are held by Cayman.   The interest of Marxe and Greenhouse in the shares of Common Stock owned by QP and Cayman is limited to the extent of his pecuniary interest.",
         "weighted average price joint filing austin w marxe marxe david greenhouse greenhouse share vote investment control security special situation fund iii qp lp qp special situation cayman fund lp cayman respectively share common stock hold qp share common stock hold cayman interest marxe greenhouse share common stock qp cayman limit extent pecuniary interest"
        ],
        [
         "644773",
         "0001209191-18-043784",
         "J",
         "A",
         "0.2488441711883136",
         "0",
         "Represents the 2017 ESOP allocation reflected in reporting owner's account as of 12/31/2017. Exempt under Rule 16A-11 Additional shares resulting from dividend reinvestments Exercisable 20% per year beginning on first anniversary date of grant Exercisable 33% per year beginning on first anniversary date of grant Exercisable 33% immediately, then 33% per year on first anniversary date of grant.",
         "represent esop allocation reflect report owner 's account exempt rule a- additional share result dividend reinvestments exercisable per year beginning first anniversary date grant exercisable per year beginning first anniversary date grant exercisable immediately per year first anniversary date grant"
        ],
        [
         "418889",
         "0001437749-19-011812",
         "S",
         "D",
         "0.5456458075461988",
         "1",
         "In accordance with the reporting person's 10b5-1 trading plan.",
         "accordance report person 's b- trading plan"
        ]
       ],
       "shape": {
        "columns": 7,
        "rows": 5
       }
      },
      "text/html": [
       "<div>\n",
       "<style scoped>\n",
       "    .dataframe tbody tr th:only-of-type {\n",
       "        vertical-align: middle;\n",
       "    }\n",
       "\n",
       "    .dataframe tbody tr th {\n",
       "        vertical-align: top;\n",
       "    }\n",
       "\n",
       "    .dataframe thead th {\n",
       "        text-align: right;\n",
       "    }\n",
       "</style>\n",
       "<table border=\"1\" class=\"dataframe\">\n",
       "  <thead>\n",
       "    <tr style=\"text-align: right;\">\n",
       "      <th></th>\n",
       "      <th>ACCESSION_NUMBER</th>\n",
       "      <th>TRANS_CODE</th>\n",
       "      <th>TRANS_ACQUIRED_DISP_CD</th>\n",
       "      <th>probability</th>\n",
       "      <th>prediction</th>\n",
       "      <th>FOOTNOTE_TXT</th>\n",
       "      <th>processed_txt</th>\n",
       "    </tr>\n",
       "  </thead>\n",
       "  <tbody>\n",
       "    <tr>\n",
       "      <th>612633</th>\n",
       "      <td>0001179110-18-011384</td>\n",
       "      <td>S</td>\n",
       "      <td>D</td>\n",
       "      <td>1.000000</td>\n",
       "      <td>1</td>\n",
       "      <td>This transaction was executed in multiple sale...</td>\n",
       "      <td>transaction execute multiple sale sale order e...</td>\n",
       "    </tr>\n",
       "    <tr>\n",
       "      <th>607376</th>\n",
       "      <td>0001209191-13-020246</td>\n",
       "      <td>S</td>\n",
       "      <td>D</td>\n",
       "      <td>0.877577</td>\n",
       "      <td>1</td>\n",
       "      <td>Pursuant to 10b5-1 plan.</td>\n",
       "      <td>pursuant b- plan</td>\n",
       "    </tr>\n",
       "    <tr>\n",
       "      <th>33142</th>\n",
       "      <td>0001044321-13-000081</td>\n",
       "      <td>P</td>\n",
       "      <td>A</td>\n",
       "      <td>0.599162</td>\n",
       "      <td>1</td>\n",
       "      <td>This is a weighted average price. This is a jo...</td>\n",
       "      <td>weighted average price joint filing austin w m...</td>\n",
       "    </tr>\n",
       "    <tr>\n",
       "      <th>644773</th>\n",
       "      <td>0001209191-18-043784</td>\n",
       "      <td>J</td>\n",
       "      <td>A</td>\n",
       "      <td>0.248844</td>\n",
       "      <td>0</td>\n",
       "      <td>Represents the 2017 ESOP allocation reflected ...</td>\n",
       "      <td>represent esop allocation reflect report owner...</td>\n",
       "    </tr>\n",
       "    <tr>\n",
       "      <th>418889</th>\n",
       "      <td>0001437749-19-011812</td>\n",
       "      <td>S</td>\n",
       "      <td>D</td>\n",
       "      <td>0.545646</td>\n",
       "      <td>1</td>\n",
       "      <td>In accordance with the reporting person's 10b5...</td>\n",
       "      <td>accordance report person 's b- trading plan</td>\n",
       "    </tr>\n",
       "  </tbody>\n",
       "</table>\n",
       "</div>"
      ],
      "text/plain": [
       "            ACCESSION_NUMBER TRANS_CODE TRANS_ACQUIRED_DISP_CD  probability  \\\n",
       "612633  0001179110-18-011384          S                      D     1.000000   \n",
       "607376  0001209191-13-020246          S                      D     0.877577   \n",
       "33142   0001044321-13-000081          P                      A     0.599162   \n",
       "644773  0001209191-18-043784          J                      A     0.248844   \n",
       "418889  0001437749-19-011812          S                      D     0.545646   \n",
       "\n",
       "        prediction                                       FOOTNOTE_TXT  \\\n",
       "612633           1  This transaction was executed in multiple sale...   \n",
       "607376           1                           Pursuant to 10b5-1 plan.   \n",
       "33142            1  This is a weighted average price. This is a jo...   \n",
       "644773           0  Represents the 2017 ESOP allocation reflected ...   \n",
       "418889           1  In accordance with the reporting person's 10b5...   \n",
       "\n",
       "                                            processed_txt  \n",
       "612633  transaction execute multiple sale sale order e...  \n",
       "607376                                   pursuant b- plan  \n",
       "33142   weighted average price joint filing austin w m...  \n",
       "644773  represent esop allocation reflect report owner...  \n",
       "418889        accordance report person 's b- trading plan  "
      ]
     },
     "execution_count": 19,
     "metadata": {},
     "output_type": "execute_result"
    }
   ],
   "source": [
    "test = sampled_df.head()\n",
    "test[\"processed_txt\"] = test[\"FOOTNOTE_TXT\"].apply(lambda row: preprocess_text(row))\n",
    "test"
   ]
  },
  {
   "cell_type": "code",
   "execution_count": 20,
   "metadata": {},
   "outputs": [],
   "source": [
    "text = sampled_df[\"FOOTNOTE_TXT\"]\n",
    "sampled_df[\"processed_txt\"] = sampled_df[\"FOOTNOTE_TXT\"].apply(lambda row: preprocess_text(row))\n",
    "\n",
    "# processed = np.array([preprocess_text(x) for x in text])\n",
    "vectorizer = TfidfVectorizer(stop_words='english', sublinear_tf=True, max_features=500)\n",
    "X = vectorizer.fit_transform(sampled_df[\"processed_txt\"])\n",
    "\n",
    "# Convert to DataFrame\n",
    "tfidf_df = pd.DataFrame(X.toarray(), columns=vectorizer.get_feature_names_out())\n"
   ]
  },
  {
   "cell_type": "code",
   "execution_count": 21,
   "metadata": {},
   "outputs": [
    {
     "data": {
      "text/plain": [
       "612633    1\n",
       "607376    1\n",
       "33142     1\n",
       "644773    0\n",
       "418889    1\n",
       "         ..\n",
       "204287    1\n",
       "548243    1\n",
       "668626    1\n",
       "18095     1\n",
       "310291    1\n",
       "Name: prediction, Length: 97012, dtype: int64"
      ]
     },
     "execution_count": 21,
     "metadata": {},
     "output_type": "execute_result"
    }
   ],
   "source": [
    "sampled_df[\"prediction\"]"
   ]
  },
  {
   "cell_type": "code",
   "execution_count": 22,
   "metadata": {},
   "outputs": [
    {
     "data": {
      "application/vnd.microsoft.datawrangler.viewer.v0+json": {
       "columns": [
        {
         "name": "index",
         "rawType": "int64",
         "type": "integer"
        },
        {
         "name": "accel",
         "rawType": "float64",
         "type": "float"
        },
        {
         "name": "accordance",
         "rawType": "float64",
         "type": "float"
        },
        {
         "name": "account",
         "rawType": "float64",
         "type": "float"
        },
        {
         "name": "accrue",
         "rawType": "float64",
         "type": "float"
        },
        {
         "name": "achieve",
         "rawType": "float64",
         "type": "float"
        },
        {
         "name": "achievement",
         "rawType": "float64",
         "type": "float"
        },
        {
         "name": "acquire",
         "rawType": "float64",
         "type": "float"
        },
        {
         "name": "acquisition",
         "rawType": "float64",
         "type": "float"
        },
        {
         "name": "act",
         "rawType": "float64",
         "type": "float"
        },
        {
         "name": "actual",
         "rawType": "float64",
         "type": "float"
        },
        {
         "name": "actually",
         "rawType": "float64",
         "type": "float"
        },
        {
         "name": "addition",
         "rawType": "float64",
         "type": "float"
        },
        {
         "name": "additional",
         "rawType": "float64",
         "type": "float"
        },
        {
         "name": "adjust",
         "rawType": "float64",
         "type": "float"
        },
        {
         "name": "adjustment",
         "rawType": "float64",
         "type": "float"
        },
        {
         "name": "admission",
         "rawType": "float64",
         "type": "float"
        },
        {
         "name": "adopt",
         "rawType": "float64",
         "type": "float"
        },
        {
         "name": "adviser",
         "rawType": "float64",
         "type": "float"
        },
        {
         "name": "advisor",
         "rawType": "float64",
         "type": "float"
        },
        {
         "name": "affiliate",
         "rawType": "float64",
         "type": "float"
        },
        {
         "name": "aggregate",
         "rawType": "float64",
         "type": "float"
        },
        {
         "name": "agreement",
         "rawType": "float64",
         "type": "float"
        },
        {
         "name": "ah",
         "rawType": "float64",
         "type": "float"
        },
        {
         "name": "aiv",
         "rawType": "float64",
         "type": "float"
        },
        {
         "name": "amend",
         "rawType": "float64",
         "type": "float"
        },
        {
         "name": "amended",
         "rawType": "float64",
         "type": "float"
        },
        {
         "name": "american",
         "rawType": "float64",
         "type": "float"
        },
        {
         "name": "andor",
         "rawType": "float64",
         "type": "float"
        },
        {
         "name": "anniversary",
         "rawType": "float64",
         "type": "float"
        },
        {
         "name": "annual",
         "rawType": "float64",
         "type": "float"
        },
        {
         "name": "annually",
         "rawType": "float64",
         "type": "float"
        },
        {
         "name": "annuity",
         "rawType": "float64",
         "type": "float"
        },
        {
         "name": "applicable",
         "rawType": "float64",
         "type": "float"
        },
        {
         "name": "appreciation",
         "rawType": "float64",
         "type": "float"
        },
        {
         "name": "approve",
         "rawType": "float64",
         "type": "float"
        },
        {
         "name": "approximately",
         "rawType": "float64",
         "type": "float"
        },
        {
         "name": "arista",
         "rawType": "float64",
         "type": "float"
        },
        {
         "name": "asset",
         "rawType": "float64",
         "type": "float"
        },
        {
         "name": "associate",
         "rawType": "float64",
         "type": "float"
        },
        {
         "name": "automatic",
         "rawType": "float64",
         "type": "float"
        },
        {
         "name": "automatically",
         "rawType": "float64",
         "type": "float"
        },
        {
         "name": "available",
         "rawType": "float64",
         "type": "float"
        },
        {
         "name": "average",
         "rawType": "float64",
         "type": "float"
        },
        {
         "name": "award",
         "rawType": "float64",
         "type": "float"
        },
        {
         "name": "baker",
         "rawType": "float64",
         "type": "float"
        },
        {
         "name": "balance",
         "rawType": "float64",
         "type": "float"
        },
        {
         "name": "bancorp",
         "rawType": "float64",
         "type": "float"
        },
        {
         "name": "base",
         "rawType": "float64",
         "type": "float"
        },
        {
         "name": "based",
         "rawType": "float64",
         "type": "float"
        },
        {
         "name": "basis",
         "rawType": "float64",
         "type": "float"
        },
        {
         "name": "bay",
         "rawType": "float64",
         "type": "float"
        },
        {
         "name": "bcip",
         "rawType": "float64",
         "type": "float"
        },
        {
         "name": "bcp",
         "rawType": "float64",
         "type": "float"
        },
        {
         "name": "begin",
         "rawType": "float64",
         "type": "float"
        },
        {
         "name": "behalf",
         "rawType": "float64",
         "type": "float"
        },
        {
         "name": "beneficial",
         "rawType": "float64",
         "type": "float"
        },
        {
         "name": "beneficially",
         "rawType": "float64",
         "type": "float"
        },
        {
         "name": "beneficiary",
         "rawType": "float64",
         "type": "float"
        },
        {
         "name": "benefit",
         "rawType": "float64",
         "type": "float"
        },
        {
         "name": "blackstone",
         "rawType": "float64",
         "type": "float"
        },
        {
         "name": "block",
         "rawType": "float64",
         "type": "float"
        },
        {
         "name": "board",
         "rawType": "float64",
         "type": "float"
        },
        {
         "name": "broker",
         "rawType": "float64",
         "type": "float"
        },
        {
         "name": "brookfield",
         "rawType": "float64",
         "type": "float"
        },
        {
         "name": "business",
         "rawType": "float64",
         "type": "float"
        },
        {
         "name": "buy",
         "rawType": "float64",
         "type": "float"
        },
        {
         "name": "bv",
         "rawType": "float64",
         "type": "float"
        },
        {
         "name": "bvf",
         "rawType": "float64",
         "type": "float"
        },
        {
         "name": "capacity",
         "rawType": "float64",
         "type": "float"
        },
        {
         "name": "capital",
         "rawType": "float64",
         "type": "float"
        },
        {
         "name": "case",
         "rawType": "float64",
         "type": "float"
        },
        {
         "name": "cash",
         "rawType": "float64",
         "type": "float"
        },
        {
         "name": "cayman",
         "rawType": "float64",
         "type": "float"
        },
        {
         "name": "certain",
         "rawType": "float64",
         "type": "float"
        },
        {
         "name": "certificate",
         "rawType": "float64",
         "type": "float"
        },
        {
         "name": "chairman",
         "rawType": "float64",
         "type": "float"
        },
        {
         "name": "change",
         "rawType": "float64",
         "type": "float"
        },
        {
         "name": "charitable",
         "rawType": "float64",
         "type": "float"
        },
        {
         "name": "chief",
         "rawType": "float64",
         "type": "float"
        },
        {
         "name": "child",
         "rawType": "float64",
         "type": "float"
        },
        {
         "name": "cim",
         "rawType": "float64",
         "type": "float"
        },
        {
         "name": "class",
         "rawType": "float64",
         "type": "float"
        },
        {
         "name": "closing",
         "rawType": "float64",
         "type": "float"
        },
        {
         "name": "collectively",
         "rawType": "float64",
         "type": "float"
        },
        {
         "name": "column",
         "rawType": "float64",
         "type": "float"
        },
        {
         "name": "commence",
         "rawType": "float64",
         "type": "float"
        },
        {
         "name": "commencement",
         "rawType": "float64",
         "type": "float"
        },
        {
         "name": "commission",
         "rawType": "float64",
         "type": "float"
        },
        {
         "name": "committee",
         "rawType": "float64",
         "type": "float"
        },
        {
         "name": "common",
         "rawType": "float64",
         "type": "float"
        },
        {
         "name": "company",
         "rawType": "float64",
         "type": "float"
        },
        {
         "name": "compensation",
         "rawType": "float64",
         "type": "float"
        },
        {
         "name": "comply",
         "rawType": "float64",
         "type": "float"
        },
        {
         "name": "condition",
         "rawType": "float64",
         "type": "float"
        },
        {
         "name": "connection",
         "rawType": "float64",
         "type": "float"
        },
        {
         "name": "consideration",
         "rawType": "float64",
         "type": "float"
        },
        {
         "name": "consist",
         "rawType": "float64",
         "type": "float"
        },
        {
         "name": "consists",
         "rawType": "float64",
         "type": "float"
        },
        {
         "name": "contingent",
         "rawType": "float64",
         "type": "float"
        },
        {
         "name": "continue",
         "rawType": "float64",
         "type": "float"
        },
        {
         "name": "continued",
         "rawType": "float64",
         "type": "float"
        },
        {
         "name": "continuous",
         "rawType": "float64",
         "type": "float"
        },
        {
         "name": "contribution",
         "rawType": "float64",
         "type": "float"
        },
        {
         "name": "control",
         "rawType": "float64",
         "type": "float"
        },
        {
         "name": "conversion",
         "rawType": "float64",
         "type": "float"
        },
        {
         "name": "convert",
         "rawType": "float64",
         "type": "float"
        },
        {
         "name": "convertible",
         "rawType": "float64",
         "type": "float"
        },
        {
         "name": "corp",
         "rawType": "float64",
         "type": "float"
        },
        {
         "name": "corporation",
         "rawType": "float64",
         "type": "float"
        },
        {
         "name": "correct",
         "rawType": "float64",
         "type": "float"
        },
        {
         "name": "cover",
         "rawType": "float64",
         "type": "float"
        },
        {
         "name": "credit",
         "rawType": "float64",
         "type": "float"
        },
        {
         "name": "criterion",
         "rawType": "float64",
         "type": "float"
        },
        {
         "name": "currently",
         "rawType": "float64",
         "type": "float"
        },
        {
         "name": "czi",
         "rawType": "float64",
         "type": "float"
        },
        {
         "name": "date",
         "rawType": "float64",
         "type": "float"
        },
        {
         "name": "david",
         "rawType": "float64",
         "type": "float"
        },
        {
         "name": "day",
         "rawType": "float64",
         "type": "float"
        },
        {
         "name": "death",
         "rawType": "float64",
         "type": "float"
        },
        {
         "name": "deem",
         "rawType": "float64",
         "type": "float"
        },
        {
         "name": "defer",
         "rawType": "float64",
         "type": "float"
        },
        {
         "name": "deferred",
         "rawType": "float64",
         "type": "float"
        },
        {
         "name": "define",
         "rawType": "float64",
         "type": "float"
        },
        {
         "name": "delaware",
         "rawType": "float64",
         "type": "float"
        },
        {
         "name": "deliver",
         "rawType": "float64",
         "type": "float"
        },
        {
         "name": "derivative",
         "rawType": "float64",
         "type": "float"
        },
        {
         "name": "determine",
         "rawType": "float64",
         "type": "float"
        },
        {
         "name": "direct",
         "rawType": "float64",
         "type": "float"
        },
        {
         "name": "directly",
         "rawType": "float64",
         "type": "float"
        },
        {
         "name": "director",
         "rawType": "float64",
         "type": "float"
        },
        {
         "name": "disclaim",
         "rawType": "float64",
         "type": "float"
        },
        {
         "name": "disclaims",
         "rawType": "float64",
         "type": "float"
        },
        {
         "name": "disclose",
         "rawType": "float64",
         "type": "float"
        },
        {
         "name": "discretion",
         "rawType": "float64",
         "type": "float"
        },
        {
         "name": "discretionary",
         "rawType": "float64",
         "type": "float"
        },
        {
         "name": "dispose",
         "rawType": "float64",
         "type": "float"
        },
        {
         "name": "disposition",
         "rawType": "float64",
         "type": "float"
        },
        {
         "name": "dispositive",
         "rawType": "float64",
         "type": "float"
        },
        {
         "name": "distribute",
         "rawType": "float64",
         "type": "float"
        },
        {
         "name": "distribution",
         "rawType": "float64",
         "type": "float"
        },
        {
         "name": "dividend",
         "rawType": "float64",
         "type": "float"
        },
        {
         "name": "dolby",
         "rawType": "float64",
         "type": "float"
        },
        {
         "name": "dr",
         "rawType": "float64",
         "type": "float"
        },
        {
         "name": "early",
         "rawType": "float64",
         "type": "float"
        },
        {
         "name": "earn",
         "rawType": "float64",
         "type": "float"
        },
        {
         "name": "economic",
         "rawType": "float64",
         "type": "float"
        },
        {
         "name": "effect",
         "rawType": "float64",
         "type": "float"
        },
        {
         "name": "effective",
         "rawType": "float64",
         "type": "float"
        },
        {
         "name": "elect",
         "rawType": "float64",
         "type": "float"
        },
        {
         "name": "election",
         "rawType": "float64",
         "type": "float"
        },
        {
         "name": "employee",
         "rawType": "float64",
         "type": "float"
        },
        {
         "name": "employment",
         "rawType": "float64",
         "type": "float"
        },
        {
         "name": "end",
         "rawType": "float64",
         "type": "float"
        },
        {
         "name": "energy",
         "rawType": "float64",
         "type": "float"
        },
        {
         "name": "enter",
         "rawType": "float64",
         "type": "float"
        },
        {
         "name": "entity",
         "rawType": "float64",
         "type": "float"
        },
        {
         "name": "epco",
         "rawType": "float64",
         "type": "float"
        },
        {
         "name": "equal",
         "rawType": "float64",
         "type": "float"
        },
        {
         "name": "equity",
         "rawType": "float64",
         "type": "float"
        },
        {
         "name": "equivalent",
         "rawType": "float64",
         "type": "float"
        },
        {
         "name": "establish",
         "rawType": "float64",
         "type": "float"
        },
        {
         "name": "estate",
         "rawType": "float64",
         "type": "float"
        },
        {
         "name": "event",
         "rawType": "float64",
         "type": "float"
        },
        {
         "name": "excess",
         "rawType": "float64",
         "type": "float"
        },
        {
         "name": "exchange",
         "rawType": "float64",
         "type": "float"
        },
        {
         "name": "exclude",
         "rawType": "float64",
         "type": "float"
        },
        {
         "name": "execute",
         "rawType": "float64",
         "type": "float"
        },
        {
         "name": "executive",
         "rawType": "float64",
         "type": "float"
        },
        {
         "name": "exempt",
         "rawType": "float64",
         "type": "float"
        },
        {
         "name": "exercisable",
         "rawType": "float64",
         "type": "float"
        },
        {
         "name": "exercise",
         "rawType": "float64",
         "type": "float"
        },
        {
         "name": "exhibit",
         "rawType": "float64",
         "type": "float"
        },
        {
         "name": "expiration",
         "rawType": "float64",
         "type": "float"
        },
        {
         "name": "expire",
         "rawType": "float64",
         "type": "float"
        },
        {
         "name": "extent",
         "rawType": "float64",
         "type": "float"
        },
        {
         "name": "fair",
         "rawType": "float64",
         "type": "float"
        },
        {
         "name": "family",
         "rawType": "float64",
         "type": "float"
        },
        {
         "name": "fbo",
         "rawType": "float64",
         "type": "float"
        },
        {
         "name": "fee",
         "rawType": "float64",
         "type": "float"
        },
        {
         "name": "file",
         "rawType": "float64",
         "type": "float"
        },
        {
         "name": "filing",
         "rawType": "float64",
         "type": "float"
        },
        {
         "name": "financial",
         "rawType": "float64",
         "type": "float"
        },
        {
         "name": "fiscal",
         "rawType": "float64",
         "type": "float"
        },
        {
         "name": "follow",
         "rawType": "float64",
         "type": "float"
        },
        {
         "name": "following",
         "rawType": "float64",
         "type": "float"
        },
        {
         "name": "footnote",
         "rawType": "float64",
         "type": "float"
        },
        {
         "name": "forfeiture",
         "rawType": "float64",
         "type": "float"
        },
        {
         "name": "form",
         "rawType": "float64",
         "type": "float"
        },
        {
         "name": "forth",
         "rawType": "float64",
         "type": "float"
        },
        {
         "name": "foundation",
         "rawType": "float64",
         "type": "float"
        },
        {
         "name": "fourth",
         "rawType": "float64",
         "type": "float"
        },
        {
         "name": "frost",
         "rawType": "float64",
         "type": "float"
        },
        {
         "name": "fully",
         "rawType": "float64",
         "type": "float"
        },
        {
         "name": "fund",
         "rawType": "float64",
         "type": "float"
        },
        {
         "name": "gamma",
         "rawType": "float64",
         "type": "float"
        },
        {
         "name": "garcia",
         "rawType": "float64",
         "type": "float"
        },
        {
         "name": "gei",
         "rawType": "float64",
         "type": "float"
        },
        {
         "name": "general",
         "rawType": "float64",
         "type": "float"
        },
        {
         "name": "gift",
         "rawType": "float64",
         "type": "float"
        },
        {
         "name": "global",
         "rawType": "float64",
         "type": "float"
        },
        {
         "name": "goal",
         "rawType": "float64",
         "type": "float"
        },
        {
         "name": "gp",
         "rawType": "float64",
         "type": "float"
        },
        {
         "name": "grant",
         "rawType": "float64",
         "type": "float"
        },
        {
         "name": "grantor",
         "rawType": "float64",
         "type": "float"
        },
        {
         "name": "grat",
         "rawType": "float64",
         "type": "float"
        },
        {
         "name": "group",
         "rawType": "float64",
         "type": "float"
        },
        {
         "name": "growth",
         "rawType": "float64",
         "type": "float"
        },
        {
         "name": "held",
         "rawType": "float64",
         "type": "float"
        },
        {
         "name": "high",
         "rawType": "float64",
         "type": "float"
        },
        {
         "name": "hill",
         "rawType": "float64",
         "type": "float"
        },
        {
         "name": "hold",
         "rawType": "float64",
         "type": "float"
        },
        {
         "name": "holdco",
         "rawType": "float64",
         "type": "float"
        },
        {
         "name": "holder",
         "rawType": "float64",
         "type": "float"
        },
        {
         "name": "holding",
         "rawType": "float64",
         "type": "float"
        },
        {
         "name": "home",
         "rawType": "float64",
         "type": "float"
        },
        {
         "name": "icahn",
         "rawType": "float64",
         "type": "float"
        },
        {
         "name": "ih",
         "rawType": "float64",
         "type": "float"
        },
        {
         "name": "ii",
         "rawType": "float64",
         "type": "float"
        },
        {
         "name": "iii",
         "rawType": "float64",
         "type": "float"
        },
        {
         "name": "immediately",
         "rawType": "float64",
         "type": "float"
        },
        {
         "name": "incentive",
         "rawType": "float64",
         "type": "float"
        },
        {
         "name": "include",
         "rawType": "float64",
         "type": "float"
        },
        {
         "name": "inclusion",
         "rawType": "float64",
         "type": "float"
        },
        {
         "name": "inclusive",
         "rawType": "float64",
         "type": "float"
        },
        {
         "name": "income",
         "rawType": "float64",
         "type": "float"
        },
        {
         "name": "incorporate",
         "rawType": "float64",
         "type": "float"
        },
        {
         "name": "incorporation",
         "rawType": "float64",
         "type": "float"
        },
        {
         "name": "increase",
         "rawType": "float64",
         "type": "float"
        },
        {
         "name": "increment",
         "rawType": "float64",
         "type": "float"
        },
        {
         "name": "index",
         "rawType": "float64",
         "type": "float"
        },
        {
         "name": "indicate",
         "rawType": "float64",
         "type": "float"
        },
        {
         "name": "indirect",
         "rawType": "float64",
         "type": "float"
        },
        {
         "name": "indirectly",
         "rawType": "float64",
         "type": "float"
        },
        {
         "name": "individual",
         "rawType": "float64",
         "type": "float"
        },
        {
         "name": "information",
         "rawType": "float64",
         "type": "float"
        },
        {
         "name": "initial",
         "rawType": "float64",
         "type": "float"
        },
        {
         "name": "installment",
         "rawType": "float64",
         "type": "float"
        },
        {
         "name": "intend",
         "rawType": "float64",
         "type": "float"
        },
        {
         "name": "international",
         "rawType": "float64",
         "type": "float"
        },
        {
         "name": "invest",
         "rawType": "float64",
         "type": "float"
        },
        {
         "name": "investment",
         "rawType": "float64",
         "type": "float"
        },
        {
         "name": "investor",
         "rawType": "float64",
         "type": "float"
        },
        {
         "name": "ira",
         "rawType": "float64",
         "type": "float"
        },
        {
         "name": "irrevocable",
         "rawType": "float64",
         "type": "float"
        },
        {
         "name": "issuable",
         "rawType": "float64",
         "type": "float"
        },
        {
         "name": "issue",
         "rawType": "float64",
         "type": "float"
        },
        {
         "name": "issuer",
         "rawType": "float64",
         "type": "float"
        },
        {
         "name": "iv",
         "rawType": "float64",
         "type": "float"
        },
        {
         "name": "ix",
         "rawType": "float64",
         "type": "float"
        },
        {
         "name": "james",
         "rawType": "float64",
         "type": "float"
        },
        {
         "name": "john",
         "rawType": "float64",
         "type": "float"
        },
        {
         "name": "jointly",
         "rawType": "float64",
         "type": "float"
        },
        {
         "name": "kind",
         "rawType": "float64",
         "type": "float"
        },
        {
         "name": "kkr",
         "rawType": "float64",
         "type": "float"
        },
        {
         "name": "lapse",
         "rawType": "float64",
         "type": "float"
        },
        {
         "name": "liability",
         "rawType": "float64",
         "type": "float"
        },
        {
         "name": "life",
         "rawType": "float64",
         "type": "float"
        },
        {
         "name": "limit",
         "rawType": "float64",
         "type": "float"
        },
        {
         "name": "limited",
         "rawType": "float64",
         "type": "float"
        },
        {
         "name": "line",
         "rawType": "float64",
         "type": "float"
        },
        {
         "name": "list",
         "rawType": "float64",
         "type": "float"
        },
        {
         "name": "llc",
         "rawType": "float64",
         "type": "float"
        },
        {
         "name": "long",
         "rawType": "float64",
         "type": "float"
        },
        {
         "name": "low",
         "rawType": "float64",
         "type": "float"
        },
        {
         "name": "lp",
         "rawType": "float64",
         "type": "float"
        },
        {
         "name": "ltip",
         "rawType": "float64",
         "type": "float"
        },
        {
         "name": "luxor",
         "rawType": "float64",
         "type": "float"
        },
        {
         "name": "majority",
         "rawType": "float64",
         "type": "float"
        },
        {
         "name": "make",
         "rawType": "float64",
         "type": "float"
        },
        {
         "name": "manage",
         "rawType": "float64",
         "type": "float"
        },
        {
         "name": "management",
         "rawType": "float64",
         "type": "float"
        },
        {
         "name": "manager",
         "rawType": "float64",
         "type": "float"
        },
        {
         "name": "managing",
         "rawType": "float64",
         "type": "float"
        },
        {
         "name": "mar",
         "rawType": "float64",
         "type": "float"
        },
        {
         "name": "mark",
         "rawType": "float64",
         "type": "float"
        },
        {
         "name": "market",
         "rawType": "float64",
         "type": "float"
        },
        {
         "name": "master",
         "rawType": "float64",
         "type": "float"
        },
        {
         "name": "meet",
         "rawType": "float64",
         "type": "float"
        },
        {
         "name": "meeting",
         "rawType": "float64",
         "type": "float"
        },
        {
         "name": "member",
         "rawType": "float64",
         "type": "float"
        },
        {
         "name": "merger",
         "rawType": "float64",
         "type": "float"
        },
        {
         "name": "messrs",
         "rawType": "float64",
         "type": "float"
        },
        {
         "name": "month",
         "rawType": "float64",
         "type": "float"
        },
        {
         "name": "monthly",
         "rawType": "float64",
         "type": "float"
        },
        {
         "name": "morningstar",
         "rawType": "float64",
         "type": "float"
        },
        {
         "name": "mr",
         "rawType": "float64",
         "type": "float"
        },
        {
         "name": "multiple",
         "rawType": "float64",
         "type": "float"
        },
        {
         "name": "nan",
         "rawType": "float64",
         "type": "float"
        },
        {
         "name": "national",
         "rawType": "float64",
         "type": "float"
        },
        {
         "name": "nea",
         "rawType": "float64",
         "type": "float"
        },
        {
         "name": "net",
         "rawType": "float64",
         "type": "float"
        },
        {
         "name": "network",
         "rawType": "float64",
         "type": "float"
        },
        {
         "name": "nevada",
         "rawType": "float64",
         "type": "float"
        },
        {
         "name": "new",
         "rawType": "float64",
         "type": "float"
        },
        {
         "name": "non",
         "rawType": "float64",
         "type": "float"
        },
        {
         "name": "note",
         "rawType": "float64",
         "type": "float"
        },
        {
         "name": "number",
         "rawType": "float64",
         "type": "float"
        },
        {
         "name": "obligation",
         "rawType": "float64",
         "type": "float"
        },
        {
         "name": "occur",
         "rawType": "float64",
         "type": "float"
        },
        {
         "name": "offering",
         "rawType": "float64",
         "type": "float"
        },
        {
         "name": "officer",
         "rawType": "float64",
         "type": "float"
        },
        {
         "name": "offshore",
         "rawType": "float64",
         "type": "float"
        },
        {
         "name": "omnibus",
         "rawType": "float64",
         "type": "float"
        },
        {
         "name": "open",
         "rawType": "float64",
         "type": "float"
        },
        {
         "name": "opportunity",
         "rawType": "float64",
         "type": "float"
        },
        {
         "name": "option",
         "rawType": "float64",
         "type": "float"
        },
        {
         "name": "orbimed",
         "rawType": "float64",
         "type": "float"
        },
        {
         "name": "order",
         "rawType": "float64",
         "type": "float"
        },
        {
         "name": "ordinary",
         "rawType": "float64",
         "type": "float"
        },
        {
         "name": "original",
         "rawType": "float64",
         "type": "float"
        },
        {
         "name": "outstanding",
         "rawType": "float64",
         "type": "float"
        },
        {
         "name": "owned",
         "rawType": "float64",
         "type": "float"
        },
        {
         "name": "owner",
         "rawType": "float64",
         "type": "float"
        },
        {
         "name": "ownership",
         "rawType": "float64",
         "type": "float"
        },
        {
         "name": "par",
         "rawType": "float64",
         "type": "float"
        },
        {
         "name": "parallel",
         "rawType": "float64",
         "type": "float"
        },
        {
         "name": "parent",
         "rawType": "float64",
         "type": "float"
        },
        {
         "name": "participant",
         "rawType": "float64",
         "type": "float"
        },
        {
         "name": "partner",
         "rawType": "float64",
         "type": "float"
        },
        {
         "name": "partnership",
         "rawType": "float64",
         "type": "float"
        },
        {
         "name": "path",
         "rawType": "float64",
         "type": "float"
        },
        {
         "name": "pay",
         "rawType": "float64",
         "type": "float"
        },
        {
         "name": "payable",
         "rawType": "float64",
         "type": "float"
        },
        {
         "name": "payment",
         "rawType": "float64",
         "type": "float"
        },
        {
         "name": "pecuniary",
         "rawType": "float64",
         "type": "float"
        },
        {
         "name": "percent",
         "rawType": "float64",
         "type": "float"
        },
        {
         "name": "performance",
         "rawType": "float64",
         "type": "float"
        },
        {
         "name": "period",
         "rawType": "float64",
         "type": "float"
        },
        {
         "name": "permitted",
         "rawType": "float64",
         "type": "float"
        },
        {
         "name": "person",
         "rawType": "float64",
         "type": "float"
        },
        {
         "name": "peter",
         "rawType": "float64",
         "type": "float"
        },
        {
         "name": "phantom",
         "rawType": "float64",
         "type": "float"
        },
        {
         "name": "pharmaceutical",
         "rawType": "float64",
         "type": "float"
        },
        {
         "name": "pincus",
         "rawType": "float64",
         "type": "float"
        },
        {
         "name": "plan",
         "rawType": "float64",
         "type": "float"
        },
        {
         "name": "ponoi",
         "rawType": "float64",
         "type": "float"
        },
        {
         "name": "portfolio",
         "rawType": "float64",
         "type": "float"
        },
        {
         "name": "portion",
         "rawType": "float64",
         "type": "float"
        },
        {
         "name": "power",
         "rawType": "float64",
         "type": "float"
        },
        {
         "name": "pre",
         "rawType": "float64",
         "type": "float"
        },
        {
         "name": "preferred",
         "rawType": "float64",
         "type": "float"
        },
        {
         "name": "president",
         "rawType": "float64",
         "type": "float"
        },
        {
         "name": "previously",
         "rawType": "float64",
         "type": "float"
        },
        {
         "name": "price",
         "rawType": "float64",
         "type": "float"
        },
        {
         "name": "principal",
         "rawType": "float64",
         "type": "float"
        },
        {
         "name": "prior",
         "rawType": "float64",
         "type": "float"
        },
        {
         "name": "private",
         "rawType": "float64",
         "type": "float"
        },
        {
         "name": "pro",
         "rawType": "float64",
         "type": "float"
        },
        {
         "name": "profit",
         "rawType": "float64",
         "type": "float"
        },
        {
         "name": "program",
         "rawType": "float64",
         "type": "float"
        },
        {
         "name": "provide",
         "rawType": "float64",
         "type": "float"
        },
        {
         "name": "provision",
         "rawType": "float64",
         "type": "float"
        },
        {
         "name": "psus",
         "rawType": "float64",
         "type": "float"
        },
        {
         "name": "public",
         "rawType": "float64",
         "type": "float"
        },
        {
         "name": "purchase",
         "rawType": "float64",
         "type": "float"
        },
        {
         "name": "purpose",
         "rawType": "float64",
         "type": "float"
        },
        {
         "name": "pursuant",
         "rawType": "float64",
         "type": "float"
        },
        {
         "name": "qualified",
         "rawType": "float64",
         "type": "float"
        },
        {
         "name": "quarter",
         "rawType": "float64",
         "type": "float"
        },
        {
         "name": "quarterly",
         "rawType": "float64",
         "type": "float"
        },
        {
         "name": "range",
         "rawType": "float64",
         "type": "float"
        },
        {
         "name": "rata",
         "rawType": "float64",
         "type": "float"
        },
        {
         "name": "rate",
         "rawType": "float64",
         "type": "float"
        },
        {
         "name": "real",
         "rawType": "float64",
         "type": "float"
        },
        {
         "name": "receipt",
         "rawType": "float64",
         "type": "float"
        },
        {
         "name": "receive",
         "rawType": "float64",
         "type": "float"
        },
        {
         "name": "record",
         "rawType": "float64",
         "type": "float"
        },
        {
         "name": "reflect",
         "rawType": "float64",
         "type": "float"
        },
        {
         "name": "regard",
         "rawType": "float64",
         "type": "float"
        },
        {
         "name": "registrant",
         "rawType": "float64",
         "type": "float"
        },
        {
         "name": "reinvestment",
         "rawType": "float64",
         "type": "float"
        },
        {
         "name": "relate",
         "rawType": "float64",
         "type": "float"
        },
        {
         "name": "relationship",
         "rawType": "float64",
         "type": "float"
        },
        {
         "name": "remain",
         "rawType": "float64",
         "type": "float"
        },
        {
         "name": "remainder",
         "rawType": "float64",
         "type": "float"
        },
        {
         "name": "report",
         "rawType": "float64",
         "type": "float"
        },
        {
         "name": "reported",
         "rawType": "float64",
         "type": "float"
        },
        {
         "name": "reporting",
         "rawType": "float64",
         "type": "float"
        },
        {
         "name": "represent",
         "rawType": "float64",
         "type": "float"
        },
        {
         "name": "request",
         "rawType": "float64",
         "type": "float"
        },
        {
         "name": "require",
         "rawType": "float64",
         "type": "float"
        },
        {
         "name": "requirement",
         "rawType": "float64",
         "type": "float"
        },
        {
         "name": "resource",
         "rawType": "float64",
         "type": "float"
        },
        {
         "name": "respect",
         "rawType": "float64",
         "type": "float"
        },
        {
         "name": "respective",
         "rawType": "float64",
         "type": "float"
        },
        {
         "name": "respectively",
         "rawType": "float64",
         "type": "float"
        },
        {
         "name": "restate",
         "rawType": "float64",
         "type": "float"
        },
        {
         "name": "restrict",
         "rawType": "float64",
         "type": "float"
        },
        {
         "name": "restricted",
         "rawType": "float64",
         "type": "float"
        },
        {
         "name": "restriction",
         "rawType": "float64",
         "type": "float"
        },
        {
         "name": "result",
         "rawType": "float64",
         "type": "float"
        },
        {
         "name": "retain",
         "rawType": "float64",
         "type": "float"
        },
        {
         "name": "retirement",
         "rawType": "float64",
         "type": "float"
        },
        {
         "name": "return",
         "rawType": "float64",
         "type": "float"
        },
        {
         "name": "revocable",
         "rawType": "float64",
         "type": "float"
        },
        {
         "name": "right",
         "rawType": "float64",
         "type": "float"
        },
        {
         "name": "rsu",
         "rawType": "float64",
         "type": "float"
        },
        {
         "name": "rsus",
         "rawType": "float64",
         "type": "float"
        },
        {
         "name": "rule",
         "rawType": "float64",
         "type": "float"
        },
        {
         "name": "sale",
         "rawType": "float64",
         "type": "float"
        },
        {
         "name": "sar",
         "rawType": "float64",
         "type": "float"
        },
        {
         "name": "sars",
         "rawType": "float64",
         "type": "float"
        },
        {
         "name": "satisfaction",
         "rawType": "float64",
         "type": "float"
        },
        {
         "name": "satisfy",
         "rawType": "float64",
         "type": "float"
        },
        {
         "name": "saving",
         "rawType": "float64",
         "type": "float"
        },
        {
         "name": "schedule",
         "rawType": "float64",
         "type": "float"
        },
        {
         "name": "science",
         "rawType": "float64",
         "type": "float"
        },
        {
         "name": "sdf",
         "rawType": "float64",
         "type": "float"
        },
        {
         "name": "sec",
         "rawType": "float64",
         "type": "float"
        },
        {
         "name": "second",
         "rawType": "float64",
         "type": "float"
        },
        {
         "name": "section",
         "rawType": "float64",
         "type": "float"
        },
        {
         "name": "security",
         "rawType": "float64",
         "type": "float"
        },
        {
         "name": "sell",
         "rawType": "float64",
         "type": "float"
        },
        {
         "name": "separate",
         "rawType": "float64",
         "type": "float"
        },
        {
         "name": "sequoia",
         "rawType": "float64",
         "type": "float"
        },
        {
         "name": "serf",
         "rawType": "float64",
         "type": "float"
        },
        {
         "name": "series",
         "rawType": "float64",
         "type": "float"
        },
        {
         "name": "serve",
         "rawType": "float64",
         "type": "float"
        },
        {
         "name": "service",
         "rawType": "float64",
         "type": "float"
        },
        {
         "name": "set",
         "rawType": "float64",
         "type": "float"
        },
        {
         "name": "settle",
         "rawType": "float64",
         "type": "float"
        },
        {
         "name": "settlement",
         "rawType": "float64",
         "type": "float"
        },
        {
         "name": "share",
         "rawType": "float64",
         "type": "float"
        },
        {
         "name": "shareholder",
         "rawType": "float64",
         "type": "float"
        },
        {
         "name": "single",
         "rawType": "float64",
         "type": "float"
        },
        {
         "name": "sole",
         "rawType": "float64",
         "type": "float"
        },
        {
         "name": "solely",
         "rawType": "float64",
         "type": "float"
        },
        {
         "name": "son",
         "rawType": "float64",
         "type": "float"
        },
        {
         "name": "special",
         "rawType": "float64",
         "type": "float"
        },
        {
         "name": "specify",
         "rawType": "float64",
         "type": "float"
        },
        {
         "name": "split",
         "rawType": "float64",
         "type": "float"
        },
        {
         "name": "spouse",
         "rawType": "float64",
         "type": "float"
        },
        {
         "name": "staff",
         "rawType": "float64",
         "type": "float"
        },
        {
         "name": "state",
         "rawType": "float64",
         "type": "float"
        },
        {
         "name": "statement",
         "rawType": "float64",
         "type": "float"
        },
        {
         "name": "stock",
         "rawType": "float64",
         "type": "float"
        },
        {
         "name": "stockholder",
         "rawType": "float64",
         "type": "float"
        },
        {
         "name": "strategic",
         "rawType": "float64",
         "type": "float"
        },
        {
         "name": "street",
         "rawType": "float64",
         "type": "float"
        },
        {
         "name": "subject",
         "rawType": "float64",
         "type": "float"
        },
        {
         "name": "subsidiary",
         "rawType": "float64",
         "type": "float"
        },
        {
         "name": "ta",
         "rawType": "float64",
         "type": "float"
        },
        {
         "name": "table",
         "rawType": "float64",
         "type": "float"
        },
        {
         "name": "target",
         "rawType": "float64",
         "type": "float"
        },
        {
         "name": "tax",
         "rawType": "float64",
         "type": "float"
        },
        {
         "name": "tcg",
         "rawType": "float64",
         "type": "float"
        },
        {
         "name": "technology",
         "rawType": "float64",
         "type": "float"
        },
        {
         "name": "term",
         "rawType": "float64",
         "type": "float"
        },
        {
         "name": "termination",
         "rawType": "float64",
         "type": "float"
        },
        {
         "name": "th",
         "rawType": "float64",
         "type": "float"
        },
        {
         "name": "thereof",
         "rawType": "float64",
         "type": "float"
        },
        {
         "name": "time",
         "rawType": "float64",
         "type": "float"
        },
        {
         "name": "total",
         "rawType": "float64",
         "type": "float"
        },
        {
         "name": "trade",
         "rawType": "float64",
         "type": "float"
        },
        {
         "name": "trading",
         "rawType": "float64",
         "type": "float"
        },
        {
         "name": "transaction",
         "rawType": "float64",
         "type": "float"
        },
        {
         "name": "transfer",
         "rawType": "float64",
         "type": "float"
        },
        {
         "name": "trian",
         "rawType": "float64",
         "type": "float"
        },
        {
         "name": "trust",
         "rawType": "float64",
         "type": "float"
        },
        {
         "name": "trustee",
         "rawType": "float64",
         "type": "float"
        },
        {
         "name": "uad",
         "rawType": "float64",
         "type": "float"
        },
        {
         "name": "underlie",
         "rawType": "float64",
         "type": "float"
        },
        {
         "name": "underlying",
         "rawType": "float64",
         "type": "float"
        },
        {
         "name": "undertake",
         "rawType": "float64",
         "type": "float"
        },
        {
         "name": "undertakes",
         "rawType": "float64",
         "type": "float"
        },
        {
         "name": "unit",
         "rawType": "float64",
         "type": "float"
        },
        {
         "name": "unvested",
         "rawType": "float64",
         "type": "float"
        },
        {
         "name": "use",
         "rawType": "float64",
         "type": "float"
        },
        {
         "name": "value",
         "rawType": "float64",
         "type": "float"
        },
        {
         "name": "various",
         "rawType": "float64",
         "type": "float"
        },
        {
         "name": "vary",
         "rawType": "float64",
         "type": "float"
        },
        {
         "name": "vehicle",
         "rawType": "float64",
         "type": "float"
        },
        {
         "name": "venture",
         "rawType": "float64",
         "type": "float"
        },
        {
         "name": "versant",
         "rawType": "float64",
         "type": "float"
        },
        {
         "name": "vest",
         "rawType": "float64",
         "type": "float"
        },
        {
         "name": "vested",
         "rawType": "float64",
         "type": "float"
        },
        {
         "name": "vesting",
         "rawType": "float64",
         "type": "float"
        },
        {
         "name": "vi",
         "rawType": "float64",
         "type": "float"
        },
        {
         "name": "vii",
         "rawType": "float64",
         "type": "float"
        },
        {
         "name": "viii",
         "rawType": "float64",
         "type": "float"
        },
        {
         "name": "virtue",
         "rawType": "float64",
         "type": "float"
        },
        {
         "name": "volume",
         "rawType": "float64",
         "type": "float"
        },
        {
         "name": "vote",
         "rawType": "float64",
         "type": "float"
        },
        {
         "name": "voting",
         "rawType": "float64",
         "type": "float"
        },
        {
         "name": "warburg",
         "rawType": "float64",
         "type": "float"
        },
        {
         "name": "warrant",
         "rawType": "float64",
         "type": "float"
        },
        {
         "name": "weight",
         "rawType": "float64",
         "type": "float"
        },
        {
         "name": "weighted",
         "rawType": "float64",
         "type": "float"
        },
        {
         "name": "wholly",
         "rawType": "float64",
         "type": "float"
        },
        {
         "name": "wife",
         "rawType": "float64",
         "type": "float"
        },
        {
         "name": "williams",
         "rawType": "float64",
         "type": "float"
        },
        {
         "name": "withhold",
         "rawType": "float64",
         "type": "float"
        },
        {
         "name": "withholding",
         "rawType": "float64",
         "type": "float"
        },
        {
         "name": "workday",
         "rawType": "float64",
         "type": "float"
        },
        {
         "name": "wp",
         "rawType": "float64",
         "type": "float"
        },
        {
         "name": "write",
         "rawType": "float64",
         "type": "float"
        },
        {
         "name": "xi",
         "rawType": "float64",
         "type": "float"
        },
        {
         "name": "year",
         "rawType": "float64",
         "type": "float"
        },
        {
         "name": "york",
         "rawType": "float64",
         "type": "float"
        },
        {
         "name": "zuckerberg",
         "rawType": "float64",
         "type": "float"
        }
       ],
       "conversionMethod": "pd.DataFrame",
       "ref": "d7fe7c56-e479-4e2c-9a96-b0fc7817b4a6",
       "rows": [
        [
         "0",
         "0.0",
         "0.0",
         "0.0",
         "0.0",
         "0.0",
         "0.0",
         "0.0",
         "0.0",
         "0.0",
         "0.0",
         "0.0",
         "0.0",
         "0.0",
         "0.0",
         "0.0",
         "0.0",
         "0.0",
         "0.0",
         "0.0",
         "0.0",
         "0.0",
         "0.0",
         "0.0",
         "0.0",
         "0.0",
         "0.0",
         "0.0",
         "0.0",
         "0.0",
         "0.0",
         "0.0",
         "0.0",
         "0.0",
         "0.0",
         "0.0",
         "0.0",
         "0.0",
         "0.0",
         "0.0",
         "0.0",
         "0.0",
         "0.0",
         "0.12828861273536432",
         "0.0",
         "0.0",
         "0.0",
         "0.0",
         "0.0",
         "0.0",
         "0.0",
         "0.0",
         "0.0",
         "0.0",
         "0.0",
         "0.0",
         "0.0",
         "0.0",
         "0.0",
         "0.0",
         "0.0",
         "0.0",
         "0.0",
         "0.4049493147252785",
         "0.0",
         "0.0",
         "0.0",
         "0.0",
         "0.0",
         "0.0",
         "0.0",
         "0.0",
         "0.0",
         "0.0",
         "0.0",
         "0.0",
         "0.0",
         "0.0",
         "0.0",
         "0.0",
         "0.0",
         "0.0",
         "0.0",
         "0.0",
         "0.0",
         "0.18274372187455973",
         "0.0",
         "0.0",
         "0.0",
         "0.0",
         "0.0",
         "0.0",
         "0.0",
         "0.0",
         "0.0",
         "0.0",
         "0.0",
         "0.0",
         "0.0",
         "0.0",
         "0.0",
         "0.0",
         "0.0",
         "0.0",
         "0.0",
         "0.0",
         "0.0",
         "0.0",
         "0.0",
         "0.0",
         "0.0",
         "0.0",
         "0.0",
         "0.0",
         "0.0",
         "0.0",
         "0.0",
         "0.0",
         "0.0",
         "0.0",
         "0.0",
         "0.0",
         "0.0",
         "0.0",
         "0.0",
         "0.0",
         "0.0",
         "0.0",
         "0.0",
         "0.0",
         "0.0",
         "0.0",
         "0.0",
         "0.0",
         "0.0",
         "0.0",
         "0.0",
         "0.0",
         "0.0",
         "0.0",
         "0.0",
         "0.0",
         "0.0",
         "0.0",
         "0.0",
         "0.0",
         "0.0",
         "0.0",
         "0.0",
         "0.0",
         "0.0",
         "0.0",
         "0.0",
         "0.0",
         "0.0",
         "0.0",
         "0.0",
         "0.0",
         "0.0",
         "0.0",
         "0.0",
         "0.0",
         "0.0",
         "0.0",
         "0.0",
         "0.0",
         "0.0",
         "0.3411761476808017",
         "0.0",
         "0.0",
         "0.0",
         "0.0",
         "0.0",
         "0.0",
         "0.0",
         "0.0",
         "0.0",
         "0.0",
         "0.0",
         "0.0",
         "0.0",
         "0.0",
         "0.0",
         "0.0",
         "0.0",
         "0.0",
         "0.0",
         "0.0",
         "0.0",
         "0.0",
         "0.0",
         "0.0",
         "0.0",
         "0.0",
         "0.0",
         "0.0",
         "0.0",
         "0.0",
         "0.0",
         "0.0",
         "0.0",
         "0.0",
         "0.0",
         "0.0",
         "0.0",
         "0.0",
         "0.0",
         "0.0",
         "0.0",
         "0.0",
         "0.0",
         "0.0",
         "0.0",
         "0.1376234347153588",
         "0.0",
         "0.0",
         "0.0",
         "0.0",
         "0.0",
         "0.0",
         "0.0",
         "0.0",
         "0.0",
         "0.0",
         "0.0",
         "0.0",
         "0.0",
         "0.0",
         "0.0",
         "0.0",
         "0.0",
         "0.0",
         "0.0",
         "0.0",
         "0.0",
         "0.13288127873385858",
         "0.0",
         "0.0",
         "0.0",
         "0.0",
         "0.0",
         "0.0",
         "0.0",
         "0.0",
         "0.0",
         "0.0",
         "0.0",
         "0.18560187114976834",
         "0.0",
         "0.0",
         "0.0",
         "0.0",
         "0.0",
         "0.0",
         "0.0",
         "0.0",
         "0.0",
         "0.0",
         "0.0",
         "0.0",
         "0.0",
         "0.0",
         "0.0",
         "0.0",
         "0.0",
         "0.0",
         "0.0",
         "0.0",
         "0.0",
         "0.0",
         "0.0",
         "0.0",
         "0.0",
         "0.0",
         "0.0",
         "0.0",
         "0.0",
         "0.0",
         "0.0",
         "0.0",
         "0.0",
         "0.0",
         "0.0",
         "0.0",
         "0.0",
         "0.0",
         "0.0",
         "0.1516183188073701",
         "0.0",
         "0.0",
         "0.0",
         "0.0",
         "0.0",
         "0.0",
         "0.0",
         "0.0",
         "0.0",
         "0.12643922836756707",
         "0.0",
         "0.0",
         "0.0",
         "0.0",
         "0.0",
         "0.0",
         "0.0",
         "0.0",
         "0.0",
         "0.0",
         "0.39933839958332285",
         "0.0",
         "0.0",
         "0.0",
         "0.0",
         "0.0",
         "0.0",
         "0.0",
         "0.0",
         "0.0",
         "0.0",
         "0.0",
         "0.0",
         "0.0",
         "0.0",
         "0.0",
         "0.0",
         "0.0",
         "0.0",
         "0.0",
         "0.0",
         "0.0",
         "0.10201998551353514",
         "0.0",
         "0.0",
         "0.0",
         "0.0",
         "0.0",
         "0.0",
         "0.0",
         "0.0",
         "0.0",
         "0.0",
         "0.0",
         "0.0",
         "0.0",
         "0.19834754914047797",
         "0.0",
         "0.0",
         "0.0",
         "0.0",
         "0.0",
         "0.0",
         "0.13280505194779688",
         "0.0",
         "0.0",
         "0.0",
         "0.0",
         "0.0",
         "0.0",
         "0.0",
         "0.0",
         "0.0",
         "0.13120896723503309",
         "0.0",
         "0.0",
         "0.0",
         "0.0",
         "0.0",
         "0.0",
         "0.21593983551449453",
         "0.13415484053952417",
         "0.0",
         "0.0",
         "0.0",
         "0.0",
         "0.0",
         "0.0",
         "0.12903752480636768",
         "0.0",
         "0.0",
         "0.0",
         "0.13326700619432172",
         "0.0",
         "0.0",
         "0.0",
         "0.0",
         "0.0",
         "0.0",
         "0.0",
         "0.0",
         "0.0",
         "0.0",
         "0.0",
         "0.0",
         "0.0",
         "0.0",
         "0.0",
         "0.0",
         "0.0",
         "0.0",
         "0.0",
         "0.2225777327396104",
         "0.0",
         "0.0",
         "0.0",
         "0.0",
         "0.0",
         "0.0",
         "0.0",
         "0.0",
         "0.22244288730350043",
         "0.0",
         "0.0",
         "0.12128425352999732",
         "0.13727903549946371",
         "0.15179770633841805",
         "0.0",
         "0.0",
         "0.0",
         "0.0",
         "0.0",
         "0.0",
         "0.0",
         "0.0",
         "0.08704401599768503",
         "0.0",
         "0.0",
         "0.0",
         "0.0",
         "0.0",
         "0.0",
         "0.0",
         "0.0",
         "0.0",
         "0.13971686322851828",
         "0.0",
         "0.0",
         "0.0",
         "0.0",
         "0.0",
         "0.0",
         "0.0",
         "0.0",
         "0.0",
         "0.0",
         "0.0",
         "0.0",
         "0.0",
         "0.0",
         "0.0",
         "0.0",
         "0.0",
         "0.0",
         "0.0",
         "0.0",
         "0.0",
         "0.0",
         "0.12613081653211816",
         "0.0",
         "0.0",
         "0.0",
         "0.0",
         "0.0",
         "0.0",
         "0.0",
         "0.0",
         "0.0",
         "0.0",
         "0.0",
         "0.0",
         "0.0",
         "0.0",
         "0.0",
         "0.0",
         "0.0",
         "0.0",
         "0.0",
         "0.0",
         "0.0",
         "0.0",
         "0.0",
         "0.0",
         "0.0",
         "0.0",
         "0.0",
         "0.0",
         "0.0",
         "0.0",
         "0.0",
         "0.13417381053783037",
         "0.0",
         "0.0",
         "0.0",
         "0.0",
         "0.0",
         "0.0",
         "0.0",
         "0.0",
         "0.0",
         "0.0",
         "0.0",
         "0.0"
        ],
        [
         "1",
         "0.0",
         "0.0",
         "0.0",
         "0.0",
         "0.0",
         "0.0",
         "0.0",
         "0.0",
         "0.0",
         "0.0",
         "0.0",
         "0.0",
         "0.0",
         "0.0",
         "0.0",
         "0.0",
         "0.0",
         "0.0",
         "0.0",
         "0.0",
         "0.0",
         "0.0",
         "0.0",
         "0.0",
         "0.0",
         "0.0",
         "0.0",
         "0.0",
         "0.0",
         "0.0",
         "0.0",
         "0.0",
         "0.0",
         "0.0",
         "0.0",
         "0.0",
         "0.0",
         "0.0",
         "0.0",
         "0.0",
         "0.0",
         "0.0",
         "0.0",
         "0.0",
         "0.0",
         "0.0",
         "0.0",
         "0.0",
         "0.0",
         "0.0",
         "0.0",
         "0.0",
         "0.0",
         "0.0",
         "0.0",
         "0.0",
         "0.0",
         "0.0",
         "0.0",
         "0.0",
         "0.0",
         "0.0",
         "0.0",
         "0.0",
         "0.0",
         "0.0",
         "0.0",
         "0.0",
         "0.0",
         "0.0",
         "0.0",
         "0.0",
         "0.0",
         "0.0",
         "0.0",
         "0.0",
         "0.0",
         "0.0",
         "0.0",
         "0.0",
         "0.0",
         "0.0",
         "0.0",
         "0.0",
         "0.0",
         "0.0",
         "0.0",
         "0.0",
         "0.0",
         "0.0",
         "0.0",
         "0.0",
         "0.0",
         "0.0",
         "0.0",
         "0.0",
         "0.0",
         "0.0",
         "0.0",
         "0.0",
         "0.0",
         "0.0",
         "0.0",
         "0.0",
         "0.0",
         "0.0",
         "0.0",
         "0.0",
         "0.0",
         "0.0",
         "0.0",
         "0.0",
         "0.0",
         "0.0",
         "0.0",
         "0.0",
         "0.0",
         "0.0",
         "0.0",
         "0.0",
         "0.0",
         "0.0",
         "0.0",
         "0.0",
         "0.0",
         "0.0",
         "0.0",
         "0.0",
         "0.0",
         "0.0",
         "0.0",
         "0.0",
         "0.0",
         "0.0",
         "0.0",
         "0.0",
         "0.0",
         "0.0",
         "0.0",
         "0.0",
         "0.0",
         "0.0",
         "0.0",
         "0.0",
         "0.0",
         "0.0",
         "0.0",
         "0.0",
         "0.0",
         "0.0",
         "0.0",
         "0.0",
         "0.0",
         "0.0",
         "0.0",
         "0.0",
         "0.0",
         "0.0",
         "0.0",
         "0.0",
         "0.0",
         "0.0",
         "0.0",
         "0.0",
         "0.0",
         "0.0",
         "0.0",
         "0.0",
         "0.0",
         "0.0",
         "0.0",
         "0.0",
         "0.0",
         "0.0",
         "0.0",
         "0.0",
         "0.0",
         "0.0",
         "0.0",
         "0.0",
         "0.0",
         "0.0",
         "0.0",
         "0.0",
         "0.0",
         "0.0",
         "0.0",
         "0.0",
         "0.0",
         "0.0",
         "0.0",
         "0.0",
         "0.0",
         "0.0",
         "0.0",
         "0.0",
         "0.0",
         "0.0",
         "0.0",
         "0.0",
         "0.0",
         "0.0",
         "0.0",
         "0.0",
         "0.0",
         "0.0",
         "0.0",
         "0.0",
         "0.0",
         "0.0",
         "0.0",
         "0.0",
         "0.0",
         "0.0",
         "0.0",
         "0.0",
         "0.0",
         "0.0",
         "0.0",
         "0.0",
         "0.0",
         "0.0",
         "0.0",
         "0.0",
         "0.0",
         "0.0",
         "0.0",
         "0.0",
         "0.0",
         "0.0",
         "0.0",
         "0.0",
         "0.0",
         "0.0",
         "0.0",
         "0.0",
         "0.0",
         "0.0",
         "0.0",
         "0.0",
         "0.0",
         "0.0",
         "0.0",
         "0.0",
         "0.0",
         "0.0",
         "0.0",
         "0.0",
         "0.0",
         "0.0",
         "0.0",
         "0.0",
         "0.0",
         "0.0",
         "0.0",
         "0.0",
         "0.0",
         "0.0",
         "0.0",
         "0.0",
         "0.0",
         "0.0",
         "0.0",
         "0.0",
         "0.0",
         "0.0",
         "0.0",
         "0.0",
         "0.0",
         "0.0",
         "0.0",
         "0.0",
         "0.0",
         "0.0",
         "0.0",
         "0.0",
         "0.0",
         "0.0",
         "0.0",
         "0.0",
         "0.0",
         "0.0",
         "0.0",
         "0.0",
         "0.0",
         "0.0",
         "0.0",
         "0.0",
         "0.0",
         "0.0",
         "0.0",
         "0.0",
         "0.0",
         "0.0",
         "0.0",
         "0.0",
         "0.0",
         "0.0",
         "0.0",
         "0.0",
         "0.0",
         "0.0",
         "0.0",
         "0.0",
         "0.0",
         "0.0",
         "0.0",
         "0.0",
         "0.0",
         "0.0",
         "0.0",
         "0.0",
         "0.0",
         "0.0",
         "0.0",
         "0.0",
         "0.0",
         "0.0",
         "0.0",
         "0.0",
         "0.0",
         "0.0",
         "0.0",
         "0.0",
         "0.0",
         "0.0",
         "0.0",
         "0.0",
         "0.0",
         "0.0",
         "0.0",
         "0.0",
         "0.0",
         "0.0",
         "0.6813090392823544",
         "0.0",
         "0.0",
         "0.0",
         "0.0",
         "0.0",
         "0.0",
         "0.0",
         "0.0",
         "0.0",
         "0.0",
         "0.0",
         "0.0",
         "0.0",
         "0.0",
         "0.0",
         "0.0",
         "0.0",
         "0.0",
         "0.0",
         "0.0",
         "0.0",
         "0.7319958968410651",
         "0.0",
         "0.0",
         "0.0",
         "0.0",
         "0.0",
         "0.0",
         "0.0",
         "0.0",
         "0.0",
         "0.0",
         "0.0",
         "0.0",
         "0.0",
         "0.0",
         "0.0",
         "0.0",
         "0.0",
         "0.0",
         "0.0",
         "0.0",
         "0.0",
         "0.0",
         "0.0",
         "0.0",
         "0.0",
         "0.0",
         "0.0",
         "0.0",
         "0.0",
         "0.0",
         "0.0",
         "0.0",
         "0.0",
         "0.0",
         "0.0",
         "0.0",
         "0.0",
         "0.0",
         "0.0",
         "0.0",
         "0.0",
         "0.0",
         "0.0",
         "0.0",
         "0.0",
         "0.0",
         "0.0",
         "0.0",
         "0.0",
         "0.0",
         "0.0",
         "0.0",
         "0.0",
         "0.0",
         "0.0",
         "0.0",
         "0.0",
         "0.0",
         "0.0",
         "0.0",
         "0.0",
         "0.0",
         "0.0",
         "0.0",
         "0.0",
         "0.0",
         "0.0",
         "0.0",
         "0.0",
         "0.0",
         "0.0",
         "0.0",
         "0.0",
         "0.0",
         "0.0",
         "0.0",
         "0.0",
         "0.0",
         "0.0",
         "0.0",
         "0.0",
         "0.0",
         "0.0",
         "0.0",
         "0.0",
         "0.0",
         "0.0",
         "0.0",
         "0.0",
         "0.0",
         "0.0",
         "0.0",
         "0.0",
         "0.0",
         "0.0",
         "0.0",
         "0.0",
         "0.0",
         "0.0",
         "0.0",
         "0.0",
         "0.0",
         "0.0",
         "0.0",
         "0.0",
         "0.0",
         "0.0",
         "0.0",
         "0.0",
         "0.0",
         "0.0",
         "0.0",
         "0.0",
         "0.0",
         "0.0",
         "0.0",
         "0.0",
         "0.0",
         "0.0",
         "0.0",
         "0.0",
         "0.0",
         "0.0",
         "0.0",
         "0.0",
         "0.0",
         "0.0",
         "0.0",
         "0.0",
         "0.0",
         "0.0",
         "0.0",
         "0.0",
         "0.0",
         "0.0",
         "0.0",
         "0.0",
         "0.0",
         "0.0",
         "0.0",
         "0.0",
         "0.0",
         "0.0"
        ],
        [
         "2",
         "0.0",
         "0.0",
         "0.0",
         "0.0",
         "0.0",
         "0.0",
         "0.0",
         "0.0",
         "0.0",
         "0.0",
         "0.0",
         "0.0",
         "0.0",
         "0.0",
         "0.0",
         "0.0",
         "0.0",
         "0.0",
         "0.0",
         "0.0",
         "0.0",
         "0.0",
         "0.0",
         "0.0",
         "0.0",
         "0.0",
         "0.0",
         "0.0",
         "0.0",
         "0.0",
         "0.0",
         "0.0",
         "0.0",
         "0.0",
         "0.0",
         "0.0",
         "0.0",
         "0.0",
         "0.0",
         "0.0",
         "0.0",
         "0.0",
         "0.06714759071791501",
         "0.0",
         "0.0",
         "0.0",
         "0.0",
         "0.0",
         "0.0",
         "0.0",
         "0.0",
         "0.0",
         "0.0",
         "0.0",
         "0.0",
         "0.0",
         "0.0",
         "0.0",
         "0.0",
         "0.0",
         "0.0",
         "0.0",
         "0.0",
         "0.0",
         "0.0",
         "0.0",
         "0.0",
         "0.0",
         "0.0",
         "0.0",
         "0.0",
         "0.0",
         "0.564694061127039",
         "0.0",
         "0.0",
         "0.0",
         "0.0",
         "0.0",
         "0.0",
         "0.0",
         "0.0",
         "0.0",
         "0.0",
         "0.0",
         "0.0",
         "0.0",
         "0.0",
         "0.0",
         "0.0",
         "0.1812536536235883",
         "0.0",
         "0.0",
         "0.0",
         "0.0",
         "0.0",
         "0.0",
         "0.0",
         "0.0",
         "0.0",
         "0.0",
         "0.0",
         "0.0",
         "0.0",
         "0.16318979105543283",
         "0.0",
         "0.0",
         "0.0",
         "0.0",
         "0.0",
         "0.0",
         "0.0",
         "0.0",
         "0.0",
         "0.0",
         "0.0",
         "0.0",
         "0.22570343386496391",
         "0.0",
         "0.0",
         "0.0",
         "0.0",
         "0.0",
         "0.0",
         "0.0",
         "0.0",
         "0.0",
         "0.0",
         "0.0",
         "0.0",
         "0.0",
         "0.0",
         "0.0",
         "0.0",
         "0.0",
         "0.0",
         "0.0",
         "0.0",
         "0.0",
         "0.0",
         "0.0",
         "0.0",
         "0.0",
         "0.0",
         "0.0",
         "0.0",
         "0.0",
         "0.0",
         "0.0",
         "0.0",
         "0.0",
         "0.0",
         "0.0",
         "0.0",
         "0.0",
         "0.0",
         "0.0",
         "0.0",
         "0.0",
         "0.0",
         "0.0",
         "0.0",
         "0.0",
         "0.0",
         "0.0",
         "0.0",
         "0.0",
         "0.0",
         "0.0",
         "0.0",
         "0.0",
         "0.0",
         "0.0",
         "0.0",
         "0.0",
         "0.12409433344720223",
         "0.0",
         "0.0",
         "0.0",
         "0.0",
         "0.0",
         "0.18307384259870885",
         "0.0",
         "0.0",
         "0.0",
         "0.0",
         "0.0",
         "0.0",
         "0.0",
         "0.0",
         "0.0",
         "0.0",
         "0.0",
         "0.0",
         "0.23623978543818866",
         "0.0",
         "0.0",
         "0.0",
         "0.0",
         "0.0",
         "0.0",
         "0.0",
         "0.0",
         "0.0",
         "0.0",
         "0.0",
         "0.0",
         "0.0",
         "0.0",
         "0.0",
         "0.0",
         "0.16401337935473106",
         "0.0",
         "0.0",
         "0.0",
         "0.0",
         "0.0",
         "0.0",
         "0.0",
         "0.17201020436922487",
         "0.0",
         "0.0",
         "0.0",
         "0.0",
         "0.0",
         "0.0",
         "0.0",
         "0.0",
         "0.0",
         "0.0",
         "0.0",
         "0.0",
         "0.0",
         "0.0",
         "0.0",
         "0.0",
         "0.0",
         "0.0",
         "0.0",
         "0.0",
         "0.0",
         "0.13201874482744014",
         "0.0",
         "0.0",
         "0.0",
         "0.0",
         "0.0",
         "0.0",
         "0.0",
         "0.0",
         "0.0",
         "0.0",
         "0.0",
         "0.0",
         "0.0",
         "0.0",
         "0.0",
         "0.0",
         "0.17444285100646828",
         "0.0",
         "0.0",
         "0.0",
         "0.0",
         "0.0",
         "0.0",
         "0.2314077704807087",
         "0.0",
         "0.0",
         "0.0",
         "0.0",
         "0.0",
         "0.0",
         "0.0",
         "0.0",
         "0.0",
         "0.0",
         "0.0",
         "0.0",
         "0.0",
         "0.0",
         "0.0",
         "0.0",
         "0.0",
         "0.0",
         "0.0",
         "0.0",
         "0.0",
         "0.0",
         "0.0",
         "0.0",
         "0.0",
         "0.0",
         "0.0",
         "0.0",
         "0.0",
         "0.0",
         "0.0",
         "0.0",
         "0.0",
         "0.0",
         "0.0",
         "0.0",
         "0.0",
         "0.0",
         "0.0",
         "0.0",
         "0.0",
         "0.0",
         "0.0",
         "0.0",
         "0.0",
         "0.0",
         "0.0",
         "0.0",
         "0.0",
         "0.0",
         "0.0",
         "0.0",
         "0.0",
         "0.0",
         "0.0",
         "0.0",
         "0.0",
         "0.0",
         "0.0",
         "0.11941568662409002",
         "0.0",
         "0.0",
         "0.0",
         "0.0",
         "0.0",
         "0.0",
         "0.0",
         "0.0",
         "0.0",
         "0.0",
         "0.0",
         "0.0",
         "0.0",
         "0.0",
         "0.0",
         "0.0",
         "0.0",
         "0.0",
         "0.06251874144903338",
         "0.0",
         "0.0",
         "0.0",
         "0.0",
         "0.0",
         "0.0",
         "0.0",
         "0.0",
         "0.0",
         "0.0",
         "0.0",
         "0.0",
         "0.0",
         "0.0",
         "0.0",
         "0.0",
         "0.0",
         "0.0",
         "0.0",
         "0.0",
         "0.0",
         "0.0",
         "0.0",
         "0.0",
         "0.0",
         "0.0",
         "0.0",
         "0.0",
         "0.0",
         "0.0",
         "0.0",
         "0.0",
         "0.0",
         "0.0",
         "0.0",
         "0.0",
         "0.0",
         "0.0",
         "0.0",
         "0.0",
         "0.0",
         "0.21234695494220301",
         "0.0",
         "0.0",
         "0.0",
         "0.0",
         "0.0",
         "0.0",
         "0.0",
         "0.0",
         "0.0",
         "0.0",
         "0.0",
         "0.0",
         "0.0",
         "0.0",
         "0.0",
         "0.0",
         "0.0",
         "0.0",
         "0.0",
         "0.0",
         "0.0",
         "0.0",
         "0.0",
         "0.0",
         "0.0",
         "0.06348143644954328",
         "0.0",
         "0.0",
         "0.0",
         "0.0",
         "0.0",
         "0.0",
         "0.0",
         "0.0",
         "0.0",
         "0.0",
         "0.10871895287839087",
         "0.0",
         "0.0",
         "0.0",
         "0.0",
         "0.0",
         "0.40929766761207975",
         "0.0",
         "0.0",
         "0.0",
         "0.0",
         "0.0",
         "0.0",
         "0.14565677216607598",
         "0.0",
         "0.0",
         "0.0",
         "0.0",
         "0.0",
         "0.0",
         "0.0",
         "0.0",
         "0.0",
         "0.0",
         "0.0",
         "0.0",
         "0.0",
         "0.0",
         "0.0",
         "0.0",
         "0.0",
         "0.0",
         "0.0",
         "0.0",
         "0.0",
         "0.0",
         "0.0",
         "0.0",
         "0.0",
         "0.0",
         "0.0",
         "0.0",
         "0.0",
         "0.0",
         "0.0",
         "0.0",
         "0.0",
         "0.0",
         "0.0",
         "0.0",
         "0.0",
         "0.0",
         "0.0",
         "0.0",
         "0.0",
         "0.0",
         "0.0",
         "0.0",
         "0.0",
         "0.0",
         "0.17544949227490517",
         "0.0",
         "0.0",
         "0.0",
         "0.0",
         "0.0702279642982977",
         "0.0",
         "0.0",
         "0.0",
         "0.0",
         "0.0",
         "0.0",
         "0.0",
         "0.0",
         "0.0",
         "0.0",
         "0.0",
         "0.0"
        ],
        [
         "3",
         "0.0",
         "0.0",
         "0.21606086540174765",
         "0.0",
         "0.0",
         "0.0",
         "0.0",
         "0.0",
         "0.0",
         "0.0",
         "0.0",
         "0.0",
         "0.2387364862418491",
         "0.0",
         "0.0",
         "0.0",
         "0.0",
         "0.0",
         "0.0",
         "0.0",
         "0.0",
         "0.0",
         "0.0",
         "0.0",
         "0.0",
         "0.0",
         "0.0",
         "0.0",
         "0.4036445006491113",
         "0.0",
         "0.0",
         "0.0",
         "0.0",
         "0.0",
         "0.0",
         "0.0",
         "0.0",
         "0.0",
         "0.0",
         "0.0",
         "0.0",
         "0.0",
         "0.0",
         "0.0",
         "0.0",
         "0.0",
         "0.0",
         "0.0",
         "0.0",
         "0.0",
         "0.0",
         "0.0",
         "0.0",
         "0.0",
         "0.0",
         "0.0",
         "0.0",
         "0.0",
         "0.0",
         "0.0",
         "0.0",
         "0.0",
         "0.0",
         "0.0",
         "0.0",
         "0.0",
         "0.0",
         "0.0",
         "0.0",
         "0.0",
         "0.0",
         "0.0",
         "0.0",
         "0.0",
         "0.0",
         "0.0",
         "0.0",
         "0.0",
         "0.0",
         "0.0",
         "0.0",
         "0.0",
         "0.0",
         "0.0",
         "0.0",
         "0.0",
         "0.0",
         "0.0",
         "0.0",
         "0.0",
         "0.0",
         "0.0",
         "0.0",
         "0.0",
         "0.0",
         "0.0",
         "0.0",
         "0.0",
         "0.0",
         "0.0",
         "0.0",
         "0.0",
         "0.0",
         "0.0",
         "0.0",
         "0.0",
         "0.0",
         "0.0",
         "0.0",
         "0.0",
         "0.0",
         "0.0",
         "0.0",
         "0.0",
         "0.0",
         "0.27303315936132816",
         "0.0",
         "0.0",
         "0.0",
         "0.0",
         "0.0",
         "0.0",
         "0.0",
         "0.0",
         "0.0",
         "0.0",
         "0.0",
         "0.0",
         "0.0",
         "0.0",
         "0.0",
         "0.0",
         "0.0",
         "0.0",
         "0.0",
         "0.0",
         "0.0",
         "0.0",
         "0.0",
         "0.0",
         "0.19330583291671594",
         "0.0",
         "0.0",
         "0.0",
         "0.0",
         "0.0",
         "0.0",
         "0.0",
         "0.0",
         "0.0",
         "0.0",
         "0.0",
         "0.0",
         "0.0",
         "0.0",
         "0.0",
         "0.0",
         "0.0",
         "0.0",
         "0.0",
         "0.0",
         "0.0",
         "0.0",
         "0.0",
         "0.0",
         "0.0",
         "0.0",
         "0.0",
         "0.22586454418478738",
         "0.36056696077979894",
         "0.0",
         "0.0",
         "0.0",
         "0.0",
         "0.0",
         "0.0",
         "0.0",
         "0.0",
         "0.0",
         "0.0",
         "0.0",
         "0.0",
         "0.0",
         "0.0",
         "0.0",
         "0.0",
         "0.0",
         "0.0",
         "0.0",
         "0.0",
         "0.0",
         "0.0",
         "0.0",
         "0.0",
         "0.0",
         "0.0",
         "0.0",
         "0.0",
         "0.0",
         "0.0",
         "0.0",
         "0.0",
         "0.29862020116744104",
         "0.0",
         "0.0",
         "0.0",
         "0.0",
         "0.0",
         "0.0",
         "0.0",
         "0.0",
         "0.0",
         "0.0",
         "0.0",
         "0.0",
         "0.0",
         "0.0",
         "0.0",
         "0.0",
         "0.24579328227078484",
         "0.0",
         "0.0",
         "0.0",
         "0.0",
         "0.0",
         "0.0",
         "0.0",
         "0.0",
         "0.0",
         "0.0",
         "0.0",
         "0.0",
         "0.0",
         "0.0",
         "0.0",
         "0.0",
         "0.0",
         "0.0",
         "0.0",
         "0.0",
         "0.0",
         "0.0",
         "0.0",
         "0.0",
         "0.0",
         "0.0",
         "0.0",
         "0.0",
         "0.0",
         "0.0",
         "0.0",
         "0.0",
         "0.0",
         "0.0",
         "0.0",
         "0.0",
         "0.0",
         "0.0",
         "0.0",
         "0.0",
         "0.0",
         "0.0",
         "0.0",
         "0.0",
         "0.0",
         "0.0",
         "0.0",
         "0.0",
         "0.0",
         "0.0",
         "0.0",
         "0.0",
         "0.0",
         "0.0",
         "0.0",
         "0.0",
         "0.0",
         "0.0",
         "0.0",
         "0.0",
         "0.0",
         "0.0",
         "0.0",
         "0.0",
         "0.0",
         "0.0",
         "0.0",
         "0.0",
         "0.0",
         "0.0",
         "0.0",
         "0.0",
         "0.0",
         "0.0",
         "0.0",
         "0.0",
         "0.0",
         "0.0",
         "0.0",
         "0.0",
         "0.0",
         "0.0",
         "0.0",
         "0.0",
         "0.0",
         "0.0",
         "0.0",
         "0.0",
         "0.0",
         "0.0",
         "0.0",
         "0.0",
         "0.191143047103505",
         "0.0",
         "0.0",
         "0.0",
         "0.0",
         "0.0",
         "0.0",
         "0.0",
         "0.0",
         "0.0",
         "0.0",
         "0.0",
         "0.0",
         "0.0",
         "0.0",
         "0.0",
         "0.0",
         "0.0",
         "0.0",
         "0.0",
         "0.0",
         "0.0",
         "0.0",
         "0.0",
         "0.0",
         "0.0",
         "0.0",
         "0.0",
         "0.0",
         "0.0",
         "0.0",
         "0.0",
         "0.0",
         "0.0",
         "0.0",
         "0.0",
         "0.0",
         "0.0",
         "0.0",
         "0.0",
         "0.0",
         "0.0",
         "0.0",
         "0.0",
         "0.0",
         "0.0",
         "0.0",
         "0.0",
         "0.0",
         "0.0",
         "0.0",
         "0.0",
         "0.0",
         "0.0",
         "0.0",
         "0.15305334397988343",
         "0.0",
         "0.0",
         "0.0",
         "0.0",
         "0.0",
         "0.0",
         "0.0",
         "0.06875120177099468",
         "0.0",
         "0.0",
         "0.12252359122006824",
         "0.0",
         "0.0",
         "0.0",
         "0.0",
         "0.0",
         "0.0",
         "0.0",
         "0.0",
         "0.0",
         "0.0",
         "0.0",
         "0.227762920527859",
         "0.0",
         "0.0",
         "0.0",
         "0.0",
         "0.0",
         "0.0",
         "0.0",
         "0.10728434773134837",
         "0.0",
         "0.0",
         "0.0",
         "0.0",
         "0.0",
         "0.0",
         "0.0",
         "0.0",
         "0.0",
         "0.0",
         "0.0",
         "0.0",
         "0.0",
         "0.0",
         "0.0",
         "0.0",
         "0.0",
         "0.0",
         "0.0",
         "0.0",
         "0.0",
         "0.0",
         "0.0",
         "0.06169485908027344",
         "0.0",
         "0.0",
         "0.0",
         "0.0",
         "0.0",
         "0.0",
         "0.0",
         "0.0",
         "0.0",
         "0.0",
         "0.0",
         "0.0",
         "0.0",
         "0.0",
         "0.0",
         "0.0",
         "0.0",
         "0.0",
         "0.0",
         "0.0",
         "0.0",
         "0.0",
         "0.0",
         "0.0",
         "0.0",
         "0.0",
         "0.0",
         "0.0",
         "0.0",
         "0.0",
         "0.0",
         "0.0",
         "0.0",
         "0.0",
         "0.0",
         "0.0",
         "0.0",
         "0.0",
         "0.0",
         "0.0",
         "0.0",
         "0.0",
         "0.0",
         "0.0",
         "0.0",
         "0.0",
         "0.0",
         "0.0",
         "0.0",
         "0.0",
         "0.0",
         "0.0",
         "0.0",
         "0.0",
         "0.0",
         "0.0",
         "0.0",
         "0.0",
         "0.0",
         "0.0",
         "0.0",
         "0.0",
         "0.0",
         "0.0",
         "0.0",
         "0.0",
         "0.0",
         "0.0",
         "0.0",
         "0.0",
         "0.0",
         "0.0",
         "0.0",
         "0.0",
         "0.37944154656705253",
         "0.0",
         "0.0"
        ],
        [
         "4",
         "0.0",
         "0.7867083821251601",
         "0.0",
         "0.0",
         "0.0",
         "0.0",
         "0.0",
         "0.0",
         "0.0",
         "0.0",
         "0.0",
         "0.0",
         "0.0",
         "0.0",
         "0.0",
         "0.0",
         "0.0",
         "0.0",
         "0.0",
         "0.0",
         "0.0",
         "0.0",
         "0.0",
         "0.0",
         "0.0",
         "0.0",
         "0.0",
         "0.0",
         "0.0",
         "0.0",
         "0.0",
         "0.0",
         "0.0",
         "0.0",
         "0.0",
         "0.0",
         "0.0",
         "0.0",
         "0.0",
         "0.0",
         "0.0",
         "0.0",
         "0.0",
         "0.0",
         "0.0",
         "0.0",
         "0.0",
         "0.0",
         "0.0",
         "0.0",
         "0.0",
         "0.0",
         "0.0",
         "0.0",
         "0.0",
         "0.0",
         "0.0",
         "0.0",
         "0.0",
         "0.0",
         "0.0",
         "0.0",
         "0.0",
         "0.0",
         "0.0",
         "0.0",
         "0.0",
         "0.0",
         "0.0",
         "0.0",
         "0.0",
         "0.0",
         "0.0",
         "0.0",
         "0.0",
         "0.0",
         "0.0",
         "0.0",
         "0.0",
         "0.0",
         "0.0",
         "0.0",
         "0.0",
         "0.0",
         "0.0",
         "0.0",
         "0.0",
         "0.0",
         "0.0",
         "0.0",
         "0.0",
         "0.0",
         "0.0",
         "0.0",
         "0.0",
         "0.0",
         "0.0",
         "0.0",
         "0.0",
         "0.0",
         "0.0",
         "0.0",
         "0.0",
         "0.0",
         "0.0",
         "0.0",
         "0.0",
         "0.0",
         "0.0",
         "0.0",
         "0.0",
         "0.0",
         "0.0",
         "0.0",
         "0.0",
         "0.0",
         "0.0",
         "0.0",
         "0.0",
         "0.0",
         "0.0",
         "0.0",
         "0.0",
         "0.0",
         "0.0",
         "0.0",
         "0.0",
         "0.0",
         "0.0",
         "0.0",
         "0.0",
         "0.0",
         "0.0",
         "0.0",
         "0.0",
         "0.0",
         "0.0",
         "0.0",
         "0.0",
         "0.0",
         "0.0",
         "0.0",
         "0.0",
         "0.0",
         "0.0",
         "0.0",
         "0.0",
         "0.0",
         "0.0",
         "0.0",
         "0.0",
         "0.0",
         "0.0",
         "0.0",
         "0.0",
         "0.0",
         "0.0",
         "0.0",
         "0.0",
         "0.0",
         "0.0",
         "0.0",
         "0.0",
         "0.0",
         "0.0",
         "0.0",
         "0.0",
         "0.0",
         "0.0",
         "0.0",
         "0.0",
         "0.0",
         "0.0",
         "0.0",
         "0.0",
         "0.0",
         "0.0",
         "0.0",
         "0.0",
         "0.0",
         "0.0",
         "0.0",
         "0.0",
         "0.0",
         "0.0",
         "0.0",
         "0.0",
         "0.0",
         "0.0",
         "0.0",
         "0.0",
         "0.0",
         "0.0",
         "0.0",
         "0.0",
         "0.0",
         "0.0",
         "0.0",
         "0.0",
         "0.0",
         "0.0",
         "0.0",
         "0.0",
         "0.0",
         "0.0",
         "0.0",
         "0.0",
         "0.0",
         "0.0",
         "0.0",
         "0.0",
         "0.0",
         "0.0",
         "0.0",
         "0.0",
         "0.0",
         "0.0",
         "0.0",
         "0.0",
         "0.0",
         "0.0",
         "0.0",
         "0.0",
         "0.0",
         "0.0",
         "0.0",
         "0.0",
         "0.0",
         "0.0",
         "0.0",
         "0.0",
         "0.0",
         "0.0",
         "0.0",
         "0.0",
         "0.0",
         "0.0",
         "0.0",
         "0.0",
         "0.0",
         "0.0",
         "0.0",
         "0.0",
         "0.0",
         "0.0",
         "0.0",
         "0.0",
         "0.0",
         "0.0",
         "0.0",
         "0.0",
         "0.0",
         "0.0",
         "0.0",
         "0.0",
         "0.0",
         "0.0",
         "0.0",
         "0.0",
         "0.0",
         "0.0",
         "0.0",
         "0.0",
         "0.0",
         "0.0",
         "0.0",
         "0.0",
         "0.0",
         "0.0",
         "0.0",
         "0.0",
         "0.0",
         "0.0",
         "0.0",
         "0.0",
         "0.0",
         "0.0",
         "0.0",
         "0.0",
         "0.0",
         "0.0",
         "0.0",
         "0.0",
         "0.0",
         "0.0",
         "0.0",
         "0.0",
         "0.0",
         "0.0",
         "0.0",
         "0.0",
         "0.0",
         "0.0",
         "0.0",
         "0.0",
         "0.0",
         "0.0",
         "0.0",
         "0.0",
         "0.0",
         "0.0",
         "0.0",
         "0.0",
         "0.0",
         "0.0",
         "0.0",
         "0.0",
         "0.0",
         "0.0",
         "0.0",
         "0.0",
         "0.0",
         "0.0",
         "0.0",
         "0.0",
         "0.0",
         "0.0",
         "0.0",
         "0.0",
         "0.0",
         "0.0",
         "0.0",
         "0.0",
         "0.0",
         "0.0",
         "0.0",
         "0.0",
         "0.0",
         "0.0",
         "0.25618256765149333",
         "0.0",
         "0.0",
         "0.0",
         "0.0",
         "0.2999952629554302",
         "0.0",
         "0.0",
         "0.0",
         "0.0",
         "0.0",
         "0.0",
         "0.0",
         "0.0",
         "0.0",
         "0.0",
         "0.0",
         "0.0",
         "0.0",
         "0.0",
         "0.0",
         "0.0",
         "0.0",
         "0.0",
         "0.0",
         "0.0",
         "0.0",
         "0.0",
         "0.0",
         "0.0",
         "0.0",
         "0.0",
         "0.0",
         "0.0",
         "0.0",
         "0.0",
         "0.0",
         "0.0",
         "0.0",
         "0.0",
         "0.0",
         "0.0",
         "0.0",
         "0.0",
         "0.0",
         "0.0",
         "0.2435760336354651",
         "0.0",
         "0.0",
         "0.0",
         "0.0",
         "0.0",
         "0.0",
         "0.0",
         "0.0",
         "0.0",
         "0.0",
         "0.0",
         "0.0",
         "0.0",
         "0.0",
         "0.0",
         "0.0",
         "0.0",
         "0.0",
         "0.0",
         "0.0",
         "0.0",
         "0.0",
         "0.0",
         "0.0",
         "0.0",
         "0.0",
         "0.0",
         "0.0",
         "0.0",
         "0.0",
         "0.0",
         "0.0",
         "0.0",
         "0.0",
         "0.0",
         "0.0",
         "0.0",
         "0.0",
         "0.0",
         "0.0",
         "0.0",
         "0.0",
         "0.0",
         "0.0",
         "0.0",
         "0.0",
         "0.0",
         "0.0",
         "0.0",
         "0.0",
         "0.0",
         "0.0",
         "0.0",
         "0.0",
         "0.0",
         "0.0",
         "0.0",
         "0.0",
         "0.0",
         "0.0",
         "0.0",
         "0.0",
         "0.0",
         "0.0",
         "0.0",
         "0.0",
         "0.0",
         "0.0",
         "0.0",
         "0.0",
         "0.0",
         "0.0",
         "0.0",
         "0.0",
         "0.0",
         "0.0",
         "0.0",
         "0.0",
         "0.40759535273138026",
         "0.0",
         "0.0",
         "0.0",
         "0.0",
         "0.0",
         "0.0",
         "0.0",
         "0.0",
         "0.0",
         "0.0",
         "0.0",
         "0.0",
         "0.0",
         "0.0",
         "0.0",
         "0.0",
         "0.0",
         "0.0",
         "0.0",
         "0.0",
         "0.0",
         "0.0",
         "0.0",
         "0.0",
         "0.0",
         "0.0",
         "0.0",
         "0.0",
         "0.0",
         "0.0",
         "0.0",
         "0.0",
         "0.0",
         "0.0",
         "0.0",
         "0.0",
         "0.0",
         "0.0",
         "0.0",
         "0.0",
         "0.0",
         "0.0",
         "0.0",
         "0.0",
         "0.0"
        ]
       ],
       "shape": {
        "columns": 500,
        "rows": 5
       }
      },
      "text/html": [
       "<div>\n",
       "<style scoped>\n",
       "    .dataframe tbody tr th:only-of-type {\n",
       "        vertical-align: middle;\n",
       "    }\n",
       "\n",
       "    .dataframe tbody tr th {\n",
       "        vertical-align: top;\n",
       "    }\n",
       "\n",
       "    .dataframe thead th {\n",
       "        text-align: right;\n",
       "    }\n",
       "</style>\n",
       "<table border=\"1\" class=\"dataframe\">\n",
       "  <thead>\n",
       "    <tr style=\"text-align: right;\">\n",
       "      <th></th>\n",
       "      <th>accel</th>\n",
       "      <th>accordance</th>\n",
       "      <th>account</th>\n",
       "      <th>accrue</th>\n",
       "      <th>achieve</th>\n",
       "      <th>achievement</th>\n",
       "      <th>acquire</th>\n",
       "      <th>acquisition</th>\n",
       "      <th>act</th>\n",
       "      <th>actual</th>\n",
       "      <th>...</th>\n",
       "      <th>williams</th>\n",
       "      <th>withhold</th>\n",
       "      <th>withholding</th>\n",
       "      <th>workday</th>\n",
       "      <th>wp</th>\n",
       "      <th>write</th>\n",
       "      <th>xi</th>\n",
       "      <th>year</th>\n",
       "      <th>york</th>\n",
       "      <th>zuckerberg</th>\n",
       "    </tr>\n",
       "  </thead>\n",
       "  <tbody>\n",
       "    <tr>\n",
       "      <th>0</th>\n",
       "      <td>0.0</td>\n",
       "      <td>0.000000</td>\n",
       "      <td>0.000000</td>\n",
       "      <td>0.0</td>\n",
       "      <td>0.0</td>\n",
       "      <td>0.0</td>\n",
       "      <td>0.0</td>\n",
       "      <td>0.0</td>\n",
       "      <td>0.0</td>\n",
       "      <td>0.0</td>\n",
       "      <td>...</td>\n",
       "      <td>0.0</td>\n",
       "      <td>0.0</td>\n",
       "      <td>0.0</td>\n",
       "      <td>0.0</td>\n",
       "      <td>0.0</td>\n",
       "      <td>0.0</td>\n",
       "      <td>0.0</td>\n",
       "      <td>0.000000</td>\n",
       "      <td>0.0</td>\n",
       "      <td>0.0</td>\n",
       "    </tr>\n",
       "    <tr>\n",
       "      <th>1</th>\n",
       "      <td>0.0</td>\n",
       "      <td>0.000000</td>\n",
       "      <td>0.000000</td>\n",
       "      <td>0.0</td>\n",
       "      <td>0.0</td>\n",
       "      <td>0.0</td>\n",
       "      <td>0.0</td>\n",
       "      <td>0.0</td>\n",
       "      <td>0.0</td>\n",
       "      <td>0.0</td>\n",
       "      <td>...</td>\n",
       "      <td>0.0</td>\n",
       "      <td>0.0</td>\n",
       "      <td>0.0</td>\n",
       "      <td>0.0</td>\n",
       "      <td>0.0</td>\n",
       "      <td>0.0</td>\n",
       "      <td>0.0</td>\n",
       "      <td>0.000000</td>\n",
       "      <td>0.0</td>\n",
       "      <td>0.0</td>\n",
       "    </tr>\n",
       "    <tr>\n",
       "      <th>2</th>\n",
       "      <td>0.0</td>\n",
       "      <td>0.000000</td>\n",
       "      <td>0.000000</td>\n",
       "      <td>0.0</td>\n",
       "      <td>0.0</td>\n",
       "      <td>0.0</td>\n",
       "      <td>0.0</td>\n",
       "      <td>0.0</td>\n",
       "      <td>0.0</td>\n",
       "      <td>0.0</td>\n",
       "      <td>...</td>\n",
       "      <td>0.0</td>\n",
       "      <td>0.0</td>\n",
       "      <td>0.0</td>\n",
       "      <td>0.0</td>\n",
       "      <td>0.0</td>\n",
       "      <td>0.0</td>\n",
       "      <td>0.0</td>\n",
       "      <td>0.000000</td>\n",
       "      <td>0.0</td>\n",
       "      <td>0.0</td>\n",
       "    </tr>\n",
       "    <tr>\n",
       "      <th>3</th>\n",
       "      <td>0.0</td>\n",
       "      <td>0.000000</td>\n",
       "      <td>0.216061</td>\n",
       "      <td>0.0</td>\n",
       "      <td>0.0</td>\n",
       "      <td>0.0</td>\n",
       "      <td>0.0</td>\n",
       "      <td>0.0</td>\n",
       "      <td>0.0</td>\n",
       "      <td>0.0</td>\n",
       "      <td>...</td>\n",
       "      <td>0.0</td>\n",
       "      <td>0.0</td>\n",
       "      <td>0.0</td>\n",
       "      <td>0.0</td>\n",
       "      <td>0.0</td>\n",
       "      <td>0.0</td>\n",
       "      <td>0.0</td>\n",
       "      <td>0.379442</td>\n",
       "      <td>0.0</td>\n",
       "      <td>0.0</td>\n",
       "    </tr>\n",
       "    <tr>\n",
       "      <th>4</th>\n",
       "      <td>0.0</td>\n",
       "      <td>0.786708</td>\n",
       "      <td>0.000000</td>\n",
       "      <td>0.0</td>\n",
       "      <td>0.0</td>\n",
       "      <td>0.0</td>\n",
       "      <td>0.0</td>\n",
       "      <td>0.0</td>\n",
       "      <td>0.0</td>\n",
       "      <td>0.0</td>\n",
       "      <td>...</td>\n",
       "      <td>0.0</td>\n",
       "      <td>0.0</td>\n",
       "      <td>0.0</td>\n",
       "      <td>0.0</td>\n",
       "      <td>0.0</td>\n",
       "      <td>0.0</td>\n",
       "      <td>0.0</td>\n",
       "      <td>0.000000</td>\n",
       "      <td>0.0</td>\n",
       "      <td>0.0</td>\n",
       "    </tr>\n",
       "  </tbody>\n",
       "</table>\n",
       "<p>5 rows × 500 columns</p>\n",
       "</div>"
      ],
      "text/plain": [
       "   accel  accordance   account  accrue  achieve  achievement  acquire  \\\n",
       "0    0.0    0.000000  0.000000     0.0      0.0          0.0      0.0   \n",
       "1    0.0    0.000000  0.000000     0.0      0.0          0.0      0.0   \n",
       "2    0.0    0.000000  0.000000     0.0      0.0          0.0      0.0   \n",
       "3    0.0    0.000000  0.216061     0.0      0.0          0.0      0.0   \n",
       "4    0.0    0.786708  0.000000     0.0      0.0          0.0      0.0   \n",
       "\n",
       "   acquisition  act  actual  ...  williams  withhold  withholding  workday  \\\n",
       "0          0.0  0.0     0.0  ...       0.0       0.0          0.0      0.0   \n",
       "1          0.0  0.0     0.0  ...       0.0       0.0          0.0      0.0   \n",
       "2          0.0  0.0     0.0  ...       0.0       0.0          0.0      0.0   \n",
       "3          0.0  0.0     0.0  ...       0.0       0.0          0.0      0.0   \n",
       "4          0.0  0.0     0.0  ...       0.0       0.0          0.0      0.0   \n",
       "\n",
       "    wp  write   xi      year  york  zuckerberg  \n",
       "0  0.0    0.0  0.0  0.000000   0.0         0.0  \n",
       "1  0.0    0.0  0.0  0.000000   0.0         0.0  \n",
       "2  0.0    0.0  0.0  0.000000   0.0         0.0  \n",
       "3  0.0    0.0  0.0  0.379442   0.0         0.0  \n",
       "4  0.0    0.0  0.0  0.000000   0.0         0.0  \n",
       "\n",
       "[5 rows x 500 columns]"
      ]
     },
     "execution_count": 22,
     "metadata": {},
     "output_type": "execute_result"
    }
   ],
   "source": [
    "tfidf_df.head()"
   ]
  },
  {
   "cell_type": "code",
   "execution_count": 23,
   "metadata": {},
   "outputs": [],
   "source": [
    "tfidf_df[\"prediction\"] = sampled_df[\"prediction\"]"
   ]
  },
  {
   "cell_type": "code",
   "execution_count": 24,
   "metadata": {},
   "outputs": [],
   "source": [
    "# Sort the suspicious words for non-j coded items\n",
    "\n",
    "suspicius = tfidf_df[tfidf_df['prediction'] == 1].drop(columns=[\"prediction\"]).mean()\n",
    "non_suspicious = tfidf_df[tfidf_df['prediction'] == 0].drop(columns=[\"prediction\"]).mean()\n",
    "suspicious_words = (suspicius - non_suspicious).sort_values(ascending=False)"
   ]
  },
  {
   "cell_type": "code",
   "execution_count": 25,
   "metadata": {},
   "outputs": [
    {
     "data": {
      "application/vnd.microsoft.datawrangler.viewer.v0+json": {
       "columns": [
        {
         "name": "index",
         "rawType": "int64",
         "type": "integer"
        },
        {
         "name": "ACCESSION_NUMBER",
         "rawType": "object",
         "type": "string"
        },
        {
         "name": "TRANS_CODE",
         "rawType": "object",
         "type": "string"
        },
        {
         "name": "TRANS_ACQUIRED_DISP_CD",
         "rawType": "object",
         "type": "string"
        },
        {
         "name": "probability",
         "rawType": "float64",
         "type": "float"
        },
        {
         "name": "prediction",
         "rawType": "int64",
         "type": "integer"
        },
        {
         "name": "FOOTNOTE_TXT",
         "rawType": "object",
         "type": "string"
        }
       ],
       "conversionMethod": "pd.DataFrame",
       "ref": "5636a4be-f642-49a6-b66f-4e7fe131960a",
       "rows": [
        [
         "768",
         "0001209191-19-008111",
         "J",
         "D",
         "0.89330240677326",
         "1",
         "The transactions reported on this Form relate to the separation of Covetrus, Inc. (the \"Issuer\") from the Reporting Person, Henry Schein, Inc. (\"Henry Schein\"), effective February 7, 2019, pursuant to the Contribution and Distribution Agreement, dated as of April 20, 2018, as amended, among Henry Schein, the Issuer and certain other parties (the \"Distribution Agreement\"). Pursuant to the terms of the Distribution Agreement, Henry Schein, amongst other things on February 7, 2019, distributed all of the shares of the Issuer's common stock held by it to Henry Schein stockholders as of January 17, 2019 (the \"Distribution\"). After the Distribution, Henry Schein does not own any shares of the Issuer."
        ],
        [
         "769",
         "0001214659-17-003850",
         "J",
         "A",
         "0.599162247599088",
         "1",
         "This statement is jointly filed by Royal Bank of Canada (\"RBC\"), RBC Municipal Products, LLC (the successor by conversion of RBC Municipal Products, Inc.) (\"MPI\") and RBC Capital Markets, LLC (\"RBCCM\"). RBC holds an indirect interest in the securities listed in Table I (the \"Securities\") by virtue of its indirect 100% ownership of its subsidiaries RBCCM and MPI. The 75 Variable Rate Muni Term Preferred Shares (\"VMTP Shares\") acquired on June 1, 2017 are directly held by RBC Capital Markets, LLC, which is a wholly owned indirect subsidiary of RBC. MPI is the beneficial owner of 1,301 VMTP Shares which were previously deposited by MPI with The Bank of New York Mellon, as trustee of RBC Taxable TOB Trust, Series E-52, a Delaware trust that is a tender option bond financing trust (the \"TOB\"). MPI is the beneficial owner of 1,301 VMTP Shares through its ownership of the residual certificates issued by the TOB. MPI also holds the right to dissolve the TOB, dispose of the 1,301 VMTP Shares and direct certain voting and consent rights on such VMTP Shares. Each reporting person declares that neither the filing of this statement nor anything herein shall be construed as an admission that such person is, for the purposes of Section 13(d) of the US Securities Exchange Act of 1934 or any other purpose, (i) acting (or has agreed or is agreeing to act together with any other person) as a partnership, limited partnership, syndicate or other group for the purpose of acquiring, holding or disposing of securities of the Issuer or otherwise with respect to the Issuer or any securities of the Issuer or (ii) a member of any group with respect to the Issuer or any securities of the Issuer."
        ],
        [
         "770",
         "0001214659-19-003175",
         "J",
         "A",
         "0.6358097847395662",
         "1",
         "This statement is jointly filed by Royal Bank of Canada (\"RBC\"), RBC Municipal Products, LLC (\"MPI\") and RBC Capital Markets, LLC (\"RBCCM\"). RBC holds an indirect interest in the securities listed in Table I (the \"Securities\") by virtue of its indirect 100% ownership of its subsidiaries RBCCM and MPI. The 904 Variable Rate Muni Term Preferred Shares shown in Table I represent Variable Rate Muni Term Preferred Shares of the Issuer (the \"VMTP Shares\") that, prior to the date of this Form, were beneficially owned by MPI and deposited by MPI with The Bank of New York Mellon, as trustee of RBC Taxable TOB Trust, Series E-51, a Delaware trust that is a tender option bond financing trust (the \"TOB Trust\"). As of the date of this form, the VMTP Shares are no longer held with the TOB Trust and beneficial ownership of the 904 VMTP Shares was transferred from MPI to RBCCM for a purchase price of $100,000 per share. All the VMTP Shares of the Issuer are now beneficially owned by RBCCM. Each of RBBCM and MPI is a wholly owned subsidiary of RBC. Each reporting person declares that neither the filing of this statement nor anything herein shall be construed as an admission that such person is, for the purposes of Section 13(d) of the US Securities Exchange Act of 1934 or any other purpose, (i) acting (or has agreed or is agreeing to act together with any other person) as a partnership, limited partnership, syndicate or other group for the purpose of acquiring, holding or disposing of securities of the Issuer or otherwise with respect to the Issuer or any securities of the Issuer or (ii) a member of any group with respect to the Issuer or any securities of the Issuer."
        ],
        [
         "828",
         "0001144204-13-022258",
         "J",
         "A",
         "0.2089682060760345",
         "0",
         "See Exhibit 99.1; Note 1. See Exhibit 99.1; Note 10. See Exhibit 99.1; Note 11. See Exhibit 99.1; Note 12. See Exhibit 99.1; Note 13. See Exhibit 99.1; Note 14. See Exhibit 99.1; Note 15. See Exhibit 99.1; Note 16. See Exhibit 99.1; Note 17. See Exhibit 99.1; Note 18. See Exhibit 99.1; Note 19. See Exhibit 99.1; Note 2. See Exhibit 99.1; Note 20. See Exhibit 99.1; Note 3. See Exhibit 99.1; Note 4. See Exhibit 99.1; Note 5. See Exhibit 99.1; Note 6. See Exhibit 99.1; Note 7. See Exhibit 99.1; Note 8. See Exhibit 99.1; Note 9."
        ],
        [
         "1329",
         "0001181431-13-021969",
         "J",
         "D",
         "0.89330240677326",
         "1",
         "New Enterprise Associates 13, L.P. (\"NEA 13\") converted 2,321,212 shares of Class B Common Stock at its option, pursuant to the Issuer's Restated Certificate of Incorporation, resulting in its acquisition of 2,321,212 shares of Class A Common Stock. NEA Partners 12 received 23,212 shares of Class A Common Stock of the Issuer in the distribution by NEA 12 on April 10, 2013. The Reporting Person is a manager of NEA 12 GP, the sole general partner of NEA Partners 12. The Reporting Person disclaims beneficial ownership within the meaning of Section 16 of the Securities Exchange Act of 1934, as amended, or otherwise of such portion of the securities of the Issuer held by NEA Partners 12 in which the Reporting Person has no pecuniary interest. NEA Partners 12 made a pro rata distribution for no consideration of an aggregate of 23,212 shares of Class A Common Stock of the Issuer to its limited partners on April 10, 2013. PJ Barris, LLC received 673 shares of Class A Common Stock of the Issuer in the distribution by NEA Partners 13 on April 9, 2013. The Reporting Person is a member of PJ Barris, LLC, which is the direct beneficial owner of the securities. The Reporting Person disclaims beneficial ownership within the meaning of Section 16 of 1934 Act, as amended, or otherwise of the securities held by PJ Barris, LLC, except to the extent of his pecuniary interest therein. PJ Barris, LLC received 1,031 shares of Class A Common Stock of the Issuer in the distribution by NEA Partners 12 on April 10, 2013. PDB II LLC received 673 shares of Class A Common Stock of the Issuer in the distribution by NEA Partners 13 on April 9, 2013. The Reporting Person is the investment advisor of PDB II LLC, which is the direct beneficial owner of the securities. The Reporting Person disclaims beneficial ownership within the meaning of Section 16 of the 1934 Act, as amended, or otherwise of the securities held by PDB II LLC, except to the extent of his pecuniary interest therein. New Enterprise Associates, LLC (\"NEA LLC\") received 5,052 shares of Class A Common Stock of the Issuer in the distribution by NEA Partners 13 on April 9, 2013. The Reporting Person is a member of the Board of Directors of NEA LLC, which is the direct beneficial owner of the securities. The Reporting Person disclaims beneficial ownership within the meaning of Section 16 of the 1934 Act, as amended, or otherwise of the securities held by NEA LLC, except to the extent of his pecuniary interest therein. The securities are directly held by NEA 13 and are indirectly held by NEA Partners 13, L.P. (\"NEA Partners 13\"), the sole general partner of NEA 13, NEA 13 GP, LTD (\"NEA 13 LTD\"), the sole general partner of NEA Partners 13 and each of the individual directors of NEA 13 LTD (NEA Partners 13, NEA 13 LTD and the individual directors of NEA 13 LTD (collectively, the \"Directors\") together, the \"Indirect Reporting Persons\"). The Directors of NEA 13 LTD are M. James Barrett, Peter J. Barris, Forest Baskett, Ryan D. Drant, Patrick J. Kerins, Krishna \"Kittu\" Kolluri, David M. Mott, Scott D. Sandell, Ravi Viswanathan and Harry R. Weller. The Indirect Reporting Persons disclaim beneficial ownership within the meaning of Section 16 of the Securities Exchange Act of 1934, as amended, or otherwise of such portion of the securities of the Issuer held by NEA 13 in which the Indirect Reporting Persons have no pecuniary interest. NEA LLC received 5,344 shares of Class A Common Stock of the Issuer in the distribution by NEA Partners 12 on April 10, 2013. PDB LLC received 316 shares of Class A Common Stock of the Issuer in the distribution by NEA Partners 12 on April 10, 2013. The Reporting Person is the investment advisor of PDB LLC, which is the direct beneficial owner of the securities. The Reporting Person disclaims beneficial ownership within the meaning of Section 16 of the 1934 Act, as amended, or otherwise of the securities held by PDB LLC, except to the extent of his pecuniary interest therein. Bessemer Trust Company, N.A. and William Chagares, as Trustees of The Pamela Ann Barris Irrevocable Nonexempt Trust U/A 12-28-1998 (the \"Pamela Barris Trust\") received 117 shares of Class A Common Stock of the Issuer in the distribution by NEA Partners 12 on April 10, 2013. The securities are directly held by the Pamela Barris Trust. The Reporting Person disclaims beneficial ownership within the meaning of Section 16 of the Securities Exchange Act of 1934, as amended, or otherwise of such portion of the securities of the Issuer held by the Pamela Barris Trust in which the Reporting Person has no pecuniary interest. Bessemer Trust Company, N.A. and William Chagares, as Trustees of The Diana Christine Barris Irrevocable Nonexempt Trust U/A 12-28-1998 (the \"Diana Barris Trust\") received 117 shares of Class A Common Stock of the Issuer in the distribution by NEA Partners 12 on April 10, 2013. The securities are directly held by the Diana Barris Trust. The Reporting Person disclaims beneficial ownership within the meaning of Section 16 of the Securities Exchange Act of 1934, as amended, or otherwise of such portion of the securities of the Issuer held by the Diana Barris Trust in which the Reporting Person has no pecuniary interest. Each share of Class B Common Stock is convertible, at any time at the option of the holder, into one (1) share of Class A Common Stock. In addition, each share of Class B Common Stock will convert automatically into one (1) share of Class A Common Stock upon any transfer, whether or not for value, except for certain permitted transfers described in, and transfers to any \"permitted transferee\" as defined in, the Issuer's restated certificate of incorporation in effect as of the date hereof. The shares of Class B Common Stock have no expiration date. All shares of Class A and Class B Common Stock will convert automatically into shares of a single class of Common Stock upon the earliest to occur of the following: (a) upon the election by the holders of a majority of the then outstanding shares of Class B Common Stock, (b) the date when the number of outstanding shares of Class B Common Stock represents less than 9% of all outstanding shares of Class A and Class B Common Stock, (c) October 11, 2032 or (d) nine months after the death of the later to die of David A. Duffield and Aneel Bhusri. The shares of Class A and Class B Common Stock have no expiration date. NEA 13 made a pro rata distribution for no consideration of an aggregate of 2,321,212 shares of Class A Common Stock of the Issuer to its general partner and its limited partners on April 9, 2013. NEA Partners 13 received 23,212 shares of Class A Common Stock of the Issuer in the distribution by NEA 13 on April 9, 2013. The Reporting Person is a director of NEA 13 LTD, the sole general partner of NEA Partners 13. The Reporting Person disclaims beneficial ownership within the meaning of Section 16 of the Securities Exchange Act of 1934, as amended, or otherwise of such portion of the securities of the Issuer held by NEA Partners 13 in which the Reporting Person has no pecuniary interest. NEA Partners 13 made a pro rata distribution for no consideration of an aggregate of 23,212 shares of Class A Common Stock of the Issuer to its limited partners on April 9, 2013. New Enterprise Associates 12, L.P. (\"NEA 12\") converted 2,321,212 shares of Class B Common Stock at its option, pursuant to the Issuer's Restated Certificate of Incorporation, resulting in its acquisition of 2,321,212 shares of Class A Common Stock. The securities are directly held by NEA 12 and indirectly held by NEA Partners 12, Limited Partnership (\"NEA Partners 12\"), the sole general partner of NEA 12, NEA 12 GP, LLC (\"NEA 12 GP\"), the sole general partner of NEA Partners 12, and the individual managers of NEA 12 GP (NEA Partners 12, NEA 12 GP and the individual managers of NEA 12 GP together, the \"Indirect Reporting Persons\"). The individual managers of NEA 12 GP are M. James Barrett, Peter J. Barris, Forest Baskett, Ryan D. Drant, Patrick J. Kerins, Krishna \"Kittu\" Kolluri and Scott D. Sandell. The Indirect Reporting Persons disclaim beneficial ownership within the meaning of Section 16 of the Securities Exchange Act of 1934, as amended, or otherwise of such portion of the securities of the issuer held by NEA 12 in which the Indirect Reporting Persons have no pecuniary interest. NEA 12 made a pro rata distribution for no consideration of an aggregate of 2,321,212 shares of Class A Common Stock of the Issuer to its general partner and its limited partners on April 10, 2013."
        ]
       ],
       "shape": {
        "columns": 6,
        "rows": 5
       }
      },
      "text/html": [
       "<div>\n",
       "<style scoped>\n",
       "    .dataframe tbody tr th:only-of-type {\n",
       "        vertical-align: middle;\n",
       "    }\n",
       "\n",
       "    .dataframe tbody tr th {\n",
       "        vertical-align: top;\n",
       "    }\n",
       "\n",
       "    .dataframe thead th {\n",
       "        text-align: right;\n",
       "    }\n",
       "</style>\n",
       "<table border=\"1\" class=\"dataframe\">\n",
       "  <thead>\n",
       "    <tr style=\"text-align: right;\">\n",
       "      <th></th>\n",
       "      <th>ACCESSION_NUMBER</th>\n",
       "      <th>TRANS_CODE</th>\n",
       "      <th>TRANS_ACQUIRED_DISP_CD</th>\n",
       "      <th>probability</th>\n",
       "      <th>prediction</th>\n",
       "      <th>FOOTNOTE_TXT</th>\n",
       "    </tr>\n",
       "  </thead>\n",
       "  <tbody>\n",
       "    <tr>\n",
       "      <th>768</th>\n",
       "      <td>0001209191-19-008111</td>\n",
       "      <td>J</td>\n",
       "      <td>D</td>\n",
       "      <td>0.893302</td>\n",
       "      <td>1</td>\n",
       "      <td>The transactions reported on this Form relate ...</td>\n",
       "    </tr>\n",
       "    <tr>\n",
       "      <th>769</th>\n",
       "      <td>0001214659-17-003850</td>\n",
       "      <td>J</td>\n",
       "      <td>A</td>\n",
       "      <td>0.599162</td>\n",
       "      <td>1</td>\n",
       "      <td>This statement is jointly filed by Royal Bank ...</td>\n",
       "    </tr>\n",
       "    <tr>\n",
       "      <th>770</th>\n",
       "      <td>0001214659-19-003175</td>\n",
       "      <td>J</td>\n",
       "      <td>A</td>\n",
       "      <td>0.635810</td>\n",
       "      <td>1</td>\n",
       "      <td>This statement is jointly filed by Royal Bank ...</td>\n",
       "    </tr>\n",
       "    <tr>\n",
       "      <th>828</th>\n",
       "      <td>0001144204-13-022258</td>\n",
       "      <td>J</td>\n",
       "      <td>A</td>\n",
       "      <td>0.208968</td>\n",
       "      <td>0</td>\n",
       "      <td>See Exhibit 99.1; Note 1. See Exhibit 99.1; No...</td>\n",
       "    </tr>\n",
       "    <tr>\n",
       "      <th>1329</th>\n",
       "      <td>0001181431-13-021969</td>\n",
       "      <td>J</td>\n",
       "      <td>D</td>\n",
       "      <td>0.893302</td>\n",
       "      <td>1</td>\n",
       "      <td>New Enterprise Associates 13, L.P. (\"NEA 13\") ...</td>\n",
       "    </tr>\n",
       "  </tbody>\n",
       "</table>\n",
       "</div>"
      ],
      "text/plain": [
       "          ACCESSION_NUMBER TRANS_CODE TRANS_ACQUIRED_DISP_CD  probability  \\\n",
       "768   0001209191-19-008111          J                      D     0.893302   \n",
       "769   0001214659-17-003850          J                      A     0.599162   \n",
       "770   0001214659-19-003175          J                      A     0.635810   \n",
       "828   0001144204-13-022258          J                      A     0.208968   \n",
       "1329  0001181431-13-021969          J                      D     0.893302   \n",
       "\n",
       "      prediction                                       FOOTNOTE_TXT  \n",
       "768            1  The transactions reported on this Form relate ...  \n",
       "769            1  This statement is jointly filed by Royal Bank ...  \n",
       "770            1  This statement is jointly filed by Royal Bank ...  \n",
       "828            0  See Exhibit 99.1; Note 1. See Exhibit 99.1; No...  \n",
       "1329           1  New Enterprise Associates 13, L.P. (\"NEA 13\") ...  "
      ]
     },
     "execution_count": 25,
     "metadata": {},
     "output_type": "execute_result"
    }
   ],
   "source": [
    "df_j_coded = df_footnote_labels[df_footnote_labels[\"TRANS_CODE\"] == \"J\"]\n",
    "df_j_coded.head()"
   ]
  },
  {
   "cell_type": "code",
   "execution_count": 26,
   "metadata": {},
   "outputs": [],
   "source": [
    "text_j = df_j_coded[\"FOOTNOTE_TXT\"]\n",
    "processed = np.array([preprocess_text(x) for x in text_j])\n",
    "vectorizer = TfidfVectorizer(stop_words='english', sublinear_tf=True, max_features=500)\n",
    "X = vectorizer.fit_transform(processed)\n",
    "\n",
    "# Convert to DataFrame\n",
    "tfidf_df_j = pd.DataFrame(X.toarray(), columns=vectorizer.get_feature_names_out())"
   ]
  },
  {
   "cell_type": "code",
   "execution_count": 27,
   "metadata": {},
   "outputs": [
    {
     "data": {
      "application/vnd.microsoft.datawrangler.viewer.v0+json": {
       "columns": [
        {
         "name": "index",
         "rawType": "int64",
         "type": "integer"
        },
        {
         "name": "aap",
         "rawType": "float64",
         "type": "float"
        },
        {
         "name": "accel",
         "rawType": "float64",
         "type": "float"
        },
        {
         "name": "accordance",
         "rawType": "float64",
         "type": "float"
        },
        {
         "name": "account",
         "rawType": "float64",
         "type": "float"
        },
        {
         "name": "accrue",
         "rawType": "float64",
         "type": "float"
        },
        {
         "name": "achieve",
         "rawType": "float64",
         "type": "float"
        },
        {
         "name": "achievement",
         "rawType": "float64",
         "type": "float"
        },
        {
         "name": "acquire",
         "rawType": "float64",
         "type": "float"
        },
        {
         "name": "acquisition",
         "rawType": "float64",
         "type": "float"
        },
        {
         "name": "act",
         "rawType": "float64",
         "type": "float"
        },
        {
         "name": "addition",
         "rawType": "float64",
         "type": "float"
        },
        {
         "name": "additional",
         "rawType": "float64",
         "type": "float"
        },
        {
         "name": "adjust",
         "rawType": "float64",
         "type": "float"
        },
        {
         "name": "adjustment",
         "rawType": "float64",
         "type": "float"
        },
        {
         "name": "admission",
         "rawType": "float64",
         "type": "float"
        },
        {
         "name": "adopt",
         "rawType": "float64",
         "type": "float"
        },
        {
         "name": "adviser",
         "rawType": "float64",
         "type": "float"
        },
        {
         "name": "advisor",
         "rawType": "float64",
         "type": "float"
        },
        {
         "name": "affiliate",
         "rawType": "float64",
         "type": "float"
        },
        {
         "name": "afford",
         "rawType": "float64",
         "type": "float"
        },
        {
         "name": "aforementioned",
         "rawType": "float64",
         "type": "float"
        },
        {
         "name": "aggregate",
         "rawType": "float64",
         "type": "float"
        },
        {
         "name": "agreement",
         "rawType": "float64",
         "type": "float"
        },
        {
         "name": "ah",
         "rawType": "float64",
         "type": "float"
        },
        {
         "name": "aiv",
         "rawType": "float64",
         "type": "float"
        },
        {
         "name": "allocate",
         "rawType": "float64",
         "type": "float"
        },
        {
         "name": "alternative",
         "rawType": "float64",
         "type": "float"
        },
        {
         "name": "amend",
         "rawType": "float64",
         "type": "float"
        },
        {
         "name": "amended",
         "rawType": "float64",
         "type": "float"
        },
        {
         "name": "american",
         "rawType": "float64",
         "type": "float"
        },
        {
         "name": "anderson",
         "rawType": "float64",
         "type": "float"
        },
        {
         "name": "andor",
         "rawType": "float64",
         "type": "float"
        },
        {
         "name": "andreessen",
         "rawType": "float64",
         "type": "float"
        },
        {
         "name": "anniversary",
         "rawType": "float64",
         "type": "float"
        },
        {
         "name": "annual",
         "rawType": "float64",
         "type": "float"
        },
        {
         "name": "annuity",
         "rawType": "float64",
         "type": "float"
        },
        {
         "name": "anti",
         "rawType": "float64",
         "type": "float"
        },
        {
         "name": "applicable",
         "rawType": "float64",
         "type": "float"
        },
        {
         "name": "approve",
         "rawType": "float64",
         "type": "float"
        },
        {
         "name": "approximately",
         "rawType": "float64",
         "type": "float"
        },
        {
         "name": "arch",
         "rawType": "float64",
         "type": "float"
        },
        {
         "name": "asset",
         "rawType": "float64",
         "type": "float"
        },
        {
         "name": "associate",
         "rawType": "float64",
         "type": "float"
        },
        {
         "name": "automatically",
         "rawType": "float64",
         "type": "float"
        },
        {
         "name": "average",
         "rawType": "float64",
         "type": "float"
        },
        {
         "name": "award",
         "rawType": "float64",
         "type": "float"
        },
        {
         "name": "bain",
         "rawType": "float64",
         "type": "float"
        },
        {
         "name": "baker",
         "rawType": "float64",
         "type": "float"
        },
        {
         "name": "balance",
         "rawType": "float64",
         "type": "float"
        },
        {
         "name": "bancorp",
         "rawType": "float64",
         "type": "float"
        },
        {
         "name": "bank",
         "rawType": "float64",
         "type": "float"
        },
        {
         "name": "base",
         "rawType": "float64",
         "type": "float"
        },
        {
         "name": "based",
         "rawType": "float64",
         "type": "float"
        },
        {
         "name": "basis",
         "rawType": "float64",
         "type": "float"
        },
        {
         "name": "bci",
         "rawType": "float64",
         "type": "float"
        },
        {
         "name": "bcip",
         "rawType": "float64",
         "type": "float"
        },
        {
         "name": "bcmc",
         "rawType": "float64",
         "type": "float"
        },
        {
         "name": "bcp",
         "rawType": "float64",
         "type": "float"
        },
        {
         "name": "begin",
         "rawType": "float64",
         "type": "float"
        },
        {
         "name": "benchmark",
         "rawType": "float64",
         "type": "float"
        },
        {
         "name": "beneficial",
         "rawType": "float64",
         "type": "float"
        },
        {
         "name": "beneficially",
         "rawType": "float64",
         "type": "float"
        },
        {
         "name": "beneficiary",
         "rawType": "float64",
         "type": "float"
        },
        {
         "name": "benefit",
         "rawType": "float64",
         "type": "float"
        },
        {
         "name": "bff",
         "rawType": "float64",
         "type": "float"
        },
        {
         "name": "board",
         "rawType": "float64",
         "type": "float"
        },
        {
         "name": "broker",
         "rawType": "float64",
         "type": "float"
        },
        {
         "name": "brother",
         "rawType": "float64",
         "type": "float"
        },
        {
         "name": "business",
         "rawType": "float64",
         "type": "float"
        },
        {
         "name": "buy",
         "rawType": "float64",
         "type": "float"
        },
        {
         "name": "bv",
         "rawType": "float64",
         "type": "float"
        },
        {
         "name": "bvp",
         "rawType": "float64",
         "type": "float"
        },
        {
         "name": "cancel",
         "rawType": "float64",
         "type": "float"
        },
        {
         "name": "cancellation",
         "rawType": "float64",
         "type": "float"
        },
        {
         "name": "capital",
         "rawType": "float64",
         "type": "float"
        },
        {
         "name": "carvana",
         "rawType": "float64",
         "type": "float"
        },
        {
         "name": "cash",
         "rawType": "float64",
         "type": "float"
        },
        {
         "name": "cayman",
         "rawType": "float64",
         "type": "float"
        },
        {
         "name": "certain",
         "rawType": "float64",
         "type": "float"
        },
        {
         "name": "certificate",
         "rawType": "float64",
         "type": "float"
        },
        {
         "name": "cf",
         "rawType": "float64",
         "type": "float"
        },
        {
         "name": "change",
         "rawType": "float64",
         "type": "float"
        },
        {
         "name": "child",
         "rawType": "float64",
         "type": "float"
        },
        {
         "name": "class",
         "rawType": "float64",
         "type": "float"
        },
        {
         "name": "close",
         "rawType": "float64",
         "type": "float"
        },
        {
         "name": "closing",
         "rawType": "float64",
         "type": "float"
        },
        {
         "name": "collectively",
         "rawType": "float64",
         "type": "float"
        },
        {
         "name": "column",
         "rawType": "float64",
         "type": "float"
        },
        {
         "name": "combination",
         "rawType": "float64",
         "type": "float"
        },
        {
         "name": "commence",
         "rawType": "float64",
         "type": "float"
        },
        {
         "name": "commission",
         "rawType": "float64",
         "type": "float"
        },
        {
         "name": "committee",
         "rawType": "float64",
         "type": "float"
        },
        {
         "name": "common",
         "rawType": "float64",
         "type": "float"
        },
        {
         "name": "community",
         "rawType": "float64",
         "type": "float"
        },
        {
         "name": "company",
         "rawType": "float64",
         "type": "float"
        },
        {
         "name": "compensation",
         "rawType": "float64",
         "type": "float"
        },
        {
         "name": "condition",
         "rawType": "float64",
         "type": "float"
        },
        {
         "name": "connection",
         "rawType": "float64",
         "type": "float"
        },
        {
         "name": "consideration",
         "rawType": "float64",
         "type": "float"
        },
        {
         "name": "contingent",
         "rawType": "float64",
         "type": "float"
        },
        {
         "name": "continue",
         "rawType": "float64",
         "type": "float"
        },
        {
         "name": "continued",
         "rawType": "float64",
         "type": "float"
        },
        {
         "name": "contran",
         "rawType": "float64",
         "type": "float"
        },
        {
         "name": "contribution",
         "rawType": "float64",
         "type": "float"
        },
        {
         "name": "control",
         "rawType": "float64",
         "type": "float"
        },
        {
         "name": "conversion",
         "rawType": "float64",
         "type": "float"
        },
        {
         "name": "convert",
         "rawType": "float64",
         "type": "float"
        },
        {
         "name": "convertible",
         "rawType": "float64",
         "type": "float"
        },
        {
         "name": "corp",
         "rawType": "float64",
         "type": "float"
        },
        {
         "name": "corporation",
         "rawType": "float64",
         "type": "float"
        },
        {
         "name": "cover",
         "rawType": "float64",
         "type": "float"
        },
        {
         "name": "credit",
         "rawType": "float64",
         "type": "float"
        },
        {
         "name": "criterion",
         "rawType": "float64",
         "type": "float"
        },
        {
         "name": "cumulative",
         "rawType": "float64",
         "type": "float"
        },
        {
         "name": "date",
         "rawType": "float64",
         "type": "float"
        },
        {
         "name": "day",
         "rawType": "float64",
         "type": "float"
        },
        {
         "name": "dcp",
         "rawType": "float64",
         "type": "float"
        },
        {
         "name": "death",
         "rawType": "float64",
         "type": "float"
        },
        {
         "name": "declare",
         "rawType": "float64",
         "type": "float"
        },
        {
         "name": "deem",
         "rawType": "float64",
         "type": "float"
        },
        {
         "name": "deer",
         "rawType": "float64",
         "type": "float"
        },
        {
         "name": "defer",
         "rawType": "float64",
         "type": "float"
        },
        {
         "name": "deferral",
         "rawType": "float64",
         "type": "float"
        },
        {
         "name": "deferred",
         "rawType": "float64",
         "type": "float"
        },
        {
         "name": "define",
         "rawType": "float64",
         "type": "float"
        },
        {
         "name": "delaware",
         "rawType": "float64",
         "type": "float"
        },
        {
         "name": "depository",
         "rawType": "float64",
         "type": "float"
        },
        {
         "name": "description",
         "rawType": "float64",
         "type": "float"
        },
        {
         "name": "determine",
         "rawType": "float64",
         "type": "float"
        },
        {
         "name": "dilution",
         "rawType": "float64",
         "type": "float"
        },
        {
         "name": "direct",
         "rawType": "float64",
         "type": "float"
        },
        {
         "name": "directly",
         "rawType": "float64",
         "type": "float"
        },
        {
         "name": "director",
         "rawType": "float64",
         "type": "float"
        },
        {
         "name": "disclaim",
         "rawType": "float64",
         "type": "float"
        },
        {
         "name": "disclaims",
         "rawType": "float64",
         "type": "float"
        },
        {
         "name": "disclose",
         "rawType": "float64",
         "type": "float"
        },
        {
         "name": "disposition",
         "rawType": "float64",
         "type": "float"
        },
        {
         "name": "dispositive",
         "rawType": "float64",
         "type": "float"
        },
        {
         "name": "dispository",
         "rawType": "float64",
         "type": "float"
        },
        {
         "name": "distribute",
         "rawType": "float64",
         "type": "float"
        },
        {
         "name": "distribution",
         "rawType": "float64",
         "type": "float"
        },
        {
         "name": "dividend",
         "rawType": "float64",
         "type": "float"
        },
        {
         "name": "dr",
         "rawType": "float64",
         "type": "float"
        },
        {
         "name": "draper",
         "rawType": "float64",
         "type": "float"
        },
        {
         "name": "drp",
         "rawType": "float64",
         "type": "float"
        },
        {
         "name": "early",
         "rawType": "float64",
         "type": "float"
        },
        {
         "name": "earn",
         "rawType": "float64",
         "type": "float"
        },
        {
         "name": "economic",
         "rawType": "float64",
         "type": "float"
        },
        {
         "name": "eep",
         "rawType": "float64",
         "type": "float"
        },
        {
         "name": "effect",
         "rawType": "float64",
         "type": "float"
        },
        {
         "name": "effective",
         "rawType": "float64",
         "type": "float"
        },
        {
         "name": "elect",
         "rawType": "float64",
         "type": "float"
        },
        {
         "name": "election",
         "rawType": "float64",
         "type": "float"
        },
        {
         "name": "emergence",
         "rawType": "float64",
         "type": "float"
        },
        {
         "name": "employee",
         "rawType": "float64",
         "type": "float"
        },
        {
         "name": "employment",
         "rawType": "float64",
         "type": "float"
        },
        {
         "name": "encap",
         "rawType": "float64",
         "type": "float"
        },
        {
         "name": "end",
         "rawType": "float64",
         "type": "float"
        },
        {
         "name": "energy",
         "rawType": "float64",
         "type": "float"
        },
        {
         "name": "engage",
         "rawType": "float64",
         "type": "float"
        },
        {
         "name": "enterprise",
         "rawType": "float64",
         "type": "float"
        },
        {
         "name": "entity",
         "rawType": "float64",
         "type": "float"
        },
        {
         "name": "ep",
         "rawType": "float64",
         "type": "float"
        },
        {
         "name": "equal",
         "rawType": "float64",
         "type": "float"
        },
        {
         "name": "equity",
         "rawType": "float64",
         "type": "float"
        },
        {
         "name": "equivalent",
         "rawType": "float64",
         "type": "float"
        },
        {
         "name": "erie",
         "rawType": "float64",
         "type": "float"
        },
        {
         "name": "ernest",
         "rawType": "float64",
         "type": "float"
        },
        {
         "name": "ernie",
         "rawType": "float64",
         "type": "float"
        },
        {
         "name": "esop",
         "rawType": "float64",
         "type": "float"
        },
        {
         "name": "espp",
         "rawType": "float64",
         "type": "float"
        },
        {
         "name": "event",
         "rawType": "float64",
         "type": "float"
        },
        {
         "name": "exchange",
         "rawType": "float64",
         "type": "float"
        },
        {
         "name": "exchangeable",
         "rawType": "float64",
         "type": "float"
        },
        {
         "name": "execute",
         "rawType": "float64",
         "type": "float"
        },
        {
         "name": "executive",
         "rawType": "float64",
         "type": "float"
        },
        {
         "name": "exempt",
         "rawType": "float64",
         "type": "float"
        },
        {
         "name": "exemption",
         "rawType": "float64",
         "type": "float"
        },
        {
         "name": "exercisable",
         "rawType": "float64",
         "type": "float"
        },
        {
         "name": "exercise",
         "rawType": "float64",
         "type": "float"
        },
        {
         "name": "exhibit",
         "rawType": "float64",
         "type": "float"
        },
        {
         "name": "existence",
         "rawType": "float64",
         "type": "float"
        },
        {
         "name": "expiration",
         "rawType": "float64",
         "type": "float"
        },
        {
         "name": "expire",
         "rawType": "float64",
         "type": "float"
        },
        {
         "name": "extent",
         "rawType": "float64",
         "type": "float"
        },
        {
         "name": "ezp",
         "rawType": "float64",
         "type": "float"
        },
        {
         "name": "factor",
         "rawType": "float64",
         "type": "float"
        },
        {
         "name": "family",
         "rawType": "float64",
         "type": "float"
        },
        {
         "name": "fee",
         "rawType": "float64",
         "type": "float"
        },
        {
         "name": "file",
         "rawType": "float64",
         "type": "float"
        },
        {
         "name": "filing",
         "rawType": "float64",
         "type": "float"
        },
        {
         "name": "financial",
         "rawType": "float64",
         "type": "float"
        },
        {
         "name": "fiscal",
         "rawType": "float64",
         "type": "float"
        },
        {
         "name": "fisher",
         "rawType": "float64",
         "type": "float"
        },
        {
         "name": "follow",
         "rawType": "float64",
         "type": "float"
        },
        {
         "name": "footnote",
         "rawType": "float64",
         "type": "float"
        },
        {
         "name": "form",
         "rawType": "float64",
         "type": "float"
        },
        {
         "name": "forth",
         "rawType": "float64",
         "type": "float"
        },
        {
         "name": "foundation",
         "rawType": "float64",
         "type": "float"
        },
        {
         "name": "founder",
         "rawType": "float64",
         "type": "float"
        },
        {
         "name": "fourth",
         "rawType": "float64",
         "type": "float"
        },
        {
         "name": "fractional",
         "rawType": "float64",
         "type": "float"
        },
        {
         "name": "fully",
         "rawType": "float64",
         "type": "float"
        },
        {
         "name": "fund",
         "rawType": "float64",
         "type": "float"
        },
        {
         "name": "garcia",
         "rawType": "float64",
         "type": "float"
        },
        {
         "name": "gartner",
         "rawType": "float64",
         "type": "float"
        },
        {
         "name": "general",
         "rawType": "float64",
         "type": "float"
        },
        {
         "name": "generational",
         "rawType": "float64",
         "type": "float"
        },
        {
         "name": "global",
         "rawType": "float64",
         "type": "float"
        },
        {
         "name": "gp",
         "rawType": "float64",
         "type": "float"
        },
        {
         "name": "grant",
         "rawType": "float64",
         "type": "float"
        },
        {
         "name": "grantor",
         "rawType": "float64",
         "type": "float"
        },
        {
         "name": "grat",
         "rawType": "float64",
         "type": "float"
        },
        {
         "name": "group",
         "rawType": "float64",
         "type": "float"
        },
        {
         "name": "growth",
         "rawType": "float64",
         "type": "float"
        },
        {
         "name": "high",
         "rawType": "float64",
         "type": "float"
        },
        {
         "name": "hoag",
         "rawType": "float64",
         "type": "float"
        },
        {
         "name": "hold",
         "rawType": "float64",
         "type": "float"
        },
        {
         "name": "holder",
         "rawType": "float64",
         "type": "float"
        },
        {
         "name": "holding",
         "rawType": "float64",
         "type": "float"
        },
        {
         "name": "horowitz",
         "rawType": "float64",
         "type": "float"
        },
        {
         "name": "icahn",
         "rawType": "float64",
         "type": "float"
        },
        {
         "name": "iconiq",
         "rawType": "float64",
         "type": "float"
        },
        {
         "name": "ii",
         "rawType": "float64",
         "type": "float"
        },
        {
         "name": "iii",
         "rawType": "float64",
         "type": "float"
        },
        {
         "name": "immediately",
         "rawType": "float64",
         "type": "float"
        },
        {
         "name": "import",
         "rawType": "float64",
         "type": "float"
        },
        {
         "name": "incentive",
         "rawType": "float64",
         "type": "float"
        },
        {
         "name": "include",
         "rawType": "float64",
         "type": "float"
        },
        {
         "name": "inclusion",
         "rawType": "float64",
         "type": "float"
        },
        {
         "name": "inclusive",
         "rawType": "float64",
         "type": "float"
        },
        {
         "name": "income",
         "rawType": "float64",
         "type": "float"
        },
        {
         "name": "incorporation",
         "rawType": "float64",
         "type": "float"
        },
        {
         "name": "increase",
         "rawType": "float64",
         "type": "float"
        },
        {
         "name": "increment",
         "rawType": "float64",
         "type": "float"
        },
        {
         "name": "indemnity",
         "rawType": "float64",
         "type": "float"
        },
        {
         "name": "index",
         "rawType": "float64",
         "type": "float"
        },
        {
         "name": "indirect",
         "rawType": "float64",
         "type": "float"
        },
        {
         "name": "indirectly",
         "rawType": "float64",
         "type": "float"
        },
        {
         "name": "individual",
         "rawType": "float64",
         "type": "float"
        },
        {
         "name": "information",
         "rawType": "float64",
         "type": "float"
        },
        {
         "name": "initial",
         "rawType": "float64",
         "type": "float"
        },
        {
         "name": "insider",
         "rawType": "float64",
         "type": "float"
        },
        {
         "name": "installment",
         "rawType": "float64",
         "type": "float"
        },
        {
         "name": "intend",
         "rawType": "float64",
         "type": "float"
        },
        {
         "name": "invest",
         "rawType": "float64",
         "type": "float"
        },
        {
         "name": "investment",
         "rawType": "float64",
         "type": "float"
        },
        {
         "name": "investor",
         "rawType": "float64",
         "type": "float"
        },
        {
         "name": "irrevocable",
         "rawType": "float64",
         "type": "float"
        },
        {
         "name": "issue",
         "rawType": "float64",
         "type": "float"
        },
        {
         "name": "issuer",
         "rawType": "float64",
         "type": "float"
        },
        {
         "name": "iv",
         "rawType": "float64",
         "type": "float"
        },
        {
         "name": "ix",
         "rawType": "float64",
         "type": "float"
        },
        {
         "name": "james",
         "rawType": "float64",
         "type": "float"
        },
        {
         "name": "jfl",
         "rawType": "float64",
         "type": "float"
        },
        {
         "name": "john",
         "rawType": "float64",
         "type": "float"
        },
        {
         "name": "join",
         "rawType": "float64",
         "type": "float"
        },
        {
         "name": "jointly",
         "rawType": "float64",
         "type": "float"
        },
        {
         "name": "kafu",
         "rawType": "float64",
         "type": "float"
        },
        {
         "name": "kim",
         "rawType": "float64",
         "type": "float"
        },
        {
         "name": "kind",
         "rawType": "float64",
         "type": "float"
        },
        {
         "name": "kkr",
         "rawType": "float64",
         "type": "float"
        },
        {
         "name": "kpcb",
         "rawType": "float64",
         "type": "float"
        },
        {
         "name": "lapse",
         "rawType": "float64",
         "type": "float"
        },
        {
         "name": "level",
         "rawType": "float64",
         "type": "float"
        },
        {
         "name": "liability",
         "rawType": "float64",
         "type": "float"
        },
        {
         "name": "lieu",
         "rawType": "float64",
         "type": "float"
        },
        {
         "name": "limit",
         "rawType": "float64",
         "type": "float"
        },
        {
         "name": "limited",
         "rawType": "float64",
         "type": "float"
        },
        {
         "name": "llc",
         "rawType": "float64",
         "type": "float"
        },
        {
         "name": "london",
         "rawType": "float64",
         "type": "float"
        },
        {
         "name": "long",
         "rawType": "float64",
         "type": "float"
        },
        {
         "name": "longer",
         "rawType": "float64",
         "type": "float"
        },
        {
         "name": "lp",
         "rawType": "float64",
         "type": "float"
        },
        {
         "name": "ltip",
         "rawType": "float64",
         "type": "float"
        },
        {
         "name": "majority",
         "rawType": "float64",
         "type": "float"
        },
        {
         "name": "make",
         "rawType": "float64",
         "type": "float"
        },
        {
         "name": "manage",
         "rawType": "float64",
         "type": "float"
        },
        {
         "name": "management",
         "rawType": "float64",
         "type": "float"
        },
        {
         "name": "manager",
         "rawType": "float64",
         "type": "float"
        },
        {
         "name": "managing",
         "rawType": "float64",
         "type": "float"
        },
        {
         "name": "market",
         "rawType": "float64",
         "type": "float"
        },
        {
         "name": "master",
         "rawType": "float64",
         "type": "float"
        },
        {
         "name": "maveron",
         "rawType": "float64",
         "type": "float"
        },
        {
         "name": "meaning",
         "rawType": "float64",
         "type": "float"
        },
        {
         "name": "meeting",
         "rawType": "float64",
         "type": "float"
        },
        {
         "name": "member",
         "rawType": "float64",
         "type": "float"
        },
        {
         "name": "membership",
         "rawType": "float64",
         "type": "float"
        },
        {
         "name": "merger",
         "rawType": "float64",
         "type": "float"
        },
        {
         "name": "messrs",
         "rawType": "float64",
         "type": "float"
        },
        {
         "name": "metric",
         "rawType": "float64",
         "type": "float"
        },
        {
         "name": "month",
         "rawType": "float64",
         "type": "float"
        },
        {
         "name": "mr",
         "rawType": "float64",
         "type": "float"
        },
        {
         "name": "multi",
         "rawType": "float64",
         "type": "float"
        },
        {
         "name": "multiple",
         "rawType": "float64",
         "type": "float"
        },
        {
         "name": "nea",
         "rawType": "float64",
         "type": "float"
        },
        {
         "name": "net",
         "rawType": "float64",
         "type": "float"
        },
        {
         "name": "new",
         "rawType": "float64",
         "type": "float"
        },
        {
         "name": "nominee",
         "rawType": "float64",
         "type": "float"
        },
        {
         "name": "non",
         "rawType": "float64",
         "type": "float"
        },
        {
         "name": "note",
         "rawType": "float64",
         "type": "float"
        },
        {
         "name": "number",
         "rawType": "float64",
         "type": "float"
        },
        {
         "name": "obligation",
         "rawType": "float64",
         "type": "float"
        },
        {
         "name": "occur",
         "rawType": "float64",
         "type": "float"
        },
        {
         "name": "offering",
         "rawType": "float64",
         "type": "float"
        },
        {
         "name": "officer",
         "rawType": "float64",
         "type": "float"
        },
        {
         "name": "omnibus",
         "rawType": "float64",
         "type": "float"
        },
        {
         "name": "onb",
         "rawType": "float64",
         "type": "float"
        },
        {
         "name": "opportunity",
         "rawType": "float64",
         "type": "float"
        },
        {
         "name": "option",
         "rawType": "float64",
         "type": "float"
        },
        {
         "name": "ordinary",
         "rawType": "float64",
         "type": "float"
        },
        {
         "name": "original",
         "rawType": "float64",
         "type": "float"
        },
        {
         "name": "outstanding",
         "rawType": "float64",
         "type": "float"
        },
        {
         "name": "owned",
         "rawType": "float64",
         "type": "float"
        },
        {
         "name": "owner",
         "rawType": "float64",
         "type": "float"
        },
        {
         "name": "ownership",
         "rawType": "float64",
         "type": "float"
        },
        {
         "name": "paccar",
         "rawType": "float64",
         "type": "float"
        },
        {
         "name": "par",
         "rawType": "float64",
         "type": "float"
        },
        {
         "name": "parallel",
         "rawType": "float64",
         "type": "float"
        },
        {
         "name": "parent",
         "rawType": "float64",
         "type": "float"
        },
        {
         "name": "participant",
         "rawType": "float64",
         "type": "float"
        },
        {
         "name": "participation",
         "rawType": "float64",
         "type": "float"
        },
        {
         "name": "partner",
         "rawType": "float64",
         "type": "float"
        },
        {
         "name": "partnership",
         "rawType": "float64",
         "type": "float"
        },
        {
         "name": "pay",
         "rawType": "float64",
         "type": "float"
        },
        {
         "name": "payable",
         "rawType": "float64",
         "type": "float"
        },
        {
         "name": "payment",
         "rawType": "float64",
         "type": "float"
        },
        {
         "name": "payout",
         "rawType": "float64",
         "type": "float"
        },
        {
         "name": "pecuniary",
         "rawType": "float64",
         "type": "float"
        },
        {
         "name": "percent",
         "rawType": "float64",
         "type": "float"
        },
        {
         "name": "performance",
         "rawType": "float64",
         "type": "float"
        },
        {
         "name": "period",
         "rawType": "float64",
         "type": "float"
        },
        {
         "name": "person",
         "rawType": "float64",
         "type": "float"
        },
        {
         "name": "peter",
         "rawType": "float64",
         "type": "float"
        },
        {
         "name": "phantom",
         "rawType": "float64",
         "type": "float"
        },
        {
         "name": "pier",
         "rawType": "float64",
         "type": "float"
        },
        {
         "name": "pincus",
         "rawType": "float64",
         "type": "float"
        },
        {
         "name": "plan",
         "rawType": "float64",
         "type": "float"
        },
        {
         "name": "portion",
         "rawType": "float64",
         "type": "float"
        },
        {
         "name": "power",
         "rawType": "float64",
         "type": "float"
        },
        {
         "name": "preferred",
         "rawType": "float64",
         "type": "float"
        },
        {
         "name": "previously",
         "rawType": "float64",
         "type": "float"
        },
        {
         "name": "price",
         "rawType": "float64",
         "type": "float"
        },
        {
         "name": "principal",
         "rawType": "float64",
         "type": "float"
        },
        {
         "name": "prior",
         "rawType": "float64",
         "type": "float"
        },
        {
         "name": "private",
         "rawType": "float64",
         "type": "float"
        },
        {
         "name": "pro",
         "rawType": "float64",
         "type": "float"
        },
        {
         "name": "program",
         "rawType": "float64",
         "type": "float"
        },
        {
         "name": "proportionate",
         "rawType": "float64",
         "type": "float"
        },
        {
         "name": "provide",
         "rawType": "float64",
         "type": "float"
        },
        {
         "name": "provision",
         "rawType": "float64",
         "type": "float"
        },
        {
         "name": "public",
         "rawType": "float64",
         "type": "float"
        },
        {
         "name": "purchase",
         "rawType": "float64",
         "type": "float"
        },
        {
         "name": "purpose",
         "rawType": "float64",
         "type": "float"
        },
        {
         "name": "pursuant",
         "rawType": "float64",
         "type": "float"
        },
        {
         "name": "quarter",
         "rawType": "float64",
         "type": "float"
        },
        {
         "name": "quarterly",
         "rawType": "float64",
         "type": "float"
        },
        {
         "name": "range",
         "rawType": "float64",
         "type": "float"
        },
        {
         "name": "rata",
         "rawType": "float64",
         "type": "float"
        },
        {
         "name": "rate",
         "rawType": "float64",
         "type": "float"
        },
        {
         "name": "receipt",
         "rawType": "float64",
         "type": "float"
        },
        {
         "name": "receive",
         "rawType": "float64",
         "type": "float"
        },
        {
         "name": "record",
         "rawType": "float64",
         "type": "float"
        },
        {
         "name": "redeem",
         "rawType": "float64",
         "type": "float"
        },
        {
         "name": "redemption",
         "rawType": "float64",
         "type": "float"
        },
        {
         "name": "reflect",
         "rawType": "float64",
         "type": "float"
        },
        {
         "name": "regard",
         "rawType": "float64",
         "type": "float"
        },
        {
         "name": "regular",
         "rawType": "float64",
         "type": "float"
        },
        {
         "name": "reinvested",
         "rawType": "float64",
         "type": "float"
        },
        {
         "name": "reinvestment",
         "rawType": "float64",
         "type": "float"
        },
        {
         "name": "reinvestments",
         "rawType": "float64",
         "type": "float"
        },
        {
         "name": "relate",
         "rawType": "float64",
         "type": "float"
        },
        {
         "name": "relationship",
         "rawType": "float64",
         "type": "float"
        },
        {
         "name": "remain",
         "rawType": "float64",
         "type": "float"
        },
        {
         "name": "reorganization",
         "rawType": "float64",
         "type": "float"
        },
        {
         "name": "report",
         "rawType": "float64",
         "type": "float"
        },
        {
         "name": "reported",
         "rawType": "float64",
         "type": "float"
        },
        {
         "name": "reporting",
         "rawType": "float64",
         "type": "float"
        },
        {
         "name": "represent",
         "rawType": "float64",
         "type": "float"
        },
        {
         "name": "request",
         "rawType": "float64",
         "type": "float"
        },
        {
         "name": "require",
         "rawType": "float64",
         "type": "float"
        },
        {
         "name": "requirement",
         "rawType": "float64",
         "type": "float"
        },
        {
         "name": "respect",
         "rawType": "float64",
         "type": "float"
        },
        {
         "name": "respective",
         "rawType": "float64",
         "type": "float"
        },
        {
         "name": "respectively",
         "rawType": "float64",
         "type": "float"
        },
        {
         "name": "restate",
         "rawType": "float64",
         "type": "float"
        },
        {
         "name": "restrict",
         "rawType": "float64",
         "type": "float"
        },
        {
         "name": "restricted",
         "rawType": "float64",
         "type": "float"
        },
        {
         "name": "restriction",
         "rawType": "float64",
         "type": "float"
        },
        {
         "name": "result",
         "rawType": "float64",
         "type": "float"
        },
        {
         "name": "retain",
         "rawType": "float64",
         "type": "float"
        },
        {
         "name": "retainer",
         "rawType": "float64",
         "type": "float"
        },
        {
         "name": "retirement",
         "rawType": "float64",
         "type": "float"
        },
        {
         "name": "return",
         "rawType": "float64",
         "type": "float"
        },
        {
         "name": "revocable",
         "rawType": "float64",
         "type": "float"
        },
        {
         "name": "right",
         "rawType": "float64",
         "type": "float"
        },
        {
         "name": "rli",
         "rawType": "float64",
         "type": "float"
        },
        {
         "name": "round",
         "rawType": "float64",
         "type": "float"
        },
        {
         "name": "rsu",
         "rawType": "float64",
         "type": "float"
        },
        {
         "name": "rsus",
         "rawType": "float64",
         "type": "float"
        },
        {
         "name": "rule",
         "rawType": "float64",
         "type": "float"
        },
        {
         "name": "sale",
         "rawType": "float64",
         "type": "float"
        },
        {
         "name": "satisfaction",
         "rawType": "float64",
         "type": "float"
        },
        {
         "name": "satisfy",
         "rawType": "float64",
         "type": "float"
        },
        {
         "name": "saving",
         "rawType": "float64",
         "type": "float"
        },
        {
         "name": "sc",
         "rawType": "float64",
         "type": "float"
        },
        {
         "name": "schedule",
         "rawType": "float64",
         "type": "float"
        },
        {
         "name": "sec",
         "rawType": "float64",
         "type": "float"
        },
        {
         "name": "second",
         "rawType": "float64",
         "type": "float"
        },
        {
         "name": "section",
         "rawType": "float64",
         "type": "float"
        },
        {
         "name": "security",
         "rawType": "float64",
         "type": "float"
        },
        {
         "name": "sell",
         "rawType": "float64",
         "type": "float"
        },
        {
         "name": "separate",
         "rawType": "float64",
         "type": "float"
        },
        {
         "name": "sequoia",
         "rawType": "float64",
         "type": "float"
        },
        {
         "name": "series",
         "rawType": "float64",
         "type": "float"
        },
        {
         "name": "serve",
         "rawType": "float64",
         "type": "float"
        },
        {
         "name": "service",
         "rawType": "float64",
         "type": "float"
        },
        {
         "name": "set",
         "rawType": "float64",
         "type": "float"
        },
        {
         "name": "settle",
         "rawType": "float64",
         "type": "float"
        },
        {
         "name": "settlement",
         "rawType": "float64",
         "type": "float"
        },
        {
         "name": "share",
         "rawType": "float64",
         "type": "float"
        },
        {
         "name": "shareholder",
         "rawType": "float64",
         "type": "float"
        },
        {
         "name": "sia",
         "rawType": "float64",
         "type": "float"
        },
        {
         "name": "sip",
         "rawType": "float64",
         "type": "float"
        },
        {
         "name": "sole",
         "rawType": "float64",
         "type": "float"
        },
        {
         "name": "solely",
         "rawType": "float64",
         "type": "float"
        },
        {
         "name": "son",
         "rawType": "float64",
         "type": "float"
        },
        {
         "name": "sp",
         "rawType": "float64",
         "type": "float"
        },
        {
         "name": "spe",
         "rawType": "float64",
         "type": "float"
        },
        {
         "name": "special",
         "rawType": "float64",
         "type": "float"
        },
        {
         "name": "specify",
         "rawType": "float64",
         "type": "float"
        },
        {
         "name": "spin",
         "rawType": "float64",
         "type": "float"
        },
        {
         "name": "split",
         "rawType": "float64",
         "type": "float"
        },
        {
         "name": "sponsor",
         "rawType": "float64",
         "type": "float"
        },
        {
         "name": "spouse",
         "rawType": "float64",
         "type": "float"
        },
        {
         "name": "staff",
         "rawType": "float64",
         "type": "float"
        },
        {
         "name": "state",
         "rawType": "float64",
         "type": "float"
        },
        {
         "name": "statement",
         "rawType": "float64",
         "type": "float"
        },
        {
         "name": "steven",
         "rawType": "float64",
         "type": "float"
        },
        {
         "name": "stock",
         "rawType": "float64",
         "type": "float"
        },
        {
         "name": "stockholder",
         "rawType": "float64",
         "type": "float"
        },
        {
         "name": "strategic",
         "rawType": "float64",
         "type": "float"
        },
        {
         "name": "street",
         "rawType": "float64",
         "type": "float"
        },
        {
         "name": "sub",
         "rawType": "float64",
         "type": "float"
        },
        {
         "name": "subject",
         "rawType": "float64",
         "type": "float"
        },
        {
         "name": "subsidiary",
         "rawType": "float64",
         "type": "float"
        },
        {
         "name": "table",
         "rawType": "float64",
         "type": "float"
        },
        {
         "name": "target",
         "rawType": "float64",
         "type": "float"
        },
        {
         "name": "tax",
         "rawType": "float64",
         "type": "float"
        },
        {
         "name": "tcm",
         "rawType": "float64",
         "type": "float"
        },
        {
         "name": "tcv",
         "rawType": "float64",
         "type": "float"
        },
        {
         "name": "technology",
         "rawType": "float64",
         "type": "float"
        },
        {
         "name": "term",
         "rawType": "float64",
         "type": "float"
        },
        {
         "name": "termination",
         "rawType": "float64",
         "type": "float"
        },
        {
         "name": "th",
         "rawType": "float64",
         "type": "float"
        },
        {
         "name": "thereof",
         "rawType": "float64",
         "type": "float"
        },
        {
         "name": "time",
         "rawType": "float64",
         "type": "float"
        },
        {
         "name": "total",
         "rawType": "float64",
         "type": "float"
        },
        {
         "name": "tpg",
         "rawType": "float64",
         "type": "float"
        },
        {
         "name": "trade",
         "rawType": "float64",
         "type": "float"
        },
        {
         "name": "trading",
         "rawType": "float64",
         "type": "float"
        },
        {
         "name": "transaction",
         "rawType": "float64",
         "type": "float"
        },
        {
         "name": "transfer",
         "rawType": "float64",
         "type": "float"
        },
        {
         "name": "trian",
         "rawType": "float64",
         "type": "float"
        },
        {
         "name": "trust",
         "rawType": "float64",
         "type": "float"
        },
        {
         "name": "trustee",
         "rawType": "float64",
         "type": "float"
        },
        {
         "name": "ttgp",
         "rawType": "float64",
         "type": "float"
        },
        {
         "name": "underlie",
         "rawType": "float64",
         "type": "float"
        },
        {
         "name": "underlying",
         "rawType": "float64",
         "type": "float"
        },
        {
         "name": "undertakes",
         "rawType": "float64",
         "type": "float"
        },
        {
         "name": "unit",
         "rawType": "float64",
         "type": "float"
        },
        {
         "name": "unvested",
         "rawType": "float64",
         "type": "float"
        },
        {
         "name": "value",
         "rawType": "float64",
         "type": "float"
        },
        {
         "name": "vantage",
         "rawType": "float64",
         "type": "float"
        },
        {
         "name": "venture",
         "rawType": "float64",
         "type": "float"
        },
        {
         "name": "versant",
         "rawType": "float64",
         "type": "float"
        },
        {
         "name": "vest",
         "rawType": "float64",
         "type": "float"
        },
        {
         "name": "vested",
         "rawType": "float64",
         "type": "float"
        },
        {
         "name": "vesting",
         "rawType": "float64",
         "type": "float"
        },
        {
         "name": "vi",
         "rawType": "float64",
         "type": "float"
        },
        {
         "name": "vii",
         "rawType": "float64",
         "type": "float"
        },
        {
         "name": "viii",
         "rawType": "float64",
         "type": "float"
        },
        {
         "name": "virtue",
         "rawType": "float64",
         "type": "float"
        },
        {
         "name": "vote",
         "rawType": "float64",
         "type": "float"
        },
        {
         "name": "voting",
         "rawType": "float64",
         "type": "float"
        },
        {
         "name": "vv",
         "rawType": "float64",
         "type": "float"
        },
        {
         "name": "warburg",
         "rawType": "float64",
         "type": "float"
        },
        {
         "name": "warrant",
         "rawType": "float64",
         "type": "float"
        },
        {
         "name": "weighted",
         "rawType": "float64",
         "type": "float"
        },
        {
         "name": "wholly",
         "rawType": "float64",
         "type": "float"
        },
        {
         "name": "withhold",
         "rawType": "float64",
         "type": "float"
        },
        {
         "name": "withholding",
         "rawType": "float64",
         "type": "float"
        },
        {
         "name": "wp",
         "rawType": "float64",
         "type": "float"
        },
        {
         "name": "xi",
         "rawType": "float64",
         "type": "float"
        },
        {
         "name": "xii",
         "rawType": "float64",
         "type": "float"
        },
        {
         "name": "xiii",
         "rawType": "float64",
         "type": "float"
        },
        {
         "name": "xiv",
         "rawType": "float64",
         "type": "float"
        },
        {
         "name": "year",
         "rawType": "float64",
         "type": "float"
        },
        {
         "name": "york",
         "rawType": "float64",
         "type": "float"
        },
        {
         "name": "yorktown",
         "rawType": "float64",
         "type": "float"
        },
        {
         "name": "prediction",
         "rawType": "float64",
         "type": "float"
        }
       ],
       "conversionMethod": "pd.DataFrame",
       "ref": "e9115e66-5aaa-443e-bdf7-15ea376b613b",
       "rows": [
        [
         "0",
         "0.0",
         "0.0",
         "0.0",
         "0.0",
         "0.0",
         "0.0",
         "0.0",
         "0.0",
         "0.0",
         "0.0",
         "0.0",
         "0.0",
         "0.0",
         "0.0",
         "0.0",
         "0.0",
         "0.0",
         "0.0",
         "0.0",
         "0.0",
         "0.0",
         "0.0",
         "0.38066882191980494",
         "0.0",
         "0.0",
         "0.0",
         "0.0",
         "0.19402512609745332",
         "0.0",
         "0.0",
         "0.0",
         "0.0",
         "0.0",
         "0.0",
         "0.0",
         "0.0",
         "0.0",
         "0.0",
         "0.0",
         "0.0",
         "0.0",
         "0.0",
         "0.0",
         "0.0",
         "0.0",
         "0.0",
         "0.0",
         "0.0",
         "0.0",
         "0.0",
         "0.0",
         "0.0",
         "0.0",
         "0.0",
         "0.0",
         "0.0",
         "0.0",
         "0.0",
         "0.0",
         "0.0",
         "0.0",
         "0.0",
         "0.0",
         "0.0",
         "0.0",
         "0.0",
         "0.0",
         "0.0",
         "0.0",
         "0.0",
         "0.0",
         "0.0",
         "0.0",
         "0.0",
         "0.0",
         "0.0",
         "0.0",
         "0.0",
         "0.1928438292541794",
         "0.0",
         "0.0",
         "0.0",
         "0.0",
         "0.0",
         "0.0",
         "0.0",
         "0.0",
         "0.0",
         "0.0",
         "0.0",
         "0.0",
         "0.0",
         "0.1040291857455024",
         "0.0",
         "0.0",
         "0.0",
         "0.0",
         "0.0",
         "0.0",
         "0.0",
         "0.0",
         "0.0",
         "0.0",
         "0.24007517307266732",
         "0.0",
         "0.0",
         "0.0",
         "0.0",
         "0.0",
         "0.0",
         "0.0",
         "0.0",
         "0.0",
         "0.0",
         "0.1392671117799385",
         "0.0",
         "0.0",
         "0.0",
         "0.0",
         "0.0",
         "0.0",
         "0.0",
         "0.0",
         "0.0",
         "0.0",
         "0.0",
         "0.0",
         "0.0",
         "0.0",
         "0.0",
         "0.0",
         "0.0",
         "0.0",
         "0.0",
         "0.0",
         "0.0",
         "0.0",
         "0.0",
         "0.0",
         "0.19975122922794145",
         "0.40678641595425435",
         "0.0",
         "0.0",
         "0.0",
         "0.0",
         "0.0",
         "0.0",
         "0.0",
         "0.0",
         "0.0",
         "0.2523290000314786",
         "0.0",
         "0.0",
         "0.0",
         "0.0",
         "0.0",
         "0.0",
         "0.0",
         "0.0",
         "0.0",
         "0.0",
         "0.0",
         "0.0",
         "0.0",
         "0.0",
         "0.0",
         "0.0",
         "0.0",
         "0.0",
         "0.0",
         "0.0",
         "0.0",
         "0.0",
         "0.0",
         "0.0",
         "0.0",
         "0.0",
         "0.0",
         "0.0",
         "0.0",
         "0.0",
         "0.0",
         "0.0",
         "0.0",
         "0.0",
         "0.0",
         "0.0",
         "0.0",
         "0.0",
         "0.0",
         "0.0",
         "0.0",
         "0.0",
         "0.0",
         "0.0",
         "0.0",
         "0.17464257233078043",
         "0.0",
         "0.0",
         "0.0",
         "0.0",
         "0.0",
         "0.0",
         "0.0",
         "0.0",
         "0.0",
         "0.0",
         "0.0",
         "0.0",
         "0.0",
         "0.0",
         "0.0",
         "0.0",
         "0.0",
         "0.0",
         "0.0",
         "0.0",
         "0.1253448405008134",
         "0.0",
         "0.0",
         "0.0",
         "0.0",
         "0.0",
         "0.0",
         "0.0",
         "0.0",
         "0.0",
         "0.0",
         "0.0",
         "0.0",
         "0.0",
         "0.0",
         "0.0",
         "0.0",
         "0.0",
         "0.0",
         "0.0",
         "0.0",
         "0.0",
         "0.0",
         "0.0",
         "0.0",
         "0.0",
         "0.0",
         "0.0",
         "0.0",
         "0.0",
         "0.0",
         "0.0",
         "0.0",
         "0.28541361156033684",
         "0.0",
         "0.0",
         "0.0",
         "0.0",
         "0.0",
         "0.0",
         "0.0",
         "0.0",
         "0.0",
         "0.0",
         "0.0",
         "0.0",
         "0.0",
         "0.0",
         "0.0",
         "0.0",
         "0.0",
         "0.0",
         "0.0",
         "0.0",
         "0.0",
         "0.0",
         "0.0",
         "0.0",
         "0.0",
         "0.0",
         "0.0",
         "0.0",
         "0.0",
         "0.0",
         "0.0",
         "0.0",
         "0.0",
         "0.0",
         "0.0",
         "0.0",
         "0.0",
         "0.0",
         "0.0",
         "0.0",
         "0.0",
         "0.0",
         "0.0",
         "0.0",
         "0.0",
         "0.0",
         "0.0",
         "0.0",
         "0.0",
         "0.0",
         "0.0",
         "0.0",
         "0.0",
         "0.0",
         "0.0",
         "0.0",
         "0.0",
         "0.0",
         "0.0",
         "0.0",
         "0.0",
         "0.0",
         "0.0",
         "0.0",
         "0.0",
         "0.0",
         "0.0",
         "0.0",
         "0.0",
         "0.0",
         "0.0",
         "0.0",
         "0.0",
         "0.0",
         "0.0",
         "0.0",
         "0.0",
         "0.0",
         "0.0",
         "0.0",
         "0.0",
         "0.1026412792084022",
         "0.0",
         "0.0",
         "0.0",
         "0.0",
         "0.0",
         "0.0",
         "0.0",
         "0.0",
         "0.0",
         "0.0",
         "0.0",
         "0.0",
         "0.0",
         "0.0",
         "0.0",
         "0.0",
         "0.0",
         "0.0",
         "0.0",
         "0.0",
         "0.0",
         "0.19923752653405571",
         "0.0",
         "0.0",
         "0.0",
         "0.0",
         "0.0",
         "0.0",
         "0.0",
         "0.0",
         "0.0",
         "0.0",
         "0.0",
         "0.0",
         "0.0",
         "0.0",
         "0.0",
         "0.0",
         "0.2834900070897172",
         "0.0",
         "0.0",
         "0.0",
         "0.1629824753599946",
         "0.0",
         "0.0",
         "0.0",
         "0.0",
         "0.0",
         "0.0",
         "0.0",
         "0.0",
         "0.0",
         "0.0",
         "0.0",
         "0.0",
         "0.0",
         "0.0",
         "0.0",
         "0.0",
         "0.0",
         "0.0",
         "0.0",
         "0.0",
         "0.0",
         "0.0",
         "0.0",
         "0.0",
         "0.0",
         "0.0",
         "0.0",
         "0.0",
         "0.0",
         "0.0",
         "0.0",
         "0.0",
         "0.0",
         "0.0",
         "0.0",
         "0.0",
         "0.0",
         "0.0",
         "0.0",
         "0.0",
         "0.0",
         "0.0",
         "0.0",
         "0.0",
         "0.11315729909636996",
         "0.0",
         "0.0",
         "0.0",
         "0.0",
         "0.0",
         "0.0",
         "0.0",
         "0.0",
         "0.0",
         "0.0",
         "0.0",
         "0.0",
         "0.0",
         "0.0",
         "0.0",
         "0.0",
         "0.0",
         "0.0",
         "0.08270223477263801",
         "0.2571022973603917",
         "0.0",
         "0.0",
         "0.0",
         "0.0",
         "0.0",
         "0.0",
         "0.0",
         "0.0",
         "0.0",
         "0.0",
         "0.0",
         "0.18647281717838918",
         "0.0",
         "0.0",
         "0.0",
         "0.0",
         "0.0",
         "0.0",
         "0.0",
         "0.0",
         "0.1341889791612849",
         "0.0",
         "0.0",
         "0.0",
         "0.0",
         "0.0",
         "0.0",
         "0.0",
         "0.0",
         "0.0",
         "0.0",
         "0.0",
         "0.0",
         "0.0",
         "0.0",
         "0.0",
         "0.0",
         "0.0",
         "0.0",
         "0.0",
         "0.0",
         "0.0",
         "0.0",
         "0.0",
         "0.0",
         "0.0",
         "0.0",
         "0.0",
         "0.0",
         "0.0",
         "0.0",
         "0.0",
         "0.0",
         "0.0",
         "0.0",
         "0.0",
         "0.0",
         "0.0",
         "0.0",
         null
        ],
        [
         "1",
         "0.0",
         "0.0",
         "0.0",
         "0.0",
         "0.0",
         "0.0",
         "0.0",
         "0.10389871173161216",
         "0.0",
         "0.1955397435070479",
         "0.0",
         "0.0",
         "0.0",
         "0.0",
         "0.09392070999883442",
         "0.0",
         "0.0",
         "0.0",
         "0.0",
         "0.0",
         "0.0",
         "0.0",
         "0.0",
         "0.0",
         "0.0",
         "0.0",
         "0.0",
         "0.0",
         "0.0",
         "0.0",
         "0.0",
         "0.0",
         "0.0",
         "0.0",
         "0.0",
         "0.0",
         "0.0",
         "0.0",
         "0.0",
         "0.0",
         "0.0",
         "0.0",
         "0.0",
         "0.0",
         "0.0",
         "0.0",
         "0.0",
         "0.0",
         "0.0",
         "0.0",
         "0.260099536172209",
         "0.0",
         "0.0",
         "0.0",
         "0.0",
         "0.0",
         "0.0",
         "0.0",
         "0.0",
         "0.0",
         "0.11202880593455898",
         "0.0",
         "0.0",
         "0.0",
         "0.0",
         "0.0",
         "0.0",
         "0.0",
         "0.0",
         "0.0",
         "0.0",
         "0.0",
         "0.0",
         "0.0",
         "0.15969724339920496",
         "0.0",
         "0.0",
         "0.0",
         "0.089320562050001",
         "0.12638221395455068",
         "0.0",
         "0.0",
         "0.0",
         "0.0",
         "0.0",
         "0.0",
         "0.0",
         "0.0",
         "0.0",
         "0.0",
         "0.0",
         "0.0",
         "0.0",
         "0.0",
         "0.0",
         "0.0",
         "0.0",
         "0.0",
         "0.0",
         "0.0",
         "0.0",
         "0.0",
         "0.0",
         "0.0",
         "0.0",
         "0.10870629242306377",
         "0.0",
         "0.0",
         "0.0",
         "0.0",
         "0.0",
         "0.0",
         "0.0",
         "0.0",
         "0.0",
         "0.0",
         "0.0",
         "0.0",
         "0.12638221395455068",
         "0.0",
         "0.0",
         "0.0",
         "0.0",
         "0.0",
         "0.0",
         "0.12716176828669112",
         "0.0",
         "0.0",
         "0.0",
         "0.0",
         "0.09826500278272703",
         "0.08065330559749452",
         "0.0",
         "0.0",
         "0.0",
         "0.0",
         "0.0",
         "0.0",
         "0.0",
         "0.0",
         "0.0",
         "0.0",
         "0.0",
         "0.0",
         "0.0",
         "0.0",
         "0.0",
         "0.0",
         "0.0",
         "0.0",
         "0.0",
         "0.0",
         "0.0",
         "0.0",
         "0.0",
         "0.0",
         "0.0",
         "0.0",
         "0.0",
         "0.0",
         "0.0",
         "0.0",
         "0.0",
         "0.0",
         "0.0",
         "0.0",
         "0.0",
         "0.0",
         "0.0",
         "0.0",
         "0.0",
         "0.0",
         "0.0729551525588738",
         "0.0",
         "0.0",
         "0.0",
         "0.0",
         "0.0",
         "0.0",
         "0.0",
         "0.0",
         "0.0",
         "0.0",
         "0.0",
         "0.0",
         "0.0",
         "0.0",
         "0.0",
         "0.0",
         "0.0987820585209055",
         "0.12139805312901025",
         "0.0",
         "0.0",
         "0.0",
         "0.0",
         "0.0",
         "0.0",
         "0.0",
         "0.0",
         "0.0",
         "0.0",
         "0.0",
         "0.0",
         "0.0",
         "0.0",
         "0.0",
         "0.0",
         "0.0",
         "0.0",
         "0.0",
         "0.0",
         "0.0",
         "0.0",
         "0.16928949427349463",
         "0.0",
         "0.0",
         "0.0",
         "0.13854031720288962",
         "0.0",
         "0.0",
         "0.0",
         "0.0",
         "0.0",
         "0.08935065422107732",
         "0.0",
         "0.0",
         "0.0",
         "0.0",
         "0.0",
         "0.0",
         "0.0",
         "0.0",
         "0.0",
         "0.0",
         "0.0",
         "0.0",
         "0.0",
         "0.23047096405994372",
         "0.0",
         "0.0",
         "0.0",
         "0.0",
         "0.0",
         "0.0",
         "0.0",
         "0.0",
         "0.0",
         "0.0",
         "0.0",
         "0.09324575848554897",
         "0.14455840063635772",
         "0.0",
         "0.0",
         "0.0",
         "0.0",
         "0.0",
         "0.0",
         "0.13193375268553573",
         "0.0",
         "0.0",
         "0.0",
         "0.0",
         "0.0",
         "0.0",
         "0.0",
         "0.0",
         "0.0",
         "0.0",
         "0.08663907109755727",
         "0.14632521877675675",
         "0.0",
         "0.0",
         "0.0",
         "0.0",
         "0.0",
         "0.0",
         "0.0",
         "0.0",
         "0.0",
         "0.0",
         "0.0",
         "0.1876784038800337",
         "0.0",
         "0.0",
         "0.0",
         "0.0",
         "0.07358156735757607",
         "0.0",
         "0.0",
         "0.0",
         "0.0",
         "0.0",
         "0.0",
         "0.0",
         "0.0",
         "0.0",
         "0.0",
         "0.10655432053363571",
         "0.0",
         "0.0",
         "0.0",
         "0.0",
         "0.0",
         "0.0",
         "0.0",
         "0.0",
         "0.0",
         "0.0",
         "0.0",
         "0.08217677711501342",
         "0.0",
         "0.0",
         "0.0",
         "0.13146124593780797",
         "0.15242014778759405",
         "0.10706934875123487",
         "0.0",
         "0.0",
         "0.0",
         "0.0",
         "0.0",
         "0.0",
         "0.0",
         "0.16983359759354297",
         "0.0",
         "0.0",
         "0.0",
         "0.0",
         "0.0",
         "0.0",
         "0.0",
         "0.0",
         "0.09976999907583206",
         "0.0",
         "0.0",
         "0.0",
         "0.0",
         "0.0",
         "0.0",
         "0.0",
         "0.1267690231594566",
         "0.10007650748399276",
         "0.0",
         "0.0",
         "0.0",
         "0.0",
         "0.0",
         "0.0",
         "0.0",
         "0.0",
         "0.0",
         "0.0",
         "0.0",
         "0.18558839870779",
         "0.0",
         "0.0",
         "0.0",
         "0.0",
         "0.0",
         "0.14625621698596944",
         "0.0",
         "0.0",
         "0.0",
         "0.0",
         "0.0",
         "0.0",
         "0.0",
         "0.0",
         "0.0",
         "0.0",
         "0.0",
         "0.0",
         "0.0",
         "0.0",
         "0.0",
         "0.04458532106534266",
         "0.0",
         "0.0",
         "0.0",
         "0.0",
         "0.0",
         "0.0",
         "0.1685998239016325",
         "0.0",
         "0.0",
         "0.0",
         "0.0",
         "0.0",
         "0.0",
         "0.0",
         "0.0",
         "0.0",
         "0.0",
         "0.0",
         "0.0",
         "0.15278805007712398",
         "0.0",
         "0.0",
         "0.0",
         "0.0",
         "0.0",
         "0.0",
         "0.0",
         "0.0",
         "0.0",
         "0.0",
         "0.0",
         "0.0",
         "0.0",
         "0.07239022343746243",
         "0.18027411383013406",
         "0.0",
         "0.0",
         "0.0",
         "0.1212929466627979",
         "0.0",
         "0.0",
         "0.0",
         "0.0",
         "0.0",
         "0.08641946227020905",
         "0.0",
         "0.0",
         "0.0",
         "0.0",
         "0.0",
         "0.0",
         "0.0",
         "0.0",
         "0.0",
         "0.0",
         "0.0",
         "0.0",
         "0.0",
         "0.0",
         "0.0",
         "0.0",
         "0.1887543222198245",
         "0.0",
         "0.0",
         "0.0",
         "0.0",
         "0.0",
         "0.0",
         "0.0",
         "0.2102493189170363",
         "0.14516697223752828",
         "0.0",
         "0.0",
         "0.0",
         "0.0",
         "0.0",
         "0.08636966451992308",
         "0.0",
         "0.0",
         "0.0",
         "0.0",
         "0.0",
         "0.0",
         "0.0",
         "0.0",
         "0.0",
         "0.0",
         "0.0",
         "0.16109629002878467",
         "0.0944664319228535",
         "0.0",
         "0.0",
         "0.0",
         "0.0",
         "0.0",
         "0.0",
         "0.0",
         "0.0",
         "0.0",
         "0.0",
         "0.0",
         "0.0",
         "0.0",
         "0.0",
         "0.0",
         "0.0",
         "0.11804644372933952",
         "0.0",
         "0.0944296862043346",
         "0.0",
         "0.0",
         "0.0",
         "0.0",
         "0.11652204363666085",
         "0.0",
         "0.0",
         "0.0",
         "0.0",
         "0.0",
         "0.0",
         "0.0",
         "0.0",
         "0.1135656774337946",
         "0.0",
         null
        ],
        [
         "2",
         "0.0",
         "0.0",
         "0.0",
         "0.0",
         "0.0",
         "0.0",
         "0.0",
         "0.06024088755361658",
         "0.0",
         "0.19196009321742322",
         "0.0",
         "0.0",
         "0.0",
         "0.0",
         "0.09220134957256404",
         "0.0",
         "0.0",
         "0.0",
         "0.0",
         "0.0",
         "0.0",
         "0.0",
         "0.0",
         "0.0",
         "0.0",
         "0.0",
         "0.0",
         "0.0",
         "0.0",
         "0.0",
         "0.0",
         "0.0",
         "0.0",
         "0.0",
         "0.0",
         "0.0",
         "0.0",
         "0.0",
         "0.0",
         "0.0",
         "0.0",
         "0.0",
         "0.0",
         "0.0",
         "0.0",
         "0.0",
         "0.0",
         "0.0",
         "0.0",
         "0.0",
         "0.2553380213860523",
         "0.0",
         "0.0",
         "0.0",
         "0.0",
         "0.0",
         "0.0",
         "0.0",
         "0.0",
         "0.0",
         "0.06495474860653486",
         "0.14684587701155508",
         "0.0",
         "0.0",
         "0.0",
         "0.0",
         "0.0",
         "0.0",
         "0.0",
         "0.0",
         "0.0",
         "0.0",
         "0.0",
         "0.0",
         "0.09259309881613263",
         "0.0",
         "0.0",
         "0.0",
         "0.0",
         "0.0",
         "0.0",
         "0.0",
         "0.0",
         "0.0",
         "0.0",
         "0.0",
         "0.0",
         "0.0",
         "0.0",
         "0.0",
         "0.0",
         "0.0",
         "0.0",
         "0.0",
         "0.0",
         "0.0",
         "0.0",
         "0.0",
         "0.0",
         "0.0",
         "0.0",
         "0.0",
         "0.0",
         "0.0",
         "0.0",
         "0.0",
         "0.0",
         "0.0",
         "0.0",
         "0.0",
         "0.0",
         "0.0",
         "0.0",
         "0.0",
         "0.10721730640445842",
         "0.0",
         "0.0",
         "0.0",
         "0.12406859667822698",
         "0.0",
         "0.0",
         "0.0",
         "0.0",
         "0.0",
         "0.0",
         "0.12483388009111196",
         "0.0",
         "0.0",
         "0.0",
         "0.0",
         "0.0",
         "0.0",
         "0.0",
         "0.0",
         "0.0",
         "0.0",
         "0.0",
         "0.0",
         "0.0",
         "0.0",
         "0.0",
         "0.0",
         "0.0",
         "0.0",
         "0.0",
         "0.0",
         "0.0",
         "0.0",
         "0.0",
         "0.0",
         "0.0",
         "0.0",
         "0.0",
         "0.0",
         "0.0",
         "0.0",
         "0.0",
         "0.0",
         "0.0",
         "0.0",
         "0.0",
         "0.0",
         "0.0",
         "0.0",
         "0.0",
         "0.0",
         "0.0",
         "0.0",
         "0.0",
         "0.0",
         "0.0",
         "0.0",
         "0.0716195983216475",
         "0.0",
         "0.0",
         "0.0",
         "0.0",
         "0.0",
         "0.0",
         "0.0",
         "0.0",
         "0.0",
         "0.0",
         "0.0",
         "0.0",
         "0.0",
         "0.0",
         "0.0",
         "0.0",
         "0.09697370376881219",
         "0.11917567844318346",
         "0.0",
         "0.0",
         "0.0",
         "0.0",
         "0.0",
         "0.13445174492050735",
         "0.0",
         "0.0",
         "0.0",
         "0.0",
         "0.0",
         "0.0",
         "0.0",
         "0.0",
         "0.0",
         "0.0",
         "0.0",
         "0.0",
         "0.0",
         "0.0",
         "0.0",
         "0.0",
         "0.1661903944366132",
         "0.0",
         "0.0",
         "0.0",
         "0.11960801563437715",
         "0.0",
         "0.0",
         "0.0",
         "0.0",
         "0.0",
         "0.08771495556706378",
         "0.0",
         "0.0",
         "0.0",
         "0.0",
         "0.0",
         "0.0",
         "0.0",
         "0.0",
         "0.0",
         "0.0",
         "0.0",
         "0.0",
         "0.0",
         "0.18253856397147986",
         "0.0",
         "0.0",
         "0.0",
         "0.0",
         "0.0",
         "0.0",
         "0.0",
         "0.0",
         "0.0",
         "0.0",
         "0.0",
         "0.0",
         "0.16021079456147744",
         "0.0",
         "0.0",
         "0.0",
         "0.0",
         "0.0",
         "0.0",
         "0.1295185061093581",
         "0.0",
         "0.0",
         "0.0",
         "0.0",
         "0.0",
         "0.0",
         "0.0",
         "0.0",
         "0.0",
         "0.0",
         "0.08505301206738368",
         "0.11589310357279858",
         "0.0",
         "0.0",
         "0.1375391269095764",
         "0.0",
         "0.0",
         "0.0",
         "0.0",
         "0.0",
         "0.0",
         "0.0",
         "0.0",
         "0.10881668729044904",
         "0.0",
         "0.0",
         "0.0",
         "0.0",
         "0.07223454565151001",
         "0.0",
         "0.0",
         "0.0",
         "0.0",
         "0.0",
         "0.0",
         "0.0",
         "0.0",
         "0.0",
         "0.0",
         "0.10460368278850009",
         "0.0",
         "0.0",
         "0.0",
         "0.0",
         "0.0",
         "0.0",
         "0.0",
         "0.0",
         "0.0",
         "0.0",
         "0.0",
         "0.08067240711470412",
         "0.0",
         "0.0",
         "0.0",
         "0.12905464931118035",
         "0.0",
         "0.10510928263683156",
         "0.0",
         "0.0",
         "0.0",
         "0.0",
         "0.0",
         "0.0",
         "0.0",
         "0.1667245371237372",
         "0.0",
         "0.0",
         "0.0",
         "0.0",
         "0.0",
         "0.0",
         "0.0",
         "0.0",
         "0.09794355857999096",
         "0.0",
         "0.0",
         "0.0",
         "0.0",
         "0.0",
         "0.0",
         "0.0",
         "0.21070933018690385",
         "0.0",
         "0.07037373320878801",
         "0.0",
         "0.10958126493884496",
         "0.0",
         "0.0",
         "0.0",
         "0.0",
         "0.0",
         "0.0",
         "0.0",
         "0.06408585834796497",
         "0.18219092281224977",
         "0.0",
         "0.0",
         "0.0",
         "0.0",
         "0.0",
         "0.24309999989524403",
         "0.0",
         "0.0",
         "0.0",
         "0.0",
         "0.0",
         "0.0",
         "0.0",
         "0.0",
         "0.0",
         "0.0",
         "0.0",
         "0.0",
         "0.0",
         "0.0",
         "0.0",
         "0.04376911943491141",
         "0.0",
         "0.0",
         "0.058816346835994966",
         "0.0",
         "0.0",
         "0.0",
         "0.1655133495223798",
         "0.0",
         "0.0",
         "0.0",
         "0.0",
         "0.0",
         "0.0",
         "0.0",
         "0.0",
         "0.0",
         "0.0",
         "0.0",
         "0.0",
         "0.0",
         "0.0",
         "0.0",
         "0.0",
         "0.0",
         "0.0",
         "0.0",
         "0.0",
         "0.0",
         "0.0",
         "0.0",
         "0.0",
         "0.0",
         "0.0",
         "0.07106501108090349",
         "0.1769739239443853",
         "0.0",
         "0.0",
         "0.0",
         "0.11907249610955646",
         "0.0",
         "0.0",
         "0.0",
         "0.0",
         "0.0",
         "0.08952183370245922",
         "0.0",
         "0.0",
         "0.0",
         "0.0",
         "0.0",
         "0.0",
         "0.0",
         "0.0",
         "0.0",
         "0.0",
         "0.0",
         "0.0",
         "0.0",
         "0.0",
         "0.0",
         "0.0",
         "0.18529888931353275",
         "0.0",
         "0.0",
         "0.0",
         "0.0",
         "0.0",
         "0.0",
         "0.0",
         "0.20640038763658983",
         "0.24128951003239366",
         "0.0",
         "0.0",
         "0.0",
         "0.0",
         "0.0",
         "0.14355947301549432",
         "0.0",
         "0.0",
         "0.0",
         "0.0",
         "0.0",
         "0.0",
         "0.0",
         "0.0",
         "0.0",
         "0.08091928135837974",
         "0.0",
         "0.19664196540459092",
         "0.09273708123266881",
         "0.0",
         "0.0",
         "0.0",
         "0.0",
         "0.0",
         "0.0",
         "0.0",
         "0.0",
         "0.0",
         "0.0",
         "0.0",
         "0.0",
         "0.0",
         "0.0",
         "0.0",
         "0.0",
         "0.1158854253148418",
         "0.0",
         "0.0",
         "0.0",
         "0.0",
         "0.0",
         "0.0",
         "0.11438893166785746",
         "0.0",
         "0.0",
         "0.0",
         "0.0",
         "0.0",
         "0.0",
         "0.0",
         "0.0",
         "0.11148668621274571",
         "0.0",
         null
        ],
        [
         "3",
         "0.0",
         "0.0",
         "0.0",
         "0.0",
         "0.0",
         "0.0",
         "0.0",
         "0.0",
         "0.0",
         "0.0",
         "0.0",
         "0.0",
         "0.0",
         "0.0",
         "0.0",
         "0.0",
         "0.0",
         "0.0",
         "0.0",
         "0.0",
         "0.0",
         "0.0",
         "0.0",
         "0.0",
         "0.0",
         "0.0",
         "0.0",
         "0.0",
         "0.0",
         "0.0",
         "0.0",
         "0.0",
         "0.0",
         "0.0",
         "0.0",
         "0.0",
         "0.0",
         "0.0",
         "0.0",
         "0.0",
         "0.0",
         "0.0",
         "0.0",
         "0.0",
         "0.0",
         "0.0",
         "0.0",
         "0.0",
         "0.0",
         "0.0",
         "0.0",
         "0.0",
         "0.0",
         "0.0",
         "0.0",
         "0.0",
         "0.0",
         "0.0",
         "0.0",
         "0.0",
         "0.0",
         "0.0",
         "0.0",
         "0.0",
         "0.0",
         "0.0",
         "0.0",
         "0.0",
         "0.0",
         "0.0",
         "0.0",
         "0.0",
         "0.0",
         "0.0",
         "0.0",
         "0.0",
         "0.0",
         "0.0",
         "0.0",
         "0.0",
         "0.0",
         "0.0",
         "0.0",
         "0.0",
         "0.0",
         "0.0",
         "0.0",
         "0.0",
         "0.0",
         "0.0",
         "0.0",
         "0.0",
         "0.0",
         "0.0",
         "0.0",
         "0.0",
         "0.0",
         "0.0",
         "0.0",
         "0.0",
         "0.0",
         "0.0",
         "0.0",
         "0.0",
         "0.0",
         "0.0",
         "0.0",
         "0.0",
         "0.0",
         "0.0",
         "0.0",
         "0.0",
         "0.0",
         "0.0",
         "0.0",
         "0.0",
         "0.0",
         "0.0",
         "0.0",
         "0.0",
         "0.0",
         "0.0",
         "0.0",
         "0.0",
         "0.0",
         "0.0",
         "0.0",
         "0.0",
         "0.0",
         "0.0",
         "0.0",
         "0.0",
         "0.0",
         "0.0",
         "0.0",
         "0.0",
         "0.0",
         "0.0",
         "0.0",
         "0.0",
         "0.0",
         "0.0",
         "0.0",
         "0.0",
         "0.0",
         "0.0",
         "0.0",
         "0.0",
         "0.0",
         "0.0",
         "0.0",
         "0.0",
         "0.0",
         "0.0",
         "0.0",
         "0.0",
         "0.0",
         "0.0",
         "0.0",
         "0.0",
         "0.0",
         "0.0",
         "0.0",
         "0.0",
         "0.0",
         "0.0",
         "0.0",
         "0.0",
         "0.0",
         "0.0",
         "0.0",
         "0.0",
         "0.0",
         "0.0",
         "0.0",
         "0.0",
         "0.0",
         "0.0",
         "0.0",
         "0.0",
         "0.703345541060223",
         "0.0",
         "0.0",
         "0.0",
         "0.0",
         "0.0",
         "0.0",
         "0.0",
         "0.0",
         "0.0",
         "0.0",
         "0.0",
         "0.0",
         "0.0",
         "0.0",
         "0.0",
         "0.0",
         "0.0",
         "0.0",
         "0.0",
         "0.0",
         "0.0",
         "0.0",
         "0.0",
         "0.0",
         "0.0",
         "0.0",
         "0.0",
         "0.0",
         "0.0",
         "0.0",
         "0.0",
         "0.0",
         "0.0",
         "0.0",
         "0.0",
         "0.0",
         "0.0",
         "0.0",
         "0.0",
         "0.0",
         "0.0",
         "0.0",
         "0.0",
         "0.0",
         "0.0",
         "0.0",
         "0.0",
         "0.0",
         "0.0",
         "0.0",
         "0.0",
         "0.0",
         "0.0",
         "0.0",
         "0.0",
         "0.0",
         "0.0",
         "0.0",
         "0.0",
         "0.0",
         "0.0",
         "0.0",
         "0.0",
         "0.0",
         "0.0",
         "0.0",
         "0.0",
         "0.0",
         "0.0",
         "0.0",
         "0.0",
         "0.0",
         "0.0",
         "0.0",
         "0.0",
         "0.0",
         "0.0",
         "0.0",
         "0.0",
         "0.0",
         "0.0",
         "0.0",
         "0.0",
         "0.0",
         "0.0",
         "0.0",
         "0.0",
         "0.0",
         "0.0",
         "0.0",
         "0.0",
         "0.0",
         "0.0",
         "0.0",
         "0.0",
         "0.0",
         "0.0",
         "0.0",
         "0.0",
         "0.0",
         "0.0",
         "0.0",
         "0.0",
         "0.0",
         "0.0",
         "0.0",
         "0.0",
         "0.0",
         "0.0",
         "0.0",
         "0.0",
         "0.0",
         "0.0",
         "0.0",
         "0.0",
         "0.0",
         "0.0",
         "0.0",
         "0.0",
         "0.7108481201147698",
         "0.0",
         "0.0",
         "0.0",
         "0.0",
         "0.0",
         "0.0",
         "0.0",
         "0.0",
         "0.0",
         "0.0",
         "0.0",
         "0.0",
         "0.0",
         "0.0",
         "0.0",
         "0.0",
         "0.0",
         "0.0",
         "0.0",
         "0.0",
         "0.0",
         "0.0",
         "0.0",
         "0.0",
         "0.0",
         "0.0",
         "0.0",
         "0.0",
         "0.0",
         "0.0",
         "0.0",
         "0.0",
         "0.0",
         "0.0",
         "0.0",
         "0.0",
         "0.0",
         "0.0",
         "0.0",
         "0.0",
         "0.0",
         "0.0",
         "0.0",
         "0.0",
         "0.0",
         "0.0",
         "0.0",
         "0.0",
         "0.0",
         "0.0",
         "0.0",
         "0.0",
         "0.0",
         "0.0",
         "0.0",
         "0.0",
         "0.0",
         "0.0",
         "0.0",
         "0.0",
         "0.0",
         "0.0",
         "0.0",
         "0.0",
         "0.0",
         "0.0",
         "0.0",
         "0.0",
         "0.0",
         "0.0",
         "0.0",
         "0.0",
         "0.0",
         "0.0",
         "0.0",
         "0.0",
         "0.0",
         "0.0",
         "0.0",
         "0.0",
         "0.0",
         "0.0",
         "0.0",
         "0.0",
         "0.0",
         "0.0",
         "0.0",
         "0.0",
         "0.0",
         "0.0",
         "0.0",
         "0.0",
         "0.0",
         "0.0",
         "0.0",
         "0.0",
         "0.0",
         "0.0",
         "0.0",
         "0.0",
         "0.0",
         "0.0",
         "0.0",
         "0.0",
         "0.0",
         "0.0",
         "0.0",
         "0.0",
         "0.0",
         "0.0",
         "0.0",
         "0.0",
         "0.0",
         "0.0",
         "0.0",
         "0.0",
         "0.0",
         "0.0",
         "0.0",
         "0.0",
         "0.0",
         "0.0",
         "0.0",
         "0.0",
         "0.0",
         "0.0",
         "0.0",
         "0.0",
         "0.0",
         "0.0",
         "0.0",
         "0.0",
         "0.0",
         "0.0",
         "0.0",
         "0.0",
         "0.0",
         "0.0",
         "0.0",
         "0.0",
         "0.0",
         "0.0",
         "0.0",
         "0.0",
         "0.0",
         "0.0",
         "0.0",
         "0.0",
         "0.0",
         "0.0",
         "0.0",
         "0.0",
         "0.0",
         "0.0",
         "0.0",
         "0.0",
         "0.0",
         "0.0",
         "0.0",
         "0.0",
         "0.0",
         "0.0",
         "0.0",
         "0.0",
         "0.0",
         "0.0",
         "0.0",
         "0.0",
         "0.0",
         "0.0",
         "0.0",
         "0.0",
         "0.0",
         "0.0",
         "0.0",
         "0.0",
         "0.0",
         "0.0",
         "0.0",
         "0.0",
         "0.0",
         "0.0",
         "0.0",
         "0.0",
         "0.0",
         "0.0",
         "0.0",
         "0.0",
         "0.0",
         "0.0",
         "0.0",
         "0.0",
         "0.0",
         "0.0",
         "0.0",
         "0.0",
         "0.0",
         "0.0",
         "0.0",
         null
        ],
        [
         "4",
         "0.0",
         "0.0",
         "0.0",
         "0.0",
         "0.0",
         "0.0",
         "0.0",
         "0.0",
         "0.07200799786101605",
         "0.14351162304660478",
         "0.06445566735129425",
         "0.0",
         "0.0",
         "0.0",
         "0.0",
         "0.0",
         "0.0",
         "0.11133361214866888",
         "0.0",
         "0.0",
         "0.0",
         "0.11530201367049703",
         "0.0",
         "0.0",
         "0.0",
         "0.0",
         "0.0",
         "0.10001333751952309",
         "0.14316049894572974",
         "0.0",
         "0.0",
         "0.0",
         "0.0",
         "0.0",
         "0.0",
         "0.0",
         "0.0",
         "0.0",
         "0.0",
         "0.0",
         "0.0",
         "0.0",
         "0.10534885705959633",
         "0.0875275015010246",
         "0.0",
         "0.0",
         "0.0",
         "0.0",
         "0.0",
         "0.0",
         "0.0",
         "0.0",
         "0.0",
         "0.0",
         "0.0",
         "0.0",
         "0.0",
         "0.0",
         "0.0",
         "0.0",
         "0.11229337195439032",
         "0.0",
         "0.0",
         "0.0",
         "0.0",
         "0.04602841910339592",
         "0.0",
         "0.0",
         "0.0",
         "0.0",
         "0.0",
         "0.0",
         "0.0",
         "0.0",
         "0.0",
         "0.0",
         "0.0",
         "0.0",
         "0.041656394487994394",
         "0.12369393363599655",
         "0.0",
         "0.0",
         "0.0",
         "0.17086468690728768",
         "0.0",
         "0.0",
         "0.05627738554980734",
         "0.0",
         "0.0",
         "0.0",
         "0.0",
         "0.0",
         "0.09813947741528023",
         "0.0",
         "0.05812808256025232",
         "0.0",
         "0.0",
         "0.0",
         "0.08926207306007417",
         "0.0",
         "0.0",
         "0.0",
         "0.0",
         "0.0",
         "0.0",
         "0.0",
         "0.07755957254897991",
         "0.04686637561104072",
         "0.0",
         "0.0",
         "0.0",
         "0.0",
         "0.0",
         "0.0",
         "0.07178744802784055",
         "0.0",
         "0.0",
         "0.06354408113430114",
         "0.0",
         "0.0",
         "0.0",
         "0.0",
         "0.0",
         "0.0",
         "0.059743024312142456",
         "0.0",
         "0.0",
         "0.0",
         "0.0",
         "0.0",
         "0.10935864387911388",
         "0.08975867170137757",
         "0.0895477392678241",
         "0.11222101008049766",
         "0.0",
         "0.0",
         "0.0",
         "0.0",
         "0.0",
         "0.0",
         "0.1225418132547785",
         "0.0",
         "0.0",
         "0.0",
         "0.0",
         "0.054924696821936486",
         "0.0",
         "0.0",
         "0.0",
         "0.05215938782670533",
         "0.0",
         "0.0",
         "0.05418103902282682",
         "0.0",
         "0.0",
         "0.0",
         "0.0",
         "0.0",
         "0.0",
         "0.0",
         "0.1354670501853619",
         "0.0",
         "0.0",
         "0.0",
         "0.0",
         "0.0",
         "0.0",
         "0.0",
         "0.0",
         "0.0",
         "0.0",
         "0.0",
         "0.09498700582974128",
         "0.0",
         "0.0",
         "0.0",
         "0.0",
         "0.0",
         "0.0",
         "0.0",
         "0.0",
         "0.0",
         "0.08404582359417802",
         "0.0",
         "0.08582146063899532",
         "0.0",
         "0.0",
         "0.0",
         "0.0",
         "0.0",
         "0.0",
         "0.0",
         "0.0",
         "0.0",
         "0.0",
         "0.0",
         "0.0",
         "0.0",
         "0.0",
         "0.0",
         "0.0",
         "0.0",
         "0.0",
         "0.0",
         "0.0",
         "0.0",
         "0.11397017435501448",
         "0.0",
         "0.0",
         "0.15025654331176141",
         "0.0",
         "0.0",
         "0.0",
         "0.0",
         "0.0",
         "0.0",
         "0.0",
         "0.10214611538526738",
         "0.07260434063333694",
         "0.0",
         "0.0",
         "0.0",
         "0.0",
         "0.08745007345360604",
         "0.0",
         "0.0",
         "0.0",
         "0.0",
         "0.0",
         "0.0",
         "0.0",
         "0.0",
         "0.12591906588416218",
         "0.0",
         "0.0",
         "0.0",
         "0.0",
         "0.14298557791190145",
         "0.08354227988237793",
         "0.1456307675146108",
         "0.0",
         "0.0",
         "0.0",
         "0.0",
         "0.0",
         "0.0",
         "0.060112175262570774",
         "0.0",
         "0.09645054462148786",
         "0.0",
         "0.10684495357618841",
         "0.0",
         "0.0",
         "0.11732712502588324",
         "0.0",
         "0.0",
         "0.0",
         "0.0",
         "0.0",
         "0.0",
         "0.0",
         "0.0",
         "0.0",
         "0.0",
         "0.0",
         "0.0",
         "0.0",
         "0.052433003894986",
         "0.09642020102644783",
         "0.12267516842827399",
         "0.0",
         "0.0",
         "0.0",
         "0.07482591548093512",
         "0.0",
         "0.06381032217181495",
         "0.10959699470682352",
         "0.0",
         "0.0",
         "0.11289200541279695",
         "0.0",
         "0.0",
         "0.0",
         "0.0",
         "0.22613392174276062",
         "0.0",
         "0.05810238723829728",
         "0.0",
         "0.0",
         "0.0",
         "0.0",
         "0.05727262662419242",
         "0.0",
         "0.0",
         "0.0",
         "0.3548925238712962",
         "0.0",
         "0.10428780000211145",
         "0.0",
         "0.0",
         "0.0",
         "0.035027030234823286",
         "0.0",
         "0.05479749158642606",
         "0.0",
         "0.0",
         "0.0",
         "0.0",
         "0.0",
         "0.08042879212845554",
         "0.0",
         "0.0",
         "0.10559087817640349",
         "0.0",
         "0.10018481761422099",
         "0.09739904438218873",
         "0.0",
         "0.0",
         "0.0",
         "0.0",
         "0.0",
         "0.0",
         "0.15605179356525636",
         "0.04677988263623002",
         "0.0",
         "0.0",
         "0.0",
         "0.0",
         "0.11325712888164022",
         "0.0",
         "0.0",
         "0.0",
         "0.09263434137039413",
         "0.11732712502588324",
         "0.0",
         "0.0",
         "0.0",
         "0.0",
         "0.1551712652885718",
         "0.0",
         "0.0",
         "0.0",
         "0.0",
         "0.0",
         "0.0",
         "0.0",
         "0.09280207006442125",
         "0.0",
         "0.0",
         "0.0",
         "0.0",
         "0.0",
         "0.0",
         "0.0",
         "0.043037503632929984",
         "0.0",
         "0.0",
         "0.0",
         "0.09288181652163871",
         "0.0",
         "0.0",
         "0.10584990206355688",
         "0.0",
         "0.0",
         "0.0",
         "0.0",
         "0.0",
         "0.0",
         "0.0",
         "0.0",
         "0.0",
         "0.0",
         "0.0",
         "0.0",
         "0.0",
         "0.058049719634771256",
         "0.0",
         "0.1332380407343963",
         "0.027941670416903836",
         "0.0",
         "0.0",
         "0.0",
         "0.0",
         "0.0",
         "0.0",
         "0.0",
         "0.0",
         "0.0",
         "0.0",
         "0.07043563827458264",
         "0.0",
         "0.0",
         "0.0",
         "0.0",
         "0.0",
         "0.0",
         "0.0",
         "0.0",
         "0.0",
         "0.0",
         "0.0",
         "0.0",
         "0.0",
         "0.0",
         "0.0",
         "0.0",
         "0.0",
         "0.0",
         "0.0",
         "0.11149725197739867",
         "0.12582288326625454",
         "0.0",
         "0.0",
         "0.0",
         "0.0",
         "0.0",
         "0.0",
         "0.0",
         "0.0",
         "0.0",
         "0.06304873872318605",
         "0.0",
         "0.0",
         "0.0",
         "0.11312223158908709",
         "0.0",
         "0.0",
         "0.0",
         "0.0",
         "0.0",
         "0.0",
         "0.0",
         "0.0",
         "0.0",
         "0.0",
         "0.0",
         "0.0",
         "0.0",
         "0.0",
         "0.07801997144838187",
         "0.0",
         "0.0",
         "0.0",
         "0.0",
         "0.0",
         "0.0",
         "0.0",
         "0.0",
         "0.0",
         "0.0",
         "0.0",
         "0.0",
         "0.0",
         "0.0",
         "0.0",
         "0.0",
         "0.044176925260075973",
         "0.0",
         "0.0",
         "0.0",
         "0.0",
         "0.0",
         "0.08067492085990921",
         "0.0",
         "0.11823269087997026",
         "0.07459375229028409",
         "0.0",
         "0.0",
         "0.0",
         "0.0",
         "0.0",
         "0.0",
         "0.042757603171118784",
         "0.0",
         "0.0",
         "0.0",
         "0.0",
         "0.0",
         "0.0",
         "0.0",
         "0.0",
         "0.0",
         "0.0",
         "0.0",
         "0.0",
         "0.0",
         "0.0",
         "0.0",
         "0.0",
         "0.0",
         "0.0",
         "0.0",
         "0.0",
         "0.0",
         "0.0",
         "0.0",
         "0.0",
         "0.0",
         "0.0",
         "0.0",
         null
        ]
       ],
       "shape": {
        "columns": 501,
        "rows": 5
       }
      },
      "text/html": [
       "<div>\n",
       "<style scoped>\n",
       "    .dataframe tbody tr th:only-of-type {\n",
       "        vertical-align: middle;\n",
       "    }\n",
       "\n",
       "    .dataframe tbody tr th {\n",
       "        vertical-align: top;\n",
       "    }\n",
       "\n",
       "    .dataframe thead th {\n",
       "        text-align: right;\n",
       "    }\n",
       "</style>\n",
       "<table border=\"1\" class=\"dataframe\">\n",
       "  <thead>\n",
       "    <tr style=\"text-align: right;\">\n",
       "      <th></th>\n",
       "      <th>aap</th>\n",
       "      <th>accel</th>\n",
       "      <th>accordance</th>\n",
       "      <th>account</th>\n",
       "      <th>accrue</th>\n",
       "      <th>achieve</th>\n",
       "      <th>achievement</th>\n",
       "      <th>acquire</th>\n",
       "      <th>acquisition</th>\n",
       "      <th>act</th>\n",
       "      <th>...</th>\n",
       "      <th>withholding</th>\n",
       "      <th>wp</th>\n",
       "      <th>xi</th>\n",
       "      <th>xii</th>\n",
       "      <th>xiii</th>\n",
       "      <th>xiv</th>\n",
       "      <th>year</th>\n",
       "      <th>york</th>\n",
       "      <th>yorktown</th>\n",
       "      <th>prediction</th>\n",
       "    </tr>\n",
       "  </thead>\n",
       "  <tbody>\n",
       "    <tr>\n",
       "      <th>0</th>\n",
       "      <td>0.0</td>\n",
       "      <td>0.0</td>\n",
       "      <td>0.0</td>\n",
       "      <td>0.0</td>\n",
       "      <td>0.0</td>\n",
       "      <td>0.0</td>\n",
       "      <td>0.0</td>\n",
       "      <td>0.000000</td>\n",
       "      <td>0.000000</td>\n",
       "      <td>0.000000</td>\n",
       "      <td>...</td>\n",
       "      <td>0.0</td>\n",
       "      <td>0.0</td>\n",
       "      <td>0.0</td>\n",
       "      <td>0.0</td>\n",
       "      <td>0.0</td>\n",
       "      <td>0.0</td>\n",
       "      <td>0.0</td>\n",
       "      <td>0.000000</td>\n",
       "      <td>0.0</td>\n",
       "      <td>NaN</td>\n",
       "    </tr>\n",
       "    <tr>\n",
       "      <th>1</th>\n",
       "      <td>0.0</td>\n",
       "      <td>0.0</td>\n",
       "      <td>0.0</td>\n",
       "      <td>0.0</td>\n",
       "      <td>0.0</td>\n",
       "      <td>0.0</td>\n",
       "      <td>0.0</td>\n",
       "      <td>0.103899</td>\n",
       "      <td>0.000000</td>\n",
       "      <td>0.195540</td>\n",
       "      <td>...</td>\n",
       "      <td>0.0</td>\n",
       "      <td>0.0</td>\n",
       "      <td>0.0</td>\n",
       "      <td>0.0</td>\n",
       "      <td>0.0</td>\n",
       "      <td>0.0</td>\n",
       "      <td>0.0</td>\n",
       "      <td>0.113566</td>\n",
       "      <td>0.0</td>\n",
       "      <td>NaN</td>\n",
       "    </tr>\n",
       "    <tr>\n",
       "      <th>2</th>\n",
       "      <td>0.0</td>\n",
       "      <td>0.0</td>\n",
       "      <td>0.0</td>\n",
       "      <td>0.0</td>\n",
       "      <td>0.0</td>\n",
       "      <td>0.0</td>\n",
       "      <td>0.0</td>\n",
       "      <td>0.060241</td>\n",
       "      <td>0.000000</td>\n",
       "      <td>0.191960</td>\n",
       "      <td>...</td>\n",
       "      <td>0.0</td>\n",
       "      <td>0.0</td>\n",
       "      <td>0.0</td>\n",
       "      <td>0.0</td>\n",
       "      <td>0.0</td>\n",
       "      <td>0.0</td>\n",
       "      <td>0.0</td>\n",
       "      <td>0.111487</td>\n",
       "      <td>0.0</td>\n",
       "      <td>NaN</td>\n",
       "    </tr>\n",
       "    <tr>\n",
       "      <th>3</th>\n",
       "      <td>0.0</td>\n",
       "      <td>0.0</td>\n",
       "      <td>0.0</td>\n",
       "      <td>0.0</td>\n",
       "      <td>0.0</td>\n",
       "      <td>0.0</td>\n",
       "      <td>0.0</td>\n",
       "      <td>0.000000</td>\n",
       "      <td>0.000000</td>\n",
       "      <td>0.000000</td>\n",
       "      <td>...</td>\n",
       "      <td>0.0</td>\n",
       "      <td>0.0</td>\n",
       "      <td>0.0</td>\n",
       "      <td>0.0</td>\n",
       "      <td>0.0</td>\n",
       "      <td>0.0</td>\n",
       "      <td>0.0</td>\n",
       "      <td>0.000000</td>\n",
       "      <td>0.0</td>\n",
       "      <td>NaN</td>\n",
       "    </tr>\n",
       "    <tr>\n",
       "      <th>4</th>\n",
       "      <td>0.0</td>\n",
       "      <td>0.0</td>\n",
       "      <td>0.0</td>\n",
       "      <td>0.0</td>\n",
       "      <td>0.0</td>\n",
       "      <td>0.0</td>\n",
       "      <td>0.0</td>\n",
       "      <td>0.000000</td>\n",
       "      <td>0.072008</td>\n",
       "      <td>0.143512</td>\n",
       "      <td>...</td>\n",
       "      <td>0.0</td>\n",
       "      <td>0.0</td>\n",
       "      <td>0.0</td>\n",
       "      <td>0.0</td>\n",
       "      <td>0.0</td>\n",
       "      <td>0.0</td>\n",
       "      <td>0.0</td>\n",
       "      <td>0.000000</td>\n",
       "      <td>0.0</td>\n",
       "      <td>NaN</td>\n",
       "    </tr>\n",
       "  </tbody>\n",
       "</table>\n",
       "<p>5 rows × 501 columns</p>\n",
       "</div>"
      ],
      "text/plain": [
       "   aap  accel  accordance  account  accrue  achieve  achievement   acquire  \\\n",
       "0  0.0    0.0         0.0      0.0     0.0      0.0          0.0  0.000000   \n",
       "1  0.0    0.0         0.0      0.0     0.0      0.0          0.0  0.103899   \n",
       "2  0.0    0.0         0.0      0.0     0.0      0.0          0.0  0.060241   \n",
       "3  0.0    0.0         0.0      0.0     0.0      0.0          0.0  0.000000   \n",
       "4  0.0    0.0         0.0      0.0     0.0      0.0          0.0  0.000000   \n",
       "\n",
       "   acquisition       act  ...  withholding   wp   xi  xii  xiii  xiv  year  \\\n",
       "0     0.000000  0.000000  ...          0.0  0.0  0.0  0.0   0.0  0.0   0.0   \n",
       "1     0.000000  0.195540  ...          0.0  0.0  0.0  0.0   0.0  0.0   0.0   \n",
       "2     0.000000  0.191960  ...          0.0  0.0  0.0  0.0   0.0  0.0   0.0   \n",
       "3     0.000000  0.000000  ...          0.0  0.0  0.0  0.0   0.0  0.0   0.0   \n",
       "4     0.072008  0.143512  ...          0.0  0.0  0.0  0.0   0.0  0.0   0.0   \n",
       "\n",
       "       york  yorktown  prediction  \n",
       "0  0.000000       0.0         NaN  \n",
       "1  0.113566       0.0         NaN  \n",
       "2  0.111487       0.0         NaN  \n",
       "3  0.000000       0.0         NaN  \n",
       "4  0.000000       0.0         NaN  \n",
       "\n",
       "[5 rows x 501 columns]"
      ]
     },
     "execution_count": 27,
     "metadata": {},
     "output_type": "execute_result"
    }
   ],
   "source": [
    "tfidf_df_j[\"prediction\"] = df_j_coded[\"prediction\"]\n",
    "tfidf_df_j.head()"
   ]
  },
  {
   "cell_type": "code",
   "execution_count": 28,
   "metadata": {},
   "outputs": [],
   "source": [
    "suspicius_j = tfidf_df_j[tfidf_df_j['prediction'] == 1].drop(columns=[\"prediction\"]).mean()\n",
    "non_suspicious_j = tfidf_df_j[tfidf_df_j['prediction'] == 0].drop(columns=[\"prediction\"]).mean()\n",
    "suspicious_words_j = (suspicius_j - non_suspicious_j).sort_values(ascending=False)"
   ]
  },
  {
   "cell_type": "code",
   "execution_count": 29,
   "metadata": {},
   "outputs": [
    {
     "data": {
      "image/png": "[encoded data removed]",
      "text/plain": [
       "<Figure size 1200x500 with 2 Axes>"
      ]
     },
     "metadata": {},
     "output_type": "display_data"
    }
   ],
   "source": [
    "# Top 10 suspicious words Non-J coded and J coded\n",
    "top_10_data = suspicious_words.head(10)\n",
    "top_10_data_j = suspicious_words_j.head(10)\n",
    "\n",
    "plt.figure(figsize=(12, 5))\n",
    "\n",
    "########################\n",
    "# Plot Non-J coded word importance\n",
    "########################\n",
    "plt.subplot(1, 2, 1)\n",
    "plt.xlabel('Category')\n",
    "plt.ylabel('Value')\n",
    "plt.title('Word Importance plot')\n",
    "plt.bar(top_10_data.index, top_10_data.values)\n",
    "plt.xticks(rotation=45)\n",
    "\n",
    "########################\n",
    "# Plot J coded word importance\n",
    "########################\n",
    "plt.subplot(1, 2, 2)\n",
    "plt.xticks(rotation=45)\n",
    "plt.xlabel('Category')\n",
    "plt.ylabel('Value')\n",
    "plt.title('J coded Word Importance plot')\n",
    "plt.bar(top_10_data_j.index, top_10_data_j.values)\n",
    "\n",
    "# Adjust layout and show\n",
    "plt.tight_layout()\n",
    "plt.show()\n"
   ]
  },
  {
   "cell_type": "markdown",
   "metadata": {},
   "source": [
    "___\n",
    "## Importance of features\n",
    "___"
   ]
  },
  {
   "cell_type": "markdown",
   "metadata": {},
   "source": [
    "### Feature creation:"
   ]
  },
  {
   "cell_type": "code",
   "execution_count": 35,
   "metadata": {},
   "outputs": [],
   "source": [
    "def count_lemmatized(row, string):\n",
    "    processed_text = preprocess_text(row)\n",
    "    processed_string = preprocess_text(string)\n",
    "    occurance = processed_text.count(processed_string)\n",
    "    return occurance"
   ]
  },
  {
   "cell_type": "code",
   "execution_count": null,
   "metadata": {},
   "outputs": [
    {
     "name": "stdout",
     "output_type": "stream",
     "text": [
      "reporting person receive grant restricted stock unit adams resource & energy inc ae restrict stock unit represent contingent right receive one share ae common stock upon vest restricted stock unit vest ie restriction lapse provide report person remain continue active service vesting date subject accelerate vesting circumstance\n"
     ]
    },
    {
     "data": {
      "text/plain": [
       "4"
      ]
     },
     "execution_count": 31,
     "metadata": {},
     "output_type": "execute_result"
    }
   ],
   "source": [
    "count_lemmatized(\"The reporting person received a grant of 375 restricted stock units of Adams Resources & Energy, \\\n",
    "                 Inc. (AE) on June 29, 2018.  Each restricted stock unit represents a contingent right to receive one\\\n",
    "                 share of AE common stock upon vesting. The restricted stock units will vest (i.e., the restrictions will lapse)\\\n",
    "                 on May 8, 2019, provided the reporting person remains in continuing active service on the vesting date (subject to accelerated vesting in some circumstances).\",\n",
    "                 \"restricted\")"
   ]
  },
  {
   "cell_type": "code",
   "execution_count": null,
   "metadata": {},
   "outputs": [
    {
     "name": "stdout",
     "output_type": "stream",
     "text": [
      "Creating processed footnotes\n",
      "Creating feature for force sale\n",
      "Creating feature for gift\n",
      "Creating feature for distribution\n",
      "Creating feature for charity\n",
      "Creating feature for sell\n",
      "Creating feature for trading\n",
      "Creating feature for lieu\n",
      "Creating feature for fee\n",
      "Creating feature for 10b5-1\n",
      "Creating feature for 16b-3\n"
     ]
    },
    {
     "data": {
      "application/vnd.microsoft.datawrangler.viewer.v0+json": {
       "columns": [
        {
         "name": "index",
         "rawType": "int64",
         "type": "integer"
        },
        {
         "name": "force sale",
         "rawType": "int64",
         "type": "integer"
        },
        {
         "name": "gift",
         "rawType": "int64",
         "type": "integer"
        },
        {
         "name": "distribution",
         "rawType": "int64",
         "type": "integer"
        },
        {
         "name": "charity",
         "rawType": "int64",
         "type": "integer"
        },
        {
         "name": "sell",
         "rawType": "int64",
         "type": "integer"
        },
        {
         "name": "trading",
         "rawType": "int64",
         "type": "integer"
        },
        {
         "name": "lieu",
         "rawType": "int64",
         "type": "integer"
        },
        {
         "name": "fee",
         "rawType": "int64",
         "type": "integer"
        },
        {
         "name": "probability",
         "rawType": "float64",
         "type": "float"
        },
        {
         "name": "prediction",
         "rawType": "int64",
         "type": "integer"
        },
        {
         "name": "10b5-1",
         "rawType": "int64",
         "type": "integer"
        },
        {
         "name": "16b-3",
         "rawType": "int64",
         "type": "integer"
        }
       ],
       "conversionMethod": "pd.DataFrame",
       "ref": "03fd05f3-f1b9-4754-8eca-a3028ed46158",
       "rows": [
        [
         "2",
         "0",
         "0",
         "0",
         "0",
         "0",
         "0",
         "0",
         "0",
         "0.4785670472260569",
         "0",
         "0",
         "0"
        ],
        [
         "764",
         "0",
         "1",
         "0",
         "0",
         "0",
         "0",
         "0",
         "0",
         "0.89330240677326",
         "1",
         "0",
         "0"
        ],
        [
         "766",
         "0",
         "0",
         "0",
         "0",
         "0",
         "0",
         "0",
         "0",
         "0.9999994418826196",
         "1",
         "0",
         "0"
        ],
        [
         "768",
         "0",
         "0",
         "5",
         "0",
         "0",
         "0",
         "0",
         "0",
         "0.89330240677326",
         "1",
         "0",
         "0"
        ],
        [
         "769",
         "0",
         "0",
         "0",
         "0",
         "0",
         "0",
         "0",
         "0",
         "0.599162247599088",
         "1",
         "0",
         "0"
        ]
       ],
       "shape": {
        "columns": 12,
        "rows": 5
       }
      },
      "text/html": [
       "<div>\n",
       "<style scoped>\n",
       "    .dataframe tbody tr th:only-of-type {\n",
       "        vertical-align: middle;\n",
       "    }\n",
       "\n",
       "    .dataframe tbody tr th {\n",
       "        vertical-align: top;\n",
       "    }\n",
       "\n",
       "    .dataframe thead th {\n",
       "        text-align: right;\n",
       "    }\n",
       "</style>\n",
       "<table border=\"1\" class=\"dataframe\">\n",
       "  <thead>\n",
       "    <tr style=\"text-align: right;\">\n",
       "      <th></th>\n",
       "      <th>force sale</th>\n",
       "      <th>gift</th>\n",
       "      <th>distribution</th>\n",
       "      <th>charity</th>\n",
       "      <th>sell</th>\n",
       "      <th>trading</th>\n",
       "      <th>lieu</th>\n",
       "      <th>fee</th>\n",
       "      <th>probability</th>\n",
       "      <th>prediction</th>\n",
       "      <th>10b5-1</th>\n",
       "      <th>16b-3</th>\n",
       "    </tr>\n",
       "  </thead>\n",
       "  <tbody>\n",
       "    <tr>\n",
       "      <th>2</th>\n",
       "      <td>0</td>\n",
       "      <td>0</td>\n",
       "      <td>0</td>\n",
       "      <td>0</td>\n",
       "      <td>0</td>\n",
       "      <td>0</td>\n",
       "      <td>0</td>\n",
       "      <td>0</td>\n",
       "      <td>0.478567</td>\n",
       "      <td>0</td>\n",
       "      <td>0</td>\n",
       "      <td>0</td>\n",
       "    </tr>\n",
       "    <tr>\n",
       "      <th>764</th>\n",
       "      <td>0</td>\n",
       "      <td>1</td>\n",
       "      <td>0</td>\n",
       "      <td>0</td>\n",
       "      <td>0</td>\n",
       "      <td>0</td>\n",
       "      <td>0</td>\n",
       "      <td>0</td>\n",
       "      <td>0.893302</td>\n",
       "      <td>1</td>\n",
       "      <td>0</td>\n",
       "      <td>0</td>\n",
       "    </tr>\n",
       "    <tr>\n",
       "      <th>766</th>\n",
       "      <td>0</td>\n",
       "      <td>0</td>\n",
       "      <td>0</td>\n",
       "      <td>0</td>\n",
       "      <td>0</td>\n",
       "      <td>0</td>\n",
       "      <td>0</td>\n",
       "      <td>0</td>\n",
       "      <td>0.999999</td>\n",
       "      <td>1</td>\n",
       "      <td>0</td>\n",
       "      <td>0</td>\n",
       "    </tr>\n",
       "    <tr>\n",
       "      <th>768</th>\n",
       "      <td>0</td>\n",
       "      <td>0</td>\n",
       "      <td>5</td>\n",
       "      <td>0</td>\n",
       "      <td>0</td>\n",
       "      <td>0</td>\n",
       "      <td>0</td>\n",
       "      <td>0</td>\n",
       "      <td>0.893302</td>\n",
       "      <td>1</td>\n",
       "      <td>0</td>\n",
       "      <td>0</td>\n",
       "    </tr>\n",
       "    <tr>\n",
       "      <th>769</th>\n",
       "      <td>0</td>\n",
       "      <td>0</td>\n",
       "      <td>0</td>\n",
       "      <td>0</td>\n",
       "      <td>0</td>\n",
       "      <td>0</td>\n",
       "      <td>0</td>\n",
       "      <td>0</td>\n",
       "      <td>0.599162</td>\n",
       "      <td>1</td>\n",
       "      <td>0</td>\n",
       "      <td>0</td>\n",
       "    </tr>\n",
       "  </tbody>\n",
       "</table>\n",
       "</div>"
      ],
      "text/plain": [
       "     force sale  gift  distribution  charity  sell  trading  lieu  fee  \\\n",
       "2             0     0             0        0     0        0     0    0   \n",
       "764           0     1             0        0     0        0     0    0   \n",
       "766           0     0             0        0     0        0     0    0   \n",
       "768           0     0             5        0     0        0     0    0   \n",
       "769           0     0             0        0     0        0     0    0   \n",
       "\n",
       "     probability  prediction  10b5-1  16b-3  \n",
       "2       0.478567           0       0      0  \n",
       "764     0.893302           1       0      0  \n",
       "766     0.999999           1       0      0  \n",
       "768     0.893302           1       0      0  \n",
       "769     0.599162           1       0      0  "
      ]
     },
     "execution_count": 61,
     "metadata": {},
     "output_type": "execute_result"
    }
   ],
   "source": [
    "## Items to check\n",
    "text_list = [\"force sale\", \"gift\", \"distribution\", \"charity\"] # From research paper\n",
    "text_from_keywords = [\"sell\", \"trading\", \"lieu\", \"fee\"] # From TF-IDF \n",
    "text_code = [\"10b5-1\", \"16b-3\"] # Trading codes from research paper\n",
    "\n",
    "text_list.extend(text_from_keywords)\n",
    "df_features = df_footnote_labels.copy()\n",
    "\n",
    "print(\"Creating processed footnotes\")\n",
    "df_features[\"processed\"] = df_features[\"FOOTNOTE_TXT\"].apply(lambda row: preprocess_text(row))\n",
    "\n",
    "for text in text_list:\n",
    "    print(f\"Creating feature for {text}\")\n",
    "    df_features[text] = df_features[\"processed\"].str.count(preprocess_text(text))\n",
    "\n",
    "for code in text_code:\n",
    "    print(f\"Creating feature for {code}\")\n",
    "    df_features[code] = df_features[\"FOOTNOTE_TXT\"].str.count(code)\n",
    "    \n",
    "\n",
    "text_list = text_list + [\"probability\", \"prediction\"]\n",
    "df_features = df_features[text_list + text_code]\n",
    "df_features.head()"
   ]
  },
  {
   "cell_type": "code",
   "execution_count": 62,
   "metadata": {},
   "outputs": [],
   "source": [
    "df_features.to_csv(\"word_count.csv\")"
   ]
  },
  {
   "cell_type": "code",
   "execution_count": 63,
   "metadata": {},
   "outputs": [
    {
     "name": "stdout",
     "output_type": "stream",
     "text": [
      "['force sale', 'gift', 'distribution', 'charity', 'sell', 'trading', 'lieu', 'fee', 'probability', 'prediction']\n"
     ]
    }
   ],
   "source": [
    "print(text_list)"
   ]
  },
  {
   "cell_type": "code",
   "execution_count": 64,
   "metadata": {},
   "outputs": [
    {
     "name": "stdout",
     "output_type": "stream",
     "text": [
      "force sale: 4\n",
      "gift: 3809\n",
      "distribution: 5801\n",
      "charity: 127\n",
      "sell: 184495\n",
      "trading: 44114\n",
      "lieu: 761\n",
      "fee: 2485\n",
      "10b5-1: 56184\n",
      "16b-3: 3032\n"
     ]
    }
   ],
   "source": [
    "for col in df_features.columns:\n",
    "    if col == \"probability\" or col == \"prediction\":\n",
    "        continue\n",
    "    print(f'{col}: {sum(df_features[col])}')"
   ]
  },
  {
   "cell_type": "code",
   "execution_count": 65,
   "metadata": {},
   "outputs": [],
   "source": [
    "##################################\n",
    "# Define functions\n",
    "##################################\n",
    "\n",
    "def compare_complement(df, col, metrics):\n",
    "    split_1 = df[df[col] >= 1]\n",
    "    split_2 = df[df[col] < 1]\n",
    "    \n",
    "    for metric in metrics:\n",
    "        A = split_1[metric].dropna()\n",
    "        \n",
    "        # print(A)\n",
    "        B = split_2[metric].dropna()\n",
    "        t_stat, p_val = stats.ttest_ind(A, B, equal_var=False)\n",
    "        sign = \"negative\" if t_stat < 0 else \"positive\"\n",
    "        print(f\"{metric}: is more {sign} when {col} is separated\\n\" \n",
    "              f\"t-statistic = {t_stat}, p-value = {p_val}\\n\"\n",
    "              f\"mean {col} = {np.mean(A)}, mean {col} complement = {np.mean(B)}\\n\")\n",
    "        \n",
    "    print(f\"{col}: n = {len(A)}, {col} complement: n = {len(B)}\\n\")\n",
    "\n",
    "def compare_columns(df, col1, col2, metrics):\n",
    "    split_1 = df[df[col1] == 1]\n",
    "    split_2 = df[df[col2] == 1]\n",
    "    \n",
    "    for metric in metrics:\n",
    "        A = split_1[metric].dropna()\n",
    "        \n",
    "        # print(A)\n",
    "        B = split_2[metric].dropna()\n",
    "        t_stat, p_val = stats.ttest_ind(A, B, equal_var=False)\n",
    "        sign = \"negative\" if t_stat < 0 else \"positive\"\n",
    "        print(f\"{metric}: is more {sign} when {col1} compared to {col2}\\n\" \n",
    "              f\"t-statistic = {t_stat}, p-value = {p_val}\\n\"\n",
    "              f\"mean {col1} = {np.mean(A)}, mean {col2} = {np.mean(B)}\\n\")\n",
    "    print(f\"{col1}: n = {len(A)}, {col2} : n = {len(B)}\")"
   ]
  },
  {
   "cell_type": "code",
   "execution_count": 66,
   "metadata": {},
   "outputs": [],
   "source": [
    "metrics = [\"probability\", \"prediction\"]"
   ]
  },
  {
   "cell_type": "code",
   "execution_count": 67,
   "metadata": {},
   "outputs": [
    {
     "data": {
      "text/plain": [
       "Index(['force sale', 'gift', 'distribution', 'charity', 'sell', 'trading',\n",
       "       'lieu', 'fee', 'probability', 'prediction', '10b5-1', '16b-3'],\n",
       "      dtype='object')"
      ]
     },
     "execution_count": 67,
     "metadata": {},
     "output_type": "execute_result"
    }
   ],
   "source": [
    "df_features.columns"
   ]
  },
  {
   "cell_type": "code",
   "execution_count": 68,
   "metadata": {},
   "outputs": [
    {
     "name": "stdout",
     "output_type": "stream",
     "text": [
      "probability: is more negative when force sale is separated\n",
      "t-statistic = -0.5458812148347648, p-value = 0.6231202604924639\n",
      "mean force sale = 0.5834655259352337, mean force sale complement = 0.6813507182754799\n",
      "\n",
      "prediction: is more negative when force sale is separated\n",
      "t-statistic = -0.594439818898156, p-value = 0.5940644775638365\n",
      "mean force sale = 0.5, mean force sale complement = 0.6716017503440385\n",
      "\n",
      "force sale: n = 4, force sale complement: n = 129346\n",
      "\n"
     ]
    }
   ],
   "source": [
    "compare_complement(df_features,\"force sale\", metrics)"
   ]
  },
  {
   "cell_type": "code",
   "execution_count": 69,
   "metadata": {},
   "outputs": [
    {
     "name": "stdout",
     "output_type": "stream",
     "text": [
      "probability: is more positive when gift is separated\n",
      "t-statistic = 2.6673567246051935, p-value = 0.0076831195581783295\n",
      "mean gift = 0.695563021405891, mean gift complement = 0.6810006024786335\n",
      "\n",
      "prediction: is more negative when gift is separated\n",
      "t-statistic = -1.3674184482631575, p-value = 0.17158927945153196\n",
      "mean gift = 0.6600713590658449, mean gift complement = 0.6718778461514093\n",
      "\n",
      "gift: n = 3083, gift complement: n = 126267\n",
      "\n"
     ]
    }
   ],
   "source": [
    "compare_complement(df_features,\"gift\", metrics)"
   ]
  },
  {
   "cell_type": "code",
   "execution_count": 70,
   "metadata": {},
   "outputs": [
    {
     "name": "stdout",
     "output_type": "stream",
     "text": [
      "probability: is more positive when distribution is separated\n",
      "t-statistic = 11.705697804320407, p-value = 5.885447734708528e-31\n",
      "mean distribution = 0.7414040294010723, mean distribution complement = 0.6800470271984884\n",
      "\n",
      "prediction: is more positive when distribution is separated\n",
      "t-statistic = 12.271248835131708, p-value = 8.82113912227065e-34\n",
      "mean distribution = 0.7695113056163384, mean distribution complement = 0.669475862504739\n",
      "\n",
      "distribution: n = 2742, distribution complement: n = 126608\n",
      "\n"
     ]
    }
   ],
   "source": [
    "compare_complement(df_features,\"distribution\", metrics)"
   ]
  },
  {
   "cell_type": "code",
   "execution_count": 71,
   "metadata": {},
   "outputs": [
    {
     "name": "stdout",
     "output_type": "stream",
     "text": [
      "probability: is more negative when charity is separated\n",
      "t-statistic = -2.883215216494379, p-value = 0.004665227492142591\n",
      "mean charity = 0.5932127472332956, mean charity complement = 0.6814302140057477\n",
      "\n",
      "prediction: is more negative when charity is separated\n",
      "t-statistic = -3.8521815742728815, p-value = 0.00018926165163655686\n",
      "mean charity = 0.49586776859504134, mean charity complement = 0.6717609824420215\n",
      "\n",
      "charity: n = 121, charity complement: n = 129229\n",
      "\n"
     ]
    }
   ],
   "source": [
    "compare_complement(df_features,\"charity\", metrics)"
   ]
  },
  {
   "cell_type": "code",
   "execution_count": 72,
   "metadata": {},
   "outputs": [
    {
     "name": "stdout",
     "output_type": "stream",
     "text": [
      "probability: is more negative when sell is separated\n",
      "t-statistic = -14.021268167565596, p-value = 1.2584666212289288e-44\n",
      "mean sell = 0.6675083387410162, mean sell complement = 0.6915400242291829\n",
      "\n",
      "prediction: is more negative when sell is separated\n",
      "t-statistic = -12.975943886713491, p-value = 1.781512063123664e-38\n",
      "mean sell = 0.6517863652934743, mean sell complement = 0.6861860652436569\n",
      "\n",
      "sell: n = 54860, sell complement: n = 74490\n",
      "\n"
     ]
    }
   ],
   "source": [
    "compare_complement(df_features,\"sell\", metrics)"
   ]
  },
  {
   "cell_type": "code",
   "execution_count": 73,
   "metadata": {},
   "outputs": [
    {
     "name": "stdout",
     "output_type": "stream",
     "text": [
      "probability: is more negative when trading is separated\n",
      "t-statistic = -27.237070607468617, p-value = 1.648572507789797e-162\n",
      "mean trading = 0.6458893648824717, mean trading complement = 0.6966264887194621\n",
      "\n",
      "prediction: is more negative when trading is separated\n",
      "t-statistic = -22.962210847669684, p-value = 2.966193162828205e-116\n",
      "mean trading = 0.6251540357362908, mean trading complement = 0.6916082214208279\n",
      "\n",
      "trading: n = 38952, trading complement: n = 90398\n",
      "\n"
     ]
    }
   ],
   "source": [
    "compare_complement(df_features,\"trading\", metrics)"
   ]
  },
  {
   "cell_type": "code",
   "execution_count": 74,
   "metadata": {},
   "outputs": [
    {
     "name": "stdout",
     "output_type": "stream",
     "text": [
      "probability: is more positive when lieu is separated\n",
      "t-statistic = 0.26303358737788185, p-value = 0.7926063990428849\n",
      "mean lieu = 0.68416605066987, mean lieu complement = 0.6813333250883843\n",
      "\n",
      "prediction: is more positive when lieu is separated\n",
      "t-statistic = 0.7096806639307324, p-value = 0.47815213546369795\n",
      "mean lieu = 0.6844512195121951, mean lieu complement = 0.6715309183023296\n",
      "\n",
      "lieu: n = 656, lieu complement: n = 128694\n",
      "\n"
     ]
    }
   ],
   "source": [
    "compare_complement(df_features,\"lieu\", metrics)"
   ]
  },
  {
   "cell_type": "code",
   "execution_count": 75,
   "metadata": {},
   "outputs": [
    {
     "name": "stdout",
     "output_type": "stream",
     "text": [
      "probability: is more positive when fee is separated\n",
      "t-statistic = 1.930598167439492, p-value = 0.053719784731896716\n",
      "mean fee = 0.6954671728766384, mean fee complement = 0.6811851623398049\n",
      "\n",
      "prediction: is more positive when fee is separated\n",
      "t-statistic = 3.3161158422808574, p-value = 0.0009344814285477117\n",
      "mean fee = 0.7105978260869565, mean fee complement = 0.6711474999609003\n",
      "\n",
      "fee: n = 1472, fee complement: n = 127878\n",
      "\n"
     ]
    }
   ],
   "source": [
    "compare_complement(df_features,\"fee\", metrics)"
   ]
  },
  {
   "cell_type": "code",
   "execution_count": 76,
   "metadata": {},
   "outputs": [
    {
     "name": "stdout",
     "output_type": "stream",
     "text": [
      "probability: is more negative when 10b5-1 is separated\n",
      "t-statistic = -20.539711743399785, p-value = 1.472816044845225e-93\n",
      "mean 10b5-1 = 0.6594931968865535, mean 10b5-1 complement = 0.6953554612522233\n",
      "\n",
      "prediction: is more negative when 10b5-1 is separated\n",
      "t-statistic = -19.000754748464903, p-value = 2.2973769247691525e-80\n",
      "mean 10b5-1 = 0.6403887261499486, mean 10b5-1 complement = 0.6915992185319565\n",
      "\n",
      "10b5-1: n = 50524, 10b5-1 complement: n = 78826\n",
      "\n"
     ]
    }
   ],
   "source": [
    "compare_complement(df_features, \"10b5-1\", metrics)"
   ]
  },
  {
   "cell_type": "code",
   "execution_count": 77,
   "metadata": {},
   "outputs": [
    {
     "name": "stdout",
     "output_type": "stream",
     "text": [
      "probability: is more negative when 16b-3 is separated\n",
      "t-statistic = -5.270828364642856, p-value = 1.476618510909567e-07\n",
      "mean 16b-3 = 0.6475210733463718, mean 16b-3 complement = 0.6819793147155021\n",
      "\n",
      "prediction: is more negative when 16b-3 is separated\n",
      "t-statistic = -6.263511721966483, p-value = 4.4307905289900696e-10\n",
      "mean 16b-3 = 0.6094474905103332, mean 16b-3 complement = 0.6727569125603446\n",
      "\n",
      "16b-3: n = 2371, 16b-3 complement: n = 126979\n",
      "\n"
     ]
    }
   ],
   "source": [
    "compare_complement(df_features, \"16b-3\", metrics)"
   ]
  },
  {
   "cell_type": "markdown",
   "metadata": {},
   "source": [
    "## Train test split on binary labels"
   ]
  },
  {
   "cell_type": "code",
   "execution_count": null,
   "metadata": {},
   "outputs": [],
   "source": []
  },
  {
   "cell_type": "code",
   "execution_count": null,
   "metadata": {},
   "outputs": [],
   "source": [
    "labels = [\"prediction\", \"probability\"]"
   ]
  },
  {
   "cell_type": "code",
   "execution_count": 82,
   "metadata": {},
   "outputs": [
    {
     "data": {
      "application/vnd.microsoft.datawrangler.viewer.v0+json": {
       "columns": [
        {
         "name": "index",
         "rawType": "int64",
         "type": "integer"
        },
        {
         "name": "force sale",
         "rawType": "int64",
         "type": "integer"
        },
        {
         "name": "gift",
         "rawType": "int64",
         "type": "integer"
        },
        {
         "name": "distribution",
         "rawType": "int64",
         "type": "integer"
        },
        {
         "name": "charity",
         "rawType": "int64",
         "type": "integer"
        },
        {
         "name": "sell",
         "rawType": "int64",
         "type": "integer"
        },
        {
         "name": "trading",
         "rawType": "int64",
         "type": "integer"
        },
        {
         "name": "lieu",
         "rawType": "int64",
         "type": "integer"
        },
        {
         "name": "fee",
         "rawType": "int64",
         "type": "integer"
        },
        {
         "name": "probability",
         "rawType": "float64",
         "type": "float"
        },
        {
         "name": "prediction",
         "rawType": "int64",
         "type": "integer"
        },
        {
         "name": "10b5-1",
         "rawType": "int64",
         "type": "integer"
        },
        {
         "name": "16b-3",
         "rawType": "int64",
         "type": "integer"
        }
       ],
       "conversionMethod": "pd.DataFrame",
       "ref": "cd60012b-586a-4882-a604-bc1c0186270a",
       "rows": [
        [
         "2",
         "0",
         "0",
         "0",
         "0",
         "0",
         "0",
         "0",
         "0",
         "0.4785670472260569",
         "0",
         "0",
         "0"
        ],
        [
         "764",
         "0",
         "1",
         "0",
         "0",
         "0",
         "0",
         "0",
         "0",
         "0.89330240677326",
         "1",
         "0",
         "0"
        ],
        [
         "766",
         "0",
         "0",
         "0",
         "0",
         "0",
         "0",
         "0",
         "0",
         "0.9999994418826196",
         "1",
         "0",
         "0"
        ],
        [
         "768",
         "0",
         "0",
         "5",
         "0",
         "0",
         "0",
         "0",
         "0",
         "0.89330240677326",
         "1",
         "0",
         "0"
        ],
        [
         "769",
         "0",
         "0",
         "0",
         "0",
         "0",
         "0",
         "0",
         "0",
         "0.599162247599088",
         "1",
         "0",
         "0"
        ],
        [
         "770",
         "0",
         "0",
         "0",
         "0",
         "0",
         "0",
         "0",
         "0",
         "0.6358097847395662",
         "1",
         "0",
         "0"
        ],
        [
         "772",
         "0",
         "0",
         "0",
         "0",
         "0",
         "0",
         "0",
         "0",
         "0.8884602267077996",
         "1",
         "0",
         "0"
        ],
        [
         "773",
         "0",
         "0",
         "0",
         "0",
         "0",
         "0",
         "0",
         "0",
         "0.89330240677326",
         "1",
         "0",
         "0"
        ],
        [
         "776",
         "0",
         "0",
         "0",
         "0",
         "0",
         "0",
         "0",
         "0",
         "0.89330240677326",
         "1",
         "0",
         "0"
        ],
        [
         "798",
         "0",
         "0",
         "0",
         "0",
         "4",
         "0",
         "0",
         "0",
         "0.8072284845604474",
         "1",
         "0",
         "0"
        ],
        [
         "799",
         "0",
         "0",
         "0",
         "0",
         "2",
         "0",
         "0",
         "0",
         "0.8072284845604474",
         "1",
         "0",
         "0"
        ],
        [
         "800",
         "0",
         "0",
         "0",
         "0",
         "4",
         "0",
         "0",
         "0",
         "0.8072284845604474",
         "1",
         "0",
         "0"
        ],
        [
         "802",
         "0",
         "0",
         "0",
         "0",
         "2",
         "0",
         "0",
         "0",
         "0.8072284845604474",
         "1",
         "0",
         "0"
        ],
        [
         "803",
         "0",
         "0",
         "0",
         "0",
         "4",
         "0",
         "0",
         "0",
         "0.8072284845604474",
         "1",
         "0",
         "0"
        ],
        [
         "805",
         "0",
         "0",
         "0",
         "0",
         "2",
         "0",
         "0",
         "0",
         "0.8072284845604474",
         "1",
         "0",
         "0"
        ],
        [
         "806",
         "0",
         "0",
         "0",
         "0",
         "4",
         "0",
         "0",
         "0",
         "0.8072284845604474",
         "1",
         "0",
         "0"
        ],
        [
         "808",
         "0",
         "0",
         "0",
         "0",
         "2",
         "0",
         "0",
         "0",
         "0.8072284845604474",
         "1",
         "0",
         "0"
        ],
        [
         "809",
         "0",
         "0",
         "0",
         "0",
         "0",
         "0",
         "1",
         "0",
         "0.89330240677326",
         "1",
         "0",
         "0"
        ],
        [
         "827",
         "0",
         "0",
         "0",
         "0",
         "0",
         "0",
         "0",
         "0",
         "0.8072284845604474",
         "1",
         "0",
         "0"
        ],
        [
         "828",
         "0",
         "0",
         "0",
         "0",
         "0",
         "0",
         "0",
         "0",
         "0.2089682060760345",
         "0",
         "0",
         "0"
        ],
        [
         "842",
         "0",
         "0",
         "0",
         "0",
         "18",
         "1",
         "0",
         "0",
         "0.7545304495708695",
         "1",
         "1",
         "0"
        ],
        [
         "851",
         "0",
         "0",
         "0",
         "0",
         "0",
         "0",
         "0",
         "0",
         "1.0",
         "1",
         "0",
         "0"
        ],
        [
         "852",
         "0",
         "0",
         "0",
         "0",
         "0",
         "0",
         "0",
         "0",
         "1.0",
         "1",
         "0",
         "0"
        ],
        [
         "853",
         "0",
         "0",
         "0",
         "0",
         "0",
         "0",
         "0",
         "0",
         "1.0",
         "1",
         "0",
         "0"
        ],
        [
         "863",
         "0",
         "0",
         "0",
         "0",
         "0",
         "0",
         "0",
         "0",
         "0.2396491189701301",
         "0",
         "0",
         "0"
        ],
        [
         "864",
         "0",
         "0",
         "0",
         "0",
         "0",
         "0",
         "0",
         "0",
         "0.1167079243533453",
         "0",
         "0",
         "0"
        ],
        [
         "865",
         "0",
         "0",
         "0",
         "0",
         "0",
         "0",
         "0",
         "0",
         "0.1167079243533453",
         "0",
         "0",
         "0"
        ],
        [
         "867",
         "0",
         "0",
         "0",
         "0",
         "0",
         "0",
         "0",
         "0",
         "0.2089682060760345",
         "0",
         "0",
         "0"
        ],
        [
         "870",
         "0",
         "0",
         "0",
         "0",
         "0",
         "0",
         "0",
         "0",
         "0.2089682060760345",
         "0",
         "0",
         "0"
        ],
        [
         "871",
         "0",
         "0",
         "0",
         "0",
         "0",
         "0",
         "0",
         "0",
         "0.2089682060760345",
         "0",
         "0",
         "0"
        ],
        [
         "872",
         "0",
         "0",
         "0",
         "0",
         "0",
         "0",
         "0",
         "0",
         "0.8148622663744114",
         "1",
         "0",
         "0"
        ],
        [
         "874",
         "0",
         "0",
         "0",
         "0",
         "0",
         "0",
         "0",
         "0",
         "0.999999707139077",
         "1",
         "0",
         "0"
        ],
        [
         "876",
         "0",
         "0",
         "1",
         "0",
         "0",
         "0",
         "0",
         "0",
         "0.7536213039435014",
         "1",
         "0",
         "0"
        ],
        [
         "878",
         "0",
         "0",
         "0",
         "0",
         "0",
         "0",
         "0",
         "0",
         "0.89330240677326",
         "1",
         "0",
         "0"
        ],
        [
         "880",
         "0",
         "0",
         "0",
         "0",
         "0",
         "0",
         "0",
         "0",
         "0.89330240677326",
         "1",
         "0",
         "0"
        ],
        [
         "883",
         "0",
         "0",
         "0",
         "0",
         "0",
         "0",
         "0",
         "0",
         "0.89330240677326",
         "1",
         "0",
         "0"
        ],
        [
         "884",
         "0",
         "0",
         "0",
         "0",
         "0",
         "0",
         "0",
         "0",
         "0.89330240677326",
         "1",
         "0",
         "0"
        ],
        [
         "890",
         "0",
         "0",
         "0",
         "0",
         "1",
         "0",
         "0",
         "0",
         "0.8302427393053229",
         "1",
         "0",
         "0"
        ],
        [
         "891",
         "0",
         "0",
         "0",
         "0",
         "0",
         "1",
         "0",
         "0",
         "0.89330240677326",
         "1",
         "0",
         "0"
        ],
        [
         "892",
         "0",
         "0",
         "0",
         "0",
         "0",
         "1",
         "0",
         "0",
         "0.89330240677326",
         "1",
         "0",
         "0"
        ],
        [
         "894",
         "0",
         "0",
         "0",
         "0",
         "0",
         "0",
         "0",
         "0",
         "0.2089682060760345",
         "0",
         "0",
         "0"
        ],
        [
         "950",
         "0",
         "0",
         "0",
         "0",
         "0",
         "0",
         "0",
         "0",
         "0.1537531168528711",
         "0",
         "0",
         "0"
        ],
        [
         "1002",
         "0",
         "0",
         "0",
         "0",
         "5",
         "1",
         "0",
         "0",
         "0.8390478463394041",
         "1",
         "1",
         "0"
        ],
        [
         "1004",
         "0",
         "0",
         "0",
         "0",
         "5",
         "1",
         "0",
         "0",
         "0.8390478463394041",
         "1",
         "1",
         "0"
        ],
        [
         "1006",
         "0",
         "0",
         "0",
         "0",
         "3",
         "1",
         "0",
         "0",
         "0.89330240677326",
         "1",
         "1",
         "0"
        ],
        [
         "1013",
         "0",
         "0",
         "0",
         "0",
         "3",
         "0",
         "0",
         "0",
         "0.2089682060760345",
         "0",
         "0",
         "0"
        ],
        [
         "1014",
         "0",
         "0",
         "0",
         "0",
         "3",
         "0",
         "0",
         "0",
         "0.2089682060760345",
         "0",
         "0",
         "0"
        ],
        [
         "1017",
         "0",
         "1",
         "0",
         "0",
         "12",
         "1",
         "0",
         "0",
         "0.8520309404149983",
         "1",
         "1",
         "0"
        ],
        [
         "1035",
         "0",
         "1",
         "0",
         "0",
         "12",
         "1",
         "0",
         "0",
         "0.1537531168528711",
         "0",
         "1",
         "0"
        ],
        [
         "1053",
         "0",
         "1",
         "0",
         "0",
         "10",
         "1",
         "0",
         "0",
         "0.1537531168528711",
         "0",
         "1",
         "0"
        ]
       ],
       "shape": {
        "columns": 12,
        "rows": 129350
       }
      },
      "text/html": [
       "<div>\n",
       "<style scoped>\n",
       "    .dataframe tbody tr th:only-of-type {\n",
       "        vertical-align: middle;\n",
       "    }\n",
       "\n",
       "    .dataframe tbody tr th {\n",
       "        vertical-align: top;\n",
       "    }\n",
       "\n",
       "    .dataframe thead th {\n",
       "        text-align: right;\n",
       "    }\n",
       "</style>\n",
       "<table border=\"1\" class=\"dataframe\">\n",
       "  <thead>\n",
       "    <tr style=\"text-align: right;\">\n",
       "      <th></th>\n",
       "      <th>force sale</th>\n",
       "      <th>gift</th>\n",
       "      <th>distribution</th>\n",
       "      <th>charity</th>\n",
       "      <th>sell</th>\n",
       "      <th>trading</th>\n",
       "      <th>lieu</th>\n",
       "      <th>fee</th>\n",
       "      <th>probability</th>\n",
       "      <th>prediction</th>\n",
       "      <th>10b5-1</th>\n",
       "      <th>16b-3</th>\n",
       "    </tr>\n",
       "  </thead>\n",
       "  <tbody>\n",
       "    <tr>\n",
       "      <th>2</th>\n",
       "      <td>0</td>\n",
       "      <td>0</td>\n",
       "      <td>0</td>\n",
       "      <td>0</td>\n",
       "      <td>0</td>\n",
       "      <td>0</td>\n",
       "      <td>0</td>\n",
       "      <td>0</td>\n",
       "      <td>0.478567</td>\n",
       "      <td>0</td>\n",
       "      <td>0</td>\n",
       "      <td>0</td>\n",
       "    </tr>\n",
       "    <tr>\n",
       "      <th>764</th>\n",
       "      <td>0</td>\n",
       "      <td>1</td>\n",
       "      <td>0</td>\n",
       "      <td>0</td>\n",
       "      <td>0</td>\n",
       "      <td>0</td>\n",
       "      <td>0</td>\n",
       "      <td>0</td>\n",
       "      <td>0.893302</td>\n",
       "      <td>1</td>\n",
       "      <td>0</td>\n",
       "      <td>0</td>\n",
       "    </tr>\n",
       "    <tr>\n",
       "      <th>766</th>\n",
       "      <td>0</td>\n",
       "      <td>0</td>\n",
       "      <td>0</td>\n",
       "      <td>0</td>\n",
       "      <td>0</td>\n",
       "      <td>0</td>\n",
       "      <td>0</td>\n",
       "      <td>0</td>\n",
       "      <td>0.999999</td>\n",
       "      <td>1</td>\n",
       "      <td>0</td>\n",
       "      <td>0</td>\n",
       "    </tr>\n",
       "    <tr>\n",
       "      <th>768</th>\n",
       "      <td>0</td>\n",
       "      <td>0</td>\n",
       "      <td>5</td>\n",
       "      <td>0</td>\n",
       "      <td>0</td>\n",
       "      <td>0</td>\n",
       "      <td>0</td>\n",
       "      <td>0</td>\n",
       "      <td>0.893302</td>\n",
       "      <td>1</td>\n",
       "      <td>0</td>\n",
       "      <td>0</td>\n",
       "    </tr>\n",
       "    <tr>\n",
       "      <th>769</th>\n",
       "      <td>0</td>\n",
       "      <td>0</td>\n",
       "      <td>0</td>\n",
       "      <td>0</td>\n",
       "      <td>0</td>\n",
       "      <td>0</td>\n",
       "      <td>0</td>\n",
       "      <td>0</td>\n",
       "      <td>0.599162</td>\n",
       "      <td>1</td>\n",
       "      <td>0</td>\n",
       "      <td>0</td>\n",
       "    </tr>\n",
       "    <tr>\n",
       "      <th>...</th>\n",
       "      <td>...</td>\n",
       "      <td>...</td>\n",
       "      <td>...</td>\n",
       "      <td>...</td>\n",
       "      <td>...</td>\n",
       "      <td>...</td>\n",
       "      <td>...</td>\n",
       "      <td>...</td>\n",
       "      <td>...</td>\n",
       "      <td>...</td>\n",
       "      <td>...</td>\n",
       "      <td>...</td>\n",
       "    </tr>\n",
       "    <tr>\n",
       "      <th>778531</th>\n",
       "      <td>0</td>\n",
       "      <td>0</td>\n",
       "      <td>0</td>\n",
       "      <td>0</td>\n",
       "      <td>0</td>\n",
       "      <td>0</td>\n",
       "      <td>0</td>\n",
       "      <td>0</td>\n",
       "      <td>0.478567</td>\n",
       "      <td>0</td>\n",
       "      <td>0</td>\n",
       "      <td>0</td>\n",
       "    </tr>\n",
       "    <tr>\n",
       "      <th>778534</th>\n",
       "      <td>0</td>\n",
       "      <td>0</td>\n",
       "      <td>0</td>\n",
       "      <td>0</td>\n",
       "      <td>0</td>\n",
       "      <td>0</td>\n",
       "      <td>0</td>\n",
       "      <td>0</td>\n",
       "      <td>0.478567</td>\n",
       "      <td>0</td>\n",
       "      <td>0</td>\n",
       "      <td>0</td>\n",
       "    </tr>\n",
       "    <tr>\n",
       "      <th>778535</th>\n",
       "      <td>0</td>\n",
       "      <td>0</td>\n",
       "      <td>0</td>\n",
       "      <td>0</td>\n",
       "      <td>0</td>\n",
       "      <td>0</td>\n",
       "      <td>0</td>\n",
       "      <td>0</td>\n",
       "      <td>0.478567</td>\n",
       "      <td>0</td>\n",
       "      <td>0</td>\n",
       "      <td>0</td>\n",
       "    </tr>\n",
       "    <tr>\n",
       "      <th>778536</th>\n",
       "      <td>0</td>\n",
       "      <td>0</td>\n",
       "      <td>0</td>\n",
       "      <td>0</td>\n",
       "      <td>0</td>\n",
       "      <td>0</td>\n",
       "      <td>0</td>\n",
       "      <td>0</td>\n",
       "      <td>0.478567</td>\n",
       "      <td>0</td>\n",
       "      <td>0</td>\n",
       "      <td>0</td>\n",
       "    </tr>\n",
       "    <tr>\n",
       "      <th>778537</th>\n",
       "      <td>0</td>\n",
       "      <td>0</td>\n",
       "      <td>0</td>\n",
       "      <td>0</td>\n",
       "      <td>0</td>\n",
       "      <td>0</td>\n",
       "      <td>0</td>\n",
       "      <td>0</td>\n",
       "      <td>1.000000</td>\n",
       "      <td>1</td>\n",
       "      <td>0</td>\n",
       "      <td>0</td>\n",
       "    </tr>\n",
       "  </tbody>\n",
       "</table>\n",
       "<p>129350 rows × 12 columns</p>\n",
       "</div>"
      ],
      "text/plain": [
       "        force sale  gift  distribution  charity  sell  trading  lieu  fee  \\\n",
       "2                0     0             0        0     0        0     0    0   \n",
       "764              0     1             0        0     0        0     0    0   \n",
       "766              0     0             0        0     0        0     0    0   \n",
       "768              0     0             5        0     0        0     0    0   \n",
       "769              0     0             0        0     0        0     0    0   \n",
       "...            ...   ...           ...      ...   ...      ...   ...  ...   \n",
       "778531           0     0             0        0     0        0     0    0   \n",
       "778534           0     0             0        0     0        0     0    0   \n",
       "778535           0     0             0        0     0        0     0    0   \n",
       "778536           0     0             0        0     0        0     0    0   \n",
       "778537           0     0             0        0     0        0     0    0   \n",
       "\n",
       "        probability  prediction  10b5-1  16b-3  \n",
       "2          0.478567           0       0      0  \n",
       "764        0.893302           1       0      0  \n",
       "766        0.999999           1       0      0  \n",
       "768        0.893302           1       0      0  \n",
       "769        0.599162           1       0      0  \n",
       "...             ...         ...     ...    ...  \n",
       "778531     0.478567           0       0      0  \n",
       "778534     0.478567           0       0      0  \n",
       "778535     0.478567           0       0      0  \n",
       "778536     0.478567           0       0      0  \n",
       "778537     1.000000           1       0      0  \n",
       "\n",
       "[129350 rows x 12 columns]"
      ]
     },
     "execution_count": 82,
     "metadata": {},
     "output_type": "execute_result"
    }
   ],
   "source": [
    "df_features"
   ]
  },
  {
   "cell_type": "code",
   "execution_count": 85,
   "metadata": {},
   "outputs": [
    {
     "name": "stdout",
     "output_type": "stream",
     "text": [
      "train size x: (103480, 10)\n",
      "train size y: (103480,)\n",
      "test size x: (25870, 10)\n",
      "test size y: (25870,)\n"
     ]
    }
   ],
   "source": [
    "df_log = df_features.copy()\n",
    "df_log = df_log.dropna(subset=labels)\n",
    "X, y = df_log.drop(columns=labels), df_log[labels[1]]\n",
    "train_x, test_x, train_y, test_y = train_test_split(X, y, test_size=0.2, random_state=123)\n",
    "print(f\"train size x: {train_x.shape}\\ntrain size y: {train_y.shape}\\ntest size x: {test_x.shape}\\ntest size y: {test_y.shape}\")"
   ]
  },
  {
   "cell_type": "markdown",
   "metadata": {},
   "source": [
    "## Fit log regression on labels"
   ]
  },
  {
   "cell_type": "code",
   "execution_count": 108,
   "metadata": {},
   "outputs": [],
   "source": [
    "def find_significance(data, columns, label):\n",
    "    data = data.dropna(subset=[label])\n",
    "    X = data[columns]\n",
    "    y = data[label]\n",
    "    train_x, test_x, train_y, test_y = train_test_split(X, y, test_size=0.2, random_state=123)\n",
    "    \n",
    "    X_with_const = sm.add_constant(train_x)\n",
    "    model = sm.Logit(train_y, X_with_const).fit()\n",
    "\n",
    "    print(model.summary())"
   ]
  },
  {
   "cell_type": "code",
   "execution_count": 110,
   "metadata": {},
   "outputs": [
    {
     "name": "stdout",
     "output_type": "stream",
     "text": [
      "Optimization terminated successfully.\n",
      "         Current function value: 0.588448\n",
      "         Iterations 5\n",
      "                           Logit Regression Results                           \n",
      "==============================================================================\n",
      "Dep. Variable:            probability   No. Observations:               103480\n",
      "Model:                          Logit   Df Residuals:                   103469\n",
      "Method:                           MLE   Df Model:                           10\n",
      "Date:                Sun, 30 Mar 2025   Pseudo R-squ.:                -0.06831\n",
      "Time:                        09:39:49   Log-Likelihood:                -60893.\n",
      "converged:                       True   LL-Null:                       -56999.\n",
      "Covariance Type:            nonrobust   LLR p-value:                     1.000\n",
      "================================================================================\n",
      "                   coef    std err          z      P>|z|      [0.025      0.975]\n",
      "--------------------------------------------------------------------------------\n",
      "const            0.8343      0.009     96.647      0.000       0.817       0.851\n",
      "force sale       0.2117      1.312      0.161      0.872      -2.360       2.783\n",
      "gift             0.0366      0.033      1.108      0.268      -0.028       0.101\n",
      "distribution     0.0757      0.018      4.245      0.000       0.041       0.111\n",
      "charity         -0.3637      0.215     -1.694      0.090      -0.785       0.057\n",
      "sell            -0.0105      0.002     -5.079      0.000      -0.015      -0.006\n",
      "trading         -0.1267      0.015     -8.573      0.000      -0.156      -0.098\n",
      "lieu            -0.0829      0.071     -1.159      0.246      -0.223       0.057\n",
      "fee              0.0601      0.032      1.909      0.056      -0.002       0.122\n",
      "10b5-1          -0.0365      0.014     -2.601      0.009      -0.064      -0.009\n",
      "16b-3           -0.1239      0.034     -3.686      0.000      -0.190      -0.058\n",
      "================================================================================\n"
     ]
    }
   ],
   "source": [
    "variables = [\"force sale\", \"gift\", \"distribution\", \"charity\", \"sell\", \"trading\", \"lieu\", \"fee\", \"10b5-1\", \"16b-3\"]\n",
    "label = \"probability\"\n",
    "find_significance(df_features, variables, label)"
   ]
  },
  {
   "cell_type": "code",
   "execution_count": null,
   "metadata": {},
   "outputs": [
    {
     "name": "stdout",
     "output_type": "stream",
     "text": [
      "Optimization terminated successfully.\n",
      "         Current function value: 0.588448\n",
      "         Iterations 5\n",
      "                           Logit Regression Results                           \n",
      "==============================================================================\n",
      "Dep. Variable:            probability   No. Observations:               103480\n",
      "Model:                          Logit   Df Residuals:                   103470\n",
      "Method:                           MLE   Df Model:                            9\n",
      "Date:                Sun, 30 Mar 2025   Pseudo R-squ.:                -0.06832\n",
      "Time:                        00:28:20   Log-Likelihood:                -60893.\n",
      "converged:                       True   LL-Null:                       -56999.\n",
      "Covariance Type:            nonrobust   LLR p-value:                     1.000\n",
      "================================================================================\n",
      "                   coef    std err          z      P>|z|      [0.025      0.975]\n",
      "--------------------------------------------------------------------------------\n",
      "const            0.8343      0.009     96.650      0.000       0.817       0.851\n",
      "gift             0.0366      0.033      1.108      0.268      -0.028       0.101\n",
      "distribution     0.0757      0.018      4.245      0.000       0.041       0.111\n",
      "charity         -0.3637      0.215     -1.694      0.090      -0.785       0.057\n",
      "sell            -0.0105      0.002     -5.079      0.000      -0.015      -0.006\n",
      "trading         -0.1267      0.015     -8.573      0.000      -0.156      -0.098\n",
      "lieu            -0.0829      0.071     -1.159      0.246      -0.223       0.057\n",
      "fee              0.0601      0.032      1.909      0.056      -0.002       0.122\n",
      "10b5-1          -0.0365      0.014     -2.602      0.009      -0.064      -0.009\n",
      "16b-3           -0.1239      0.034     -3.686      0.000      -0.190      -0.058\n",
      "================================================================================\n"
     ]
    }
   ],
   "source": [
    "## Remove force sale\n",
    "variables = [\"gift\", \"distribution\", \"charity\", \"sell\", \"trading\", \"lieu\", \"fee\", \"10b5-1\", \"16b-3\"]\n",
    "label = \"probability\"\n",
    "find_significance(df_features, variables, label)"
   ]
  },
  {
   "cell_type": "code",
   "execution_count": null,
   "metadata": {},
   "outputs": [
    {
     "name": "stdout",
     "output_type": "stream",
     "text": [
      "Optimization terminated successfully.\n",
      "         Current function value: 0.588455\n",
      "         Iterations 5\n",
      "                           Logit Regression Results                           \n",
      "==============================================================================\n",
      "Dep. Variable:            probability   No. Observations:               103480\n",
      "Model:                          Logit   Df Residuals:                   103471\n",
      "Method:                           MLE   Df Model:                            8\n",
      "Date:                Sun, 30 Mar 2025   Pseudo R-squ.:                -0.06833\n",
      "Time:                        00:28:49   Log-Likelihood:                -60893.\n",
      "converged:                       True   LL-Null:                       -56999.\n",
      "Covariance Type:            nonrobust   LLR p-value:                     1.000\n",
      "================================================================================\n",
      "                   coef    std err          z      P>|z|      [0.025      0.975]\n",
      "--------------------------------------------------------------------------------\n",
      "const            0.8356      0.009     97.701      0.000       0.819       0.852\n",
      "distribution     0.0762      0.018      4.272      0.000       0.041       0.111\n",
      "charity         -0.3337      0.213     -1.567      0.117      -0.751       0.084\n",
      "sell            -0.0105      0.002     -5.089      0.000      -0.015      -0.006\n",
      "trading         -0.1268      0.015     -8.580      0.000      -0.156      -0.098\n",
      "lieu            -0.0831      0.071     -1.163      0.245      -0.223       0.057\n",
      "fee              0.0598      0.032      1.899      0.058      -0.002       0.122\n",
      "10b5-1          -0.0371      0.014     -2.644      0.008      -0.065      -0.010\n",
      "16b-3           -0.1236      0.034     -3.676      0.000      -0.189      -0.058\n",
      "================================================================================\n"
     ]
    }
   ],
   "source": [
    "# Remove Gift\n",
    "variables = [\"distribution\", \"charity\", \"sell\", \"trading\", \"lieu\", \"fee\", \"10b5-1\", \"16b-3\"]\n",
    "label = \"probability\"\n",
    "find_significance(df_features, variables, label)"
   ]
  },
  {
   "cell_type": "code",
   "execution_count": null,
   "metadata": {},
   "outputs": [
    {
     "name": "stdout",
     "output_type": "stream",
     "text": [
      "Optimization terminated successfully.\n",
      "         Current function value: 0.588459\n",
      "         Iterations 5\n",
      "                           Logit Regression Results                           \n",
      "==============================================================================\n",
      "Dep. Variable:            probability   No. Observations:               103480\n",
      "Model:                          Logit   Df Residuals:                   103472\n",
      "Method:                           MLE   Df Model:                            7\n",
      "Date:                Sun, 30 Mar 2025   Pseudo R-squ.:                -0.06834\n",
      "Time:                        00:29:18   Log-Likelihood:                -60894.\n",
      "converged:                       True   LL-Null:                       -56999.\n",
      "Covariance Type:            nonrobust   LLR p-value:                     1.000\n",
      "================================================================================\n",
      "                   coef    std err          z      P>|z|      [0.025      0.975]\n",
      "--------------------------------------------------------------------------------\n",
      "const            0.8351      0.009     97.757      0.000       0.818       0.852\n",
      "distribution     0.0760      0.018      4.264      0.000       0.041       0.111\n",
      "charity         -0.3333      0.213     -1.565      0.118      -0.751       0.084\n",
      "sell            -0.0105      0.002     -5.074      0.000      -0.014      -0.006\n",
      "trading         -0.1268      0.015     -8.580      0.000      -0.156      -0.098\n",
      "fee              0.0514      0.031      1.670      0.095      -0.009       0.112\n",
      "10b5-1          -0.0368      0.014     -2.625      0.009      -0.064      -0.009\n",
      "16b-3           -0.1243      0.034     -3.698      0.000      -0.190      -0.058\n",
      "================================================================================\n"
     ]
    }
   ],
   "source": [
    "# Remove lieu\n",
    "variables = [\"distribution\", \"charity\", \"sell\", \"trading\", \"fee\", \"10b5-1\", \"16b-3\"]\n",
    "label = \"probability\"\n",
    "find_significance(df_features, variables, label)"
   ]
  },
  {
   "cell_type": "code",
   "execution_count": null,
   "metadata": {},
   "outputs": [
    {
     "name": "stdout",
     "output_type": "stream",
     "text": [
      "Optimization terminated successfully.\n",
      "         Current function value: 0.588480\n",
      "         Iterations 5\n",
      "                           Logit Regression Results                           \n",
      "==============================================================================\n",
      "Dep. Variable:            probability   No. Observations:               103480\n",
      "Model:                          Logit   Df Residuals:                   103473\n",
      "Method:                           MLE   Df Model:                            6\n",
      "Date:                Sun, 30 Mar 2025   Pseudo R-squ.:                -0.06837\n",
      "Time:                        00:29:36   Log-Likelihood:                -60896.\n",
      "converged:                       True   LL-Null:                       -56999.\n",
      "Covariance Type:            nonrobust   LLR p-value:                     1.000\n",
      "================================================================================\n",
      "                   coef    std err          z      P>|z|      [0.025      0.975]\n",
      "--------------------------------------------------------------------------------\n",
      "const            0.8348      0.009     97.753      0.000       0.818       0.852\n",
      "distribution     0.0760      0.018      4.262      0.000       0.041       0.111\n",
      "sell            -0.0104      0.002     -5.069      0.000      -0.014      -0.006\n",
      "trading         -0.1268      0.015     -8.581      0.000      -0.156      -0.098\n",
      "fee              0.0515      0.031      1.674      0.094      -0.009       0.112\n",
      "10b5-1          -0.0367      0.014     -2.621      0.009      -0.064      -0.009\n",
      "16b-3           -0.1243      0.034     -3.697      0.000      -0.190      -0.058\n",
      "================================================================================\n"
     ]
    }
   ],
   "source": [
    "# Remove Charity\n",
    "variables = [\"distribution\", \"sell\", \"trading\", \"fee\", \"10b5-1\", \"16b-3\"]\n",
    "label = \"probability\"\n",
    "find_significance(df_features, variables, label)"
   ]
  },
  {
   "cell_type": "code",
   "execution_count": null,
   "metadata": {},
   "outputs": [
    {
     "name": "stdout",
     "output_type": "stream",
     "text": [
      "Optimization terminated successfully.\n",
      "         Current function value: 0.588504\n",
      "         Iterations 5\n",
      "                           Logit Regression Results                           \n",
      "==============================================================================\n",
      "Dep. Variable:            probability   No. Observations:               103480\n",
      "Model:                          Logit   Df Residuals:                   103474\n",
      "Method:                           MLE   Df Model:                            5\n",
      "Date:                Sun, 30 Mar 2025   Pseudo R-squ.:                -0.06842\n",
      "Time:                        00:30:08   Log-Likelihood:                -60898.\n",
      "converged:                       True   LL-Null:                       -56999.\n",
      "Covariance Type:            nonrobust   LLR p-value:                     1.000\n",
      "================================================================================\n",
      "                   coef    std err          z      P>|z|      [0.025      0.975]\n",
      "--------------------------------------------------------------------------------\n",
      "const            0.8359      0.009     98.179      0.000       0.819       0.853\n",
      "distribution     0.0765      0.018      4.286      0.000       0.041       0.111\n",
      "sell            -0.0104      0.002     -5.056      0.000      -0.014      -0.006\n",
      "trading         -0.1268      0.015     -8.576      0.000      -0.156      -0.098\n",
      "10b5-1          -0.0373      0.014     -2.662      0.008      -0.065      -0.010\n",
      "16b-3           -0.1241      0.034     -3.693      0.000      -0.190      -0.058\n",
      "================================================================================\n"
     ]
    }
   ],
   "source": [
    "# Remove fee\n",
    "variables = [\"distribution\", \"sell\", \"trading\", \"10b5-1\", \"16b-3\"]\n",
    "label = \"probability\"\n",
    "find_significance(df_features, variables, label)"
   ]
  },
  {
   "cell_type": "code",
   "execution_count": null,
   "metadata": {},
   "outputs": [
    {
     "data": {
      "image/png": "[encoded data removed]",
      "text/plain": [
       "<Figure size 800x600 with 2 Axes>"
      ]
     },
     "metadata": {},
     "output_type": "display_data"
    }
   ],
   "source": [
    "\n",
    "variables = [\"distribution\", \"sell\", \"trading\", \"10b5-1\", \"16b-3\"]\n",
    "label = \"probability\"\n",
    "\n",
    "corr_feature = df_features[variables + [label]]\n",
    "\n",
    "corr = corr_feature.corr(method=\"pearson\")\n",
    "plt.figure(figsize=(8, 6))\n",
    "sns.heatmap(corr, annot=True, cmap=\"coolwarm\", fmt=\".2f\", linewidths=0.5)\n",
    "plt.title(\"Feature-Label Correlation Heatmap\")\n",
    "plt.show()"
   ]
  },
  {
   "cell_type": "markdown",
   "metadata": {},
   "source": [
    "### Trading and 10b5-1 is correlated but we'll leave it in"
   ]
  }
 ],
 "metadata": {
  "kernelspec": {
   "display_name": "Python 3",
   "language": "python",
   "name": "python3"
  },
  "language_info": {
   "codemirror_mode": {
    "name": "ipython",
    "version": 3
   },
   "file_extension": ".py",
   "mimetype": "text/x-python",
   "name": "python",
   "nbconvert_exporter": "python",
   "pygments_lexer": "ipython3",
   "version": "3.11.3"
  }
 },
 "nbformat": 4,
 "nbformat_minor": 2
}
