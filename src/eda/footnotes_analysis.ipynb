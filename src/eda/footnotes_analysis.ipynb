{
 "cells": [
  {
   "cell_type": "markdown",
   "metadata": {},
   "source": [
    "## We now attempt to find out if the footnotes of the SEC filing has an effect on the transaction"
   ]
  },
  {
   "cell_type": "code",
   "execution_count": 4,
   "metadata": {},
   "outputs": [],
   "source": [
    "import pandas as pd\n",
    "import numpy as np\n",
    "import warnings\n",
    "import matplotlib.pyplot as plt\n",
    "import seaborn as sns\n",
    "import re\n",
    "\n",
    "from sklearn.model_selection import train_test_split\n",
    "from sklearn.feature_extraction.text import TfidfVectorizer\n",
    "\n",
    "import nltk\n",
    "from nltk.corpus import stopwords\n",
    "from nltk.tokenize import word_tokenize\n",
    "from nltk.stem import WordNetLemmatizer\n",
    "from nltk.corpus import wordnet\n",
    "from nltk import pos_tag\n",
    "\n",
    "import scipy.stats as stats\n",
    "\n",
    "import statsmodels.api as sm\n",
    "\n",
    "# Remove warnings to keep outputs clean\n",
    "warnings.filterwarnings(\"ignore\")\n",
    "\n",
    "PROCESSED_DATA_FOLDER = \"../../data_untracked/processed\"\n",
    "ABNORMAL_CSV = \"merged_txns_SNORKEL.csv\"\n",
    "\n",
    "COMPILED_DATA_FOLDER = \"../../data_untracked/raw/sec_submissions/compiled\"\n",
    "FOOTNOTES_CSV = \"FOOTNOTES.csv\""
   ]
  },
  {
   "cell_type": "markdown",
   "metadata": {},
   "source": [
    "### Download this if haven't"
   ]
  },
  {
   "cell_type": "code",
   "execution_count": 5,
   "metadata": {},
   "outputs": [],
   "source": [
    "# nltk.download('stopwords')\n",
    "# nltk.download('punkt')\n",
    "# nltk.download(\"wordnet\")\n",
    "# nltk.download(\"averaged_perceptron_tagger\")"
   ]
  },
  {
   "cell_type": "markdown",
   "metadata": {},
   "source": [
    "## Load required datasets\n",
    "1. `snorkel_labels.csv`: Transactions with their Cumulative Abnormal Returns (CAR)\n",
    "2. `FOOTNOTES.csv`: Each transactions with their individual filing comments"
   ]
  },
  {
   "cell_type": "code",
   "execution_count": 6,
   "metadata": {},
   "outputs": [
    {
     "name": "stdout",
     "output_type": "stream",
     "text": [
      "Loading data\n"
     ]
    }
   ],
   "source": [
    "abnormal_transactions = pd.read_csv(f'{PROCESSED_DATA_FOLDER}/{ABNORMAL_CSV}')[[\"ACCESSION_NUMBER\", \"TRANS_CODE\", \"TRANS_ACQUIRED_DISP_CD\", \"snorkel_prob\", \"snorkel_pred\"]]\n",
    "abnormal_transactions = abnormal_transactions.rename(columns={\"snorkel_prob\" : \"probability\",\n",
    "                                                               \"snorkel_pred\" : \"prediction\"})\n",
    "footnotes = pd.read_csv(f'{COMPILED_DATA_FOLDER}/{FOOTNOTES_CSV}')\n",
    "print(\"Loading data\")"
   ]
  },
  {
   "cell_type": "code",
   "execution_count": 7,
   "metadata": {},
   "outputs": [
    {
     "name": "stdout",
     "output_type": "stream",
     "text": [
      "(3171001, 5)\n",
      "(7270873, 3)\n"
     ]
    }
   ],
   "source": [
    "print(abnormal_transactions.shape)\n",
    "print(footnotes.shape)"
   ]
  },
  {
   "cell_type": "code",
   "execution_count": 8,
   "metadata": {},
   "outputs": [
    {
     "data": {
      "application/vnd.microsoft.datawrangler.viewer.v0+json": {
       "columns": [
        {
         "name": "index",
         "rawType": "int64",
         "type": "integer"
        },
        {
         "name": "ACCESSION_NUMBER",
         "rawType": "object",
         "type": "string"
        },
        {
         "name": "FOOTNOTE_ID",
         "rawType": "object",
         "type": "string"
        },
        {
         "name": "FOOTNOTE_TXT",
         "rawType": "object",
         "type": "string"
        }
       ],
       "conversionMethod": "pd.DataFrame",
       "ref": "20b8b394-ae16-4a78-97c9-3840a2332137",
       "rows": [
        [
         "0",
         "0001179110-14-011078",
         "F1",
         "Sale made pursuant to a Rule 10b5-1 Plan dated February 7, 2014"
        ],
        [
         "1",
         "0001179110-14-011078",
         "F2",
         "Shares adjusted for those withheld to cover tax liabilities"
        ],
        [
         "2",
         "0001144204-14-040534",
         "F3",
         "Includes 2,106 shares of common stock received pursuant to the issuer's Distribution Reinvestment Plan."
        ],
        [
         "3",
         "0001144204-14-040534",
         "F2",
         "Restricted shares of common stock issued pursuant to the issuer's Restricted Share Plan. Restricted shares vest ratably over a three-year period beginning on May 29, 2015."
        ],
        [
         "4",
         "0001144204-14-040534",
         "F1",
         "Shares issued in lieu of cash for board services."
        ]
       ],
       "shape": {
        "columns": 3,
        "rows": 5
       }
      },
      "text/html": [
       "<div>\n",
       "<style scoped>\n",
       "    .dataframe tbody tr th:only-of-type {\n",
       "        vertical-align: middle;\n",
       "    }\n",
       "\n",
       "    .dataframe tbody tr th {\n",
       "        vertical-align: top;\n",
       "    }\n",
       "\n",
       "    .dataframe thead th {\n",
       "        text-align: right;\n",
       "    }\n",
       "</style>\n",
       "<table border=\"1\" class=\"dataframe\">\n",
       "  <thead>\n",
       "    <tr style=\"text-align: right;\">\n",
       "      <th></th>\n",
       "      <th>ACCESSION_NUMBER</th>\n",
       "      <th>FOOTNOTE_ID</th>\n",
       "      <th>FOOTNOTE_TXT</th>\n",
       "    </tr>\n",
       "  </thead>\n",
       "  <tbody>\n",
       "    <tr>\n",
       "      <th>0</th>\n",
       "      <td>0001179110-14-011078</td>\n",
       "      <td>F1</td>\n",
       "      <td>Sale made pursuant to a Rule 10b5-1 Plan dated...</td>\n",
       "    </tr>\n",
       "    <tr>\n",
       "      <th>1</th>\n",
       "      <td>0001179110-14-011078</td>\n",
       "      <td>F2</td>\n",
       "      <td>Shares adjusted for those withheld to cover ta...</td>\n",
       "    </tr>\n",
       "    <tr>\n",
       "      <th>2</th>\n",
       "      <td>0001144204-14-040534</td>\n",
       "      <td>F3</td>\n",
       "      <td>Includes 2,106 shares of common stock received...</td>\n",
       "    </tr>\n",
       "    <tr>\n",
       "      <th>3</th>\n",
       "      <td>0001144204-14-040534</td>\n",
       "      <td>F2</td>\n",
       "      <td>Restricted shares of common stock issued pursu...</td>\n",
       "    </tr>\n",
       "    <tr>\n",
       "      <th>4</th>\n",
       "      <td>0001144204-14-040534</td>\n",
       "      <td>F1</td>\n",
       "      <td>Shares issued in lieu of cash for board services.</td>\n",
       "    </tr>\n",
       "  </tbody>\n",
       "</table>\n",
       "</div>"
      ],
      "text/plain": [
       "       ACCESSION_NUMBER FOOTNOTE_ID  \\\n",
       "0  0001179110-14-011078          F1   \n",
       "1  0001179110-14-011078          F2   \n",
       "2  0001144204-14-040534          F3   \n",
       "3  0001144204-14-040534          F2   \n",
       "4  0001144204-14-040534          F1   \n",
       "\n",
       "                                        FOOTNOTE_TXT  \n",
       "0  Sale made pursuant to a Rule 10b5-1 Plan dated...  \n",
       "1  Shares adjusted for those withheld to cover ta...  \n",
       "2  Includes 2,106 shares of common stock received...  \n",
       "3  Restricted shares of common stock issued pursu...  \n",
       "4  Shares issued in lieu of cash for board services.  "
      ]
     },
     "execution_count": 8,
     "metadata": {},
     "output_type": "execute_result"
    }
   ],
   "source": [
    "footnotes.head()"
   ]
  },
  {
   "cell_type": "code",
   "execution_count": 9,
   "metadata": {},
   "outputs": [
    {
     "data": {
      "application/vnd.microsoft.datawrangler.viewer.v0+json": {
       "columns": [
        {
         "name": "index",
         "rawType": "int64",
         "type": "integer"
        },
        {
         "name": "ACCESSION_NUMBER",
         "rawType": "object",
         "type": "string"
        },
        {
         "name": "FOOTNOTE_TXT",
         "rawType": "object",
         "type": "string"
        }
       ],
       "conversionMethod": "pd.DataFrame",
       "ref": "009981eb-8021-4443-a8ac-880b4141ff3f",
       "rows": [
        [
         "0",
         "0000001750-06-000002",
         "I disclaim any beneficial interest in these shares."
        ],
        [
         "1",
         "0000001750-06-000004",
         "I disclaim any beneficial interest in these shares."
        ],
        [
         "2",
         "0000001750-06-000015",
         "Reload option resulting from withholding of stock in payment of exercise price."
        ],
        [
         "3",
         "0000001750-06-000016",
         "I disclaim any beneficial interest in these shares."
        ],
        [
         "4",
         "0000001750-06-000017",
         "Reload option resulting from withholding of stock in payment of exercise price."
        ],
        [
         "5",
         "0000001750-06-000018",
         "Reload option resulting from withholding of stock in payment of exercise price."
        ],
        [
         "6",
         "0000001750-06-000023",
         "I disclaim any beneficial interest in these shares."
        ],
        [
         "7",
         "0000001750-06-000024",
         "Award of stock pursuant to Restricted Stock Agreement in transaction exempt under Rule 16b-3. I disclaim any beneficial interest in these shares."
        ],
        [
         "8",
         "0000001750-06-000033",
         "Award of stock pursuant to Restricted Stock Agreement in transaction exempt under Rule 16b-3."
        ],
        [
         "9",
         "0000001750-06-000034",
         "Award of stock pursuant to Restricted Stock Agreement in transaction exempt under Rule 16b-3."
        ],
        [
         "10",
         "0000001750-06-000035",
         "Award of stock pursuant to Restricted Stock Agreement in transaction exempt under Rule 16b-3."
        ],
        [
         "11",
         "0000001750-06-000036",
         "Award of stock pursuant to Restricted Stock Agreement in transaction exempt under Rule 16b-3."
        ],
        [
         "12",
         "0000001750-06-000038",
         "Grant of reload option.  Grantee may elect to pay the exercise price of the option or any tax withholding obligation in connection therewith by directing the Company to withhold a portion of the shares otherwise distributable to the grantee upon exercise or by transferring to the Company previously acquired shares, valued at their fair market value on such taxable date."
        ],
        [
         "13",
         "0000001750-06-000040",
         "I disclaim any beneficial interest in these shares."
        ],
        [
         "14",
         "0000001750-06-000043",
         "Phantom stock units are payable in stock on a 1-for-1 basis or cash at the grantee's election upon retirement/termination as a director."
        ],
        [
         "15",
         "0000001750-06-000044",
         "Phantom stock units are payable in stock on a 1-for-1 basis or cash at the grantee's election upon retirement/termination as a director."
        ],
        [
         "16",
         "0000001750-06-000046",
         "I disclaim any beneficial interest in these shares."
        ],
        [
         "17",
         "0000001750-06-000048",
         "Award of stock pursuant to Restricted Stock Agreement in transaction exempt under Rule 16b-3."
        ],
        [
         "18",
         "0000001750-06-000054",
         "I disclaim any beneficial interest in these shares. I disclaim any beneficial interest in these shares."
        ],
        [
         "19",
         "0000001750-06-000056",
         "I disclaim any beneficial interest in these shares. I disclaim any beneficial interest in these shares."
        ],
        [
         "20",
         "0000001750-06-000060",
         "I disclaim any beneficial interest in these shares. I disclaim any beneficial interest in these shares."
        ],
        [
         "21",
         "0000001750-06-000062",
         "I disclaim any beneficial interest in these shares. I disclaim any beneficial interest in these shares."
        ],
        [
         "22",
         "0000001750-06-000068",
         "Reload option resulting from withholding of stock in payment of exercise price."
        ],
        [
         "23",
         "0000001750-06-000069",
         "Reload option resulting from withholding of stock in payment of exercise price."
        ],
        [
         "24",
         "0000001750-06-000071",
         "Award of stock pursuant to Restricted Stock Agreement in transaction exempt under Rule 16b-3."
        ],
        [
         "25",
         "0000001750-06-000075",
         "The sales reported on this form were effected pursuant to previously given instructions intended to comply with Rule 10b5-1given on 4/6/06."
        ],
        [
         "26",
         "0000001750-06-000077",
         "Phantom stock units are payable in stock on a 1-for-1 basis or cash at the grantee's election upon retirement/termination as a director."
        ],
        [
         "27",
         "0000001750-06-000079",
         "Phantom stock units are payable in stock on a 1-for-1 basis or cash at the grantee's election upon retirement/termination as a director."
        ],
        [
         "28",
         "0000001750-06-000081",
         "I disclaim any beneficial interest in these shares. I disclaim any beneficial interest in these shares."
        ],
        [
         "29",
         "0000001750-06-000091",
         "Award of stock pursuant to Restricted Stock Agreement in transaction exempt under Rule 16b-3."
        ],
        [
         "30",
         "0000001750-06-000095",
         "Award of stock pursuant to Restricted Stock Agreement in transaction exempt under Rule 16b-3."
        ],
        [
         "31",
         "0000001750-06-000097",
         "Award of stock pursuant to Restricted Stock Agreement in transaction exempt under Rule 16b-3."
        ],
        [
         "32",
         "0000001750-06-000099",
         "Award of stock pursuant to Restricted Stock Agreement in transaction exempt under Rule 16b-3."
        ],
        [
         "33",
         "0000001750-06-000101",
         "Award of stock pursuant to Restricted Stock Agreement in transaction exempt under Rule 16b-3."
        ],
        [
         "34",
         "0000001750-06-000103",
         "Award of stock pursuant to Restricted Stock Agreement in transaction exempt under Rule 16b-3."
        ],
        [
         "35",
         "0000001750-06-000105",
         "Award of stock pursuant to Restricted Stock Agreement in transaction exempt under Rule 16b-3."
        ],
        [
         "36",
         "0000001750-06-000130",
         "I disclaim any beneficial interest in these shares. I disclaim any beneficial interest in these shares."
        ],
        [
         "37",
         "0000001750-06-000139",
         "Phantom stock units are payable in stock on a 1-for-1 basis or cash at the grantee's election upon retirement/termination as a director."
        ],
        [
         "38",
         "0000001750-06-000140",
         "Phantom stock units are payable in stock on a 1-for-1 basis or cash at the grantee's election upon retirement/termination as a director."
        ],
        [
         "39",
         "0000001750-06-000149",
         "I disclaim any beneficial interest in these shares. I disclaim any beneficial interest in these shares."
        ],
        [
         "40",
         "0000001750-06-000163",
         "Award of stock pursuant to Restricted Stock Agreement in transaction exempt under Rule 16b-3."
        ],
        [
         "41",
         "0000001750-06-000164",
         "Award of stock pursuant to Restricted Stock Agreement in transaction exempt under Rule 16b-3."
        ],
        [
         "42",
         "0000001750-06-000165",
         "Award of stock pursuant to Restricted Stock Agreement in transaction exempt under Rule 16b-3."
        ],
        [
         "43",
         "0000001750-06-000166",
         "Award of stock pursuant to Restricted Stock Agreement in transaction exempt under Rule 16b-3."
        ],
        [
         "44",
         "0000001750-06-000167",
         "Award of stock pursuant to Restricted Stock Agreement in transaction exempt under Rule 16b-3."
        ],
        [
         "45",
         "0000001750-06-000168",
         "Award of stock pursuant to Restricted Stock Agreement in transaction exempt under Rule 16b-3."
        ],
        [
         "46",
         "0000001750-06-000169",
         "Award of stock pursuant to Restricted Stock Agreement in transaction exempt under Rule 16b-3."
        ],
        [
         "47",
         "0000001750-06-000170",
         "Award of stock pursuant to Restricted Stock Agreement in transaction exempt under Rule 16b-3."
        ],
        [
         "48",
         "0000001750-06-000173",
         "Phantom stock units are payable in stock on a 1-for-1 basis or cash at the grantee's election upon retirement/termination as a director."
        ],
        [
         "49",
         "0000001750-06-000174",
         "Phantom stock units are payable in stock on a 1-for-1 basis or cash at the grantee's election upon retirement/termination as a director."
        ]
       ],
       "shape": {
        "columns": 2,
        "rows": 2830948
       }
      },
      "text/html": [
       "<div>\n",
       "<style scoped>\n",
       "    .dataframe tbody tr th:only-of-type {\n",
       "        vertical-align: middle;\n",
       "    }\n",
       "\n",
       "    .dataframe tbody tr th {\n",
       "        vertical-align: top;\n",
       "    }\n",
       "\n",
       "    .dataframe thead th {\n",
       "        text-align: right;\n",
       "    }\n",
       "</style>\n",
       "<table border=\"1\" class=\"dataframe\">\n",
       "  <thead>\n",
       "    <tr style=\"text-align: right;\">\n",
       "      <th></th>\n",
       "      <th>ACCESSION_NUMBER</th>\n",
       "      <th>FOOTNOTE_TXT</th>\n",
       "    </tr>\n",
       "  </thead>\n",
       "  <tbody>\n",
       "    <tr>\n",
       "      <th>0</th>\n",
       "      <td>0000001750-06-000002</td>\n",
       "      <td>I disclaim any beneficial interest in these sh...</td>\n",
       "    </tr>\n",
       "    <tr>\n",
       "      <th>1</th>\n",
       "      <td>0000001750-06-000004</td>\n",
       "      <td>I disclaim any beneficial interest in these sh...</td>\n",
       "    </tr>\n",
       "    <tr>\n",
       "      <th>2</th>\n",
       "      <td>0000001750-06-000015</td>\n",
       "      <td>Reload option resulting from withholding of st...</td>\n",
       "    </tr>\n",
       "    <tr>\n",
       "      <th>3</th>\n",
       "      <td>0000001750-06-000016</td>\n",
       "      <td>I disclaim any beneficial interest in these sh...</td>\n",
       "    </tr>\n",
       "    <tr>\n",
       "      <th>4</th>\n",
       "      <td>0000001750-06-000017</td>\n",
       "      <td>Reload option resulting from withholding of st...</td>\n",
       "    </tr>\n",
       "    <tr>\n",
       "      <th>...</th>\n",
       "      <td>...</td>\n",
       "      <td>...</td>\n",
       "    </tr>\n",
       "    <tr>\n",
       "      <th>2830943</th>\n",
       "      <td>0001898927-21-000004</td>\n",
       "      <td>Represents restricted stock units (RSUs) grant...</td>\n",
       "    </tr>\n",
       "    <tr>\n",
       "      <th>2830944</th>\n",
       "      <td>0001899338-21-000001</td>\n",
       "      <td>Includes shares issued pursuant to the dividen...</td>\n",
       "    </tr>\n",
       "    <tr>\n",
       "      <th>2830945</th>\n",
       "      <td>0001899338-21-000002</td>\n",
       "      <td>Includes shares issued pursuant to the divided...</td>\n",
       "    </tr>\n",
       "    <tr>\n",
       "      <th>2830946</th>\n",
       "      <td>0001899338-21-000003</td>\n",
       "      <td>Includes shares issued pursuant to the dividen...</td>\n",
       "    </tr>\n",
       "    <tr>\n",
       "      <th>2830947</th>\n",
       "      <td>0001899514-21-000002</td>\n",
       "      <td>Securities owned directly by Volta SPV SPW, LL...</td>\n",
       "    </tr>\n",
       "  </tbody>\n",
       "</table>\n",
       "<p>2830948 rows × 2 columns</p>\n",
       "</div>"
      ],
      "text/plain": [
       "             ACCESSION_NUMBER  \\\n",
       "0        0000001750-06-000002   \n",
       "1        0000001750-06-000004   \n",
       "2        0000001750-06-000015   \n",
       "3        0000001750-06-000016   \n",
       "4        0000001750-06-000017   \n",
       "...                       ...   \n",
       "2830943  0001898927-21-000004   \n",
       "2830944  0001899338-21-000001   \n",
       "2830945  0001899338-21-000002   \n",
       "2830946  0001899338-21-000003   \n",
       "2830947  0001899514-21-000002   \n",
       "\n",
       "                                              FOOTNOTE_TXT  \n",
       "0        I disclaim any beneficial interest in these sh...  \n",
       "1        I disclaim any beneficial interest in these sh...  \n",
       "2        Reload option resulting from withholding of st...  \n",
       "3        I disclaim any beneficial interest in these sh...  \n",
       "4        Reload option resulting from withholding of st...  \n",
       "...                                                    ...  \n",
       "2830943  Represents restricted stock units (RSUs) grant...  \n",
       "2830944  Includes shares issued pursuant to the dividen...  \n",
       "2830945  Includes shares issued pursuant to the divided...  \n",
       "2830946  Includes shares issued pursuant to the dividen...  \n",
       "2830947  Securities owned directly by Volta SPV SPW, LL...  \n",
       "\n",
       "[2830948 rows x 2 columns]"
      ]
     },
     "execution_count": 9,
     "metadata": {},
     "output_type": "execute_result"
    }
   ],
   "source": [
    "## Combine each accession number footnotes\n",
    "df_footnote = footnotes.copy()\n",
    "df_footnote = df_footnote.sort_values(by=[\"ACCESSION_NUMBER\", \"FOOTNOTE_ID\"])\n",
    "df_footnote[\"FOOTNOTE_TXT\"] = df_footnote[\"FOOTNOTE_TXT\"].astype(str)\n",
    "df_grouped = df_footnote.groupby(\"ACCESSION_NUMBER\", sort=True)[\"FOOTNOTE_TXT\"].apply(lambda x: \" \".join(x)).reset_index()\n",
    "df_grouped"
   ]
  },
  {
   "cell_type": "code",
   "execution_count": 10,
   "metadata": {},
   "outputs": [
    {
     "data": {
      "application/vnd.microsoft.datawrangler.viewer.v0+json": {
       "columns": [
        {
         "name": "index",
         "rawType": "int64",
         "type": "integer"
        },
        {
         "name": "ACCESSION_NUMBER",
         "rawType": "object",
         "type": "string"
        },
        {
         "name": "TRANS_CODE",
         "rawType": "object",
         "type": "string"
        },
        {
         "name": "TRANS_ACQUIRED_DISP_CD",
         "rawType": "object",
         "type": "string"
        },
        {
         "name": "probability",
         "rawType": "float64",
         "type": "float"
        },
        {
         "name": "prediction",
         "rawType": "int64",
         "type": "integer"
        },
        {
         "name": "FOOTNOTE_TXT",
         "rawType": "object",
         "type": "string"
        }
       ],
       "conversionMethod": "pd.DataFrame",
       "ref": "0da377af-7aac-44ac-9bbe-0741fc9539cd",
       "rows": [
        [
         "0",
         "0001181431-09-023155",
         "S",
         "D",
         "1.0",
         "1",
         "Such options are currently exercisable as regards 1,667 of the covered shares.  The remaining options are exercisable, as regards 1,667 of the covered shares, on the second anniversary of the date of grant, and as regards 1,666 of the covered shares, on the third anniversary of the date of grant."
        ],
        [
         "20",
         "0000913165-18-000034",
         "S",
         "D",
         "0.8962697445155132",
         "1",
         "Shares were disposed of pursuant to an Agreement and Plan of Merger, dated October 22, 2017, as amended by Amendment No.1 dated as of December 3, 2017, by and among Osteon Holdings, L.P., Osteon Merger Sub, Inc., an indirect wholly owned subsidiary of Parent , and Exactech, Inc., in exchange for $49.25 per share on the effective date of the merger."
        ],
        [
         "22",
         "0000891092-06-003783",
         "S",
         "D",
         "0.4579210832042034",
         "0",
         "In accordance with Rule 16(b) promulgated under the Securities Act of 1934, as amended, the reporting person has disgorged  all profits made by him from the purchases and sales of the common stock of Conolog Corporation from October 23, 2006 though November 27, 2006."
        ],
        [
         "23",
         "0000891092-06-003782",
         "S",
         "D",
         "0.09217604905814",
         "0",
         "In accordance with Rule 16(b) promulgated under the Securities Act of 1934, as amended, the reporting person has disgorged  all profits made by him from the purchases and sales of the common stock of Conolog Corporation from October 23, 2006 though November 27, 2006."
        ],
        [
         "24",
         "0000891092-06-003783",
         "S",
         "D",
         "0.4579210832042034",
         "0",
         "In accordance with Rule 16(b) promulgated under the Securities Act of 1934, as amended, the reporting person has disgorged  all profits made by him from the purchases and sales of the common stock of Conolog Corporation from October 23, 2006 though November 27, 2006."
        ]
       ],
       "shape": {
        "columns": 6,
        "rows": 5
       }
      },
      "text/html": [
       "<div>\n",
       "<style scoped>\n",
       "    .dataframe tbody tr th:only-of-type {\n",
       "        vertical-align: middle;\n",
       "    }\n",
       "\n",
       "    .dataframe tbody tr th {\n",
       "        vertical-align: top;\n",
       "    }\n",
       "\n",
       "    .dataframe thead th {\n",
       "        text-align: right;\n",
       "    }\n",
       "</style>\n",
       "<table border=\"1\" class=\"dataframe\">\n",
       "  <thead>\n",
       "    <tr style=\"text-align: right;\">\n",
       "      <th></th>\n",
       "      <th>ACCESSION_NUMBER</th>\n",
       "      <th>TRANS_CODE</th>\n",
       "      <th>TRANS_ACQUIRED_DISP_CD</th>\n",
       "      <th>probability</th>\n",
       "      <th>prediction</th>\n",
       "      <th>FOOTNOTE_TXT</th>\n",
       "    </tr>\n",
       "  </thead>\n",
       "  <tbody>\n",
       "    <tr>\n",
       "      <th>0</th>\n",
       "      <td>0001181431-09-023155</td>\n",
       "      <td>S</td>\n",
       "      <td>D</td>\n",
       "      <td>1.000000</td>\n",
       "      <td>1</td>\n",
       "      <td>Such options are currently exercisable as rega...</td>\n",
       "    </tr>\n",
       "    <tr>\n",
       "      <th>20</th>\n",
       "      <td>0000913165-18-000034</td>\n",
       "      <td>S</td>\n",
       "      <td>D</td>\n",
       "      <td>0.896270</td>\n",
       "      <td>1</td>\n",
       "      <td>Shares were disposed of pursuant to an Agreeme...</td>\n",
       "    </tr>\n",
       "    <tr>\n",
       "      <th>22</th>\n",
       "      <td>0000891092-06-003783</td>\n",
       "      <td>S</td>\n",
       "      <td>D</td>\n",
       "      <td>0.457921</td>\n",
       "      <td>0</td>\n",
       "      <td>In accordance with Rule 16(b) promulgated unde...</td>\n",
       "    </tr>\n",
       "    <tr>\n",
       "      <th>23</th>\n",
       "      <td>0000891092-06-003782</td>\n",
       "      <td>S</td>\n",
       "      <td>D</td>\n",
       "      <td>0.092176</td>\n",
       "      <td>0</td>\n",
       "      <td>In accordance with Rule 16(b) promulgated unde...</td>\n",
       "    </tr>\n",
       "    <tr>\n",
       "      <th>24</th>\n",
       "      <td>0000891092-06-003783</td>\n",
       "      <td>S</td>\n",
       "      <td>D</td>\n",
       "      <td>0.457921</td>\n",
       "      <td>0</td>\n",
       "      <td>In accordance with Rule 16(b) promulgated unde...</td>\n",
       "    </tr>\n",
       "  </tbody>\n",
       "</table>\n",
       "</div>"
      ],
      "text/plain": [
       "        ACCESSION_NUMBER TRANS_CODE TRANS_ACQUIRED_DISP_CD  probability  \\\n",
       "0   0001181431-09-023155          S                      D     1.000000   \n",
       "20  0000913165-18-000034          S                      D     0.896270   \n",
       "22  0000891092-06-003783          S                      D     0.457921   \n",
       "23  0000891092-06-003782          S                      D     0.092176   \n",
       "24  0000891092-06-003783          S                      D     0.457921   \n",
       "\n",
       "    prediction                                       FOOTNOTE_TXT  \n",
       "0            1  Such options are currently exercisable as rega...  \n",
       "20           1  Shares were disposed of pursuant to an Agreeme...  \n",
       "22           0  In accordance with Rule 16(b) promulgated unde...  \n",
       "23           0  In accordance with Rule 16(b) promulgated unde...  \n",
       "24           0  In accordance with Rule 16(b) promulgated unde...  "
      ]
     },
     "execution_count": 10,
     "metadata": {},
     "output_type": "execute_result"
    }
   ],
   "source": [
    "## Merge with the labelled data\n",
    "df_footnote_combined = pd.merge(abnormal_transactions, df_grouped, how = \"left\", left_on = \"ACCESSION_NUMBER\", right_on = \"ACCESSION_NUMBER\")\n",
    "df_footnote_combined = df_footnote_combined[df_footnote_combined[\"FOOTNOTE_TXT\"].notnull()]\n",
    "df_footnote_combined.head()"
   ]
  },
  {
   "cell_type": "code",
   "execution_count": 11,
   "metadata": {},
   "outputs": [
    {
     "data": {
      "text/plain": [
       "(879169, 6)"
      ]
     },
     "execution_count": 11,
     "metadata": {},
     "output_type": "execute_result"
    }
   ],
   "source": [
    "## Drop duplicates\n",
    "df_footnote_exist_drop = df_footnote_combined.dropna(subset=[\"prediction\"]).dropna(subset=[\"FOOTNOTE_TXT\"])\n",
    "df_footnote_exist_drop = df_footnote_exist_drop.drop_duplicates(subset=[\"ACCESSION_NUMBER\"])\n",
    "df_footnote_exist_drop.shape"
   ]
  },
  {
   "cell_type": "code",
   "execution_count": 12,
   "metadata": {},
   "outputs": [],
   "source": [
    "## Create a lemmatizer function to be used later\n",
    "lemmatizer = WordNetLemmatizer()\n",
    "\n",
    "## Create a stop word to remove simple words\n",
    "stop_words = set(stopwords.words(\"english\"))\n",
    "stop_words.update([\"shall\", \"should\"])"
   ]
  },
  {
   "cell_type": "code",
   "execution_count": 13,
   "metadata": {},
   "outputs": [],
   "source": [
    "def get_wordnet_pos(nltk_tag):\n",
    "    \"\"\" This function attempts to categorize the words that comes in\n",
    "\n",
    "    Args:\n",
    "        nltk_tag (str): A string that will be tagged\n",
    "\n",
    "    Returns:\n",
    "        str: A part of speech tagged\n",
    "    \"\"\"\n",
    "    if nltk_tag.startswith(\"J\"):  # Adjective\n",
    "        return wordnet.ADJ\n",
    "    elif nltk_tag.startswith(\"N\"):  # Noun\n",
    "        return wordnet.NOUN\n",
    "    elif nltk_tag.startswith(\"V\"):  # Verb\n",
    "        return wordnet.VERB\n",
    "    elif nltk_tag.startswith(\"R\"):  # Adverb\n",
    "        return wordnet.ADV\n",
    "    else:\n",
    "        return wordnet.NOUN  # Default to noun if unknown"
   ]
  },
  {
   "cell_type": "code",
   "execution_count": 14,
   "metadata": {},
   "outputs": [],
   "source": [
    "def lemmatize_text(text):\n",
    "    \"\"\" This function will lemmatize words to their base form: forced -> force\n",
    "\n",
    "    Args:\n",
    "        text (str): A sentence of words \n",
    "\n",
    "    Returns:\n",
    "        str: A sentence that has words reduced to lemmatized form\n",
    "    \"\"\"\n",
    "    words = word_tokenize(text)  # Tokenize text\n",
    "    tagged_words = pos_tag(words)  # POS tagging\n",
    "\n",
    "    lemmatized_words = [\n",
    "        lemmatizer.lemmatize(word, get_wordnet_pos(tag)) for word, tag in tagged_words if lemmatizer.lemmatize(word, get_wordnet_pos(tag)) not in  stop_words\n",
    "    ]\n",
    "\n",
    "    return \" \".join(lemmatized_words)  # Reconstruct sentence"
   ]
  },
  {
   "cell_type": "code",
   "execution_count": 15,
   "metadata": {},
   "outputs": [],
   "source": [
    "def remove_words(text):\n",
    "    \"\"\"Remove numbers, months, days and unnecessary text\n",
    "\n",
    "    Args:\n",
    "        text (str): A sentence of words\n",
    "\n",
    "    Returns:\n",
    "        str: Trimmed sentence, removing unnecessary stuff\n",
    "    \"\"\"\n",
    "    text = re.sub(r\"[0-9,.%\\$\\\"\\(\\)\\/_]+\", \"\", text)\n",
    "    text = re.sub(r\"(january|february|march|april|may|june|july|august|september|october|november|december|\\\n",
    "                  monday|tuesday|wednesday|thursday|friday)\", \"\", text)\n",
    "    return text"
   ]
  },
  {
   "cell_type": "code",
   "execution_count": 16,
   "metadata": {},
   "outputs": [],
   "source": [
    "def preprocess_text(text):\n",
    "    \"\"\"Cleans a text by uncapitalizing, removing words and lemmatizing them\n",
    "\n",
    "    Args:\n",
    "        text (str): A sentence of words\n",
    "\n",
    "    Returns:\n",
    "        str: A cleaned sentence\n",
    "    \"\"\"\n",
    "    text = text.lower()\n",
    "    removed_unecessary_text = remove_words(text)\n",
    "    lemmatized_text = lemmatize_text(removed_unecessary_text)\n",
    "\n",
    "    return lemmatized_text"
   ]
  },
  {
   "cell_type": "markdown",
   "metadata": {},
   "source": [
    "### Sample processed texts"
   ]
  },
  {
   "cell_type": "code",
   "execution_count": 17,
   "metadata": {},
   "outputs": [
    {
     "data": {
      "text/plain": [
       "'striped cat run quickly towards big trading house'"
      ]
     },
     "execution_count": 17,
     "metadata": {},
     "output_type": "execute_result"
    }
   ],
   "source": [
    "preprocess_text(\"The striped cats were running quickly towards the biggest trading house.\") "
   ]
  },
  {
   "cell_type": "code",
   "execution_count": 18,
   "metadata": {},
   "outputs": [
    {
     "data": {
      "text/plain": [
       "'transaction execute multiple trade price range price report reflect weighted average sale price report person hereby undertakes provide upon request sec staff issuer security holder issuer full information regard number share price transaction effect'"
      ]
     },
     "execution_count": 18,
     "metadata": {},
     "output_type": "execute_result"
    }
   ],
   "source": [
    "preprocess_text(\"This transaction was executed in multiple trades at prices ranging from $38.17 to $38.73. The price reported above reflects the weighted average sale price. The reporting person hereby undertakes to provide upon request to the SEC staff, the issuer or a security holder of the issuer full information regarding the number of shares and prices at which the transaction was effected.\")"
   ]
  },
  {
   "cell_type": "code",
   "execution_count": 19,
   "metadata": {},
   "outputs": [
    {
     "data": {
      "text/plain": [
       "'force sale'"
      ]
     },
     "execution_count": 19,
     "metadata": {},
     "output_type": "execute_result"
    }
   ],
   "source": [
    "preprocess_text(\"forced sale\")"
   ]
  },
  {
   "cell_type": "markdown",
   "metadata": {},
   "source": [
    "## Find in samples"
   ]
  },
  {
   "cell_type": "code",
   "execution_count": 20,
   "metadata": {},
   "outputs": [
    {
     "data": {
      "text/plain": [
       "(659376, 6)"
      ]
     },
     "execution_count": 20,
     "metadata": {},
     "output_type": "execute_result"
    }
   ],
   "source": [
    "df_footnote_labels = df_footnote_exist_drop.copy()\n",
    "df1, df2 = train_test_split(df_footnote_labels, test_size=0.25, random_state=4263)\n",
    "sampled_df = df1\n",
    "sampled_df.shape"
   ]
  },
  {
   "cell_type": "code",
   "execution_count": 21,
   "metadata": {},
   "outputs": [
    {
     "data": {
      "application/vnd.microsoft.datawrangler.viewer.v0+json": {
       "columns": [
        {
         "name": "index",
         "rawType": "int64",
         "type": "integer"
        },
        {
         "name": "ACCESSION_NUMBER",
         "rawType": "object",
         "type": "string"
        },
        {
         "name": "TRANS_CODE",
         "rawType": "object",
         "type": "string"
        },
        {
         "name": "TRANS_ACQUIRED_DISP_CD",
         "rawType": "object",
         "type": "string"
        },
        {
         "name": "probability",
         "rawType": "float64",
         "type": "float"
        },
        {
         "name": "prediction",
         "rawType": "int64",
         "type": "integer"
        },
        {
         "name": "FOOTNOTE_TXT",
         "rawType": "object",
         "type": "string"
        }
       ],
       "conversionMethod": "pd.DataFrame",
       "ref": "d3318e52-ec44-4547-bab7-7ab52e397e1e",
       "rows": [
        [
         "1009753",
         "0001209191-14-064158",
         "S",
         "D",
         "0.0900525862146798",
         "0",
         "The shares covered by this Form 4 have been sold pursuant to a Rule 10b5-1 Sales Plan dated September 20, 2013."
        ],
        [
         "563383",
         "0001209191-07-026217",
         "S",
         "D",
         "0.0900525862146798",
         "0",
         "Dividend reinvestment shares acquired. Sale pursuant to cashless exercise of non-employee Director stock options."
        ],
        [
         "473193",
         "0001127602-16-060288",
         "S",
         "D",
         "0.999999999999972",
         "1",
         "1 for 1 Units are to be settled in cash after reporting person's retirement."
        ],
        [
         "3018219",
         "0001127602-18-036365",
         "P",
         "A",
         "0.5243602233621381",
         "0",
         "Shares purchased pursuant to 10b5-1 plan 2018-Dec-13-Weighted Average - Share Price represents average price between $63.61 and $64.54. 2018-Dec-14-Weighted Average - Share Price represents average price between $62.77 and $63.77. nan"
        ],
        [
         "274662",
         "0000721683-15-000040",
         "S",
         "D",
         "0.0900525862146798",
         "0",
         "Includes shares acquired through exempt purchases in issuer's employee stock purchase plan since the reporting person's last Form 4. The options as originally granted were exercisable in three annual equal installments on January 31, 2007, January 31, 2008 and January 31, 2009. The options as originally granted were exercisable in three annual equal installments on January 31, 2008, January 31, 2009 and January 31, 2010."
        ],
        [
         "1395455",
         "0001373715-18-000217",
         "G",
         "D",
         "0.5",
         "0",
         "Represents shared donated to charity by the reporting person. Represents shares sold by the reporting person, the proceeds of which were donated to charity."
        ],
        [
         "1807679",
         "0001444157-10-000002",
         "S",
         "D",
         "0.0900525862146798",
         "0",
         "Shares reported include unvested Restricted Stock Units  (RSUs)."
        ],
        [
         "2531477",
         "0001209191-09-024011",
         "P",
         "A",
         "1.0",
         "1",
         "The phantom stock units were accrued under the VVR directors' deferred compensation plan and are to be settled 100% in cash, in generally equal annual installments over a period of five (5) years beginning on the date of the Director's retirement or disability, except that the Board of Directors, in its sole discretion, may accelerate or extend the distribution. 1 for 1"
        ],
        [
         "769642",
         "0001209191-13-012407",
         "S",
         "D",
         "0.5",
         "0",
         "The shares were sold in a series of transactions at a weighted average sale price of $40.0983 per share. Financial information necessary to determine if performance criteria had been satisfied was not publicly available on February 16, 2013, the first anniversary of the date of the award.  At a meeting of the Compensation Committee (\"Committee\") held February 26, 2013, and confirmed by the Board of Directors (\"Board\") on February 27, 2013, the Committee and the Board determined that the performance conditions had been satisfied.  The shares will now be reported as owned shares in Table I, and restrictions on the remaining shares will lapse on the 2nd and 3rd anniversary of the original date of the award, all in accordance with the award agreement. Each performance based restricted share represents a contingent right to receive one share of CYH common stock.  There are two elements to the lapsing of the restriction; first, the Company must achieve specified targeted amount of earnings per share from continuing operations, or net revenue from continuing operations, and if the performance objective is met, the vesting restrictions will lapse in 1/3 increments on the first, second and third anniversary of the date of grant.  If the objectives are not met, the shares will be forfeited."
        ],
        [
         "2842191",
         "0000707605-12-000004",
         "P",
         "A",
         "0.999999999997814",
         "1",
         "Shares purchased through 401-K."
        ],
        [
         "3137579",
         "0001437749-12-012547",
         "J",
         "A",
         "0.8120624460894275",
         "1",
         "Except for the transaction set forth in this Form 4 filing, the number of securities directly held by the Reporting Person has not changed since his most recent Form 4 filing but the nature of his ownership of such securities has been modified to reflect the reclassification of certain securities previously identified as direct holdings to indirect holdings. Warrants issued in consideration for certain loans made by the Reporting Person to the Company. Warrants expire on the later of September 30, 2016 or one year following the termination or repayment of all amounts due and payable under the loan associated with the issuance of such warrants. Revolving $20 million convertible note dated September 19, 2012 (the \"Note\") between the Reporting Person and the Company.  The Note is convertible, at the Reporting Person's option, into shares of the Company's common stock at a fixed conversion price of $1.20 per share."
        ],
        [
         "3030315",
         "0001683168-20-001660",
         "J",
         "A",
         "1.0",
         "1",
         "Represent shares of common stock acquired through the Lantronix, Inc. 2013 Employee Stock Purchase Plan."
        ],
        [
         "790192",
         "0001225208-08-002278",
         "S",
         "D",
         "0.0900525862146798",
         "0",
         "Represents a portion of a restricted stock award that vested on February 4, 2008. Excludes dividends reinvested after 12/31/06."
        ],
        [
         "2210843",
         "0001179110-21-004305",
         "S",
         "D",
         "0.5180406154734094",
         "0",
         "The price reported in Column 4 is a weighted average price. These shares were sold in multiple transactions on April 5, 2021 at prices ranging from $47.3200 to $48.7550, inclusive, and on April 6, 2021 at prices ranging from $48.2000 to $49.0600, inclusive. The reporting person undertakes to provide to Bentley Systems, Incorporated, any security holder of Bentley Systems, Incorporated, or the staff of the Securities and Exchange Commission, upon request, full information regarding the number of shares sold at each separate price within the ranges set forth in this footnote. Each share of Class A common stock of the Issuer (\"Class A Common Stock\") is entitled to 29 votes per share and is convertible at any time into one share of the Issuer's Class B Common Stock. Shares of Class A Common Stock will automatically convert into shares of Class B Common Stock upon certain transfers described in the Issuer's Amended and Restated Certificate of Incorporation."
        ],
        [
         "1774782",
         "0001209191-13-025247",
         "S",
         "D",
         "0.999999999999856",
         "1",
         "The price reflects a weighted average of sales made at prices ranging from $92.39 to $92.97 per share.  The Reporting Person, upon request by the Securities and Exchange Commission staff, the issuer, or a security holder of the issuer, will provide full information regarding the number of shares sold at each separate price for this transaction. Acquired pursuant to the Issuer's 1994 Stock Incentive Plan, as amended. The option vested in four equal installments on each of March 9, 2006, March 9, 2007, March 9, 2008 and March 9, 2009."
        ],
        [
         "2583871",
         "0000914317-06-003221",
         "J",
         "A",
         "0.5243602233621381",
         "0",
         "Dividend Reinvestment Plan purchase as a result of cash dividend 5% Stock Dividend Plan Beginning 5/17/07 20% vesting per year"
        ],
        [
         "653690",
         "0001209191-11-056689",
         "S",
         "D",
         "0.2461711715465628",
         "0",
         "The sales reported in this Form 4 were effected pursuant to a Rule 10b5-1 trading plan adopted by the reporting person on October 28, 2011. The price reported in Column 4 is a weighted average price. These shares were sold in multiple transactions at prices ranging from $38.00 to $38.05. The reporting person undertakes to provide to Dorman Products, Inc., any security holder of Dorman Products, Inc. or the staff of the Securities and Exchange Commission, upon request, full information regarding the number of shares sold at each separate price within the range set forth in this footnote."
        ],
        [
         "940771",
         "0000911916-10-000128",
         "S",
         "D",
         "1.0",
         "1",
         "Securities acquired or sold pursuant to a written plan intended to comply with Rule 10b5-1(c)(1) adopted by Mr. McGoldrick on August 2, 2010. Represents the sale of 8,334 shares in 25 separate transactions, ranging in price from $52.28 to $52.4201 per share, resulting in a weighted average sale price of $52.3417.  The reporting person will provide, upon request by the SEC staff, the Issuer or a security holder of the Issuer, full information regarding the number of shares sold at each price within the range."
        ],
        [
         "1579243",
         "0001209191-18-057782",
         "S",
         "D",
         "0.999999999999972",
         "1",
         "Shares were sold in the open market. The shares were sold in multiple transactions and the price reported is a weighted average.  The sale price ranged from $14.18 to $14.24.  The reporting person undertakes to provide the issuer, any security holder of the issuer, or the staff of the Securities and Exchange Commission, upon request, full information regarding the number of shares sold at each separate price within the range set forth in this footnote. The shares were sold in multiple transactions and the price reported is a weighted average.  The sale price ranged from $14.31 to $14.35.  The reporting person undertakes to provide the issuer, any security holder of the issuer, or the staff of the Securities and Exchange Commission, upon request, full information regarding the number of shares sold at each separate price within the range set forth in this footnote."
        ],
        [
         "3055080",
         "0001104659-15-065148",
         "P",
         "A",
         "0.5243602233621381",
         "0",
         "These shares are owned directly by REI. The reporting person has a direct ownership interest in REI and an indirect ownership interest in REI through the Gary L. Carano S Corporation Trust (\"S Corporation Trust\") and the Gary L. Carano Qualified S Corporation Trust. The reporting person disclaims beneficial ownership of these securities, and this report shall not be deemed an admission that the reporting person is the beneficial owner of the securities for purposes of Section 16 or for any other purpose. These shares are owned directly by HCRI.  The reporting person is an indirect beneficial owner of interests held in HCRI by the S Corporation Trust.  The reporting person disclaims beneficial ownership of these securities, and this report shall not be deemed an admission that the reporting person is the beneficial owner of the securities for purposes of Section 16 or for any other purpose."
        ],
        [
         "2564086",
         "0000904454-09-000773",
         "P",
         "A",
         "0.9832762049630492",
         "1",
         "The Reporting Person is an asset manager licensed by the Netherlands Securities Regulator and manages assets of The Shell Group and its subsidiaries and affiliates, including certain pension plans organized for the benefit of employees of The Shell Group, which is a multi-national company headquartered in The Netherlands.  The shares reported herein are owned of record by such pension plans, and the Reporting Person disclaims beneficial ownership of such shares except to the extent of its pecuniary interest, if any, therein."
        ],
        [
         "1622081",
         "0001209191-17-017788",
         "S",
         "D",
         "0.9999998408201",
         "1",
         "The price reported in Column 4 is a weighted average price. These shares were sold in multiple transactions at prices ranging from $94.90 to $95.85, inclusive. Upon the request of any security holder of the Issuer, or the staff of the Securities and Exchange Commission, full information regarding the number of shares sold at each separate price within the ranges set forth in this Form 4 shall be provided. The price reported in Column 4 is a weighted average price. These shares were sold in multiple transactions at prices ranging from $95.90 to $96.85, inclusive. Upon the request of any security holder of the Issuer, or the staff of the Securities and Exchange Commission, full information regarding the number of shares sold at each separate price within the ranges set forth in this Form 4 shall be provided. The price reported in Column 4 is a weighted average price. These shares were sold in multiple transactions at prices ranging from $96.90 to $97.85, inclusive. Upon the request of any security holder of the Issuer, or the staff of the Securities and Exchange Commission, full information regarding the number of shares sold at each separate price within the ranges set forth in this Form 4 shall be provided. The price reported in Column 4 is a weighted average price. These shares were sold in multiple transactions at prices ranging from $97.90 to $98.20, inclusive. Upon the request of any security holder of the Issuer, or the staff of the Securities and Exchange Commission, full information regarding the number of shares sold at each separate price within the ranges set forth in this Form 4 shall be provided. 25% of the shares subject to this option vested on May 23, 2014, and an additional 25% of the shares subject to this option vest annually thereafter, such that 100% of the shares subject to this option will be fully vested on May 23, 2017. This option also provides for accelerated vesting in the event that the Reporting Person's employment is terminated in connection with an acquisition of the Issuer."
        ],
        [
         "2503947",
         "0001209191-10-045903",
         "J",
         "A",
         "0.9866649655833712",
         "1",
         "Right to buy.  Includes right to have shares withheld to satisfy tax withholding obligations upon exercise. Award pursuant to the Company's Stock Incentive Plan which includes the right to have shares withheld to satisfy tax withholding obligations upon exercise. Granted pursuant to the 1986 Stock Incentive Plan and exercisable in annual installments of 33.3% per year beginning on September 9, 2011."
        ],
        [
         "2054890",
         "0001209191-14-044860",
         "S",
         "D",
         "0.8307632890498289",
         "1",
         "Each share of Class B Common Stock is convertible at any time at the option of the Reporting Person into one share of Class A Common Stock and has no expiration date.  The Class B Common Stock is also convertible into Class A Common Stock on the same basis upon any transfer, whether or not for value, except for \"Permitted Transfers\" as defined in the Issuer's restated certificate of incorporation in effect as of the date hereof.  Each share of Class B Common Stock will convert automatically into one share of Class A Common Stock upon the date when the outstanding shares of Class B Common Stock represent less than 10% of the aggregate number of shares of Common Stock then outstanding. The Form 4 for the Reporting Person filed on June 25, 2014 reported 665,443 shares of Class B Common Stock beneficially owned following the reported transaction, however, the correct amount to be reported was 658,443 shares of Class B Common Stock."
        ],
        [
         "1968994",
         "0000096943-21-000100",
         "S",
         "D",
         "0.999999999999972",
         "1",
         "Transaction effected pursuant to a Rule 10b5-1 trading plan established by the reporting person on May 21, 2021. This transaction was executed in multiple trades at prices ranging from $374.02 to $375.02. The price reported reflects the weighted average sale price. The reporting person hereby undertakes to provide, upon request, to the SEC staff, the issuer or a security holder of the issuer full information regarding the number of shares and prices at which the transaction was effected. This transaction was executed in multiple trades at prices ranging from $375.03 to $376.03. The price reported reflects the weighted average sale price. The reporting person hereby undertakes to provide, upon request, to the SEC staff, the issuer or a security holder of the issuer full information regarding the number of shares and prices at which the transaction was effected. This transaction was executed in multiple trades at prices ranging from $376.05 to $377.02. The price reported reflects the weighted average sale price. The reporting person hereby undertakes to provide, upon request, to the SEC staff, the issuer or a security holder of the issuer full information regarding the number of shares and prices at which the transaction was effected. This transaction was executed in multiple trades at prices ranging from $377.06 to $377.98. The price reported reflects the weighted average sale price. The reporting person hereby undertakes to provide, upon request, to the SEC staff, the issuer or a security holder of the issuer full information regarding the number of shares and prices at which the transaction was effected. This transaction was executed in multiple trades at prices ranging from $378.195 to $379.15. The price reported reflects the weighted average sale price. The reporting person hereby undertakes to provide, upon request, to the SEC staff, the issuer or a security holder of the issuer full information regarding the number of shares and prices at which the transaction was effected. Exercisable for one-third of the shares on each of 2/28/2013, 2/28/2014 and 2/28/2015."
        ],
        [
         "1649495",
         "0001209191-14-003572",
         "S",
         "D",
         "0.0900525862146798",
         "0",
         "The shares were sold pursuant to a 10b5-1 Sales Plan dated November 15, 2013. 1/48th of the total number of shares subject to the option vested or shall vest and became or shall become exercisable on the 2nd day of each month until fully vested 48 months after the August 2, 2010 date of grant."
        ],
        [
         "746108",
         "0001209191-11-021585",
         "S",
         "D",
         "0.2461711715465628",
         "0",
         "The option exercise and the sale of shares associated with the exercise reported in this Form 4 were effected pursuant to a Rule 10b5-1 Sales Plan adopted by the reporting person on August 6, 2010. Shares held in trust under the MetLife Policyholder Trust established to hold shares of Common Stock allocated to eligible policyholders of Metropolitan Life Insurance Company, a wholly-owned subsidiary of MetLife, Inc. The option vested in three equal installments on February 19, 2003, 2004, and 2005"
        ],
        [
         "2730497",
         "0001144204-09-056392",
         "P",
         "A",
         "0.5",
         "0",
         "These RSU's of the Issuer, a portion of which are subject to achievement by the Issuer of financial performance targets, are  held by Affiliates of the Reporting Person, including: Nadal Investments Limited, Nadal Management Limited, and certain  retirement accounts, and trusts maintained for the benefit of the children of the Reporting Person. SAR's granted February 12, 2009, vest 33% on the first anniversary of the grant date, 33% on the second anniversary of the  grant date, and 34% on the third anniversary of the grant date, and expire on February 12, 2014.  These SAR's may be settled  in cash or stock, at the discretion of the Issuer. Held by an Affiliate of the Reporting Person."
        ],
        [
         "2981847",
         "0001225208-11-017279",
         "J",
         "A",
         "0.9815946923358568",
         "1",
         "Acquisition under IFF's 401(k) Plan. Closing market price on date of acquisition under IFF's 401(k) Plan. Includes holdings under the 401(k) Plan representing 191 shares.  The information is presented as of June 30, 2011."
        ],
        [
         "767053",
         "0000863157-10-000014",
         "J",
         "D",
         "0.9999977820477242",
         "1",
         "Held in the Del Santo Survivor's Trust, Lawrence Del Santo sole trustee."
        ],
        [
         "1519003",
         "0001144204-09-002627",
         "S",
         "D",
         "0.5180406154734094",
         "0",
         "Sole equity owner of Riley Investment Management LLC, general partner of Riley Investment Partners Master Fund, L.P. Sole equity owner of Riley Investment Management LLC, investment advisor to managed accounts, some of which are indirectly affiliated with Riley Investment Partners Master Fund, L.P. Mr. Riley was elected to the Issuer's Board of Directors on September 18, 2008, on which date the Issuer granted him this standard initial stock option in accordance with the Issuer's 2000 Equity Incentive Plan and policies regarding compensation of its non-employee directors. The option vests over three years at a rate of one-third of the total shares on the first anniversary of the date of grant, and 2.77778% of the total shares each month thereafter, so long as the non-employee director continues to provide services to the Issuer as a director or consultant. In the event of the Issuer's dissolution, liquidation or change in control, each of these options will vest and be exercisable in full."
        ],
        [
         "1868744",
         "0001104659-17-052251",
         "S",
         "D",
         "0.9999998519068866",
         "1",
         "The sales reported on this Form 4 were effected pursuant to a trading plan adopted pursuant to Rule 10b5-1 under the Securities Exchange Act of 1934, as amended."
        ],
        [
         "112674",
         "0001144204-10-010949",
         "S",
         "D",
         "0.5180406154734094",
         "0",
         "In a private transaction dated September 14, 2009, Mr. Bagerdjian purchased 347,826 shares and an option to purchase 586,957  additional shares for a purchase price of $1.15 per share.  The option expires on September 1, 2010.  Seller has the right  to cause Mr. Bagerdjian to purchase the additional shares for $1.15 per share in nine monthly increments of 65,217 shares  beginning on December 1, 2009.  On March 1, 2010 Mr. Bagerdjian purchased an additional 65,217 shares pursuant to the right  to buy. Represents the remaining shares subject to the right or obligation to buy."
        ],
        [
         "3042608",
         "0001591986-21-000012",
         "P",
         "A",
         "0.1904452615276416",
         "0",
         "The reporting persons are Aquilo Capital, L.P. (the \"Fund\"), Aquilo Capital Management, LLC (\"Aquilo\") and Marc R. Schneidman. Aquilo is the general partner and investment adviser of the Fund and other funds managed by Aquilo that hold securities directly for the benefit of their investors. Aquilo may be deemed to beneficially own such securities indirectly as the investment adviser and general partner of the Fund and affiliated funds, and Mr. Schneidman may be deemed to beneficially own them indirectly as the control person of Aquilo. Each of, Aquilo, the Fund and Mr. Schneidman disclaims beneficial ownership of such securities except to the extent of his or its pecuniary interest therein. Aquilo Capital, LP owns only 3,378,881 of the 4,309,385 shares deemed to be beneficially owned by Aquilo Capital Management, LLC. Aquilo Capital, LP did not purchase any of the 44,042 shares purchased in this transaction on 08/30/2021. Aquilo Capital, LP owns only 3,378,881 of the 4,358,030 shares deemed to be beneficially owned by Aquilo Capital Management, LLC. Aquilo Capital, LP did not purchase any of the 48,645 shares purchased in this transaction on 08/31/2021."
        ],
        [
         "761142",
         "0001463101-19-000135",
         "S",
         "D",
         "0.9999999999999698",
         "1",
         "The sales reported on this Form 4 were made pursuant to a Rule 10b5-1 trading plan adopted by the Reporting Person on May 9, 2019. Represents a weighted average sales price per share. These shares were sold in multiple transactions at prices ranging from $28.50 to $29.49. The reporting person has provided to the issuer, and undertakes to provide to the staff of the Commission or any security holder of the issuer, upon request, full information regarding the number of shares sold at each separate price within the range. Represents a weighted average sales price per share. These shares were sold in multiple transactions at prices ranging from $29.50 to $29.89. The reporting person has provided to the issuer, and undertakes to provide to the staff of the Commission or any security holder of the issuer, upon request, full information regarding the number of shares sold at each separate price within the range. Represents a weighted average sales price per share. These shares were sold in multiple transactions at prices ranging from $26.78 to 27.77. The reporting person has provided to the issuer, and undertakes to provide to the staff of the Commission or any security holder of the issuer, upon request, full information regarding the number of shares sold at each separate price within the range. Represents a weighted average sales price per share. These shares were sold in multiple transactions at prices ranging from $27.78 to $28.10. The reporting person has provided to the issuer, and undertakes to provide to the staff of the Commission or any security holder of the issuer, upon request, full information regarding the number of shares sold at each separate price within the range."
        ],
        [
         "2112303",
         "0001137411-17-000122",
         "S",
         "D",
         "0.8336725094708345",
         "1",
         "These transactions were effected pursuant to a Rule 10b5-1 trading plan adopted by the reporting person on November 1, 2017. Includes shares acquired under the Company's employee stock purchase plan and based on information furnished by the Plan Administrator as of November 1, 2017. The price reported is a weighted average.  These shares were sold in multiple transactions at prices ranging from $133.50 to $134.40, inclusive.  The reporting person undertakes to provide to the staff of the Securities and Exchange Commission, or other appropriate persons, upon request, full information regarding the number of shares sold at each separate price within the range set forth in this Form 4. Shares represented by Company stock fund units under the Company's tax-qualified savings plan, including shares acquired on a periodic basis pursuant to the Plan, based on information furnished by the Plan Administrator as of November 1, 2017. Employee stock options granted pursuant to the Company's stock based plan. The options vest in three substantially equal annual installments beginning 9 years prior to the option expiration date."
        ],
        [
         "1099625",
         "0001122904-18-000242",
         "S",
         "D",
         "0.9999983915494854",
         "1",
         "The exercise and sale reported in this Form 4 were effected pursuant to a Rule 10b5-1 trading plan adopted by the reporting person on April 28, 2017. This Option shall be exercisable, in whole or in part, in accordance with the following schedule: 25% of the Shares subject to the Option shall vest twelve months after the Vesting Start Date, and 1/48 of the Shares subject to the Option shall vest each month thereafter, subject to the Optionee continuing to be a Service Provider on such dates. This Option shall be exercisable, in whole or in part, in accordance with the following schedule: 25% of the Shares subject to the Option shall vest twelve months after the Vesting Start Date, June 1, 2017, and 1/48 of the Shares subject to the Option shall vest each month thereafter, subject to the Optionee continuing to be a Service Provider on such dates."
        ],
        [
         "335581",
         "0001170791-12-000005",
         "S",
         "D",
         "0.6378534910230506",
         "0",
         "The reporting person controls the investment decisions of a limited liability company that owns the security.  The limited liability company is owned by a limited partnership in which the reporting person owns an indirect interest. It is anticipated that this sale will be completed within the next five business days."
        ],
        [
         "427698",
         "0001209191-12-041869",
         "S",
         "D",
         "0.8441992076993141",
         "1",
         "These sales are pursuant to a Rule 10b5-1 plan dated August 6, 2012. The sale prices for this transaction ranged from $94.59 to $95.56. The filer hereby agrees to provide, upon request by the Commission staff, the issuer or a security holder of the issuer, full information regarding the number of shares sold at each separate price. The sale prices for this transaction ranged from $95.63 to $96.41. The filer hereby agrees to provide, upon request by the Commission staff, the issuer or a security holder of the issuer, full information regarding the number of shares sold at each separate price."
        ],
        [
         "859077",
         "0001179110-11-003756",
         "S",
         "D",
         "0.0900525862146798",
         "0",
         "This sale was effected pursuant to a rule 10b5-1 trading plan adopted by the reporting person on December 12, 2007 This transaction was executed in multiple trades at prices ranging from $13.81 to $13.84. The price reported above reflects the weighted average sale price. The reporting person hereby undertakes to provide upon request to the SEC staff, the issuer or a security holder of the issuer full information regarding the number of shares and prices at which the transaction was effected."
        ],
        [
         "2344375",
         "0001324592-08-000159",
         "P",
         "A",
         "0.9815946923358568",
         "1",
         "Includes common units granted to the Reporting Person that have restricted vesting dates and are subject to forfeiture. The power of attorney under which this form was signed is on file with the Commission."
        ],
        [
         "2180213",
         "0001628280-20-009808",
         "S",
         "D",
         "0.8203694742821195",
         "1",
         "As of the date of this report, all shares underlying the options have vested."
        ],
        [
         "848052",
         "0001228379-12-000161",
         "S",
         "D",
         "1.0",
         "1",
         "Weighted average of sales prices.  Actual prices range from $65.67 to $65.76.  Information regarding the number of shares sold at each separate price will be provided upon request by the Staff of the Securities and Exchange Commission, Sempra Energy or any security holder of Sempra Energy. Employee stock options to purchase Sempra Energy Common Stock granted on the date and as to the original number of shares indicated parenthetically.  Exercisable in cumulative installments as to one-fourth of the original grant on each of the first four anniversaries of the original grant date.  Expire ten years from original grant date or following earlier termination of employment. Not applicable."
        ],
        [
         "876806",
         "0001082554-06-000134",
         "G",
         "D",
         "0.5",
         "0",
         "Charitable gifts. Includes 1,158 shares held by a family limited liability company of which the reporting person and his spouse are managing members."
        ],
        [
         "2836302",
         "0001144204-19-027138",
         "P",
         "A",
         "0.9999999999950778",
         "1",
         "The price reported in Column 4 is a weighted average price. The units were acquired in multiple transactions at prices ranging from $7.30 to $7.50, inclusive. The Reporting Person undertakes to provide to the Issuer, any security holder of the Issuer, or the staff of the Securities and Exchange Commission, upon request, full information regarding the number of units acquired at each separate price within the ranges set forth in this footnote."
        ],
        [
         "1690463",
         "0001013594-09-000791",
         "S",
         "D",
         "0.9999999855087132",
         "1",
         "DellaCamera Capital Management, LLC (\"DCM\") acts as the investment manager of the DellaCamera Capital Master Fund, Ltd. (the  \"Master Fund\"). DellaCamera Capital Fund, Ltd. (the \"Offshore Fund\") is the controlling shareholder of the Master Fund.  Ralph DellaCamera, Jr., Andrew Kurtz and Vincent Spinnato are the controlling persons of DCM (collectively, Messrs.  DellaCamera, Kurtz and Spinnato shall be referred to as the \"Controlling Persons\"). DCM, the Offshore Fund and each Controlling Person may each be deemed to indirectly beneficially own the securities reported  herein held by the Master Fund.  For purposes of this Form 4, DCM, the Offshore Fund and each Controlling Person each  disclaims ownership of the securities reported herein owned by the Master Fund, except to the extent of their pecuniary  interest therein."
        ],
        [
         "2037848",
         "0001209191-17-047924",
         "S",
         "D",
         "0.9999996257979288",
         "1",
         "Each share of Class A Common Stock issued upon conversion of one share of Class B Common Stock at the election of the reporting person. Reflects shares of Class B Common Stock (convertible into a like number of shares of Class A Common Stock) held of record by Dagmar Dolby as the Trustee of the Dagmar Dolby 2017 Trust BB, dated May 25, 2017 (the \"Dagmar Dolby 2017 Trust BB\"), voting power of which is held by David E. Dolby as Special Trustee of the Dagmar Dolby 2017 Trust BB. This report is filed by Dagmar Dolby with respect to the securities held by the Dagmar Dolby 2017 Trust BB. The reporting person disclaims beneficial ownership of these securities except to the extent of her pecuniary interest therein. Reflects shares of Class B Common Stock (convertible into a like number of shares of Class A Common Stock) held of record by Dolby Holdings II LLC, a limited liability company (the \"Family LLC\"), investment power of which is held by Dagmar Dolby, manager of the Family LLC, and voting power of which is held by (i) Thomas E. Dolby, a special manager of the Family LLC, with respect to 50% of such shares, and (ii) David E. Dolby, a special manager of the Family LLC, with respect to 50% of such shares. This report is filed by Dagmar Dolby with respect to the securities held by the Family LLC.  The reporting person disclaims beneficial ownership of these securities except to the extent of her pecuniary interest therein. Reflects shares of Class B Common Stock (as converted or convertible, as applicable, into a like number of shares of Class A Common Stock) held of record by Dagmar Dolby as the Trustee of the Dagmar Dolby Trust under the Dolby Family Trust instrument, dated May 7, 1999 (the \"Dagmar Dolby Trust\"), voting power of which is shared by the Trustee and David E. Dolby, son of Dagmar Dolby, as Special Trustee of the Dagmar Dolby Trust. This report is filed jointly by Dagmar Dolby and the Dagmar Dolby Trust with respect to the securities held and transactions effected by the Dagmar Dolby Trust. The reporting persons disclaim beneficial ownership of these securities except to the extent of their respective pecuniary interest therein. The shares were sold in multiple transactions at prices ranging from $51.12 to $51.59, inclusive. The price reported reflects the weighted average sale price. The reporting person hereby undertakes to provide upon request to the Securities and Exchange Commission staff, the Issuer or a security holder of the Issuer full information regarding the number of shares and prices at which the transactions were effected. The shares were sold in multiple transactions at prices ranging from $50.72 to $51.53, inclusive. The price reported reflects the weighted average sale price. The reporting person hereby undertakes to provide upon request to the Securities and Exchange Commission staff, the Issuer or a security holder of the Issuer full information regarding the number of shares and prices at which the transactions were effected. Shares of Class B Common Stock are convertible, at no cost, at any time at the option of the holder into shares of Class A Common Stock on a 1-for-1 basis. Reflects shares of Class B Common Stock (convertible into a like number of shares of Class A Common Stock) held of record by Dagmar Dolby as the Trustee of the Ray Dolby 2002 Trust A, dated April 19, 2002 (the \"Ray Dolby 2002 Trust A\"), voting power of which is held by Thomas E. Dolby, son of Dagmar Dolby, as Special Trustee of the Ray Dolby 2002 Trust A.  This report is filed by Dagmar Dolby with respect to the securities held by the Ray Dolby 2002 Trust A.  The reporting person disclaims beneficial ownership of these securities except to the extent of her pecuniary interest therein. Reflects shares of Class B Common Stock (convertible into a like number of shares of Class A Common Stock) held of record by Dagmar Dolby as the Trustee of the Ray Dolby 2002 Trust B, dated April 19, 2002 (the \"Ray Dolby 2002 Trust B\"), voting power of which is held by David E. Dolby as Special Trustee of the Ray Dolby 2002 Trust B. This report is filed by Dagmar Dolby with respect to the securities held by the Ray Dolby 2002 Trust B.  The reporting person disclaims beneficial ownership of these securities except to the extent of her pecuniary interest therein. Reflects shares of Class B Common Stock (convertible into a like number of shares of Class A Common Stock) held of record by Dagmar Dolby as the Trustee of the Marital Trust under the Dolby Family Trust instrument, dated May 7, 1999 (the \"Marital Trust\"), voting power of which is shared by the Trustee and David E. Dolby as Special Trustee of the Marital Trust. This report is filed by Dagmar Dolby with respect to the securities held by the Marital Trust.  The reporting person disclaims beneficial ownership of these securities except to the extent of her pecuniary interest therein. Reflects shares of Class B Common Stock (convertible into a like number of shares of Class A Common Stock) held of record by Dagmar Dolby as the Trustee of the Dagmar Dolby 2016 Trust BB, dated March 23, 2016 (the \"Dagmar Dolby 2016 Trust BB\"), voting power of which is held by David E. Dolby as Special Trustee of the Dagmar Dolby 2016 Trust BB. This report is filed by Dagmar Dolby with respect to the securities held by the Dagmar Dolby 2016 Trust BB.  The reporting person disclaims beneficial ownership of these securities except to the extent of her pecuniary interest therein."
        ],
        [
         "956117",
         "0001209191-16-142557",
         "S",
         "D",
         "1.0",
         "1",
         "The shares are held of record by Daniel J. Levin and Naomi J. Andrews, as Trustees of the Levin/Andrews Family Trust. The reported sales were effected pursuant to a Rule 10b5-1 trading plan adopted by the Reporting Person on October 7, 2015. This sale price represents the weighted average sale price of the shares sold ranging from $14.47 to $14.75 per share. Upon request by the Commission staff, the Issuer, or a security holder of the Issuer, the Reporting Person will provide full information regarding the number of shares sold at each separate price within the range set forth in this Form 4. Includes 673 shares acquired by the Reporting Person pursuant to the Issuer's Employee Stock Purchase Plan. Each share of Class B Common Stock is convertible into one share of Class A Common Stock at the option of the holder and has no expiration date."
        ],
        [
         "525717",
         "0000851520-20-000101",
         "S",
         "D",
         "0.999999999999972",
         "1",
         "Per 10b5-1 trading plan entered into on February 28, 2020. The stock option becomes exercisable in four equal annual installments. Not applicable."
        ],
        [
         "1488517",
         "0001209191-08-009555",
         "S",
         "D",
         "1.0",
         "1",
         "These sales of common stock were effected pursuant to a Rule 10b5-1 sales plan adopted by the reporting person on December 5, 2006.  The reporting person also continues to indirectly own 12,298 shares of common stock held by Morgan Stanley DW Inc. as Custodian for Randal W. Scott, IRA."
        ]
       ],
       "shape": {
        "columns": 6,
        "rows": 659376
       }
      },
      "text/html": [
       "<div>\n",
       "<style scoped>\n",
       "    .dataframe tbody tr th:only-of-type {\n",
       "        vertical-align: middle;\n",
       "    }\n",
       "\n",
       "    .dataframe tbody tr th {\n",
       "        vertical-align: top;\n",
       "    }\n",
       "\n",
       "    .dataframe thead th {\n",
       "        text-align: right;\n",
       "    }\n",
       "</style>\n",
       "<table border=\"1\" class=\"dataframe\">\n",
       "  <thead>\n",
       "    <tr style=\"text-align: right;\">\n",
       "      <th></th>\n",
       "      <th>ACCESSION_NUMBER</th>\n",
       "      <th>TRANS_CODE</th>\n",
       "      <th>TRANS_ACQUIRED_DISP_CD</th>\n",
       "      <th>probability</th>\n",
       "      <th>prediction</th>\n",
       "      <th>FOOTNOTE_TXT</th>\n",
       "    </tr>\n",
       "  </thead>\n",
       "  <tbody>\n",
       "    <tr>\n",
       "      <th>1009753</th>\n",
       "      <td>0001209191-14-064158</td>\n",
       "      <td>S</td>\n",
       "      <td>D</td>\n",
       "      <td>0.090053</td>\n",
       "      <td>0</td>\n",
       "      <td>The shares covered by this Form 4 have been so...</td>\n",
       "    </tr>\n",
       "    <tr>\n",
       "      <th>563383</th>\n",
       "      <td>0001209191-07-026217</td>\n",
       "      <td>S</td>\n",
       "      <td>D</td>\n",
       "      <td>0.090053</td>\n",
       "      <td>0</td>\n",
       "      <td>Dividend reinvestment shares acquired. Sale pu...</td>\n",
       "    </tr>\n",
       "    <tr>\n",
       "      <th>473193</th>\n",
       "      <td>0001127602-16-060288</td>\n",
       "      <td>S</td>\n",
       "      <td>D</td>\n",
       "      <td>1.000000</td>\n",
       "      <td>1</td>\n",
       "      <td>1 for 1 Units are to be settled in cash after ...</td>\n",
       "    </tr>\n",
       "    <tr>\n",
       "      <th>3018219</th>\n",
       "      <td>0001127602-18-036365</td>\n",
       "      <td>P</td>\n",
       "      <td>A</td>\n",
       "      <td>0.524360</td>\n",
       "      <td>0</td>\n",
       "      <td>Shares purchased pursuant to 10b5-1 plan 2018-...</td>\n",
       "    </tr>\n",
       "    <tr>\n",
       "      <th>274662</th>\n",
       "      <td>0000721683-15-000040</td>\n",
       "      <td>S</td>\n",
       "      <td>D</td>\n",
       "      <td>0.090053</td>\n",
       "      <td>0</td>\n",
       "      <td>Includes shares acquired through exempt purcha...</td>\n",
       "    </tr>\n",
       "    <tr>\n",
       "      <th>...</th>\n",
       "      <td>...</td>\n",
       "      <td>...</td>\n",
       "      <td>...</td>\n",
       "      <td>...</td>\n",
       "      <td>...</td>\n",
       "      <td>...</td>\n",
       "    </tr>\n",
       "    <tr>\n",
       "      <th>2959064</th>\n",
       "      <td>0001209191-11-060642</td>\n",
       "      <td>P</td>\n",
       "      <td>A</td>\n",
       "      <td>0.500000</td>\n",
       "      <td>0</td>\n",
       "      <td>This Form 4 is a joint filing with the sole ow...</td>\n",
       "    </tr>\n",
       "    <tr>\n",
       "      <th>97575</th>\n",
       "      <td>0001209191-07-061951</td>\n",
       "      <td>J</td>\n",
       "      <td>D</td>\n",
       "      <td>1.000000</td>\n",
       "      <td>1</td>\n",
       "      <td>The reporting person expressly disclaims benef...</td>\n",
       "    </tr>\n",
       "    <tr>\n",
       "      <th>2129281</th>\n",
       "      <td>0001209191-20-041272</td>\n",
       "      <td>G</td>\n",
       "      <td>D</td>\n",
       "      <td>0.999998</td>\n",
       "      <td>1</td>\n",
       "      <td>Represents shares that have been withheld by t...</td>\n",
       "    </tr>\n",
       "    <tr>\n",
       "      <th>2741225</th>\n",
       "      <td>0001292960-09-000002</td>\n",
       "      <td>I</td>\n",
       "      <td>A</td>\n",
       "      <td>1.000000</td>\n",
       "      <td>1</td>\n",
       "      <td>Includes shares for restricted stock grants:  ...</td>\n",
       "    </tr>\n",
       "    <tr>\n",
       "      <th>1248061</th>\n",
       "      <td>0001418091-20-000232</td>\n",
       "      <td>S</td>\n",
       "      <td>D</td>\n",
       "      <td>1.000000</td>\n",
       "      <td>1</td>\n",
       "      <td>The reported price in Column 4 is a weighted a...</td>\n",
       "    </tr>\n",
       "  </tbody>\n",
       "</table>\n",
       "<p>659376 rows × 6 columns</p>\n",
       "</div>"
      ],
      "text/plain": [
       "             ACCESSION_NUMBER TRANS_CODE TRANS_ACQUIRED_DISP_CD  probability  \\\n",
       "1009753  0001209191-14-064158          S                      D     0.090053   \n",
       "563383   0001209191-07-026217          S                      D     0.090053   \n",
       "473193   0001127602-16-060288          S                      D     1.000000   \n",
       "3018219  0001127602-18-036365          P                      A     0.524360   \n",
       "274662   0000721683-15-000040          S                      D     0.090053   \n",
       "...                       ...        ...                    ...          ...   \n",
       "2959064  0001209191-11-060642          P                      A     0.500000   \n",
       "97575    0001209191-07-061951          J                      D     1.000000   \n",
       "2129281  0001209191-20-041272          G                      D     0.999998   \n",
       "2741225  0001292960-09-000002          I                      A     1.000000   \n",
       "1248061  0001418091-20-000232          S                      D     1.000000   \n",
       "\n",
       "         prediction                                       FOOTNOTE_TXT  \n",
       "1009753           0  The shares covered by this Form 4 have been so...  \n",
       "563383            0  Dividend reinvestment shares acquired. Sale pu...  \n",
       "473193            1  1 for 1 Units are to be settled in cash after ...  \n",
       "3018219           0  Shares purchased pursuant to 10b5-1 plan 2018-...  \n",
       "274662            0  Includes shares acquired through exempt purcha...  \n",
       "...             ...                                                ...  \n",
       "2959064           0  This Form 4 is a joint filing with the sole ow...  \n",
       "97575             1  The reporting person expressly disclaims benef...  \n",
       "2129281           1  Represents shares that have been withheld by t...  \n",
       "2741225           1  Includes shares for restricted stock grants:  ...  \n",
       "1248061           1  The reported price in Column 4 is a weighted a...  \n",
       "\n",
       "[659376 rows x 6 columns]"
      ]
     },
     "execution_count": 21,
     "metadata": {},
     "output_type": "execute_result"
    }
   ],
   "source": [
    "sampled_df"
   ]
  },
  {
   "cell_type": "markdown",
   "metadata": {},
   "source": [
    "### Create prepocessed text from footnote and also create TF-IDF vector for word importance"
   ]
  },
  {
   "cell_type": "code",
   "execution_count": 22,
   "metadata": {},
   "outputs": [],
   "source": [
    "text = sampled_df[\"FOOTNOTE_TXT\"]\n",
    "sampled_df[\"processed_txt\"] = sampled_df[\"FOOTNOTE_TXT\"].apply(lambda row: preprocess_text(row))\n",
    "\n",
    "# processed = np.array([preprocess_text(x) for x in text])\n",
    "vectorizer = TfidfVectorizer(stop_words='english', sublinear_tf=True, max_features=500)\n",
    "X = vectorizer.fit_transform(sampled_df[\"processed_txt\"])\n",
    "\n",
    "# Convert to DataFrame\n",
    "tfidf_df = pd.DataFrame(X.toarray(), columns=vectorizer.get_feature_names_out())\n"
   ]
  },
  {
   "cell_type": "code",
   "execution_count": 23,
   "metadata": {},
   "outputs": [
    {
     "data": {
      "application/vnd.microsoft.datawrangler.viewer.v0+json": {
       "columns": [
        {
         "name": "index",
         "rawType": "int64",
         "type": "integer"
        },
        {
         "name": "accordance",
         "rawType": "float64",
         "type": "float"
        },
        {
         "name": "accordingly",
         "rawType": "float64",
         "type": "float"
        },
        {
         "name": "account",
         "rawType": "float64",
         "type": "float"
        },
        {
         "name": "accrue",
         "rawType": "float64",
         "type": "float"
        },
        {
         "name": "achieve",
         "rawType": "float64",
         "type": "float"
        },
        {
         "name": "achievement",
         "rawType": "float64",
         "type": "float"
        },
        {
         "name": "acquire",
         "rawType": "float64",
         "type": "float"
        },
        {
         "name": "acquisition",
         "rawType": "float64",
         "type": "float"
        },
        {
         "name": "act",
         "rawType": "float64",
         "type": "float"
        },
        {
         "name": "actual",
         "rawType": "float64",
         "type": "float"
        },
        {
         "name": "actually",
         "rawType": "float64",
         "type": "float"
        },
        {
         "name": "addition",
         "rawType": "float64",
         "type": "float"
        },
        {
         "name": "additional",
         "rawType": "float64",
         "type": "float"
        },
        {
         "name": "adjust",
         "rawType": "float64",
         "type": "float"
        },
        {
         "name": "adjustment",
         "rawType": "float64",
         "type": "float"
        },
        {
         "name": "administrator",
         "rawType": "float64",
         "type": "float"
        },
        {
         "name": "admission",
         "rawType": "float64",
         "type": "float"
        },
        {
         "name": "adopt",
         "rawType": "float64",
         "type": "float"
        },
        {
         "name": "adviser",
         "rawType": "float64",
         "type": "float"
        },
        {
         "name": "advisor",
         "rawType": "float64",
         "type": "float"
        },
        {
         "name": "affiliate",
         "rawType": "float64",
         "type": "float"
        },
        {
         "name": "aggregate",
         "rawType": "float64",
         "type": "float"
        },
        {
         "name": "agreement",
         "rawType": "float64",
         "type": "float"
        },
        {
         "name": "aiv",
         "rawType": "float64",
         "type": "float"
        },
        {
         "name": "allocate",
         "rawType": "float64",
         "type": "float"
        },
        {
         "name": "amend",
         "rawType": "float64",
         "type": "float"
        },
        {
         "name": "amended",
         "rawType": "float64",
         "type": "float"
        },
        {
         "name": "amendment",
         "rawType": "float64",
         "type": "float"
        },
        {
         "name": "american",
         "rawType": "float64",
         "type": "float"
        },
        {
         "name": "andor",
         "rawType": "float64",
         "type": "float"
        },
        {
         "name": "anniversary",
         "rawType": "float64",
         "type": "float"
        },
        {
         "name": "annual",
         "rawType": "float64",
         "type": "float"
        },
        {
         "name": "annually",
         "rawType": "float64",
         "type": "float"
        },
        {
         "name": "annuity",
         "rawType": "float64",
         "type": "float"
        },
        {
         "name": "applicable",
         "rawType": "float64",
         "type": "float"
        },
        {
         "name": "appreciation",
         "rawType": "float64",
         "type": "float"
        },
        {
         "name": "approve",
         "rawType": "float64",
         "type": "float"
        },
        {
         "name": "approximately",
         "rawType": "float64",
         "type": "float"
        },
        {
         "name": "asset",
         "rawType": "float64",
         "type": "float"
        },
        {
         "name": "associate",
         "rawType": "float64",
         "type": "float"
        },
        {
         "name": "automatic",
         "rawType": "float64",
         "type": "float"
        },
        {
         "name": "automatically",
         "rawType": "float64",
         "type": "float"
        },
        {
         "name": "available",
         "rawType": "float64",
         "type": "float"
        },
        {
         "name": "average",
         "rawType": "float64",
         "type": "float"
        },
        {
         "name": "award",
         "rawType": "float64",
         "type": "float"
        },
        {
         "name": "baker",
         "rawType": "float64",
         "type": "float"
        },
        {
         "name": "balance",
         "rawType": "float64",
         "type": "float"
        },
        {
         "name": "bancorp",
         "rawType": "float64",
         "type": "float"
        },
        {
         "name": "bank",
         "rawType": "float64",
         "type": "float"
        },
        {
         "name": "base",
         "rawType": "float64",
         "type": "float"
        },
        {
         "name": "based",
         "rawType": "float64",
         "type": "float"
        },
        {
         "name": "basis",
         "rawType": "float64",
         "type": "float"
        },
        {
         "name": "begin",
         "rawType": "float64",
         "type": "float"
        },
        {
         "name": "behalf",
         "rawType": "float64",
         "type": "float"
        },
        {
         "name": "beneficial",
         "rawType": "float64",
         "type": "float"
        },
        {
         "name": "beneficially",
         "rawType": "float64",
         "type": "float"
        },
        {
         "name": "beneficiary",
         "rawType": "float64",
         "type": "float"
        },
        {
         "name": "benefit",
         "rawType": "float64",
         "type": "float"
        },
        {
         "name": "blackstone",
         "rawType": "float64",
         "type": "float"
        },
        {
         "name": "board",
         "rawType": "float64",
         "type": "float"
        },
        {
         "name": "broker",
         "rawType": "float64",
         "type": "float"
        },
        {
         "name": "business",
         "rawType": "float64",
         "type": "float"
        },
        {
         "name": "buy",
         "rawType": "float64",
         "type": "float"
        },
        {
         "name": "bv",
         "rawType": "float64",
         "type": "float"
        },
        {
         "name": "capacity",
         "rawType": "float64",
         "type": "float"
        },
        {
         "name": "capital",
         "rawType": "float64",
         "type": "float"
        },
        {
         "name": "cash",
         "rawType": "float64",
         "type": "float"
        },
        {
         "name": "cayman",
         "rawType": "float64",
         "type": "float"
        },
        {
         "name": "certain",
         "rawType": "float64",
         "type": "float"
        },
        {
         "name": "certificate",
         "rawType": "float64",
         "type": "float"
        },
        {
         "name": "chairman",
         "rawType": "float64",
         "type": "float"
        },
        {
         "name": "change",
         "rawType": "float64",
         "type": "float"
        },
        {
         "name": "charitable",
         "rawType": "float64",
         "type": "float"
        },
        {
         "name": "chief",
         "rawType": "float64",
         "type": "float"
        },
        {
         "name": "child",
         "rawType": "float64",
         "type": "float"
        },
        {
         "name": "class",
         "rawType": "float64",
         "type": "float"
        },
        {
         "name": "closing",
         "rawType": "float64",
         "type": "float"
        },
        {
         "name": "collectively",
         "rawType": "float64",
         "type": "float"
        },
        {
         "name": "column",
         "rawType": "float64",
         "type": "float"
        },
        {
         "name": "commence",
         "rawType": "float64",
         "type": "float"
        },
        {
         "name": "commencement",
         "rawType": "float64",
         "type": "float"
        },
        {
         "name": "commission",
         "rawType": "float64",
         "type": "float"
        },
        {
         "name": "committee",
         "rawType": "float64",
         "type": "float"
        },
        {
         "name": "common",
         "rawType": "float64",
         "type": "float"
        },
        {
         "name": "company",
         "rawType": "float64",
         "type": "float"
        },
        {
         "name": "compensation",
         "rawType": "float64",
         "type": "float"
        },
        {
         "name": "complete",
         "rawType": "float64",
         "type": "float"
        },
        {
         "name": "comply",
         "rawType": "float64",
         "type": "float"
        },
        {
         "name": "condition",
         "rawType": "float64",
         "type": "float"
        },
        {
         "name": "connection",
         "rawType": "float64",
         "type": "float"
        },
        {
         "name": "consideration",
         "rawType": "float64",
         "type": "float"
        },
        {
         "name": "consist",
         "rawType": "float64",
         "type": "float"
        },
        {
         "name": "contingent",
         "rawType": "float64",
         "type": "float"
        },
        {
         "name": "continue",
         "rawType": "float64",
         "type": "float"
        },
        {
         "name": "continued",
         "rawType": "float64",
         "type": "float"
        },
        {
         "name": "continuous",
         "rawType": "float64",
         "type": "float"
        },
        {
         "name": "contribution",
         "rawType": "float64",
         "type": "float"
        },
        {
         "name": "control",
         "rawType": "float64",
         "type": "float"
        },
        {
         "name": "conversion",
         "rawType": "float64",
         "type": "float"
        },
        {
         "name": "convert",
         "rawType": "float64",
         "type": "float"
        },
        {
         "name": "convertible",
         "rawType": "float64",
         "type": "float"
        },
        {
         "name": "corp",
         "rawType": "float64",
         "type": "float"
        },
        {
         "name": "corporation",
         "rawType": "float64",
         "type": "float"
        },
        {
         "name": "correct",
         "rawType": "float64",
         "type": "float"
        },
        {
         "name": "cover",
         "rawType": "float64",
         "type": "float"
        },
        {
         "name": "credit",
         "rawType": "float64",
         "type": "float"
        },
        {
         "name": "criterion",
         "rawType": "float64",
         "type": "float"
        },
        {
         "name": "cumulative",
         "rawType": "float64",
         "type": "float"
        },
        {
         "name": "currently",
         "rawType": "float64",
         "type": "float"
        },
        {
         "name": "custodian",
         "rawType": "float64",
         "type": "float"
        },
        {
         "name": "date",
         "rawType": "float64",
         "type": "float"
        },
        {
         "name": "daughter",
         "rawType": "float64",
         "type": "float"
        },
        {
         "name": "david",
         "rawType": "float64",
         "type": "float"
        },
        {
         "name": "day",
         "rawType": "float64",
         "type": "float"
        },
        {
         "name": "death",
         "rawType": "float64",
         "type": "float"
        },
        {
         "name": "deem",
         "rawType": "float64",
         "type": "float"
        },
        {
         "name": "defer",
         "rawType": "float64",
         "type": "float"
        },
        {
         "name": "deferral",
         "rawType": "float64",
         "type": "float"
        },
        {
         "name": "deferred",
         "rawType": "float64",
         "type": "float"
        },
        {
         "name": "define",
         "rawType": "float64",
         "type": "float"
        },
        {
         "name": "delaware",
         "rawType": "float64",
         "type": "float"
        },
        {
         "name": "deliver",
         "rawType": "float64",
         "type": "float"
        },
        {
         "name": "derivative",
         "rawType": "float64",
         "type": "float"
        },
        {
         "name": "determine",
         "rawType": "float64",
         "type": "float"
        },
        {
         "name": "direct",
         "rawType": "float64",
         "type": "float"
        },
        {
         "name": "directly",
         "rawType": "float64",
         "type": "float"
        },
        {
         "name": "director",
         "rawType": "float64",
         "type": "float"
        },
        {
         "name": "disclaim",
         "rawType": "float64",
         "type": "float"
        },
        {
         "name": "disclaims",
         "rawType": "float64",
         "type": "float"
        },
        {
         "name": "disclose",
         "rawType": "float64",
         "type": "float"
        },
        {
         "name": "discretion",
         "rawType": "float64",
         "type": "float"
        },
        {
         "name": "discretionary",
         "rawType": "float64",
         "type": "float"
        },
        {
         "name": "dispose",
         "rawType": "float64",
         "type": "float"
        },
        {
         "name": "disposition",
         "rawType": "float64",
         "type": "float"
        },
        {
         "name": "dispositive",
         "rawType": "float64",
         "type": "float"
        },
        {
         "name": "distribute",
         "rawType": "float64",
         "type": "float"
        },
        {
         "name": "distribution",
         "rawType": "float64",
         "type": "float"
        },
        {
         "name": "dividend",
         "rawType": "float64",
         "type": "float"
        },
        {
         "name": "dolby",
         "rawType": "float64",
         "type": "float"
        },
        {
         "name": "dr",
         "rawType": "float64",
         "type": "float"
        },
        {
         "name": "dtd",
         "rawType": "float64",
         "type": "float"
        },
        {
         "name": "early",
         "rawType": "float64",
         "type": "float"
        },
        {
         "name": "earn",
         "rawType": "float64",
         "type": "float"
        },
        {
         "name": "economic",
         "rawType": "float64",
         "type": "float"
        },
        {
         "name": "effect",
         "rawType": "float64",
         "type": "float"
        },
        {
         "name": "effective",
         "rawType": "float64",
         "type": "float"
        },
        {
         "name": "elect",
         "rawType": "float64",
         "type": "float"
        },
        {
         "name": "election",
         "rawType": "float64",
         "type": "float"
        },
        {
         "name": "employee",
         "rawType": "float64",
         "type": "float"
        },
        {
         "name": "employment",
         "rawType": "float64",
         "type": "float"
        },
        {
         "name": "end",
         "rawType": "float64",
         "type": "float"
        },
        {
         "name": "energy",
         "rawType": "float64",
         "type": "float"
        },
        {
         "name": "enter",
         "rawType": "float64",
         "type": "float"
        },
        {
         "name": "enterprise",
         "rawType": "float64",
         "type": "float"
        },
        {
         "name": "entitle",
         "rawType": "float64",
         "type": "float"
        },
        {
         "name": "entity",
         "rawType": "float64",
         "type": "float"
        },
        {
         "name": "equal",
         "rawType": "float64",
         "type": "float"
        },
        {
         "name": "equity",
         "rawType": "float64",
         "type": "float"
        },
        {
         "name": "equivalent",
         "rawType": "float64",
         "type": "float"
        },
        {
         "name": "erie",
         "rawType": "float64",
         "type": "float"
        },
        {
         "name": "esop",
         "rawType": "float64",
         "type": "float"
        },
        {
         "name": "establish",
         "rawType": "float64",
         "type": "float"
        },
        {
         "name": "estate",
         "rawType": "float64",
         "type": "float"
        },
        {
         "name": "event",
         "rawType": "float64",
         "type": "float"
        },
        {
         "name": "excess",
         "rawType": "float64",
         "type": "float"
        },
        {
         "name": "exchange",
         "rawType": "float64",
         "type": "float"
        },
        {
         "name": "execute",
         "rawType": "float64",
         "type": "float"
        },
        {
         "name": "executive",
         "rawType": "float64",
         "type": "float"
        },
        {
         "name": "exempt",
         "rawType": "float64",
         "type": "float"
        },
        {
         "name": "exercisable",
         "rawType": "float64",
         "type": "float"
        },
        {
         "name": "exercise",
         "rawType": "float64",
         "type": "float"
        },
        {
         "name": "exhibit",
         "rawType": "float64",
         "type": "float"
        },
        {
         "name": "expiration",
         "rawType": "float64",
         "type": "float"
        },
        {
         "name": "expire",
         "rawType": "float64",
         "type": "float"
        },
        {
         "name": "expressly",
         "rawType": "float64",
         "type": "float"
        },
        {
         "name": "extent",
         "rawType": "float64",
         "type": "float"
        },
        {
         "name": "fair",
         "rawType": "float64",
         "type": "float"
        },
        {
         "name": "family",
         "rawType": "float64",
         "type": "float"
        },
        {
         "name": "fbo",
         "rawType": "float64",
         "type": "float"
        },
        {
         "name": "fee",
         "rawType": "float64",
         "type": "float"
        },
        {
         "name": "file",
         "rawType": "float64",
         "type": "float"
        },
        {
         "name": "filer",
         "rawType": "float64",
         "type": "float"
        },
        {
         "name": "filing",
         "rawType": "float64",
         "type": "float"
        },
        {
         "name": "financial",
         "rawType": "float64",
         "type": "float"
        },
        {
         "name": "fiscal",
         "rawType": "float64",
         "type": "float"
        },
        {
         "name": "follow",
         "rawType": "float64",
         "type": "float"
        },
        {
         "name": "following",
         "rawType": "float64",
         "type": "float"
        },
        {
         "name": "footnote",
         "rawType": "float64",
         "type": "float"
        },
        {
         "name": "forfeiture",
         "rawType": "float64",
         "type": "float"
        },
        {
         "name": "form",
         "rawType": "float64",
         "type": "float"
        },
        {
         "name": "forth",
         "rawType": "float64",
         "type": "float"
        },
        {
         "name": "foundation",
         "rawType": "float64",
         "type": "float"
        },
        {
         "name": "fourth",
         "rawType": "float64",
         "type": "float"
        },
        {
         "name": "frost",
         "rawType": "float64",
         "type": "float"
        },
        {
         "name": "fully",
         "rawType": "float64",
         "type": "float"
        },
        {
         "name": "fund",
         "rawType": "float64",
         "type": "float"
        },
        {
         "name": "gamma",
         "rawType": "float64",
         "type": "float"
        },
        {
         "name": "general",
         "rawType": "float64",
         "type": "float"
        },
        {
         "name": "gift",
         "rawType": "float64",
         "type": "float"
        },
        {
         "name": "global",
         "rawType": "float64",
         "type": "float"
        },
        {
         "name": "goal",
         "rawType": "float64",
         "type": "float"
        },
        {
         "name": "google",
         "rawType": "float64",
         "type": "float"
        },
        {
         "name": "gp",
         "rawType": "float64",
         "type": "float"
        },
        {
         "name": "grant",
         "rawType": "float64",
         "type": "float"
        },
        {
         "name": "grantor",
         "rawType": "float64",
         "type": "float"
        },
        {
         "name": "grat",
         "rawType": "float64",
         "type": "float"
        },
        {
         "name": "group",
         "rawType": "float64",
         "type": "float"
        },
        {
         "name": "growth",
         "rawType": "float64",
         "type": "float"
        },
        {
         "name": "gsus",
         "rawType": "float64",
         "type": "float"
        },
        {
         "name": "gtcr",
         "rawType": "float64",
         "type": "float"
        },
        {
         "name": "harris",
         "rawType": "float64",
         "type": "float"
        },
        {
         "name": "held",
         "rawType": "float64",
         "type": "float"
        },
        {
         "name": "high",
         "rawType": "float64",
         "type": "float"
        },
        {
         "name": "hill",
         "rawType": "float64",
         "type": "float"
        },
        {
         "name": "hold",
         "rawType": "float64",
         "type": "float"
        },
        {
         "name": "holdco",
         "rawType": "float64",
         "type": "float"
        },
        {
         "name": "holder",
         "rawType": "float64",
         "type": "float"
        },
        {
         "name": "holding",
         "rawType": "float64",
         "type": "float"
        },
        {
         "name": "icahn",
         "rawType": "float64",
         "type": "float"
        },
        {
         "name": "ii",
         "rawType": "float64",
         "type": "float"
        },
        {
         "name": "iii",
         "rawType": "float64",
         "type": "float"
        },
        {
         "name": "immediately",
         "rawType": "float64",
         "type": "float"
        },
        {
         "name": "incentive",
         "rawType": "float64",
         "type": "float"
        },
        {
         "name": "include",
         "rawType": "float64",
         "type": "float"
        },
        {
         "name": "inclusion",
         "rawType": "float64",
         "type": "float"
        },
        {
         "name": "inclusive",
         "rawType": "float64",
         "type": "float"
        },
        {
         "name": "income",
         "rawType": "float64",
         "type": "float"
        },
        {
         "name": "incorporation",
         "rawType": "float64",
         "type": "float"
        },
        {
         "name": "increase",
         "rawType": "float64",
         "type": "float"
        },
        {
         "name": "increment",
         "rawType": "float64",
         "type": "float"
        },
        {
         "name": "indemnity",
         "rawType": "float64",
         "type": "float"
        },
        {
         "name": "indicate",
         "rawType": "float64",
         "type": "float"
        },
        {
         "name": "indirect",
         "rawType": "float64",
         "type": "float"
        },
        {
         "name": "indirectly",
         "rawType": "float64",
         "type": "float"
        },
        {
         "name": "individual",
         "rawType": "float64",
         "type": "float"
        },
        {
         "name": "industry",
         "rawType": "float64",
         "type": "float"
        },
        {
         "name": "information",
         "rawType": "float64",
         "type": "float"
        },
        {
         "name": "initial",
         "rawType": "float64",
         "type": "float"
        },
        {
         "name": "installment",
         "rawType": "float64",
         "type": "float"
        },
        {
         "name": "instruction",
         "rawType": "float64",
         "type": "float"
        },
        {
         "name": "intend",
         "rawType": "float64",
         "type": "float"
        },
        {
         "name": "international",
         "rawType": "float64",
         "type": "float"
        },
        {
         "name": "invest",
         "rawType": "float64",
         "type": "float"
        },
        {
         "name": "investment",
         "rawType": "float64",
         "type": "float"
        },
        {
         "name": "investor",
         "rawType": "float64",
         "type": "float"
        },
        {
         "name": "ira",
         "rawType": "float64",
         "type": "float"
        },
        {
         "name": "irrevocable",
         "rawType": "float64",
         "type": "float"
        },
        {
         "name": "issuable",
         "rawType": "float64",
         "type": "float"
        },
        {
         "name": "issue",
         "rawType": "float64",
         "type": "float"
        },
        {
         "name": "issuer",
         "rawType": "float64",
         "type": "float"
        },
        {
         "name": "iv",
         "rawType": "float64",
         "type": "float"
        },
        {
         "name": "ix",
         "rawType": "float64",
         "type": "float"
        },
        {
         "name": "james",
         "rawType": "float64",
         "type": "float"
        },
        {
         "name": "john",
         "rawType": "float64",
         "type": "float"
        },
        {
         "name": "johnson",
         "rawType": "float64",
         "type": "float"
        },
        {
         "name": "joint",
         "rawType": "float64",
         "type": "float"
        },
        {
         "name": "jointly",
         "rawType": "float64",
         "type": "float"
        },
        {
         "name": "jr",
         "rawType": "float64",
         "type": "float"
        },
        {
         "name": "kind",
         "rawType": "float64",
         "type": "float"
        },
        {
         "name": "kkr",
         "rawType": "float64",
         "type": "float"
        },
        {
         "name": "lapse",
         "rawType": "float64",
         "type": "float"
        },
        {
         "name": "liability",
         "rawType": "float64",
         "type": "float"
        },
        {
         "name": "life",
         "rawType": "float64",
         "type": "float"
        },
        {
         "name": "limit",
         "rawType": "float64",
         "type": "float"
        },
        {
         "name": "limited",
         "rawType": "float64",
         "type": "float"
        },
        {
         "name": "line",
         "rawType": "float64",
         "type": "float"
        },
        {
         "name": "list",
         "rawType": "float64",
         "type": "float"
        },
        {
         "name": "llc",
         "rawType": "float64",
         "type": "float"
        },
        {
         "name": "long",
         "rawType": "float64",
         "type": "float"
        },
        {
         "name": "low",
         "rawType": "float64",
         "type": "float"
        },
        {
         "name": "lp",
         "rawType": "float64",
         "type": "float"
        },
        {
         "name": "ltip",
         "rawType": "float64",
         "type": "float"
        },
        {
         "name": "majority",
         "rawType": "float64",
         "type": "float"
        },
        {
         "name": "make",
         "rawType": "float64",
         "type": "float"
        },
        {
         "name": "manage",
         "rawType": "float64",
         "type": "float"
        },
        {
         "name": "management",
         "rawType": "float64",
         "type": "float"
        },
        {
         "name": "manager",
         "rawType": "float64",
         "type": "float"
        },
        {
         "name": "mark",
         "rawType": "float64",
         "type": "float"
        },
        {
         "name": "market",
         "rawType": "float64",
         "type": "float"
        },
        {
         "name": "master",
         "rawType": "float64",
         "type": "float"
        },
        {
         "name": "meet",
         "rawType": "float64",
         "type": "float"
        },
        {
         "name": "meeting",
         "rawType": "float64",
         "type": "float"
        },
        {
         "name": "member",
         "rawType": "float64",
         "type": "float"
        },
        {
         "name": "membership",
         "rawType": "float64",
         "type": "float"
        },
        {
         "name": "merger",
         "rawType": "float64",
         "type": "float"
        },
        {
         "name": "messrs",
         "rawType": "float64",
         "type": "float"
        },
        {
         "name": "michael",
         "rawType": "float64",
         "type": "float"
        },
        {
         "name": "minor",
         "rawType": "float64",
         "type": "float"
        },
        {
         "name": "month",
         "rawType": "float64",
         "type": "float"
        },
        {
         "name": "monthly",
         "rawType": "float64",
         "type": "float"
        },
        {
         "name": "mr",
         "rawType": "float64",
         "type": "float"
        },
        {
         "name": "multiple",
         "rawType": "float64",
         "type": "float"
        },
        {
         "name": "nan",
         "rawType": "float64",
         "type": "float"
        },
        {
         "name": "national",
         "rawType": "float64",
         "type": "float"
        },
        {
         "name": "nea",
         "rawType": "float64",
         "type": "float"
        },
        {
         "name": "net",
         "rawType": "float64",
         "type": "float"
        },
        {
         "name": "new",
         "rawType": "float64",
         "type": "float"
        },
        {
         "name": "non",
         "rawType": "float64",
         "type": "float"
        },
        {
         "name": "note",
         "rawType": "float64",
         "type": "float"
        },
        {
         "name": "number",
         "rawType": "float64",
         "type": "float"
        },
        {
         "name": "obligation",
         "rawType": "float64",
         "type": "float"
        },
        {
         "name": "occur",
         "rawType": "float64",
         "type": "float"
        },
        {
         "name": "offer",
         "rawType": "float64",
         "type": "float"
        },
        {
         "name": "offering",
         "rawType": "float64",
         "type": "float"
        },
        {
         "name": "officer",
         "rawType": "float64",
         "type": "float"
        },
        {
         "name": "offshore",
         "rawType": "float64",
         "type": "float"
        },
        {
         "name": "omnibus",
         "rawType": "float64",
         "type": "float"
        },
        {
         "name": "open",
         "rawType": "float64",
         "type": "float"
        },
        {
         "name": "opportunity",
         "rawType": "float64",
         "type": "float"
        },
        {
         "name": "option",
         "rawType": "float64",
         "type": "float"
        },
        {
         "name": "order",
         "rawType": "float64",
         "type": "float"
        },
        {
         "name": "ordinary",
         "rawType": "float64",
         "type": "float"
        },
        {
         "name": "original",
         "rawType": "float64",
         "type": "float"
        },
        {
         "name": "originally",
         "rawType": "float64",
         "type": "float"
        },
        {
         "name": "outside",
         "rawType": "float64",
         "type": "float"
        },
        {
         "name": "outstanding",
         "rawType": "float64",
         "type": "float"
        },
        {
         "name": "owned",
         "rawType": "float64",
         "type": "float"
        },
        {
         "name": "owner",
         "rawType": "float64",
         "type": "float"
        },
        {
         "name": "ownership",
         "rawType": "float64",
         "type": "float"
        },
        {
         "name": "par",
         "rawType": "float64",
         "type": "float"
        },
        {
         "name": "parallel",
         "rawType": "float64",
         "type": "float"
        },
        {
         "name": "parker",
         "rawType": "float64",
         "type": "float"
        },
        {
         "name": "participant",
         "rawType": "float64",
         "type": "float"
        },
        {
         "name": "partner",
         "rawType": "float64",
         "type": "float"
        },
        {
         "name": "partnership",
         "rawType": "float64",
         "type": "float"
        },
        {
         "name": "party",
         "rawType": "float64",
         "type": "float"
        },
        {
         "name": "pay",
         "rawType": "float64",
         "type": "float"
        },
        {
         "name": "payable",
         "rawType": "float64",
         "type": "float"
        },
        {
         "name": "payment",
         "rawType": "float64",
         "type": "float"
        },
        {
         "name": "pecuniary",
         "rawType": "float64",
         "type": "float"
        },
        {
         "name": "percent",
         "rawType": "float64",
         "type": "float"
        },
        {
         "name": "performance",
         "rawType": "float64",
         "type": "float"
        },
        {
         "name": "period",
         "rawType": "float64",
         "type": "float"
        },
        {
         "name": "person",
         "rawType": "float64",
         "type": "float"
        },
        {
         "name": "phantom",
         "rawType": "float64",
         "type": "float"
        },
        {
         "name": "plan",
         "rawType": "float64",
         "type": "float"
        },
        {
         "name": "portion",
         "rawType": "float64",
         "type": "float"
        },
        {
         "name": "power",
         "rawType": "float64",
         "type": "float"
        },
        {
         "name": "pre",
         "rawType": "float64",
         "type": "float"
        },
        {
         "name": "preferred",
         "rawType": "float64",
         "type": "float"
        },
        {
         "name": "president",
         "rawType": "float64",
         "type": "float"
        },
        {
         "name": "previously",
         "rawType": "float64",
         "type": "float"
        },
        {
         "name": "price",
         "rawType": "float64",
         "type": "float"
        },
        {
         "name": "principal",
         "rawType": "float64",
         "type": "float"
        },
        {
         "name": "prior",
         "rawType": "float64",
         "type": "float"
        },
        {
         "name": "private",
         "rawType": "float64",
         "type": "float"
        },
        {
         "name": "pro",
         "rawType": "float64",
         "type": "float"
        },
        {
         "name": "proceeds",
         "rawType": "float64",
         "type": "float"
        },
        {
         "name": "profit",
         "rawType": "float64",
         "type": "float"
        },
        {
         "name": "program",
         "rawType": "float64",
         "type": "float"
        },
        {
         "name": "property",
         "rawType": "float64",
         "type": "float"
        },
        {
         "name": "proportionate",
         "rawType": "float64",
         "type": "float"
        },
        {
         "name": "provide",
         "rawType": "float64",
         "type": "float"
        },
        {
         "name": "provision",
         "rawType": "float64",
         "type": "float"
        },
        {
         "name": "public",
         "rawType": "float64",
         "type": "float"
        },
        {
         "name": "purchase",
         "rawType": "float64",
         "type": "float"
        },
        {
         "name": "purpose",
         "rawType": "float64",
         "type": "float"
        },
        {
         "name": "pursuant",
         "rawType": "float64",
         "type": "float"
        },
        {
         "name": "qp",
         "rawType": "float64",
         "type": "float"
        },
        {
         "name": "qualified",
         "rawType": "float64",
         "type": "float"
        },
        {
         "name": "quarter",
         "rawType": "float64",
         "type": "float"
        },
        {
         "name": "quarterly",
         "rawType": "float64",
         "type": "float"
        },
        {
         "name": "ramius",
         "rawType": "float64",
         "type": "float"
        },
        {
         "name": "range",
         "rawType": "float64",
         "type": "float"
        },
        {
         "name": "rata",
         "rawType": "float64",
         "type": "float"
        },
        {
         "name": "ratably",
         "rawType": "float64",
         "type": "float"
        },
        {
         "name": "rate",
         "rawType": "float64",
         "type": "float"
        },
        {
         "name": "real",
         "rawType": "float64",
         "type": "float"
        },
        {
         "name": "receipt",
         "rawType": "float64",
         "type": "float"
        },
        {
         "name": "receive",
         "rawType": "float64",
         "type": "float"
        },
        {
         "name": "record",
         "rawType": "float64",
         "type": "float"
        },
        {
         "name": "reflect",
         "rawType": "float64",
         "type": "float"
        },
        {
         "name": "regard",
         "rawType": "float64",
         "type": "float"
        },
        {
         "name": "registrant",
         "rawType": "float64",
         "type": "float"
        },
        {
         "name": "reinvested",
         "rawType": "float64",
         "type": "float"
        },
        {
         "name": "reinvestment",
         "rawType": "float64",
         "type": "float"
        },
        {
         "name": "relate",
         "rawType": "float64",
         "type": "float"
        },
        {
         "name": "relationship",
         "rawType": "float64",
         "type": "float"
        },
        {
         "name": "remain",
         "rawType": "float64",
         "type": "float"
        },
        {
         "name": "remainder",
         "rawType": "float64",
         "type": "float"
        },
        {
         "name": "report",
         "rawType": "float64",
         "type": "float"
        },
        {
         "name": "reported",
         "rawType": "float64",
         "type": "float"
        },
        {
         "name": "reporting",
         "rawType": "float64",
         "type": "float"
        },
        {
         "name": "represent",
         "rawType": "float64",
         "type": "float"
        },
        {
         "name": "request",
         "rawType": "float64",
         "type": "float"
        },
        {
         "name": "require",
         "rawType": "float64",
         "type": "float"
        },
        {
         "name": "requirement",
         "rawType": "float64",
         "type": "float"
        },
        {
         "name": "resource",
         "rawType": "float64",
         "type": "float"
        },
        {
         "name": "respect",
         "rawType": "float64",
         "type": "float"
        },
        {
         "name": "respective",
         "rawType": "float64",
         "type": "float"
        },
        {
         "name": "respectively",
         "rawType": "float64",
         "type": "float"
        },
        {
         "name": "restate",
         "rawType": "float64",
         "type": "float"
        },
        {
         "name": "restrict",
         "rawType": "float64",
         "type": "float"
        },
        {
         "name": "restricted",
         "rawType": "float64",
         "type": "float"
        },
        {
         "name": "restriction",
         "rawType": "float64",
         "type": "float"
        },
        {
         "name": "result",
         "rawType": "float64",
         "type": "float"
        },
        {
         "name": "retain",
         "rawType": "float64",
         "type": "float"
        },
        {
         "name": "retirement",
         "rawType": "float64",
         "type": "float"
        },
        {
         "name": "return",
         "rawType": "float64",
         "type": "float"
        },
        {
         "name": "revocable",
         "rawType": "float64",
         "type": "float"
        },
        {
         "name": "right",
         "rawType": "float64",
         "type": "float"
        },
        {
         "name": "robert",
         "rawType": "float64",
         "type": "float"
        },
        {
         "name": "rsu",
         "rawType": "float64",
         "type": "float"
        },
        {
         "name": "rsus",
         "rawType": "float64",
         "type": "float"
        },
        {
         "name": "rule",
         "rawType": "float64",
         "type": "float"
        },
        {
         "name": "sale",
         "rawType": "float64",
         "type": "float"
        },
        {
         "name": "satisfaction",
         "rawType": "float64",
         "type": "float"
        },
        {
         "name": "satisfy",
         "rawType": "float64",
         "type": "float"
        },
        {
         "name": "saving",
         "rawType": "float64",
         "type": "float"
        },
        {
         "name": "schedule",
         "rawType": "float64",
         "type": "float"
        },
        {
         "name": "sec",
         "rawType": "float64",
         "type": "float"
        },
        {
         "name": "second",
         "rawType": "float64",
         "type": "float"
        },
        {
         "name": "section",
         "rawType": "float64",
         "type": "float"
        },
        {
         "name": "security",
         "rawType": "float64",
         "type": "float"
        },
        {
         "name": "sell",
         "rawType": "float64",
         "type": "float"
        },
        {
         "name": "selling",
         "rawType": "float64",
         "type": "float"
        },
        {
         "name": "separate",
         "rawType": "float64",
         "type": "float"
        },
        {
         "name": "serf",
         "rawType": "float64",
         "type": "float"
        },
        {
         "name": "series",
         "rawType": "float64",
         "type": "float"
        },
        {
         "name": "serve",
         "rawType": "float64",
         "type": "float"
        },
        {
         "name": "service",
         "rawType": "float64",
         "type": "float"
        },
        {
         "name": "set",
         "rawType": "float64",
         "type": "float"
        },
        {
         "name": "settle",
         "rawType": "float64",
         "type": "float"
        },
        {
         "name": "settlement",
         "rawType": "float64",
         "type": "float"
        },
        {
         "name": "share",
         "rawType": "float64",
         "type": "float"
        },
        {
         "name": "shareholder",
         "rawType": "float64",
         "type": "float"
        },
        {
         "name": "single",
         "rawType": "float64",
         "type": "float"
        },
        {
         "name": "situation",
         "rawType": "float64",
         "type": "float"
        },
        {
         "name": "sole",
         "rawType": "float64",
         "type": "float"
        },
        {
         "name": "solely",
         "rawType": "float64",
         "type": "float"
        },
        {
         "name": "son",
         "rawType": "float64",
         "type": "float"
        },
        {
         "name": "special",
         "rawType": "float64",
         "type": "float"
        },
        {
         "name": "specify",
         "rawType": "float64",
         "type": "float"
        },
        {
         "name": "split",
         "rawType": "float64",
         "type": "float"
        },
        {
         "name": "spouse",
         "rawType": "float64",
         "type": "float"
        },
        {
         "name": "staff",
         "rawType": "float64",
         "type": "float"
        },
        {
         "name": "starboard",
         "rawType": "float64",
         "type": "float"
        },
        {
         "name": "start",
         "rawType": "float64",
         "type": "float"
        },
        {
         "name": "state",
         "rawType": "float64",
         "type": "float"
        },
        {
         "name": "statement",
         "rawType": "float64",
         "type": "float"
        },
        {
         "name": "steel",
         "rawType": "float64",
         "type": "float"
        },
        {
         "name": "stock",
         "rawType": "float64",
         "type": "float"
        },
        {
         "name": "stockholder",
         "rawType": "float64",
         "type": "float"
        },
        {
         "name": "strategic",
         "rawType": "float64",
         "type": "float"
        },
        {
         "name": "street",
         "rawType": "float64",
         "type": "float"
        },
        {
         "name": "subject",
         "rawType": "float64",
         "type": "float"
        },
        {
         "name": "subsidiary",
         "rawType": "float64",
         "type": "float"
        },
        {
         "name": "ta",
         "rawType": "float64",
         "type": "float"
        },
        {
         "name": "table",
         "rawType": "float64",
         "type": "float"
        },
        {
         "name": "target",
         "rawType": "float64",
         "type": "float"
        },
        {
         "name": "tax",
         "rawType": "float64",
         "type": "float"
        },
        {
         "name": "technology",
         "rawType": "float64",
         "type": "float"
        },
        {
         "name": "term",
         "rawType": "float64",
         "type": "float"
        },
        {
         "name": "termination",
         "rawType": "float64",
         "type": "float"
        },
        {
         "name": "th",
         "rawType": "float64",
         "type": "float"
        },
        {
         "name": "thereof",
         "rawType": "float64",
         "type": "float"
        },
        {
         "name": "thomas",
         "rawType": "float64",
         "type": "float"
        },
        {
         "name": "time",
         "rawType": "float64",
         "type": "float"
        },
        {
         "name": "total",
         "rawType": "float64",
         "type": "float"
        },
        {
         "name": "trade",
         "rawType": "float64",
         "type": "float"
        },
        {
         "name": "trading",
         "rawType": "float64",
         "type": "float"
        },
        {
         "name": "transaction",
         "rawType": "float64",
         "type": "float"
        },
        {
         "name": "transfer",
         "rawType": "float64",
         "type": "float"
        },
        {
         "name": "trian",
         "rawType": "float64",
         "type": "float"
        },
        {
         "name": "trust",
         "rawType": "float64",
         "type": "float"
        },
        {
         "name": "trustee",
         "rawType": "float64",
         "type": "float"
        },
        {
         "name": "trustees",
         "rawType": "float64",
         "type": "float"
        },
        {
         "name": "underlie",
         "rawType": "float64",
         "type": "float"
        },
        {
         "name": "underlying",
         "rawType": "float64",
         "type": "float"
        },
        {
         "name": "undertake",
         "rawType": "float64",
         "type": "float"
        },
        {
         "name": "undertakes",
         "rawType": "float64",
         "type": "float"
        },
        {
         "name": "unit",
         "rawType": "float64",
         "type": "float"
        },
        {
         "name": "unvested",
         "rawType": "float64",
         "type": "float"
        },
        {
         "name": "use",
         "rawType": "float64",
         "type": "float"
        },
        {
         "name": "value",
         "rawType": "float64",
         "type": "float"
        },
        {
         "name": "various",
         "rawType": "float64",
         "type": "float"
        },
        {
         "name": "venture",
         "rawType": "float64",
         "type": "float"
        },
        {
         "name": "vest",
         "rawType": "float64",
         "type": "float"
        },
        {
         "name": "vested",
         "rawType": "float64",
         "type": "float"
        },
        {
         "name": "vesting",
         "rawType": "float64",
         "type": "float"
        },
        {
         "name": "vi",
         "rawType": "float64",
         "type": "float"
        },
        {
         "name": "vii",
         "rawType": "float64",
         "type": "float"
        },
        {
         "name": "viii",
         "rawType": "float64",
         "type": "float"
        },
        {
         "name": "virtue",
         "rawType": "float64",
         "type": "float"
        },
        {
         "name": "vote",
         "rawType": "float64",
         "type": "float"
        },
        {
         "name": "voting",
         "rawType": "float64",
         "type": "float"
        },
        {
         "name": "warrant",
         "rawType": "float64",
         "type": "float"
        },
        {
         "name": "weight",
         "rawType": "float64",
         "type": "float"
        },
        {
         "name": "weighted",
         "rawType": "float64",
         "type": "float"
        },
        {
         "name": "wholly",
         "rawType": "float64",
         "type": "float"
        },
        {
         "name": "wife",
         "rawType": "float64",
         "type": "float"
        },
        {
         "name": "william",
         "rawType": "float64",
         "type": "float"
        },
        {
         "name": "withhold",
         "rawType": "float64",
         "type": "float"
        },
        {
         "name": "withholding",
         "rawType": "float64",
         "type": "float"
        },
        {
         "name": "wp",
         "rawType": "float64",
         "type": "float"
        },
        {
         "name": "write",
         "rawType": "float64",
         "type": "float"
        },
        {
         "name": "wynnefield",
         "rawType": "float64",
         "type": "float"
        },
        {
         "name": "xi",
         "rawType": "float64",
         "type": "float"
        },
        {
         "name": "year",
         "rawType": "float64",
         "type": "float"
        },
        {
         "name": "york",
         "rawType": "float64",
         "type": "float"
        }
       ],
       "conversionMethod": "pd.DataFrame",
       "ref": "d0cc1886-5a7b-4b1f-b20f-5160c783bf06",
       "rows": [
        [
         "0",
         "0.0",
         "0.0",
         "0.0",
         "0.0",
         "0.0",
         "0.0",
         "0.0",
         "0.0",
         "0.0",
         "0.0",
         "0.0",
         "0.0",
         "0.0",
         "0.0",
         "0.0",
         "0.0",
         "0.0",
         "0.0",
         "0.0",
         "0.0",
         "0.0",
         "0.0",
         "0.0",
         "0.0",
         "0.0",
         "0.0",
         "0.0",
         "0.0",
         "0.0",
         "0.0",
         "0.0",
         "0.0",
         "0.0",
         "0.0",
         "0.0",
         "0.0",
         "0.0",
         "0.0",
         "0.0",
         "0.0",
         "0.0",
         "0.0",
         "0.0",
         "0.0",
         "0.0",
         "0.0",
         "0.0",
         "0.0",
         "0.0",
         "0.0",
         "0.0",
         "0.0",
         "0.0",
         "0.0",
         "0.0",
         "0.0",
         "0.0",
         "0.0",
         "0.0",
         "0.0",
         "0.0",
         "0.0",
         "0.0",
         "0.0",
         "0.0",
         "0.0",
         "0.0",
         "0.0",
         "0.0",
         "0.0",
         "0.0",
         "0.0",
         "0.0",
         "0.0",
         "0.0",
         "0.0",
         "0.0",
         "0.0",
         "0.0",
         "0.0",
         "0.0",
         "0.0",
         "0.0",
         "0.0",
         "0.0",
         "0.0",
         "0.0",
         "0.0",
         "0.0",
         "0.0",
         "0.0",
         "0.0",
         "0.0",
         "0.0",
         "0.0",
         "0.0",
         "0.0",
         "0.0",
         "0.0",
         "0.0",
         "0.0",
         "0.0",
         "0.0",
         "0.0",
         "0.5961980095750682",
         "0.0",
         "0.0",
         "0.0",
         "0.0",
         "0.0",
         "0.34269062753595075",
         "0.0",
         "0.0",
         "0.0",
         "0.0",
         "0.0",
         "0.0",
         "0.0",
         "0.0",
         "0.0",
         "0.0",
         "0.0",
         "0.0",
         "0.0",
         "0.0",
         "0.0",
         "0.0",
         "0.0",
         "0.0",
         "0.0",
         "0.0",
         "0.0",
         "0.0",
         "0.0",
         "0.0",
         "0.0",
         "0.0",
         "0.0",
         "0.0",
         "0.0",
         "0.0",
         "0.0",
         "0.0",
         "0.0",
         "0.0",
         "0.0",
         "0.0",
         "0.0",
         "0.0",
         "0.0",
         "0.0",
         "0.0",
         "0.0",
         "0.0",
         "0.0",
         "0.0",
         "0.0",
         "0.0",
         "0.0",
         "0.0",
         "0.0",
         "0.0",
         "0.0",
         "0.0",
         "0.0",
         "0.0",
         "0.0",
         "0.0",
         "0.0",
         "0.0",
         "0.0",
         "0.0",
         "0.0",
         "0.0",
         "0.0",
         "0.0",
         "0.0",
         "0.0",
         "0.0",
         "0.0",
         "0.0",
         "0.0",
         "0.0",
         "0.0",
         "0.0",
         "0.0",
         "0.0",
         "0.0",
         "0.0",
         "0.3305873385461021",
         "0.0",
         "0.0",
         "0.0",
         "0.0",
         "0.0",
         "0.0",
         "0.0",
         "0.0",
         "0.0",
         "0.0",
         "0.0",
         "0.0",
         "0.0",
         "0.0",
         "0.0",
         "0.0",
         "0.0",
         "0.0",
         "0.0",
         "0.0",
         "0.0",
         "0.0",
         "0.0",
         "0.0",
         "0.0",
         "0.0",
         "0.0",
         "0.0",
         "0.0",
         "0.0",
         "0.0",
         "0.0",
         "0.0",
         "0.0",
         "0.0",
         "0.0",
         "0.0",
         "0.0",
         "0.0",
         "0.0",
         "0.0",
         "0.0",
         "0.0",
         "0.0",
         "0.0",
         "0.0",
         "0.0",
         "0.0",
         "0.0",
         "0.0",
         "0.0",
         "0.0",
         "0.0",
         "0.0",
         "0.0",
         "0.0",
         "0.0",
         "0.0",
         "0.0",
         "0.0",
         "0.0",
         "0.0",
         "0.0",
         "0.0",
         "0.0",
         "0.0",
         "0.0",
         "0.0",
         "0.0",
         "0.0",
         "0.0",
         "0.0",
         "0.0",
         "0.0",
         "0.0",
         "0.0",
         "0.0",
         "0.0",
         "0.0",
         "0.0",
         "0.0",
         "0.0",
         "0.0",
         "0.0",
         "0.0",
         "0.0",
         "0.0",
         "0.0",
         "0.0",
         "0.0",
         "0.0",
         "0.0",
         "0.0",
         "0.0",
         "0.0",
         "0.0",
         "0.0",
         "0.0",
         "0.0",
         "0.0",
         "0.0",
         "0.0",
         "0.0",
         "0.0",
         "0.0",
         "0.0",
         "0.0",
         "0.0",
         "0.0",
         "0.0",
         "0.0",
         "0.0",
         "0.0",
         "0.0",
         "0.0",
         "0.0",
         "0.0",
         "0.0",
         "0.0",
         "0.0",
         "0.0",
         "0.0",
         "0.0",
         "0.0",
         "0.0",
         "0.0",
         "0.0",
         "0.0",
         "0.0",
         "0.0",
         "0.0",
         "0.0",
         "0.0",
         "0.0",
         "0.0",
         "0.0",
         "0.0",
         "0.0",
         "0.0",
         "0.0",
         "0.0",
         "0.0",
         "0.0",
         "0.0",
         "0.0",
         "0.2278062239891844",
         "0.0",
         "0.0",
         "0.0",
         "0.0",
         "0.0",
         "0.0",
         "0.0",
         "0.0",
         "0.0",
         "0.0",
         "0.0",
         "0.0",
         "0.0",
         "0.0",
         "0.0",
         "0.0",
         "0.0",
         "0.0",
         "0.0",
         "0.0",
         "0.0",
         "0.2555626848969317",
         "0.0",
         "0.0",
         "0.0",
         "0.0",
         "0.0",
         "0.0",
         "0.0",
         "0.0",
         "0.0",
         "0.0",
         "0.0",
         "0.0",
         "0.0",
         "0.0",
         "0.0",
         "0.0",
         "0.0",
         "0.0",
         "0.0",
         "0.0",
         "0.0",
         "0.0",
         "0.0",
         "0.0",
         "0.0",
         "0.0",
         "0.0",
         "0.0",
         "0.0",
         "0.0",
         "0.0",
         "0.0",
         "0.0",
         "0.0",
         "0.0",
         "0.0",
         "0.0",
         "0.0",
         "0.0",
         "0.0",
         "0.0",
         "0.0",
         "0.0",
         "0.0",
         "0.0",
         "0.0",
         "0.3042862637372797",
         "0.29492659073912697",
         "0.0",
         "0.0",
         "0.0",
         "0.0",
         "0.0",
         "0.0",
         "0.0",
         "0.0",
         "0.3010996735033772",
         "0.0",
         "0.0",
         "0.0",
         "0.0",
         "0.0",
         "0.0",
         "0.0",
         "0.0",
         "0.0",
         "0.17430513349517554",
         "0.0",
         "0.0",
         "0.0",
         "0.0",
         "0.0",
         "0.0",
         "0.0",
         "0.0",
         "0.0",
         "0.0",
         "0.0",
         "0.0",
         "0.0",
         "0.0",
         "0.0",
         "0.0",
         "0.0",
         "0.0",
         "0.0",
         "0.0",
         "0.0",
         "0.0",
         "0.0",
         "0.0",
         "0.0",
         "0.0",
         "0.0",
         "0.0",
         "0.0",
         "0.0",
         "0.0",
         "0.0",
         "0.0",
         "0.0",
         "0.0",
         "0.0",
         "0.0",
         "0.0",
         "0.0",
         "0.0",
         "0.0",
         "0.0",
         "0.0",
         "0.0",
         "0.0",
         "0.0",
         "0.0",
         "0.0",
         "0.0",
         "0.0",
         "0.0",
         "0.0",
         "0.0",
         "0.0",
         "0.0",
         "0.0",
         "0.0",
         "0.0",
         "0.0",
         "0.0",
         "0.0",
         "0.0",
         "0.0",
         "0.0",
         "0.0",
         "0.0",
         "0.0",
         "0.0",
         "0.0",
         "0.0",
         "0.0",
         "0.0",
         "0.0",
         "0.0",
         "0.0"
        ],
        [
         "1",
         "0.0",
         "0.0",
         "0.0",
         "0.0",
         "0.0",
         "0.0",
         "0.3071148480105237",
         "0.0",
         "0.0",
         "0.0",
         "0.0",
         "0.0",
         "0.0",
         "0.0",
         "0.0",
         "0.0",
         "0.0",
         "0.0",
         "0.0",
         "0.0",
         "0.0",
         "0.0",
         "0.0",
         "0.0",
         "0.0",
         "0.0",
         "0.0",
         "0.0",
         "0.0",
         "0.0",
         "0.0",
         "0.0",
         "0.0",
         "0.0",
         "0.0",
         "0.0",
         "0.0",
         "0.0",
         "0.0",
         "0.0",
         "0.0",
         "0.0",
         "0.0",
         "0.0",
         "0.0",
         "0.0",
         "0.0",
         "0.0",
         "0.0",
         "0.0",
         "0.0",
         "0.0",
         "0.0",
         "0.0",
         "0.0",
         "0.0",
         "0.0",
         "0.0",
         "0.0",
         "0.0",
         "0.0",
         "0.0",
         "0.0",
         "0.0",
         "0.0",
         "0.0",
         "0.0",
         "0.0",
         "0.0",
         "0.0",
         "0.0",
         "0.0",
         "0.0",
         "0.0",
         "0.0",
         "0.0",
         "0.0",
         "0.0",
         "0.0",
         "0.0",
         "0.0",
         "0.0",
         "0.0",
         "0.0",
         "0.0",
         "0.0",
         "0.0",
         "0.0",
         "0.0",
         "0.0",
         "0.0",
         "0.0",
         "0.0",
         "0.0",
         "0.0",
         "0.0",
         "0.0",
         "0.0",
         "0.0",
         "0.0",
         "0.0",
         "0.0",
         "0.0",
         "0.0",
         "0.0",
         "0.0",
         "0.0",
         "0.0",
         "0.0",
         "0.0",
         "0.0",
         "0.0",
         "0.0",
         "0.0",
         "0.0",
         "0.0",
         "0.0",
         "0.0",
         "0.0",
         "0.0",
         "0.0",
         "0.0",
         "0.0",
         "0.0",
         "0.0",
         "0.0",
         "0.3387824103157311",
         "0.0",
         "0.0",
         "0.0",
         "0.0",
         "0.0",
         "0.0",
         "0.0",
         "0.0",
         "0.0",
         "0.0",
         "0.3274868911068171",
         "0.0",
         "0.0",
         "0.0",
         "0.0",
         "0.0",
         "0.0",
         "0.0",
         "0.0",
         "0.0",
         "0.0",
         "0.3290651294825432",
         "0.0",
         "0.0",
         "0.0",
         "0.0",
         "0.0",
         "0.0",
         "0.0",
         "0.0",
         "0.0",
         "0.0",
         "0.0",
         "0.0",
         "0.0",
         "0.0",
         "0.0",
         "0.0",
         "0.0",
         "0.0",
         "0.0",
         "0.0",
         "0.0",
         "0.32942351601462777",
         "0.0",
         "0.0",
         "0.0",
         "0.0",
         "0.0",
         "0.0",
         "0.0",
         "0.0",
         "0.0",
         "0.0",
         "0.0",
         "0.0",
         "0.0",
         "0.0",
         "0.0",
         "0.0",
         "0.0",
         "0.0",
         "0.0",
         "0.0",
         "0.0",
         "0.0",
         "0.0",
         "0.0",
         "0.0",
         "0.0",
         "0.0",
         "0.0",
         "0.0",
         "0.0",
         "0.0",
         "0.0",
         "0.0",
         "0.0",
         "0.0",
         "0.0",
         "0.0",
         "0.0",
         "0.0",
         "0.0",
         "0.0",
         "0.0",
         "0.0",
         "0.0",
         "0.0",
         "0.0",
         "0.0",
         "0.0",
         "0.0",
         "0.0",
         "0.0",
         "0.0",
         "0.0",
         "0.0",
         "0.0",
         "0.0",
         "0.0",
         "0.0",
         "0.0",
         "0.0",
         "0.0",
         "0.0",
         "0.0",
         "0.0",
         "0.0",
         "0.0",
         "0.0",
         "0.0",
         "0.0",
         "0.0",
         "0.0",
         "0.0",
         "0.0",
         "0.0",
         "0.0",
         "0.0",
         "0.0",
         "0.0",
         "0.0",
         "0.0",
         "0.0",
         "0.0",
         "0.0",
         "0.0",
         "0.0",
         "0.0",
         "0.0",
         "0.0",
         "0.0",
         "0.0",
         "0.0",
         "0.0",
         "0.0",
         "0.0",
         "0.0",
         "0.0",
         "0.0",
         "0.0",
         "0.0",
         "0.0",
         "0.0",
         "0.0",
         "0.0",
         "0.0",
         "0.0",
         "0.0",
         "0.0",
         "0.0",
         "0.0",
         "0.0",
         "0.0",
         "0.0",
         "0.0",
         "0.0",
         "0.0",
         "0.0",
         "0.0",
         "0.0",
         "0.0",
         "0.0",
         "0.0",
         "0.0",
         "0.0",
         "0.0",
         "0.0",
         "0.0",
         "0.4052475978234488",
         "0.0",
         "0.0",
         "0.0",
         "0.0",
         "0.0",
         "0.0",
         "0.0",
         "0.0",
         "0.0",
         "0.0",
         "0.0",
         "0.2204382212773604",
         "0.0",
         "0.0",
         "0.0",
         "0.0",
         "0.0",
         "0.0",
         "0.0",
         "0.0",
         "0.0",
         "0.0",
         "0.0",
         "0.0",
         "0.0",
         "0.0",
         "0.0",
         "0.0",
         "0.0",
         "0.0",
         "0.0",
         "0.0",
         "0.0",
         "0.0",
         "0.0",
         "0.0",
         "0.0",
         "0.0",
         "0.0",
         "0.0",
         "0.0",
         "0.0",
         "0.0",
         "0.0",
         "0.0",
         "0.0",
         "0.0",
         "0.0",
         "0.0",
         "0.0",
         "0.0",
         "0.0",
         "0.0",
         "0.0",
         "0.0",
         "0.0",
         "0.0",
         "0.0",
         "0.0",
         "0.1737892459669341",
         "0.0",
         "0.0",
         "0.0",
         "0.0",
         "0.0",
         "0.0",
         "0.0",
         "0.0",
         "0.0",
         "0.0",
         "0.0",
         "0.0",
         "0.0",
         "0.0",
         "0.0",
         "0.0",
         "0.0",
         "0.3757310150765877",
         "0.0",
         "0.0",
         "0.0",
         "0.0",
         "0.0",
         "0.0",
         "0.0",
         "0.0",
         "0.0",
         "0.0",
         "0.0",
         "0.0",
         "0.0",
         "0.0",
         "0.0",
         "0.0",
         "0.0",
         "0.0",
         "0.0",
         "0.0",
         "0.0",
         "0.0",
         "0.0",
         "0.0",
         "0.0",
         "0.0",
         "0.0",
         "0.0",
         "0.0",
         "0.2005577216439974",
         "0.0",
         "0.0",
         "0.0",
         "0.0",
         "0.0",
         "0.0",
         "0.0",
         "0.0",
         "0.0",
         "0.0",
         "0.0",
         "0.0",
         "0.0",
         "0.0",
         "0.0",
         "0.0",
         "0.0",
         "0.0",
         "0.11853200607322326",
         "0.0",
         "0.0",
         "0.0",
         "0.0",
         "0.0",
         "0.0",
         "0.0",
         "0.0",
         "0.0",
         "0.0",
         "0.0",
         "0.0",
         "0.0",
         "0.0",
         "0.0",
         "0.0",
         "0.1684850544704526",
         "0.0",
         "0.0",
         "0.0",
         "0.0",
         "0.0",
         "0.0",
         "0.0",
         "0.0",
         "0.0",
         "0.0",
         "0.0",
         "0.0",
         "0.0",
         "0.0",
         "0.0",
         "0.0",
         "0.0",
         "0.0",
         "0.0",
         "0.0",
         "0.0",
         "0.0",
         "0.0",
         "0.0",
         "0.0",
         "0.0",
         "0.0",
         "0.0",
         "0.0",
         "0.0",
         "0.0",
         "0.0",
         "0.0",
         "0.0",
         "0.0",
         "0.0",
         "0.0",
         "0.0",
         "0.0",
         "0.0",
         "0.0",
         "0.0",
         "0.0",
         "0.0",
         "0.0",
         "0.0",
         "0.0",
         "0.0",
         "0.0",
         "0.0",
         "0.0",
         "0.0",
         "0.0",
         "0.0",
         "0.0",
         "0.0",
         "0.0",
         "0.0"
        ],
        [
         "2",
         "0.0",
         "0.0",
         "0.0",
         "0.0",
         "0.0",
         "0.0",
         "0.0",
         "0.0",
         "0.0",
         "0.0",
         "0.0",
         "0.0",
         "0.0",
         "0.0",
         "0.0",
         "0.0",
         "0.0",
         "0.0",
         "0.0",
         "0.0",
         "0.0",
         "0.0",
         "0.0",
         "0.0",
         "0.0",
         "0.0",
         "0.0",
         "0.0",
         "0.0",
         "0.0",
         "0.0",
         "0.0",
         "0.0",
         "0.0",
         "0.0",
         "0.0",
         "0.0",
         "0.0",
         "0.0",
         "0.0",
         "0.0",
         "0.0",
         "0.0",
         "0.0",
         "0.0",
         "0.0",
         "0.0",
         "0.0",
         "0.0",
         "0.0",
         "0.0",
         "0.0",
         "0.0",
         "0.0",
         "0.0",
         "0.0",
         "0.0",
         "0.0",
         "0.0",
         "0.0",
         "0.0",
         "0.0",
         "0.0",
         "0.0",
         "0.0",
         "0.0",
         "0.476719056464995",
         "0.0",
         "0.0",
         "0.0",
         "0.0",
         "0.0",
         "0.0",
         "0.0",
         "0.0",
         "0.0",
         "0.0",
         "0.0",
         "0.0",
         "0.0",
         "0.0",
         "0.0",
         "0.0",
         "0.0",
         "0.0",
         "0.0",
         "0.0",
         "0.0",
         "0.0",
         "0.0",
         "0.0",
         "0.0",
         "0.0",
         "0.0",
         "0.0",
         "0.0",
         "0.0",
         "0.0",
         "0.0",
         "0.0",
         "0.0",
         "0.0",
         "0.0",
         "0.0",
         "0.0",
         "0.0",
         "0.0",
         "0.0",
         "0.0",
         "0.0",
         "0.0",
         "0.0",
         "0.0",
         "0.0",
         "0.0",
         "0.0",
         "0.0",
         "0.0",
         "0.0",
         "0.0",
         "0.0",
         "0.0",
         "0.0",
         "0.0",
         "0.0",
         "0.0",
         "0.0",
         "0.0",
         "0.0",
         "0.0",
         "0.0",
         "0.0",
         "0.0",
         "0.0",
         "0.0",
         "0.0",
         "0.0",
         "0.0",
         "0.0",
         "0.0",
         "0.0",
         "0.0",
         "0.0",
         "0.0",
         "0.0",
         "0.0",
         "0.0",
         "0.0",
         "0.0",
         "0.0",
         "0.0",
         "0.0",
         "0.0",
         "0.0",
         "0.0",
         "0.0",
         "0.0",
         "0.0",
         "0.0",
         "0.0",
         "0.0",
         "0.0",
         "0.0",
         "0.0",
         "0.0",
         "0.0",
         "0.0",
         "0.0",
         "0.0",
         "0.0",
         "0.0",
         "0.0",
         "0.0",
         "0.0",
         "0.0",
         "0.0",
         "0.0",
         "0.0",
         "0.0",
         "0.0",
         "0.0",
         "0.0",
         "0.0",
         "0.0",
         "0.0",
         "0.0",
         "0.0",
         "0.0",
         "0.0",
         "0.0",
         "0.0",
         "0.0",
         "0.0",
         "0.0",
         "0.0",
         "0.0",
         "0.0",
         "0.0",
         "0.0",
         "0.0",
         "0.0",
         "0.0",
         "0.0",
         "0.0",
         "0.0",
         "0.0",
         "0.0",
         "0.0",
         "0.0",
         "0.0",
         "0.0",
         "0.0",
         "0.0",
         "0.0",
         "0.0",
         "0.0",
         "0.0",
         "0.0",
         "0.0",
         "0.0",
         "0.0",
         "0.0",
         "0.0",
         "0.0",
         "0.0",
         "0.0",
         "0.0",
         "0.0",
         "0.0",
         "0.0",
         "0.0",
         "0.0",
         "0.0",
         "0.0",
         "0.0",
         "0.0",
         "0.0",
         "0.0",
         "0.0",
         "0.0",
         "0.0",
         "0.0",
         "0.0",
         "0.0",
         "0.0",
         "0.0",
         "0.0",
         "0.0",
         "0.0",
         "0.0",
         "0.0",
         "0.0",
         "0.0",
         "0.0",
         "0.0",
         "0.0",
         "0.0",
         "0.0",
         "0.0",
         "0.0",
         "0.0",
         "0.0",
         "0.0",
         "0.0",
         "0.0",
         "0.0",
         "0.0",
         "0.0",
         "0.0",
         "0.0",
         "0.0",
         "0.0",
         "0.0",
         "0.0",
         "0.0",
         "0.0",
         "0.0",
         "0.0",
         "0.0",
         "0.0",
         "0.0",
         "0.0",
         "0.0",
         "0.0",
         "0.0",
         "0.0",
         "0.0",
         "0.0",
         "0.0",
         "0.0",
         "0.0",
         "0.0",
         "0.0",
         "0.0",
         "0.0",
         "0.0",
         "0.0",
         "0.0",
         "0.0",
         "0.0",
         "0.0",
         "0.0",
         "0.0",
         "0.0",
         "0.0",
         "0.0",
         "0.0",
         "0.0",
         "0.0",
         "0.0",
         "0.0",
         "0.0",
         "0.0",
         "0.0",
         "0.0",
         "0.0",
         "0.0",
         "0.0",
         "0.0",
         "0.0",
         "0.0",
         "0.0",
         "0.0",
         "0.0",
         "0.0",
         "0.0",
         "0.0",
         "0.0",
         "0.0",
         "0.0",
         "0.0",
         "0.0",
         "0.0",
         "0.17410521629667494",
         "0.0",
         "0.0",
         "0.0",
         "0.0",
         "0.0",
         "0.0",
         "0.0",
         "0.0",
         "0.0",
         "0.0",
         "0.0",
         "0.0",
         "0.0",
         "0.0",
         "0.0",
         "0.0",
         "0.0",
         "0.0",
         "0.0",
         "0.0",
         "0.0",
         "0.0",
         "0.0",
         "0.0",
         "0.0",
         "0.0",
         "0.0",
         "0.0",
         "0.0",
         "0.0",
         "0.0",
         "0.0",
         "0.0",
         "0.0",
         "0.0",
         "0.0",
         "0.0",
         "0.0",
         "0.0",
         "0.0",
         "0.0",
         "0.0",
         "0.0",
         "0.0",
         "0.0",
         "0.0",
         "0.16446189408983014",
         "0.0",
         "0.0",
         "0.0",
         "0.0",
         "0.0",
         "0.0",
         "0.0",
         "0.0",
         "0.0",
         "0.0",
         "0.0",
         "0.0",
         "0.0",
         "0.0",
         "0.0",
         "0.0",
         "0.5476298108300518",
         "0.0",
         "0.0",
         "0.0",
         "0.0",
         "0.0",
         "0.0",
         "0.0",
         "0.0",
         "0.0",
         "0.0",
         "0.0",
         "0.0",
         "0.0",
         "0.0",
         "0.0",
         "0.0",
         "0.0",
         "0.0",
         "0.0",
         "0.0",
         "0.0",
         "0.0",
         "0.0",
         "0.0",
         "0.5574067046198756",
         "0.0",
         "0.0",
         "0.0",
         "0.0",
         "0.0",
         "0.0",
         "0.0",
         "0.0",
         "0.0",
         "0.0",
         "0.0",
         "0.0",
         "0.0",
         "0.0",
         "0.0",
         "0.0",
         "0.0",
         "0.0",
         "0.0",
         "0.0",
         "0.0",
         "0.0",
         "0.0",
         "0.0",
         "0.0",
         "0.0",
         "0.0",
         "0.0",
         "0.0",
         "0.0",
         "0.0",
         "0.0",
         "0.0",
         "0.0",
         "0.0",
         "0.0",
         "0.0",
         "0.0",
         "0.0",
         "0.0",
         "0.0",
         "0.0",
         "0.0",
         "0.0",
         "0.0",
         "0.0",
         "0.0",
         "0.0",
         "0.3236942325541973",
         "0.0",
         "0.0",
         "0.0",
         "0.0",
         "0.0",
         "0.0",
         "0.0",
         "0.0",
         "0.0",
         "0.0",
         "0.0",
         "0.0",
         "0.0",
         "0.0",
         "0.0",
         "0.0",
         "0.0",
         "0.0",
         "0.0",
         "0.0",
         "0.0",
         "0.0",
         "0.0",
         "0.0",
         "0.0",
         "0.0",
         "0.0",
         "0.0"
        ],
        [
         "3",
         "0.0",
         "0.0",
         "0.0",
         "0.0",
         "0.0",
         "0.0",
         "0.0",
         "0.0",
         "0.0",
         "0.0",
         "0.0",
         "0.0",
         "0.0",
         "0.0",
         "0.0",
         "0.0",
         "0.0",
         "0.0",
         "0.0",
         "0.0",
         "0.0",
         "0.0",
         "0.0",
         "0.0",
         "0.0",
         "0.0",
         "0.0",
         "0.0",
         "0.0",
         "0.0",
         "0.0",
         "0.0",
         "0.0",
         "0.0",
         "0.0",
         "0.0",
         "0.0",
         "0.0",
         "0.0",
         "0.0",
         "0.0",
         "0.0",
         "0.0",
         "0.35813269041798623",
         "0.0",
         "0.0",
         "0.0",
         "0.0",
         "0.0",
         "0.0",
         "0.0",
         "0.0",
         "0.0",
         "0.0",
         "0.0",
         "0.0",
         "0.0",
         "0.0",
         "0.0",
         "0.0",
         "0.0",
         "0.0",
         "0.0",
         "0.0",
         "0.0",
         "0.0",
         "0.0",
         "0.0",
         "0.0",
         "0.0",
         "0.0",
         "0.0",
         "0.0",
         "0.0",
         "0.0",
         "0.0",
         "0.0",
         "0.0",
         "0.0",
         "0.0",
         "0.0",
         "0.0",
         "0.0",
         "0.0",
         "0.0",
         "0.0",
         "0.0",
         "0.0",
         "0.0",
         "0.0",
         "0.0",
         "0.0",
         "0.0",
         "0.0",
         "0.0",
         "0.0",
         "0.0",
         "0.0",
         "0.0",
         "0.0",
         "0.0",
         "0.0",
         "0.0",
         "0.0",
         "0.0",
         "0.0",
         "0.0",
         "0.0",
         "0.0",
         "0.0",
         "0.0",
         "0.0",
         "0.0",
         "0.0",
         "0.0",
         "0.0",
         "0.0",
         "0.0",
         "0.0",
         "0.0",
         "0.0",
         "0.0",
         "0.0",
         "0.0",
         "0.0",
         "0.0",
         "0.0",
         "0.0",
         "0.0",
         "0.0",
         "0.0",
         "0.0",
         "0.0",
         "0.0",
         "0.0",
         "0.0",
         "0.0",
         "0.0",
         "0.0",
         "0.0",
         "0.0",
         "0.0",
         "0.0",
         "0.0",
         "0.0",
         "0.0",
         "0.0",
         "0.0",
         "0.0",
         "0.0",
         "0.0",
         "0.0",
         "0.0",
         "0.0",
         "0.0",
         "0.0",
         "0.0",
         "0.0",
         "0.0",
         "0.0",
         "0.0",
         "0.0",
         "0.0",
         "0.0",
         "0.0",
         "0.0",
         "0.0",
         "0.0",
         "0.0",
         "0.0",
         "0.0",
         "0.0",
         "0.0",
         "0.0",
         "0.0",
         "0.0",
         "0.0",
         "0.0",
         "0.0",
         "0.0",
         "0.0",
         "0.0",
         "0.0",
         "0.0",
         "0.0",
         "0.0",
         "0.0",
         "0.0",
         "0.0",
         "0.0",
         "0.0",
         "0.0",
         "0.0",
         "0.0",
         "0.0",
         "0.0",
         "0.0",
         "0.0",
         "0.0",
         "0.0",
         "0.0",
         "0.0",
         "0.0",
         "0.0",
         "0.0",
         "0.0",
         "0.0",
         "0.0",
         "0.0",
         "0.0",
         "0.0",
         "0.0",
         "0.0",
         "0.0",
         "0.0",
         "0.0",
         "0.0",
         "0.0",
         "0.0",
         "0.0",
         "0.0",
         "0.0",
         "0.0",
         "0.0",
         "0.0",
         "0.0",
         "0.0",
         "0.0",
         "0.0",
         "0.0",
         "0.0",
         "0.0",
         "0.0",
         "0.0",
         "0.0",
         "0.0",
         "0.0",
         "0.0",
         "0.0",
         "0.0",
         "0.0",
         "0.0",
         "0.0",
         "0.0",
         "0.0",
         "0.0",
         "0.0",
         "0.0",
         "0.0",
         "0.0",
         "0.0",
         "0.0",
         "0.0",
         "0.0",
         "0.0",
         "0.0",
         "0.0",
         "0.0",
         "0.0",
         "0.0",
         "0.0",
         "0.0",
         "0.0",
         "0.0",
         "0.0",
         "0.0",
         "0.0",
         "0.0",
         "0.0",
         "0.0",
         "0.0",
         "0.0",
         "0.0",
         "0.0",
         "0.0",
         "0.0",
         "0.0",
         "0.0",
         "0.0",
         "0.0",
         "0.0",
         "0.0",
         "0.0",
         "0.0",
         "0.0",
         "0.0",
         "0.0",
         "0.0",
         "0.0",
         "0.0",
         "0.0",
         "0.0",
         "0.4063520337281595",
         "0.0",
         "0.0",
         "0.0",
         "0.0",
         "0.0",
         "0.0",
         "0.0",
         "0.0",
         "0.0",
         "0.0",
         "0.0",
         "0.0",
         "0.0",
         "0.0",
         "0.0",
         "0.0",
         "0.0",
         "0.0",
         "0.0",
         "0.0",
         "0.0",
         "0.0",
         "0.0",
         "0.0",
         "0.0",
         "0.0",
         "0.0",
         "0.0",
         "0.0",
         "0.0",
         "0.0",
         "0.0",
         "0.0",
         "0.0",
         "0.0",
         "0.0",
         "0.0",
         "0.0",
         "0.0",
         "0.0",
         "0.0",
         "0.0",
         "0.11602336426796295",
         "0.0",
         "0.0",
         "0.0",
         "0.0",
         "0.0",
         "0.0",
         "0.3221069278916292",
         "0.0",
         "0.0",
         "0.0",
         "0.0",
         "0.0",
         "0.0",
         "0.0",
         "0.0",
         "0.0",
         "0.0",
         "0.0",
         "0.0",
         "0.19621200018395518",
         "0.0",
         "0.1301599313831877",
         "0.0",
         "0.0",
         "0.0",
         "0.0",
         "0.0",
         "0.0",
         "0.0",
         "0.0",
         "0.0",
         "0.0",
         "0.0",
         "0.0",
         "0.0",
         "0.0",
         "0.0",
         "0.0",
         "0.0",
         "0.0",
         "0.0",
         "0.0",
         "0.0",
         "0.0",
         "0.0",
         "0.0",
         "0.0",
         "0.3054934686745145",
         "0.0",
         "0.0",
         "0.0",
         "0.0",
         "0.0",
         "0.0",
         "0.0",
         "0.0",
         "0.0",
         "0.0",
         "0.0",
         "0.0",
         "0.0",
         "0.0",
         "0.0",
         "0.0",
         "0.0",
         "0.0",
         "0.0",
         "0.0",
         "0.0",
         "0.0",
         "0.0",
         "0.0",
         "0.0",
         "0.0",
         "0.0",
         "0.0",
         "0.0",
         "0.0",
         "0.0",
         "0.0",
         "0.0",
         "0.0",
         "0.0",
         "0.0",
         "0.0",
         "0.0",
         "0.0",
         "0.0",
         "0.18630403382045885",
         "0.0",
         "0.0",
         "0.0",
         "0.0",
         "0.0",
         "0.0",
         "0.0",
         "0.0",
         "0.0",
         "0.0",
         "0.0",
         "0.0",
         "0.0",
         "0.0",
         "0.0",
         "0.0",
         "0.0",
         "0.0",
         "0.0",
         "0.0",
         "0.0",
         "0.0",
         "0.0",
         "0.0",
         "0.0",
         "0.0",
         "0.0",
         "0.0",
         "0.0",
         "0.0",
         "0.0",
         "0.0",
         "0.0",
         "0.0",
         "0.0",
         "0.0",
         "0.0",
         "0.0",
         "0.0",
         "0.0",
         "0.0",
         "0.0",
         "0.0",
         "0.0",
         "0.0",
         "0.0",
         "0.0",
         "0.0",
         "0.0",
         "0.0",
         "0.0",
         "0.0",
         "0.0",
         "0.0",
         "0.0",
         "0.0",
         "0.0",
         "0.0",
         "0.0",
         "0.0",
         "0.0",
         "0.0",
         "0.6371251819797252",
         "0.0",
         "0.0",
         "0.0",
         "0.0",
         "0.0",
         "0.0",
         "0.0",
         "0.0",
         "0.0",
         "0.0",
         "0.0",
         "0.0"
        ],
        [
         "4",
         "0.0",
         "0.0",
         "0.0",
         "0.0",
         "0.0",
         "0.0",
         "0.1727665693195459",
         "0.0",
         "0.0",
         "0.0",
         "0.0",
         "0.0",
         "0.0",
         "0.0",
         "0.0",
         "0.0",
         "0.0",
         "0.0",
         "0.0",
         "0.0",
         "0.0",
         "0.0",
         "0.0",
         "0.0",
         "0.0",
         "0.0",
         "0.0",
         "0.0",
         "0.0",
         "0.0",
         "0.0",
         "0.33202754807662777",
         "0.0",
         "0.0",
         "0.0",
         "0.0",
         "0.0",
         "0.0",
         "0.0",
         "0.0",
         "0.0",
         "0.0",
         "0.0",
         "0.0",
         "0.0",
         "0.0",
         "0.0",
         "0.0",
         "0.0",
         "0.0",
         "0.0",
         "0.0",
         "0.0",
         "0.0",
         "0.0",
         "0.0",
         "0.0",
         "0.0",
         "0.0",
         "0.0",
         "0.0",
         "0.0",
         "0.0",
         "0.0",
         "0.0",
         "0.0",
         "0.0",
         "0.0",
         "0.0",
         "0.0",
         "0.0",
         "0.0",
         "0.0",
         "0.0",
         "0.0",
         "0.0",
         "0.0",
         "0.0",
         "0.0",
         "0.0",
         "0.0",
         "0.0",
         "0.0",
         "0.0",
         "0.0",
         "0.0",
         "0.0",
         "0.0",
         "0.0",
         "0.0",
         "0.0",
         "0.0",
         "0.0",
         "0.0",
         "0.0",
         "0.0",
         "0.0",
         "0.0",
         "0.0",
         "0.0",
         "0.0",
         "0.0",
         "0.0",
         "0.0",
         "0.0",
         "0.0",
         "0.0",
         "0.0",
         "0.0",
         "0.0",
         "0.0",
         "0.0",
         "0.0",
         "0.0",
         "0.0",
         "0.0",
         "0.0",
         "0.0",
         "0.0",
         "0.0",
         "0.0",
         "0.0",
         "0.0",
         "0.0",
         "0.0",
         "0.0",
         "0.0",
         "0.0",
         "0.0",
         "0.0",
         "0.0",
         "0.0",
         "0.0",
         "0.0",
         "0.0",
         "0.0",
         "0.0",
         "0.0",
         "0.0",
         "0.0",
         "0.0",
         "0.0",
         "0.0",
         "0.0",
         "0.0",
         "0.0",
         "0.0",
         "0.0",
         "0.1851146366633601",
         "0.0",
         "0.0",
         "0.0",
         "0.0",
         "0.0",
         "0.0",
         "0.0",
         "0.28387216823890843",
         "0.0",
         "0.0",
         "0.0",
         "0.0",
         "0.0",
         "0.0",
         "0.0",
         "0.0",
         "0.0",
         "0.0",
         "0.0",
         "0.22109589566396465",
         "0.28167789563767637",
         "0.0",
         "0.0",
         "0.0",
         "0.0",
         "0.0",
         "0.0",
         "0.0",
         "0.0",
         "0.0",
         "0.0",
         "0.0",
         "0.0",
         "0.0",
         "0.0",
         "0.0",
         "0.0",
         "0.0",
         "0.0",
         "0.0",
         "0.12646506415292394",
         "0.0",
         "0.0",
         "0.0",
         "0.0",
         "0.0",
         "0.0",
         "0.0",
         "0.0",
         "0.0",
         "0.0",
         "0.0",
         "0.0",
         "0.0",
         "0.2395153383968059",
         "0.0",
         "0.0",
         "0.0",
         "0.0",
         "0.0",
         "0.0",
         "0.0",
         "0.0",
         "0.0",
         "0.0",
         "0.0",
         "0.0",
         "0.0",
         "0.0",
         "0.0",
         "0.0",
         "0.0",
         "0.0",
         "0.0",
         "0.14955072917452622",
         "0.0",
         "0.0",
         "0.0",
         "0.0",
         "0.0",
         "0.0",
         "0.0",
         "0.0",
         "0.0",
         "0.0",
         "0.0",
         "0.0",
         "0.0",
         "0.0",
         "0.2896602866838781",
         "0.0",
         "0.0",
         "0.0",
         "0.0",
         "0.0",
         "0.0",
         "0.0",
         "0.0",
         "0.0",
         "0.0",
         "0.114269418077322",
         "0.0",
         "0.0",
         "0.0",
         "0.0",
         "0.0",
         "0.0",
         "0.0",
         "0.0",
         "0.0",
         "0.0",
         "0.0",
         "0.0",
         "0.0",
         "0.0",
         "0.0",
         "0.0",
         "0.0",
         "0.0",
         "0.0",
         "0.0",
         "0.0",
         "0.0",
         "0.0",
         "0.0",
         "0.0",
         "0.0",
         "0.0",
         "0.0",
         "0.0",
         "0.0",
         "0.0",
         "0.0",
         "0.0",
         "0.0",
         "0.0",
         "0.0",
         "0.0",
         "0.0",
         "0.0",
         "0.0",
         "0.0",
         "0.0",
         "0.0",
         "0.0",
         "0.0",
         "0.0",
         "0.0",
         "0.0",
         "0.0",
         "0.0",
         "0.0",
         "0.0",
         "0.0",
         "0.0",
         "0.0",
         "0.0",
         "0.0",
         "0.0",
         "0.0",
         "0.20996190549128918",
         "0.0",
         "0.0",
         "0.0",
         "0.5329744934443755",
         "0.0",
         "0.0",
         "0.0",
         "0.0",
         "0.0",
         "0.0",
         "0.0",
         "0.0",
         "0.0",
         "0.0",
         "0.0",
         "0.0",
         "0.0",
         "0.0",
         "0.0",
         "0.0",
         "0.0",
         "0.0",
         "0.0",
         "0.08195569321528567",
         "0.0",
         "0.08714649767873651",
         "0.0",
         "0.0",
         "0.0",
         "0.0",
         "0.0",
         "0.0",
         "0.0",
         "0.0",
         "0.0",
         "0.0",
         "0.0",
         "0.0",
         "0.0",
         "0.0",
         "0.0",
         "0.0",
         "0.0",
         "0.0",
         "0.0",
         "0.24953114557626171",
         "0.0",
         "0.0",
         "0.0",
         "0.0",
         "0.0",
         "0.0",
         "0.0",
         "0.0",
         "0.0",
         "0.0",
         "0.0",
         "0.0",
         "0.0",
         "0.0",
         "0.0",
         "0.0",
         "0.0",
         "0.0",
         "0.0",
         "0.0",
         "0.0",
         "0.0",
         "0.0",
         "0.0",
         "0.07741633952347204",
         "0.0",
         "0.0",
         "0.0",
         "0.0",
         "0.0",
         "0.0",
         "0.0",
         "0.0",
         "0.0",
         "0.0",
         "0.0",
         "0.0",
         "0.0",
         "0.0",
         "0.0",
         "0.0",
         "0.0",
         "0.0",
         "0.0",
         "0.0",
         "0.0",
         "0.0",
         "0.0",
         "0.0",
         "0.0",
         "0.0",
         "0.0",
         "0.0",
         "0.0",
         "0.0",
         "0.0",
         "0.0",
         "0.0",
         "0.0",
         "0.0",
         "0.0",
         "0.0",
         "0.0",
         "0.0",
         "0.0",
         "0.0",
         "0.0",
         "0.0",
         "0.06667983712442534",
         "0.0",
         "0.0",
         "0.0",
         "0.0",
         "0.0",
         "0.0",
         "0.0",
         "0.0",
         "0.0",
         "0.0",
         "0.0",
         "0.0",
         "0.0",
         "0.0",
         "0.0",
         "0.0",
         "0.09478077999497919",
         "0.0",
         "0.0",
         "0.0",
         "0.0",
         "0.0",
         "0.0",
         "0.0",
         "0.0",
         "0.0",
         "0.0",
         "0.0",
         "0.0",
         "0.0",
         "0.0",
         "0.0",
         "0.0",
         "0.0",
         "0.0",
         "0.0",
         "0.0",
         "0.0",
         "0.0",
         "0.0",
         "0.0",
         "0.0",
         "0.0",
         "0.0",
         "0.0",
         "0.0",
         "0.0",
         "0.0",
         "0.0",
         "0.0",
         "0.0",
         "0.0",
         "0.0",
         "0.0",
         "0.0",
         "0.0",
         "0.0",
         "0.0",
         "0.0",
         "0.0",
         "0.0",
         "0.0",
         "0.0",
         "0.0",
         "0.0",
         "0.0",
         "0.0",
         "0.0",
         "0.0",
         "0.0",
         "0.0",
         "0.0",
         "0.0",
         "0.0",
         "0.0"
        ]
       ],
       "shape": {
        "columns": 500,
        "rows": 5
       }
      },
      "text/html": [
       "<div>\n",
       "<style scoped>\n",
       "    .dataframe tbody tr th:only-of-type {\n",
       "        vertical-align: middle;\n",
       "    }\n",
       "\n",
       "    .dataframe tbody tr th {\n",
       "        vertical-align: top;\n",
       "    }\n",
       "\n",
       "    .dataframe thead th {\n",
       "        text-align: right;\n",
       "    }\n",
       "</style>\n",
       "<table border=\"1\" class=\"dataframe\">\n",
       "  <thead>\n",
       "    <tr style=\"text-align: right;\">\n",
       "      <th></th>\n",
       "      <th>accordance</th>\n",
       "      <th>accordingly</th>\n",
       "      <th>account</th>\n",
       "      <th>accrue</th>\n",
       "      <th>achieve</th>\n",
       "      <th>achievement</th>\n",
       "      <th>acquire</th>\n",
       "      <th>acquisition</th>\n",
       "      <th>act</th>\n",
       "      <th>actual</th>\n",
       "      <th>...</th>\n",
       "      <th>wife</th>\n",
       "      <th>william</th>\n",
       "      <th>withhold</th>\n",
       "      <th>withholding</th>\n",
       "      <th>wp</th>\n",
       "      <th>write</th>\n",
       "      <th>wynnefield</th>\n",
       "      <th>xi</th>\n",
       "      <th>year</th>\n",
       "      <th>york</th>\n",
       "    </tr>\n",
       "  </thead>\n",
       "  <tbody>\n",
       "    <tr>\n",
       "      <th>0</th>\n",
       "      <td>0.0</td>\n",
       "      <td>0.0</td>\n",
       "      <td>0.0</td>\n",
       "      <td>0.0</td>\n",
       "      <td>0.0</td>\n",
       "      <td>0.0</td>\n",
       "      <td>0.000000</td>\n",
       "      <td>0.0</td>\n",
       "      <td>0.0</td>\n",
       "      <td>0.0</td>\n",
       "      <td>...</td>\n",
       "      <td>0.0</td>\n",
       "      <td>0.0</td>\n",
       "      <td>0.0</td>\n",
       "      <td>0.0</td>\n",
       "      <td>0.0</td>\n",
       "      <td>0.0</td>\n",
       "      <td>0.0</td>\n",
       "      <td>0.0</td>\n",
       "      <td>0.0</td>\n",
       "      <td>0.0</td>\n",
       "    </tr>\n",
       "    <tr>\n",
       "      <th>1</th>\n",
       "      <td>0.0</td>\n",
       "      <td>0.0</td>\n",
       "      <td>0.0</td>\n",
       "      <td>0.0</td>\n",
       "      <td>0.0</td>\n",
       "      <td>0.0</td>\n",
       "      <td>0.307115</td>\n",
       "      <td>0.0</td>\n",
       "      <td>0.0</td>\n",
       "      <td>0.0</td>\n",
       "      <td>...</td>\n",
       "      <td>0.0</td>\n",
       "      <td>0.0</td>\n",
       "      <td>0.0</td>\n",
       "      <td>0.0</td>\n",
       "      <td>0.0</td>\n",
       "      <td>0.0</td>\n",
       "      <td>0.0</td>\n",
       "      <td>0.0</td>\n",
       "      <td>0.0</td>\n",
       "      <td>0.0</td>\n",
       "    </tr>\n",
       "    <tr>\n",
       "      <th>2</th>\n",
       "      <td>0.0</td>\n",
       "      <td>0.0</td>\n",
       "      <td>0.0</td>\n",
       "      <td>0.0</td>\n",
       "      <td>0.0</td>\n",
       "      <td>0.0</td>\n",
       "      <td>0.000000</td>\n",
       "      <td>0.0</td>\n",
       "      <td>0.0</td>\n",
       "      <td>0.0</td>\n",
       "      <td>...</td>\n",
       "      <td>0.0</td>\n",
       "      <td>0.0</td>\n",
       "      <td>0.0</td>\n",
       "      <td>0.0</td>\n",
       "      <td>0.0</td>\n",
       "      <td>0.0</td>\n",
       "      <td>0.0</td>\n",
       "      <td>0.0</td>\n",
       "      <td>0.0</td>\n",
       "      <td>0.0</td>\n",
       "    </tr>\n",
       "    <tr>\n",
       "      <th>3</th>\n",
       "      <td>0.0</td>\n",
       "      <td>0.0</td>\n",
       "      <td>0.0</td>\n",
       "      <td>0.0</td>\n",
       "      <td>0.0</td>\n",
       "      <td>0.0</td>\n",
       "      <td>0.000000</td>\n",
       "      <td>0.0</td>\n",
       "      <td>0.0</td>\n",
       "      <td>0.0</td>\n",
       "      <td>...</td>\n",
       "      <td>0.0</td>\n",
       "      <td>0.0</td>\n",
       "      <td>0.0</td>\n",
       "      <td>0.0</td>\n",
       "      <td>0.0</td>\n",
       "      <td>0.0</td>\n",
       "      <td>0.0</td>\n",
       "      <td>0.0</td>\n",
       "      <td>0.0</td>\n",
       "      <td>0.0</td>\n",
       "    </tr>\n",
       "    <tr>\n",
       "      <th>4</th>\n",
       "      <td>0.0</td>\n",
       "      <td>0.0</td>\n",
       "      <td>0.0</td>\n",
       "      <td>0.0</td>\n",
       "      <td>0.0</td>\n",
       "      <td>0.0</td>\n",
       "      <td>0.172767</td>\n",
       "      <td>0.0</td>\n",
       "      <td>0.0</td>\n",
       "      <td>0.0</td>\n",
       "      <td>...</td>\n",
       "      <td>0.0</td>\n",
       "      <td>0.0</td>\n",
       "      <td>0.0</td>\n",
       "      <td>0.0</td>\n",
       "      <td>0.0</td>\n",
       "      <td>0.0</td>\n",
       "      <td>0.0</td>\n",
       "      <td>0.0</td>\n",
       "      <td>0.0</td>\n",
       "      <td>0.0</td>\n",
       "    </tr>\n",
       "  </tbody>\n",
       "</table>\n",
       "<p>5 rows × 500 columns</p>\n",
       "</div>"
      ],
      "text/plain": [
       "   accordance  accordingly  account  accrue  achieve  achievement   acquire  \\\n",
       "0         0.0          0.0      0.0     0.0      0.0          0.0  0.000000   \n",
       "1         0.0          0.0      0.0     0.0      0.0          0.0  0.307115   \n",
       "2         0.0          0.0      0.0     0.0      0.0          0.0  0.000000   \n",
       "3         0.0          0.0      0.0     0.0      0.0          0.0  0.000000   \n",
       "4         0.0          0.0      0.0     0.0      0.0          0.0  0.172767   \n",
       "\n",
       "   acquisition  act  actual  ...  wife  william  withhold  withholding   wp  \\\n",
       "0          0.0  0.0     0.0  ...   0.0      0.0       0.0          0.0  0.0   \n",
       "1          0.0  0.0     0.0  ...   0.0      0.0       0.0          0.0  0.0   \n",
       "2          0.0  0.0     0.0  ...   0.0      0.0       0.0          0.0  0.0   \n",
       "3          0.0  0.0     0.0  ...   0.0      0.0       0.0          0.0  0.0   \n",
       "4          0.0  0.0     0.0  ...   0.0      0.0       0.0          0.0  0.0   \n",
       "\n",
       "   write  wynnefield   xi  year  york  \n",
       "0    0.0         0.0  0.0   0.0   0.0  \n",
       "1    0.0         0.0  0.0   0.0   0.0  \n",
       "2    0.0         0.0  0.0   0.0   0.0  \n",
       "3    0.0         0.0  0.0   0.0   0.0  \n",
       "4    0.0         0.0  0.0   0.0   0.0  \n",
       "\n",
       "[5 rows x 500 columns]"
      ]
     },
     "execution_count": 23,
     "metadata": {},
     "output_type": "execute_result"
    }
   ],
   "source": [
    "tfidf_df.head()"
   ]
  },
  {
   "cell_type": "code",
   "execution_count": 24,
   "metadata": {},
   "outputs": [],
   "source": [
    "tfidf_df[\"prediction\"] = sampled_df[\"prediction\"]"
   ]
  },
  {
   "cell_type": "code",
   "execution_count": 25,
   "metadata": {},
   "outputs": [],
   "source": [
    "# Sort the suspicious words for non-j coded items\n",
    "\n",
    "suspicius = tfidf_df[tfidf_df['prediction'] == 1].drop(columns=[\"prediction\"]).mean()\n",
    "non_suspicious = tfidf_df[tfidf_df['prediction'] == 0].drop(columns=[\"prediction\"]).mean()\n",
    "suspicious_words = (suspicius - non_suspicious).sort_values(ascending=False)"
   ]
  },
  {
   "cell_type": "markdown",
   "metadata": {},
   "source": [
    "### Create TF-IDF for word importance for J-Coded transactions as they were deemed to be suspicious by the paper"
   ]
  },
  {
   "cell_type": "code",
   "execution_count": 26,
   "metadata": {},
   "outputs": [
    {
     "data": {
      "application/vnd.microsoft.datawrangler.viewer.v0+json": {
       "columns": [
        {
         "name": "index",
         "rawType": "int64",
         "type": "integer"
        },
        {
         "name": "ACCESSION_NUMBER",
         "rawType": "object",
         "type": "string"
        },
        {
         "name": "TRANS_CODE",
         "rawType": "object",
         "type": "string"
        },
        {
         "name": "TRANS_ACQUIRED_DISP_CD",
         "rawType": "object",
         "type": "string"
        },
        {
         "name": "probability",
         "rawType": "float64",
         "type": "float"
        },
        {
         "name": "prediction",
         "rawType": "int64",
         "type": "integer"
        },
        {
         "name": "FOOTNOTE_TXT",
         "rawType": "object",
         "type": "string"
        }
       ],
       "conversionMethod": "pd.DataFrame",
       "ref": "34c6140c-4d89-41b1-bf3f-71150352c9ed",
       "rows": [
        [
         "50",
         "0000891092-07-001488",
         "J",
         "D",
         "0.0900525862146798",
         "0",
         "In a Form 4 filed with the Securities and Exchange Commission on March 1, 2007, Mr. Benou reported the acquisition of 5,000  shares of Conlog's common stock on January 5, 2007; however, this transaction was cancelled as of January 5, 2007 and, as a  result, Mr. Benou did not purchase these shares. Mr. Benou is filing this amended Form 4 to report the cancellation. As of January 5, 2007, Mr. Benou owned 184,834 shares of the Company's common stock. As of April 16, 2007, Mr. Benou owns  104,003 shares of the Company's common stock."
        ],
        [
         "400",
         "0001181431-06-016208",
         "J",
         "D",
         "1.0",
         "1",
         "Represents shares beneficially owned by the Alvin Murstein Second Family Trust re-registered in the name of Bear Stearns Securities Corp. pursuant to a pre-existing pledge agreement. Represents shares beneficially owned by the Alvin Murstein Second Family Trust previously re-registered in the name of Bear Stearns Securities Corp. pursuant to a pre-existing pledge agreement. Represents shares beneficially owned by the Alvin Murstein Second Family Trust of which Mr. Murstein is a co-trustee and the beneficiary. Represents shares owned by Mr. Murstein's spouse."
        ],
        [
         "401",
         "0001181431-06-017619",
         "J",
         "D",
         "1.0",
         "1",
         "Reflects a distribution of 10,000 shares from the Alvin Murstein Second Family Trust to Alvin Murstein. Represents shares beneficially owned by the Alvin Murstein Second Family Trust of which Mr. Murstein is a co-trustee and the beneficiary. Represents shares beneficially owned by the Alvin Murstein Second Family Trust registered in the name of Bear Stearns Securities Corp. Represents shares owned by Mr. Murstein's spouse."
        ],
        [
         "671",
         "0001209191-19-008111",
         "J",
         "D",
         "0.9614251409578234",
         "1",
         "The transactions reported on this Form relate to the separation of Covetrus, Inc. (the \"Issuer\") from the Reporting Person, Henry Schein, Inc. (\"Henry Schein\"), effective February 7, 2019, pursuant to the Contribution and Distribution Agreement, dated as of April 20, 2018, as amended, among Henry Schein, the Issuer and certain other parties (the \"Distribution Agreement\"). Pursuant to the terms of the Distribution Agreement, Henry Schein, amongst other things on February 7, 2019, distributed all of the shares of the Issuer's common stock held by it to Henry Schein stockholders as of January 17, 2019 (the \"Distribution\"). After the Distribution, Henry Schein does not own any shares of the Issuer."
        ],
        [
         "672",
         "0001214659-19-003175",
         "J",
         "D",
         "0.5180406154734094",
         "0",
         "This statement is jointly filed by Royal Bank of Canada (\"RBC\"), RBC Municipal Products, LLC (\"MPI\") and RBC Capital Markets, LLC (\"RBCCM\"). RBC holds an indirect interest in the securities listed in Table I (the \"Securities\") by virtue of its indirect 100% ownership of its subsidiaries RBCCM and MPI. The 904 Variable Rate Muni Term Preferred Shares shown in Table I represent Variable Rate Muni Term Preferred Shares of the Issuer (the \"VMTP Shares\") that, prior to the date of this Form, were beneficially owned by MPI and deposited by MPI with The Bank of New York Mellon, as trustee of RBC Taxable TOB Trust, Series E-51, a Delaware trust that is a tender option bond financing trust (the \"TOB Trust\"). As of the date of this form, the VMTP Shares are no longer held with the TOB Trust and beneficial ownership of the 904 VMTP Shares was transferred from MPI to RBCCM for a purchase price of $100,000 per share. All the VMTP Shares of the Issuer are now beneficially owned by RBCCM. Each of RBBCM and MPI is a wholly owned subsidiary of RBC. Each reporting person declares that neither the filing of this statement nor anything herein shall be construed as an admission that such person is, for the purposes of Section 13(d) of the US Securities Exchange Act of 1934 or any other purpose, (i) acting (or has agreed or is agreeing to act together with any other person) as a partnership, limited partnership, syndicate or other group for the purpose of acquiring, holding or disposing of securities of the Issuer or otherwise with respect to the Issuer or any securities of the Issuer or (ii) a member of any group with respect to the Issuer or any securities of the Issuer."
        ]
       ],
       "shape": {
        "columns": 6,
        "rows": 5
       }
      },
      "text/html": [
       "<div>\n",
       "<style scoped>\n",
       "    .dataframe tbody tr th:only-of-type {\n",
       "        vertical-align: middle;\n",
       "    }\n",
       "\n",
       "    .dataframe tbody tr th {\n",
       "        vertical-align: top;\n",
       "    }\n",
       "\n",
       "    .dataframe thead th {\n",
       "        text-align: right;\n",
       "    }\n",
       "</style>\n",
       "<table border=\"1\" class=\"dataframe\">\n",
       "  <thead>\n",
       "    <tr style=\"text-align: right;\">\n",
       "      <th></th>\n",
       "      <th>ACCESSION_NUMBER</th>\n",
       "      <th>TRANS_CODE</th>\n",
       "      <th>TRANS_ACQUIRED_DISP_CD</th>\n",
       "      <th>probability</th>\n",
       "      <th>prediction</th>\n",
       "      <th>FOOTNOTE_TXT</th>\n",
       "    </tr>\n",
       "  </thead>\n",
       "  <tbody>\n",
       "    <tr>\n",
       "      <th>50</th>\n",
       "      <td>0000891092-07-001488</td>\n",
       "      <td>J</td>\n",
       "      <td>D</td>\n",
       "      <td>0.090053</td>\n",
       "      <td>0</td>\n",
       "      <td>In a Form 4 filed with the Securities and Exch...</td>\n",
       "    </tr>\n",
       "    <tr>\n",
       "      <th>400</th>\n",
       "      <td>0001181431-06-016208</td>\n",
       "      <td>J</td>\n",
       "      <td>D</td>\n",
       "      <td>1.000000</td>\n",
       "      <td>1</td>\n",
       "      <td>Represents shares beneficially owned by the Al...</td>\n",
       "    </tr>\n",
       "    <tr>\n",
       "      <th>401</th>\n",
       "      <td>0001181431-06-017619</td>\n",
       "      <td>J</td>\n",
       "      <td>D</td>\n",
       "      <td>1.000000</td>\n",
       "      <td>1</td>\n",
       "      <td>Reflects a distribution of 10,000 shares from ...</td>\n",
       "    </tr>\n",
       "    <tr>\n",
       "      <th>671</th>\n",
       "      <td>0001209191-19-008111</td>\n",
       "      <td>J</td>\n",
       "      <td>D</td>\n",
       "      <td>0.961425</td>\n",
       "      <td>1</td>\n",
       "      <td>The transactions reported on this Form relate ...</td>\n",
       "    </tr>\n",
       "    <tr>\n",
       "      <th>672</th>\n",
       "      <td>0001214659-19-003175</td>\n",
       "      <td>J</td>\n",
       "      <td>D</td>\n",
       "      <td>0.518041</td>\n",
       "      <td>0</td>\n",
       "      <td>This statement is jointly filed by Royal Bank ...</td>\n",
       "    </tr>\n",
       "  </tbody>\n",
       "</table>\n",
       "</div>"
      ],
      "text/plain": [
       "         ACCESSION_NUMBER TRANS_CODE TRANS_ACQUIRED_DISP_CD  probability  \\\n",
       "50   0000891092-07-001488          J                      D     0.090053   \n",
       "400  0001181431-06-016208          J                      D     1.000000   \n",
       "401  0001181431-06-017619          J                      D     1.000000   \n",
       "671  0001209191-19-008111          J                      D     0.961425   \n",
       "672  0001214659-19-003175          J                      D     0.518041   \n",
       "\n",
       "     prediction                                       FOOTNOTE_TXT  \n",
       "50            0  In a Form 4 filed with the Securities and Exch...  \n",
       "400           1  Represents shares beneficially owned by the Al...  \n",
       "401           1  Reflects a distribution of 10,000 shares from ...  \n",
       "671           1  The transactions reported on this Form relate ...  \n",
       "672           0  This statement is jointly filed by Royal Bank ...  "
      ]
     },
     "execution_count": 26,
     "metadata": {},
     "output_type": "execute_result"
    }
   ],
   "source": [
    "df_j_coded = df_footnote_labels[df_footnote_labels[\"TRANS_CODE\"] == \"J\"]\n",
    "df_j_coded.head()"
   ]
  },
  {
   "cell_type": "code",
   "execution_count": 27,
   "metadata": {},
   "outputs": [],
   "source": [
    "text_j = df_j_coded[\"FOOTNOTE_TXT\"]\n",
    "processed = np.array([preprocess_text(x) for x in text_j])\n",
    "vectorizer = TfidfVectorizer(stop_words='english', sublinear_tf=True, max_features=500)\n",
    "X = vectorizer.fit_transform(processed)\n",
    "\n",
    "# Convert to DataFrame\n",
    "tfidf_df_j = pd.DataFrame(X.toarray(), columns=vectorizer.get_feature_names_out())"
   ]
  },
  {
   "cell_type": "code",
   "execution_count": 28,
   "metadata": {},
   "outputs": [
    {
     "data": {
      "application/vnd.microsoft.datawrangler.viewer.v0+json": {
       "columns": [
        {
         "name": "index",
         "rawType": "int64",
         "type": "integer"
        },
        {
         "name": "accel",
         "rawType": "float64",
         "type": "float"
        },
        {
         "name": "accordance",
         "rawType": "float64",
         "type": "float"
        },
        {
         "name": "accordingly",
         "rawType": "float64",
         "type": "float"
        },
        {
         "name": "account",
         "rawType": "float64",
         "type": "float"
        },
        {
         "name": "accrue",
         "rawType": "float64",
         "type": "float"
        },
        {
         "name": "achieve",
         "rawType": "float64",
         "type": "float"
        },
        {
         "name": "achievement",
         "rawType": "float64",
         "type": "float"
        },
        {
         "name": "acquire",
         "rawType": "float64",
         "type": "float"
        },
        {
         "name": "acquisition",
         "rawType": "float64",
         "type": "float"
        },
        {
         "name": "act",
         "rawType": "float64",
         "type": "float"
        },
        {
         "name": "actual",
         "rawType": "float64",
         "type": "float"
        },
        {
         "name": "actually",
         "rawType": "float64",
         "type": "float"
        },
        {
         "name": "addition",
         "rawType": "float64",
         "type": "float"
        },
        {
         "name": "additional",
         "rawType": "float64",
         "type": "float"
        },
        {
         "name": "adjust",
         "rawType": "float64",
         "type": "float"
        },
        {
         "name": "adjustment",
         "rawType": "float64",
         "type": "float"
        },
        {
         "name": "administrator",
         "rawType": "float64",
         "type": "float"
        },
        {
         "name": "admission",
         "rawType": "float64",
         "type": "float"
        },
        {
         "name": "adopt",
         "rawType": "float64",
         "type": "float"
        },
        {
         "name": "advisor",
         "rawType": "float64",
         "type": "float"
        },
        {
         "name": "affiliate",
         "rawType": "float64",
         "type": "float"
        },
        {
         "name": "aggregate",
         "rawType": "float64",
         "type": "float"
        },
        {
         "name": "agreement",
         "rawType": "float64",
         "type": "float"
        },
        {
         "name": "ah",
         "rawType": "float64",
         "type": "float"
        },
        {
         "name": "allocate",
         "rawType": "float64",
         "type": "float"
        },
        {
         "name": "allocation",
         "rawType": "float64",
         "type": "float"
        },
        {
         "name": "amend",
         "rawType": "float64",
         "type": "float"
        },
        {
         "name": "amended",
         "rawType": "float64",
         "type": "float"
        },
        {
         "name": "anderson",
         "rawType": "float64",
         "type": "float"
        },
        {
         "name": "andor",
         "rawType": "float64",
         "type": "float"
        },
        {
         "name": "anniversary",
         "rawType": "float64",
         "type": "float"
        },
        {
         "name": "annual",
         "rawType": "float64",
         "type": "float"
        },
        {
         "name": "annually",
         "rawType": "float64",
         "type": "float"
        },
        {
         "name": "annuity",
         "rawType": "float64",
         "type": "float"
        },
        {
         "name": "anti",
         "rawType": "float64",
         "type": "float"
        },
        {
         "name": "apache",
         "rawType": "float64",
         "type": "float"
        },
        {
         "name": "applicable",
         "rawType": "float64",
         "type": "float"
        },
        {
         "name": "approve",
         "rawType": "float64",
         "type": "float"
        },
        {
         "name": "approximately",
         "rawType": "float64",
         "type": "float"
        },
        {
         "name": "ashland",
         "rawType": "float64",
         "type": "float"
        },
        {
         "name": "asset",
         "rawType": "float64",
         "type": "float"
        },
        {
         "name": "associate",
         "rawType": "float64",
         "type": "float"
        },
        {
         "name": "association",
         "rawType": "float64",
         "type": "float"
        },
        {
         "name": "astoria",
         "rawType": "float64",
         "type": "float"
        },
        {
         "name": "attributable",
         "rawType": "float64",
         "type": "float"
        },
        {
         "name": "automatically",
         "rawType": "float64",
         "type": "float"
        },
        {
         "name": "average",
         "rawType": "float64",
         "type": "float"
        },
        {
         "name": "award",
         "rawType": "float64",
         "type": "float"
        },
        {
         "name": "babson",
         "rawType": "float64",
         "type": "float"
        },
        {
         "name": "bain",
         "rawType": "float64",
         "type": "float"
        },
        {
         "name": "baker",
         "rawType": "float64",
         "type": "float"
        },
        {
         "name": "balance",
         "rawType": "float64",
         "type": "float"
        },
        {
         "name": "ball",
         "rawType": "float64",
         "type": "float"
        },
        {
         "name": "bancorp",
         "rawType": "float64",
         "type": "float"
        },
        {
         "name": "bank",
         "rawType": "float64",
         "type": "float"
        },
        {
         "name": "baring",
         "rawType": "float64",
         "type": "float"
        },
        {
         "name": "base",
         "rawType": "float64",
         "type": "float"
        },
        {
         "name": "based",
         "rawType": "float64",
         "type": "float"
        },
        {
         "name": "basis",
         "rawType": "float64",
         "type": "float"
        },
        {
         "name": "bci",
         "rawType": "float64",
         "type": "float"
        },
        {
         "name": "bcip",
         "rawType": "float64",
         "type": "float"
        },
        {
         "name": "begin",
         "rawType": "float64",
         "type": "float"
        },
        {
         "name": "beneficial",
         "rawType": "float64",
         "type": "float"
        },
        {
         "name": "beneficially",
         "rawType": "float64",
         "type": "float"
        },
        {
         "name": "beneficiary",
         "rawType": "float64",
         "type": "float"
        },
        {
         "name": "benefit",
         "rawType": "float64",
         "type": "float"
        },
        {
         "name": "blum",
         "rawType": "float64",
         "type": "float"
        },
        {
         "name": "board",
         "rawType": "float64",
         "type": "float"
        },
        {
         "name": "broker",
         "rawType": "float64",
         "type": "float"
        },
        {
         "name": "business",
         "rawType": "float64",
         "type": "float"
        },
        {
         "name": "buy",
         "rawType": "float64",
         "type": "float"
        },
        {
         "name": "bv",
         "rawType": "float64",
         "type": "float"
        },
        {
         "name": "cancel",
         "rawType": "float64",
         "type": "float"
        },
        {
         "name": "capital",
         "rawType": "float64",
         "type": "float"
        },
        {
         "name": "carvana",
         "rawType": "float64",
         "type": "float"
        },
        {
         "name": "cash",
         "rawType": "float64",
         "type": "float"
        },
        {
         "name": "cayman",
         "rawType": "float64",
         "type": "float"
        },
        {
         "name": "certain",
         "rawType": "float64",
         "type": "float"
        },
        {
         "name": "certificate",
         "rawType": "float64",
         "type": "float"
        },
        {
         "name": "change",
         "rawType": "float64",
         "type": "float"
        },
        {
         "name": "child",
         "rawType": "float64",
         "type": "float"
        },
        {
         "name": "class",
         "rawType": "float64",
         "type": "float"
        },
        {
         "name": "close",
         "rawType": "float64",
         "type": "float"
        },
        {
         "name": "closing",
         "rawType": "float64",
         "type": "float"
        },
        {
         "name": "collectively",
         "rawType": "float64",
         "type": "float"
        },
        {
         "name": "column",
         "rawType": "float64",
         "type": "float"
        },
        {
         "name": "combination",
         "rawType": "float64",
         "type": "float"
        },
        {
         "name": "commence",
         "rawType": "float64",
         "type": "float"
        },
        {
         "name": "commission",
         "rawType": "float64",
         "type": "float"
        },
        {
         "name": "committee",
         "rawType": "float64",
         "type": "float"
        },
        {
         "name": "common",
         "rawType": "float64",
         "type": "float"
        },
        {
         "name": "community",
         "rawType": "float64",
         "type": "float"
        },
        {
         "name": "company",
         "rawType": "float64",
         "type": "float"
        },
        {
         "name": "compensation",
         "rawType": "float64",
         "type": "float"
        },
        {
         "name": "condition",
         "rawType": "float64",
         "type": "float"
        },
        {
         "name": "connection",
         "rawType": "float64",
         "type": "float"
        },
        {
         "name": "consideration",
         "rawType": "float64",
         "type": "float"
        },
        {
         "name": "consist",
         "rawType": "float64",
         "type": "float"
        },
        {
         "name": "contingent",
         "rawType": "float64",
         "type": "float"
        },
        {
         "name": "continue",
         "rawType": "float64",
         "type": "float"
        },
        {
         "name": "continued",
         "rawType": "float64",
         "type": "float"
        },
        {
         "name": "contract",
         "rawType": "float64",
         "type": "float"
        },
        {
         "name": "contribution",
         "rawType": "float64",
         "type": "float"
        },
        {
         "name": "control",
         "rawType": "float64",
         "type": "float"
        },
        {
         "name": "conversion",
         "rawType": "float64",
         "type": "float"
        },
        {
         "name": "convert",
         "rawType": "float64",
         "type": "float"
        },
        {
         "name": "convertible",
         "rawType": "float64",
         "type": "float"
        },
        {
         "name": "corp",
         "rawType": "float64",
         "type": "float"
        },
        {
         "name": "corporate",
         "rawType": "float64",
         "type": "float"
        },
        {
         "name": "corporation",
         "rawType": "float64",
         "type": "float"
        },
        {
         "name": "cover",
         "rawType": "float64",
         "type": "float"
        },
        {
         "name": "credit",
         "rawType": "float64",
         "type": "float"
        },
        {
         "name": "criterion",
         "rawType": "float64",
         "type": "float"
        },
        {
         "name": "cumulative",
         "rawType": "float64",
         "type": "float"
        },
        {
         "name": "current",
         "rawType": "float64",
         "type": "float"
        },
        {
         "name": "date",
         "rawType": "float64",
         "type": "float"
        },
        {
         "name": "david",
         "rawType": "float64",
         "type": "float"
        },
        {
         "name": "day",
         "rawType": "float64",
         "type": "float"
        },
        {
         "name": "death",
         "rawType": "float64",
         "type": "float"
        },
        {
         "name": "declare",
         "rawType": "float64",
         "type": "float"
        },
        {
         "name": "deem",
         "rawType": "float64",
         "type": "float"
        },
        {
         "name": "defer",
         "rawType": "float64",
         "type": "float"
        },
        {
         "name": "deferral",
         "rawType": "float64",
         "type": "float"
        },
        {
         "name": "deferred",
         "rawType": "float64",
         "type": "float"
        },
        {
         "name": "define",
         "rawType": "float64",
         "type": "float"
        },
        {
         "name": "delaware",
         "rawType": "float64",
         "type": "float"
        },
        {
         "name": "deliver",
         "rawType": "float64",
         "type": "float"
        },
        {
         "name": "derivative",
         "rawType": "float64",
         "type": "float"
        },
        {
         "name": "description",
         "rawType": "float64",
         "type": "float"
        },
        {
         "name": "determine",
         "rawType": "float64",
         "type": "float"
        },
        {
         "name": "dilution",
         "rawType": "float64",
         "type": "float"
        },
        {
         "name": "direct",
         "rawType": "float64",
         "type": "float"
        },
        {
         "name": "directly",
         "rawType": "float64",
         "type": "float"
        },
        {
         "name": "director",
         "rawType": "float64",
         "type": "float"
        },
        {
         "name": "disability",
         "rawType": "float64",
         "type": "float"
        },
        {
         "name": "disclaim",
         "rawType": "float64",
         "type": "float"
        },
        {
         "name": "disclaims",
         "rawType": "float64",
         "type": "float"
        },
        {
         "name": "disclose",
         "rawType": "float64",
         "type": "float"
        },
        {
         "name": "dispose",
         "rawType": "float64",
         "type": "float"
        },
        {
         "name": "disposition",
         "rawType": "float64",
         "type": "float"
        },
        {
         "name": "dispositive",
         "rawType": "float64",
         "type": "float"
        },
        {
         "name": "distribute",
         "rawType": "float64",
         "type": "float"
        },
        {
         "name": "distribution",
         "rawType": "float64",
         "type": "float"
        },
        {
         "name": "divide",
         "rawType": "float64",
         "type": "float"
        },
        {
         "name": "dividend",
         "rawType": "float64",
         "type": "float"
        },
        {
         "name": "dr",
         "rawType": "float64",
         "type": "float"
        },
        {
         "name": "draper",
         "rawType": "float64",
         "type": "float"
        },
        {
         "name": "drip",
         "rawType": "float64",
         "type": "float"
        },
        {
         "name": "early",
         "rawType": "float64",
         "type": "float"
        },
        {
         "name": "earn",
         "rawType": "float64",
         "type": "float"
        },
        {
         "name": "economic",
         "rawType": "float64",
         "type": "float"
        },
        {
         "name": "effect",
         "rawType": "float64",
         "type": "float"
        },
        {
         "name": "effective",
         "rawType": "float64",
         "type": "float"
        },
        {
         "name": "elect",
         "rawType": "float64",
         "type": "float"
        },
        {
         "name": "election",
         "rawType": "float64",
         "type": "float"
        },
        {
         "name": "employee",
         "rawType": "float64",
         "type": "float"
        },
        {
         "name": "employer",
         "rawType": "float64",
         "type": "float"
        },
        {
         "name": "employment",
         "rawType": "float64",
         "type": "float"
        },
        {
         "name": "end",
         "rawType": "float64",
         "type": "float"
        },
        {
         "name": "energy",
         "rawType": "float64",
         "type": "float"
        },
        {
         "name": "enter",
         "rawType": "float64",
         "type": "float"
        },
        {
         "name": "enterprise",
         "rawType": "float64",
         "type": "float"
        },
        {
         "name": "entitle",
         "rawType": "float64",
         "type": "float"
        },
        {
         "name": "entity",
         "rawType": "float64",
         "type": "float"
        },
        {
         "name": "eps",
         "rawType": "float64",
         "type": "float"
        },
        {
         "name": "equal",
         "rawType": "float64",
         "type": "float"
        },
        {
         "name": "equity",
         "rawType": "float64",
         "type": "float"
        },
        {
         "name": "equivalent",
         "rawType": "float64",
         "type": "float"
        },
        {
         "name": "erie",
         "rawType": "float64",
         "type": "float"
        },
        {
         "name": "ernest",
         "rawType": "float64",
         "type": "float"
        },
        {
         "name": "esop",
         "rawType": "float64",
         "type": "float"
        },
        {
         "name": "establish",
         "rawType": "float64",
         "type": "float"
        },
        {
         "name": "estate",
         "rawType": "float64",
         "type": "float"
        },
        {
         "name": "event",
         "rawType": "float64",
         "type": "float"
        },
        {
         "name": "exchange",
         "rawType": "float64",
         "type": "float"
        },
        {
         "name": "exchangeable",
         "rawType": "float64",
         "type": "float"
        },
        {
         "name": "executive",
         "rawType": "float64",
         "type": "float"
        },
        {
         "name": "exempt",
         "rawType": "float64",
         "type": "float"
        },
        {
         "name": "exercisable",
         "rawType": "float64",
         "type": "float"
        },
        {
         "name": "exercise",
         "rawType": "float64",
         "type": "float"
        },
        {
         "name": "exhibit",
         "rawType": "float64",
         "type": "float"
        },
        {
         "name": "expiration",
         "rawType": "float64",
         "type": "float"
        },
        {
         "name": "expire",
         "rawType": "float64",
         "type": "float"
        },
        {
         "name": "extent",
         "rawType": "float64",
         "type": "float"
        },
        {
         "name": "factor",
         "rawType": "float64",
         "type": "float"
        },
        {
         "name": "fair",
         "rawType": "float64",
         "type": "float"
        },
        {
         "name": "family",
         "rawType": "float64",
         "type": "float"
        },
        {
         "name": "feature",
         "rawType": "float64",
         "type": "float"
        },
        {
         "name": "fee",
         "rawType": "float64",
         "type": "float"
        },
        {
         "name": "file",
         "rawType": "float64",
         "type": "float"
        },
        {
         "name": "filing",
         "rawType": "float64",
         "type": "float"
        },
        {
         "name": "financial",
         "rawType": "float64",
         "type": "float"
        },
        {
         "name": "firstmerit",
         "rawType": "float64",
         "type": "float"
        },
        {
         "name": "fiscal",
         "rawType": "float64",
         "type": "float"
        },
        {
         "name": "fisher",
         "rawType": "float64",
         "type": "float"
        },
        {
         "name": "follow",
         "rawType": "float64",
         "type": "float"
        },
        {
         "name": "footnote",
         "rawType": "float64",
         "type": "float"
        },
        {
         "name": "forfeit",
         "rawType": "float64",
         "type": "float"
        },
        {
         "name": "forfeiture",
         "rawType": "float64",
         "type": "float"
        },
        {
         "name": "form",
         "rawType": "float64",
         "type": "float"
        },
        {
         "name": "forth",
         "rawType": "float64",
         "type": "float"
        },
        {
         "name": "forward",
         "rawType": "float64",
         "type": "float"
        },
        {
         "name": "foundation",
         "rawType": "float64",
         "type": "float"
        },
        {
         "name": "fourth",
         "rawType": "float64",
         "type": "float"
        },
        {
         "name": "fractional",
         "rawType": "float64",
         "type": "float"
        },
        {
         "name": "fully",
         "rawType": "float64",
         "type": "float"
        },
        {
         "name": "fund",
         "rawType": "float64",
         "type": "float"
        },
        {
         "name": "garcia",
         "rawType": "float64",
         "type": "float"
        },
        {
         "name": "general",
         "rawType": "float64",
         "type": "float"
        },
        {
         "name": "generally",
         "rawType": "float64",
         "type": "float"
        },
        {
         "name": "generational",
         "rawType": "float64",
         "type": "float"
        },
        {
         "name": "global",
         "rawType": "float64",
         "type": "float"
        },
        {
         "name": "gp",
         "rawType": "float64",
         "type": "float"
        },
        {
         "name": "grant",
         "rawType": "float64",
         "type": "float"
        },
        {
         "name": "grantor",
         "rawType": "float64",
         "type": "float"
        },
        {
         "name": "grat",
         "rawType": "float64",
         "type": "float"
        },
        {
         "name": "group",
         "rawType": "float64",
         "type": "float"
        },
        {
         "name": "growth",
         "rawType": "float64",
         "type": "float"
        },
        {
         "name": "gtcr",
         "rawType": "float64",
         "type": "float"
        },
        {
         "name": "hold",
         "rawType": "float64",
         "type": "float"
        },
        {
         "name": "holder",
         "rawType": "float64",
         "type": "float"
        },
        {
         "name": "holding",
         "rawType": "float64",
         "type": "float"
        },
        {
         "name": "icahn",
         "rawType": "float64",
         "type": "float"
        },
        {
         "name": "ii",
         "rawType": "float64",
         "type": "float"
        },
        {
         "name": "iii",
         "rawType": "float64",
         "type": "float"
        },
        {
         "name": "immediately",
         "rawType": "float64",
         "type": "float"
        },
        {
         "name": "incentive",
         "rawType": "float64",
         "type": "float"
        },
        {
         "name": "include",
         "rawType": "float64",
         "type": "float"
        },
        {
         "name": "inclusion",
         "rawType": "float64",
         "type": "float"
        },
        {
         "name": "inclusive",
         "rawType": "float64",
         "type": "float"
        },
        {
         "name": "income",
         "rawType": "float64",
         "type": "float"
        },
        {
         "name": "incorporation",
         "rawType": "float64",
         "type": "float"
        },
        {
         "name": "increase",
         "rawType": "float64",
         "type": "float"
        },
        {
         "name": "increment",
         "rawType": "float64",
         "type": "float"
        },
        {
         "name": "indemnity",
         "rawType": "float64",
         "type": "float"
        },
        {
         "name": "indicate",
         "rawType": "float64",
         "type": "float"
        },
        {
         "name": "indirect",
         "rawType": "float64",
         "type": "float"
        },
        {
         "name": "indirectly",
         "rawType": "float64",
         "type": "float"
        },
        {
         "name": "individual",
         "rawType": "float64",
         "type": "float"
        },
        {
         "name": "information",
         "rawType": "float64",
         "type": "float"
        },
        {
         "name": "initial",
         "rawType": "float64",
         "type": "float"
        },
        {
         "name": "insider",
         "rawType": "float64",
         "type": "float"
        },
        {
         "name": "installment",
         "rawType": "float64",
         "type": "float"
        },
        {
         "name": "intend",
         "rawType": "float64",
         "type": "float"
        },
        {
         "name": "international",
         "rawType": "float64",
         "type": "float"
        },
        {
         "name": "invest",
         "rawType": "float64",
         "type": "float"
        },
        {
         "name": "investment",
         "rawType": "float64",
         "type": "float"
        },
        {
         "name": "investor",
         "rawType": "float64",
         "type": "float"
        },
        {
         "name": "ira",
         "rawType": "float64",
         "type": "float"
        },
        {
         "name": "irrevocable",
         "rawType": "float64",
         "type": "float"
        },
        {
         "name": "issuance",
         "rawType": "float64",
         "type": "float"
        },
        {
         "name": "issue",
         "rawType": "float64",
         "type": "float"
        },
        {
         "name": "issuer",
         "rawType": "float64",
         "type": "float"
        },
        {
         "name": "iv",
         "rawType": "float64",
         "type": "float"
        },
        {
         "name": "ix",
         "rawType": "float64",
         "type": "float"
        },
        {
         "name": "john",
         "rawType": "float64",
         "type": "float"
        },
        {
         "name": "join",
         "rawType": "float64",
         "type": "float"
        },
        {
         "name": "jointly",
         "rawType": "float64",
         "type": "float"
        },
        {
         "name": "kind",
         "rawType": "float64",
         "type": "float"
        },
        {
         "name": "kkr",
         "rawType": "float64",
         "type": "float"
        },
        {
         "name": "kpcb",
         "rawType": "float64",
         "type": "float"
        },
        {
         "name": "lapse",
         "rawType": "float64",
         "type": "float"
        },
        {
         "name": "liability",
         "rawType": "float64",
         "type": "float"
        },
        {
         "name": "liberty",
         "rawType": "float64",
         "type": "float"
        },
        {
         "name": "lieu",
         "rawType": "float64",
         "type": "float"
        },
        {
         "name": "life",
         "rawType": "float64",
         "type": "float"
        },
        {
         "name": "limit",
         "rawType": "float64",
         "type": "float"
        },
        {
         "name": "limited",
         "rawType": "float64",
         "type": "float"
        },
        {
         "name": "llc",
         "rawType": "float64",
         "type": "float"
        },
        {
         "name": "london",
         "rawType": "float64",
         "type": "float"
        },
        {
         "name": "long",
         "rawType": "float64",
         "type": "float"
        },
        {
         "name": "lp",
         "rawType": "float64",
         "type": "float"
        },
        {
         "name": "ltip",
         "rawType": "float64",
         "type": "float"
        },
        {
         "name": "make",
         "rawType": "float64",
         "type": "float"
        },
        {
         "name": "manage",
         "rawType": "float64",
         "type": "float"
        },
        {
         "name": "management",
         "rawType": "float64",
         "type": "float"
        },
        {
         "name": "manager",
         "rawType": "float64",
         "type": "float"
        },
        {
         "name": "market",
         "rawType": "float64",
         "type": "float"
        },
        {
         "name": "master",
         "rawType": "float64",
         "type": "float"
        },
        {
         "name": "match",
         "rawType": "float64",
         "type": "float"
        },
        {
         "name": "maturity",
         "rawType": "float64",
         "type": "float"
        },
        {
         "name": "meadwestvaco",
         "rawType": "float64",
         "type": "float"
        },
        {
         "name": "meaning",
         "rawType": "float64",
         "type": "float"
        },
        {
         "name": "meet",
         "rawType": "float64",
         "type": "float"
        },
        {
         "name": "meeting",
         "rawType": "float64",
         "type": "float"
        },
        {
         "name": "member",
         "rawType": "float64",
         "type": "float"
        },
        {
         "name": "membership",
         "rawType": "float64",
         "type": "float"
        },
        {
         "name": "merger",
         "rawType": "float64",
         "type": "float"
        },
        {
         "name": "month",
         "rawType": "float64",
         "type": "float"
        },
        {
         "name": "monthly",
         "rawType": "float64",
         "type": "float"
        },
        {
         "name": "mr",
         "rawType": "float64",
         "type": "float"
        },
        {
         "name": "multi",
         "rawType": "float64",
         "type": "float"
        },
        {
         "name": "multiple",
         "rawType": "float64",
         "type": "float"
        },
        {
         "name": "national",
         "rawType": "float64",
         "type": "float"
        },
        {
         "name": "nea",
         "rawType": "float64",
         "type": "float"
        },
        {
         "name": "net",
         "rawType": "float64",
         "type": "float"
        },
        {
         "name": "new",
         "rawType": "float64",
         "type": "float"
        },
        {
         "name": "non",
         "rawType": "float64",
         "type": "float"
        },
        {
         "name": "note",
         "rawType": "float64",
         "type": "float"
        },
        {
         "name": "number",
         "rawType": "float64",
         "type": "float"
        },
        {
         "name": "obligation",
         "rawType": "float64",
         "type": "float"
        },
        {
         "name": "occur",
         "rawType": "float64",
         "type": "float"
        },
        {
         "name": "offer",
         "rawType": "float64",
         "type": "float"
        },
        {
         "name": "offering",
         "rawType": "float64",
         "type": "float"
        },
        {
         "name": "officer",
         "rawType": "float64",
         "type": "float"
        },
        {
         "name": "old",
         "rawType": "float64",
         "type": "float"
        },
        {
         "name": "omnibus",
         "rawType": "float64",
         "type": "float"
        },
        {
         "name": "operate",
         "rawType": "float64",
         "type": "float"
        },
        {
         "name": "opportunity",
         "rawType": "float64",
         "type": "float"
        },
        {
         "name": "option",
         "rawType": "float64",
         "type": "float"
        },
        {
         "name": "ordinary",
         "rawType": "float64",
         "type": "float"
        },
        {
         "name": "original",
         "rawType": "float64",
         "type": "float"
        },
        {
         "name": "originally",
         "rawType": "float64",
         "type": "float"
        },
        {
         "name": "outside",
         "rawType": "float64",
         "type": "float"
        },
        {
         "name": "outstanding",
         "rawType": "float64",
         "type": "float"
        },
        {
         "name": "owned",
         "rawType": "float64",
         "type": "float"
        },
        {
         "name": "owner",
         "rawType": "float64",
         "type": "float"
        },
        {
         "name": "ownership",
         "rawType": "float64",
         "type": "float"
        },
        {
         "name": "paccar",
         "rawType": "float64",
         "type": "float"
        },
        {
         "name": "par",
         "rawType": "float64",
         "type": "float"
        },
        {
         "name": "parallel",
         "rawType": "float64",
         "type": "float"
        },
        {
         "name": "parent",
         "rawType": "float64",
         "type": "float"
        },
        {
         "name": "participant",
         "rawType": "float64",
         "type": "float"
        },
        {
         "name": "participation",
         "rawType": "float64",
         "type": "float"
        },
        {
         "name": "partner",
         "rawType": "float64",
         "type": "float"
        },
        {
         "name": "partnership",
         "rawType": "float64",
         "type": "float"
        },
        {
         "name": "party",
         "rawType": "float64",
         "type": "float"
        },
        {
         "name": "pay",
         "rawType": "float64",
         "type": "float"
        },
        {
         "name": "payable",
         "rawType": "float64",
         "type": "float"
        },
        {
         "name": "payment",
         "rawType": "float64",
         "type": "float"
        },
        {
         "name": "payout",
         "rawType": "float64",
         "type": "float"
        },
        {
         "name": "payroll",
         "rawType": "float64",
         "type": "float"
        },
        {
         "name": "pecuniary",
         "rawType": "float64",
         "type": "float"
        },
        {
         "name": "percent",
         "rawType": "float64",
         "type": "float"
        },
        {
         "name": "performance",
         "rawType": "float64",
         "type": "float"
        },
        {
         "name": "period",
         "rawType": "float64",
         "type": "float"
        },
        {
         "name": "periodically",
         "rawType": "float64",
         "type": "float"
        },
        {
         "name": "permit",
         "rawType": "float64",
         "type": "float"
        },
        {
         "name": "person",
         "rawType": "float64",
         "type": "float"
        },
        {
         "name": "phantom",
         "rawType": "float64",
         "type": "float"
        },
        {
         "name": "pier",
         "rawType": "float64",
         "type": "float"
        },
        {
         "name": "plan",
         "rawType": "float64",
         "type": "float"
        },
        {
         "name": "pnc",
         "rawType": "float64",
         "type": "float"
        },
        {
         "name": "portion",
         "rawType": "float64",
         "type": "float"
        },
        {
         "name": "post",
         "rawType": "float64",
         "type": "float"
        },
        {
         "name": "power",
         "rawType": "float64",
         "type": "float"
        },
        {
         "name": "preferred",
         "rawType": "float64",
         "type": "float"
        },
        {
         "name": "previously",
         "rawType": "float64",
         "type": "float"
        },
        {
         "name": "price",
         "rawType": "float64",
         "type": "float"
        },
        {
         "name": "principal",
         "rawType": "float64",
         "type": "float"
        },
        {
         "name": "prior",
         "rawType": "float64",
         "type": "float"
        },
        {
         "name": "private",
         "rawType": "float64",
         "type": "float"
        },
        {
         "name": "pro",
         "rawType": "float64",
         "type": "float"
        },
        {
         "name": "profit",
         "rawType": "float64",
         "type": "float"
        },
        {
         "name": "program",
         "rawType": "float64",
         "type": "float"
        },
        {
         "name": "property",
         "rawType": "float64",
         "type": "float"
        },
        {
         "name": "proportionate",
         "rawType": "float64",
         "type": "float"
        },
        {
         "name": "provide",
         "rawType": "float64",
         "type": "float"
        },
        {
         "name": "provision",
         "rawType": "float64",
         "type": "float"
        },
        {
         "name": "public",
         "rawType": "float64",
         "type": "float"
        },
        {
         "name": "purchase",
         "rawType": "float64",
         "type": "float"
        },
        {
         "name": "purpose",
         "rawType": "float64",
         "type": "float"
        },
        {
         "name": "pursuant",
         "rawType": "float64",
         "type": "float"
        },
        {
         "name": "qualified",
         "rawType": "float64",
         "type": "float"
        },
        {
         "name": "quarter",
         "rawType": "float64",
         "type": "float"
        },
        {
         "name": "quarterly",
         "rawType": "float64",
         "type": "float"
        },
        {
         "name": "range",
         "rawType": "float64",
         "type": "float"
        },
        {
         "name": "rata",
         "rawType": "float64",
         "type": "float"
        },
        {
         "name": "rate",
         "rawType": "float64",
         "type": "float"
        },
        {
         "name": "ratio",
         "rawType": "float64",
         "type": "float"
        },
        {
         "name": "receipt",
         "rawType": "float64",
         "type": "float"
        },
        {
         "name": "receive",
         "rawType": "float64",
         "type": "float"
        },
        {
         "name": "record",
         "rawType": "float64",
         "type": "float"
        },
        {
         "name": "redeem",
         "rawType": "float64",
         "type": "float"
        },
        {
         "name": "redemption",
         "rawType": "float64",
         "type": "float"
        },
        {
         "name": "reflect",
         "rawType": "float64",
         "type": "float"
        },
        {
         "name": "regard",
         "rawType": "float64",
         "type": "float"
        },
        {
         "name": "reinvested",
         "rawType": "float64",
         "type": "float"
        },
        {
         "name": "reinvestment",
         "rawType": "float64",
         "type": "float"
        },
        {
         "name": "relate",
         "rawType": "float64",
         "type": "float"
        },
        {
         "name": "relationship",
         "rawType": "float64",
         "type": "float"
        },
        {
         "name": "remain",
         "rawType": "float64",
         "type": "float"
        },
        {
         "name": "reorganization",
         "rawType": "float64",
         "type": "float"
        },
        {
         "name": "report",
         "rawType": "float64",
         "type": "float"
        },
        {
         "name": "reported",
         "rawType": "float64",
         "type": "float"
        },
        {
         "name": "reporting",
         "rawType": "float64",
         "type": "float"
        },
        {
         "name": "represent",
         "rawType": "float64",
         "type": "float"
        },
        {
         "name": "request",
         "rawType": "float64",
         "type": "float"
        },
        {
         "name": "require",
         "rawType": "float64",
         "type": "float"
        },
        {
         "name": "requirement",
         "rawType": "float64",
         "type": "float"
        },
        {
         "name": "respect",
         "rawType": "float64",
         "type": "float"
        },
        {
         "name": "respective",
         "rawType": "float64",
         "type": "float"
        },
        {
         "name": "respectively",
         "rawType": "float64",
         "type": "float"
        },
        {
         "name": "restate",
         "rawType": "float64",
         "type": "float"
        },
        {
         "name": "restrict",
         "rawType": "float64",
         "type": "float"
        },
        {
         "name": "restricted",
         "rawType": "float64",
         "type": "float"
        },
        {
         "name": "restriction",
         "rawType": "float64",
         "type": "float"
        },
        {
         "name": "result",
         "rawType": "float64",
         "type": "float"
        },
        {
         "name": "retain",
         "rawType": "float64",
         "type": "float"
        },
        {
         "name": "retainer",
         "rawType": "float64",
         "type": "float"
        },
        {
         "name": "retirement",
         "rawType": "float64",
         "type": "float"
        },
        {
         "name": "return",
         "rawType": "float64",
         "type": "float"
        },
        {
         "name": "revocable",
         "rawType": "float64",
         "type": "float"
        },
        {
         "name": "right",
         "rawType": "float64",
         "type": "float"
        },
        {
         "name": "rsdcp",
         "rawType": "float64",
         "type": "float"
        },
        {
         "name": "rsu",
         "rawType": "float64",
         "type": "float"
        },
        {
         "name": "rsus",
         "rawType": "float64",
         "type": "float"
        },
        {
         "name": "rule",
         "rawType": "float64",
         "type": "float"
        },
        {
         "name": "sale",
         "rawType": "float64",
         "type": "float"
        },
        {
         "name": "satisfaction",
         "rawType": "float64",
         "type": "float"
        },
        {
         "name": "satisfy",
         "rawType": "float64",
         "type": "float"
        },
        {
         "name": "saving",
         "rawType": "float64",
         "type": "float"
        },
        {
         "name": "sc",
         "rawType": "float64",
         "type": "float"
        },
        {
         "name": "schedule",
         "rawType": "float64",
         "type": "float"
        },
        {
         "name": "sec",
         "rawType": "float64",
         "type": "float"
        },
        {
         "name": "second",
         "rawType": "float64",
         "type": "float"
        },
        {
         "name": "section",
         "rawType": "float64",
         "type": "float"
        },
        {
         "name": "security",
         "rawType": "float64",
         "type": "float"
        },
        {
         "name": "sell",
         "rawType": "float64",
         "type": "float"
        },
        {
         "name": "separate",
         "rawType": "float64",
         "type": "float"
        },
        {
         "name": "separation",
         "rawType": "float64",
         "type": "float"
        },
        {
         "name": "series",
         "rawType": "float64",
         "type": "float"
        },
        {
         "name": "serve",
         "rawType": "float64",
         "type": "float"
        },
        {
         "name": "service",
         "rawType": "float64",
         "type": "float"
        },
        {
         "name": "set",
         "rawType": "float64",
         "type": "float"
        },
        {
         "name": "settle",
         "rawType": "float64",
         "type": "float"
        },
        {
         "name": "settlement",
         "rawType": "float64",
         "type": "float"
        },
        {
         "name": "share",
         "rawType": "float64",
         "type": "float"
        },
        {
         "name": "shareholder",
         "rawType": "float64",
         "type": "float"
        },
        {
         "name": "single",
         "rawType": "float64",
         "type": "float"
        },
        {
         "name": "sip",
         "rawType": "float64",
         "type": "float"
        },
        {
         "name": "sole",
         "rawType": "float64",
         "type": "float"
        },
        {
         "name": "solely",
         "rawType": "float64",
         "type": "float"
        },
        {
         "name": "son",
         "rawType": "float64",
         "type": "float"
        },
        {
         "name": "spe",
         "rawType": "float64",
         "type": "float"
        },
        {
         "name": "special",
         "rawType": "float64",
         "type": "float"
        },
        {
         "name": "specify",
         "rawType": "float64",
         "type": "float"
        },
        {
         "name": "spin",
         "rawType": "float64",
         "type": "float"
        },
        {
         "name": "split",
         "rawType": "float64",
         "type": "float"
        },
        {
         "name": "spouse",
         "rawType": "float64",
         "type": "float"
        },
        {
         "name": "staff",
         "rawType": "float64",
         "type": "float"
        },
        {
         "name": "state",
         "rawType": "float64",
         "type": "float"
        },
        {
         "name": "statement",
         "rawType": "float64",
         "type": "float"
        },
        {
         "name": "stock",
         "rawType": "float64",
         "type": "float"
        },
        {
         "name": "stockholder",
         "rawType": "float64",
         "type": "float"
        },
        {
         "name": "strategic",
         "rawType": "float64",
         "type": "float"
        },
        {
         "name": "sub",
         "rawType": "float64",
         "type": "float"
        },
        {
         "name": "subject",
         "rawType": "float64",
         "type": "float"
        },
        {
         "name": "subsidiary",
         "rawType": "float64",
         "type": "float"
        },
        {
         "name": "table",
         "rawType": "float64",
         "type": "float"
        },
        {
         "name": "target",
         "rawType": "float64",
         "type": "float"
        },
        {
         "name": "tax",
         "rawType": "float64",
         "type": "float"
        },
        {
         "name": "tcm",
         "rawType": "float64",
         "type": "float"
        },
        {
         "name": "tcp",
         "rawType": "float64",
         "type": "float"
        },
        {
         "name": "tcv",
         "rawType": "float64",
         "type": "float"
        },
        {
         "name": "technology",
         "rawType": "float64",
         "type": "float"
        },
        {
         "name": "term",
         "rawType": "float64",
         "type": "float"
        },
        {
         "name": "termination",
         "rawType": "float64",
         "type": "float"
        },
        {
         "name": "th",
         "rawType": "float64",
         "type": "float"
        },
        {
         "name": "thereof",
         "rawType": "float64",
         "type": "float"
        },
        {
         "name": "time",
         "rawType": "float64",
         "type": "float"
        },
        {
         "name": "total",
         "rawType": "float64",
         "type": "float"
        },
        {
         "name": "trade",
         "rawType": "float64",
         "type": "float"
        },
        {
         "name": "trading",
         "rawType": "float64",
         "type": "float"
        },
        {
         "name": "transaction",
         "rawType": "float64",
         "type": "float"
        },
        {
         "name": "transfer",
         "rawType": "float64",
         "type": "float"
        },
        {
         "name": "trust",
         "rawType": "float64",
         "type": "float"
        },
        {
         "name": "trustee",
         "rawType": "float64",
         "type": "float"
        },
        {
         "name": "underlie",
         "rawType": "float64",
         "type": "float"
        },
        {
         "name": "underlying",
         "rawType": "float64",
         "type": "float"
        },
        {
         "name": "undertakes",
         "rawType": "float64",
         "type": "float"
        },
        {
         "name": "unit",
         "rawType": "float64",
         "type": "float"
        },
        {
         "name": "unless",
         "rawType": "float64",
         "type": "float"
        },
        {
         "name": "unvested",
         "rawType": "float64",
         "type": "float"
        },
        {
         "name": "value",
         "rawType": "float64",
         "type": "float"
        },
        {
         "name": "various",
         "rawType": "float64",
         "type": "float"
        },
        {
         "name": "vectren",
         "rawType": "float64",
         "type": "float"
        },
        {
         "name": "venture",
         "rawType": "float64",
         "type": "float"
        },
        {
         "name": "versant",
         "rawType": "float64",
         "type": "float"
        },
        {
         "name": "vest",
         "rawType": "float64",
         "type": "float"
        },
        {
         "name": "vested",
         "rawType": "float64",
         "type": "float"
        },
        {
         "name": "vesting",
         "rawType": "float64",
         "type": "float"
        },
        {
         "name": "vi",
         "rawType": "float64",
         "type": "float"
        },
        {
         "name": "vii",
         "rawType": "float64",
         "type": "float"
        },
        {
         "name": "viii",
         "rawType": "float64",
         "type": "float"
        },
        {
         "name": "virtue",
         "rawType": "float64",
         "type": "float"
        },
        {
         "name": "vote",
         "rawType": "float64",
         "type": "float"
        },
        {
         "name": "voting",
         "rawType": "float64",
         "type": "float"
        },
        {
         "name": "vv",
         "rawType": "float64",
         "type": "float"
        },
        {
         "name": "warrant",
         "rawType": "float64",
         "type": "float"
        },
        {
         "name": "weighted",
         "rawType": "float64",
         "type": "float"
        },
        {
         "name": "wholly",
         "rawType": "float64",
         "type": "float"
        },
        {
         "name": "wife",
         "rawType": "float64",
         "type": "float"
        },
        {
         "name": "withhold",
         "rawType": "float64",
         "type": "float"
        },
        {
         "name": "withholding",
         "rawType": "float64",
         "type": "float"
        },
        {
         "name": "wp",
         "rawType": "float64",
         "type": "float"
        },
        {
         "name": "xi",
         "rawType": "float64",
         "type": "float"
        },
        {
         "name": "year",
         "rawType": "float64",
         "type": "float"
        },
        {
         "name": "york",
         "rawType": "float64",
         "type": "float"
        },
        {
         "name": "yorktown",
         "rawType": "float64",
         "type": "float"
        },
        {
         "name": "prediction",
         "rawType": "float64",
         "type": "float"
        }
       ],
       "conversionMethod": "pd.DataFrame",
       "ref": "da6122f1-e04b-4f17-8acd-2b2bd2864e80",
       "rows": [
        [
         "0",
         "0.0",
         "0.0",
         "0.0",
         "0.0",
         "0.0",
         "0.0",
         "0.0",
         "0.0",
         "0.19018687557416028",
         "0.0",
         "0.0",
         "0.0",
         "0.0",
         "0.0",
         "0.0",
         "0.0",
         "0.0",
         "0.0",
         "0.0",
         "0.0",
         "0.0",
         "0.0",
         "0.0",
         "0.0",
         "0.0",
         "0.0",
         "0.20376882223969212",
         "0.0",
         "0.0",
         "0.0",
         "0.0",
         "0.0",
         "0.0",
         "0.0",
         "0.0",
         "0.0",
         "0.0",
         "0.0",
         "0.0",
         "0.0",
         "0.0",
         "0.0",
         "0.0",
         "0.0",
         "0.0",
         "0.0",
         "0.0",
         "0.0",
         "0.0",
         "0.0",
         "0.0",
         "0.0",
         "0.0",
         "0.0",
         "0.0",
         "0.0",
         "0.0",
         "0.0",
         "0.0",
         "0.0",
         "0.0",
         "0.0",
         "0.0",
         "0.0",
         "0.0",
         "0.0",
         "0.0",
         "0.0",
         "0.0",
         "0.0",
         "0.0",
         "0.0",
         "0.26590291553471984",
         "0.0",
         "0.0",
         "0.0",
         "0.0",
         "0.0",
         "0.0",
         "0.0",
         "0.0",
         "0.0",
         "0.0",
         "0.0",
         "0.0",
         "0.0",
         "0.0",
         "0.0",
         "0.2757547772487759",
         "0.0",
         "0.21940627120565093",
         "0.0",
         "0.23721499054991532",
         "0.0",
         "0.0",
         "0.0",
         "0.0",
         "0.0",
         "0.0",
         "0.0",
         "0.0",
         "0.0",
         "0.0",
         "0.0",
         "0.0",
         "0.0",
         "0.0",
         "0.0",
         "0.0",
         "0.0",
         "0.0",
         "0.0",
         "0.0",
         "0.0",
         "0.0",
         "0.0",
         "0.0",
         "0.0",
         "0.0",
         "0.0",
         "0.0",
         "0.0",
         "0.0",
         "0.0",
         "0.0",
         "0.0",
         "0.0",
         "0.0",
         "0.0",
         "0.0",
         "0.0",
         "0.0",
         "0.0",
         "0.0",
         "0.0",
         "0.0",
         "0.0",
         "0.0",
         "0.0",
         "0.0",
         "0.0",
         "0.0",
         "0.0",
         "0.0",
         "0.0",
         "0.0",
         "0.0",
         "0.0",
         "0.0",
         "0.0",
         "0.0",
         "0.0",
         "0.0",
         "0.0",
         "0.0",
         "0.0",
         "0.0",
         "0.0",
         "0.0",
         "0.0",
         "0.0",
         "0.0",
         "0.0",
         "0.0",
         "0.0",
         "0.0",
         "0.0",
         "0.0",
         "0.0",
         "0.0",
         "0.0",
         "0.0",
         "0.0",
         "0.0",
         "0.1751382741226391",
         "0.0",
         "0.0",
         "0.0",
         "0.0",
         "0.0",
         "0.0",
         "0.0",
         "0.0",
         "0.0",
         "0.0",
         "0.0",
         "0.0",
         "0.0",
         "0.0",
         "0.36359376218029477",
         "0.0",
         "0.0",
         "0.0",
         "0.0",
         "0.0",
         "0.0",
         "0.0",
         "0.0",
         "0.0",
         "0.3048940242865457",
         "0.0",
         "0.0",
         "0.0",
         "0.0",
         "0.0",
         "0.0",
         "0.0",
         "0.0",
         "0.0",
         "0.0",
         "0.0",
         "0.0",
         "0.0",
         "0.0",
         "0.0",
         "0.0",
         "0.0",
         "0.0",
         "0.0",
         "0.0",
         "0.0",
         "0.0",
         "0.0",
         "0.0",
         "0.0",
         "0.0",
         "0.0",
         "0.0",
         "0.0",
         "0.0",
         "0.0",
         "0.0",
         "0.0",
         "0.0",
         "0.0",
         "0.0",
         "0.0",
         "0.0",
         "0.0",
         "0.0",
         "0.0",
         "0.0",
         "0.0",
         "0.0",
         "0.0",
         "0.0",
         "0.0",
         "0.0",
         "0.0",
         "0.0",
         "0.0",
         "0.0",
         "0.0",
         "0.0",
         "0.0",
         "0.0",
         "0.0",
         "0.0",
         "0.0",
         "0.0",
         "0.0",
         "0.0",
         "0.0",
         "0.0",
         "0.0",
         "0.0",
         "0.0",
         "0.0",
         "0.0",
         "0.0",
         "0.0",
         "0.0",
         "0.0",
         "0.0",
         "0.0",
         "0.0",
         "0.0",
         "0.0",
         "0.0",
         "0.0",
         "0.0",
         "0.0",
         "0.0",
         "0.0",
         "0.0",
         "0.0",
         "0.0",
         "0.0",
         "0.0",
         "0.0",
         "0.4850440605215747",
         "0.0",
         "0.0",
         "0.0",
         "0.0",
         "0.0",
         "0.0",
         "0.0",
         "0.0",
         "0.0",
         "0.0",
         "0.0",
         "0.0",
         "0.0",
         "0.0",
         "0.0",
         "0.0",
         "0.0",
         "0.0",
         "0.0",
         "0.0",
         "0.0",
         "0.0",
         "0.0",
         "0.0",
         "0.0",
         "0.0",
         "0.0",
         "0.0",
         "0.0",
         "0.0",
         "0.0",
         "0.0",
         "0.0",
         "0.0",
         "0.0",
         "0.0",
         "0.0",
         "0.0",
         "0.0",
         "0.0",
         "0.0",
         "0.0",
         "0.0",
         "0.0",
         "0.0",
         "0.0",
         "0.0",
         "0.0",
         "0.0",
         "0.0",
         "0.0",
         "0.0",
         "0.0",
         "0.0",
         "0.0",
         "0.0",
         "0.0",
         "0.0",
         "0.0",
         "0.0",
         "0.0",
         "0.0",
         "0.0",
         "0.0",
         "0.0",
         "0.0",
         "0.0",
         "0.0",
         "0.0",
         "0.13792779585547382",
         "0.0",
         "0.0",
         "0.0",
         "0.0",
         "0.0",
         "0.0",
         "0.0",
         "0.0",
         "0.0",
         "0.0",
         "0.0",
         "0.0",
         "0.0",
         "0.0",
         "0.0",
         "0.0",
         "0.0",
         "0.0",
         "0.0",
         "0.0",
         "0.0",
         "0.0",
         "0.17063173932076153",
         "0.0",
         "0.0",
         "0.0",
         "0.0",
         "0.0",
         "0.0",
         "0.0",
         "0.0",
         "0.0",
         "0.0",
         "0.0",
         "0.0",
         "0.0",
         "0.19200431919331187",
         "0.0",
         "0.0",
         "0.0",
         "0.0",
         "0.0",
         "0.0",
         "0.0",
         "0.0",
         "0.0",
         "0.0",
         "0.0",
         "0.0",
         "0.0",
         "0.0",
         "0.0",
         "0.0",
         "0.0",
         "0.0",
         "0.0",
         "0.1445806345761926",
         "0.0",
         "0.0",
         "0.0",
         "0.0",
         "0.0",
         "0.0",
         "0.0",
         "0.0",
         "0.0",
         "0.16359727219906922",
         "0.0",
         "0.0",
         "0.0",
         "0.0",
         "0.0",
         "0.0",
         "0.0",
         "0.0",
         "0.0",
         "0.0",
         "0.0",
         "0.0",
         "0.0",
         "0.0",
         "0.0",
         "0.16406227450543073",
         "0.0",
         "0.0",
         "0.0",
         "0.0",
         "0.0",
         "0.0",
         "0.0",
         "0.0",
         "0.0",
         "0.0",
         "0.0",
         "0.0",
         "0.0",
         "0.0",
         "0.0",
         "0.0",
         "0.0",
         "0.0",
         "0.0",
         "0.0",
         "0.14304254379612852",
         "0.0",
         "0.0",
         "0.0",
         "0.0",
         "0.0",
         "0.0",
         "0.0",
         "0.0",
         "0.0",
         "0.0",
         "0.0",
         "0.0",
         "0.0",
         "0.0",
         "0.0",
         "0.0",
         "0.0",
         "0.0",
         "0.0",
         "0.0",
         "0.0",
         "0.0",
         "0.0",
         "0.0",
         "0.0",
         "0.0",
         "0.0",
         "0.0",
         "0.0",
         "0.0",
         "0.0",
         "0.0",
         "0.0",
         "0.0",
         "0.0",
         null
        ],
        [
         "1",
         "0.0",
         "0.0",
         "0.0",
         "0.0",
         "0.0",
         "0.0",
         "0.0",
         "0.0",
         "0.0",
         "0.0",
         "0.0",
         "0.0",
         "0.0",
         "0.0",
         "0.0",
         "0.0",
         "0.0",
         "0.0",
         "0.0",
         "0.0",
         "0.0",
         "0.0",
         "0.2408913515910869",
         "0.0",
         "0.0",
         "0.0",
         "0.0",
         "0.0",
         "0.0",
         "0.0",
         "0.0",
         "0.0",
         "0.0",
         "0.0",
         "0.0",
         "0.0",
         "0.0",
         "0.0",
         "0.0",
         "0.0",
         "0.0",
         "0.0",
         "0.0",
         "0.0",
         "0.0",
         "0.0",
         "0.0",
         "0.0",
         "0.0",
         "0.0",
         "0.0",
         "0.0",
         "0.0",
         "0.0",
         "0.0",
         "0.0",
         "0.0",
         "0.0",
         "0.0",
         "0.0",
         "0.0",
         "0.0",
         "0.0",
         "0.3101445467010108",
         "0.1992226314673505",
         "0.0",
         "0.0",
         "0.0",
         "0.0",
         "0.0",
         "0.0",
         "0.0",
         "0.0",
         "0.0",
         "0.0",
         "0.0",
         "0.0",
         "0.0",
         "0.0",
         "0.0",
         "0.0",
         "0.0",
         "0.0",
         "0.0",
         "0.0",
         "0.0",
         "0.0",
         "0.0",
         "0.0",
         "0.0",
         "0.0",
         "0.0",
         "0.0",
         "0.0",
         "0.0",
         "0.0",
         "0.0",
         "0.0",
         "0.0",
         "0.0",
         "0.0",
         "0.0",
         "0.0",
         "0.0",
         "0.0",
         "0.0",
         "0.0",
         "0.3256044669597607",
         "0.0",
         "0.0",
         "0.0",
         "0.0",
         "0.0",
         "0.0",
         "0.0",
         "0.0",
         "0.0",
         "0.0",
         "0.0",
         "0.0",
         "0.0",
         "0.0",
         "0.0",
         "0.0",
         "0.0",
         "0.0",
         "0.0",
         "0.0",
         "0.0",
         "0.0",
         "0.0",
         "0.0",
         "0.0",
         "0.0",
         "0.0",
         "0.0",
         "0.0",
         "0.0",
         "0.0",
         "0.0",
         "0.0",
         "0.0",
         "0.0",
         "0.0",
         "0.0",
         "0.0",
         "0.0",
         "0.0",
         "0.0",
         "0.0",
         "0.0",
         "0.0",
         "0.0",
         "0.0",
         "0.0",
         "0.0",
         "0.0",
         "0.0",
         "0.0",
         "0.0",
         "0.0",
         "0.0",
         "0.0",
         "0.0",
         "0.0",
         "0.0",
         "0.0",
         "0.0",
         "0.0",
         "0.0",
         "0.0",
         "0.0",
         "0.0",
         "0.0",
         "0.0",
         "0.0",
         "0.0",
         "0.0",
         "0.0",
         "0.0",
         "0.0",
         "0.0",
         "0.0",
         "0.0",
         "0.0",
         "0.0",
         "0.37649110872865993",
         "0.0",
         "0.0",
         "0.0",
         "0.0",
         "0.0",
         "0.0",
         "0.0",
         "0.0",
         "0.0",
         "0.0",
         "0.0",
         "0.0",
         "0.0",
         "0.0",
         "0.0",
         "0.0",
         "0.0",
         "0.0",
         "0.0",
         "0.0",
         "0.0",
         "0.0",
         "0.0",
         "0.0",
         "0.0",
         "0.0",
         "0.0",
         "0.0",
         "0.0",
         "0.0",
         "0.0",
         "0.0",
         "0.0",
         "0.0",
         "0.0",
         "0.0",
         "0.0",
         "0.0",
         "0.0",
         "0.0",
         "0.0",
         "0.0",
         "0.0",
         "0.0",
         "0.0",
         "0.0",
         "0.0",
         "0.0",
         "0.0",
         "0.0",
         "0.0",
         "0.0",
         "0.0",
         "0.0",
         "0.0",
         "0.0",
         "0.0",
         "0.0",
         "0.0",
         "0.0",
         "0.0",
         "0.0",
         "0.0",
         "0.0",
         "0.0",
         "0.0",
         "0.0",
         "0.0",
         "0.0",
         "0.0",
         "0.0",
         "0.0",
         "0.0",
         "0.0",
         "0.0",
         "0.0",
         "0.0",
         "0.0",
         "0.0",
         "0.0",
         "0.0",
         "0.0",
         "0.0",
         "0.0",
         "0.0",
         "0.0",
         "0.0",
         "0.0",
         "0.0",
         "0.0",
         "0.0",
         "0.0",
         "0.0",
         "0.0",
         "0.0",
         "0.0",
         "0.0",
         "0.0",
         "0.0",
         "0.0",
         "0.0",
         "0.0",
         "0.0",
         "0.2458814920222741",
         "0.0",
         "0.0",
         "0.0",
         "0.0",
         "0.0",
         "0.0",
         "0.0",
         "0.0",
         "0.0",
         "0.0",
         "0.0",
         "0.0",
         "0.0",
         "0.0",
         "0.0",
         "0.0",
         "0.0",
         "0.0",
         "0.0",
         "0.0",
         "0.0",
         "0.0",
         "0.0",
         "0.0",
         "0.0",
         "0.0",
         "0.0",
         "0.0",
         "0.0",
         "0.0",
         "0.0",
         "0.0",
         "0.0",
         "0.0",
         "0.0",
         "0.0",
         "0.0",
         "0.0",
         "0.0",
         "0.0",
         "0.0",
         "0.0",
         "0.0",
         "0.0",
         "0.0",
         "0.0",
         "0.0",
         "0.0",
         "0.0",
         "0.0",
         "0.0",
         "0.0",
         "0.0",
         "0.0",
         "0.0",
         "0.0",
         "0.1632036219093681",
         "0.0",
         "0.0",
         "0.0",
         "0.0",
         "0.0",
         "0.0",
         "0.0",
         "0.0",
         "0.0",
         "0.0",
         "0.0",
         "0.0",
         "0.0",
         "0.0",
         "0.1481207890433992",
         "0.0",
         "0.0",
         "0.0",
         "0.0",
         "0.0",
         "0.0",
         "0.0",
         "0.0",
         "0.0",
         "0.0",
         "0.0",
         "0.0",
         "0.0",
         "0.0",
         "0.0",
         "0.0",
         "0.0",
         "0.0",
         "0.0",
         "0.0",
         "0.0",
         "0.0",
         "0.0",
         "0.24940845705532252",
         "0.0",
         "0.0",
         "0.0",
         "0.0",
         "0.0",
         "0.0",
         "0.0",
         "0.0",
         "0.0",
         "0.0",
         "0.0",
         "0.0",
         "0.0",
         "0.0",
         "0.0",
         "0.0",
         "0.0",
         "0.0",
         "0.0",
         "0.0",
         "0.0",
         "0.0",
         "0.0",
         "0.0",
         "0.0",
         "0.0",
         "0.0",
         "0.0",
         "0.44653032866714426",
         "0.0",
         "0.19125013191314488",
         "0.0",
         "0.0",
         "0.0",
         "0.0",
         "0.0",
         "0.0",
         "0.0",
         "0.0",
         "0.0",
         "0.12781239210567727",
         "0.0",
         "0.0",
         "0.0",
         "0.0",
         "0.0",
         "0.0",
         "0.0",
         "0.0",
         "0.0",
         "0.0",
         "0.0",
         "0.18229342893603737",
         "0.0",
         "0.0",
         "0.0",
         "0.0",
         "0.0",
         "0.0",
         "0.0",
         "0.0",
         "0.0",
         "0.0",
         "0.0",
         "0.0",
         "0.0",
         "0.0",
         "0.0",
         "0.0",
         "0.0",
         "0.0",
         "0.0",
         "0.0",
         "0.0",
         "0.0",
         "0.0",
         "0.0",
         "0.0",
         "0.0",
         "0.2764414882128911",
         "0.15854971972165924",
         "0.0",
         "0.0",
         "0.0",
         "0.0",
         "0.0",
         "0.0",
         "0.0",
         "0.0",
         "0.0",
         "0.0",
         "0.0",
         "0.0",
         "0.0",
         "0.0",
         "0.0",
         "0.0",
         "0.0",
         "0.0",
         "0.0",
         "0.0",
         "0.0",
         "0.0",
         "0.0",
         "0.0",
         "0.0",
         "0.0",
         "0.0",
         "0.0",
         "0.0",
         "0.0",
         "0.0",
         "0.0",
         null
        ],
        [
         "2",
         "0.0",
         "0.0",
         "0.0",
         "0.0",
         "0.0",
         "0.0",
         "0.0",
         "0.0",
         "0.0",
         "0.0",
         "0.0",
         "0.0",
         "0.0",
         "0.0",
         "0.0",
         "0.0",
         "0.0",
         "0.0",
         "0.0",
         "0.0",
         "0.0",
         "0.0",
         "0.0",
         "0.0",
         "0.0",
         "0.0",
         "0.0",
         "0.0",
         "0.0",
         "0.0",
         "0.0",
         "0.0",
         "0.0",
         "0.0",
         "0.0",
         "0.0",
         "0.0",
         "0.0",
         "0.0",
         "0.0",
         "0.0",
         "0.0",
         "0.0",
         "0.0",
         "0.0",
         "0.0",
         "0.0",
         "0.0",
         "0.0",
         "0.0",
         "0.0",
         "0.0",
         "0.0",
         "0.0",
         "0.0",
         "0.0",
         "0.0",
         "0.0",
         "0.0",
         "0.0",
         "0.0",
         "0.0",
         "0.0",
         "0.28156891168771286",
         "0.22417992781226614",
         "0.0",
         "0.0",
         "0.0",
         "0.0",
         "0.0",
         "0.0",
         "0.0",
         "0.0",
         "0.0",
         "0.0",
         "0.0",
         "0.0",
         "0.0",
         "0.0",
         "0.0",
         "0.0",
         "0.0",
         "0.0",
         "0.0",
         "0.0",
         "0.0",
         "0.0",
         "0.0",
         "0.0",
         "0.0",
         "0.0",
         "0.0",
         "0.0",
         "0.0",
         "0.0",
         "0.0",
         "0.0",
         "0.0",
         "0.0",
         "0.0",
         "0.0",
         "0.0",
         "0.0",
         "0.0",
         "0.0",
         "0.0",
         "0.0",
         "0.21639822556854693",
         "0.0",
         "0.0",
         "0.0",
         "0.0",
         "0.0",
         "0.0",
         "0.0",
         "0.0",
         "0.0",
         "0.0",
         "0.0",
         "0.0",
         "0.0",
         "0.0",
         "0.0",
         "0.0",
         "0.0",
         "0.0",
         "0.0",
         "0.0",
         "0.0",
         "0.0",
         "0.0",
         "0.0",
         "0.0",
         "0.0",
         "0.0",
         "0.0",
         "0.0",
         "0.0",
         "0.0",
         "0.0",
         "0.0",
         "0.0",
         "0.14838562712841766",
         "0.0",
         "0.0",
         "0.0",
         "0.0",
         "0.0",
         "0.0",
         "0.0",
         "0.0",
         "0.0",
         "0.0",
         "0.0",
         "0.0",
         "0.0",
         "0.0",
         "0.0",
         "0.0",
         "0.0",
         "0.0",
         "0.0",
         "0.0",
         "0.0",
         "0.0",
         "0.0",
         "0.0",
         "0.0",
         "0.0",
         "0.0",
         "0.0",
         "0.0",
         "0.0",
         "0.0",
         "0.0",
         "0.0",
         "0.0",
         "0.0",
         "0.0",
         "0.0",
         "0.0",
         "0.0",
         "0.0",
         "0.0",
         "0.0",
         "0.0",
         "0.42365542988314137",
         "0.0",
         "0.0",
         "0.0",
         "0.0",
         "0.0",
         "0.0",
         "0.0",
         "0.0",
         "0.0",
         "0.0",
         "0.0",
         "0.0",
         "0.0",
         "0.0",
         "0.0",
         "0.0",
         "0.0",
         "0.0",
         "0.0",
         "0.0",
         "0.0",
         "0.0",
         "0.0",
         "0.0",
         "0.0",
         "0.0",
         "0.0",
         "0.0",
         "0.0",
         "0.0",
         "0.0",
         "0.0",
         "0.0",
         "0.0",
         "0.0",
         "0.0",
         "0.0",
         "0.0",
         "0.0",
         "0.0",
         "0.0",
         "0.0",
         "0.0",
         "0.0",
         "0.0",
         "0.0",
         "0.0",
         "0.0",
         "0.0",
         "0.0",
         "0.0",
         "0.0",
         "0.0",
         "0.0",
         "0.0",
         "0.0",
         "0.0",
         "0.0",
         "0.0",
         "0.0",
         "0.0",
         "0.0",
         "0.0",
         "0.0",
         "0.0",
         "0.0",
         "0.0",
         "0.0",
         "0.0",
         "0.0",
         "0.0",
         "0.0",
         "0.0",
         "0.0",
         "0.0",
         "0.0",
         "0.0",
         "0.0",
         "0.0",
         "0.0",
         "0.0",
         "0.0",
         "0.0",
         "0.0",
         "0.0",
         "0.0",
         "0.0",
         "0.0",
         "0.0",
         "0.0",
         "0.0",
         "0.0",
         "0.0",
         "0.0",
         "0.0",
         "0.0",
         "0.0",
         "0.0",
         "0.0",
         "0.0",
         "0.0",
         "0.0",
         "0.0",
         "0.27668390245592805",
         "0.0",
         "0.0",
         "0.0",
         "0.0",
         "0.0",
         "0.0",
         "0.0",
         "0.0",
         "0.0",
         "0.0",
         "0.0",
         "0.0",
         "0.0",
         "0.0",
         "0.0",
         "0.0",
         "0.0",
         "0.0",
         "0.0",
         "0.0",
         "0.0",
         "0.0",
         "0.0",
         "0.0",
         "0.0",
         "0.0",
         "0.0",
         "0.0",
         "0.0",
         "0.0",
         "0.0",
         "0.0",
         "0.0",
         "0.0",
         "0.0",
         "0.0",
         "0.0",
         "0.0",
         "0.0",
         "0.0",
         "0.0",
         "0.0",
         "0.0",
         "0.0",
         "0.0",
         "0.0",
         "0.0",
         "0.0",
         "0.0",
         "0.0",
         "0.0",
         "0.0",
         "0.0",
         "0.0",
         "0.0",
         "0.0",
         "0.0",
         "0.0",
         "0.0",
         "0.0",
         "0.0",
         "0.0",
         "0.0",
         "0.0",
         "0.0",
         "0.0",
         "0.0",
         "0.0",
         "0.0",
         "0.0",
         "0.0",
         "0.0",
         "0.0",
         "0.0",
         "0.0",
         "0.0",
         "0.0",
         "0.0",
         "0.0",
         "0.0",
         "0.0",
         "0.0",
         "0.0",
         "0.0",
         "0.15705938267349331",
         "0.0",
         "0.0",
         "0.0",
         "0.0",
         "0.0",
         "0.0",
         "0.0",
         "0.0",
         "0.0",
         "0.0",
         "0.24681833879279214",
         "0.0",
         "0.0",
         "0.0",
         "0.0",
         "0.0",
         "0.0",
         "0.0",
         "0.0",
         "0.0",
         "0.0",
         "0.0",
         "0.0",
         "0.0",
         "0.0",
         "0.0",
         "0.0",
         "0.0",
         "0.0",
         "0.0",
         "0.0",
         "0.0",
         "0.0",
         "0.0",
         "0.0",
         "0.0",
         "0.0",
         "0.0",
         "0.0",
         "0.5024687010169988",
         "0.0",
         "0.1271057168600507",
         "0.0",
         "0.0",
         "0.0",
         "0.0",
         "0.0",
         "0.0",
         "0.0",
         "0.0",
         "0.0",
         "0.14382388499099596",
         "0.0",
         "0.0",
         "0.0",
         "0.0",
         "0.0",
         "0.0",
         "0.0",
         "0.0",
         "0.0",
         "0.0",
         "0.0",
         "0.20512994652532093",
         "0.0",
         "0.0",
         "0.0",
         "0.0",
         "0.0",
         "0.0",
         "0.0",
         "0.0",
         "0.0",
         "0.0",
         "0.0",
         "0.0",
         "0.0",
         "0.0",
         "0.0",
         "0.0",
         "0.0",
         "0.0",
         "0.0",
         "0.0",
         "0.0",
         "0.0",
         "0.0",
         "0.0",
         "0.0",
         "0.0",
         "0.31107225326474874",
         "0.17841178213571413",
         "0.0",
         "0.0",
         "0.0",
         "0.0",
         "0.0",
         "0.0",
         "0.0",
         "0.0",
         "0.0",
         "0.0",
         "0.0",
         "0.0",
         "0.0",
         "0.0",
         "0.0",
         "0.0",
         "0.0",
         "0.0",
         "0.0",
         "0.0",
         "0.0",
         "0.0",
         "0.0",
         "0.0",
         "0.0",
         "0.0",
         "0.0",
         "0.0",
         "0.0",
         "0.0",
         "0.0",
         "0.0",
         null
        ],
        [
         "3",
         "0.0",
         "0.0",
         "0.0",
         "0.0",
         "0.0",
         "0.0",
         "0.0",
         "0.0",
         "0.0",
         "0.0",
         "0.0",
         "0.0",
         "0.0",
         "0.0",
         "0.0",
         "0.0",
         "0.0",
         "0.0",
         "0.0",
         "0.0",
         "0.0",
         "0.0",
         "0.3492510991291186",
         "0.0",
         "0.0",
         "0.0",
         "0.18621459366001353",
         "0.0",
         "0.0",
         "0.0",
         "0.0",
         "0.0",
         "0.0",
         "0.0",
         "0.0",
         "0.0",
         "0.0",
         "0.0",
         "0.0",
         "0.0",
         "0.0",
         "0.0",
         "0.0",
         "0.0",
         "0.0",
         "0.0",
         "0.0",
         "0.0",
         "0.0",
         "0.0",
         "0.0",
         "0.0",
         "0.0",
         "0.0",
         "0.0",
         "0.0",
         "0.0",
         "0.0",
         "0.0",
         "0.0",
         "0.0",
         "0.0",
         "0.0",
         "0.0",
         "0.0",
         "0.0",
         "0.0",
         "0.0",
         "0.0",
         "0.0",
         "0.0",
         "0.0",
         "0.0",
         "0.0",
         "0.0",
         "0.0",
         "0.0",
         "0.1652959138314386",
         "0.0",
         "0.0",
         "0.0",
         "0.0",
         "0.0",
         "0.0",
         "0.0",
         "0.0",
         "0.0",
         "0.0",
         "0.0",
         "0.0",
         "0.09554166457160759",
         "0.0",
         "0.0",
         "0.0",
         "0.0",
         "0.0",
         "0.0",
         "0.0",
         "0.0",
         "0.0",
         "0.0",
         "0.0",
         "0.20712737336392492",
         "0.0",
         "0.0",
         "0.0",
         "0.0",
         "0.0",
         "0.0",
         "0.0",
         "0.0",
         "0.0",
         "0.0",
         "0.0",
         "0.0",
         "0.12043993440907712",
         "0.0",
         "0.0",
         "0.0",
         "0.0",
         "0.0",
         "0.0",
         "0.0",
         "0.0",
         "0.0",
         "0.0",
         "0.0",
         "0.0",
         "0.0",
         "0.0",
         "0.0",
         "0.0",
         "0.0",
         "0.0",
         "0.0",
         "0.0",
         "0.0",
         "0.0",
         "0.0",
         "0.0",
         "0.0",
         "0.18376467051088452",
         "0.402494384041113",
         "0.0",
         "0.0",
         "0.0",
         "0.0",
         "0.0",
         "0.0",
         "0.0",
         "0.0",
         "0.0",
         "0.22569727816655918",
         "0.0",
         "0.0",
         "0.0",
         "0.0",
         "0.0",
         "0.0",
         "0.0",
         "0.0",
         "0.0",
         "0.0",
         "0.0",
         "0.0",
         "0.0",
         "0.0",
         "0.0",
         "0.0",
         "0.0",
         "0.0",
         "0.0",
         "0.0",
         "0.0",
         "0.0",
         "0.0",
         "0.0",
         "0.0",
         "0.0",
         "0.0",
         "0.0",
         "0.0",
         "0.0",
         "0.0",
         "0.0",
         "0.0",
         "0.0",
         "0.0",
         "0.0",
         "0.0",
         "0.0",
         "0.0",
         "0.0",
         "0.0",
         "0.0",
         "0.0",
         "0.0",
         "0.0",
         "0.0",
         "0.16456223580608345",
         "0.0",
         "0.0",
         "0.0",
         "0.0",
         "0.0",
         "0.0",
         "0.0",
         "0.0",
         "0.0",
         "0.0",
         "0.0",
         "0.0",
         "0.0",
         "0.0",
         "0.0",
         "0.0",
         "0.0",
         "0.0",
         "0.0",
         "0.11463508242886082",
         "0.0",
         "0.0",
         "0.0",
         "0.0",
         "0.0",
         "0.0",
         "0.0",
         "0.0",
         "0.0",
         "0.0",
         "0.0",
         "0.0",
         "0.0",
         "0.0",
         "0.0",
         "0.0",
         "0.0",
         "0.0",
         "0.0",
         "0.0",
         "0.0",
         "0.0",
         "0.0",
         "0.0",
         "0.0",
         "0.0",
         "0.0",
         "0.0",
         "0.0",
         "0.0",
         "0.0",
         "0.0",
         "0.2834469010370661",
         "0.0",
         "0.0",
         "0.0",
         "0.0",
         "0.0",
         "0.0",
         "0.0",
         "0.0",
         "0.0",
         "0.0",
         "0.0",
         "0.0",
         "0.0",
         "0.0",
         "0.0",
         "0.0",
         "0.0",
         "0.0",
         "0.0",
         "0.0",
         "0.0",
         "0.0",
         "0.0",
         "0.0",
         "0.0",
         "0.0",
         "0.0",
         "0.0",
         "0.0",
         "0.0",
         "0.0",
         "0.0",
         "0.0",
         "0.0",
         "0.0",
         "0.0",
         "0.0",
         "0.0",
         "0.0",
         "0.0",
         "0.0",
         "0.0",
         "0.0",
         "0.0",
         "0.0",
         "0.0",
         "0.0",
         "0.0",
         "0.0",
         "0.0",
         "0.0",
         "0.0",
         "0.0",
         "0.0",
         "0.0",
         "0.0",
         "0.0",
         "0.0",
         "0.0",
         "0.0",
         "0.0",
         "0.0",
         "0.0",
         "0.0",
         "0.0",
         "0.0",
         "0.0",
         "0.0",
         "0.0",
         "0.0",
         "0.0",
         "0.0",
         "0.0",
         "0.27313840941035583",
         "0.0",
         "0.0",
         "0.0",
         "0.0",
         "0.0",
         "0.0",
         "0.0",
         "0.0",
         "0.0",
         "0.0",
         "0.0",
         "0.09885501680647664",
         "0.0",
         "0.0",
         "0.0",
         "0.0",
         "0.0",
         "0.0",
         "0.0",
         "0.0",
         "0.0",
         "0.0",
         "0.0",
         "0.0",
         "0.0",
         "0.0",
         "0.0",
         "0.0",
         "0.0",
         "0.0",
         "0.0",
         "0.0",
         "0.0",
         "0.0",
         "0.0",
         "0.17325871546679827",
         "0.0",
         "0.0",
         "0.0",
         "0.0",
         "0.0",
         "0.0",
         "0.0",
         "0.0",
         "0.0",
         "0.0",
         "0.0",
         "0.0",
         "0.0",
         "0.0",
         "0.0",
         "0.0",
         "0.2582861774074466",
         "0.0",
         "0.0",
         "0.0",
         "0.1559321963678096",
         "0.0",
         "0.0",
         "0.0",
         "0.0",
         "0.0",
         "0.0",
         "0.0",
         "0.0",
         "0.0",
         "0.0",
         "0.0",
         "0.0",
         "0.0",
         "0.0",
         "0.0",
         "0.0",
         "0.0",
         "0.0",
         "0.0",
         "0.0",
         "0.0",
         "0.0",
         "0.0",
         "0.0",
         "0.0",
         "0.0",
         "0.0",
         "0.0",
         "0.0",
         "0.0",
         "0.0",
         "0.0",
         "0.0",
         "0.0",
         "0.0",
         "0.0",
         "0.24187945626287466",
         "0.0",
         "0.0",
         "0.0",
         "0.0",
         "0.0",
         "0.0",
         "0.10607736744832216",
         "0.0",
         "0.0",
         "0.0",
         "0.0",
         "0.0",
         "0.0",
         "0.0",
         "0.0",
         "0.0",
         "0.0",
         "0.0",
         "0.0",
         "0.0",
         "0.0",
         "0.0",
         "0.071441817563003",
         "0.24267784887186558",
         "0.0",
         "0.0",
         "0.0",
         "0.0",
         "0.0",
         "0.0",
         "0.0",
         "0.0",
         "0.0",
         "0.0",
         "0.0",
         "0.16109161113404474",
         "0.0",
         "0.0",
         "0.0",
         "0.0",
         "0.0",
         "0.0",
         "0.0",
         "0.13071974837131003",
         "0.0",
         "0.0",
         "0.0",
         "0.0",
         "0.0",
         "0.0",
         "0.0",
         "0.0",
         "0.0",
         "0.0",
         "0.0",
         "0.0",
         "0.0",
         "0.0",
         "0.0",
         "0.0",
         "0.0",
         "0.0",
         "0.0",
         "0.0",
         "0.0",
         "0.0",
         "0.0",
         "0.0",
         "0.0",
         "0.0",
         "0.0",
         "0.0",
         "0.0",
         "0.0",
         "0.0",
         "0.0",
         "0.0",
         "0.0",
         "0.0",
         null
        ],
        [
         "4",
         "0.0",
         "0.0",
         "0.0",
         "0.0",
         "0.0",
         "0.0",
         "0.0",
         "0.057225351622759685",
         "0.0",
         "0.206947947531867",
         "0.0",
         "0.0",
         "0.0",
         "0.0",
         "0.0",
         "0.0",
         "0.0",
         "0.10136196566399641",
         "0.0",
         "0.0",
         "0.0",
         "0.0",
         "0.0",
         "0.0",
         "0.0",
         "0.0",
         "0.0",
         "0.0",
         "0.0",
         "0.0",
         "0.0",
         "0.0",
         "0.0",
         "0.0",
         "0.0",
         "0.0",
         "0.0",
         "0.0",
         "0.0",
         "0.0",
         "0.0",
         "0.0",
         "0.0",
         "0.0",
         "0.0",
         "0.0",
         "0.0",
         "0.0",
         "0.0",
         "0.0",
         "0.0",
         "0.0",
         "0.0",
         "0.0",
         "0.23596209773347432",
         "0.0",
         "0.0",
         "0.0",
         "0.0",
         "0.0",
         "0.0",
         "0.0",
         "0.06952445447336175",
         "0.14640511007539175",
         "0.0",
         "0.0",
         "0.0",
         "0.0",
         "0.0",
         "0.0",
         "0.0",
         "0.0",
         "0.0",
         "0.09642405877469155",
         "0.0",
         "0.0",
         "0.0",
         "0.0",
         "0.0",
         "0.0",
         "0.0",
         "0.0",
         "0.0",
         "0.0",
         "0.0",
         "0.0",
         "0.0",
         "0.0",
         "0.0",
         "0.0",
         "0.0",
         "0.0",
         "0.0",
         "0.0",
         "0.0",
         "0.0",
         "0.0",
         "0.0",
         "0.0",
         "0.0",
         "0.0",
         "0.0",
         "0.0",
         "0.0",
         "0.0",
         "0.0",
         "0.0",
         "0.0",
         "0.0",
         "0.0",
         "0.0",
         "0.0",
         "0.0",
         "0.0",
         "0.0",
         "0.10200365523408407",
         "0.0",
         "0.0",
         "0.0",
         "0.12991175537421473",
         "0.0",
         "0.0",
         "0.0",
         "0.0",
         "0.0",
         "0.12992903548009432",
         "0.0",
         "0.0",
         "0.0",
         "0.0",
         "0.0",
         "0.0",
         "0.0",
         "0.0",
         "0.0",
         "0.0",
         "0.0",
         "0.0",
         "0.1282586462200075",
         "0.0",
         "0.0",
         "0.0",
         "0.0",
         "0.0",
         "0.0",
         "0.0",
         "0.0",
         "0.0",
         "0.0",
         "0.0",
         "0.0",
         "0.0",
         "0.0",
         "0.0",
         "0.0",
         "0.0",
         "0.0",
         "0.0",
         "0.0",
         "0.0",
         "0.0",
         "0.0",
         "0.0",
         "0.0",
         "0.0",
         "0.0",
         "0.0",
         "0.0",
         "0.0",
         "0.0",
         "0.0",
         "0.0",
         "0.0",
         "0.0",
         "0.0800585198971821",
         "0.0",
         "0.0",
         "0.0",
         "0.0",
         "0.0",
         "0.0",
         "0.0",
         "0.0",
         "0.0",
         "0.0",
         "0.0",
         "0.0",
         "0.0",
         "0.0",
         "0.09816308601201032",
         "0.11279223614314553",
         "0.0",
         "0.0",
         "0.0",
         "0.0",
         "0.0",
         "0.0",
         "0.0",
         "0.0",
         "0.1393719587117999",
         "0.0",
         "0.0",
         "0.0",
         "0.0",
         "0.0",
         "0.0",
         "0.0",
         "0.0",
         "0.0",
         "0.0",
         "0.0",
         "0.0",
         "0.0",
         "0.0",
         "0.0",
         "0.0",
         "0.17705320408971606",
         "0.0",
         "0.0",
         "0.12033730243155082",
         "0.0",
         "0.0",
         "0.0",
         "0.09320389189849383",
         "0.0",
         "0.0",
         "0.0",
         "0.0",
         "0.0",
         "0.0",
         "0.0",
         "0.0",
         "0.0",
         "0.0",
         "0.0",
         "0.0",
         "0.17796814946761724",
         "0.0",
         "0.0",
         "0.0",
         "0.0",
         "0.0",
         "0.0",
         "0.0",
         "0.0",
         "0.0",
         "0.0",
         "0.0",
         "0.0",
         "0.0",
         "0.0",
         "0.0",
         "0.1750321016129941",
         "0.0",
         "0.0",
         "0.0",
         "0.0",
         "0.12989448744171117",
         "0.0",
         "0.0",
         "0.0",
         "0.0",
         "0.0",
         "0.0",
         "0.0",
         "0.0",
         "0.0",
         "0.09035806260376589",
         "0.13001715152523494",
         "0.0",
         "0.0",
         "0.0",
         "0.0",
         "0.0",
         "0.0",
         "0.0",
         "0.0",
         "0.0914196814047525",
         "0.0",
         "0.0",
         "0.0",
         "0.0",
         "0.0",
         "0.0",
         "0.0",
         "0.08224109813486069",
         "0.0",
         "0.0",
         "0.0",
         "0.0",
         "0.0",
         "0.0",
         "0.0",
         "0.0",
         "0.0",
         "0.0",
         "0.10498557164388543",
         "0.0",
         "0.0",
         "0.0",
         "0.0",
         "0.0",
         "0.0",
         "0.0",
         "0.0",
         "0.0",
         "0.0",
         "0.0",
         "0.0",
         "0.07047800406178091",
         "0.0",
         "0.0",
         "0.0",
         "0.0",
         "0.0",
         "0.1331971957493238",
         "0.0",
         "0.10913143861490147",
         "0.0",
         "0.0",
         "0.0",
         "0.0",
         "0.0",
         "0.0",
         "0.0",
         "0.16411944260530506",
         "0.0",
         "0.0",
         "0.0",
         "0.0",
         "0.0",
         "0.0",
         "0.0",
         "0.0",
         "0.0",
         "0.0",
         "0.0",
         "0.0",
         "0.10377229904029854",
         "0.0",
         "0.0",
         "0.0",
         "0.0",
         "0.0",
         "0.0",
         "0.0",
         "0.1925149911919964",
         "0.0",
         "0.067661865035885",
         "0.0",
         "0.10268515629591721",
         "0.0",
         "0.0",
         "0.0",
         "0.0",
         "0.0",
         "0.0",
         "0.0",
         "0.0",
         "0.0",
         "0.06304901224010949",
         "0.20004234589147513",
         "0.0",
         "0.0",
         "0.0",
         "0.0",
         "0.0",
         "0.0",
         "0.21197587817882776",
         "0.0",
         "0.0",
         "0.0",
         "0.0",
         "0.0",
         "0.0",
         "0.0",
         "0.0",
         "0.0",
         "0.0",
         "0.0",
         "0.0",
         "0.0",
         "0.0",
         "0.0460671767383544",
         "0.0",
         "0.0",
         "0.06115285629181906",
         "0.0",
         "0.0",
         "0.0",
         "0.17181280271704144",
         "0.0",
         "0.0",
         "0.0",
         "0.0",
         "0.0",
         "0.0",
         "0.0",
         "0.0",
         "0.0",
         "0.0",
         "0.0",
         "0.0",
         "0.0",
         "0.0",
         "0.0",
         "0.0",
         "0.0",
         "0.0",
         "0.0",
         "0.0",
         "0.0",
         "0.0",
         "0.0",
         "0.0",
         "0.0",
         "0.08043887368191403",
         "0.18450775111538784",
         "0.0",
         "0.0",
         "0.0",
         "0.1146663232566442",
         "0.0",
         "0.0",
         "0.0",
         "0.0",
         "0.0",
         "0.09232047507554357",
         "0.0",
         "0.0",
         "0.0",
         "0.0",
         "0.0",
         "0.0",
         "0.0",
         "0.0",
         "0.0",
         "0.0",
         "0.0",
         "0.0",
         "0.0",
         "0.0",
         "0.1949236141841584",
         "0.0",
         "0.0",
         "0.0",
         "0.0",
         "0.0",
         "0.20573716258642705",
         "0.2155782627378008",
         "0.0",
         "0.0",
         "0.0",
         "0.0",
         "0.0",
         "0.0",
         "0.1364325980733997",
         "0.0",
         "0.0",
         "0.0",
         "0.0",
         "0.0",
         "0.0",
         "0.0",
         "0.0",
         "0.0849193878745996",
         "0.2011164361773681",
         "0.09276733161257547",
         "0.0",
         "0.0",
         "0.0",
         "0.0",
         "0.0",
         "0.0",
         "0.0",
         "0.0",
         "0.0",
         "0.0",
         "0.0",
         "0.0",
         "0.0",
         "0.0",
         "0.0",
         "0.0",
         "0.0",
         "0.12781063687076807",
         "0.0",
         "0.0",
         "0.0",
         "0.0",
         "0.0",
         "0.1249552897486739",
         "0.0",
         "0.0",
         "0.0",
         "0.0",
         "0.0",
         "0.0",
         "0.11849280221590222",
         "0.0",
         null
        ]
       ],
       "shape": {
        "columns": 501,
        "rows": 5
       }
      },
      "text/html": [
       "<div>\n",
       "<style scoped>\n",
       "    .dataframe tbody tr th:only-of-type {\n",
       "        vertical-align: middle;\n",
       "    }\n",
       "\n",
       "    .dataframe tbody tr th {\n",
       "        vertical-align: top;\n",
       "    }\n",
       "\n",
       "    .dataframe thead th {\n",
       "        text-align: right;\n",
       "    }\n",
       "</style>\n",
       "<table border=\"1\" class=\"dataframe\">\n",
       "  <thead>\n",
       "    <tr style=\"text-align: right;\">\n",
       "      <th></th>\n",
       "      <th>accel</th>\n",
       "      <th>accordance</th>\n",
       "      <th>accordingly</th>\n",
       "      <th>account</th>\n",
       "      <th>accrue</th>\n",
       "      <th>achieve</th>\n",
       "      <th>achievement</th>\n",
       "      <th>acquire</th>\n",
       "      <th>acquisition</th>\n",
       "      <th>act</th>\n",
       "      <th>...</th>\n",
       "      <th>wholly</th>\n",
       "      <th>wife</th>\n",
       "      <th>withhold</th>\n",
       "      <th>withholding</th>\n",
       "      <th>wp</th>\n",
       "      <th>xi</th>\n",
       "      <th>year</th>\n",
       "      <th>york</th>\n",
       "      <th>yorktown</th>\n",
       "      <th>prediction</th>\n",
       "    </tr>\n",
       "  </thead>\n",
       "  <tbody>\n",
       "    <tr>\n",
       "      <th>0</th>\n",
       "      <td>0.0</td>\n",
       "      <td>0.0</td>\n",
       "      <td>0.0</td>\n",
       "      <td>0.0</td>\n",
       "      <td>0.0</td>\n",
       "      <td>0.0</td>\n",
       "      <td>0.0</td>\n",
       "      <td>0.000000</td>\n",
       "      <td>0.190187</td>\n",
       "      <td>0.000000</td>\n",
       "      <td>...</td>\n",
       "      <td>0.000000</td>\n",
       "      <td>0.0</td>\n",
       "      <td>0.0</td>\n",
       "      <td>0.0</td>\n",
       "      <td>0.0</td>\n",
       "      <td>0.0</td>\n",
       "      <td>0.0</td>\n",
       "      <td>0.000000</td>\n",
       "      <td>0.0</td>\n",
       "      <td>NaN</td>\n",
       "    </tr>\n",
       "    <tr>\n",
       "      <th>1</th>\n",
       "      <td>0.0</td>\n",
       "      <td>0.0</td>\n",
       "      <td>0.0</td>\n",
       "      <td>0.0</td>\n",
       "      <td>0.0</td>\n",
       "      <td>0.0</td>\n",
       "      <td>0.0</td>\n",
       "      <td>0.000000</td>\n",
       "      <td>0.000000</td>\n",
       "      <td>0.000000</td>\n",
       "      <td>...</td>\n",
       "      <td>0.000000</td>\n",
       "      <td>0.0</td>\n",
       "      <td>0.0</td>\n",
       "      <td>0.0</td>\n",
       "      <td>0.0</td>\n",
       "      <td>0.0</td>\n",
       "      <td>0.0</td>\n",
       "      <td>0.000000</td>\n",
       "      <td>0.0</td>\n",
       "      <td>NaN</td>\n",
       "    </tr>\n",
       "    <tr>\n",
       "      <th>2</th>\n",
       "      <td>0.0</td>\n",
       "      <td>0.0</td>\n",
       "      <td>0.0</td>\n",
       "      <td>0.0</td>\n",
       "      <td>0.0</td>\n",
       "      <td>0.0</td>\n",
       "      <td>0.0</td>\n",
       "      <td>0.000000</td>\n",
       "      <td>0.000000</td>\n",
       "      <td>0.000000</td>\n",
       "      <td>...</td>\n",
       "      <td>0.000000</td>\n",
       "      <td>0.0</td>\n",
       "      <td>0.0</td>\n",
       "      <td>0.0</td>\n",
       "      <td>0.0</td>\n",
       "      <td>0.0</td>\n",
       "      <td>0.0</td>\n",
       "      <td>0.000000</td>\n",
       "      <td>0.0</td>\n",
       "      <td>NaN</td>\n",
       "    </tr>\n",
       "    <tr>\n",
       "      <th>3</th>\n",
       "      <td>0.0</td>\n",
       "      <td>0.0</td>\n",
       "      <td>0.0</td>\n",
       "      <td>0.0</td>\n",
       "      <td>0.0</td>\n",
       "      <td>0.0</td>\n",
       "      <td>0.0</td>\n",
       "      <td>0.000000</td>\n",
       "      <td>0.000000</td>\n",
       "      <td>0.000000</td>\n",
       "      <td>...</td>\n",
       "      <td>0.000000</td>\n",
       "      <td>0.0</td>\n",
       "      <td>0.0</td>\n",
       "      <td>0.0</td>\n",
       "      <td>0.0</td>\n",
       "      <td>0.0</td>\n",
       "      <td>0.0</td>\n",
       "      <td>0.000000</td>\n",
       "      <td>0.0</td>\n",
       "      <td>NaN</td>\n",
       "    </tr>\n",
       "    <tr>\n",
       "      <th>4</th>\n",
       "      <td>0.0</td>\n",
       "      <td>0.0</td>\n",
       "      <td>0.0</td>\n",
       "      <td>0.0</td>\n",
       "      <td>0.0</td>\n",
       "      <td>0.0</td>\n",
       "      <td>0.0</td>\n",
       "      <td>0.057225</td>\n",
       "      <td>0.000000</td>\n",
       "      <td>0.206948</td>\n",
       "      <td>...</td>\n",
       "      <td>0.124955</td>\n",
       "      <td>0.0</td>\n",
       "      <td>0.0</td>\n",
       "      <td>0.0</td>\n",
       "      <td>0.0</td>\n",
       "      <td>0.0</td>\n",
       "      <td>0.0</td>\n",
       "      <td>0.118493</td>\n",
       "      <td>0.0</td>\n",
       "      <td>NaN</td>\n",
       "    </tr>\n",
       "  </tbody>\n",
       "</table>\n",
       "<p>5 rows × 501 columns</p>\n",
       "</div>"
      ],
      "text/plain": [
       "   accel  accordance  accordingly  account  accrue  achieve  achievement  \\\n",
       "0    0.0         0.0          0.0      0.0     0.0      0.0          0.0   \n",
       "1    0.0         0.0          0.0      0.0     0.0      0.0          0.0   \n",
       "2    0.0         0.0          0.0      0.0     0.0      0.0          0.0   \n",
       "3    0.0         0.0          0.0      0.0     0.0      0.0          0.0   \n",
       "4    0.0         0.0          0.0      0.0     0.0      0.0          0.0   \n",
       "\n",
       "    acquire  acquisition       act  ...    wholly  wife  withhold  \\\n",
       "0  0.000000     0.190187  0.000000  ...  0.000000   0.0       0.0   \n",
       "1  0.000000     0.000000  0.000000  ...  0.000000   0.0       0.0   \n",
       "2  0.000000     0.000000  0.000000  ...  0.000000   0.0       0.0   \n",
       "3  0.000000     0.000000  0.000000  ...  0.000000   0.0       0.0   \n",
       "4  0.057225     0.000000  0.206948  ...  0.124955   0.0       0.0   \n",
       "\n",
       "   withholding   wp   xi  year      york  yorktown  prediction  \n",
       "0          0.0  0.0  0.0   0.0  0.000000       0.0         NaN  \n",
       "1          0.0  0.0  0.0   0.0  0.000000       0.0         NaN  \n",
       "2          0.0  0.0  0.0   0.0  0.000000       0.0         NaN  \n",
       "3          0.0  0.0  0.0   0.0  0.000000       0.0         NaN  \n",
       "4          0.0  0.0  0.0   0.0  0.118493       0.0         NaN  \n",
       "\n",
       "[5 rows x 501 columns]"
      ]
     },
     "execution_count": 28,
     "metadata": {},
     "output_type": "execute_result"
    }
   ],
   "source": [
    "tfidf_df_j[\"prediction\"] = df_j_coded[\"prediction\"]\n",
    "tfidf_df_j.head()"
   ]
  },
  {
   "cell_type": "code",
   "execution_count": 29,
   "metadata": {},
   "outputs": [],
   "source": [
    "suspicius_j = tfidf_df_j[tfidf_df_j['prediction'] == 1].drop(columns=[\"prediction\"]).mean()\n",
    "non_suspicious_j = tfidf_df_j[tfidf_df_j['prediction'] == 0].drop(columns=[\"prediction\"]).mean()\n",
    "suspicious_words_j = (suspicius_j - non_suspicious_j).sort_values(ascending=False)"
   ]
  },
  {
   "cell_type": "markdown",
   "metadata": {},
   "source": [
    "### Word importance plot by taking a difference between labelled 1 and labelled 0"
   ]
  },
  {
   "cell_type": "code",
   "execution_count": 30,
   "metadata": {},
   "outputs": [
    {
     "data": {
      "image/png": "[encoded data removed]",
      "text/plain": [
       "<Figure size 1200x500 with 2 Axes>"
      ]
     },
     "metadata": {},
     "output_type": "display_data"
    }
   ],
   "source": [
    "# Top 10 suspicious words Non-J coded and J coded\n",
    "top_10_data = suspicious_words.head(10)\n",
    "top_10_data_j = suspicious_words_j.head(10)\n",
    "\n",
    "plt.figure(figsize=(12, 5))\n",
    "\n",
    "########################\n",
    "# Plot Non-J coded word importance\n",
    "########################\n",
    "plt.subplot(1, 2, 1)\n",
    "plt.xlabel('Category')\n",
    "plt.ylabel('Value')\n",
    "plt.title('Word Importance plot')\n",
    "plt.bar(top_10_data.index, top_10_data.values)\n",
    "plt.xticks(rotation=45)\n",
    "\n",
    "########################\n",
    "# Plot J coded word importance\n",
    "########################\n",
    "plt.subplot(1, 2, 2)\n",
    "plt.xticks(rotation=45)\n",
    "plt.xlabel('Category')\n",
    "plt.ylabel('Value')\n",
    "plt.title('J coded Word Importance plot')\n",
    "plt.bar(top_10_data_j.index, top_10_data_j.values)\n",
    "\n",
    "# Adjust layout and show\n",
    "plt.tight_layout()\n",
    "plt.show()\n"
   ]
  },
  {
   "cell_type": "markdown",
   "metadata": {},
   "source": [
    "### Words like sell, trading, lieu and fee would be tested for significance"
   ]
  },
  {
   "cell_type": "markdown",
   "metadata": {},
   "source": [
    "___\n",
    "## Importance of features\n",
    "___"
   ]
  },
  {
   "cell_type": "markdown",
   "metadata": {},
   "source": [
    "### Feature creation:"
   ]
  },
  {
   "cell_type": "code",
   "execution_count": 31,
   "metadata": {},
   "outputs": [],
   "source": [
    "## Count processed keywords\n",
    "def count_lemmatized(row, string):\n",
    "    processed_text = preprocess_text(row)\n",
    "    processed_string = preprocess_text(string)\n",
    "    occurance = processed_text.count(processed_string)\n",
    "    return occurance"
   ]
  },
  {
   "cell_type": "code",
   "execution_count": 32,
   "metadata": {},
   "outputs": [
    {
     "data": {
      "text/plain": [
       "4"
      ]
     },
     "execution_count": 32,
     "metadata": {},
     "output_type": "execute_result"
    }
   ],
   "source": [
    "count_lemmatized(\"The reporting person received a grant of 375 restricted stock units of Adams Resources & Energy, \\\n",
    "                 Inc. (AE) on June 29, 2018.  Each restricted stock unit represents a contingent right to receive one\\\n",
    "                 share of AE common stock upon vesting. The restricted stock units will vest (i.e., the restrictions will lapse)\\\n",
    "                 on May 8, 2019, provided the reporting person remains in continuing active service on the vesting date (subject to accelerated vesting in some circumstances).\",\n",
    "                 \"restricted\")"
   ]
  },
  {
   "cell_type": "markdown",
   "metadata": {},
   "source": [
    "### Words and codes like force sale, git, distribution, charity, \"10b5-1\" and \"16b-3\" would be tested for significance. These were taken directly from the paper"
   ]
  },
  {
   "cell_type": "code",
   "execution_count": 34,
   "metadata": {},
   "outputs": [
    {
     "name": "stdout",
     "output_type": "stream",
     "text": [
      "Creating processed footnotes\n",
      "Creating feature for force sale\n",
      "Creating feature for gift\n",
      "Creating feature for distribution\n",
      "Creating feature for charity\n",
      "Creating feature for price\n",
      "Creating feature for number\n",
      "Creating feature for ball\n",
      "Creating feature for pursuant\n",
      "Creating feature for 10b5-1\n",
      "Creating feature for 16b-3\n"
     ]
    },
    {
     "data": {
      "application/vnd.microsoft.datawrangler.viewer.v0+json": {
       "columns": [
        {
         "name": "index",
         "rawType": "int64",
         "type": "integer"
        },
        {
         "name": "force sale",
         "rawType": "int64",
         "type": "integer"
        },
        {
         "name": "gift",
         "rawType": "int64",
         "type": "integer"
        },
        {
         "name": "distribution",
         "rawType": "int64",
         "type": "integer"
        },
        {
         "name": "charity",
         "rawType": "int64",
         "type": "integer"
        },
        {
         "name": "price",
         "rawType": "int64",
         "type": "integer"
        },
        {
         "name": "number",
         "rawType": "int64",
         "type": "integer"
        },
        {
         "name": "ball",
         "rawType": "int64",
         "type": "integer"
        },
        {
         "name": "pursuant",
         "rawType": "int64",
         "type": "integer"
        },
        {
         "name": "probability",
         "rawType": "float64",
         "type": "float"
        },
        {
         "name": "prediction",
         "rawType": "int64",
         "type": "integer"
        },
        {
         "name": "10b5-1",
         "rawType": "int64",
         "type": "integer"
        },
        {
         "name": "16b-3",
         "rawType": "int64",
         "type": "integer"
        }
       ],
       "conversionMethod": "pd.DataFrame",
       "ref": "cf91f6b7-1d3b-40ec-99ca-857980a3e4a6",
       "rows": [
        [
         "0",
         "0",
         "0",
         "0",
         "0",
         "0",
         "0",
         "0",
         "0",
         "1.0",
         "1",
         "0",
         "0"
        ],
        [
         "20",
         "0",
         "0",
         "0",
         "0",
         "0",
         "0",
         "0",
         "1",
         "0.8962697445155132",
         "1",
         "0",
         "0"
        ],
        [
         "22",
         "0",
         "0",
         "0",
         "0",
         "0",
         "0",
         "0",
         "0",
         "0.4579210832042034",
         "0",
         "0",
         "0"
        ],
        [
         "23",
         "0",
         "0",
         "0",
         "0",
         "0",
         "0",
         "0",
         "0",
         "0.09217604905814",
         "0",
         "0",
         "0"
        ],
        [
         "50",
         "0",
         "0",
         "0",
         "0",
         "0",
         "0",
         "0",
         "0",
         "0.0900525862146798",
         "0",
         "0",
         "0"
        ]
       ],
       "shape": {
        "columns": 12,
        "rows": 5
       }
      },
      "text/html": [
       "<div>\n",
       "<style scoped>\n",
       "    .dataframe tbody tr th:only-of-type {\n",
       "        vertical-align: middle;\n",
       "    }\n",
       "\n",
       "    .dataframe tbody tr th {\n",
       "        vertical-align: top;\n",
       "    }\n",
       "\n",
       "    .dataframe thead th {\n",
       "        text-align: right;\n",
       "    }\n",
       "</style>\n",
       "<table border=\"1\" class=\"dataframe\">\n",
       "  <thead>\n",
       "    <tr style=\"text-align: right;\">\n",
       "      <th></th>\n",
       "      <th>force sale</th>\n",
       "      <th>gift</th>\n",
       "      <th>distribution</th>\n",
       "      <th>charity</th>\n",
       "      <th>price</th>\n",
       "      <th>number</th>\n",
       "      <th>ball</th>\n",
       "      <th>pursuant</th>\n",
       "      <th>probability</th>\n",
       "      <th>prediction</th>\n",
       "      <th>10b5-1</th>\n",
       "      <th>16b-3</th>\n",
       "    </tr>\n",
       "  </thead>\n",
       "  <tbody>\n",
       "    <tr>\n",
       "      <th>0</th>\n",
       "      <td>0</td>\n",
       "      <td>0</td>\n",
       "      <td>0</td>\n",
       "      <td>0</td>\n",
       "      <td>0</td>\n",
       "      <td>0</td>\n",
       "      <td>0</td>\n",
       "      <td>0</td>\n",
       "      <td>1.000000</td>\n",
       "      <td>1</td>\n",
       "      <td>0</td>\n",
       "      <td>0</td>\n",
       "    </tr>\n",
       "    <tr>\n",
       "      <th>20</th>\n",
       "      <td>0</td>\n",
       "      <td>0</td>\n",
       "      <td>0</td>\n",
       "      <td>0</td>\n",
       "      <td>0</td>\n",
       "      <td>0</td>\n",
       "      <td>0</td>\n",
       "      <td>1</td>\n",
       "      <td>0.896270</td>\n",
       "      <td>1</td>\n",
       "      <td>0</td>\n",
       "      <td>0</td>\n",
       "    </tr>\n",
       "    <tr>\n",
       "      <th>22</th>\n",
       "      <td>0</td>\n",
       "      <td>0</td>\n",
       "      <td>0</td>\n",
       "      <td>0</td>\n",
       "      <td>0</td>\n",
       "      <td>0</td>\n",
       "      <td>0</td>\n",
       "      <td>0</td>\n",
       "      <td>0.457921</td>\n",
       "      <td>0</td>\n",
       "      <td>0</td>\n",
       "      <td>0</td>\n",
       "    </tr>\n",
       "    <tr>\n",
       "      <th>23</th>\n",
       "      <td>0</td>\n",
       "      <td>0</td>\n",
       "      <td>0</td>\n",
       "      <td>0</td>\n",
       "      <td>0</td>\n",
       "      <td>0</td>\n",
       "      <td>0</td>\n",
       "      <td>0</td>\n",
       "      <td>0.092176</td>\n",
       "      <td>0</td>\n",
       "      <td>0</td>\n",
       "      <td>0</td>\n",
       "    </tr>\n",
       "    <tr>\n",
       "      <th>50</th>\n",
       "      <td>0</td>\n",
       "      <td>0</td>\n",
       "      <td>0</td>\n",
       "      <td>0</td>\n",
       "      <td>0</td>\n",
       "      <td>0</td>\n",
       "      <td>0</td>\n",
       "      <td>0</td>\n",
       "      <td>0.090053</td>\n",
       "      <td>0</td>\n",
       "      <td>0</td>\n",
       "      <td>0</td>\n",
       "    </tr>\n",
       "  </tbody>\n",
       "</table>\n",
       "</div>"
      ],
      "text/plain": [
       "    force sale  gift  distribution  charity  price  number  ball  pursuant  \\\n",
       "0            0     0             0        0      0       0     0         0   \n",
       "20           0     0             0        0      0       0     0         1   \n",
       "22           0     0             0        0      0       0     0         0   \n",
       "23           0     0             0        0      0       0     0         0   \n",
       "50           0     0             0        0      0       0     0         0   \n",
       "\n",
       "    probability  prediction  10b5-1  16b-3  \n",
       "0      1.000000           1       0      0  \n",
       "20     0.896270           1       0      0  \n",
       "22     0.457921           0       0      0  \n",
       "23     0.092176           0       0      0  \n",
       "50     0.090053           0       0      0  "
      ]
     },
     "execution_count": 34,
     "metadata": {},
     "output_type": "execute_result"
    }
   ],
   "source": [
    "## Items to check\n",
    "text_list = [\"force sale\", \"gift\", \"distribution\", \"charity\"] # From research paper\n",
    "text_from_keywords = [\"price\", \"number\", \"ball\", \"pursuant\"] # From TF-IDF \n",
    "text_code = [\"10b5-1\", \"16b-3\"] # Trading codes from research paper\n",
    "\n",
    "text_list.extend(text_from_keywords)\n",
    "df_features = df_footnote_labels.copy()\n",
    "\n",
    "print(\"Creating processed footnotes\")\n",
    "df_features[\"processed\"] = df_features[\"FOOTNOTE_TXT\"].apply(lambda row: preprocess_text(row))\n",
    "\n",
    "for text in text_list:\n",
    "    print(f\"Creating feature for {text}\")\n",
    "    df_features[text] = df_features[\"processed\"].str.count(preprocess_text(text))\n",
    "\n",
    "for code in text_code:\n",
    "    print(f\"Creating feature for {code}\")\n",
    "    df_features[code] = df_features[\"FOOTNOTE_TXT\"].str.count(code)\n",
    "    \n",
    "\n",
    "text_list = text_list + [\"probability\", \"prediction\"]\n",
    "df_features = df_features[text_list + text_code]\n",
    "df_features.head()"
   ]
  },
  {
   "cell_type": "code",
   "execution_count": null,
   "metadata": {},
   "outputs": [
    {
     "name": "stdout",
     "output_type": "stream",
     "text": [
      "force sale: 4\n",
      "gift: 3809\n",
      "distribution: 5801\n",
      "charity: 127\n",
      "sell: 184495\n",
      "trading: 44114\n",
      "lieu: 761\n",
      "fee: 2485\n",
      "10b5-1: 56184\n",
      "16b-3: 3032\n"
     ]
    }
   ],
   "source": [
    "for col in df_features.columns:\n",
    "    if col == \"probability\" or col == \"prediction\":\n",
    "        continue\n",
    "    print(f'{col}: {sum(df_features[col])}')"
   ]
  },
  {
   "cell_type": "code",
   "execution_count": 35,
   "metadata": {},
   "outputs": [],
   "source": [
    "##################################\n",
    "# Define functions\n",
    "##################################\n",
    "\n",
    "def compare_complement(df, col, metrics):\n",
    "    split_1 = df[df[col] >= 1]\n",
    "    split_2 = df[df[col] < 1]\n",
    "    \n",
    "    for metric in metrics:\n",
    "        A = split_1[metric].dropna()\n",
    "        \n",
    "        # print(A)\n",
    "        B = split_2[metric].dropna()\n",
    "        t_stat, p_val = stats.ttest_ind(A, B, equal_var=False)\n",
    "        sign = \"negative\" if t_stat < 0 else \"positive\"\n",
    "        print(f\"{metric}: is more {sign} when {col} is separated\\n\" \n",
    "              f\"t-statistic = {t_stat}, p-value = {p_val}\\n\"\n",
    "              f\"mean {col} = {np.mean(A)}, mean {col} complement = {np.mean(B)}\\n\")\n",
    "        \n",
    "    print(f\"{col}: n = {len(A)}, {col} complement: n = {len(B)}\\n\")\n",
    "\n",
    "def compare_columns(df, col1, col2, metrics):\n",
    "    split_1 = df[df[col1] == 1]\n",
    "    split_2 = df[df[col2] == 1]\n",
    "    \n",
    "    for metric in metrics:\n",
    "        A = split_1[metric].dropna()\n",
    "        \n",
    "        B = split_2[metric].dropna()\n",
    "        t_stat, p_val = stats.ttest_ind(A, B, equal_var=False)\n",
    "        sign = \"negative\" if t_stat < 0 else \"positive\"\n",
    "        print(f\"{metric}: is more {sign} when {col1} compared to {col2}\\n\" \n",
    "              f\"t-statistic = {t_stat}, p-value = {p_val}\\n\"\n",
    "              f\"mean {col1} = {np.mean(A)}, mean {col2} = {np.mean(B)}\\n\")\n",
    "    print(f\"{col1}: n = {len(A)}, {col2} : n = {len(B)}\")"
   ]
  },
  {
   "cell_type": "code",
   "execution_count": 36,
   "metadata": {},
   "outputs": [],
   "source": [
    "metrics = [\"probability\", \"prediction\"]"
   ]
  },
  {
   "cell_type": "code",
   "execution_count": 37,
   "metadata": {},
   "outputs": [
    {
     "data": {
      "text/plain": [
       "Index(['force sale', 'gift', 'distribution', 'charity', 'price', 'number',\n",
       "       'ball', 'pursuant', 'probability', 'prediction', '10b5-1', '16b-3'],\n",
       "      dtype='object')"
      ]
     },
     "execution_count": 37,
     "metadata": {},
     "output_type": "execute_result"
    }
   ],
   "source": [
    "df_features.columns"
   ]
  },
  {
   "cell_type": "code",
   "execution_count": 38,
   "metadata": {},
   "outputs": [
    {
     "name": "stdout",
     "output_type": "stream",
     "text": [
      "probability: is more positive when force sale is separated\n",
      "t-statistic = 0.3672413809817833, p-value = 0.7185683817893846\n",
      "mean force sale = 0.7097227278788613, mean force sale complement = 0.6763780092923193\n",
      "\n",
      "prediction: is more positive when force sale is separated\n",
      "t-statistic = 0.5836975295309811, p-value = 0.5680975953619929\n",
      "mean force sale = 0.5625, mean force sale complement = 0.4877353543694897\n",
      "\n",
      "force sale: n = 16, force sale complement: n = 879153\n",
      "\n"
     ]
    }
   ],
   "source": [
    "compare_complement(df_features,\"force sale\", metrics)"
   ]
  },
  {
   "cell_type": "code",
   "execution_count": 39,
   "metadata": {},
   "outputs": [
    {
     "name": "stdout",
     "output_type": "stream",
     "text": [
      "probability: is more positive when gift is separated\n",
      "t-statistic = 39.02763984262886, p-value = 0.0\n",
      "mean gift = 0.7631028400005394, mean gift complement = 0.6743022535034751\n",
      "\n",
      "prediction: is more positive when gift is separated\n",
      "t-statistic = 40.867042127533445, p-value = 0.0\n",
      "mean gift = 0.6242642408911806, mean gift complement = 0.4844679552580211\n",
      "\n",
      "gift: n = 20557, gift complement: n = 858612\n",
      "\n"
     ]
    }
   ],
   "source": [
    "compare_complement(df_features,\"gift\", metrics)"
   ]
  },
  {
   "cell_type": "code",
   "execution_count": 40,
   "metadata": {},
   "outputs": [
    {
     "name": "stdout",
     "output_type": "stream",
     "text": [
      "probability: is more positive when distribution is separated\n",
      "t-statistic = 4.409693019925005, p-value = 1.0401141073608554e-05\n",
      "mean distribution = 0.6863158853183959, mean distribution complement = 0.6761383023306954\n",
      "\n",
      "prediction: is more positive when distribution is separated\n",
      "t-statistic = 1.3919183053756945, p-value = 0.1639613554500626\n",
      "mean distribution = 0.49250927308637216, mean distribution complement = 0.48762129984506236\n",
      "\n",
      "distribution: n = 20759, distribution complement: n = 858410\n",
      "\n"
     ]
    }
   ],
   "source": [
    "compare_complement(df_features,\"distribution\", metrics)"
   ]
  },
  {
   "cell_type": "code",
   "execution_count": 41,
   "metadata": {},
   "outputs": [
    {
     "name": "stdout",
     "output_type": "stream",
     "text": [
      "probability: is more positive when charity is separated\n",
      "t-statistic = 10.639461687905623, p-value = 9.25032442477227e-25\n",
      "mean charity = 0.7935943691820909, mean charity complement = 0.6762758654128095\n",
      "\n",
      "prediction: is more positive when charity is separated\n",
      "t-statistic = 10.414446416967019, p-value = 7.477630681199374e-24\n",
      "mean charity = 0.6649350649350649, mean charity complement = 0.4875813838585882\n",
      "\n",
      "charity: n = 770, charity complement: n = 878399\n",
      "\n"
     ]
    }
   ],
   "source": [
    "compare_complement(df_features,\"charity\", metrics)"
   ]
  },
  {
   "cell_type": "code",
   "execution_count": 43,
   "metadata": {},
   "outputs": [
    {
     "name": "stdout",
     "output_type": "stream",
     "text": [
      "probability: is more positive when price is separated\n",
      "t-statistic = 28.33494531258447, p-value = 1.587350532120655e-176\n",
      "mean price = 0.6888646156641853, mean price complement = 0.6680043780083851\n",
      "\n",
      "prediction: is more positive when price is separated\n",
      "t-statistic = 32.405008088440866, p-value = 3.360746797666757e-230\n",
      "mean price = 0.5088230794077147, mean price complement = 0.4735942960410922\n",
      "\n",
      "price: n = 352938, price complement: n = 526231\n",
      "\n"
     ]
    }
   ],
   "source": [
    "compare_complement(df_features,\"price\", metrics)"
   ]
  },
  {
   "cell_type": "code",
   "execution_count": 44,
   "metadata": {},
   "outputs": [
    {
     "name": "stdout",
     "output_type": "stream",
     "text": [
      "probability: is more positive when number is separated\n",
      "t-statistic = 31.687259302207142, p-value = 3.4455665496968163e-220\n",
      "mean number = 0.6918180229930755, mean number complement = 0.667933228930411\n",
      "\n",
      "prediction: is more positive when number is separated\n",
      "t-statistic = 34.512467214816645, p-value = 9.089051684139467e-261\n",
      "mean number = 0.5126035822739204, mean number complement = 0.474134487643079\n",
      "\n",
      "number: n = 310864, number complement: n = 568305\n",
      "\n"
     ]
    }
   ],
   "source": [
    "compare_complement(df_features,\"number\", metrics)"
   ]
  },
  {
   "cell_type": "code",
   "execution_count": 45,
   "metadata": {},
   "outputs": [
    {
     "name": "stdout",
     "output_type": "stream",
     "text": [
      "probability: is more negative when ball is separated\n",
      "t-statistic = -24.129089277910413, p-value = 1.0269669284418017e-113\n",
      "mean ball = 0.5281831120823093, mean ball complement = 0.6767303977001838\n",
      "\n",
      "prediction: is more negative when ball is separated\n",
      "t-statistic = -31.544043145711985, p-value = 4.7512446755260554e-179\n",
      "mean ball = 0.207492795389049, mean ball complement = 0.4884019487234448\n",
      "\n",
      "ball: n = 2082, ball complement: n = 877087\n",
      "\n"
     ]
    }
   ],
   "source": [
    "compare_complement(df_features,\"ball\", metrics)"
   ]
  },
  {
   "cell_type": "code",
   "execution_count": 46,
   "metadata": {},
   "outputs": [
    {
     "name": "stdout",
     "output_type": "stream",
     "text": [
      "probability: is more negative when pursuant is separated\n",
      "t-statistic = -51.91100973675548, p-value = 0.0\n",
      "mean pursuant = 0.6547523172118688, mean pursuant complement = 0.6926983665637906\n",
      "\n",
      "prediction: is more negative when pursuant is separated\n",
      "t-statistic = -45.05789183293862, p-value = 0.0\n",
      "mean pursuant = 0.4601294328913996, mean pursuant complement = 0.5085698661631987\n",
      "\n",
      "pursuant: n = 378111, pursuant complement: n = 501058\n",
      "\n"
     ]
    }
   ],
   "source": [
    "compare_complement(df_features,\"pursuant\", metrics)"
   ]
  },
  {
   "cell_type": "code",
   "execution_count": 47,
   "metadata": {},
   "outputs": [
    {
     "name": "stdout",
     "output_type": "stream",
     "text": [
      "probability: is more negative when 10b5-1 is separated\n",
      "t-statistic = -49.96149750663826, p-value = 0.0\n",
      "mean 10b5-1 = 0.6499232353645202, mean 10b5-1 complement = 0.6889097178520565\n",
      "\n",
      "prediction: is more negative when 10b5-1 is separated\n",
      "t-statistic = -39.484488883920775, p-value = 0.0\n",
      "mean 10b5-1 = 0.4572198001302268, mean 10b5-1 complement = 0.5021916407552989\n",
      "\n",
      "10b5-1: n = 282584, 10b5-1 complement: n = 596585\n",
      "\n"
     ]
    }
   ],
   "source": [
    "compare_complement(df_features, \"10b5-1\", metrics)"
   ]
  },
  {
   "cell_type": "code",
   "execution_count": 48,
   "metadata": {},
   "outputs": [
    {
     "name": "stdout",
     "output_type": "stream",
     "text": [
      "probability: is more negative when 16b-3 is separated\n",
      "t-statistic = -7.656129414831334, p-value = 1.9867601741354002e-14\n",
      "mean 16b-3 = 0.6587672442328695, mean 16b-3 complement = 0.676859396218307\n",
      "\n",
      "prediction: is more negative when 16b-3 is separated\n",
      "t-statistic = -0.8225050385864122, p-value = 0.41079747480128803\n",
      "mean 16b-3 = 0.48508325129478236, mean 16b-3 complement = 0.4878091530089763\n",
      "\n",
      "16b-3: n = 23363, 16b-3 complement: n = 855806\n",
      "\n"
     ]
    }
   ],
   "source": [
    "compare_complement(df_features, \"16b-3\", metrics)"
   ]
  },
  {
   "cell_type": "markdown",
   "metadata": {},
   "source": [
    "### Words like fee, lieu, charity, gift and force sale does not appear to have large significance, but now they will be checked for their significance when fitted in a log regression"
   ]
  },
  {
   "cell_type": "markdown",
   "metadata": {},
   "source": [
    "## Train test split on binary labels"
   ]
  },
  {
   "cell_type": "code",
   "execution_count": 49,
   "metadata": {},
   "outputs": [],
   "source": [
    "labels = [\"prediction\", \"probability\"]"
   ]
  },
  {
   "cell_type": "code",
   "execution_count": 50,
   "metadata": {},
   "outputs": [
    {
     "data": {
      "application/vnd.microsoft.datawrangler.viewer.v0+json": {
       "columns": [
        {
         "name": "index",
         "rawType": "int64",
         "type": "integer"
        },
        {
         "name": "force sale",
         "rawType": "int64",
         "type": "integer"
        },
        {
         "name": "gift",
         "rawType": "int64",
         "type": "integer"
        },
        {
         "name": "distribution",
         "rawType": "int64",
         "type": "integer"
        },
        {
         "name": "charity",
         "rawType": "int64",
         "type": "integer"
        },
        {
         "name": "price",
         "rawType": "int64",
         "type": "integer"
        },
        {
         "name": "number",
         "rawType": "int64",
         "type": "integer"
        },
        {
         "name": "ball",
         "rawType": "int64",
         "type": "integer"
        },
        {
         "name": "pursuant",
         "rawType": "int64",
         "type": "integer"
        },
        {
         "name": "probability",
         "rawType": "float64",
         "type": "float"
        },
        {
         "name": "prediction",
         "rawType": "int64",
         "type": "integer"
        },
        {
         "name": "10b5-1",
         "rawType": "int64",
         "type": "integer"
        },
        {
         "name": "16b-3",
         "rawType": "int64",
         "type": "integer"
        }
       ],
       "conversionMethod": "pd.DataFrame",
       "ref": "57a64b61-daa9-4cf2-886c-02e5d9190c01",
       "rows": [
        [
         "0",
         "0",
         "0",
         "0",
         "0",
         "0",
         "0",
         "0",
         "0",
         "1.0",
         "1",
         "0",
         "0"
        ],
        [
         "20",
         "0",
         "0",
         "0",
         "0",
         "0",
         "0",
         "0",
         "1",
         "0.8962697445155132",
         "1",
         "0",
         "0"
        ],
        [
         "22",
         "0",
         "0",
         "0",
         "0",
         "0",
         "0",
         "0",
         "0",
         "0.4579210832042034",
         "0",
         "0",
         "0"
        ],
        [
         "23",
         "0",
         "0",
         "0",
         "0",
         "0",
         "0",
         "0",
         "0",
         "0.09217604905814",
         "0",
         "0",
         "0"
        ],
        [
         "50",
         "0",
         "0",
         "0",
         "0",
         "0",
         "0",
         "0",
         "0",
         "0.0900525862146798",
         "0",
         "0",
         "0"
        ],
        [
         "400",
         "0",
         "0",
         "0",
         "0",
         "0",
         "0",
         "0",
         "2",
         "1.0",
         "1",
         "0",
         "0"
        ],
        [
         "401",
         "0",
         "0",
         "1",
         "0",
         "0",
         "0",
         "0",
         "0",
         "1.0",
         "1",
         "0",
         "0"
        ],
        [
         "402",
         "0",
         "0",
         "0",
         "0",
         "0",
         "0",
         "0",
         "1",
         "1.0",
         "1",
         "1",
         "0"
        ],
        [
         "403",
         "0",
         "0",
         "0",
         "0",
         "0",
         "0",
         "0",
         "1",
         "0.999999999999964",
         "1",
         "1",
         "0"
        ],
        [
         "404",
         "0",
         "0",
         "0",
         "0",
         "0",
         "0",
         "0",
         "1",
         "0.9999998408201",
         "1",
         "1",
         "0"
        ],
        [
         "405",
         "0",
         "0",
         "0",
         "0",
         "0",
         "0",
         "0",
         "1",
         "0.9999998408201",
         "1",
         "1",
         "0"
        ],
        [
         "406",
         "0",
         "0",
         "0",
         "0",
         "0",
         "0",
         "0",
         "1",
         "0.999999999999992",
         "1",
         "1",
         "0"
        ],
        [
         "408",
         "0",
         "0",
         "0",
         "0",
         "0",
         "0",
         "0",
         "1",
         "0.9999983915494854",
         "1",
         "1",
         "0"
        ],
        [
         "409",
         "0",
         "0",
         "0",
         "0",
         "0",
         "0",
         "0",
         "1",
         "0.9999983915494854",
         "1",
         "1",
         "0"
        ],
        [
         "411",
         "0",
         "0",
         "0",
         "0",
         "0",
         "0",
         "0",
         "1",
         "0.9999999675730904",
         "1",
         "1",
         "0"
        ],
        [
         "412",
         "0",
         "0",
         "0",
         "0",
         "0",
         "0",
         "0",
         "0",
         "0.999999999999972",
         "1",
         "0",
         "0"
        ],
        [
         "413",
         "0",
         "0",
         "0",
         "0",
         "0",
         "0",
         "0",
         "0",
         "0.0900525862146798",
         "0",
         "0",
         "0"
        ],
        [
         "414",
         "0",
         "0",
         "0",
         "0",
         "0",
         "0",
         "0",
         "0",
         "0.999999972668741",
         "1",
         "0",
         "0"
        ],
        [
         "419",
         "0",
         "0",
         "0",
         "0",
         "0",
         "0",
         "0",
         "0",
         "0.1395386526480649",
         "0",
         "0",
         "0"
        ],
        [
         "421",
         "0",
         "0",
         "0",
         "0",
         "0",
         "0",
         "0",
         "0",
         "0.0900525862146798",
         "0",
         "0",
         "0"
        ],
        [
         "422",
         "0",
         "0",
         "0",
         "0",
         "0",
         "0",
         "0",
         "0",
         "0.0900525862146798",
         "0",
         "0",
         "0"
        ],
        [
         "423",
         "0",
         "0",
         "0",
         "0",
         "0",
         "0",
         "0",
         "0",
         "0.0900525862146798",
         "0",
         "0",
         "0"
        ],
        [
         "424",
         "0",
         "0",
         "0",
         "0",
         "0",
         "0",
         "0",
         "0",
         "0.0900525862146798",
         "0",
         "0",
         "0"
        ],
        [
         "425",
         "0",
         "1",
         "0",
         "0",
         "0",
         "0",
         "0",
         "0",
         "0.9999999933636964",
         "1",
         "0",
         "0"
        ],
        [
         "426",
         "0",
         "1",
         "0",
         "0",
         "0",
         "0",
         "0",
         "0",
         "0.999999999999972",
         "1",
         "0",
         "0"
        ],
        [
         "428",
         "0",
         "0",
         "0",
         "0",
         "0",
         "0",
         "0",
         "0",
         "0.5180406154734094",
         "0",
         "0",
         "0"
        ],
        [
         "430",
         "0",
         "0",
         "0",
         "0",
         "0",
         "0",
         "0",
         "0",
         "0.5",
         "0",
         "0",
         "0"
        ],
        [
         "451",
         "0",
         "0",
         "0",
         "0",
         "0",
         "0",
         "0",
         "0",
         "0.816581489710622",
         "1",
         "0",
         "0"
        ],
        [
         "455",
         "0",
         "0",
         "0",
         "0",
         "0",
         "0",
         "0",
         "0",
         "0.5",
         "0",
         "0",
         "0"
        ],
        [
         "467",
         "0",
         "0",
         "0",
         "0",
         "0",
         "0",
         "0",
         "0",
         "0.5",
         "0",
         "0",
         "0"
        ],
        [
         "515",
         "0",
         "0",
         "0",
         "0",
         "0",
         "0",
         "0",
         "0",
         "0.5",
         "0",
         "0",
         "0"
        ],
        [
         "517",
         "0",
         "0",
         "0",
         "0",
         "0",
         "0",
         "0",
         "0",
         "0.5",
         "0",
         "0",
         "0"
        ],
        [
         "591",
         "0",
         "0",
         "0",
         "0",
         "0",
         "0",
         "0",
         "0",
         "0.5180406154734094",
         "0",
         "0",
         "0"
        ],
        [
         "617",
         "0",
         "0",
         "0",
         "0",
         "0",
         "0",
         "0",
         "0",
         "0.5180406154734094",
         "0",
         "0",
         "0"
        ],
        [
         "630",
         "0",
         "0",
         "0",
         "0",
         "0",
         "0",
         "0",
         "0",
         "0.0900525862146798",
         "0",
         "0",
         "0"
        ],
        [
         "642",
         "0",
         "0",
         "0",
         "0",
         "0",
         "0",
         "0",
         "0",
         "0.0900525862146798",
         "0",
         "0",
         "0"
        ],
        [
         "648",
         "0",
         "0",
         "0",
         "0",
         "0",
         "0",
         "0",
         "0",
         "0.3490579325720107",
         "0",
         "0",
         "0"
        ],
        [
         "661",
         "0",
         "0",
         "0",
         "0",
         "0",
         "0",
         "0",
         "0",
         "0.0900525862146798",
         "0",
         "0",
         "0"
        ],
        [
         "670",
         "0",
         "0",
         "0",
         "0",
         "0",
         "1",
         "0",
         "0",
         "0.0900525862146798",
         "0",
         "0",
         "0"
        ],
        [
         "671",
         "0",
         "0",
         "5",
         "0",
         "0",
         "0",
         "0",
         "2",
         "0.9614251409578234",
         "1",
         "0",
         "0"
        ],
        [
         "672",
         "0",
         "0",
         "0",
         "0",
         "1",
         "0",
         "0",
         "0",
         "0.5180406154734094",
         "0",
         "0",
         "0"
        ],
        [
         "673",
         "0",
         "0",
         "0",
         "0",
         "0",
         "0",
         "0",
         "0",
         "0.999999999999972",
         "1",
         "0",
         "0"
        ],
        [
         "674",
         "0",
         "0",
         "0",
         "0",
         "0",
         "0",
         "0",
         "0",
         "0.999999999999972",
         "1",
         "0",
         "0"
        ],
        [
         "688",
         "0",
         "0",
         "0",
         "0",
         "2",
         "0",
         "0",
         "0",
         "0.5180406154734094",
         "0",
         "0",
         "0"
        ],
        [
         "691",
         "0",
         "0",
         "0",
         "0",
         "1",
         "0",
         "0",
         "0",
         "0.5180406154734094",
         "0",
         "0",
         "0"
        ],
        [
         "693",
         "0",
         "0",
         "0",
         "0",
         "1",
         "0",
         "0",
         "0",
         "0.5180406154734094",
         "0",
         "0",
         "0"
        ],
        [
         "694",
         "0",
         "0",
         "0",
         "0",
         "1",
         "0",
         "0",
         "0",
         "0.5180406154734094",
         "0",
         "0",
         "0"
        ],
        [
         "698",
         "0",
         "1",
         "0",
         "0",
         "0",
         "0",
         "0",
         "0",
         "1.0",
         "1",
         "0",
         "0"
        ],
        [
         "699",
         "0",
         "1",
         "0",
         "0",
         "0",
         "0",
         "0",
         "0",
         "1.0",
         "1",
         "0",
         "0"
        ],
        [
         "700",
         "0",
         "1",
         "3",
         "0",
         "0",
         "0",
         "0",
         "1",
         "0.6532840857093438",
         "0",
         "0",
         "0"
        ]
       ],
       "shape": {
        "columns": 12,
        "rows": 879169
       }
      },
      "text/html": [
       "<div>\n",
       "<style scoped>\n",
       "    .dataframe tbody tr th:only-of-type {\n",
       "        vertical-align: middle;\n",
       "    }\n",
       "\n",
       "    .dataframe tbody tr th {\n",
       "        vertical-align: top;\n",
       "    }\n",
       "\n",
       "    .dataframe thead th {\n",
       "        text-align: right;\n",
       "    }\n",
       "</style>\n",
       "<table border=\"1\" class=\"dataframe\">\n",
       "  <thead>\n",
       "    <tr style=\"text-align: right;\">\n",
       "      <th></th>\n",
       "      <th>force sale</th>\n",
       "      <th>gift</th>\n",
       "      <th>distribution</th>\n",
       "      <th>charity</th>\n",
       "      <th>price</th>\n",
       "      <th>number</th>\n",
       "      <th>ball</th>\n",
       "      <th>pursuant</th>\n",
       "      <th>probability</th>\n",
       "      <th>prediction</th>\n",
       "      <th>10b5-1</th>\n",
       "      <th>16b-3</th>\n",
       "    </tr>\n",
       "  </thead>\n",
       "  <tbody>\n",
       "    <tr>\n",
       "      <th>0</th>\n",
       "      <td>0</td>\n",
       "      <td>0</td>\n",
       "      <td>0</td>\n",
       "      <td>0</td>\n",
       "      <td>0</td>\n",
       "      <td>0</td>\n",
       "      <td>0</td>\n",
       "      <td>0</td>\n",
       "      <td>1.000000</td>\n",
       "      <td>1</td>\n",
       "      <td>0</td>\n",
       "      <td>0</td>\n",
       "    </tr>\n",
       "    <tr>\n",
       "      <th>20</th>\n",
       "      <td>0</td>\n",
       "      <td>0</td>\n",
       "      <td>0</td>\n",
       "      <td>0</td>\n",
       "      <td>0</td>\n",
       "      <td>0</td>\n",
       "      <td>0</td>\n",
       "      <td>1</td>\n",
       "      <td>0.896270</td>\n",
       "      <td>1</td>\n",
       "      <td>0</td>\n",
       "      <td>0</td>\n",
       "    </tr>\n",
       "    <tr>\n",
       "      <th>22</th>\n",
       "      <td>0</td>\n",
       "      <td>0</td>\n",
       "      <td>0</td>\n",
       "      <td>0</td>\n",
       "      <td>0</td>\n",
       "      <td>0</td>\n",
       "      <td>0</td>\n",
       "      <td>0</td>\n",
       "      <td>0.457921</td>\n",
       "      <td>0</td>\n",
       "      <td>0</td>\n",
       "      <td>0</td>\n",
       "    </tr>\n",
       "    <tr>\n",
       "      <th>23</th>\n",
       "      <td>0</td>\n",
       "      <td>0</td>\n",
       "      <td>0</td>\n",
       "      <td>0</td>\n",
       "      <td>0</td>\n",
       "      <td>0</td>\n",
       "      <td>0</td>\n",
       "      <td>0</td>\n",
       "      <td>0.092176</td>\n",
       "      <td>0</td>\n",
       "      <td>0</td>\n",
       "      <td>0</td>\n",
       "    </tr>\n",
       "    <tr>\n",
       "      <th>50</th>\n",
       "      <td>0</td>\n",
       "      <td>0</td>\n",
       "      <td>0</td>\n",
       "      <td>0</td>\n",
       "      <td>0</td>\n",
       "      <td>0</td>\n",
       "      <td>0</td>\n",
       "      <td>0</td>\n",
       "      <td>0.090053</td>\n",
       "      <td>0</td>\n",
       "      <td>0</td>\n",
       "      <td>0</td>\n",
       "    </tr>\n",
       "    <tr>\n",
       "      <th>...</th>\n",
       "      <td>...</td>\n",
       "      <td>...</td>\n",
       "      <td>...</td>\n",
       "      <td>...</td>\n",
       "      <td>...</td>\n",
       "      <td>...</td>\n",
       "      <td>...</td>\n",
       "      <td>...</td>\n",
       "      <td>...</td>\n",
       "      <td>...</td>\n",
       "      <td>...</td>\n",
       "      <td>...</td>\n",
       "    </tr>\n",
       "    <tr>\n",
       "      <th>3170995</th>\n",
       "      <td>0</td>\n",
       "      <td>0</td>\n",
       "      <td>0</td>\n",
       "      <td>0</td>\n",
       "      <td>3</td>\n",
       "      <td>1</td>\n",
       "      <td>0</td>\n",
       "      <td>0</td>\n",
       "      <td>0.983276</td>\n",
       "      <td>1</td>\n",
       "      <td>0</td>\n",
       "      <td>0</td>\n",
       "    </tr>\n",
       "    <tr>\n",
       "      <th>3170996</th>\n",
       "      <td>0</td>\n",
       "      <td>0</td>\n",
       "      <td>0</td>\n",
       "      <td>0</td>\n",
       "      <td>0</td>\n",
       "      <td>0</td>\n",
       "      <td>0</td>\n",
       "      <td>1</td>\n",
       "      <td>0.854588</td>\n",
       "      <td>1</td>\n",
       "      <td>0</td>\n",
       "      <td>0</td>\n",
       "    </tr>\n",
       "    <tr>\n",
       "      <th>3170997</th>\n",
       "      <td>0</td>\n",
       "      <td>0</td>\n",
       "      <td>0</td>\n",
       "      <td>0</td>\n",
       "      <td>0</td>\n",
       "      <td>0</td>\n",
       "      <td>0</td>\n",
       "      <td>0</td>\n",
       "      <td>0.524360</td>\n",
       "      <td>0</td>\n",
       "      <td>0</td>\n",
       "      <td>0</td>\n",
       "    </tr>\n",
       "    <tr>\n",
       "      <th>3170998</th>\n",
       "      <td>0</td>\n",
       "      <td>0</td>\n",
       "      <td>0</td>\n",
       "      <td>0</td>\n",
       "      <td>0</td>\n",
       "      <td>0</td>\n",
       "      <td>0</td>\n",
       "      <td>1</td>\n",
       "      <td>0.786723</td>\n",
       "      <td>0</td>\n",
       "      <td>0</td>\n",
       "      <td>0</td>\n",
       "    </tr>\n",
       "    <tr>\n",
       "      <th>3171000</th>\n",
       "      <td>0</td>\n",
       "      <td>0</td>\n",
       "      <td>2</td>\n",
       "      <td>0</td>\n",
       "      <td>0</td>\n",
       "      <td>0</td>\n",
       "      <td>0</td>\n",
       "      <td>0</td>\n",
       "      <td>1.000000</td>\n",
       "      <td>1</td>\n",
       "      <td>0</td>\n",
       "      <td>0</td>\n",
       "    </tr>\n",
       "  </tbody>\n",
       "</table>\n",
       "<p>879169 rows × 12 columns</p>\n",
       "</div>"
      ],
      "text/plain": [
       "         force sale  gift  distribution  charity  price  number  ball  \\\n",
       "0                 0     0             0        0      0       0     0   \n",
       "20                0     0             0        0      0       0     0   \n",
       "22                0     0             0        0      0       0     0   \n",
       "23                0     0             0        0      0       0     0   \n",
       "50                0     0             0        0      0       0     0   \n",
       "...             ...   ...           ...      ...    ...     ...   ...   \n",
       "3170995           0     0             0        0      3       1     0   \n",
       "3170996           0     0             0        0      0       0     0   \n",
       "3170997           0     0             0        0      0       0     0   \n",
       "3170998           0     0             0        0      0       0     0   \n",
       "3171000           0     0             2        0      0       0     0   \n",
       "\n",
       "         pursuant  probability  prediction  10b5-1  16b-3  \n",
       "0               0     1.000000           1       0      0  \n",
       "20              1     0.896270           1       0      0  \n",
       "22              0     0.457921           0       0      0  \n",
       "23              0     0.092176           0       0      0  \n",
       "50              0     0.090053           0       0      0  \n",
       "...           ...          ...         ...     ...    ...  \n",
       "3170995         0     0.983276           1       0      0  \n",
       "3170996         1     0.854588           1       0      0  \n",
       "3170997         0     0.524360           0       0      0  \n",
       "3170998         1     0.786723           0       0      0  \n",
       "3171000         0     1.000000           1       0      0  \n",
       "\n",
       "[879169 rows x 12 columns]"
      ]
     },
     "execution_count": 50,
     "metadata": {},
     "output_type": "execute_result"
    }
   ],
   "source": [
    "df_features"
   ]
  },
  {
   "cell_type": "code",
   "execution_count": 51,
   "metadata": {},
   "outputs": [
    {
     "name": "stdout",
     "output_type": "stream",
     "text": [
      "train size x: (703335, 10)\n",
      "train size y: (703335,)\n",
      "test size x: (175834, 10)\n",
      "test size y: (175834,)\n"
     ]
    }
   ],
   "source": [
    "df_log = df_features.copy()\n",
    "df_log = df_log.dropna(subset=labels)\n",
    "X, y = df_log.drop(columns=labels), df_log[labels[1]]\n",
    "train_x, test_x, train_y, test_y = train_test_split(X, y, test_size=0.2, random_state=123)\n",
    "print(f\"train size x: {train_x.shape}\\ntrain size y: {train_y.shape}\\ntest size x: {test_x.shape}\\ntest size y: {test_y.shape}\")"
   ]
  },
  {
   "cell_type": "markdown",
   "metadata": {},
   "source": [
    "## Fit log regression on labels"
   ]
  },
  {
   "cell_type": "markdown",
   "metadata": {},
   "source": [
    "#[\"price\", \"number\", \"ball\", \"pursuant"
   ]
  },
  {
   "cell_type": "code",
   "execution_count": 52,
   "metadata": {},
   "outputs": [],
   "source": [
    "def find_significance(data, columns, label):\n",
    "    data = data.dropna(subset=[label])\n",
    "    X = data[columns]\n",
    "    y = data[label]\n",
    "    train_x, test_x, train_y, test_y = train_test_split(X, y, test_size=0.2, random_state=123)\n",
    "    \n",
    "    X_with_const = sm.add_constant(train_x)\n",
    "    model = sm.Logit(train_y, X_with_const).fit()\n",
    "\n",
    "    print(model.summary())"
   ]
  },
  {
   "cell_type": "code",
   "execution_count": 58,
   "metadata": {},
   "outputs": [
    {
     "name": "stdout",
     "output_type": "stream",
     "text": [
      "Optimization terminated successfully.\n",
      "         Current function value: 0.600291\n",
      "         Iterations 5\n",
      "                           Logit Regression Results                           \n",
      "==============================================================================\n",
      "Dep. Variable:            probability   No. Observations:               703335\n",
      "Model:                          Logit   Df Residuals:                   703324\n",
      "Method:                           MLE   Df Model:                           10\n",
      "Date:                Thu, 03 Apr 2025   Pseudo R-squ.:                -0.03570\n",
      "Time:                        13:38:21   Log-Likelihood:            -4.2221e+05\n",
      "converged:                       True   LL-Null:                   -4.0765e+05\n",
      "Covariance Type:            nonrobust   LLR p-value:                     1.000\n",
      "================================================================================\n",
      "                   coef    std err          z      P>|z|      [0.025      0.975]\n",
      "--------------------------------------------------------------------------------\n",
      "const            0.7950      0.003    238.176      0.000       0.788       0.802\n",
      "force sale       0.5847      0.716      0.817      0.414      -0.818       1.987\n",
      "gift             0.2543      0.013     19.043      0.000       0.228       0.281\n",
      "distribution     0.0144      0.006      2.259      0.024       0.002       0.027\n",
      "charity          0.3206      0.087      3.706      0.000       0.151       0.490\n",
      "price           -0.0113      0.001    -13.987      0.000      -0.013      -0.010\n",
      "number           0.0183      0.003      6.128      0.000       0.012       0.024\n",
      "ball            -0.1728      0.015    -11.339      0.000      -0.203      -0.143\n",
      "pursuant        -0.0289      0.004     -8.114      0.000      -0.036      -0.022\n",
      "10b5-1          -0.0913      0.005    -17.640      0.000      -0.101      -0.081\n",
      "16b-3           -0.0254      0.010     -2.448      0.014      -0.046      -0.005\n",
      "================================================================================\n"
     ]
    }
   ],
   "source": [
    "variables = [\"force sale\", \"gift\", \"distribution\", \"charity\", \"price\", \"number\", \"ball\", \"pursuant\", \"10b5-1\", \"16b-3\"]\n",
    "label = \"probability\"\n",
    "find_significance(df_features, variables, label)"
   ]
  },
  {
   "cell_type": "code",
   "execution_count": 59,
   "metadata": {},
   "outputs": [
    {
     "name": "stdout",
     "output_type": "stream",
     "text": [
      "Optimization terminated successfully.\n",
      "         Current function value: 0.600292\n",
      "         Iterations 5\n",
      "                           Logit Regression Results                           \n",
      "==============================================================================\n",
      "Dep. Variable:            probability   No. Observations:               703335\n",
      "Model:                          Logit   Df Residuals:                   703325\n",
      "Method:                           MLE   Df Model:                            9\n",
      "Date:                Thu, 03 Apr 2025   Pseudo R-squ.:                -0.03570\n",
      "Time:                        13:38:27   Log-Likelihood:            -4.2221e+05\n",
      "converged:                       True   LL-Null:                   -4.0765e+05\n",
      "Covariance Type:            nonrobust   LLR p-value:                     1.000\n",
      "================================================================================\n",
      "                   coef    std err          z      P>|z|      [0.025      0.975]\n",
      "--------------------------------------------------------------------------------\n",
      "const            0.7950      0.003    238.181      0.000       0.788       0.802\n",
      "gift             0.2543      0.013     19.042      0.000       0.228       0.281\n",
      "distribution     0.0144      0.006      2.258      0.024       0.002       0.027\n",
      "charity          0.3206      0.087      3.706      0.000       0.151       0.490\n",
      "price           -0.0113      0.001    -13.987      0.000      -0.013      -0.010\n",
      "number           0.0183      0.003      6.128      0.000       0.012       0.024\n",
      "ball            -0.1728      0.015    -11.340      0.000      -0.203      -0.143\n",
      "pursuant        -0.0289      0.004     -8.114      0.000      -0.036      -0.022\n",
      "10b5-1          -0.0913      0.005    -17.642      0.000      -0.101      -0.081\n",
      "16b-3           -0.0254      0.010     -2.449      0.014      -0.046      -0.005\n",
      "================================================================================\n"
     ]
    }
   ],
   "source": [
    "## Remove force sale\n",
    "variables.remove(\"force sale\")\n",
    "label = \"probability\"\n",
    "find_significance(df_features, variables, label)"
   ]
  },
  {
   "cell_type": "markdown",
   "metadata": {},
   "source": [
    "### Hence as above, we have removed the words highlighted and are left with the below key words"
   ]
  },
  {
   "cell_type": "code",
   "execution_count": 62,
   "metadata": {},
   "outputs": [
    {
     "name": "stdout",
     "output_type": "stream",
     "text": [
      "['gift', 'distribution', 'charity', 'price', 'number', 'ball', 'pursuant', '10b5-1', '16b-3']\n"
     ]
    }
   ],
   "source": [
    "print(variables)"
   ]
  },
  {
   "cell_type": "code",
   "execution_count": 63,
   "metadata": {},
   "outputs": [
    {
     "data": {
      "image/png": "[encoded data removed]",
      "text/plain": [
       "<Figure size 800x600 with 2 Axes>"
      ]
     },
     "metadata": {},
     "output_type": "display_data"
    }
   ],
   "source": [
    "label = \"probability\"\n",
    "\n",
    "corr_feature = df_features[variables + [label]]\n",
    "\n",
    "corr = corr_feature.corr(method=\"pearson\")\n",
    "plt.figure(figsize=(8, 6))\n",
    "sns.heatmap(corr, annot=True, cmap=\"coolwarm\", fmt=\".2f\", linewidths=0.5)\n",
    "plt.title(\"Feature-Label Correlation Heatmap\")\n",
    "plt.show()"
   ]
  },
  {
   "cell_type": "markdown",
   "metadata": {},
   "source": [
    "### Price and Numbers are correlated but we'll leave it in to see how it performs in the model"
   ]
  }
 ],
 "metadata": {
  "kernelspec": {
   "display_name": "Python 3",
   "language": "python",
   "name": "python3"
  },
  "language_info": {
   "codemirror_mode": {
    "name": "ipython",
    "version": 3
   },
   "file_extension": ".py",
   "mimetype": "text/x-python",
   "name": "python",
   "nbconvert_exporter": "python",
   "pygments_lexer": "ipython3",
   "version": "3.11.3"
  }
 },
 "nbformat": 4,
 "nbformat_minor": 2
}
