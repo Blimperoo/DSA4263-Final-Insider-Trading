{
 "cells": [
  {
   "cell_type": "markdown",
   "metadata": {},
   "source": [
    "## We now attempt to find out if the way a SEC filing is done has an effect on the returns"
   ]
  },
  {
   "cell_type": "code",
   "execution_count": null,
   "metadata": {},
   "outputs": [],
   "source": [
    "import pandas as pd\n",
    "import numpy as np\n",
    "\n",
    "import matplotlib.pyplot as plt\n",
    "import seaborn as sns\n",
    "import re\n",
    "\n",
    "import statsmodels.api as sm\n",
    "\n",
    "from sklearn.model_selection import train_test_split\n",
    "from sklearn.feature_extraction.text import TfidfVectorizer\n",
    "\n",
    "import nltk\n",
    "from nltk.corpus import stopwords\n",
    "from nltk.tokenize import word_tokenize\n",
    "from nltk.stem import WordNetLemmatizer\n",
    "\n",
    "import scipy.stats as stats\n",
    "\n",
    "# Remove warnings to keep outputs clean\n",
    "import warnings\n",
    "warnings.filterwarnings(\"ignore\")\n",
    "\n",
    "PROCESSED_DATA_FOLDER = \"../../data_untracked/processed\"\n",
    "ABNORMAL_CSV = \"snorkel_labels.csv\""
   ]
  },
  {
   "cell_type": "markdown",
   "metadata": {},
   "source": [
    "## Load required datasets\n",
    "1. `df_result_with_anomaly_scores_sig.csv`: Transactions with their Cumulative Abnormal Returns (CAR)\n",
    "2. `FOOTNOTES.csv`: Each transactions with their individual filing comments"
   ]
  },
  {
   "cell_type": "code",
   "execution_count": 2,
   "metadata": {},
   "outputs": [
    {
     "name": "stdout",
     "output_type": "stream",
     "text": [
      "Loading data\n"
     ]
    }
   ],
   "source": [
    "abnormal_transactions = pd.read_csv(f'{PROCESSED_DATA_FOLDER}/{ABNORMAL_CSV}')[[\"ACCESSION_NUMBER\", \"TRANS_CODE\", \"TRANS_ACQUIRED_DISP_CD\", \"snorkel_prob\", \"snorkel_pred\"]]\n",
    "abnormal_transactions = abnormal_transactions.rename(columns={\"snorkel_prob\" : \"probability\",\n",
    "                                                               \"snorkel_pred\" : \"prediction\"})\n",
    "print(\"Loading data\")"
   ]
  },
  {
   "cell_type": "markdown",
   "metadata": {},
   "source": [
    "___\n",
    "## Feature extraction and engineering\n",
    "___"
   ]
  },
  {
   "cell_type": "code",
   "execution_count": 3,
   "metadata": {},
   "outputs": [
    {
     "data": {
      "application/vnd.microsoft.datawrangler.viewer.v0+json": {
       "columns": [
        {
         "name": "index",
         "rawType": "int64",
         "type": "integer"
        },
        {
         "name": "ACCESSION_NUMBER",
         "rawType": "object",
         "type": "string"
        },
        {
         "name": "TRANS_CODE",
         "rawType": "object",
         "type": "string"
        },
        {
         "name": "TRANS_ACQUIRED_DISP_CD",
         "rawType": "object",
         "type": "string"
        },
        {
         "name": "probability",
         "rawType": "float64",
         "type": "float"
        },
        {
         "name": "prediction",
         "rawType": "int64",
         "type": "integer"
        }
       ],
       "conversionMethod": "pd.DataFrame",
       "ref": "1999f8ee-7e92-40e6-934d-75497c552ef6",
       "rows": [
        [
         "0",
         "0001181431-13-025899",
         "S",
         "D",
         "0.89330240677326",
         "1"
        ],
        [
         "1",
         "0001181431-13-025899",
         "S",
         "D",
         "0.89330240677326",
         "1"
        ],
        [
         "2",
         "0000919574-19-000485",
         "P",
         "A",
         "0.4785670472260569",
         "0"
        ],
        [
         "3",
         "0000919574-19-000485",
         "P",
         "A",
         "0.4785670472260569",
         "0"
        ],
        [
         "4",
         "0000919574-19-000485",
         "P",
         "A",
         "0.4785670472260569",
         "0"
        ]
       ],
       "shape": {
        "columns": 5,
        "rows": 5
       }
      },
      "text/html": [
       "<div>\n",
       "<style scoped>\n",
       "    .dataframe tbody tr th:only-of-type {\n",
       "        vertical-align: middle;\n",
       "    }\n",
       "\n",
       "    .dataframe tbody tr th {\n",
       "        vertical-align: top;\n",
       "    }\n",
       "\n",
       "    .dataframe thead th {\n",
       "        text-align: right;\n",
       "    }\n",
       "</style>\n",
       "<table border=\"1\" class=\"dataframe\">\n",
       "  <thead>\n",
       "    <tr style=\"text-align: right;\">\n",
       "      <th></th>\n",
       "      <th>ACCESSION_NUMBER</th>\n",
       "      <th>TRANS_CODE</th>\n",
       "      <th>TRANS_ACQUIRED_DISP_CD</th>\n",
       "      <th>probability</th>\n",
       "      <th>prediction</th>\n",
       "    </tr>\n",
       "  </thead>\n",
       "  <tbody>\n",
       "    <tr>\n",
       "      <th>0</th>\n",
       "      <td>0001181431-13-025899</td>\n",
       "      <td>S</td>\n",
       "      <td>D</td>\n",
       "      <td>0.893302</td>\n",
       "      <td>1</td>\n",
       "    </tr>\n",
       "    <tr>\n",
       "      <th>1</th>\n",
       "      <td>0001181431-13-025899</td>\n",
       "      <td>S</td>\n",
       "      <td>D</td>\n",
       "      <td>0.893302</td>\n",
       "      <td>1</td>\n",
       "    </tr>\n",
       "    <tr>\n",
       "      <th>2</th>\n",
       "      <td>0000919574-19-000485</td>\n",
       "      <td>P</td>\n",
       "      <td>A</td>\n",
       "      <td>0.478567</td>\n",
       "      <td>0</td>\n",
       "    </tr>\n",
       "    <tr>\n",
       "      <th>3</th>\n",
       "      <td>0000919574-19-000485</td>\n",
       "      <td>P</td>\n",
       "      <td>A</td>\n",
       "      <td>0.478567</td>\n",
       "      <td>0</td>\n",
       "    </tr>\n",
       "    <tr>\n",
       "      <th>4</th>\n",
       "      <td>0000919574-19-000485</td>\n",
       "      <td>P</td>\n",
       "      <td>A</td>\n",
       "      <td>0.478567</td>\n",
       "      <td>0</td>\n",
       "    </tr>\n",
       "  </tbody>\n",
       "</table>\n",
       "</div>"
      ],
      "text/plain": [
       "       ACCESSION_NUMBER TRANS_CODE TRANS_ACQUIRED_DISP_CD  probability  \\\n",
       "0  0001181431-13-025899          S                      D     0.893302   \n",
       "1  0001181431-13-025899          S                      D     0.893302   \n",
       "2  0000919574-19-000485          P                      A     0.478567   \n",
       "3  0000919574-19-000485          P                      A     0.478567   \n",
       "4  0000919574-19-000485          P                      A     0.478567   \n",
       "\n",
       "   prediction  \n",
       "0           1  \n",
       "1           1  \n",
       "2           0  \n",
       "3           0  \n",
       "4           0  "
      ]
     },
     "execution_count": 3,
     "metadata": {},
     "output_type": "execute_result"
    }
   ],
   "source": [
    "abnormal_transactions.head()"
   ]
  },
  {
   "cell_type": "code",
   "execution_count": 4,
   "metadata": {},
   "outputs": [
    {
     "data": {
      "text/plain": [
       "778559"
      ]
     },
     "execution_count": 4,
     "metadata": {},
     "output_type": "execute_result"
    }
   ],
   "source": [
    "abnormal_transactions[\"TRANS_ACQUIRED_DISP_CD\"].count()"
   ]
  },
  {
   "cell_type": "code",
   "execution_count": 5,
   "metadata": {},
   "outputs": [
    {
     "data": {
      "text/plain": [
       "(303022, 5)"
      ]
     },
     "execution_count": 5,
     "metadata": {},
     "output_type": "execute_result"
    }
   ],
   "source": [
    "abnormal_transactions = abnormal_transactions.drop_duplicates(subset=[\"ACCESSION_NUMBER\", \"TRANS_ACQUIRED_DISP_CD\", \"TRANS_CODE\", \"probability\"])\n",
    "abnormal_transactions.shape"
   ]
  },
  {
   "cell_type": "code",
   "execution_count": null,
   "metadata": {},
   "outputs": [],
   "source": [
    "df_features = abnormal_transactions.copy()\n",
    "\n",
    "## Create a binary variable to extract Transcode = J\n",
    "df_features[\"j_bin\"] = np.where(df_features[\"TRANS_CODE\"].str.upper() == \"J\", 1, 0)\n",
    "\n",
    "##############################\n",
    "# Sell\n",
    "##############################\n",
    "\n",
    "## Create a binary variable to extract Transcode = J and Trans Acquired = D which means J code and sell\n",
    "df_features[\"js_bin\"] = np.where((df_features[\"TRANS_ACQUIRED_DISP_CD\"].str.upper() == \"D\") & (df_features[\"TRANS_CODE\"].str.upper() == \"J\"), 1, 0)\n",
    "\n",
    "## Create a binary variable to extract Transcode Not J or S but Trans Acquired = D which is sell but non S or J coded\n",
    "df_features[\"os_bin\"] = np.where((~df_features[\"TRANS_CODE\"].str.upper().isin([\"S\", \"J\"])) & (df_features[\"TRANS_ACQUIRED_DISP_CD\"].str.upper() == \"D\"), 1, 0)\n",
    "\n",
    "## Create a binary variable to extract Transcode = S which is sell and Acquired disp cd = D (Regular Sell)\n",
    "df_features[\"s_bin\"] = np.where((df_features[\"TRANS_CODE\"].str.upper() == \"S\") & (df_features[\"TRANS_ACQUIRED_DISP_CD\"].str.upper() == \"D\" ), 1, 0)\n",
    "\n",
    "##############################\n",
    "# Buy\n",
    "##############################\n",
    "\n",
    "## Create a binary variable to extract Transcode = P which is Buy and Acquired disp cd = A (Regular Sell)\n",
    "df_features[\"b_bin\"] = np.where((df_features[\"TRANS_CODE\"].str.upper() == \"P\") & (df_features[\"TRANS_ACQUIRED_DISP_CD\"].str.upper() == \"A\"), 1, 0)\n",
    "\n",
    "## Create a binary variable to extract Transcode = J and Trans Acquired = A which means J code and buy\n",
    "df_features[\"jb_bin\"] = np.where((df_features[\"TRANS_ACQUIRED_DISP_CD\"].str.upper() == \"A\") & (df_features[\"TRANS_CODE\"].str.upper() == \"J\"), 1, 0)\n",
    "\n",
    "## Create a binary variable to extract Transcode Not J or P but Trans Acquired = A which is buy but non P or J coded\n",
    "df_features[\"ob_bin\"] = np.where((~df_features[\"TRANS_CODE\"].str.upper().isin([\"P\", \"J\"])) & (df_features[\"TRANS_ACQUIRED_DISP_CD\"].str.upper() == \"A\"), 1, 0)\n",
    "\n",
    "##############################\n",
    "# GIFTS\n",
    "##############################\n",
    "\n",
    "## Create a binary variable to extract if Transcode = G which is a gift or not\n",
    "df_features[\"g_bin\"] = np.where(df_features[\"TRANS_CODE\"].str.upper() == \"G\", 1, 0)\n",
    "\n"
   ]
  },
  {
   "cell_type": "code",
   "execution_count": 8,
   "metadata": {},
   "outputs": [
    {
     "name": "stdout",
     "output_type": "stream",
     "text": [
      "rows with binary j: 26625\n",
      "rows with binary j and sell: 6351 \t rows with regular sell: 174248 \t rows with non-regular sell: 19349\n",
      "rows with binary j and buy: 20274 \t rows with regular buy: 75816 \t\t rows with non-regular buy: 6984\n"
     ]
    }
   ],
   "source": [
    "print(f'rows with binary j: {sum(df_features[\"j_bin\"])}')\n",
    "print(f'rows with binary j and sell: {sum(df_features[\"js_bin\"])} \\t rows with regular sell: {sum(df_features[\"s_bin\"])} \\t rows with non-regular sell: {sum(df_features[\"os_bin\"])}')\n",
    "print(f'rows with binary j and buy: {sum(df_features[\"jb_bin\"])} \\t rows with regular buy: {sum(df_features[\"b_bin\"])} \\t\\t rows with non-regular buy: {sum(df_features[\"ob_bin\"])}')\n"
   ]
  },
  {
   "cell_type": "code",
   "execution_count": 9,
   "metadata": {},
   "outputs": [
    {
     "name": "stdout",
     "output_type": "stream",
     "text": [
      "All cases accounted for: True\n"
     ]
    }
   ],
   "source": [
    "total_sell = sum(df_features[\"js_bin\"]) + sum(df_features[\"s_bin\"]) + sum(df_features[\"os_bin\"])\n",
    "total_buy = sum(df_features[\"jb_bin\"]) + sum(df_features[\"b_bin\"]) + sum(df_features[\"ob_bin\"])\n",
    "print(f\"All cases accounted for: {len(df_features) == total_sell + total_buy}\")"
   ]
  },
  {
   "cell_type": "markdown",
   "metadata": {},
   "source": [
    "___\n",
    "## Comparison\n",
    "___"
   ]
  },
  {
   "cell_type": "code",
   "execution_count": 10,
   "metadata": {},
   "outputs": [],
   "source": [
    "metrics = [\n",
    "    \"probability\", \"prediction\"\n",
    "]"
   ]
  },
  {
   "cell_type": "code",
   "execution_count": 11,
   "metadata": {},
   "outputs": [],
   "source": [
    "##################################\n",
    "# Define functions\n",
    "##################################\n",
    "\n",
    "def compare_complement(df, col, metrics):\n",
    "    split_1 = df[df[col] == 1]\n",
    "    split_2 = df[df[col] != 1]\n",
    "    \n",
    "    for metric in metrics:\n",
    "        A = split_1[metric].dropna()\n",
    "        \n",
    "        # print(A)\n",
    "        B = split_2[metric].dropna()\n",
    "        t_stat, p_val = stats.ttest_ind(A, B, equal_var=False)\n",
    "        sign = \"negative\" if t_stat < 0 else \"positive\"\n",
    "        print(f\"{metric}: is more {sign} when {col} is separated\\n\" \n",
    "              f\"t-statistic = {t_stat}, p-value = {p_val}\\n\"\n",
    "              f\"mean {col} = {np.mean(A)}, mean {col} complement = {np.mean(B)}\\n\")\n",
    "        \n",
    "    print(f\"{col}: n = {len(A)}, {col} complement: n = {len(B)}\")\n",
    "\n",
    "def compare_columns(df, col1, col2, metrics):\n",
    "    split_1 = df[df[col1] == 1]\n",
    "    split_2 = df[df[col2] == 1]\n",
    "    \n",
    "    for metric in metrics:\n",
    "        A = split_1[metric].dropna()\n",
    "        \n",
    "        # print(A)\n",
    "        B = split_2[metric].dropna()\n",
    "        t_stat, p_val = stats.ttest_ind(A, B, equal_var=False)\n",
    "        sign = \"negative\" if t_stat < 0 else \"positive\"\n",
    "        print(f\"{metric}: is more {sign} when {col1} compared to {col2}\\n\" \n",
    "              f\"t-statistic = {t_stat}, p-value = {p_val}\\n\"\n",
    "              f\"mean {col1} = {np.mean(A)}, mean {col2} = {np.mean(B)}\\n\")\n",
    "    print(f\"{col1}: n = {len(A)}, {col2} : n = {len(B)}\")\n",
    "    "
   ]
  },
  {
   "cell_type": "code",
   "execution_count": 12,
   "metadata": {},
   "outputs": [
    {
     "name": "stdout",
     "output_type": "stream",
     "text": [
      "probability: is more positive when g_bin is separated\n",
      "t-statistic = 0.6345651762252942, p-value = 0.5257173825310373\n",
      "mean g_bin = 0.6825586404670287, mean g_bin complement = 0.6812608081126483\n",
      "\n",
      "prediction: is more negative when g_bin is separated\n",
      "t-statistic = -13.754357580665044, p-value = 6.686662022565852e-43\n",
      "mean g_bin = 0.6330113758317235, mean g_bin complement = 0.6781147332935327\n",
      "\n",
      "g_bin: n = 23295, g_bin complement: n = 279727\n"
     ]
    }
   ],
   "source": [
    "## The inclusion of g code not significant in the probability continous labels\n",
    "compare_complement(df_features, \"g_bin\", metrics)"
   ]
  },
  {
   "cell_type": "code",
   "execution_count": 13,
   "metadata": {},
   "outputs": [
    {
     "name": "stdout",
     "output_type": "stream",
     "text": [
      "probability: is more negative when j_bin is separated\n",
      "t-statistic = -10.67447297676976, p-value = 1.4866293162409455e-26\n",
      "mean j_bin = 0.6625547709204656, mean j_bin complement = 0.6831721213502635\n",
      "\n",
      "prediction: is more negative when j_bin is separated\n",
      "t-statistic = -8.341989886951733, p-value = 7.596672328888844e-17\n",
      "mean j_bin = 0.6514178403755868, mean j_bin complement = 0.6768850602575281\n",
      "\n",
      "j_bin: n = 26625, j_bin complement: n = 276397\n"
     ]
    }
   ],
   "source": [
    "## The inclusion of j code is significant to the anomaly level at 0.05 level however, we can split it further in sells and buys\n",
    "compare_complement(df_features, \"j_bin\", metrics)"
   ]
  },
  {
   "cell_type": "markdown",
   "metadata": {},
   "source": [
    "## Compare sells"
   ]
  },
  {
   "cell_type": "code",
   "execution_count": 14,
   "metadata": {},
   "outputs": [
    {
     "name": "stdout",
     "output_type": "stream",
     "text": [
      "probability: is more negative when s_bin compared to os_bin\n",
      "t-statistic = -5.2068012332478055, p-value = 1.9369129311362255e-07\n",
      "mean s_bin = 0.6802270465914754, mean os_bin = 0.6920512866369943\n",
      "\n",
      "prediction: is more positive when s_bin compared to os_bin\n",
      "t-statistic = 5.661985030827769, p-value = 1.5136100778859424e-08\n",
      "mean s_bin = 0.6670779578531748, mean os_bin = 0.6465967233448757\n",
      "\n",
      "s_bin: n = 174248, os_bin : n = 19349\n"
     ]
    }
   ],
   "source": [
    "##################################\n",
    "# Compare Regular Sell to other-coded Sell\n",
    "##################################\n",
    "\n",
    "compare_columns(df_features, \"s_bin\", \"os_bin\", metrics)"
   ]
  },
  {
   "cell_type": "code",
   "execution_count": 15,
   "metadata": {},
   "outputs": [
    {
     "name": "stdout",
     "output_type": "stream",
     "text": [
      "probability: is more negative when s_bin compared to js_bin\n",
      "t-statistic = -13.881918903363424, p-value = 3.098617733951999e-43\n",
      "mean s_bin = 0.6802270465914754, mean js_bin = 0.7314958979945633\n",
      "\n",
      "prediction: is more negative when s_bin compared to js_bin\n",
      "t-statistic = -11.27001832171322, p-value = 3.3220686525878386e-29\n",
      "mean s_bin = 0.6670779578531748, mean js_bin = 0.7310659738623839\n",
      "\n",
      "s_bin: n = 174248, js_bin : n = 6351\n"
     ]
    }
   ],
   "source": [
    "##################################\n",
    "# Compare Regular Sell to J-coded Sell\n",
    "##################################\n",
    "\n",
    "compare_columns(df_features, \"s_bin\", \"js_bin\", metrics)"
   ]
  },
  {
   "cell_type": "markdown",
   "metadata": {},
   "source": [
    "### J-Coded sells does not have significance compared to Other-Coded sells"
   ]
  },
  {
   "cell_type": "code",
   "execution_count": 16,
   "metadata": {},
   "outputs": [
    {
     "name": "stdout",
     "output_type": "stream",
     "text": [
      "probability: is more positive when js_bin compared to os_bin\n",
      "t-statistic = 9.378178531904721, p-value = 8.007306169754042e-21\n",
      "mean js_bin = 0.7314958979945633, mean os_bin = 0.6920512866369943\n",
      "\n",
      "prediction: is more positive when js_bin compared to os_bin\n",
      "t-statistic = 12.91565723374424, p-value = 6.711957046099309e-38\n",
      "mean js_bin = 0.7310659738623839, mean os_bin = 0.6465967233448757\n",
      "\n",
      "js_bin: n = 6351, os_bin : n = 19349\n"
     ]
    }
   ],
   "source": [
    "##################################\n",
    "# Compare J-coded Sell to Others-sell \n",
    "##################################\n",
    "\n",
    "compare_columns(df_features, \"js_bin\", \"os_bin\", metrics)"
   ]
  },
  {
   "cell_type": "markdown",
   "metadata": {},
   "source": [
    "## Compare buys"
   ]
  },
  {
   "cell_type": "code",
   "execution_count": 17,
   "metadata": {},
   "outputs": [
    {
     "name": "stdout",
     "output_type": "stream",
     "text": [
      "probability: is more positive when b_bin compared to jb_bin\n",
      "t-statistic = 20.472636322115783, p-value = 1.7408226567797087e-92\n",
      "mean b_bin = 0.6884447822361061, mean jb_bin = 0.6409583864848536\n",
      "\n",
      "prediction: is more positive when b_bin compared to jb_bin\n",
      "t-statistic = 22.528764098504464, p-value = 1.771372836412773e-111\n",
      "mean b_bin = 0.7115120818824523, mean jb_bin = 0.6264673966656802\n",
      "\n",
      "b_bin: n = 75816, jb_bin : n = 20274\n"
     ]
    }
   ],
   "source": [
    "##################################\n",
    "# Compare Regular Buy to J-coded Buy\n",
    "##################################\n",
    "\n",
    "compare_columns(df_features, \"b_bin\", \"jb_bin\", metrics)"
   ]
  },
  {
   "cell_type": "code",
   "execution_count": 18,
   "metadata": {},
   "outputs": [
    {
     "name": "stdout",
     "output_type": "stream",
     "text": [
      "probability: is more positive when b_bin compared to ob_bin\n",
      "t-statistic = 3.6357640172606147, p-value = 0.0002789130180022402\n",
      "mean b_bin = 0.6884447822361061, mean ob_bin = 0.6748127799578376\n",
      "\n",
      "prediction: is more positive when b_bin compared to ob_bin\n",
      "t-statistic = 13.635344031299386, p-value = 7.088388273305611e-42\n",
      "mean b_bin = 0.7115120818824523, mean ob_bin = 0.629581901489118\n",
      "\n",
      "b_bin: n = 75816, ob_bin : n = 6984\n"
     ]
    }
   ],
   "source": [
    "##################################\n",
    "# Compare Regular Buy to other-coded Buy\n",
    "##################################\n",
    "\n",
    "compare_columns(df_features, \"b_bin\", \"ob_bin\", metrics)"
   ]
  },
  {
   "cell_type": "code",
   "execution_count": 19,
   "metadata": {},
   "outputs": [
    {
     "name": "stdout",
     "output_type": "stream",
     "text": [
      "probability: is more negative when jb_bin compared to ob_bin\n",
      "t-statistic = -8.048502829825074, p-value = 9.16270990666235e-16\n",
      "mean jb_bin = 0.6409583864848536, mean ob_bin = 0.6748127799578376\n",
      "\n",
      "prediction: is more negative when jb_bin compared to ob_bin\n",
      "t-statistic = -0.46459614862806436, p-value = 0.642229019607282\n",
      "mean jb_bin = 0.6264673966656802, mean ob_bin = 0.629581901489118\n",
      "\n",
      "jb_bin: n = 20274, ob_bin : n = 6984\n"
     ]
    }
   ],
   "source": [
    "##################################\n",
    "# Compare J-coded Buy to other-coded Buy\n",
    "##################################\n",
    "\n",
    "compare_columns(df_features, \"jb_bin\", \"ob_bin\", metrics)"
   ]
  },
  {
   "cell_type": "markdown",
   "metadata": {},
   "source": [
    "### Sell\n",
    "Propose to split sell into 3 Features: Regular sell, J-coded sells and Other sells\n",
    "\n",
    "### Buy\n",
    "Propose to split sell into 3 Features: Regular Buys, J-coded buy and other buys\n",
    "\n",
    "However, we will remove one of the column to remove collinearity. Then we will check the significance of the model"
   ]
  },
  {
   "cell_type": "markdown",
   "metadata": {},
   "source": [
    "___\n",
    "## Checking significance in model\n",
    "___"
   ]
  },
  {
   "cell_type": "code",
   "execution_count": 20,
   "metadata": {},
   "outputs": [
    {
     "data": {
      "application/vnd.microsoft.datawrangler.viewer.v0+json": {
       "columns": [
        {
         "name": "index",
         "rawType": "int64",
         "type": "integer"
        },
        {
         "name": "ACCESSION_NUMBER",
         "rawType": "object",
         "type": "string"
        },
        {
         "name": "TRANS_CODE",
         "rawType": "object",
         "type": "string"
        },
        {
         "name": "TRANS_ACQUIRED_DISP_CD",
         "rawType": "object",
         "type": "string"
        },
        {
         "name": "probability",
         "rawType": "float64",
         "type": "float"
        },
        {
         "name": "prediction",
         "rawType": "int64",
         "type": "integer"
        },
        {
         "name": "j_bin",
         "rawType": "int32",
         "type": "integer"
        },
        {
         "name": "js_bin",
         "rawType": "int32",
         "type": "integer"
        },
        {
         "name": "os_bin",
         "rawType": "int32",
         "type": "integer"
        },
        {
         "name": "s_bin",
         "rawType": "int32",
         "type": "integer"
        },
        {
         "name": "b_bin",
         "rawType": "int32",
         "type": "integer"
        },
        {
         "name": "jb_bin",
         "rawType": "int32",
         "type": "integer"
        },
        {
         "name": "ob_bin",
         "rawType": "int32",
         "type": "integer"
        },
        {
         "name": "g_bin",
         "rawType": "int32",
         "type": "integer"
        }
       ],
       "conversionMethod": "pd.DataFrame",
       "ref": "b789811e-5f28-4235-8bb4-3519423a829c",
       "rows": [
        [
         "0",
         "0001181431-13-025899",
         "S",
         "D",
         "0.89330240677326",
         "1",
         "0",
         "0",
         "0",
         "1",
         "0",
         "0",
         "0",
         "0"
        ],
        [
         "2",
         "0000919574-19-000485",
         "P",
         "A",
         "0.4785670472260569",
         "0",
         "0",
         "0",
         "0",
         "0",
         "1",
         "0",
         "0",
         "0"
        ],
        [
         "5",
         "0000891092-07-001488",
         "J",
         "D",
         "1.0",
         "1",
         "1",
         "1",
         "0",
         "0",
         "0",
         "0",
         "0",
         "0"
        ],
        [
         "6",
         "0000891092-07-001456",
         "S",
         "D",
         "1.0",
         "1",
         "0",
         "0",
         "0",
         "1",
         "0",
         "0",
         "0",
         "0"
        ],
        [
         "18",
         "0000891092-10-001405",
         "S",
         "D",
         "1.0",
         "1",
         "0",
         "0",
         "0",
         "1",
         "0",
         "0",
         "0",
         "0"
        ]
       ],
       "shape": {
        "columns": 13,
        "rows": 5
       }
      },
      "text/html": [
       "<div>\n",
       "<style scoped>\n",
       "    .dataframe tbody tr th:only-of-type {\n",
       "        vertical-align: middle;\n",
       "    }\n",
       "\n",
       "    .dataframe tbody tr th {\n",
       "        vertical-align: top;\n",
       "    }\n",
       "\n",
       "    .dataframe thead th {\n",
       "        text-align: right;\n",
       "    }\n",
       "</style>\n",
       "<table border=\"1\" class=\"dataframe\">\n",
       "  <thead>\n",
       "    <tr style=\"text-align: right;\">\n",
       "      <th></th>\n",
       "      <th>ACCESSION_NUMBER</th>\n",
       "      <th>TRANS_CODE</th>\n",
       "      <th>TRANS_ACQUIRED_DISP_CD</th>\n",
       "      <th>probability</th>\n",
       "      <th>prediction</th>\n",
       "      <th>j_bin</th>\n",
       "      <th>js_bin</th>\n",
       "      <th>os_bin</th>\n",
       "      <th>s_bin</th>\n",
       "      <th>b_bin</th>\n",
       "      <th>jb_bin</th>\n",
       "      <th>ob_bin</th>\n",
       "      <th>g_bin</th>\n",
       "    </tr>\n",
       "  </thead>\n",
       "  <tbody>\n",
       "    <tr>\n",
       "      <th>0</th>\n",
       "      <td>0001181431-13-025899</td>\n",
       "      <td>S</td>\n",
       "      <td>D</td>\n",
       "      <td>0.893302</td>\n",
       "      <td>1</td>\n",
       "      <td>0</td>\n",
       "      <td>0</td>\n",
       "      <td>0</td>\n",
       "      <td>1</td>\n",
       "      <td>0</td>\n",
       "      <td>0</td>\n",
       "      <td>0</td>\n",
       "      <td>0</td>\n",
       "    </tr>\n",
       "    <tr>\n",
       "      <th>2</th>\n",
       "      <td>0000919574-19-000485</td>\n",
       "      <td>P</td>\n",
       "      <td>A</td>\n",
       "      <td>0.478567</td>\n",
       "      <td>0</td>\n",
       "      <td>0</td>\n",
       "      <td>0</td>\n",
       "      <td>0</td>\n",
       "      <td>0</td>\n",
       "      <td>1</td>\n",
       "      <td>0</td>\n",
       "      <td>0</td>\n",
       "      <td>0</td>\n",
       "    </tr>\n",
       "    <tr>\n",
       "      <th>5</th>\n",
       "      <td>0000891092-07-001488</td>\n",
       "      <td>J</td>\n",
       "      <td>D</td>\n",
       "      <td>1.000000</td>\n",
       "      <td>1</td>\n",
       "      <td>1</td>\n",
       "      <td>1</td>\n",
       "      <td>0</td>\n",
       "      <td>0</td>\n",
       "      <td>0</td>\n",
       "      <td>0</td>\n",
       "      <td>0</td>\n",
       "      <td>0</td>\n",
       "    </tr>\n",
       "    <tr>\n",
       "      <th>6</th>\n",
       "      <td>0000891092-07-001456</td>\n",
       "      <td>S</td>\n",
       "      <td>D</td>\n",
       "      <td>1.000000</td>\n",
       "      <td>1</td>\n",
       "      <td>0</td>\n",
       "      <td>0</td>\n",
       "      <td>0</td>\n",
       "      <td>1</td>\n",
       "      <td>0</td>\n",
       "      <td>0</td>\n",
       "      <td>0</td>\n",
       "      <td>0</td>\n",
       "    </tr>\n",
       "    <tr>\n",
       "      <th>18</th>\n",
       "      <td>0000891092-10-001405</td>\n",
       "      <td>S</td>\n",
       "      <td>D</td>\n",
       "      <td>1.000000</td>\n",
       "      <td>1</td>\n",
       "      <td>0</td>\n",
       "      <td>0</td>\n",
       "      <td>0</td>\n",
       "      <td>1</td>\n",
       "      <td>0</td>\n",
       "      <td>0</td>\n",
       "      <td>0</td>\n",
       "      <td>0</td>\n",
       "    </tr>\n",
       "  </tbody>\n",
       "</table>\n",
       "</div>"
      ],
      "text/plain": [
       "        ACCESSION_NUMBER TRANS_CODE TRANS_ACQUIRED_DISP_CD  probability  \\\n",
       "0   0001181431-13-025899          S                      D     0.893302   \n",
       "2   0000919574-19-000485          P                      A     0.478567   \n",
       "5   0000891092-07-001488          J                      D     1.000000   \n",
       "6   0000891092-07-001456          S                      D     1.000000   \n",
       "18  0000891092-10-001405          S                      D     1.000000   \n",
       "\n",
       "    prediction  j_bin  js_bin  os_bin  s_bin  b_bin  jb_bin  ob_bin  g_bin  \n",
       "0            1      0       0       0      1      0       0       0      0  \n",
       "2            0      0       0       0      0      1       0       0      0  \n",
       "5            1      1       1       0      0      0       0       0      0  \n",
       "6            1      0       0       0      1      0       0       0      0  \n",
       "18           1      0       0       0      1      0       0       0      0  "
      ]
     },
     "execution_count": 20,
     "metadata": {},
     "output_type": "execute_result"
    }
   ],
   "source": [
    "df_features.head()"
   ]
  },
  {
   "cell_type": "code",
   "execution_count": 21,
   "metadata": {},
   "outputs": [],
   "source": [
    "def find_significance(data, columns, label):\n",
    "    data = data.dropna(subset=[label])\n",
    "    X = data[columns]\n",
    "    y = data[label]\n",
    "    train_x, test_x, train_y, test_y = train_test_split(X, y, test_size=0.2, random_state=123)\n",
    "    \n",
    "    X_with_const = sm.add_constant(train_x)\n",
    "    model = sm.Logit(train_y, X_with_const).fit()\n",
    "    # results = model.fit()\n",
    "\n",
    "    print(model.summary())"
   ]
  },
  {
   "cell_type": "code",
   "execution_count": 22,
   "metadata": {},
   "outputs": [
    {
     "name": "stdout",
     "output_type": "stream",
     "text": [
      "Optimization terminated successfully.\n",
      "         Current function value: 0.589202\n",
      "         Iterations 5\n",
      "                           Logit Regression Results                           \n",
      "==============================================================================\n",
      "Dep. Variable:            probability   No. Observations:               242417\n",
      "Model:                          Logit   Df Residuals:                   242411\n",
      "Method:                           MLE   Df Model:                            5\n",
      "Date:                Sat, 29 Mar 2025   Pseudo R-squ.:                -0.07884\n",
      "Time:                        13:37:15   Log-Likelihood:            -1.4283e+05\n",
      "converged:                       True   LL-Null:                   -1.3239e+05\n",
      "Covariance Type:            nonrobust   LLR p-value:                     1.000\n",
      "==============================================================================\n",
      "                 coef    std err          z      P>|z|      [0.025      0.975]\n",
      "------------------------------------------------------------------------------\n",
      "const          0.7543      0.006    131.310      0.000       0.743       0.766\n",
      "js_bin         0.2515      0.032      7.826      0.000       0.188       0.314\n",
      "os_bin         0.0523      0.018      2.853      0.004       0.016       0.088\n",
      "b_bin          0.0370      0.010      3.531      0.000       0.016       0.057\n",
      "jb_bin        -0.1835      0.017    -10.577      0.000      -0.218      -0.150\n",
      "ob_bin        -0.0289      0.029     -0.990      0.322      -0.086       0.028\n",
      "==============================================================================\n"
     ]
    }
   ],
   "source": [
    "variables = ['js_bin', 'os_bin','b_bin', 'jb_bin', 'ob_bin'] # Removed \"s_bin\" to ensure that collinearity is removed\n",
    "label = [\"probability\"]\n",
    "find_significance(df_features, variables, label[0])"
   ]
  },
  {
   "cell_type": "markdown",
   "metadata": {},
   "source": [
    "Removed ob_bin because the variable is not significant at 0.05 significance level"
   ]
  },
  {
   "cell_type": "code",
   "execution_count": 23,
   "metadata": {},
   "outputs": [
    {
     "name": "stdout",
     "output_type": "stream",
     "text": [
      "Optimization terminated successfully.\n",
      "         Current function value: 0.589202\n",
      "         Iterations 5\n",
      "                           Logit Regression Results                           \n",
      "==============================================================================\n",
      "Dep. Variable:            probability   No. Observations:               242417\n",
      "Model:                          Logit   Df Residuals:                   242412\n",
      "Method:                           MLE   Df Model:                            4\n",
      "Date:                Sat, 29 Mar 2025   Pseudo R-squ.:                -0.07884\n",
      "Time:                        13:37:16   Log-Likelihood:            -1.4283e+05\n",
      "converged:                       True   LL-Null:                   -1.3239e+05\n",
      "Covariance Type:            nonrobust   LLR p-value:                     1.000\n",
      "==============================================================================\n",
      "                 coef    std err          z      P>|z|      [0.025      0.975]\n",
      "------------------------------------------------------------------------------\n",
      "const          0.7532      0.006    133.736      0.000       0.742       0.764\n",
      "js_bin         0.2526      0.032      7.866      0.000       0.190       0.316\n",
      "b_bin          0.0381      0.010      3.659      0.000       0.018       0.058\n",
      "jb_bin        -0.1824      0.017    -10.535      0.000      -0.216      -0.148\n",
      "os_bin         0.0534      0.018      2.919      0.004       0.018       0.089\n",
      "==============================================================================\n"
     ]
    }
   ],
   "source": [
    "variables = ['js_bin', 'b_bin', 'jb_bin', \"os_bin\"] \n",
    "label = [\"probability\"]\n",
    "find_significance(df_features, variables, label[0])"
   ]
  },
  {
   "cell_type": "markdown",
   "metadata": {},
   "source": [
    "### The variables:\n",
    "\n",
    "js_bin: Indicates 1 if it is a J-coded sell 0 otherwise\n",
    "\n",
    "b_bin: Indicates 1 if it is a P-coded buy and trans acquired A 0 otherwise\n",
    "\n",
    "jb_bin: Indicates 1 if it is a J-coded buy 0 otherwise\n",
    "\n",
    "os_bin: Indicates 1 if it is a non-J non-S coded sell 0 otherwise"
   ]
  },
  {
   "cell_type": "code",
   "execution_count": 24,
   "metadata": {},
   "outputs": [
    {
     "data": {
      "image/png": "[encoded data removed]",
      "text/plain": [
       "<Figure size 800x600 with 2 Axes>"
      ]
     },
     "metadata": {},
     "output_type": "display_data"
    }
   ],
   "source": [
    "corr = df_features[variables + label].corr(method=\"pearson\")\n",
    "# corr = df_features.corr(method=\"pearson\")\n",
    "plt.figure(figsize=(8, 6))\n",
    "sns.heatmap(corr, annot=True, cmap=\"coolwarm\", fmt=\".2f\", linewidths=0.5)\n",
    "plt.title(\"Feature-Label Correlation Heatmap\")\n",
    "plt.show()"
   ]
  }
 ],
 "metadata": {
  "kernelspec": {
   "display_name": "Python 3",
   "language": "python",
   "name": "python3"
  },
  "language_info": {
   "codemirror_mode": {
    "name": "ipython",
    "version": 3
   },
   "file_extension": ".py",
   "mimetype": "text/x-python",
   "name": "python",
   "nbconvert_exporter": "python",
   "pygments_lexer": "ipython3",
   "version": "3.11.3"
  }
 },
 "nbformat": 4,
 "nbformat_minor": 2
}
