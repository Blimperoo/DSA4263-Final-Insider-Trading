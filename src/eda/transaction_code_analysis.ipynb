{
 "cells": [
  {
   "cell_type": "markdown",
   "metadata": {},
   "source": [
    "## We now attempt to find out if the way a SEC filing is done has an effect on the returns"
   ]
  },
  {
   "cell_type": "code",
   "execution_count": 1,
   "metadata": {},
   "outputs": [],
   "source": [
    "import pandas as pd\n",
    "import numpy as np\n",
    "\n",
    "import matplotlib.pyplot as plt\n",
    "import seaborn as sns\n",
    "import re\n",
    "\n",
    "import statsmodels.api as sm\n",
    "\n",
    "from sklearn.model_selection import train_test_split\n",
    "from sklearn.feature_extraction.text import TfidfVectorizer\n",
    "\n",
    "import nltk\n",
    "from nltk.corpus import stopwords\n",
    "from nltk.tokenize import word_tokenize\n",
    "from nltk.stem import WordNetLemmatizer\n",
    "\n",
    "import scipy.stats as stats\n",
    "\n",
    "# Remove warnings to keep outputs clean\n",
    "import warnings\n",
    "warnings.filterwarnings(\"ignore\")\n",
    "\n",
    "PROCESSED_DATA_FOLDER = \"../../data_untracked/processed\"\n",
    "ABNORMAL_CSV = \"merged_txns_SNORKEL.csv\""
   ]
  },
  {
   "cell_type": "markdown",
   "metadata": {},
   "source": [
    "## Load required datasets\n",
    "1. `df_result_with_anomaly_scores_sig.csv`: Transactions with their Cumulative Abnormal Returns (CAR)\n",
    "2. `FOOTNOTES.csv`: Each transactions with their individual filing comments"
   ]
  },
  {
   "cell_type": "code",
   "execution_count": 2,
   "metadata": {},
   "outputs": [
    {
     "name": "stdout",
     "output_type": "stream",
     "text": [
      "Loading data\n"
     ]
    }
   ],
   "source": [
    "abnormal_transactions = pd.read_csv(f'{PROCESSED_DATA_FOLDER}/{ABNORMAL_CSV}')[[\"ACCESSION_NUMBER\", \"TRANS_CODE\", \"TRANS_ACQUIRED_DISP_CD\", \"snorkel_prob\", \"snorkel_pred\"]]\n",
    "abnormal_transactions = abnormal_transactions.rename(columns={\"snorkel_prob\" : \"probability\",\n",
    "                                                               \"snorkel_pred\" : \"prediction\"})\n",
    "print(\"Loading data\")"
   ]
  },
  {
   "cell_type": "markdown",
   "metadata": {},
   "source": [
    "___\n",
    "## Feature extraction and engineering\n",
    "___"
   ]
  },
  {
   "cell_type": "code",
   "execution_count": 3,
   "metadata": {},
   "outputs": [
    {
     "data": {
      "application/vnd.microsoft.datawrangler.viewer.v0+json": {
       "columns": [
        {
         "name": "index",
         "rawType": "int64",
         "type": "integer"
        },
        {
         "name": "ACCESSION_NUMBER",
         "rawType": "object",
         "type": "string"
        },
        {
         "name": "TRANS_CODE",
         "rawType": "object",
         "type": "string"
        },
        {
         "name": "TRANS_ACQUIRED_DISP_CD",
         "rawType": "object",
         "type": "string"
        },
        {
         "name": "probability",
         "rawType": "float64",
         "type": "float"
        },
        {
         "name": "prediction",
         "rawType": "int64",
         "type": "integer"
        }
       ],
       "conversionMethod": "pd.DataFrame",
       "ref": "42e94f36-1859-4b78-946f-ebc6a4cb29ce",
       "rows": [
        [
         "0",
         "0001181431-09-023155",
         "S",
         "D",
         "1.0",
         "1"
        ],
        [
         "1",
         "0001181431-12-005367",
         "S",
         "D",
         "1.0",
         "1"
        ],
        [
         "2",
         "0001181431-12-047732",
         "S",
         "D",
         "0.0900525862146798",
         "0"
        ],
        [
         "3",
         "0001181431-12-047732",
         "S",
         "D",
         "0.0900525862146798",
         "0"
        ],
        [
         "4",
         "0001181431-12-049839",
         "S",
         "D",
         "0.2198549032573967",
         "0"
        ]
       ],
       "shape": {
        "columns": 5,
        "rows": 5
       }
      },
      "text/html": [
       "<div>\n",
       "<style scoped>\n",
       "    .dataframe tbody tr th:only-of-type {\n",
       "        vertical-align: middle;\n",
       "    }\n",
       "\n",
       "    .dataframe tbody tr th {\n",
       "        vertical-align: top;\n",
       "    }\n",
       "\n",
       "    .dataframe thead th {\n",
       "        text-align: right;\n",
       "    }\n",
       "</style>\n",
       "<table border=\"1\" class=\"dataframe\">\n",
       "  <thead>\n",
       "    <tr style=\"text-align: right;\">\n",
       "      <th></th>\n",
       "      <th>ACCESSION_NUMBER</th>\n",
       "      <th>TRANS_CODE</th>\n",
       "      <th>TRANS_ACQUIRED_DISP_CD</th>\n",
       "      <th>probability</th>\n",
       "      <th>prediction</th>\n",
       "    </tr>\n",
       "  </thead>\n",
       "  <tbody>\n",
       "    <tr>\n",
       "      <th>0</th>\n",
       "      <td>0001181431-09-023155</td>\n",
       "      <td>S</td>\n",
       "      <td>D</td>\n",
       "      <td>1.000000</td>\n",
       "      <td>1</td>\n",
       "    </tr>\n",
       "    <tr>\n",
       "      <th>1</th>\n",
       "      <td>0001181431-12-005367</td>\n",
       "      <td>S</td>\n",
       "      <td>D</td>\n",
       "      <td>1.000000</td>\n",
       "      <td>1</td>\n",
       "    </tr>\n",
       "    <tr>\n",
       "      <th>2</th>\n",
       "      <td>0001181431-12-047732</td>\n",
       "      <td>S</td>\n",
       "      <td>D</td>\n",
       "      <td>0.090053</td>\n",
       "      <td>0</td>\n",
       "    </tr>\n",
       "    <tr>\n",
       "      <th>3</th>\n",
       "      <td>0001181431-12-047732</td>\n",
       "      <td>S</td>\n",
       "      <td>D</td>\n",
       "      <td>0.090053</td>\n",
       "      <td>0</td>\n",
       "    </tr>\n",
       "    <tr>\n",
       "      <th>4</th>\n",
       "      <td>0001181431-12-049839</td>\n",
       "      <td>S</td>\n",
       "      <td>D</td>\n",
       "      <td>0.219855</td>\n",
       "      <td>0</td>\n",
       "    </tr>\n",
       "  </tbody>\n",
       "</table>\n",
       "</div>"
      ],
      "text/plain": [
       "       ACCESSION_NUMBER TRANS_CODE TRANS_ACQUIRED_DISP_CD  probability  \\\n",
       "0  0001181431-09-023155          S                      D     1.000000   \n",
       "1  0001181431-12-005367          S                      D     1.000000   \n",
       "2  0001181431-12-047732          S                      D     0.090053   \n",
       "3  0001181431-12-047732          S                      D     0.090053   \n",
       "4  0001181431-12-049839          S                      D     0.219855   \n",
       "\n",
       "   prediction  \n",
       "0           1  \n",
       "1           1  \n",
       "2           0  \n",
       "3           0  \n",
       "4           0  "
      ]
     },
     "execution_count": 3,
     "metadata": {},
     "output_type": "execute_result"
    }
   ],
   "source": [
    "abnormal_transactions.head()"
   ]
  },
  {
   "cell_type": "code",
   "execution_count": 4,
   "metadata": {},
   "outputs": [
    {
     "data": {
      "text/plain": [
       "3171001"
      ]
     },
     "execution_count": 4,
     "metadata": {},
     "output_type": "execute_result"
    }
   ],
   "source": [
    "abnormal_transactions[\"TRANS_ACQUIRED_DISP_CD\"].count()"
   ]
  },
  {
   "cell_type": "code",
   "execution_count": 5,
   "metadata": {},
   "outputs": [
    {
     "data": {
      "text/plain": [
       "(1299397, 5)"
      ]
     },
     "execution_count": 5,
     "metadata": {},
     "output_type": "execute_result"
    }
   ],
   "source": [
    "abnormal_transactions = abnormal_transactions.drop_duplicates(subset=[\"ACCESSION_NUMBER\", \"TRANS_ACQUIRED_DISP_CD\", \"TRANS_CODE\", \"probability\"])\n",
    "abnormal_transactions.shape"
   ]
  },
  {
   "cell_type": "code",
   "execution_count": 57,
   "metadata": {},
   "outputs": [],
   "source": [
    "df_features = abnormal_transactions.copy()\n",
    "\n",
    "## Create a binary variable to extract Transcode = J\n",
    "df_features[\"j_bin\"] = np.where(df_features[\"TRANS_CODE\"].str.upper() == \"J\", 1, 0)\n",
    "\n",
    "##############################\n",
    "# Sell\n",
    "##############################\n",
    "\n",
    "## Create a binary variable to extract Transcode = J and Trans Acquired = D which means J code and sell\n",
    "df_features[\"js_bin\"] = np.where((df_features[\"TRANS_ACQUIRED_DISP_CD\"].str.upper() == \"D\") & (df_features[\"TRANS_CODE\"].str.upper() == \"J\"), 1, 0)\n",
    "\n",
    "## Create a binary variable to extract Transcode Not J or S but Trans Acquired = D which is sell but non S or J or G coded\n",
    "df_features[\"os_bin\"] = np.where((~df_features[\"TRANS_CODE\"].str.upper().isin([\"S\", \"J\", \"G\"])) & (df_features[\"TRANS_ACQUIRED_DISP_CD\"].str.upper() == \"D\"), 1, 0)\n",
    "\n",
    "## Create a binary variable to extract Transcode = S which is sell and Acquired disp cd = D (Regular Sell)\n",
    "df_features[\"s_bin\"] = np.where((df_features[\"TRANS_CODE\"].str.upper() == \"S\") & (df_features[\"TRANS_ACQUIRED_DISP_CD\"].str.upper() == \"D\" ), 1, 0)\n",
    "\n",
    "##############################\n",
    "# Buy\n",
    "##############################\n",
    "\n",
    "## Create a binary variable to extract Transcode = P which is Buy and Acquired disp cd = A (Regular Sell)\n",
    "df_features[\"b_bin\"] = np.where((df_features[\"TRANS_CODE\"].str.upper() == \"P\") & (df_features[\"TRANS_ACQUIRED_DISP_CD\"].str.upper() == \"A\"), 1, 0)\n",
    "\n",
    "## Create a binary variable to extract Transcode = J and Trans Acquired = A which means J code and buy\n",
    "df_features[\"jb_bin\"] = np.where((df_features[\"TRANS_ACQUIRED_DISP_CD\"].str.upper() == \"A\") & (df_features[\"TRANS_CODE\"].str.upper() == \"J\"), 1, 0)\n",
    "\n",
    "## Create a binary variable to extract Transcode Not J or P but Trans Acquired = A which is buy but non P or J or G coded\n",
    "df_features[\"ob_bin\"] = np.where((~df_features[\"TRANS_CODE\"].str.upper().isin([\"P\", \"J\", \"G\"])) & (df_features[\"TRANS_ACQUIRED_DISP_CD\"].str.upper() == \"A\"), 1, 0)\n",
    "\n",
    "##############################\n",
    "# GIFTS\n",
    "##############################\n",
    "\n",
    "## Create a binary variable to extract if Transcode = G which is a gift\n",
    "df_features[\"g_bin\"] = np.where((df_features[\"TRANS_CODE\"].str.upper() == \"G\"), 1, 0)\n",
    "\n",
    "## Create a binary variable to extract if Transcode = G which is a gift and buy\n",
    "df_features[\"gb_bin\"] = np.where((df_features[\"TRANS_CODE\"].str.upper() == \"G\") & (df_features[\"TRANS_ACQUIRED_DISP_CD\"].str.upper() == \"A\"), 1, 0)\n",
    "\n",
    "## Create a binary variable to extract if Transcode = G which is a gift and sell\n",
    "df_features[\"gs_bin\"] = np.where((df_features[\"TRANS_CODE\"].str.upper() == \"G\") & (df_features[\"TRANS_ACQUIRED_DISP_CD\"].str.upper() == \"D\"), 1, 0)\n"
   ]
  },
  {
   "cell_type": "code",
   "execution_count": 58,
   "metadata": {},
   "outputs": [
    {
     "name": "stdout",
     "output_type": "stream",
     "text": [
      "rows with binary j: 141229\n",
      "rows with binary j and sell: 35699 \t rows with regular sell: 730187 \t rows with non-regular sell: 5381\n",
      "rows with binary j and buy: 105530 \t rows with regular buy: 303443 \t\t rows with non-regular buy: 11188\n"
     ]
    }
   ],
   "source": [
    "print(f'rows with binary j: {sum(df_features[\"j_bin\"])}')\n",
    "print(f'rows with binary j and sell: {sum(df_features[\"js_bin\"])} \\t rows with regular sell: {sum(df_features[\"s_bin\"])} \\t rows with non-regular sell: {sum(df_features[\"os_bin\"])}')\n",
    "print(f'rows with binary j and buy: {sum(df_features[\"jb_bin\"])} \\t rows with regular buy: {sum(df_features[\"b_bin\"])} \\t\\t rows with non-regular buy: {sum(df_features[\"ob_bin\"])}')\n"
   ]
  },
  {
   "cell_type": "code",
   "execution_count": 59,
   "metadata": {},
   "outputs": [
    {
     "name": "stdout",
     "output_type": "stream",
     "text": [
      "All cases accounted for: False\n"
     ]
    }
   ],
   "source": [
    "total_sell = sum(df_features[\"js_bin\"]) + sum(df_features[\"s_bin\"]) + sum(df_features[\"os_bin\"])\n",
    "total_buy = sum(df_features[\"jb_bin\"]) + sum(df_features[\"b_bin\"]) + sum(df_features[\"ob_bin\"])\n",
    "print(f\"All cases accounted for: {len(df_features) == total_sell + total_buy}\")"
   ]
  },
  {
   "cell_type": "markdown",
   "metadata": {},
   "source": [
    "___\n",
    "## Comparison\n",
    "___"
   ]
  },
  {
   "cell_type": "code",
   "execution_count": 60,
   "metadata": {},
   "outputs": [],
   "source": [
    "metrics = [\n",
    "    \"probability\", \"prediction\"\n",
    "]"
   ]
  },
  {
   "cell_type": "code",
   "execution_count": 61,
   "metadata": {},
   "outputs": [],
   "source": [
    "##################################\n",
    "# Define functions\n",
    "##################################\n",
    "\n",
    "def compare_complement(df, col, metrics):\n",
    "    split_1 = df[df[col] == 1]\n",
    "    split_2 = df[df[col] != 1]\n",
    "    \n",
    "    for metric in metrics:\n",
    "        A = split_1[metric].dropna()\n",
    "        \n",
    "        # print(A)\n",
    "        B = split_2[metric].dropna()\n",
    "        t_stat, p_val = stats.ttest_ind(A, B, equal_var=False)\n",
    "        sign = \"negative\" if t_stat < 0 else \"positive\"\n",
    "        print(f\"{metric}: is more {sign} when {col} is separated\\n\" \n",
    "              f\"t-statistic = {t_stat}, p-value = {p_val}\\n\"\n",
    "              f\"mean {col} = {np.mean(A)}, mean {col} complement = {np.mean(B)}\\n\")\n",
    "        \n",
    "    print(f\"{col}: n = {len(A)}, {col} complement: n = {len(B)}\")\n",
    "\n",
    "def compare_columns(df, col1, col2, metrics):\n",
    "    split_1 = df[df[col1] == 1]\n",
    "    split_2 = df[df[col2] == 1]\n",
    "    \n",
    "    for metric in metrics:\n",
    "        A = split_1[metric].dropna()\n",
    "        \n",
    "        # print(A)\n",
    "        B = split_2[metric].dropna()\n",
    "        t_stat, p_val = stats.ttest_ind(A, B, equal_var=False)\n",
    "        sign = \"negative\" if t_stat < 0 else \"positive\"\n",
    "        print(f\"{metric}: is more {sign} when {col1} compared to {col2}\\n\" \n",
    "              f\"t-statistic = {t_stat}, p-value = {p_val}\\n\"\n",
    "              f\"mean {col1} = {np.mean(A)}, mean {col2} = {np.mean(B)}\\n\")\n",
    "    print(f\"{col1}: n = {len(A)}, {col2} : n = {len(B)}\")\n",
    "    "
   ]
  },
  {
   "cell_type": "code",
   "execution_count": 62,
   "metadata": {},
   "outputs": [
    {
     "name": "stdout",
     "output_type": "stream",
     "text": [
      "probability: is more positive when g_bin is separated\n",
      "t-statistic = 77.78913465363631, p-value = 0.0\n",
      "mean g_bin = 0.7566984819710943, mean g_bin complement = 0.6758130280910594\n",
      "\n",
      "prediction: is more positive when g_bin is separated\n",
      "t-statistic = 88.20304332739661, p-value = 0.0\n",
      "mean g_bin = 0.6166214376348766, mean g_bin complement = 0.4800055059978446\n",
      "\n",
      "g_bin: n = 107969, g_bin complement: n = 1191428\n"
     ]
    }
   ],
   "source": [
    "## The inclusion of g code not significant in the probability continous labels\n",
    "compare_complement(df_features, \"g_bin\", metrics)"
   ]
  },
  {
   "cell_type": "code",
   "execution_count": 63,
   "metadata": {},
   "outputs": [
    {
     "name": "stdout",
     "output_type": "stream",
     "text": [
      "probability: is more positive when gb_bin is separated\n",
      "t-statistic = 20.0379282096194, p-value = 1.2977494445816793e-88\n",
      "mean gb_bin = 0.7263549929591401, mean gb_bin complement = 0.6817131013525093\n",
      "\n",
      "prediction: is more positive when gb_bin is separated\n",
      "t-statistic = 24.273193911423565, p-value = 1.1915081391891543e-128\n",
      "mean gb_bin = 0.5684329482672024, mean gb_bin complement = 0.48991340684669993\n",
      "\n",
      "gb_bin: n = 23892, gb_bin complement: n = 1275505\n"
     ]
    }
   ],
   "source": [
    "## The inclusion of g code not significant in the probability continous labels\n",
    "compare_complement(df_features, \"gb_bin\", metrics)"
   ]
  },
  {
   "cell_type": "code",
   "execution_count": 64,
   "metadata": {},
   "outputs": [
    {
     "name": "stdout",
     "output_type": "stream",
     "text": [
      "probability: is more positive when gs_bin is separated\n",
      "t-statistic = 76.97505608239422, p-value = 0.0\n",
      "mean gs_bin = 0.7653211331060492, mean gs_bin complement = 0.6768066335814883\n",
      "\n",
      "prediction: is more positive when gs_bin is separated\n",
      "t-statistic = 86.10905528115474, p-value = 0.0\n",
      "mean gs_bin = 0.6303150683302211, mean gs_bin complement = 0.4817439028404042\n",
      "\n",
      "gs_bin: n = 84077, gs_bin complement: n = 1215320\n"
     ]
    }
   ],
   "source": [
    "compare_complement(df_features, \"gs_bin\", metrics)"
   ]
  },
  {
   "cell_type": "code",
   "execution_count": 65,
   "metadata": {},
   "outputs": [
    {
     "name": "stdout",
     "output_type": "stream",
     "text": [
      "probability: is more negative when gb_bin compared to gs_bin\n",
      "t-statistic = -15.770492438064897, p-value = 7.571272209874066e-56\n",
      "mean gb_bin = 0.7263549929591401, mean gs_bin = 0.7653211331060492\n",
      "\n",
      "prediction: is more negative when gb_bin compared to gs_bin\n",
      "t-statistic = -17.136872253998508, p-value = 1.3959165517454705e-65\n",
      "mean gb_bin = 0.5684329482672024, mean gs_bin = 0.6303150683302211\n",
      "\n",
      "gb_bin: n = 23892, gs_bin : n = 84077\n"
     ]
    }
   ],
   "source": [
    "compare_columns(df_features, \"gb_bin\", \"gs_bin\", metrics)"
   ]
  },
  {
   "cell_type": "code",
   "execution_count": 66,
   "metadata": {},
   "outputs": [
    {
     "name": "stdout",
     "output_type": "stream",
     "text": [
      "probability: is more negative when gb_bin compared to g_bin\n",
      "t-statistic = -12.53250624763656, p-value = 5.946007493724206e-36\n",
      "mean gb_bin = 0.7263549929591401, mean g_bin = 0.7566984819710943\n",
      "\n",
      "prediction: is more negative when gb_bin compared to g_bin\n",
      "t-statistic = -13.652880067910067, p-value = 2.4948801509597524e-42\n",
      "mean gb_bin = 0.5684329482672024, mean g_bin = 0.6166214376348766\n",
      "\n",
      "gb_bin: n = 23892, g_bin : n = 107969\n"
     ]
    }
   ],
   "source": [
    "compare_columns(df_features, \"gb_bin\", \"g_bin\", metrics)"
   ]
  },
  {
   "cell_type": "code",
   "execution_count": 67,
   "metadata": {},
   "outputs": [
    {
     "name": "stdout",
     "output_type": "stream",
     "text": [
      "probability: is more negative when j_bin is separated\n",
      "t-statistic = -66.76692805712239, p-value = 0.0\n",
      "mean j_bin = 0.6255915200433525, mean j_bin complement = 0.6894775870583619\n",
      "\n",
      "prediction: is more negative when j_bin is separated\n",
      "t-statistic = -71.73205574060563, p-value = 0.0\n",
      "mean j_bin = 0.4027855468777659, mean j_bin complement = 0.5021577180512672\n",
      "\n",
      "j_bin: n = 141229, j_bin complement: n = 1158168\n"
     ]
    }
   ],
   "source": [
    "## The inclusion of j code is significant to the anomaly level at 0.05 level however, we can split it further in sells and buys\n",
    "compare_complement(df_features, \"j_bin\", metrics)"
   ]
  },
  {
   "cell_type": "markdown",
   "metadata": {},
   "source": [
    "## Compare sells"
   ]
  },
  {
   "cell_type": "code",
   "execution_count": 68,
   "metadata": {},
   "outputs": [
    {
     "name": "stdout",
     "output_type": "stream",
     "text": [
      "probability: is more negative when s_bin compared to os_bin\n",
      "t-statistic = -18.451489105094957, p-value = 8.43566796756432e-74\n",
      "mean s_bin = 0.6801463507852918, mean os_bin = 0.7585777918212866\n",
      "\n",
      "prediction: is more negative when s_bin compared to os_bin\n",
      "t-statistic = -17.730654575535688, p-value = 1.948373281586839e-68\n",
      "mean s_bin = 0.49823127500215697, mean os_bin = 0.6162423341386359\n",
      "\n",
      "s_bin: n = 730187, os_bin : n = 5381\n"
     ]
    }
   ],
   "source": [
    "##################################\n",
    "# Compare Regular Sell to other-coded Sell\n",
    "##################################\n",
    "\n",
    "compare_columns(df_features, \"s_bin\", \"os_bin\", metrics)"
   ]
  },
  {
   "cell_type": "code",
   "execution_count": 69,
   "metadata": {},
   "outputs": [
    {
     "name": "stdout",
     "output_type": "stream",
     "text": [
      "probability: is more negative when s_bin compared to js_bin\n",
      "t-statistic = -16.801271319974223, p-value = 3.9461499465042547e-63\n",
      "mean s_bin = 0.6801463507852918, mean js_bin = 0.7090887994044911\n",
      "\n",
      "prediction: is more negative when s_bin compared to js_bin\n",
      "t-statistic = -16.0799713997554, p-value = 5.401980703664233e-58\n",
      "mean s_bin = 0.49823127500215697, mean js_bin = 0.5416678338328804\n",
      "\n",
      "s_bin: n = 730187, js_bin : n = 35699\n"
     ]
    }
   ],
   "source": [
    "##################################\n",
    "# Compare Regular Sell to J-coded Sell\n",
    "##################################\n",
    "\n",
    "compare_columns(df_features, \"s_bin\", \"js_bin\", metrics)"
   ]
  },
  {
   "cell_type": "markdown",
   "metadata": {},
   "source": [
    "### J-Coded sells does not have significance compared to Other-Coded sells"
   ]
  },
  {
   "cell_type": "code",
   "execution_count": 70,
   "metadata": {},
   "outputs": [
    {
     "name": "stdout",
     "output_type": "stream",
     "text": [
      "probability: is more negative when js_bin compared to os_bin\n",
      "t-statistic = -10.871353795091991, p-value = 2.575386238552257e-27\n",
      "mean js_bin = 0.7090887994044911, mean os_bin = 0.7585777918212866\n",
      "\n",
      "prediction: is more negative when js_bin compared to os_bin\n",
      "t-statistic = -10.451603027713812, p-value = 2.1888570894261834e-25\n",
      "mean js_bin = 0.5416678338328804, mean os_bin = 0.6162423341386359\n",
      "\n",
      "js_bin: n = 35699, os_bin : n = 5381\n"
     ]
    }
   ],
   "source": [
    "##################################\n",
    "# Compare J-coded Sell to Others-sell \n",
    "##################################\n",
    "\n",
    "compare_columns(df_features, \"js_bin\", \"os_bin\", metrics)"
   ]
  },
  {
   "cell_type": "markdown",
   "metadata": {},
   "source": [
    "## Compare buys"
   ]
  },
  {
   "cell_type": "code",
   "execution_count": 71,
   "metadata": {},
   "outputs": [
    {
     "name": "stdout",
     "output_type": "stream",
     "text": [
      "probability: is more positive when b_bin compared to jb_bin\n",
      "t-statistic = 75.50749218219808, p-value = 0.0\n",
      "mean b_bin = 0.6885914578634618, mean jb_bin = 0.5973458138374086\n",
      "\n",
      "prediction: is more positive when b_bin compared to jb_bin\n",
      "t-statistic = 66.27450605189225, p-value = 0.0\n",
      "mean b_bin = 0.4704606796004521, mean jb_bin = 0.3558040367667962\n",
      "\n",
      "b_bin: n = 303443, jb_bin : n = 105530\n"
     ]
    }
   ],
   "source": [
    "##################################\n",
    "# Compare Regular Buy to J-coded Buy\n",
    "##################################\n",
    "\n",
    "compare_columns(df_features, \"b_bin\", \"jb_bin\", metrics)"
   ]
  },
  {
   "cell_type": "code",
   "execution_count": 72,
   "metadata": {},
   "outputs": [
    {
     "name": "stdout",
     "output_type": "stream",
     "text": [
      "probability: is more positive when b_bin compared to ob_bin\n",
      "t-statistic = 13.695216534028418, p-value = 2.2791025500725693e-42\n",
      "mean b_bin = 0.6885914578634618, mean ob_bin = 0.6405712693206541\n",
      "\n",
      "prediction: is more positive when b_bin compared to ob_bin\n",
      "t-statistic = 2.468888132383408, p-value = 0.01356714915872825\n",
      "mean b_bin = 0.4704606796004521, mean ob_bin = 0.4586163746871648\n",
      "\n",
      "b_bin: n = 303443, ob_bin : n = 11188\n"
     ]
    }
   ],
   "source": [
    "##################################\n",
    "# Compare Regular Buy to other-coded Buy\n",
    "##################################\n",
    "\n",
    "compare_columns(df_features, \"b_bin\", \"ob_bin\", metrics)"
   ]
  },
  {
   "cell_type": "code",
   "execution_count": 73,
   "metadata": {},
   "outputs": [
    {
     "name": "stdout",
     "output_type": "stream",
     "text": [
      "probability: is more negative when jb_bin compared to ob_bin\n",
      "t-statistic = -11.958572555508736, p-value = 8.608320449218971e-33\n",
      "mean jb_bin = 0.5973458138374086, mean ob_bin = 0.6405712693206541\n",
      "\n",
      "prediction: is more negative when jb_bin compared to ob_bin\n",
      "t-statistic = -20.828152802037973, p-value = 7.468013622593535e-95\n",
      "mean jb_bin = 0.3558040367667962, mean ob_bin = 0.4586163746871648\n",
      "\n",
      "jb_bin: n = 105530, ob_bin : n = 11188\n"
     ]
    }
   ],
   "source": [
    "##################################\n",
    "# Compare J-coded Buy to other-coded Buy\n",
    "##################################\n",
    "\n",
    "compare_columns(df_features, \"jb_bin\", \"ob_bin\", metrics)"
   ]
  },
  {
   "cell_type": "markdown",
   "metadata": {},
   "source": [
    "### Sell\n",
    "Propose to split sell into 3 Features: Regular sell, J-coded sells and Other sells\n",
    "\n",
    "### Buy\n",
    "Propose to split sell into 3 Features: Regular Buys, J-coded buy and other buys\n",
    "\n",
    "However, we will remove one of the column to remove collinearity. Then we will check the significance of the model"
   ]
  },
  {
   "cell_type": "markdown",
   "metadata": {},
   "source": [
    "___\n",
    "## Checking significance in model\n",
    "___"
   ]
  },
  {
   "cell_type": "code",
   "execution_count": 74,
   "metadata": {},
   "outputs": [
    {
     "data": {
      "application/vnd.microsoft.datawrangler.viewer.v0+json": {
       "columns": [
        {
         "name": "index",
         "rawType": "int64",
         "type": "integer"
        },
        {
         "name": "ACCESSION_NUMBER",
         "rawType": "object",
         "type": "string"
        },
        {
         "name": "TRANS_CODE",
         "rawType": "object",
         "type": "string"
        },
        {
         "name": "TRANS_ACQUIRED_DISP_CD",
         "rawType": "object",
         "type": "string"
        },
        {
         "name": "probability",
         "rawType": "float64",
         "type": "float"
        },
        {
         "name": "prediction",
         "rawType": "int64",
         "type": "integer"
        },
        {
         "name": "j_bin",
         "rawType": "int32",
         "type": "integer"
        },
        {
         "name": "js_bin",
         "rawType": "int32",
         "type": "integer"
        },
        {
         "name": "os_bin",
         "rawType": "int32",
         "type": "integer"
        },
        {
         "name": "s_bin",
         "rawType": "int32",
         "type": "integer"
        },
        {
         "name": "b_bin",
         "rawType": "int32",
         "type": "integer"
        },
        {
         "name": "jb_bin",
         "rawType": "int32",
         "type": "integer"
        },
        {
         "name": "ob_bin",
         "rawType": "int32",
         "type": "integer"
        },
        {
         "name": "g_bin",
         "rawType": "int32",
         "type": "integer"
        },
        {
         "name": "gb_bin",
         "rawType": "int32",
         "type": "integer"
        },
        {
         "name": "gs_bin",
         "rawType": "int32",
         "type": "integer"
        }
       ],
       "conversionMethod": "pd.DataFrame",
       "ref": "cd01ad53-9855-4a31-aaf9-87199449a036",
       "rows": [
        [
         "0",
         "0001181431-09-023155",
         "S",
         "D",
         "1.0",
         "1",
         "0",
         "0",
         "0",
         "1",
         "0",
         "0",
         "0",
         "0",
         "0",
         "0"
        ],
        [
         "1",
         "0001181431-12-005367",
         "S",
         "D",
         "1.0",
         "1",
         "0",
         "0",
         "0",
         "1",
         "0",
         "0",
         "0",
         "0",
         "0",
         "0"
        ],
        [
         "2",
         "0001181431-12-047732",
         "S",
         "D",
         "0.0900525862146798",
         "0",
         "0",
         "0",
         "0",
         "1",
         "0",
         "0",
         "0",
         "0",
         "0",
         "0"
        ],
        [
         "4",
         "0001181431-12-049839",
         "S",
         "D",
         "0.2198549032573967",
         "0",
         "0",
         "0",
         "0",
         "1",
         "0",
         "0",
         "0",
         "0",
         "0",
         "0"
        ],
        [
         "5",
         "0001181431-12-049839",
         "S",
         "D",
         "0.0900525862146798",
         "0",
         "0",
         "0",
         "0",
         "1",
         "0",
         "0",
         "0",
         "0",
         "0",
         "0"
        ]
       ],
       "shape": {
        "columns": 15,
        "rows": 5
       }
      },
      "text/html": [
       "<div>\n",
       "<style scoped>\n",
       "    .dataframe tbody tr th:only-of-type {\n",
       "        vertical-align: middle;\n",
       "    }\n",
       "\n",
       "    .dataframe tbody tr th {\n",
       "        vertical-align: top;\n",
       "    }\n",
       "\n",
       "    .dataframe thead th {\n",
       "        text-align: right;\n",
       "    }\n",
       "</style>\n",
       "<table border=\"1\" class=\"dataframe\">\n",
       "  <thead>\n",
       "    <tr style=\"text-align: right;\">\n",
       "      <th></th>\n",
       "      <th>ACCESSION_NUMBER</th>\n",
       "      <th>TRANS_CODE</th>\n",
       "      <th>TRANS_ACQUIRED_DISP_CD</th>\n",
       "      <th>probability</th>\n",
       "      <th>prediction</th>\n",
       "      <th>j_bin</th>\n",
       "      <th>js_bin</th>\n",
       "      <th>os_bin</th>\n",
       "      <th>s_bin</th>\n",
       "      <th>b_bin</th>\n",
       "      <th>jb_bin</th>\n",
       "      <th>ob_bin</th>\n",
       "      <th>g_bin</th>\n",
       "      <th>gb_bin</th>\n",
       "      <th>gs_bin</th>\n",
       "    </tr>\n",
       "  </thead>\n",
       "  <tbody>\n",
       "    <tr>\n",
       "      <th>0</th>\n",
       "      <td>0001181431-09-023155</td>\n",
       "      <td>S</td>\n",
       "      <td>D</td>\n",
       "      <td>1.000000</td>\n",
       "      <td>1</td>\n",
       "      <td>0</td>\n",
       "      <td>0</td>\n",
       "      <td>0</td>\n",
       "      <td>1</td>\n",
       "      <td>0</td>\n",
       "      <td>0</td>\n",
       "      <td>0</td>\n",
       "      <td>0</td>\n",
       "      <td>0</td>\n",
       "      <td>0</td>\n",
       "    </tr>\n",
       "    <tr>\n",
       "      <th>1</th>\n",
       "      <td>0001181431-12-005367</td>\n",
       "      <td>S</td>\n",
       "      <td>D</td>\n",
       "      <td>1.000000</td>\n",
       "      <td>1</td>\n",
       "      <td>0</td>\n",
       "      <td>0</td>\n",
       "      <td>0</td>\n",
       "      <td>1</td>\n",
       "      <td>0</td>\n",
       "      <td>0</td>\n",
       "      <td>0</td>\n",
       "      <td>0</td>\n",
       "      <td>0</td>\n",
       "      <td>0</td>\n",
       "    </tr>\n",
       "    <tr>\n",
       "      <th>2</th>\n",
       "      <td>0001181431-12-047732</td>\n",
       "      <td>S</td>\n",
       "      <td>D</td>\n",
       "      <td>0.090053</td>\n",
       "      <td>0</td>\n",
       "      <td>0</td>\n",
       "      <td>0</td>\n",
       "      <td>0</td>\n",
       "      <td>1</td>\n",
       "      <td>0</td>\n",
       "      <td>0</td>\n",
       "      <td>0</td>\n",
       "      <td>0</td>\n",
       "      <td>0</td>\n",
       "      <td>0</td>\n",
       "    </tr>\n",
       "    <tr>\n",
       "      <th>4</th>\n",
       "      <td>0001181431-12-049839</td>\n",
       "      <td>S</td>\n",
       "      <td>D</td>\n",
       "      <td>0.219855</td>\n",
       "      <td>0</td>\n",
       "      <td>0</td>\n",
       "      <td>0</td>\n",
       "      <td>0</td>\n",
       "      <td>1</td>\n",
       "      <td>0</td>\n",
       "      <td>0</td>\n",
       "      <td>0</td>\n",
       "      <td>0</td>\n",
       "      <td>0</td>\n",
       "      <td>0</td>\n",
       "    </tr>\n",
       "    <tr>\n",
       "      <th>5</th>\n",
       "      <td>0001181431-12-049839</td>\n",
       "      <td>S</td>\n",
       "      <td>D</td>\n",
       "      <td>0.090053</td>\n",
       "      <td>0</td>\n",
       "      <td>0</td>\n",
       "      <td>0</td>\n",
       "      <td>0</td>\n",
       "      <td>1</td>\n",
       "      <td>0</td>\n",
       "      <td>0</td>\n",
       "      <td>0</td>\n",
       "      <td>0</td>\n",
       "      <td>0</td>\n",
       "      <td>0</td>\n",
       "    </tr>\n",
       "  </tbody>\n",
       "</table>\n",
       "</div>"
      ],
      "text/plain": [
       "       ACCESSION_NUMBER TRANS_CODE TRANS_ACQUIRED_DISP_CD  probability  \\\n",
       "0  0001181431-09-023155          S                      D     1.000000   \n",
       "1  0001181431-12-005367          S                      D     1.000000   \n",
       "2  0001181431-12-047732          S                      D     0.090053   \n",
       "4  0001181431-12-049839          S                      D     0.219855   \n",
       "5  0001181431-12-049839          S                      D     0.090053   \n",
       "\n",
       "   prediction  j_bin  js_bin  os_bin  s_bin  b_bin  jb_bin  ob_bin  g_bin  \\\n",
       "0           1      0       0       0      1      0       0       0      0   \n",
       "1           1      0       0       0      1      0       0       0      0   \n",
       "2           0      0       0       0      1      0       0       0      0   \n",
       "4           0      0       0       0      1      0       0       0      0   \n",
       "5           0      0       0       0      1      0       0       0      0   \n",
       "\n",
       "   gb_bin  gs_bin  \n",
       "0       0       0  \n",
       "1       0       0  \n",
       "2       0       0  \n",
       "4       0       0  \n",
       "5       0       0  "
      ]
     },
     "execution_count": 74,
     "metadata": {},
     "output_type": "execute_result"
    }
   ],
   "source": [
    "df_features.head()"
   ]
  },
  {
   "cell_type": "code",
   "execution_count": 75,
   "metadata": {},
   "outputs": [],
   "source": [
    "def find_significance(data, columns, label):\n",
    "    data = data.dropna(subset=[label])\n",
    "    X = data[columns]\n",
    "    y = data[label]\n",
    "    train_x, test_x, train_y, test_y = train_test_split(X, y, test_size=0.2, random_state=123)\n",
    "    \n",
    "    X_with_const = sm.add_constant(train_x)\n",
    "    model = sm.Logit(train_y, X_with_const).fit()\n",
    "    # results = model.fit()\n",
    "\n",
    "    print(model.summary())"
   ]
  },
  {
   "cell_type": "code",
   "execution_count": 81,
   "metadata": {},
   "outputs": [
    {
     "name": "stdout",
     "output_type": "stream",
     "text": [
      "Optimization terminated successfully.\n",
      "         Current function value: 0.592192\n",
      "         Iterations 5\n",
      "                           Logit Regression Results                           \n",
      "==============================================================================\n",
      "Dep. Variable:            probability   No. Observations:              1039517\n",
      "Model:                          Logit   Df Residuals:                  1039509\n",
      "Method:                           MLE   Df Model:                            7\n",
      "Date:                Fri, 11 Apr 2025   Pseudo R-squ.:                -0.03717\n",
      "Time:                        14:59:06   Log-Likelihood:            -6.1559e+05\n",
      "converged:                       True   LL-Null:                   -5.9353e+05\n",
      "Covariance Type:            nonrobust   LLR p-value:                     1.000\n",
      "==============================================================================\n",
      "                 coef    std err          z      P>|z|      [0.025      0.975]\n",
      "------------------------------------------------------------------------------\n",
      "const          1.1386      0.036     31.956      0.000       1.069       1.208\n",
      "js_bin        -0.2539      0.038     -6.694      0.000      -0.328      -0.180\n",
      "s_bin         -0.3846      0.036    -10.760      0.000      -0.455      -0.315\n",
      "b_bin         -0.3447      0.036     -9.601      0.000      -0.415      -0.274\n",
      "jb_bin        -0.7444      0.036    -20.497      0.000      -0.816      -0.673\n",
      "ob_bin        -0.5476      0.042    -13.050      0.000      -0.630      -0.465\n",
      "gb_bin        -0.2046      0.019    -11.007      0.000      -0.241      -0.168\n",
      "g_bin          0.0447      0.037      1.217      0.224      -0.027       0.117\n",
      "==============================================================================\n"
     ]
    }
   ],
   "source": [
    "variables = ['js_bin', 's_bin','b_bin', 'jb_bin', 'ob_bin', 'gb_bin', 'g_bin'] # Removed \"os_bin\" and \"gs_bin\" to ensure that collinearity is removed\n",
    "label = [\"probability\"]\n",
    "find_significance(df_features, variables, label[0])"
   ]
  },
  {
   "cell_type": "code",
   "execution_count": 82,
   "metadata": {},
   "outputs": [
    {
     "name": "stdout",
     "output_type": "stream",
     "text": [
      "Optimization terminated successfully.\n",
      "         Current function value: 0.592191\n",
      "         Iterations 5\n",
      "                           Logit Regression Results                           \n",
      "==============================================================================\n",
      "Dep. Variable:            probability   No. Observations:              1039517\n",
      "Model:                          Logit   Df Residuals:                  1039510\n",
      "Method:                           MLE   Df Model:                            6\n",
      "Date:                Fri, 11 Apr 2025   Pseudo R-squ.:                -0.03717\n",
      "Time:                        14:59:15   Log-Likelihood:            -6.1559e+05\n",
      "converged:                       True   LL-Null:                   -5.9353e+05\n",
      "Covariance Type:            nonrobust   LLR p-value:                     1.000\n",
      "==============================================================================\n",
      "                 coef    std err          z      P>|z|      [0.025      0.975]\n",
      "------------------------------------------------------------------------------\n",
      "const          1.1807      0.009    133.970      0.000       1.163       1.198\n",
      "js_bin        -0.2960      0.016    -18.833      0.000      -0.327      -0.265\n",
      "s_bin         -0.4266      0.009    -46.126      0.000      -0.445      -0.408\n",
      "b_bin         -0.3867      0.010    -39.292      0.000      -0.406      -0.367\n",
      "jb_bin        -0.7864      0.011    -69.805      0.000      -0.808      -0.764\n",
      "ob_bin        -0.5897      0.024    -24.720      0.000      -0.636      -0.543\n",
      "gb_bin        -0.2019      0.018    -10.942      0.000      -0.238      -0.166\n",
      "==============================================================================\n"
     ]
    }
   ],
   "source": [
    "variables = ['js_bin', 's_bin','b_bin', 'jb_bin', 'ob_bin', 'gb_bin'] # Removed \"g_bin\" as it is not significant\n",
    "label = [\"probability\"]\n",
    "find_significance(df_features, variables, label[0])"
   ]
  },
  {
   "cell_type": "markdown",
   "metadata": {},
   "source": [
    "### The variables:\n",
    "\n",
    "js_bin: Indicates 1 if it is a J-coded sell 0 otherwise\n",
    "\n",
    "s_bin: Indicates 1 if it is a S-coded sell and trans acquired D 0 otherwise\n",
    "\n",
    "b_bin: Indicates 1 if it is a P-coded buy and trans acquired A 0 otherwise\n",
    "\n",
    "jb_bin: Indicates 1 if it is a J-coded buy 0 otherwise\n",
    "\n",
    "ob_bin: Indicates 1 if it is a non-J non-S non-G coded buy 0 otherwise\n",
    "\n",
    "gb_bin: Indicates 1 if the Trans code is g and trans acquired A 0 otherwise\n"
   ]
  },
  {
   "cell_type": "code",
   "execution_count": 78,
   "metadata": {},
   "outputs": [
    {
     "data": {
      "image/png": "[encoded data removed]",
      "text/plain": [
       "<Figure size 800x600 with 2 Axes>"
      ]
     },
     "metadata": {},
     "output_type": "display_data"
    }
   ],
   "source": [
    "corr = df_features[variables + label].corr(method=\"pearson\")\n",
    "# corr = df_features.corr(method=\"pearson\")\n",
    "plt.figure(figsize=(8, 6))\n",
    "sns.heatmap(corr, annot=True, cmap=\"coolwarm\", fmt=\".2f\", linewidths=0.5)\n",
    "plt.title(\"Feature-Label Correlation Heatmap\")\n",
    "plt.show()"
   ]
  }
 ],
 "metadata": {
  "kernelspec": {
   "display_name": "Python 3",
   "language": "python",
   "name": "python3"
  },
  "language_info": {
   "codemirror_mode": {
    "name": "ipython",
    "version": 3
   },
   "file_extension": ".py",
   "mimetype": "text/x-python",
   "name": "python",
   "nbconvert_exporter": "python",
   "pygments_lexer": "ipython3",
   "version": "3.11.3"
  }
 },
 "nbformat": 4,
 "nbformat_minor": 2
}
