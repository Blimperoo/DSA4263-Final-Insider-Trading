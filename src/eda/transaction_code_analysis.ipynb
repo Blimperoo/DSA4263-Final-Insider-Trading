{
 "cells": [
  {
   "cell_type": "markdown",
   "metadata": {},
   "source": [
    "## We now attempt to find out if the way a SEC filing is done has an effect on the returns"
   ]
  },
  {
   "cell_type": "code",
   "execution_count": null,
   "metadata": {},
   "outputs": [],
   "source": [
    "import pandas as pd\n",
    "import numpy as np\n",
    "import warnings\n",
    "import matplotlib.pyplot as plt\n",
    "import seaborn as sns\n",
    "import re\n",
    "\n",
    "import statsmodels.api as sm\n",
    "\n",
    "from sklearn.model_selection import train_test_split\n",
    "from sklearn.feature_extraction.text import TfidfVectorizer\n",
    "\n",
    "import nltk\n",
    "from nltk.corpus import stopwords\n",
    "from nltk.tokenize import word_tokenize\n",
    "from nltk.stem import WordNetLemmatizer\n",
    "\n",
    "import scipy.stats as stats\n",
    "\n",
    "# Remove warnings to keep outputs clean\n",
    "warnings.filterwarnings(\"ignore\")\n",
    "\n",
    "PROCESSED_DATA_FOLDER = \"../../data_untracked/processed\"\n",
    "ABNORMAL_CSV = \"df_result_with_anomaly_scores.csv\"\n",
    "\n",
    "# COMPILED_DATA_FOLDER = \"../../data_untracked/raw/sec_submissions/compiled\"\n",
    "# FOOTNOTES_CSV = \"FOOTNOTES.csv\""
   ]
  },
  {
   "cell_type": "code",
   "execution_count": 2,
   "metadata": {},
   "outputs": [],
   "source": [
    "# nltk.download('stopwords')\n",
    "# nltk.download('punkt')"
   ]
  },
  {
   "cell_type": "markdown",
   "metadata": {},
   "source": [
    "## Load required datasets\n",
    "1. `df_result_with_anomaly_scores_sig.csv`: Transactions with their Cumulative Abnormal Returns (CAR)\n",
    "2. `FOOTNOTES.csv`: Each transactions with their individual filing comments"
   ]
  },
  {
   "cell_type": "code",
   "execution_count": null,
   "metadata": {},
   "outputs": [
    {
     "name": "stdout",
     "output_type": "stream",
     "text": [
      "Loading data\n"
     ]
    }
   ],
   "source": [
    "abnormal_transactions = pd.read_csv(f'{PROCESSED_DATA_FOLDER}/{ABNORMAL_CSV}')[[\"ACCESSION_NUMBER\", \"TRANS_CODE\", \"TRANS_ACQUIRED_DISP_CD\", \"anomaly_score_30_sig\", \"anomaly_score_60_sig\", \"anomaly_score_120_sig\",]]\n",
    "abnormal_transactions = abnormal_transactions.rename(columns={\"anomaly_score_120_sig\" : \"anomaly_120\",\n",
    "                                                               \"anomaly_score_60_sig\" : \"anomaly_60\",\n",
    "                                                               \"anomaly_score_30_sig\" : \"anomaly_30\"})\n",
    "print(\"Loading data\")"
   ]
  },
  {
   "cell_type": "markdown",
   "metadata": {},
   "source": [
    "___\n",
    "## Feature extraction and engineering\n",
    "___"
   ]
  },
  {
   "cell_type": "code",
   "execution_count": 45,
   "metadata": {},
   "outputs": [
    {
     "data": {
      "application/vnd.microsoft.datawrangler.viewer.v0+json": {
       "columns": [
        {
         "name": "index",
         "rawType": "int64",
         "type": "integer"
        },
        {
         "name": "ACCESSION_NUMBER",
         "rawType": "object",
         "type": "string"
        },
        {
         "name": "TRANS_CODE",
         "rawType": "object",
         "type": "string"
        },
        {
         "name": "TRANS_ACQUIRED_DISP_CD",
         "rawType": "object",
         "type": "string"
        },
        {
         "name": "anomaly_30",
         "rawType": "float64",
         "type": "float"
        },
        {
         "name": "anomaly_60",
         "rawType": "float64",
         "type": "float"
        },
        {
         "name": "anomaly_120",
         "rawType": "float64",
         "type": "float"
        }
       ],
       "conversionMethod": "pd.DataFrame",
       "ref": "033b293b-7145-492b-915d-67bee04ef9a3",
       "rows": [
        [
         "0",
         "0001127602-11-000075",
         "S",
         "D",
         "-4.21832037323795",
         "-7.700075000238566",
         "-12.90501862486007"
        ],
        [
         "1",
         "0001127602-11-002229",
         "S",
         "D",
         "-4.035855991573722",
         "-7.005212589124644",
         "-11.027958001764947"
        ],
        [
         "2",
         "0001127602-11-003431",
         "S",
         "D",
         "-3.801423106910327",
         "-5.029422205864049",
         "-7.327263429600633"
        ],
        [
         "3",
         "0001127602-11-004376",
         "S",
         "D",
         "-3.574647840900525",
         "-5.308863859502881",
         "-9.187093053416913"
        ],
        [
         "4",
         "0001127602-11-005631",
         "S",
         "D",
         "-3.416012241640964",
         "-4.854249804263092",
         "-8.289322141218776"
        ]
       ],
       "shape": {
        "columns": 6,
        "rows": 5
       }
      },
      "text/html": [
       "<div>\n",
       "<style scoped>\n",
       "    .dataframe tbody tr th:only-of-type {\n",
       "        vertical-align: middle;\n",
       "    }\n",
       "\n",
       "    .dataframe tbody tr th {\n",
       "        vertical-align: top;\n",
       "    }\n",
       "\n",
       "    .dataframe thead th {\n",
       "        text-align: right;\n",
       "    }\n",
       "</style>\n",
       "<table border=\"1\" class=\"dataframe\">\n",
       "  <thead>\n",
       "    <tr style=\"text-align: right;\">\n",
       "      <th></th>\n",
       "      <th>ACCESSION_NUMBER</th>\n",
       "      <th>TRANS_CODE</th>\n",
       "      <th>TRANS_ACQUIRED_DISP_CD</th>\n",
       "      <th>anomaly_30</th>\n",
       "      <th>anomaly_60</th>\n",
       "      <th>anomaly_120</th>\n",
       "    </tr>\n",
       "  </thead>\n",
       "  <tbody>\n",
       "    <tr>\n",
       "      <th>0</th>\n",
       "      <td>0001127602-11-000075</td>\n",
       "      <td>S</td>\n",
       "      <td>D</td>\n",
       "      <td>-4.218320</td>\n",
       "      <td>-7.700075</td>\n",
       "      <td>-12.905019</td>\n",
       "    </tr>\n",
       "    <tr>\n",
       "      <th>1</th>\n",
       "      <td>0001127602-11-002229</td>\n",
       "      <td>S</td>\n",
       "      <td>D</td>\n",
       "      <td>-4.035856</td>\n",
       "      <td>-7.005213</td>\n",
       "      <td>-11.027958</td>\n",
       "    </tr>\n",
       "    <tr>\n",
       "      <th>2</th>\n",
       "      <td>0001127602-11-003431</td>\n",
       "      <td>S</td>\n",
       "      <td>D</td>\n",
       "      <td>-3.801423</td>\n",
       "      <td>-5.029422</td>\n",
       "      <td>-7.327263</td>\n",
       "    </tr>\n",
       "    <tr>\n",
       "      <th>3</th>\n",
       "      <td>0001127602-11-004376</td>\n",
       "      <td>S</td>\n",
       "      <td>D</td>\n",
       "      <td>-3.574648</td>\n",
       "      <td>-5.308864</td>\n",
       "      <td>-9.187093</td>\n",
       "    </tr>\n",
       "    <tr>\n",
       "      <th>4</th>\n",
       "      <td>0001127602-11-005631</td>\n",
       "      <td>S</td>\n",
       "      <td>D</td>\n",
       "      <td>-3.416012</td>\n",
       "      <td>-4.854250</td>\n",
       "      <td>-8.289322</td>\n",
       "    </tr>\n",
       "  </tbody>\n",
       "</table>\n",
       "</div>"
      ],
      "text/plain": [
       "       ACCESSION_NUMBER TRANS_CODE TRANS_ACQUIRED_DISP_CD  anomaly_30  \\\n",
       "0  0001127602-11-000075          S                      D   -4.218320   \n",
       "1  0001127602-11-002229          S                      D   -4.035856   \n",
       "2  0001127602-11-003431          S                      D   -3.801423   \n",
       "3  0001127602-11-004376          S                      D   -3.574648   \n",
       "4  0001127602-11-005631          S                      D   -3.416012   \n",
       "\n",
       "   anomaly_60  anomaly_120  \n",
       "0   -7.700075   -12.905019  \n",
       "1   -7.005213   -11.027958  \n",
       "2   -5.029422    -7.327263  \n",
       "3   -5.308864    -9.187093  \n",
       "4   -4.854250    -8.289322  "
      ]
     },
     "execution_count": 45,
     "metadata": {},
     "output_type": "execute_result"
    }
   ],
   "source": [
    "abnormal_transactions.head()"
   ]
  },
  {
   "cell_type": "code",
   "execution_count": 156,
   "metadata": {},
   "outputs": [
    {
     "data": {
      "text/plain": [
       "791687"
      ]
     },
     "execution_count": 156,
     "metadata": {},
     "output_type": "execute_result"
    }
   ],
   "source": [
    "abnormal_transactions[\"TRANS_ACQUIRED_DISP_CD\"].count()"
   ]
  },
  {
   "cell_type": "code",
   "execution_count": 227,
   "metadata": {},
   "outputs": [],
   "source": [
    "df_features = abnormal_transactions.copy()\n",
    "\n",
    "## Flip the signs if its sell\n",
    "# df_features[\"anomaly_30\"] = np.where(df_features[\"TRANS_ACQUIRED_DISP_CD\"].str.upper() == \"D\", -1 * df_features[\"anomaly_30\"], df_features[\"anomaly_30\"])\n",
    "# df_features[\"anomaly_60\"] = np.where(df_features[\"TRANS_ACQUIRED_DISP_CD\"].str.upper() == \"D\", -1 * df_features[\"anomaly_60\"], df_features[\"anomaly_60\"])\n",
    "# df_features[\"anomaly_120\"] = np.where(df_features[\"TRANS_ACQUIRED_DISP_CD\"].str.upper() == \"D\", -1 * df_features[\"anomaly_120\"], df_features[\"anomaly_120\"])\n",
    "\n",
    "## Create a binary variable to extract Transcode = J\n",
    "df_features[\"j_bin\"] = np.where(df_features[\"TRANS_CODE\"].str.upper() == \"J\", 1, 0)\n",
    "\n",
    "## Create a binary variable to extract Transcode = J and Trans Acquired = D which means J code and sell\n",
    "df_features[\"js_bin\"] = np.where((df_features[\"TRANS_ACQUIRED_DISP_CD\"].str.upper() == \"D\") & (df_features[\"TRANS_CODE\"].str.upper() == \"J\"), 1, 0)\n",
    "\n",
    "## Create a binary variable to extract Transcode = J and Trans Acquired = A which means J code and buy\n",
    "df_features[\"jb_bin\"] = np.where((df_features[\"TRANS_ACQUIRED_DISP_CD\"].str.upper() == \"A\") & (df_features[\"TRANS_CODE\"].str.upper() == \"J\"), 1, 0)\n",
    "\n",
    "## Create a binary variable to extract Transcode = S which is sell\n",
    "df_features[\"s_bin\"] = np.where(df_features[\"TRANS_CODE\"].str.upper() == \"S\", 1, 0)\n",
    "\n",
    "## Create a binary variable to extract Transcode = S which is sell\n",
    "df_features[\"b_bin\"] = np.where(df_features[\"TRANS_CODE\"].str.upper() == \"P\", 1, 0)\n",
    "\n",
    "## Create a binary variable to extract Transcode Not J or S but Trans Acquired = D which is sell but non S or J coded\n",
    "df_features[\"os_bin\"] = np.where((~df_features[\"TRANS_CODE\"].str.upper().isin([\"S\", \"J\"])) & (df_features[\"TRANS_ACQUIRED_DISP_CD\"].str.upper() == \"D\"), 1, 0)\n",
    "\n",
    "## Create a binary variable to extract Transcode Not J or P but Trans Acquired = A which is buy but non P or J coded\n",
    "df_features[\"ob_bin\"] = np.where((~df_features[\"TRANS_CODE\"].str.upper().isin([\"P\", \"J\"])) & (df_features[\"TRANS_ACQUIRED_DISP_CD\"].str.upper() == \"A\"), 1, 0)"
   ]
  },
  {
   "cell_type": "code",
   "execution_count": 228,
   "metadata": {},
   "outputs": [
    {
     "name": "stdout",
     "output_type": "stream",
     "text": [
      "rows with binary j: 35785\n",
      "rows with binary j and sell: 3082 \t rows with regular sell: 613936 \t rows with non-regular sell: 794\n",
      "rows with binary j and buy: 32703 \t rows with regular buy: 139351 \t\t rows with non-regular buy: 1821\n"
     ]
    }
   ],
   "source": [
    "print(f'rows with binary j: {sum(df_features[\"j_bin\"])}')\n",
    "print(f'rows with binary j and sell: {sum(df_features[\"js_bin\"])} \\t rows with regular sell: {sum(df_features[\"s_bin\"])} \\t rows with non-regular sell: {sum(df_features[\"os_bin\"])}')\n",
    "print(f'rows with binary j and buy: {sum(df_features[\"jb_bin\"])} \\t rows with regular buy: {sum(df_features[\"b_bin\"])} \\t\\t rows with non-regular buy: {sum(df_features[\"ob_bin\"])}')\n"
   ]
  },
  {
   "cell_type": "code",
   "execution_count": 229,
   "metadata": {},
   "outputs": [
    {
     "name": "stdout",
     "output_type": "stream",
     "text": [
      "All cases accounted for: True\n"
     ]
    }
   ],
   "source": [
    "total_sell = sum(df_features[\"js_bin\"]) + sum(df_features[\"s_bin\"]) + sum(df_features[\"os_bin\"])\n",
    "total_buy = sum(df_features[\"jb_bin\"]) + sum(df_features[\"b_bin\"]) + sum(df_features[\"ob_bin\"])\n",
    "print(f\"All cases accounted for: {len(df_features) == total_sell + total_buy}\")"
   ]
  },
  {
   "cell_type": "markdown",
   "metadata": {},
   "source": [
    "___\n",
    "## Comparison\n",
    "___"
   ]
  },
  {
   "cell_type": "code",
   "execution_count": 230,
   "metadata": {},
   "outputs": [],
   "source": [
    "metrics = [\n",
    "    \"anomaly_30\", \"anomaly_60\", \"anomaly_120\"\n",
    "]"
   ]
  },
  {
   "cell_type": "code",
   "execution_count": 231,
   "metadata": {},
   "outputs": [],
   "source": [
    "##################################\n",
    "# Define functions\n",
    "##################################\n",
    "\n",
    "def compare_complement(df, col, metrics):\n",
    "    split_1 = df[df[col] == 1]\n",
    "    split_2 = df[df[col] != 1]\n",
    "    \n",
    "    for metric in metrics:\n",
    "        A = split_1[metric].dropna()\n",
    "        \n",
    "        # print(A)\n",
    "        B = split_2[metric].dropna()\n",
    "        t_stat, p_val = stats.ttest_ind(A, B, equal_var=False)\n",
    "        sign = \"negative\" if t_stat < 0 else \"positive\"\n",
    "        print(f\"{metric}: is more {sign} when {col} is separated\\n\" \n",
    "              f\"t-statistic = {t_stat}, p-value = {p_val}\\n\"\n",
    "              f\"mean {col} = {np.mean(A)}, mean {col} complement = {np.mean(B)}\\n\")\n",
    "        \n",
    "    print(f\"{col}: n = {len(A)}, {col} complement: n = {len(B)}\")\n",
    "\n",
    "def compare_columns(df, col1, col2, metrics):\n",
    "    split_1 = df[df[col1] == 1]\n",
    "    split_2 = df[df[col2] == 1]\n",
    "    \n",
    "    for metric in metrics:\n",
    "        A = split_1[metric].dropna()\n",
    "        \n",
    "        # print(A)\n",
    "        B = split_2[metric].dropna()\n",
    "        t_stat, p_val = stats.ttest_ind(A, B, equal_var=False)\n",
    "        sign = \"negative\" if t_stat < 0 else \"positive\"\n",
    "        print(f\"{metric}: is more {sign} when {col1} compared to {col2}\\n\" \n",
    "              f\"t-statistic = {t_stat}, p-value = {p_val}\\n\"\n",
    "              f\"mean {col1} = {np.mean(A)}, mean {col2} = {np.mean(B)}\\n\")\n",
    "    print(f\"{col1}: n = {len(A)}, {col2} : n = {len(B)}\")\n",
    "    "
   ]
  },
  {
   "cell_type": "code",
   "execution_count": 232,
   "metadata": {},
   "outputs": [
    {
     "name": "stdout",
     "output_type": "stream",
     "text": [
      "anomaly_30: is more negative when j_bin is separated\n",
      "t-statistic = -19.502858223630998, p-value = 2.6926491252973437e-84\n",
      "mean j_bin = -4.940842239683503, mean j_bin complement = -2.010664534267951\n",
      "\n",
      "anomaly_60: is more negative when j_bin is separated\n",
      "t-statistic = -18.45380801171215, p-value = 1.0444830060206295e-75\n",
      "mean j_bin = -9.363042599715834, mean j_bin complement = -3.911300535771447\n",
      "\n",
      "anomaly_120: is more negative when j_bin is separated\n",
      "t-statistic = -18.166109258970184, p-value = 1.961994725336045e-73\n",
      "mean j_bin = -17.348050060771577, mean j_bin complement = -6.939656244339847\n",
      "\n",
      "j_bin: n = 34501, j_bin complement: n = 730014\n"
     ]
    }
   ],
   "source": [
    "## The inclusion of j code is significant to the anomaly level at 0.05 level\n",
    "compare_complement(df_features, \"j_bin\", metrics)"
   ]
  },
  {
   "cell_type": "markdown",
   "metadata": {},
   "source": [
    "## Compare sells"
   ]
  },
  {
   "cell_type": "code",
   "execution_count": 233,
   "metadata": {},
   "outputs": [
    {
     "name": "stdout",
     "output_type": "stream",
     "text": [
      "anomaly_30: is more negative when s_bin compared to os_bin\n",
      "t-statistic = -7.170741796007411, p-value = 1.7338687568896564e-12\n",
      "mean s_bin = -0.2479462969715044, mean os_bin = 8.57114379802289\n",
      "\n",
      "anomaly_60: is more negative when s_bin compared to os_bin\n",
      "t-statistic = -7.188991582498718, p-value = 1.5282445841536905e-12\n",
      "mean s_bin = -0.43991084129205793, mean os_bin = 16.92560442611971\n",
      "\n",
      "anomaly_120: is more negative when s_bin compared to os_bin\n",
      "t-statistic = -7.047914762203293, p-value = 3.9950846683005845e-12\n",
      "mean s_bin = -0.15515792730261946, mean os_bin = 32.72410391794493\n",
      "\n",
      "s_bin: n = 600046, os_bin : n = 781\n"
     ]
    }
   ],
   "source": [
    "##################################\n",
    "# Compare Regular Sell to other-coded Sell\n",
    "##################################\n",
    "\n",
    "compare_columns(df_features, \"s_bin\", \"os_bin\", metrics)"
   ]
  },
  {
   "cell_type": "code",
   "execution_count": 234,
   "metadata": {},
   "outputs": [
    {
     "name": "stdout",
     "output_type": "stream",
     "text": [
      "anomaly_30: is more negative when s_bin compared to js_bin\n",
      "t-statistic = -12.65636129493951, p-value = 9.146885826099802e-36\n",
      "mean s_bin = -0.2479462969715044, mean js_bin = 6.07492006275562\n",
      "\n",
      "anomaly_60: is more negative when s_bin compared to js_bin\n",
      "t-statistic = -13.03806432991146, p-value = 8.589966121164844e-38\n",
      "mean s_bin = -0.43991084129205793, mean js_bin = 12.328695939656926\n",
      "\n",
      "anomaly_120: is more negative when s_bin compared to js_bin\n",
      "t-statistic = -13.22384294907916, p-value = 8.430146805815766e-39\n",
      "mean s_bin = -0.15515792730261946, mean js_bin = 25.136525575489028\n",
      "\n",
      "s_bin: n = 600046, js_bin : n = 2859\n"
     ]
    }
   ],
   "source": [
    "##################################\n",
    "# Compare Regular Sell to J-coded Sell\n",
    "##################################\n",
    "\n",
    "compare_columns(df_features, \"s_bin\", \"js_bin\", metrics)"
   ]
  },
  {
   "cell_type": "markdown",
   "metadata": {},
   "source": [
    "### J-Coded sells does not have significance compared to Other-Coded sells"
   ]
  },
  {
   "cell_type": "code",
   "execution_count": 235,
   "metadata": {},
   "outputs": [
    {
     "name": "stdout",
     "output_type": "stream",
     "text": [
      "anomaly_30: is more negative when js_bin compared to os_bin\n",
      "t-statistic = -1.8815691273408996, p-value = 0.06017139863219919\n",
      "mean js_bin = 6.07492006275562, mean os_bin = 8.57114379802289\n",
      "\n",
      "anomaly_60: is more negative when js_bin compared to os_bin\n",
      "t-statistic = -1.7646452435802311, p-value = 0.07791444836459688\n",
      "mean js_bin = 12.328695939656926, mean os_bin = 16.92560442611971\n",
      "\n",
      "anomaly_120: is more negative when js_bin compared to os_bin\n",
      "t-statistic = -1.5057921143951314, p-value = 0.13241985120185348\n",
      "mean js_bin = 25.136525575489028, mean os_bin = 32.72410391794493\n",
      "\n",
      "js_bin: n = 2859, os_bin : n = 781\n"
     ]
    }
   ],
   "source": [
    "##################################\n",
    "# Compare J-coded Sell to Others-sell \n",
    "##################################\n",
    "\n",
    "compare_columns(df_features, \"js_bin\", \"os_bin\", metrics)"
   ]
  },
  {
   "cell_type": "markdown",
   "metadata": {},
   "source": [
    "## Compare buys"
   ]
  },
  {
   "cell_type": "code",
   "execution_count": 236,
   "metadata": {},
   "outputs": [
    {
     "name": "stdout",
     "output_type": "stream",
     "text": [
      "anomaly_30: is more negative when b_bin compared to jb_bin\n",
      "t-statistic = -23.587697284960093, p-value = 1.6972315412042312e-122\n",
      "mean b_bin = -10.29148529763409, mean jb_bin = -5.9348794908734925\n",
      "\n",
      "anomaly_60: is more negative when b_bin compared to jb_bin\n",
      "t-statistic = -24.444013584450996, p-value = 2.321659280843773e-131\n",
      "mean b_bin = -20.183002613500083, mean jb_bin = -11.32097163712962\n",
      "\n",
      "anomaly_120: is more negative when b_bin compared to jb_bin\n",
      "t-statistic = -24.90222094431647, p-value = 3.1327646849473786e-136\n",
      "mean b_bin = -38.65480213394195, mean jb_bin = -21.186726558593122\n",
      "\n",
      "b_bin: n = 127397, jb_bin : n = 31642\n"
     ]
    }
   ],
   "source": [
    "##################################\n",
    "# Compare Regular Buy to J-coded Buy\n",
    "##################################\n",
    "\n",
    "compare_columns(df_features, \"b_bin\", \"jb_bin\", metrics)"
   ]
  },
  {
   "cell_type": "code",
   "execution_count": 237,
   "metadata": {},
   "outputs": [
    {
     "name": "stdout",
     "output_type": "stream",
     "text": [
      "anomaly_30: is more positive when b_bin compared to ob_bin\n",
      "t-statistic = 0.9558593880556865, p-value = 0.33926596416154087\n",
      "mean b_bin = -10.29148529763409, mean ob_bin = -10.916689038099607\n",
      "\n",
      "anomaly_60: is more positive when b_bin compared to ob_bin\n",
      "t-statistic = 1.6576403401173525, p-value = 0.09755651585333587\n",
      "mean b_bin = -20.183002613500083, mean ob_bin = -22.285869912451833\n",
      "\n",
      "anomaly_120: is more positive when b_bin compared to ob_bin\n",
      "t-statistic = 1.1432595614445478, p-value = 0.25307530075859463\n",
      "mean b_bin = -38.65480213394195, mean ob_bin = -41.33855732480276\n",
      "\n",
      "b_bin: n = 127397, ob_bin : n = 1790\n"
     ]
    }
   ],
   "source": [
    "##################################\n",
    "# Compare Regular Buy to other-coded Buy\n",
    "##################################\n",
    "\n",
    "compare_columns(df_features, \"b_bin\", \"ob_bin\", metrics)"
   ]
  },
  {
   "cell_type": "code",
   "execution_count": 238,
   "metadata": {},
   "outputs": [
    {
     "name": "stdout",
     "output_type": "stream",
     "text": [
      "anomaly_30: is more positive when j_bin compared to ob_bin\n",
      "t-statistic = 9.02572257479336, p-value = 4.122309592292695e-19\n",
      "mean j_bin = -4.940842239683503, mean ob_bin = -10.916689038099607\n",
      "\n",
      "anomaly_60: is more positive when j_bin compared to ob_bin\n",
      "t-statistic = 10.05815012711405, p-value = 3.02074827555912e-23\n",
      "mean j_bin = -9.363042599715834, mean ob_bin = -22.285869912451833\n",
      "\n",
      "anomaly_120: is more positive when j_bin compared to ob_bin\n",
      "t-statistic = 10.076731742426125, p-value = 2.490875140994702e-23\n",
      "mean j_bin = -17.348050060771577, mean ob_bin = -41.33855732480276\n",
      "\n",
      "j_bin: n = 34501, ob_bin : n = 1790\n"
     ]
    }
   ],
   "source": [
    "##################################\n",
    "# Compare J-coded Buy to other-coded Buy\n",
    "##################################\n",
    "\n",
    "compare_columns(df_features, \"j_bin\", \"ob_bin\", metrics)"
   ]
  },
  {
   "cell_type": "markdown",
   "metadata": {},
   "source": [
    "### Sell\n",
    "Propose to split sell into 2 Features: Regular sell and non-regular sell (Includes J and the rest except S)\n",
    "\n",
    "### Buy\n",
    "Propose to split sell into 2 Features: J-coded buy and non J-coded buy (Includes P and the rest except J)\n",
    "\n",
    "Possibly another variable for the significance "
   ]
  },
  {
   "cell_type": "markdown",
   "metadata": {},
   "source": [
    "___\n",
    "## Checking significance in model\n",
    "___"
   ]
  },
  {
   "cell_type": "code",
   "execution_count": 239,
   "metadata": {},
   "outputs": [
    {
     "data": {
      "application/vnd.microsoft.datawrangler.viewer.v0+json": {
       "columns": [
        {
         "name": "index",
         "rawType": "int64",
         "type": "integer"
        },
        {
         "name": "ACCESSION_NUMBER",
         "rawType": "object",
         "type": "string"
        },
        {
         "name": "TRANS_CODE",
         "rawType": "object",
         "type": "string"
        },
        {
         "name": "TRANS_ACQUIRED_DISP_CD",
         "rawType": "object",
         "type": "string"
        },
        {
         "name": "anomaly_30",
         "rawType": "float64",
         "type": "float"
        },
        {
         "name": "anomaly_60",
         "rawType": "float64",
         "type": "float"
        },
        {
         "name": "anomaly_120",
         "rawType": "float64",
         "type": "float"
        },
        {
         "name": "j_bin",
         "rawType": "int32",
         "type": "integer"
        },
        {
         "name": "js_bin",
         "rawType": "int32",
         "type": "integer"
        },
        {
         "name": "jb_bin",
         "rawType": "int32",
         "type": "integer"
        },
        {
         "name": "s_bin",
         "rawType": "int32",
         "type": "integer"
        },
        {
         "name": "b_bin",
         "rawType": "int32",
         "type": "integer"
        },
        {
         "name": "os_bin",
         "rawType": "int32",
         "type": "integer"
        },
        {
         "name": "ob_bin",
         "rawType": "int32",
         "type": "integer"
        }
       ],
       "conversionMethod": "pd.DataFrame",
       "ref": "56e119a9-0ecc-4438-afb3-40f5c7075f4e",
       "rows": [
        [
         "0",
         "0001127602-11-000075",
         "S",
         "D",
         "-4.21832037323795",
         "-7.700075000238566",
         "-12.90501862486007",
         "0",
         "0",
         "0",
         "1",
         "0",
         "0",
         "0"
        ],
        [
         "1",
         "0001127602-11-002229",
         "S",
         "D",
         "-4.035855991573722",
         "-7.005212589124644",
         "-11.027958001764947",
         "0",
         "0",
         "0",
         "1",
         "0",
         "0",
         "0"
        ],
        [
         "2",
         "0001127602-11-003431",
         "S",
         "D",
         "-3.801423106910327",
         "-5.029422205864049",
         "-7.327263429600633",
         "0",
         "0",
         "0",
         "1",
         "0",
         "0",
         "0"
        ],
        [
         "3",
         "0001127602-11-004376",
         "S",
         "D",
         "-3.574647840900525",
         "-5.308863859502881",
         "-9.187093053416913",
         "0",
         "0",
         "0",
         "1",
         "0",
         "0",
         "0"
        ],
        [
         "4",
         "0001127602-11-005631",
         "S",
         "D",
         "-3.416012241640964",
         "-4.854249804263092",
         "-8.289322141218776",
         "0",
         "0",
         "0",
         "1",
         "0",
         "0",
         "0"
        ]
       ],
       "shape": {
        "columns": 13,
        "rows": 5
       }
      },
      "text/html": [
       "<div>\n",
       "<style scoped>\n",
       "    .dataframe tbody tr th:only-of-type {\n",
       "        vertical-align: middle;\n",
       "    }\n",
       "\n",
       "    .dataframe tbody tr th {\n",
       "        vertical-align: top;\n",
       "    }\n",
       "\n",
       "    .dataframe thead th {\n",
       "        text-align: right;\n",
       "    }\n",
       "</style>\n",
       "<table border=\"1\" class=\"dataframe\">\n",
       "  <thead>\n",
       "    <tr style=\"text-align: right;\">\n",
       "      <th></th>\n",
       "      <th>ACCESSION_NUMBER</th>\n",
       "      <th>TRANS_CODE</th>\n",
       "      <th>TRANS_ACQUIRED_DISP_CD</th>\n",
       "      <th>anomaly_30</th>\n",
       "      <th>anomaly_60</th>\n",
       "      <th>anomaly_120</th>\n",
       "      <th>j_bin</th>\n",
       "      <th>js_bin</th>\n",
       "      <th>jb_bin</th>\n",
       "      <th>s_bin</th>\n",
       "      <th>b_bin</th>\n",
       "      <th>os_bin</th>\n",
       "      <th>ob_bin</th>\n",
       "    </tr>\n",
       "  </thead>\n",
       "  <tbody>\n",
       "    <tr>\n",
       "      <th>0</th>\n",
       "      <td>0001127602-11-000075</td>\n",
       "      <td>S</td>\n",
       "      <td>D</td>\n",
       "      <td>-4.218320</td>\n",
       "      <td>-7.700075</td>\n",
       "      <td>-12.905019</td>\n",
       "      <td>0</td>\n",
       "      <td>0</td>\n",
       "      <td>0</td>\n",
       "      <td>1</td>\n",
       "      <td>0</td>\n",
       "      <td>0</td>\n",
       "      <td>0</td>\n",
       "    </tr>\n",
       "    <tr>\n",
       "      <th>1</th>\n",
       "      <td>0001127602-11-002229</td>\n",
       "      <td>S</td>\n",
       "      <td>D</td>\n",
       "      <td>-4.035856</td>\n",
       "      <td>-7.005213</td>\n",
       "      <td>-11.027958</td>\n",
       "      <td>0</td>\n",
       "      <td>0</td>\n",
       "      <td>0</td>\n",
       "      <td>1</td>\n",
       "      <td>0</td>\n",
       "      <td>0</td>\n",
       "      <td>0</td>\n",
       "    </tr>\n",
       "    <tr>\n",
       "      <th>2</th>\n",
       "      <td>0001127602-11-003431</td>\n",
       "      <td>S</td>\n",
       "      <td>D</td>\n",
       "      <td>-3.801423</td>\n",
       "      <td>-5.029422</td>\n",
       "      <td>-7.327263</td>\n",
       "      <td>0</td>\n",
       "      <td>0</td>\n",
       "      <td>0</td>\n",
       "      <td>1</td>\n",
       "      <td>0</td>\n",
       "      <td>0</td>\n",
       "      <td>0</td>\n",
       "    </tr>\n",
       "    <tr>\n",
       "      <th>3</th>\n",
       "      <td>0001127602-11-004376</td>\n",
       "      <td>S</td>\n",
       "      <td>D</td>\n",
       "      <td>-3.574648</td>\n",
       "      <td>-5.308864</td>\n",
       "      <td>-9.187093</td>\n",
       "      <td>0</td>\n",
       "      <td>0</td>\n",
       "      <td>0</td>\n",
       "      <td>1</td>\n",
       "      <td>0</td>\n",
       "      <td>0</td>\n",
       "      <td>0</td>\n",
       "    </tr>\n",
       "    <tr>\n",
       "      <th>4</th>\n",
       "      <td>0001127602-11-005631</td>\n",
       "      <td>S</td>\n",
       "      <td>D</td>\n",
       "      <td>-3.416012</td>\n",
       "      <td>-4.854250</td>\n",
       "      <td>-8.289322</td>\n",
       "      <td>0</td>\n",
       "      <td>0</td>\n",
       "      <td>0</td>\n",
       "      <td>1</td>\n",
       "      <td>0</td>\n",
       "      <td>0</td>\n",
       "      <td>0</td>\n",
       "    </tr>\n",
       "  </tbody>\n",
       "</table>\n",
       "</div>"
      ],
      "text/plain": [
       "       ACCESSION_NUMBER TRANS_CODE TRANS_ACQUIRED_DISP_CD  anomaly_30  \\\n",
       "0  0001127602-11-000075          S                      D   -4.218320   \n",
       "1  0001127602-11-002229          S                      D   -4.035856   \n",
       "2  0001127602-11-003431          S                      D   -3.801423   \n",
       "3  0001127602-11-004376          S                      D   -3.574648   \n",
       "4  0001127602-11-005631          S                      D   -3.416012   \n",
       "\n",
       "   anomaly_60  anomaly_120  j_bin  js_bin  jb_bin  s_bin  b_bin  os_bin  \\\n",
       "0   -7.700075   -12.905019      0       0       0      1      0       0   \n",
       "1   -7.005213   -11.027958      0       0       0      1      0       0   \n",
       "2   -5.029422    -7.327263      0       0       0      1      0       0   \n",
       "3   -5.308864    -9.187093      0       0       0      1      0       0   \n",
       "4   -4.854250    -8.289322      0       0       0      1      0       0   \n",
       "\n",
       "   ob_bin  \n",
       "0       0  \n",
       "1       0  \n",
       "2       0  \n",
       "3       0  \n",
       "4       0  "
      ]
     },
     "execution_count": 239,
     "metadata": {},
     "output_type": "execute_result"
    }
   ],
   "source": [
    "df_features.head()"
   ]
  },
  {
   "cell_type": "code",
   "execution_count": null,
   "metadata": {},
   "outputs": [
    {
     "name": "stdout",
     "output_type": "stream",
     "text": [
      "Check correctness\n",
      "Sell: True\n",
      "Buy: True\n"
     ]
    }
   ],
   "source": [
    "df_features[\"regular_sell_bin\"] = df_features[\"s_bin\"]\n",
    "df_features[\"non_regular_sell_bin\"] = df_features[\"js_bin\"] | df_features[\"os_bin\"]\n",
    "\n",
    "df_features[\"j_buy\"] = df_features[\"jb_bin\"]\n",
    "df_features[\"non_j_buy_bin\"] = df_features[\"b_bin\"] | df_features[\"ob_bin\"]\n",
    "\n",
    "columns_to_keep = [\n",
    "    \"regular_sell_bin\", \"non_regular_sell_bin\", \"j_buy\", \"non_j_buy_bin\",\n",
    "    \"anomaly_30\", \"anomaly_60\", \"anomaly_120\"\n",
    "]\n",
    "\n",
    "df_new_features = df_features.copy()\n",
    "df_new_features = df_new_features[columns_to_keep]\n",
    "\n",
    "print(f\"Check correctness\\n\"\n",
    "      f'Sell: {sum(df_new_features[\"regular_sell_bin\"]) + sum(df_new_features[\"non_regular_sell_bin\"]) == sum(df_features[\"TRANS_ACQUIRED_DISP_CD\"]==\"D\")}\\n'\n",
    "      f'Buy: {sum(df_new_features[\"j_buy\"]) + sum(df_new_features[\"non_j_buy_bin\"]) == sum(df_features[\"TRANS_ACQUIRED_DISP_CD\"]==\"A\")}')"
   ]
  },
  {
   "cell_type": "code",
   "execution_count": 241,
   "metadata": {},
   "outputs": [],
   "source": [
    "def find_significance(data, columns, label):\n",
    "    data = data.dropna(subset=[label])\n",
    "    X = data[columns]\n",
    "    y = data[label]\n",
    "    train_x, test_x, train_y, test_y = train_test_split(X, y, test_size=0.2, random_state=123)\n",
    "    X_with_const = sm.add_constant(train_x)\n",
    "    model = sm.OLS(train_y, X_with_const)\n",
    "    results = model.fit()\n",
    "\n",
    "    print(results.summary())"
   ]
  },
  {
   "cell_type": "code",
   "execution_count": 242,
   "metadata": {},
   "outputs": [],
   "source": [
    "variables = [\"regular_sell_bin\", \"non_regular_sell_bin\", \"j_buy\", \"non_j_buy_bin\"]\n",
    "label = [\"anomaly_30\", \"anomaly_60\", \"anomaly_120\"]"
   ]
  },
  {
   "cell_type": "code",
   "execution_count": 243,
   "metadata": {},
   "outputs": [
    {
     "name": "stdout",
     "output_type": "stream",
     "text": [
      "                            OLS Regression Results                            \n",
      "==============================================================================\n",
      "Dep. Variable:             anomaly_60   R-squared:                       0.020\n",
      "Model:                            OLS   Adj. R-squared:                  0.020\n",
      "Method:                 Least Squares   F-statistic:                     3070.\n",
      "Date:                Mon, 24 Mar 2025   Prob (F-statistic):               0.00\n",
      "Time:                        12:42:37   Log-Likelihood:            -3.2818e+06\n",
      "No. Observations:              607382   AIC:                         6.564e+06\n",
      "Df Residuals:                  607377   BIC:                         6.564e+06\n",
      "Df Model:                           4                                         \n",
      "Covariance Type:            nonrobust                                         \n",
      "========================================================================================\n",
      "                           coef    std err          t      P>|t|      [0.025      0.975]\n",
      "----------------------------------------------------------------------------------------\n",
      "const                -5.425e+11   1.67e+11     -3.248      0.001    -8.7e+11   -2.15e+11\n",
      "regular_sell_bin      5.425e+11   1.67e+11      3.248      0.001    2.15e+11     8.7e+11\n",
      "non_regular_sell_bin  5.425e+11   1.67e+11      3.248      0.001    2.15e+11     8.7e+11\n",
      "j_buy                 5.425e+11   1.67e+11      3.248      0.001    2.15e+11     8.7e+11\n",
      "non_j_buy_bin         5.425e+11   1.67e+11      3.248      0.001    2.15e+11     8.7e+11\n",
      "==============================================================================\n",
      "Omnibus:                   143172.131   Durbin-Watson:                   1.997\n",
      "Prob(Omnibus):                  0.000   Jarque-Bera (JB):          8214395.372\n",
      "Skew:                          -0.148   Prob(JB):                         0.00\n",
      "Kurtosis:                      21.014   Cond. No.                     7.05e+12\n",
      "==============================================================================\n",
      "\n",
      "Notes:\n",
      "[1] Standard Errors assume that the covariance matrix of the errors is correctly specified.\n",
      "[2] The smallest eigenvalue is 2.07e-20. This might indicate that there are\n",
      "strong multicollinearity problems or that the design matrix is singular.\n"
     ]
    }
   ],
   "source": [
    "find_significance(df_new_features, variables, label[1])"
   ]
  },
  {
   "cell_type": "code",
   "execution_count": 244,
   "metadata": {},
   "outputs": [
    {
     "ename": "NameError",
     "evalue": "name 'train_x' is not defined",
     "output_type": "error",
     "traceback": [
      "\u001b[1;31m---------------------------------------------------------------------------\u001b[0m",
      "\u001b[1;31mNameError\u001b[0m                                 Traceback (most recent call last)",
      "Cell \u001b[1;32mIn[244], line 5\u001b[0m\n\u001b[0;32m      2\u001b[0m \u001b[38;5;28;01mimport\u001b[39;00m \u001b[38;5;21;01mnumpy\u001b[39;00m \u001b[38;5;28;01mas\u001b[39;00m \u001b[38;5;21;01mnp\u001b[39;00m\n\u001b[0;32m      4\u001b[0m \u001b[38;5;66;03m# Example Data (same as before)\u001b[39;00m\n\u001b[1;32m----> 5\u001b[0m X \u001b[38;5;241m=\u001b[39m  \u001b[43mtrain_x\u001b[49m \u001b[38;5;66;03m# Feature (independent variable)\u001b[39;00m\n\u001b[0;32m      6\u001b[0m y \u001b[38;5;241m=\u001b[39m  train_y   \u001b[38;5;66;03m# Target (dependent variable)\u001b[39;00m\n\u001b[0;32m      8\u001b[0m \u001b[38;5;66;03m# Add a constant (intercept) term to the feature matrix\u001b[39;00m\n",
      "\u001b[1;31mNameError\u001b[0m: name 'train_x' is not defined"
     ]
    }
   ],
   "source": [
    "import statsmodels.api as sm\n",
    "import numpy as np\n",
    "\n",
    "# Example Data (same as before)\n",
    "X =  train_x # Feature (independent variable)\n",
    "y =  train_y   # Target (dependent variable)\n",
    "\n",
    "# Add a constant (intercept) term to the feature matrix\n",
    "X_with_const = sm.add_constant(X)\n",
    "\n",
    "# Fit the OLS (Ordinary Least Squares) model\n",
    "model = sm.OLS(y, X_with_const)\n",
    "results = model.fit()\n",
    "\n",
    "# Print the summary of the model\n",
    "print(results.summary())"
   ]
  },
  {
   "cell_type": "markdown",
   "metadata": {},
   "source": [
    "### Propose a further of splitting of J to J-buy and J-sell, Reg-Buy and Reg-Sell, Other-Buy and Other-sell"
   ]
  },
  {
   "cell_type": "code",
   "execution_count": null,
   "metadata": {},
   "outputs": [],
   "source": [
    "# df_footnote = footnotes.copy()\n",
    "# df_footnote = df_footnote.sort_values(by=[\"ACCESSION_NUMBER\", \"FOOTNOTE_ID\"])\n",
    "# df_footnote[\"FOOTNOTE_TXT\"] = df_footnote[\"FOOTNOTE_TXT\"].astype(str)\n",
    "# df_grouped = df_footnote.groupby(\"ACCESSION_NUMBER\", sort=True)[\"FOOTNOTE_TXT\"].apply(lambda x: \" \".join(x)).reset_index()\n",
    "# df_grouped"
   ]
  },
  {
   "cell_type": "code",
   "execution_count": null,
   "metadata": {},
   "outputs": [],
   "source": [
    "# df_footnote_combined = pd.merge(abnormal_transactions, df_grouped, how = \"left\", left_on = \"ACCESSION_NUMBER\", right_on = \"ACCESSION_NUMBER\")\n",
    "# df_footnote_combined.head()"
   ]
  },
  {
   "cell_type": "code",
   "execution_count": null,
   "metadata": {},
   "outputs": [],
   "source": [
    "# df_footnote_combined = df_footnote_combined[df_footnote_combined[\"FOOTNOTE_TXT\"].notnull()]\n",
    "# df_footnote_combined.head()"
   ]
  },
  {
   "cell_type": "markdown",
   "metadata": {},
   "source": [
    "## Create labels (Can be modified later)"
   ]
  },
  {
   "cell_type": "code",
   "execution_count": null,
   "metadata": {},
   "outputs": [],
   "source": [
    "# df_footnote_combined[\"signed_anomaly_score\"] = \\\n",
    "#     np.where(df_footnote_combined[\"TRANS_ACQUIRED_DISP_CD\"] == \"D\", -1 * df_footnote_combined[\"anomaly_score\"],  df_footnote_combined[\"anomaly_score\"])\n",
    "\n",
    "# threshold = df_footnote_combined[\"signed_anomaly_score\"].quantile(0.95)\n",
    "\n",
    "# df_footnote_combined[\"label\"] = np.where(df_footnote_combined[\"signed_anomaly_score\"] > threshold, 1, 0)\n",
    "# df_footnote_combined"
   ]
  },
  {
   "cell_type": "code",
   "execution_count": null,
   "metadata": {},
   "outputs": [],
   "source": [
    "# df_footnote_exist_drop = df_footnote_combined.dropna(subset=[\"anomaly_score\"])\n",
    "# df_footnote_exist_drop.shape"
   ]
  },
  {
   "cell_type": "markdown",
   "metadata": {},
   "source": [
    "___\n",
    "## J-Code comparison\n",
    "___"
   ]
  },
  {
   "cell_type": "code",
   "execution_count": null,
   "metadata": {},
   "outputs": [
    {
     "name": "stdout",
     "output_type": "stream",
     "text": [
      "Shape J code: (33793, 7), \t Shape non-J code: (580121, 7)\n"
     ]
    }
   ],
   "source": [
    "df_j_code = df_footnote_exist_drop[df_footnote_exist_drop[\"TRANS_CODE\"] == \"J\"]\n",
    "df_non_j_code =  df_footnote_exist_drop[df_footnote_exist_drop[\"TRANS_CODE\"] != \"J\"]\n",
    "print(f\"Shape J code: {df_j_code.shape}, \\t Shape non-J code: {df_non_j_code.shape}\")"
   ]
  },
  {
   "cell_type": "code",
   "execution_count": null,
   "metadata": {},
   "outputs": [],
   "source": [
    "df_footnote_exist_drop_copy = df_footnote_exist_drop.copy()\n",
    "df_footnote_exist_drop_copy['J_Code'] = np.where(df_footnote_exist_drop_copy[\"TRANS_CODE\"] == \"J\", \"J\", \"Others\")"
   ]
  },
  {
   "cell_type": "code",
   "execution_count": null,
   "metadata": {},
   "outputs": [
    {
     "data": {
      "application/vnd.microsoft.datawrangler.viewer.v0+json": {
       "columns": [
        {
         "name": "index",
         "rawType": "int64",
         "type": "integer"
        },
        {
         "name": "ACCESSION_NUMBER",
         "rawType": "object",
         "type": "string"
        },
        {
         "name": "anomaly_score",
         "rawType": "float64",
         "type": "float"
        },
        {
         "name": "TRANS_CODE",
         "rawType": "object",
         "type": "string"
        },
        {
         "name": "TRANS_ACQUIRED_DISP_CD",
         "rawType": "object",
         "type": "string"
        },
        {
         "name": "FOOTNOTE_TXT",
         "rawType": "object",
         "type": "string"
        },
        {
         "name": "signed_anomaly_score",
         "rawType": "float64",
         "type": "float"
        },
        {
         "name": "label",
         "rawType": "int32",
         "type": "integer"
        },
        {
         "name": "J_Code",
         "rawType": "object",
         "type": "string"
        }
       ],
       "conversionMethod": "pd.DataFrame",
       "ref": "9d3ae025-8236-4745-af8b-fec30dabdfc9",
       "rows": [
        [
         "0",
         "0001127602-11-000075",
         "-12.90501862486007",
         "S",
         "D",
         "The weighted average sales price was $41.652 with a range of $41.641 to $41.661. Right to buy Agilent Technologies, Inc. common stock granted under the Agilent Technologies, Inc. 1999 Non-Employee Director Stock Plan. This option is fully vested and exercisable.",
         "12.90501862486007",
         "0",
         "Others"
        ],
        [
         "1",
         "0001127602-11-002229",
         "-11.027958001764947",
         "S",
         "D",
         "This transaction was effected pursuant to a Rule 10b5-1 plan. Right to buy Agilent Technologies, Inc. common stock granted under the Agilent Technologies, Inc. 1999 Stock Plan, in compliance with Rule 16b-3. The option is exercisable in four equal installments beginning on the first anniversary of the date of the grant. The first vesting date is stated.",
         "11.027958001764947",
         "0",
         "Others"
        ],
        [
         "2",
         "0001127602-11-003431",
         "-7.327263429600633",
         "S",
         "D",
         "This transaction was effected pursuant to a Rule 10b5-1 plan. Right to buy Agilent Technologies, Inc. common stock granted under the Agilent Technologies, Inc. 1999 Non-Employee Director Stock Plan. This option is fully vested and exercisable.",
         "7.327263429600633",
         "0",
         "Others"
        ],
        [
         "3",
         "0001127602-11-004376",
         "-9.187093053416913",
         "S",
         "D",
         "This transaction was effected pursuant to a Rule 10b5-1 plan. Right to buy Agilent Technologies, Inc. common stock granted under the Agilent Technologies, Inc. 1999 Stock Plan, in compliance with Rule 16b-3. This option is fully vested and exercisable.",
         "9.187093053416913",
         "0",
         "Others"
        ],
        [
         "4",
         "0001127602-11-005631",
         "-8.289322141218776",
         "S",
         "D",
         "This transaction was effected pursuant to a Rule 10b5-1 plan. Right to buy Agilent Technologies, Inc. common stock granted under the Agilent Technologies, Inc. 1999 Stock Plan, in compliance with Rule 16b-3. This option is fully vested and exercisable.",
         "8.289322141218776",
         "0",
         "Others"
        ],
        [
         "5",
         "0001127602-11-005631",
         "-8.289322141218776",
         "S",
         "D",
         "This transaction was effected pursuant to a Rule 10b5-1 plan. Right to buy Agilent Technologies, Inc. common stock granted under the Agilent Technologies, Inc. 1999 Stock Plan, in compliance with Rule 16b-3. This option is fully vested and exercisable.",
         "8.289322141218776",
         "0",
         "Others"
        ],
        [
         "6",
         "0001127602-11-007474",
         "-9.566376475220826",
         "S",
         "D",
         "This transaction was effected pursuant to a Rule 10b5-1 plan. Right to buy Agilent Technologies, Inc. common stock granted under the Agilent Technologies, Inc. 1999 Stock Plan, in compliance with Rule 16b-3. The option is exercisable in four equal installments beginning on the first anniversary of the date of the grant. The first vesting date is stated.",
         "9.566376475220826",
         "0",
         "Others"
        ],
        [
         "7",
         "0001127602-11-009381",
         "-5.03201712751019",
         "S",
         "D",
         "This transaction was effected pursuant to a Rule 10b5-1 plan. Right to buy Agilent Technologies, Inc. common stock granted under the Agilent Technologies, Inc. 1999 Stock Plan, in compliance with Rule 16b-3. The option is exercisable in four equal installments beginning on the first anniversary of the date of the grant. The first vesting date is stated.",
         "5.03201712751019",
         "0",
         "Others"
        ],
        [
         "8",
         "0001127602-11-010985",
         "-4.291331700022284",
         "S",
         "D",
         "This transaction was effected pursuant to a Rule 10b5-1 plan. Right to buy Agilent Technologies, Inc. common stock granted under the Agilent Technologies, Inc. 1999 Stock Plan, in compliance with Rule 16b-3. The option is exercisable in four equal installments beginning on the first anniversary of the date of the grant. The first vesting date is stated.",
         "4.291331700022284",
         "0",
         "Others"
        ],
        [
         "9",
         "0001127602-11-011324",
         "-4.414571985113625",
         "S",
         "D",
         "This transaction was effected pursuant to a Rule 10b5-1 plan. The weighted average sales price was $44.394 with a range of $44.24 to $44.66. Right to buy Agilent Technologies, Inc. common stock granted under the Agilent Technologies, Inc. 2009 Stock Plan, in compliance with Rule 16b-3. The option is exercisable in four equal installments beginning on the first anniversary of the date of the grant. The first vesting date is stated.",
         "4.414571985113625",
         "0",
         "Others"
        ],
        [
         "10",
         "0001127602-11-013494",
         "-4.0592406049888",
         "S",
         "D",
         "This transaction was effected pursuant to a Rule 10b5-1 plan. Right to buy Agilent Technologies, Inc. common stock granted under the Agilent Technologies, Inc. 1999 Stock Plan, in compliance with Rule 16b-3. The option is exercisable in four equal installments beginning on the first anniversary of the date of the grant. The first vesting date is stated.",
         "4.0592406049888",
         "0",
         "Others"
        ],
        [
         "11",
         "0001127602-11-021008",
         "6.674331412115236",
         "J",
         "A",
         "Shares acquired in an Employee Stock Purchase Plan under Section 423 of the Internal Revenue Code of 1986, as amended, in a transaction exempt under Rule 16b-3. This transaction was effected pursuant to a Rule 10b5-1 plan. The weighted average sales price was $51.457 with a range of $51.33 to $51.77 This option is fully vested and exercisable. The option is exercisable in four equal installments beginning on the first anniversary of the date of the grant. The first vesting date is stated.",
         "6.674331412115236",
         "0",
         "J"
        ],
        [
         "12",
         "0001127602-11-017637",
         "6.6742236943872175",
         "J",
         "A",
         "Shares acquired in an Employee Stock Purchase Plan under Section 423 of the Internal Revenue Code of 1986, as amended, in a transaction exempt under Rule 16b-3. The weighted average sales price was $48.862 with a range of $48.83 to $48.90. The option is exercisable in four equal installments beginning on the first anniversary of the date of the grant. The first vesting date is stated.",
         "6.6742236943872175",
         "0",
         "J"
        ],
        [
         "13",
         "0001127602-11-016776",
         "6.674318365313741",
         "J",
         "A",
         "Shares acquired in an Employee Stock Purchase Plan under Section 423 of the Internal Revenue Code of 1986, as amended, in a transaction exempt under Rule 16b-3. The option is exercisable in four equal installments beginning on the first anniversary of the date of the grant. The first vesting date is stated.",
         "6.674318365313741",
         "0",
         "J"
        ],
        [
         "14",
         "0001127602-11-016779",
         "6.67422991500127",
         "J",
         "A",
         "Shares acquired in an Employee Stock Purchase Plan under Section 423 of the Internal Revenue Code of 1986, as amended, in a transaction exempt under Rule 16b-3. The weighted average sales price was $52.34 with a range of $52.33 to $52.38. The option is exercisable in four equal annual installments beginning on the first anniversary of the date of the grant.  The first vesting date is stated.",
         "6.67422991500127",
         "0",
         "J"
        ],
        [
         "15",
         "0001127602-11-016773",
         "6.674297595766446",
         "J",
         "A",
         "Shares acquired in an  Employee Stock Purchase Plan under Section 423 of the Internal Revenue Code of 1986, as amended, in a transaction exempt under Rule 16b-3. The weighted average sales price was $52.132 with a range of $52.07 to $52.16. The weighted average sales price was $52.422 with a range of $52.36 to $52.50. The option is exercisable in four equal annual installments beginning on the first anniversary of the date of the grant.  The first vesting date is stated.",
         "6.674297595766446",
         "0",
         "J"
        ],
        [
         "16",
         "0001127602-11-016776",
         "-3.623285115550738",
         "S",
         "D",
         "Shares acquired in an Employee Stock Purchase Plan under Section 423 of the Internal Revenue Code of 1986, as amended, in a transaction exempt under Rule 16b-3. The option is exercisable in four equal installments beginning on the first anniversary of the date of the grant. The first vesting date is stated.",
         "3.623285115550738",
         "0",
         "Others"
        ],
        [
         "17",
         "0001127602-11-016773",
         "-3.640486054259344",
         "S",
         "D",
         "Shares acquired in an  Employee Stock Purchase Plan under Section 423 of the Internal Revenue Code of 1986, as amended, in a transaction exempt under Rule 16b-3. The weighted average sales price was $52.132 with a range of $52.07 to $52.16. The weighted average sales price was $52.422 with a range of $52.36 to $52.50. The option is exercisable in four equal annual installments beginning on the first anniversary of the date of the grant.  The first vesting date is stated.",
         "3.640486054259344",
         "0",
         "Others"
        ],
        [
         "18",
         "0001127602-11-016779",
         "-3.6211211541417465",
         "S",
         "D",
         "Shares acquired in an Employee Stock Purchase Plan under Section 423 of the Internal Revenue Code of 1986, as amended, in a transaction exempt under Rule 16b-3. The weighted average sales price was $52.34 with a range of $52.33 to $52.38. The option is exercisable in four equal annual installments beginning on the first anniversary of the date of the grant.  The first vesting date is stated.",
         "3.6211211541417465",
         "0",
         "Others"
        ],
        [
         "19",
         "0001127602-11-016779",
         "-3.6211211541417465",
         "S",
         "D",
         "Shares acquired in an Employee Stock Purchase Plan under Section 423 of the Internal Revenue Code of 1986, as amended, in a transaction exempt under Rule 16b-3. The weighted average sales price was $52.34 with a range of $52.33 to $52.38. The option is exercisable in four equal annual installments beginning on the first anniversary of the date of the grant.  The first vesting date is stated.",
         "3.6211211541417465",
         "0",
         "Others"
        ],
        [
         "20",
         "0001127602-11-016773",
         "-3.640486054259344",
         "S",
         "D",
         "Shares acquired in an  Employee Stock Purchase Plan under Section 423 of the Internal Revenue Code of 1986, as amended, in a transaction exempt under Rule 16b-3. The weighted average sales price was $52.132 with a range of $52.07 to $52.16. The weighted average sales price was $52.422 with a range of $52.36 to $52.50. The option is exercisable in four equal annual installments beginning on the first anniversary of the date of the grant.  The first vesting date is stated.",
         "3.640486054259344",
         "0",
         "Others"
        ],
        [
         "21",
         "0001127602-11-017504",
         "-3.428097732382533",
         "S",
         "D",
         "The weighted average sales price was $49.059 with a range of $49.00 to $49.19. The weighted average sales price was $48.653 with a range of $48.50 to $48.82. The option is exercisable in four equal annual installments beginning on the first anniversary of the date of the grant.  The first vesting date is stated.",
         "3.428097732382533",
         "0",
         "Others"
        ],
        [
         "22",
         "0001127602-11-017504",
         "-3.428097732382533",
         "S",
         "D",
         "The weighted average sales price was $49.059 with a range of $49.00 to $49.19. The weighted average sales price was $48.653 with a range of $48.50 to $48.82. The option is exercisable in four equal annual installments beginning on the first anniversary of the date of the grant.  The first vesting date is stated.",
         "3.428097732382533",
         "0",
         "Others"
        ],
        [
         "23",
         "0001127602-11-017504",
         "-3.428097732382533",
         "S",
         "D",
         "The weighted average sales price was $49.059 with a range of $49.00 to $49.19. The weighted average sales price was $48.653 with a range of $48.50 to $48.82. The option is exercisable in four equal annual installments beginning on the first anniversary of the date of the grant.  The first vesting date is stated.",
         "3.428097732382533",
         "0",
         "Others"
        ],
        [
         "24",
         "0001127602-11-017506",
         "-3.380447814824651",
         "S",
         "D",
         "This transaction was effected pursuant to a Rule 10b5-1 plan. The option is exercisable in four equal installments beginning on the first anniversary of the date of the grant. The first vesting date is stated.",
         "3.380447814824651",
         "0",
         "Others"
        ],
        [
         "25",
         "0001127602-11-017637",
         "-3.420438425965395",
         "S",
         "D",
         "Shares acquired in an Employee Stock Purchase Plan under Section 423 of the Internal Revenue Code of 1986, as amended, in a transaction exempt under Rule 16b-3. The weighted average sales price was $48.862 with a range of $48.83 to $48.90. The option is exercisable in four equal installments beginning on the first anniversary of the date of the grant. The first vesting date is stated.",
         "3.420438425965395",
         "0",
         "Others"
        ],
        [
         "26",
         "0001127602-11-017929",
         "-3.334055774955725",
         "S",
         "D",
         "The weighted average sales price was $49.294 with a range of $49.17 to $49.45. The weighted average sales price was $49.362 with a range of $49.28 to $49.42. Shares acquired under the 401(k) plan. The information in this report is based on a plan statement dated May 23, 2011 for the period ending May 20, 2011. The option is exercisable in four equal annual installments beginning on the first anniversary of the date of the grant.  The first vesting date is stated.",
         "3.334055774955725",
         "0",
         "Others"
        ],
        [
         "27",
         "0001127602-11-017929",
         "-3.334055774955725",
         "S",
         "D",
         "The weighted average sales price was $49.294 with a range of $49.17 to $49.45. The weighted average sales price was $49.362 with a range of $49.28 to $49.42. Shares acquired under the 401(k) plan. The information in this report is based on a plan statement dated May 23, 2011 for the period ending May 20, 2011. The option is exercisable in four equal annual installments beginning on the first anniversary of the date of the grant.  The first vesting date is stated.",
         "3.334055774955725",
         "0",
         "Others"
        ],
        [
         "28",
         "0001127602-11-019778",
         "-3.069670820376802",
         "S",
         "D",
         "This transaction was effected pursuant to a Rule 10b5-1 plan. The option is exercisable in four equal installments beginning on the first anniversary of the date of the grant. The first vesting date is stated.",
         "3.069670820376802",
         "0",
         "Others"
        ],
        [
         "29",
         "0001127602-11-019785",
         "-3.1074234807692878",
         "S",
         "D",
         "The weighted average sale price was $49.912 with a range of $49.86 to $49.98. This option is fully vested and exercisable.",
         "3.1074234807692878",
         "0",
         "Others"
        ],
        [
         "30",
         "0001127602-11-019778",
         "-3.069670820376802",
         "S",
         "D",
         "This transaction was effected pursuant to a Rule 10b5-1 plan. The option is exercisable in four equal installments beginning on the first anniversary of the date of the grant. The first vesting date is stated.",
         "3.069670820376802",
         "0",
         "Others"
        ],
        [
         "31",
         "0001127602-11-020395",
         "-3.026782297438943",
         "S",
         "D",
         "This transaction was effected pursuant to a Rule 10b5-1 plan.",
         "3.026782297438943",
         "0",
         "Others"
        ],
        [
         "32",
         "0001127602-11-021008",
         "-3.1532556461539643",
         "S",
         "D",
         "Shares acquired in an Employee Stock Purchase Plan under Section 423 of the Internal Revenue Code of 1986, as amended, in a transaction exempt under Rule 16b-3. This transaction was effected pursuant to a Rule 10b5-1 plan. The weighted average sales price was $51.457 with a range of $51.33 to $51.77 This option is fully vested and exercisable. The option is exercisable in four equal installments beginning on the first anniversary of the date of the grant. The first vesting date is stated.",
         "3.1532556461539643",
         "0",
         "Others"
        ],
        [
         "33",
         "0001127602-11-021926",
         "-2.8321777767390945",
         "S",
         "D",
         "This transaction was effected pursuant to a Rule 10b5-1 plan. The option is exercisable in four equal installments beginning on the first anniversary of the date of the grant. The first vesting date is stated.",
         "2.8321777767390945",
         "0",
         "Others"
        ],
        [
         "34",
         "0001127602-11-024526",
         "-3.1207005356681834",
         "S",
         "D",
         "This Transaction was effected pursuant to a Rule 10b5-1 plan. The option is exercisable in four equal installments beginning on the first anniversary of the date of the grant. The first vesting date is stated.",
         "3.1207005356681834",
         "0",
         "Others"
        ],
        [
         "35",
         "0001127602-11-025807",
         "-1.9895973994548004",
         "S",
         "D",
         "This transaction was effected pursuant to a Rule 10b5-1 plan. Right to buy Agilent Technologies, Inc. common stock granted under the Agilent Technologies, Inc. 1999 Stock Plan, in compliance with Rule 16b-3. The option is exercisable in four equal installments beginning on the first anniversary of the date of the grant. The first vesting date is stated.",
         "1.9895973994548004",
         "0",
         "Others"
        ],
        [
         "36",
         "0001127602-11-027616",
         "-3.846839397405645",
         "S",
         "D",
         "This transaction was effected pursuant to a Rule 10b5-1 Plan Right to buy Agilent Technologies, Inc. common stock granted under the Agilent Technologies, Inc. 1999 Stock Plan, in compliance with Rule 16b-3. The option is exercisable in four equal installments beginning on the first anniversary of the date of the grant. The first vesting date is stated.",
         "3.846839397405645",
         "0",
         "Others"
        ],
        [
         "37",
         "0001127602-11-030147",
         "8.125751320367565",
         "J",
         "A",
         "Shares acquired in an Employee Stock Purchase Plan under Section 423 of the Internal Revenue Code of 1986, as amended, in a transaction exempt under Rule 16b-3. On November 16, 2011, 8,835 shares of common stock of Agilent Technologies, Inc. were awarded to the reporting person pursuant to the Agilent Technologies, Inc. Long-Term Performance Program. Under the Agilent Technologies, Inc. Deferred Compensation Plan, the reporting person has elected to defer 8,272 of such shares of common stock Right to buy Agilent Technologies, Inc. common stock granted under the Agilent Technologies, Inc. 2009 Stock Plan, in compliance with Rule 16b-3. The option is exercisable in four equal annual installments beginning on the first anniversary of the date of the grant.  The first vesting date is stated.",
         "8.125751320367565",
         "0",
         "J"
        ],
        [
         "38",
         "0001127602-11-030141",
         "8.125751320367565",
         "J",
         "A",
         "Shares acquired in an  Employee Stock Purchase Plan under Section 423 of the Internal Revenue Code of 1986, as amended, in a transaction exempt under Rule 16b-3. On November 16, 2011, 19,334 shares of common stock of Agilent Technologies, Inc. were awarded to the reporting person pursuant to the Agilent Technologies, Inc. Long-Term Performance Program. Right to buy Agilent Technologies, Inc. common stock granted under the Agilent Technologies, Inc. 2009 Stock Plan, in compliance with Rule 16b-3. The option is exercisable in four equal annual installments beginning on the first anniversary of the date of the grant.  The first vesting date is stated.",
         "8.125751320367565",
         "0",
         "J"
        ],
        [
         "39",
         "0001127602-11-030139",
         "8.125751320367565",
         "J",
         "A",
         "Shares acquired in an Employee Stock Purchase Plan under Section 423 of the Internal Revenue Code of 1986, as amended, in a transaction exempt under Rule 16b-3. On November 16, 2011, 6,236 shares of common stock of Agilent Technologies, Inc. were awarded to the reporting person pursuant to the Agilent Technologies, Inc. Long-Term Performance Program. Right to buy Agilent Technologies, Inc. common stock granted under the Agilent Technologies, Inc. Stock Plan, in compliance with Rule 16b-3. The option is exercisable in four equal annual installments beginning on the first anniversary of the date of the grant.  The first vesting date is stated.",
         "8.125751320367565",
         "0",
         "J"
        ],
        [
         "40",
         "0001127602-11-030151",
         "8.125751320367565",
         "J",
         "A",
         "Shares acquired in an Employee Stock Purchase Plan under Section 423 of the Internal Revenue Code of 1986, as amended, in a transaction exempt under Rule 16b-3. On November 16, 2011, 19,749 shares of common stock of Agilent Technologies, Inc. were awarded to the reporting person pursuant to the Agilent Technologies, Inc. Long-Term Performance Program. Restricted Stock Units granted under the Agilent Technologies, Inc.  2009 Stock Plan, in compliance with Rule 16b-3.  The restricted stock units vest 100% in one installment on 11/17/2014. Right to buy Agilent Technologies, Inc. common stock granted under the Agilent Technologies, Inc. 2009 Stock Plan, in compliance with Rule 16b-3. The option is exercisable in four equal annual installments beginning on the first anniversary of the date of the grant.  The first vesting date is stated.",
         "8.125751320367565",
         "0",
         "J"
        ],
        [
         "41",
         "0001127602-11-030155",
         "8.144343065756052",
         "J",
         "A",
         "Shares acquired in an Employee Stock Purchase Plan under Section 423 of the Internal Revenue Code of 1986, as amended, in a transaction exempt under Rule 16b-3. On November 16, 2011, 22,868 shares of common stock of Agilent Technologies, Inc. were awarded to the reporting person pursuant to the Agilent Technologies, Inc. Long-Term Performance Program. Under the Agilent Technologies, Inc. Deferred Compensation Plan, the reporting person has elected to defer 11,269 of such shares of common stock On November 16, 2011, 5,899 shares of common stock of Agilent Technologies, Inc. were awarded to the reporting person pursuant to the Agilent Technologies, Inc. Long-Term Performance Program. This transaction was effected pursuant to a Rule 10b5-1 plan. Right to buy Agilent Technologies, Inc. common stock granted under the Agilent Technologies, Inc. Stock Plan, in compliance with Rule 16b-3. The option is exercisable in four equal installments beginning on the first anniversary of the date of the grant. The first vesting date is stated.",
         "8.144343065756052",
         "0",
         "J"
        ],
        [
         "42",
         "0001127602-11-030155",
         "-5.729750561476664",
         "S",
         "D",
         "Shares acquired in an Employee Stock Purchase Plan under Section 423 of the Internal Revenue Code of 1986, as amended, in a transaction exempt under Rule 16b-3. On November 16, 2011, 22,868 shares of common stock of Agilent Technologies, Inc. were awarded to the reporting person pursuant to the Agilent Technologies, Inc. Long-Term Performance Program. Under the Agilent Technologies, Inc. Deferred Compensation Plan, the reporting person has elected to defer 11,269 of such shares of common stock On November 16, 2011, 5,899 shares of common stock of Agilent Technologies, Inc. were awarded to the reporting person pursuant to the Agilent Technologies, Inc. Long-Term Performance Program. This transaction was effected pursuant to a Rule 10b5-1 plan. Right to buy Agilent Technologies, Inc. common stock granted under the Agilent Technologies, Inc. Stock Plan, in compliance with Rule 16b-3. The option is exercisable in four equal installments beginning on the first anniversary of the date of the grant. The first vesting date is stated.",
         "5.729750561476664",
         "0",
         "Others"
        ],
        [
         "43",
         "0001127602-11-030155",
         "-5.764848023224613",
         "S",
         "D",
         "Shares acquired in an Employee Stock Purchase Plan under Section 423 of the Internal Revenue Code of 1986, as amended, in a transaction exempt under Rule 16b-3. On November 16, 2011, 22,868 shares of common stock of Agilent Technologies, Inc. were awarded to the reporting person pursuant to the Agilent Technologies, Inc. Long-Term Performance Program. Under the Agilent Technologies, Inc. Deferred Compensation Plan, the reporting person has elected to defer 11,269 of such shares of common stock On November 16, 2011, 5,899 shares of common stock of Agilent Technologies, Inc. were awarded to the reporting person pursuant to the Agilent Technologies, Inc. Long-Term Performance Program. This transaction was effected pursuant to a Rule 10b5-1 plan. Right to buy Agilent Technologies, Inc. common stock granted under the Agilent Technologies, Inc. Stock Plan, in compliance with Rule 16b-3. The option is exercisable in four equal installments beginning on the first anniversary of the date of the grant. The first vesting date is stated.",
         "5.764848023224613",
         "0",
         "Others"
        ],
        [
         "44",
         "0001127602-11-030155",
         "-5.764848023224613",
         "S",
         "D",
         "Shares acquired in an Employee Stock Purchase Plan under Section 423 of the Internal Revenue Code of 1986, as amended, in a transaction exempt under Rule 16b-3. On November 16, 2011, 22,868 shares of common stock of Agilent Technologies, Inc. were awarded to the reporting person pursuant to the Agilent Technologies, Inc. Long-Term Performance Program. Under the Agilent Technologies, Inc. Deferred Compensation Plan, the reporting person has elected to defer 11,269 of such shares of common stock On November 16, 2011, 5,899 shares of common stock of Agilent Technologies, Inc. were awarded to the reporting person pursuant to the Agilent Technologies, Inc. Long-Term Performance Program. This transaction was effected pursuant to a Rule 10b5-1 plan. Right to buy Agilent Technologies, Inc. common stock granted under the Agilent Technologies, Inc. Stock Plan, in compliance with Rule 16b-3. The option is exercisable in four equal installments beginning on the first anniversary of the date of the grant. The first vesting date is stated.",
         "5.764848023224613",
         "0",
         "Others"
        ],
        [
         "45",
         "0001127602-11-030386",
         "-6.0384947109533496",
         "S",
         "D",
         "This transaction was effected pursuant to a Rule 10b5-1 plan. Right to buy Agilent Technologies, Inc. common stock granted under the Agilent Technologies, Inc. 1999 Stock Plan, in compliance with Rule 16b-3. The option is exercisable in four equal installments beginning on the first anniversary of the date of the grant. The first vesting date is stated.",
         "6.0384947109533496",
         "0",
         "Others"
        ],
        [
         "46",
         "0001127602-11-032240",
         "-7.05140178949409",
         "S",
         "D",
         "This option is fully vested and exercisable.",
         "7.05140178949409",
         "0",
         "Others"
        ],
        [
         "47",
         "0001127602-11-033172",
         "-7.829291595229023",
         "S",
         "D",
         "This option is fully vested and exercisable.",
         "7.829291595229023",
         "0",
         "Others"
        ],
        [
         "48",
         "0001127602-12-000245",
         "-8.323543918669417",
         "S",
         "D",
         "The weighted average sale price was $35.44 with a a range of $35.425 to $35.45 Right to buy Agilent Technologies, Inc. common stock granted under the Agilent Technologies, Inc. 1999 Non-Employee Director Stock Plan. This option is fully vested and exercisable.",
         "8.323543918669417",
         "0",
         "Others"
        ],
        [
         "49",
         "0001127602-12-002428",
         "-10.12651332394621",
         "S",
         "D",
         "This transaction was effected pursuant to a Rule 10b5-1 Plan This option is fully vested and exercisable.",
         "10.12651332394621",
         "0",
         "Others"
        ]
       ],
       "shape": {
        "columns": 8,
        "rows": 613914
       }
      },
      "text/html": [
       "<div>\n",
       "<style scoped>\n",
       "    .dataframe tbody tr th:only-of-type {\n",
       "        vertical-align: middle;\n",
       "    }\n",
       "\n",
       "    .dataframe tbody tr th {\n",
       "        vertical-align: top;\n",
       "    }\n",
       "\n",
       "    .dataframe thead th {\n",
       "        text-align: right;\n",
       "    }\n",
       "</style>\n",
       "<table border=\"1\" class=\"dataframe\">\n",
       "  <thead>\n",
       "    <tr style=\"text-align: right;\">\n",
       "      <th></th>\n",
       "      <th>ACCESSION_NUMBER</th>\n",
       "      <th>anomaly_score</th>\n",
       "      <th>TRANS_CODE</th>\n",
       "      <th>TRANS_ACQUIRED_DISP_CD</th>\n",
       "      <th>FOOTNOTE_TXT</th>\n",
       "      <th>signed_anomaly_score</th>\n",
       "      <th>label</th>\n",
       "      <th>J_Code</th>\n",
       "    </tr>\n",
       "  </thead>\n",
       "  <tbody>\n",
       "    <tr>\n",
       "      <th>0</th>\n",
       "      <td>0001127602-11-000075</td>\n",
       "      <td>-12.905019</td>\n",
       "      <td>S</td>\n",
       "      <td>D</td>\n",
       "      <td>The weighted average sales price was $41.652 w...</td>\n",
       "      <td>12.905019</td>\n",
       "      <td>0</td>\n",
       "      <td>Others</td>\n",
       "    </tr>\n",
       "    <tr>\n",
       "      <th>1</th>\n",
       "      <td>0001127602-11-002229</td>\n",
       "      <td>-11.027958</td>\n",
       "      <td>S</td>\n",
       "      <td>D</td>\n",
       "      <td>This transaction was effected pursuant to a Ru...</td>\n",
       "      <td>11.027958</td>\n",
       "      <td>0</td>\n",
       "      <td>Others</td>\n",
       "    </tr>\n",
       "    <tr>\n",
       "      <th>2</th>\n",
       "      <td>0001127602-11-003431</td>\n",
       "      <td>-7.327263</td>\n",
       "      <td>S</td>\n",
       "      <td>D</td>\n",
       "      <td>This transaction was effected pursuant to a Ru...</td>\n",
       "      <td>7.327263</td>\n",
       "      <td>0</td>\n",
       "      <td>Others</td>\n",
       "    </tr>\n",
       "    <tr>\n",
       "      <th>3</th>\n",
       "      <td>0001127602-11-004376</td>\n",
       "      <td>-9.187093</td>\n",
       "      <td>S</td>\n",
       "      <td>D</td>\n",
       "      <td>This transaction was effected pursuant to a Ru...</td>\n",
       "      <td>9.187093</td>\n",
       "      <td>0</td>\n",
       "      <td>Others</td>\n",
       "    </tr>\n",
       "    <tr>\n",
       "      <th>4</th>\n",
       "      <td>0001127602-11-005631</td>\n",
       "      <td>-8.289322</td>\n",
       "      <td>S</td>\n",
       "      <td>D</td>\n",
       "      <td>This transaction was effected pursuant to a Ru...</td>\n",
       "      <td>8.289322</td>\n",
       "      <td>0</td>\n",
       "      <td>Others</td>\n",
       "    </tr>\n",
       "    <tr>\n",
       "      <th>...</th>\n",
       "      <td>...</td>\n",
       "      <td>...</td>\n",
       "      <td>...</td>\n",
       "      <td>...</td>\n",
       "      <td>...</td>\n",
       "      <td>...</td>\n",
       "      <td>...</td>\n",
       "      <td>...</td>\n",
       "    </tr>\n",
       "    <tr>\n",
       "      <th>791678</th>\n",
       "      <td>0001104659-20-056286</td>\n",
       "      <td>-4.941855</td>\n",
       "      <td>S</td>\n",
       "      <td>D</td>\n",
       "      <td>Represents a restricted stock award issued pur...</td>\n",
       "      <td>4.941855</td>\n",
       "      <td>0</td>\n",
       "      <td>Others</td>\n",
       "    </tr>\n",
       "    <tr>\n",
       "      <th>791679</th>\n",
       "      <td>0001104659-20-056286</td>\n",
       "      <td>-4.941855</td>\n",
       "      <td>S</td>\n",
       "      <td>D</td>\n",
       "      <td>Represents a restricted stock award issued pur...</td>\n",
       "      <td>4.941855</td>\n",
       "      <td>0</td>\n",
       "      <td>Others</td>\n",
       "    </tr>\n",
       "    <tr>\n",
       "      <th>791680</th>\n",
       "      <td>0001104659-20-056286</td>\n",
       "      <td>-4.941855</td>\n",
       "      <td>S</td>\n",
       "      <td>D</td>\n",
       "      <td>Represents a restricted stock award issued pur...</td>\n",
       "      <td>4.941855</td>\n",
       "      <td>0</td>\n",
       "      <td>Others</td>\n",
       "    </tr>\n",
       "    <tr>\n",
       "      <th>791681</th>\n",
       "      <td>0001104659-20-056286</td>\n",
       "      <td>-5.040325</td>\n",
       "      <td>S</td>\n",
       "      <td>D</td>\n",
       "      <td>Represents a restricted stock award issued pur...</td>\n",
       "      <td>5.040325</td>\n",
       "      <td>0</td>\n",
       "      <td>Others</td>\n",
       "    </tr>\n",
       "    <tr>\n",
       "      <th>791686</th>\n",
       "      <td>0001104659-21-102989</td>\n",
       "      <td>6.021093</td>\n",
       "      <td>S</td>\n",
       "      <td>D</td>\n",
       "      <td>The reported price in Column 4 is a weighted a...</td>\n",
       "      <td>-6.021093</td>\n",
       "      <td>0</td>\n",
       "      <td>Others</td>\n",
       "    </tr>\n",
       "  </tbody>\n",
       "</table>\n",
       "<p>613914 rows × 8 columns</p>\n",
       "</div>"
      ],
      "text/plain": [
       "            ACCESSION_NUMBER  anomaly_score TRANS_CODE TRANS_ACQUIRED_DISP_CD  \\\n",
       "0       0001127602-11-000075     -12.905019          S                      D   \n",
       "1       0001127602-11-002229     -11.027958          S                      D   \n",
       "2       0001127602-11-003431      -7.327263          S                      D   \n",
       "3       0001127602-11-004376      -9.187093          S                      D   \n",
       "4       0001127602-11-005631      -8.289322          S                      D   \n",
       "...                      ...            ...        ...                    ...   \n",
       "791678  0001104659-20-056286      -4.941855          S                      D   \n",
       "791679  0001104659-20-056286      -4.941855          S                      D   \n",
       "791680  0001104659-20-056286      -4.941855          S                      D   \n",
       "791681  0001104659-20-056286      -5.040325          S                      D   \n",
       "791686  0001104659-21-102989       6.021093          S                      D   \n",
       "\n",
       "                                             FOOTNOTE_TXT  \\\n",
       "0       The weighted average sales price was $41.652 w...   \n",
       "1       This transaction was effected pursuant to a Ru...   \n",
       "2       This transaction was effected pursuant to a Ru...   \n",
       "3       This transaction was effected pursuant to a Ru...   \n",
       "4       This transaction was effected pursuant to a Ru...   \n",
       "...                                                   ...   \n",
       "791678  Represents a restricted stock award issued pur...   \n",
       "791679  Represents a restricted stock award issued pur...   \n",
       "791680  Represents a restricted stock award issued pur...   \n",
       "791681  Represents a restricted stock award issued pur...   \n",
       "791686  The reported price in Column 4 is a weighted a...   \n",
       "\n",
       "        signed_anomaly_score  label  J_Code  \n",
       "0                  12.905019      0  Others  \n",
       "1                  11.027958      0  Others  \n",
       "2                   7.327263      0  Others  \n",
       "3                   9.187093      0  Others  \n",
       "4                   8.289322      0  Others  \n",
       "...                      ...    ...     ...  \n",
       "791678              4.941855      0  Others  \n",
       "791679              4.941855      0  Others  \n",
       "791680              4.941855      0  Others  \n",
       "791681              5.040325      0  Others  \n",
       "791686             -6.021093      0  Others  \n",
       "\n",
       "[613914 rows x 8 columns]"
      ]
     },
     "execution_count": 179,
     "metadata": {},
     "output_type": "execute_result"
    }
   ],
   "source": [
    "df_footnote_exist_drop_copy"
   ]
  },
  {
   "cell_type": "code",
   "execution_count": null,
   "metadata": {},
   "outputs": [],
   "source": [
    "count = df_footnote_exist_drop_copy[df_footnote_exist_drop_copy[\"J_Code\"] == \"J\"].shape[0]\n",
    "pct_J = df_footnote_exist_drop_copy[(df_footnote_exist_drop_copy[\"J_Code\"] == \"J\") & (df_footnote_exist_drop_copy[\"label\"] == 1)].shape[0]  /  count"
   ]
  },
  {
   "cell_type": "code",
   "execution_count": null,
   "metadata": {},
   "outputs": [],
   "source": [
    "count = df_footnote_exist_drop_copy[df_footnote_exist_drop_copy[\"J_Code\"] != \"J\"].shape[0]\n",
    "pct_non_J = df_footnote_exist_drop_copy[(df_footnote_exist_drop_copy[\"J_Code\"] != \"J\") & (df_footnote_exist_drop_copy[\"label\"] == 1)].shape[0]  /  count"
   ]
  },
  {
   "cell_type": "code",
   "execution_count": null,
   "metadata": {},
   "outputs": [
    {
     "name": "stdout",
     "output_type": "stream",
     "text": [
      "Pct of anomalies with J codes: 0.028260290592726306\n",
      "Pct of anomalies with non J codes: 0.0512668908727662\n"
     ]
    }
   ],
   "source": [
    "print(f\"Pct of anomalies with J codes: {pct_J}\\nPct of anomalies with non J codes: {pct_non_J}\")"
   ]
  },
  {
   "cell_type": "code",
   "execution_count": null,
   "metadata": {},
   "outputs": [],
   "source": [
    "count = df_footnote_exist_drop_copy[(df_footnote_exist_drop_copy[\"J_Code\"] == \"J\") & (df_footnote_exist_drop_copy[\"TRANS_ACQUIRED_DISP_CD\"] == \"D\")].shape[0]\n",
    "pct_J = df_footnote_exist_drop_copy[(df_footnote_exist_drop_copy[\"J_Code\"] == \"J\") & (df_footnote_exist_drop_copy[\"label\"] == 1) & (df_footnote_exist_drop_copy[\"TRANS_ACQUIRED_DISP_CD\"] == \"D\")].shape[0]  /  count"
   ]
  },
  {
   "cell_type": "code",
   "execution_count": null,
   "metadata": {},
   "outputs": [],
   "source": [
    "count = df_footnote_exist_drop_copy[(df_footnote_exist_drop_copy[\"J_Code\"] != \"J\") & (df_footnote_exist_drop_copy[\"TRANS_ACQUIRED_DISP_CD\"] == \"D\")].shape[0]\n",
    "pct_J = df_footnote_exist_drop_copy[(df_footnote_exist_drop_copy[\"J_Code\"] != \"J\") & (df_footnote_exist_drop_copy[\"label\"] == 1) & (df_footnote_exist_drop_copy[\"TRANS_ACQUIRED_DISP_CD\"] == \"D\")].shape[0]  /  count"
   ]
  },
  {
   "cell_type": "code",
   "execution_count": null,
   "metadata": {},
   "outputs": [
    {
     "name": "stdout",
     "output_type": "stream",
     "text": [
      "Pct of anomalies with J codes: 0.053414366772091486\n",
      "Pct of anomalies with non J codes: 0.0512668908727662\n"
     ]
    }
   ],
   "source": [
    "print(f\"Pct of anomalies with J codes: {pct_J}\\nPct of anomalies with non J codes: {pct_non_J}\")"
   ]
  },
  {
   "cell_type": "code",
   "execution_count": null,
   "metadata": {},
   "outputs": [],
   "source": [
    "count = df_footnote_exist_drop_copy[(df_footnote_exist_drop_copy[\"J_Code\"] == \"J\") & (df_footnote_exist_drop_copy[\"TRANS_ACQUIRED_DISP_CD\"] == \"A\")].shape[0]\n",
    "pct_J = df_footnote_exist_drop_copy[(df_footnote_exist_drop_copy[\"J_Code\"] == \"J\") & (df_footnote_exist_drop_copy[\"label\"] == 1) & (df_footnote_exist_drop_copy[\"TRANS_ACQUIRED_DISP_CD\"] == \"A\")].shape[0]  /  count"
   ]
  },
  {
   "cell_type": "code",
   "execution_count": null,
   "metadata": {},
   "outputs": [],
   "source": [
    "count = df_footnote_exist_drop_copy[(df_footnote_exist_drop_copy[\"J_Code\"] != \"J\") & (df_footnote_exist_drop_copy[\"TRANS_ACQUIRED_DISP_CD\"] == \"A\")].shape[0]\n",
    "pct_J = df_footnote_exist_drop_copy[(df_footnote_exist_drop_copy[\"J_Code\"] != \"J\") & (df_footnote_exist_drop_copy[\"label\"] == 1) & (df_footnote_exist_drop_copy[\"TRANS_ACQUIRED_DISP_CD\"] == \"A\")].shape[0]  /  count"
   ]
  },
  {
   "cell_type": "code",
   "execution_count": null,
   "metadata": {},
   "outputs": [
    {
     "name": "stdout",
     "output_type": "stream",
     "text": [
      "Pct of anomalies with J codes: 0.036115971007248185\n",
      "Pct of anomalies with non J codes: 0.0512668908727662\n"
     ]
    }
   ],
   "source": [
    "print(f\"Pct of anomalies with J codes: {pct_J}\\nPct of anomalies with non J codes: {pct_non_J}\")"
   ]
  }
 ],
 "metadata": {
  "kernelspec": {
   "display_name": "Python 3",
   "language": "python",
   "name": "python3"
  },
  "language_info": {
   "codemirror_mode": {
    "name": "ipython",
    "version": 3
   },
   "file_extension": ".py",
   "mimetype": "text/x-python",
   "name": "python",
   "nbconvert_exporter": "python",
   "pygments_lexer": "ipython3",
   "version": "3.11.3"
  }
 },
 "nbformat": 4,
 "nbformat_minor": 2
}
