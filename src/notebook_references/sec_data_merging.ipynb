{
 "cells": [
  {
   "cell_type": "markdown",
   "metadata": {},
   "source": [
    "# SEC Form 4 Data Collation\n",
    "Refer to full readme.md for SEC data here: https://www.sec.gov/files/insider_transactions_readme.pdf \n",
    "\n"
   ]
  },
  {
   "cell_type": "markdown",
   "metadata": {},
   "source": [
    "### Overview of Merging Steps\n",
    "\n",
    "1. **Combine Derivative & Non-Derivative Transactions**  \n",
    "    - Merge `DERIV_TRANS` and `NONDERIV_TRANS` by their common columns.  \n",
    "    - Rename their primary key columns (`DERIV_TRANS_SK` or `NONDERIV_TRANS_SK`) to `TRANS_SK`.\n",
    "\n",
    "2. **Filter & Clean Transactions**  \n",
    "    - **Include only transactions in YEARS_THRESHOLD (2005,2021)**.  \n",
    "    - **Calculate transaction amount** as *(shares × price per share)*\n",
    "\n",
    "3. **Merge with Form 4 Submission Data** \n",
    "    - Each Form 4 submission can include up to 30 transactions.  \n",
    "    - Merging adds **filing date**, **period of report**, and the **issuer’s CIK** (i.e., the company whose shares are being transacted).\n",
    "\n",
    "4. **Merge with Reporting Owner Data**  \n",
    "   - Includes the **owner’s name** and **relationship** details.  \n",
    "   - Note that there are multi-owner filings. Refer to `NUM_RPTOWNERCIK_;` to see how many reporting owners filed 1 submission. the `;` is used as a delimter to separate the reporting owner details in the related columns.\n",
    "\n",
    "5. **Filter out codes** 'P', 'S', 'J', 'V','I', 'M', 'G'\n",
    "    - we have saved an unfiltered version too"
   ]
  },
  {
   "cell_type": "markdown",
   "metadata": {},
   "source": [
    "#### Importing libraries and folders"
   ]
  },
  {
   "cell_type": "code",
   "execution_count": 1,
   "metadata": {},
   "outputs": [
    {
     "name": "stderr",
     "output_type": "stream",
     "text": [
      "/var/folders/qs/szbbnwjs3xqfhs8mjs1pb1xr0000gn/T/ipykernel_88613/2068783219.py:17: DtypeWarning: Columns (7,13,23) have mixed types. Specify dtype option on import or set low_memory=False.\n",
      "  nonderiv_trans_data = pd.read_csv(f\"{RAW_DATA_FOLDER}/NONDERIV_TRANS.csv\")\n",
      "/var/folders/qs/szbbnwjs3xqfhs8mjs1pb1xr0000gn/T/ipykernel_88613/2068783219.py:18: DtypeWarning: Columns (9,15,19,23,33,37) have mixed types. Specify dtype option on import or set low_memory=False.\n",
      "  deriv_trans_data = pd.read_csv(f\"{RAW_DATA_FOLDER}/DERIV_TRANS.csv\")\n"
     ]
    }
   ],
   "source": [
    "#Required libraries\n",
    "import pandas as pd\n",
    "import numpy as np\n",
    "pd.set_option('display.max_columns', None)\n",
    "\n",
    "#Data folders\n",
    "RAW_DATA_FOLDER = \"../../data_untracked/raw/sec_submissions/FINAL_RAW_DATA\"\n",
    "FINAL_DATA_FOLDER = \"../../data_untracked/processed\"\n",
    "YEARS_THRESHOLD = (2005, 2021) \n",
    "\n",
    "## Form Submission Main data\n",
    "submission_data = pd.read_csv(f\"{RAW_DATA_FOLDER}/SUBMISSION.csv\") # pk : ACCESSION_NUMBER\n",
    "\n",
    "## Transaction for submissions, ACCESSION_NUMBER and (NON)DERIV_TRANS_SK are the primary keys\n",
    "# One form (i.e. ACCESSION_NUMBER) can have multiple transactions (i.e. *_SK), transactions can be across multiple years, max 30 each \n",
    "# Duplicate *_SK keys are for different transactions, and there are max 2 of each duplicate _SK keys\n",
    "nonderiv_trans_data = pd.read_csv(f\"{RAW_DATA_FOLDER}/NONDERIV_TRANS.csv\")\n",
    "deriv_trans_data = pd.read_csv(f\"{RAW_DATA_FOLDER}/DERIV_TRANS.csv\")\n",
    "\n",
    "## Holding info for each submission (what they have - After each transaction..?)\n",
    "#nonderiv_holding_data = pd.read_csv(f\"{RAW_DATA_FOLDER}/NONDERIV_HOLDING.tsv\",sep='\\t')\n",
    "#deriv_holding_data = pd.read_csv(f\"{RAW_DATA_FOLDER}/DERIV_HOLDING.tsv\",sep='\\t')\n",
    "\n",
    "## Name info\n",
    "reporting_owner_data = pd.read_csv(f\"{RAW_DATA_FOLDER}/REPORTINGOWNER.csv\")\n",
    "#names_data = pd.read_csv(f\"{RAW_DATA_FOLDER}/OWNER_SIGNATURE.csv\") \n",
    "\n",
    "## Additional info, to match with '*_FN' columns in all other datasets based on matching ACCESSION_NUMBER\n",
    "#footnotes_data = pd.read_csv(f\"{RAW_DATA_FOLDER}/FOOTNOTES.csv\")"
   ]
  },
  {
   "cell_type": "markdown",
   "metadata": {},
   "source": [
    "#### Simple EDA"
   ]
  },
  {
   "cell_type": "code",
   "execution_count": 2,
   "metadata": {},
   "outputs": [
    {
     "name": "stdout",
     "output_type": "stream",
     "text": [
      "submission_data, (4147030, 13)\n",
      "No duplicate rows\n",
      "\n",
      "nonderiv_trans_data, (6827027, 28)\n",
      "No duplicate rows\n",
      "\n",
      "deriv_trans_data, (2564274, 42)\n",
      "No duplicate rows\n",
      "\n",
      "reporting_owner_data, (4500775, 13)\n",
      "No duplicate rows\n",
      "\n"
     ]
    }
   ],
   "source": [
    "#Overview of data\n",
    "dataframes = {\n",
    "    'submission_data': submission_data, # (4147030, 13)\n",
    "    'nonderiv_trans_data': nonderiv_trans_data, # (6827027, 28)\n",
    "    'deriv_trans_data': deriv_trans_data, # (2564274, 42)\n",
    "    #'nonderiv_holding_data': nonderiv_holding_data,\n",
    "   # 'deriv_holding_data': deriv_holding_data,\n",
    "    'reporting_owner_data': reporting_owner_data, #  (4500775, 13)\n",
    "    #'names_data': names_data,\n",
    "    #'footnotes_data': footnotes_data\n",
    "}\n",
    "\n",
    "for name, df in dataframes.items():\n",
    "    shape = df.shape\n",
    "    print(f\"{name}, {shape}\")\n",
    "\n",
    "    df.drop_duplicates(inplace=True)\n",
    "    if df.shape[0] != shape[0]:\n",
    "       print(f\"Duplicate rows removed: {shape[0] - df.shape[0]}\")\n",
    "    else:\n",
    "       print(\"No duplicate rows\")\n",
    "    print()"
   ]
  },
  {
   "cell_type": "markdown",
   "metadata": {},
   "source": [
    "#### Subset of columns required from each csv"
   ]
  },
  {
   "cell_type": "code",
   "execution_count": 4,
   "metadata": {},
   "outputs": [],
   "source": [
    "SELECTED_TRANSACTION_COLS = ['ACCESSION_NUMBER', 'SECURITY_TITLE', 'TRANS_DATE', 'DEEMED_EXECUTION_DATE', 'TRANS_CODE', 'EQUITY_SWAP_INVOLVED',\n",
    "                             'TRANS_TIMELINESS', 'TRANS_SHARES', 'TRANS_PRICEPERSHARE', 'TRANS_ACQUIRED_DISP_CD',\n",
    "                             'SHRS_OWND_FOLWNG_TRANS', 'DIRECT_INDIRECT_OWNERSHIP', 'NATURE_OF_OWNERSHIP']\n",
    "# partial primary keys: 'NONDERIV_TRANS_SK', 'DERIV_TRANS_SK'\n",
    "\n",
    "SUBMISSION_COLS = ['ACCESSION_NUMBER', 'FILING_DATE', 'PERIOD_OF_REPORT', 'ISSUERCIK', 'ISSUERNAME', 'ISSUERTRADINGSYMBOL']\n",
    "\n",
    "REPORTING_OWNER_COLS = ['RPTOWNERCIK', 'RPTOWNERNAME','RPTOWNER_RELATIONSHIP', 'RPTOWNER_TITLE'] # there is also address data and filenumber"
   ]
  },
  {
   "cell_type": "markdown",
   "metadata": {},
   "source": [
    "#### Merge Transaction datasets"
   ]
  },
  {
   "cell_type": "code",
   "execution_count": 5,
   "metadata": {},
   "outputs": [
    {
     "name": "stdout",
     "output_type": "stream",
     "text": [
      "(9391301, 14)\n"
     ]
    }
   ],
   "source": [
    "#Changing dtypes\n",
    "nonderiv_trans_data['TRANS_DATE'] = pd.to_datetime(nonderiv_trans_data['TRANS_DATE'], errors='coerce')\n",
    "deriv_trans_data['TRANS_DATE'] = pd.to_datetime(deriv_trans_data['TRANS_DATE'], errors='coerce')\n",
    "\n",
    "## Cannot directly concatenate the two dataframes as they have different columns some with identical names\n",
    "df1 = nonderiv_trans_data[['NONDERIV_TRANS_SK'] + SELECTED_TRANSACTION_COLS].copy().rename(columns={'NONDERIV_TRANS_SK':'TRANS_SK'})\n",
    "df2 = deriv_trans_data[['DERIV_TRANS_SK'] + SELECTED_TRANSACTION_COLS].copy().rename(columns={'DERIV_TRANS_SK':'TRANS_SK'})\n",
    "all_transaction_data = pd.concat([df1,df2], axis=0, ignore_index=True).reset_index(drop=True)\n",
    "print(all_transaction_data.shape) # (9391301, 14)"
   ]
  },
  {
   "cell_type": "code",
   "execution_count": 6,
   "metadata": {},
   "outputs": [
    {
     "name": "stdout",
     "output_type": "stream",
     "text": [
      "(8176007, 14)\n"
     ]
    }
   ],
   "source": [
    "# 1. Select only transactions from 2005 to 2021\n",
    "all_transaction_data = all_transaction_data[(all_transaction_data['TRANS_DATE'].dt.year >= YEARS_THRESHOLD[0]) & (all_transaction_data['TRANS_DATE'].dt.year <= YEARS_THRESHOLD[1])]\n",
    "print(all_transaction_data.shape) # (8176007, 14)"
   ]
  },
  {
   "cell_type": "code",
   "execution_count": null,
   "metadata": {},
   "outputs": [
    {
     "name": "stdout",
     "output_type": "stream",
     "text": [
      "There are 2486197 transactions with amount 0, 30.41% of all transactions\n",
      "Note that we do NOT filter this out as it may still be informative\n"
     ]
    }
   ],
   "source": [
    "## Create transaction amount column\n",
    "all_transaction_data['trans_amt'] = all_transaction_data['TRANS_SHARES'] * all_transaction_data['TRANS_PRICEPERSHARE']\n",
    "\n",
    "trans_amt_0 = all_transaction_data[all_transaction_data['trans_amt'] == 0].shape[0]\n",
    "print(f\"There are {trans_amt_0} transactions with amount 0, {trans_amt_0/(all_transaction_data.shape[0])*100:.2f}% of all transactions\")\n",
    "print(\"Note that we do NOT filter this out as it may still be informative\")\n",
    "# There are 2486197 transactions with amount 0, 30.41% of all transactions\n",
    "# Note that we do NOT filter this out as it may still be informative"
   ]
  },
  {
   "cell_type": "markdown",
   "metadata": {},
   "source": [
    "## Merge with submission data"
   ]
  },
  {
   "cell_type": "code",
   "execution_count": 8,
   "metadata": {},
   "outputs": [
    {
     "name": "stdout",
     "output_type": "stream",
     "text": [
      "(8176007, 20)\n"
     ]
    },
    {
     "data": {
      "text/html": [
       "<div>\n",
       "<style scoped>\n",
       "    .dataframe tbody tr th:only-of-type {\n",
       "        vertical-align: middle;\n",
       "    }\n",
       "\n",
       "    .dataframe tbody tr th {\n",
       "        vertical-align: top;\n",
       "    }\n",
       "\n",
       "    .dataframe thead th {\n",
       "        text-align: right;\n",
       "    }\n",
       "</style>\n",
       "<table border=\"1\" class=\"dataframe\">\n",
       "  <thead>\n",
       "    <tr style=\"text-align: right;\">\n",
       "      <th></th>\n",
       "      <th>TRANS_SK</th>\n",
       "      <th>ACCESSION_NUMBER</th>\n",
       "      <th>SECURITY_TITLE</th>\n",
       "      <th>TRANS_DATE</th>\n",
       "      <th>DEEMED_EXECUTION_DATE</th>\n",
       "      <th>TRANS_CODE</th>\n",
       "      <th>EQUITY_SWAP_INVOLVED</th>\n",
       "      <th>TRANS_TIMELINESS</th>\n",
       "      <th>TRANS_SHARES</th>\n",
       "      <th>TRANS_PRICEPERSHARE</th>\n",
       "      <th>TRANS_ACQUIRED_DISP_CD</th>\n",
       "      <th>SHRS_OWND_FOLWNG_TRANS</th>\n",
       "      <th>DIRECT_INDIRECT_OWNERSHIP</th>\n",
       "      <th>NATURE_OF_OWNERSHIP</th>\n",
       "      <th>trans_amt</th>\n",
       "      <th>FILING_DATE</th>\n",
       "      <th>PERIOD_OF_REPORT</th>\n",
       "      <th>ISSUERCIK</th>\n",
       "      <th>ISSUERNAME</th>\n",
       "      <th>ISSUERTRADINGSYMBOL</th>\n",
       "    </tr>\n",
       "  </thead>\n",
       "  <tbody>\n",
       "    <tr>\n",
       "      <th>0</th>\n",
       "      <td>2360796</td>\n",
       "      <td>0001179110-14-011078</td>\n",
       "      <td>Common Stock</td>\n",
       "      <td>2014-06-26</td>\n",
       "      <td>NaN</td>\n",
       "      <td>S</td>\n",
       "      <td>0</td>\n",
       "      <td>NaN</td>\n",
       "      <td>1046.0</td>\n",
       "      <td>28.17</td>\n",
       "      <td>D</td>\n",
       "      <td>43944.0</td>\n",
       "      <td>D</td>\n",
       "      <td>NaN</td>\n",
       "      <td>29465.82</td>\n",
       "      <td>2014-06-30</td>\n",
       "      <td>2014-06-26</td>\n",
       "      <td>926326</td>\n",
       "      <td>OMNICELL, Inc</td>\n",
       "      <td>OMCL</td>\n",
       "    </tr>\n",
       "    <tr>\n",
       "      <th>1</th>\n",
       "      <td>2360797</td>\n",
       "      <td>0001179110-14-011078</td>\n",
       "      <td>Common Stock</td>\n",
       "      <td>2014-06-26</td>\n",
       "      <td>NaN</td>\n",
       "      <td>S</td>\n",
       "      <td>0</td>\n",
       "      <td>NaN</td>\n",
       "      <td>637.0</td>\n",
       "      <td>28.17</td>\n",
       "      <td>D</td>\n",
       "      <td>43307.0</td>\n",
       "      <td>D</td>\n",
       "      <td>NaN</td>\n",
       "      <td>17944.29</td>\n",
       "      <td>2014-06-30</td>\n",
       "      <td>2014-06-26</td>\n",
       "      <td>926326</td>\n",
       "      <td>OMNICELL, Inc</td>\n",
       "      <td>OMCL</td>\n",
       "    </tr>\n",
       "  </tbody>\n",
       "</table>\n",
       "</div>"
      ],
      "text/plain": [
       "   TRANS_SK      ACCESSION_NUMBER SECURITY_TITLE TRANS_DATE  \\\n",
       "0   2360796  0001179110-14-011078   Common Stock 2014-06-26   \n",
       "1   2360797  0001179110-14-011078   Common Stock 2014-06-26   \n",
       "\n",
       "  DEEMED_EXECUTION_DATE TRANS_CODE EQUITY_SWAP_INVOLVED TRANS_TIMELINESS  \\\n",
       "0                   NaN          S                    0              NaN   \n",
       "1                   NaN          S                    0              NaN   \n",
       "\n",
       "   TRANS_SHARES  TRANS_PRICEPERSHARE TRANS_ACQUIRED_DISP_CD  \\\n",
       "0        1046.0                28.17                      D   \n",
       "1         637.0                28.17                      D   \n",
       "\n",
       "   SHRS_OWND_FOLWNG_TRANS DIRECT_INDIRECT_OWNERSHIP NATURE_OF_OWNERSHIP  \\\n",
       "0                 43944.0                         D                 NaN   \n",
       "1                 43307.0                         D                 NaN   \n",
       "\n",
       "   trans_amt FILING_DATE PERIOD_OF_REPORT  ISSUERCIK     ISSUERNAME  \\\n",
       "0   29465.82  2014-06-30       2014-06-26     926326  OMNICELL, Inc   \n",
       "1   17944.29  2014-06-30       2014-06-26     926326  OMNICELL, Inc   \n",
       "\n",
       "  ISSUERTRADINGSYMBOL  \n",
       "0                OMCL  \n",
       "1                OMCL  "
      ]
     },
     "execution_count": 8,
     "metadata": {},
     "output_type": "execute_result"
    }
   ],
   "source": [
    "# Change dtypes of filing date\n",
    "submission_data['FILING_DATE'] = pd.to_datetime(submission_data['FILING_DATE'], errors='coerce')\n",
    "\n",
    "# Merge on ACCESSION_NUMBER\n",
    "all_transaction_data_2 = all_transaction_data.merge(submission_data[SUBMISSION_COLS], on='ACCESSION_NUMBER', how='left')\n",
    "print(all_transaction_data_2.shape)\n",
    "\n",
    "all_transaction_data_2.head(2)"
   ]
  },
  {
   "cell_type": "markdown",
   "metadata": {},
   "source": [
    "## Merge with reporting owner data"
   ]
  },
  {
   "cell_type": "code",
   "execution_count": 9,
   "metadata": {},
   "outputs": [],
   "source": [
    "# Ensure that ';' is NOT in these columns, such that a split by ';' will give the exact number of elements\n",
    "assert reporting_owner_data['RPTOWNERCIK'].map(str).str.contains(';').sum() == 0\n",
    "assert reporting_owner_data['RPTOWNERNAME'].str.contains(';').sum() == 0\n",
    "assert reporting_owner_data['RPTOWNER_RELATIONSHIP'].str.contains(';').sum() == 0\n",
    "\n",
    "# Ensure that '#' is NOT in this columns, Note that ';' is present in too many of these rows\n",
    "reporting_owner_data['RPTOWNER_TITLE'] = reporting_owner_data['RPTOWNER_TITLE'].astype(str).str.replace('#', '', regex=False)\n",
    "assert reporting_owner_data['RPTOWNER_TITLE'].str.contains('#').sum() == 0"
   ]
  },
  {
   "cell_type": "code",
   "execution_count": 11,
   "metadata": {},
   "outputs": [
    {
     "name": "stdout",
     "output_type": "stream",
     "text": [
      "(4147030, 6)\n"
     ]
    },
    {
     "data": {
      "text/html": [
       "<div>\n",
       "<style scoped>\n",
       "    .dataframe tbody tr th:only-of-type {\n",
       "        vertical-align: middle;\n",
       "    }\n",
       "\n",
       "    .dataframe tbody tr th {\n",
       "        vertical-align: top;\n",
       "    }\n",
       "\n",
       "    .dataframe thead th {\n",
       "        text-align: right;\n",
       "    }\n",
       "</style>\n",
       "<table border=\"1\" class=\"dataframe\">\n",
       "  <thead>\n",
       "    <tr style=\"text-align: right;\">\n",
       "      <th></th>\n",
       "      <th>ACCESSION_NUMBER</th>\n",
       "      <th>RPTOWNERCIK_;</th>\n",
       "      <th>NUM_RPTOWNERCIK</th>\n",
       "      <th>RPTOWNERNAME_;</th>\n",
       "      <th>RPTOWNER_RELATIONSHIP_;</th>\n",
       "      <th>RPTOWNER_TITLE_#</th>\n",
       "    </tr>\n",
       "  </thead>\n",
       "  <tbody>\n",
       "    <tr>\n",
       "      <th>0</th>\n",
       "      <td>0000001750-06-000002</td>\n",
       "      <td>1027741</td>\n",
       "      <td>1</td>\n",
       "      <td>STORCH DAVID P</td>\n",
       "      <td>Director,Officer</td>\n",
       "      <td>Chairman, Pres., CEO, Director</td>\n",
       "    </tr>\n",
       "    <tr>\n",
       "      <th>1</th>\n",
       "      <td>0000001750-06-000004</td>\n",
       "      <td>1027741</td>\n",
       "      <td>1</td>\n",
       "      <td>STORCH DAVID P</td>\n",
       "      <td>Director,Officer</td>\n",
       "      <td>Chairman, Pres., CEO, Director</td>\n",
       "    </tr>\n",
       "  </tbody>\n",
       "</table>\n",
       "</div>"
      ],
      "text/plain": [
       "       ACCESSION_NUMBER RPTOWNERCIK_;  NUM_RPTOWNERCIK  RPTOWNERNAME_;  \\\n",
       "0  0000001750-06-000002       1027741                1  STORCH DAVID P   \n",
       "1  0000001750-06-000004       1027741                1  STORCH DAVID P   \n",
       "\n",
       "  RPTOWNER_RELATIONSHIP_;                RPTOWNER_TITLE_#  \n",
       "0        Director,Officer  Chairman, Pres., CEO, Director  \n",
       "1        Director,Officer  Chairman, Pres., CEO, Director  "
      ]
     },
     "execution_count": 11,
     "metadata": {},
     "output_type": "execute_result"
    }
   ],
   "source": [
    "# Join multiple reporting owners for the same ACCESSION_NUMBER\n",
    "\n",
    "def join_with_nan(series):\n",
    "    # catch NaNs and convert to 'NaN' string, to ensure they are not removed and the count is correct\n",
    "    return ';'.join(series.fillna('NaN').astype(str))\n",
    "\n",
    "def hashtag_join_with_nan(series):\n",
    "    # catch NaNs and convert to 'NaN' string, to ensure they are not removed and the count is correct\n",
    "    return '#'.join(series.fillna('NaN').astype(str))\n",
    "\n",
    "# Group by ACCESSION_NUMBER and join other fields as semicolon-separated strings\n",
    "grouped_reporting_owner = reporting_owner_data.groupby('ACCESSION_NUMBER', as_index=False).agg({\n",
    "    'RPTOWNERCIK': [join_with_nan, 'count'],\n",
    "    'RPTOWNERNAME': join_with_nan,\n",
    "    'RPTOWNER_RELATIONSHIP': join_with_nan,\n",
    "    'RPTOWNER_TITLE': hashtag_join_with_nan\n",
    "})\n",
    "\n",
    "assert reporting_owner_data['ACCESSION_NUMBER'].nunique() == grouped_reporting_owner.shape[0]\n",
    "\n",
    "# Flatten MultiIndex columns\n",
    "grouped_reporting_owner.columns = ['ACCESSION_NUMBER', 'RPTOWNERCIK_;', 'NUM_RPTOWNERCIK', 'RPTOWNERNAME_;', 'RPTOWNER_RELATIONSHIP_;','RPTOWNER_TITLE_#']\n",
    "print(grouped_reporting_owner.shape)\n",
    "grouped_reporting_owner.head(2)"
   ]
  },
  {
   "cell_type": "code",
   "execution_count": 13,
   "metadata": {},
   "outputs": [
    {
     "name": "stdout",
     "output_type": "stream",
     "text": [
      "(8176007, 25)\n"
     ]
    }
   ],
   "source": [
    "all_transaction_direct_final = all_transaction_data_2.merge(grouped_reporting_owner, on='ACCESSION_NUMBER', how='left') \n",
    "print(all_transaction_direct_final.shape) # (8176007, 25)\n",
    "assert all_transaction_direct_final.shape[0] == all_transaction_data_2.shape[0]"
   ]
  },
  {
   "cell_type": "markdown",
   "metadata": {},
   "source": [
    "# Filter out codes"
   ]
  },
  {
   "cell_type": "code",
   "execution_count": null,
   "metadata": {},
   "outputs": [
    {
     "data": {
      "text/plain": [
       "(3546490, 25)"
      ]
     },
     "execution_count": 14,
     "metadata": {},
     "output_type": "execute_result"
    }
   ],
   "source": [
    "all_transaction_direct_final_filter = all_transaction_direct_final[all_transaction_direct_final['TRANS_CODE'].isin(['P', 'S', 'J', 'V','I','G'])]\n",
    "all_transaction_direct_final_filter.shape # without M code (3546490, 25) (old With M code (5121953, 25) )"
   ]
  },
  {
   "cell_type": "markdown",
   "metadata": {},
   "source": [
    "## Save files as csv"
   ]
  },
  {
   "cell_type": "code",
   "execution_count": 15,
   "metadata": {},
   "outputs": [],
   "source": [
    "#all_transaction_direct_final.to_csv(f\"{FINAL_DATA_FOLDER}/all_transaction_direct_final.csv\", index=False)\n",
    "all_transaction_direct_final_filter.to_csv(f\"{FINAL_DATA_FOLDER}/all_transaction_final_filter_2.csv\", index=False)"
   ]
  }
 ],
 "metadata": {
  "kernelspec": {
   "display_name": "Python 3",
   "language": "python",
   "name": "python3"
  },
  "language_info": {
   "codemirror_mode": {
    "name": "ipython",
    "version": 3
   },
   "file_extension": ".py",
   "mimetype": "text/x-python",
   "name": "python",
   "nbconvert_exporter": "python",
   "pygments_lexer": "ipython3",
   "version": "3.11.6"
  }
 },
 "nbformat": 4,
 "nbformat_minor": 2
}
