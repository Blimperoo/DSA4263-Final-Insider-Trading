{
 "cells": [
  {
   "cell_type": "markdown",
   "metadata": {},
   "source": [
    "# SEC Form 4 Data Collation\n",
    "Refer to full readme.md for SEC data here: https://www.sec.gov/files/insider_transactions_readme.pdf \n",
    "\n"
   ]
  },
  {
   "cell_type": "markdown",
   "metadata": {},
   "source": [
    "### Overview of Merging Steps\n",
    "\n",
    "1. **Combine Derivative & Non-Derivative Transactions**  \n",
    "    - Merge `DERIV_TRANS` and `NONDERIV_TRANS` by their common columns.  \n",
    "    - Rename their primary key columns (`DERIV_TRANS_SK` or `NONDERIV_TRANS_SK`) to `TRANS_SK`.\n",
    "\n",
    "2. **Filter & Clean Transactions**  \n",
    "    - **Keep only direct ownership** (drop indirect).  \n",
    "    - **Exclude transactions past 2024-Q4**.  \n",
    "    - **Drop rows with missing transaction dates**.  \n",
    "    - **Calculate transaction amount** as *(shares × price per share)*, then split into zero vs. non-zero amounts.  \n",
    "    - Retain only the **non-zero** transaction dataset (for instance, 3,191,965 rows from 1992–2024).\n",
    "\n",
    "3. **Merge with Form 4 Submission Data** \n",
    "    - Each Form 4 submission can include up to 30 transactions.  \n",
    "    - Merging adds **filing date**, **period of report**, and the **issuer’s CIK** (i.e., the company whose shares are being transacted).\n",
    "\n",
    "4. **Merge with Reporting Owner Data**  \n",
    "   - Includes the **owner’s name** and **relationship** details.  \n",
    "   - Only keep submissions with exactly **one** reporting owner (covering ~99% of cases), avoiding the complexity of multi-owner filings."
   ]
  },
  {
   "cell_type": "markdown",
   "metadata": {},
   "source": [
    "#### Importing libraries and folders"
   ]
  },
  {
   "cell_type": "code",
   "execution_count": 11,
   "metadata": {},
   "outputs": [
    {
     "name": "stderr",
     "output_type": "stream",
     "text": [
      "/var/folders/6b/l0tct3dn7fv6vmdj5x9ftyl40000gn/T/ipykernel_77643/1606990010.py:21: DtypeWarning: Columns (7,13,23) have mixed types. Specify dtype option on import or set low_memory=False.\n",
      "  nonderiv_trans_data = pd.read_csv(f\"{DATA_FOLDER}/NONDERIV_TRANS.csv\")\n",
      "/var/folders/6b/l0tct3dn7fv6vmdj5x9ftyl40000gn/T/ipykernel_77643/1606990010.py:22: DtypeWarning: Columns (9,15,19,33,37) have mixed types. Specify dtype option on import or set low_memory=False.\n",
      "  deriv_trans_data = pd.read_csv(f\"{DATA_FOLDER}/DERIV_TRANS.csv\")\n",
      "/var/folders/6b/l0tct3dn7fv6vmdj5x9ftyl40000gn/T/ipykernel_77643/1606990010.py:25: DtypeWarning: Columns (9) have mixed types. Specify dtype option on import or set low_memory=False.\n",
      "  nonderiv_holding_data = pd.read_csv(f\"{DATA_FOLDER}/NONDERIV_HOLDING.csv\")\n",
      "/var/folders/6b/l0tct3dn7fv6vmdj5x9ftyl40000gn/T/ipykernel_77643/1606990010.py:26: DtypeWarning: Columns (17,21) have mixed types. Specify dtype option on import or set low_memory=False.\n",
      "  deriv_holding_data = pd.read_csv(f\"{DATA_FOLDER}/DERIV_HOLDING.csv\")\n"
     ]
    }
   ],
   "source": [
    "#Required libraries\n",
    "import pandas as pd\n",
    "import numpy as np\n",
    "import statsmodels.api as sm\n",
    "from statsmodels.regression.rolling import RollingOLS\n",
    "import yfinance as yf\n",
    "import shutil\n",
    "pd.set_option('display.max_columns', None)\n",
    "\n",
    "\n",
    "#Data folders\n",
    "DATA_FOLDER = \"data/interim/FINAL_RAW_DATA\"\n",
    "STOCK_PRICE_DATA_PATH = \"dataset_summary.csv\"\n",
    "YEARS_THRESHOLD = (2005, 2021) # to match little sis network data\n",
    "\n",
    "## Form Submission Main data\n",
    "submission_data = pd.read_csv(f\"{DATA_FOLDER}/SUBMISSION.csv\") # pk : ACCESSION_NUMBER\n",
    "\n",
    "## Transaction for submissions, ACCESSION_NUMBER and (NON)DERIV_TRANS_SK are the primary keys\n",
    "# One form (i.e. ACCESSION_NUMBER) can have multiple transactions (i.e. *_SK), transactions can be across multiple years, max 30 each \n",
    "# Duplicate *_SK keys are for different transactions, and there are max 2 of each duplicate _SK keys\n",
    "nonderiv_trans_data = pd.read_csv(f\"{DATA_FOLDER}/NONDERIV_TRANS.csv\")\n",
    "deriv_trans_data = pd.read_csv(f\"{DATA_FOLDER}/DERIV_TRANS.csv\")\n",
    "\n",
    "## Holding info for each submission (what they have - After each transaction..?)\n",
    "nonderiv_holding_data = pd.read_csv(f\"{DATA_FOLDER}/NONDERIV_HOLDING.csv\")\n",
    "deriv_holding_data = pd.read_csv(f\"{DATA_FOLDER}/DERIV_HOLDING.csv\")\n",
    "\n",
    "## Name info\n",
    "reporting_owner_data = pd.read_csv(f\"{DATA_FOLDER}/REPORTINGOWNER.csv\")\n",
    "#names_data = pd.read_csv(f\"{DATA_FOLDER}/OWNER_SIGNATURE.csv\") \n",
    "\n",
    "## Additional info, to match with '*_FN' columns in all other datasets based on matching ACCESSION_NUMBER\n",
    "#footnotes_data = pd.read_csv(f\"{DATA_FOLDER}/FOOTNOTES.csv\")"
   ]
  },
  {
   "cell_type": "markdown",
   "metadata": {},
   "source": [
    "#### Simple EDA"
   ]
  },
  {
   "cell_type": "code",
   "execution_count": 12,
   "metadata": {},
   "outputs": [
    {
     "name": "stdout",
     "output_type": "stream",
     "text": [
      "submission_data, (2917488, 13)\n",
      "No duplicate rows\n",
      "\n",
      "nonderiv_trans_data, (4343860, 28)\n",
      "No duplicate rows\n",
      "\n",
      "deriv_trans_data, (1763084, 42)\n",
      "No duplicate rows\n",
      "\n",
      "nonderiv_holding_data, (1522788, 14)\n",
      "No duplicate rows\n",
      "\n",
      "deriv_holding_data, (1000283, 26)\n",
      "No duplicate rows\n",
      "\n",
      "reporting_owner_data, (3171123, 13)\n",
      "No duplicate rows\n",
      "\n"
     ]
    }
   ],
   "source": [
    "#Overview of data\n",
    "dataframes = {\n",
    "    'submission_data': submission_data,\n",
    "    'nonderiv_trans_data': nonderiv_trans_data,\n",
    "    'deriv_trans_data': deriv_trans_data,\n",
    "    'nonderiv_holding_data': nonderiv_holding_data,\n",
    "    'deriv_holding_data': deriv_holding_data,\n",
    "    'reporting_owner_data': reporting_owner_data,\n",
    "    #'names_data': names_data,\n",
    "    #'footnotes_data': footnotes_data\n",
    "}\n",
    "\n",
    "for name, df in dataframes.items():\n",
    "    shape = df.shape\n",
    "    print(f\"{name}, {shape}\")\n",
    "\n",
    "    df.drop_duplicates(inplace=True)\n",
    "    if df.shape[0] != shape[0]:\n",
    "       print(f\"Duplicate rows removed: {shape[0] - df.shape[0]}\")\n",
    "    else:\n",
    "       print(\"No duplicate rows\")\n",
    "    print()"
   ]
  },
  {
   "cell_type": "markdown",
   "metadata": {},
   "source": [
    "#### Subset of columns required from each csv"
   ]
  },
  {
   "cell_type": "code",
   "execution_count": 13,
   "metadata": {},
   "outputs": [],
   "source": [
    "SELECTED_TRANSACTION_COLS = ['ACCESSION_NUMBER', 'SECURITY_TITLE', 'TRANS_DATE', 'DEEMED_EXECUTION_DATE', 'TRANS_CODE', 'EQUITY_SWAP_INVOLVED',\n",
    "                             'TRANS_TIMELINESS', 'TRANS_SHARES', 'TRANS_PRICEPERSHARE', 'TRANS_ACQUIRED_DISP_CD',\n",
    "                             'SHRS_OWND_FOLWNG_TRANS', 'DIRECT_INDIRECT_OWNERSHIP', 'NATURE_OF_OWNERSHIP']\n",
    "\n",
    "# partial primary keys: 'NONDERIV_TRANS_SK', 'DERIV_TRANS_SK'\n",
    "DERIV_TRANS_UNSURE_COLS = ['CONV_EXERCISE_PRICE', 'EQUITY_SWAP_INVOLVED', 'EXCERCISE_DATE', 'EXPIRATION_DATE', 'UNDLYNG_SEC_SHARES', 'UNDLYNG_SEC_VALUE']\n",
    "\n",
    "SUBMISSION_COLS = ['ACCESSION_NUMBER', 'FILING_DATE', 'PERIOD_OF_REPORT', 'ISSUERCIK', 'ISSUERNAME', 'ISSUERTRADINGSYMBOL']\n",
    "\n",
    "REPORTING_OWNER_COLS = ['RPTOWNERCIK', 'RPTOWNERNAME','RPTOWNER_RELATIONSHIP'] # there is also address data and filenumber"
   ]
  },
  {
   "cell_type": "markdown",
   "metadata": {},
   "source": [
    "#### Merge Transaction datasets"
   ]
  },
  {
   "cell_type": "code",
   "execution_count": 14,
   "metadata": {},
   "outputs": [
    {
     "name": "stdout",
     "output_type": "stream",
     "text": [
      "(6106944, 14)\n"
     ]
    }
   ],
   "source": [
    "#Changing dtypes\n",
    "nonderiv_trans_data['TRANS_DATE'] = pd.to_datetime(nonderiv_trans_data['TRANS_DATE'], errors='coerce')\n",
    "deriv_trans_data['TRANS_DATE'] = pd.to_datetime(deriv_trans_data['TRANS_DATE'], errors='coerce')\n",
    "\n",
    "## Cannot directly concatenate the two dataframes as they have different columns some with identical names\n",
    "df1 = nonderiv_trans_data[['NONDERIV_TRANS_SK'] + SELECTED_TRANSACTION_COLS].copy().rename(columns={'NONDERIV_TRANS_SK':'TRANS_SK'})\n",
    "df2 = deriv_trans_data[['DERIV_TRANS_SK'] + SELECTED_TRANSACTION_COLS].copy().rename(columns={'DERIV_TRANS_SK':'TRANS_SK'})\n",
    "all_transaction_data = pd.concat([df1,df2], axis=0, ignore_index=True).reset_index(drop=True)\n",
    "print(all_transaction_data.shape)"
   ]
  },
  {
   "cell_type": "markdown",
   "metadata": {},
   "source": [
    "#### Feature Engineering and Cleaning"
   ]
  },
  {
   "cell_type": "code",
   "execution_count": 15,
   "metadata": {},
   "outputs": [
    {
     "name": "stdout",
     "output_type": "stream",
     "text": [
      "There are 2250213 transactions with amount 0, 36.85% of all transactions\n"
     ]
    }
   ],
   "source": [
    "## Create transaction amount column\n",
    "all_transaction_data['trans_amt'] = all_transaction_data['TRANS_SHARES'] * all_transaction_data['TRANS_PRICEPERSHARE']\n",
    "\n",
    "trans_amt_0 = all_transaction_data[all_transaction_data['trans_amt'] == 0].shape[0]\n",
    "print(f\"There are {trans_amt_0} transactions with amount 0, {trans_amt_0/(all_transaction_data.shape[0])*100:.2f}% of all transactions\")"
   ]
  },
  {
   "cell_type": "code",
   "execution_count": 16,
   "metadata": {},
   "outputs": [
    {
     "data": {
      "text/plain": [
       "DIRECT_INDIRECT_OWNERSHIP\n",
       "D    5257448\n",
       "I     849496\n",
       "Name: count, dtype: int64"
      ]
     },
     "execution_count": 16,
     "metadata": {},
     "output_type": "execute_result"
    }
   ],
   "source": [
    "# Value counts of direct/indirect ownership\n",
    "all_transaction_data['DIRECT_INDIRECT_OWNERSHIP'].value_counts()"
   ]
  },
  {
   "cell_type": "markdown",
   "metadata": {},
   "source": [
    "#### Filtering out transactions"
   ]
  },
  {
   "cell_type": "code",
   "execution_count": 20,
   "metadata": {},
   "outputs": [
    {
     "name": "stdout",
     "output_type": "stream",
     "text": [
      "(4907535, 15)\n",
      "(4213120, 15)\n",
      "Resultant shape transaction data: (2596384, 15)\n"
     ]
    }
   ],
   "source": [
    "\n",
    "\n",
    "# 1. Select only transactions from 2005 to 2021\n",
    "all_transaction_data = all_transaction_data[(all_transaction_data['TRANS_DATE'].dt.year >= YEARS_THRESHOLD[0]) & (all_transaction_data['TRANS_DATE'].dt.year <= YEARS_THRESHOLD[1])]\n",
    "print(all_transaction_data.shape)\n",
    "\n",
    "# 2. Filter out indirect ownership\n",
    "all_transaction_direct = all_transaction_data[all_transaction_data['DIRECT_INDIRECT_OWNERSHIP'] == 'D']\n",
    "print(all_transaction_direct.shape)\n",
    "\n",
    "# 3. Filter out transactions with 0 transaction amount\n",
    "## e.g. non qualified stock option because is a form of compensation and will have 0 transaction amount\n",
    "all_transaction_direct_comp = all_transaction_direct[all_transaction_direct['trans_amt'] == 0]\n",
    "all_transaction_direct = all_transaction_direct[all_transaction_direct['trans_amt'] != 0]\n",
    "\n",
    "print(\"Resultant shape of transaction data:\", all_transaction_direct.shape)"
   ]
  },
  {
   "cell_type": "markdown",
   "metadata": {},
   "source": [
    "#### Merge with submission data"
   ]
  },
  {
   "cell_type": "code",
   "execution_count": 24,
   "metadata": {},
   "outputs": [
    {
     "name": "stdout",
     "output_type": "stream",
     "text": [
      "(2596384, 20)\n"
     ]
    },
    {
     "data": {
      "text/html": [
       "<div>\n",
       "<style scoped>\n",
       "    .dataframe tbody tr th:only-of-type {\n",
       "        vertical-align: middle;\n",
       "    }\n",
       "\n",
       "    .dataframe tbody tr th {\n",
       "        vertical-align: top;\n",
       "    }\n",
       "\n",
       "    .dataframe thead th {\n",
       "        text-align: right;\n",
       "    }\n",
       "</style>\n",
       "<table border=\"1\" class=\"dataframe\">\n",
       "  <thead>\n",
       "    <tr style=\"text-align: right;\">\n",
       "      <th></th>\n",
       "      <th>TRANS_SK</th>\n",
       "      <th>ACCESSION_NUMBER</th>\n",
       "      <th>SECURITY_TITLE</th>\n",
       "      <th>TRANS_DATE</th>\n",
       "      <th>DEEMED_EXECUTION_DATE</th>\n",
       "      <th>TRANS_CODE</th>\n",
       "      <th>EQUITY_SWAP_INVOLVED</th>\n",
       "      <th>TRANS_TIMELINESS</th>\n",
       "      <th>TRANS_SHARES</th>\n",
       "      <th>TRANS_PRICEPERSHARE</th>\n",
       "      <th>TRANS_ACQUIRED_DISP_CD</th>\n",
       "      <th>SHRS_OWND_FOLWNG_TRANS</th>\n",
       "      <th>DIRECT_INDIRECT_OWNERSHIP</th>\n",
       "      <th>NATURE_OF_OWNERSHIP</th>\n",
       "      <th>trans_amt</th>\n",
       "      <th>FILING_DATE</th>\n",
       "      <th>PERIOD_OF_REPORT</th>\n",
       "      <th>ISSUERCIK</th>\n",
       "      <th>ISSUERNAME</th>\n",
       "      <th>ISSUERTRADINGSYMBOL</th>\n",
       "    </tr>\n",
       "  </thead>\n",
       "  <tbody>\n",
       "    <tr>\n",
       "      <th>0</th>\n",
       "      <td>2360796</td>\n",
       "      <td>0001179110-14-011078</td>\n",
       "      <td>Common Stock</td>\n",
       "      <td>2014-06-26</td>\n",
       "      <td>NaN</td>\n",
       "      <td>S</td>\n",
       "      <td>0</td>\n",
       "      <td>NaN</td>\n",
       "      <td>1046.0</td>\n",
       "      <td>28.17</td>\n",
       "      <td>D</td>\n",
       "      <td>43944.0</td>\n",
       "      <td>D</td>\n",
       "      <td>NaN</td>\n",
       "      <td>29465.82</td>\n",
       "      <td>2014-06-30</td>\n",
       "      <td>2014-06-26</td>\n",
       "      <td>926326</td>\n",
       "      <td>OMNICELL, Inc</td>\n",
       "      <td>OMCL</td>\n",
       "    </tr>\n",
       "    <tr>\n",
       "      <th>1</th>\n",
       "      <td>2360797</td>\n",
       "      <td>0001179110-14-011078</td>\n",
       "      <td>Common Stock</td>\n",
       "      <td>2014-06-26</td>\n",
       "      <td>NaN</td>\n",
       "      <td>S</td>\n",
       "      <td>0</td>\n",
       "      <td>NaN</td>\n",
       "      <td>637.0</td>\n",
       "      <td>28.17</td>\n",
       "      <td>D</td>\n",
       "      <td>43307.0</td>\n",
       "      <td>D</td>\n",
       "      <td>NaN</td>\n",
       "      <td>17944.29</td>\n",
       "      <td>2014-06-30</td>\n",
       "      <td>2014-06-26</td>\n",
       "      <td>926326</td>\n",
       "      <td>OMNICELL, Inc</td>\n",
       "      <td>OMCL</td>\n",
       "    </tr>\n",
       "  </tbody>\n",
       "</table>\n",
       "</div>"
      ],
      "text/plain": [
       "   TRANS_SK      ACCESSION_NUMBER SECURITY_TITLE TRANS_DATE  \\\n",
       "0   2360796  0001179110-14-011078   Common Stock 2014-06-26   \n",
       "1   2360797  0001179110-14-011078   Common Stock 2014-06-26   \n",
       "\n",
       "  DEEMED_EXECUTION_DATE TRANS_CODE EQUITY_SWAP_INVOLVED TRANS_TIMELINESS  \\\n",
       "0                   NaN          S                    0              NaN   \n",
       "1                   NaN          S                    0              NaN   \n",
       "\n",
       "   TRANS_SHARES  TRANS_PRICEPERSHARE TRANS_ACQUIRED_DISP_CD  \\\n",
       "0        1046.0                28.17                      D   \n",
       "1         637.0                28.17                      D   \n",
       "\n",
       "   SHRS_OWND_FOLWNG_TRANS DIRECT_INDIRECT_OWNERSHIP NATURE_OF_OWNERSHIP  \\\n",
       "0                 43944.0                         D                 NaN   \n",
       "1                 43307.0                         D                 NaN   \n",
       "\n",
       "   trans_amt FILING_DATE PERIOD_OF_REPORT  ISSUERCIK     ISSUERNAME  \\\n",
       "0   29465.82  2014-06-30       2014-06-26     926326  OMNICELL, Inc   \n",
       "1   17944.29  2014-06-30       2014-06-26     926326  OMNICELL, Inc   \n",
       "\n",
       "  ISSUERTRADINGSYMBOL  \n",
       "0                OMCL  \n",
       "1                OMCL  "
      ]
     },
     "execution_count": 24,
     "metadata": {},
     "output_type": "execute_result"
    }
   ],
   "source": [
    "#Change dtypes of filing date\n",
    "submission_data['FILING_DATE'] = pd.to_datetime(submission_data['FILING_DATE'], errors='coerce')\n",
    "\n",
    "# Merge on ACCESSION_NUMBER\n",
    "all_transaction_direct_2 = all_transaction_direct.merge(submission_data[SUBMISSION_COLS], on='ACCESSION_NUMBER', how='left')\n",
    "print(all_transaction_direct_2.shape)\n",
    "\n",
    "all_transaction_direct_2.head(2)"
   ]
  },
  {
   "cell_type": "markdown",
   "metadata": {},
   "source": [
    "#### Get Reporting Owner/Owner Signature\n",
    "- We only match those forms with 1 reporting owner. "
   ]
  },
  {
   "cell_type": "code",
   "execution_count": 25,
   "metadata": {},
   "outputs": [
    {
     "name": "stdout",
     "output_type": "stream",
     "text": [
      "(1322672, 1)\n",
      "(1306752, 1)\n",
      "Final number of unique ACCESSION_NUMBERS with 1-1 matching names, 1306752\n"
     ]
    }
   ],
   "source": [
    "# Get overlapping 1-1 matching of accession numbers across the three datasets to avoid duplicated rows from joining\n",
    "\n",
    "## Get unique pk from all_transaction_direct_filterd\n",
    "accession_num_unique = all_transaction_direct_2[['ACCESSION_NUMBER']].drop_duplicates()\n",
    "\n",
    "## get unique pk from reporting_owner_data\n",
    "matching_reporting_owner = reporting_owner_data[reporting_owner_data['ACCESSION_NUMBER'].isin(accession_num_unique['ACCESSION_NUMBER'])]\n",
    "matching_rpt_pk = matching_reporting_owner[matching_reporting_owner['ACCESSION_NUMBER'].map(matching_reporting_owner['ACCESSION_NUMBER'].value_counts()) == 1][['ACCESSION_NUMBER']]\n",
    "\n",
    "print(\"Final number of unique ACCESSION_NUMBERS with 1-1 matching names,\", matching_rpt_pk.shape[0])"
   ]
  },
  {
   "cell_type": "code",
   "execution_count": 26,
   "metadata": {},
   "outputs": [
    {
     "name": "stdout",
     "output_type": "stream",
     "text": [
      "(2546985, 23)\n"
     ]
    },
    {
     "data": {
      "text/html": [
       "<div>\n",
       "<style scoped>\n",
       "    .dataframe tbody tr th:only-of-type {\n",
       "        vertical-align: middle;\n",
       "    }\n",
       "\n",
       "    .dataframe tbody tr th {\n",
       "        vertical-align: top;\n",
       "    }\n",
       "\n",
       "    .dataframe thead th {\n",
       "        text-align: right;\n",
       "    }\n",
       "</style>\n",
       "<table border=\"1\" class=\"dataframe\">\n",
       "  <thead>\n",
       "    <tr style=\"text-align: right;\">\n",
       "      <th></th>\n",
       "      <th>TRANS_SK</th>\n",
       "      <th>ACCESSION_NUMBER</th>\n",
       "      <th>SECURITY_TITLE</th>\n",
       "      <th>TRANS_DATE</th>\n",
       "      <th>DEEMED_EXECUTION_DATE</th>\n",
       "      <th>TRANS_CODE</th>\n",
       "      <th>EQUITY_SWAP_INVOLVED</th>\n",
       "      <th>TRANS_TIMELINESS</th>\n",
       "      <th>TRANS_SHARES</th>\n",
       "      <th>TRANS_PRICEPERSHARE</th>\n",
       "      <th>TRANS_ACQUIRED_DISP_CD</th>\n",
       "      <th>SHRS_OWND_FOLWNG_TRANS</th>\n",
       "      <th>DIRECT_INDIRECT_OWNERSHIP</th>\n",
       "      <th>NATURE_OF_OWNERSHIP</th>\n",
       "      <th>trans_amt</th>\n",
       "      <th>FILING_DATE</th>\n",
       "      <th>PERIOD_OF_REPORT</th>\n",
       "      <th>ISSUERCIK</th>\n",
       "      <th>ISSUERNAME</th>\n",
       "      <th>ISSUERTRADINGSYMBOL</th>\n",
       "      <th>RPTOWNERCIK</th>\n",
       "      <th>RPTOWNERNAME</th>\n",
       "      <th>RPTOWNER_RELATIONSHIP</th>\n",
       "    </tr>\n",
       "  </thead>\n",
       "  <tbody>\n",
       "    <tr>\n",
       "      <th>0</th>\n",
       "      <td>2360796</td>\n",
       "      <td>0001179110-14-011078</td>\n",
       "      <td>Common Stock</td>\n",
       "      <td>2014-06-26</td>\n",
       "      <td>NaN</td>\n",
       "      <td>S</td>\n",
       "      <td>0</td>\n",
       "      <td>NaN</td>\n",
       "      <td>1046.0</td>\n",
       "      <td>28.17</td>\n",
       "      <td>D</td>\n",
       "      <td>43944.0</td>\n",
       "      <td>D</td>\n",
       "      <td>NaN</td>\n",
       "      <td>29465.82</td>\n",
       "      <td>2014-06-30</td>\n",
       "      <td>2014-06-26</td>\n",
       "      <td>926326</td>\n",
       "      <td>OMNICELL, Inc</td>\n",
       "      <td>OMCL</td>\n",
       "      <td>1453971</td>\n",
       "      <td>Ortigas-Wedekind Marga</td>\n",
       "      <td>Officer</td>\n",
       "    </tr>\n",
       "    <tr>\n",
       "      <th>1</th>\n",
       "      <td>2360797</td>\n",
       "      <td>0001179110-14-011078</td>\n",
       "      <td>Common Stock</td>\n",
       "      <td>2014-06-26</td>\n",
       "      <td>NaN</td>\n",
       "      <td>S</td>\n",
       "      <td>0</td>\n",
       "      <td>NaN</td>\n",
       "      <td>637.0</td>\n",
       "      <td>28.17</td>\n",
       "      <td>D</td>\n",
       "      <td>43307.0</td>\n",
       "      <td>D</td>\n",
       "      <td>NaN</td>\n",
       "      <td>17944.29</td>\n",
       "      <td>2014-06-30</td>\n",
       "      <td>2014-06-26</td>\n",
       "      <td>926326</td>\n",
       "      <td>OMNICELL, Inc</td>\n",
       "      <td>OMCL</td>\n",
       "      <td>1453971</td>\n",
       "      <td>Ortigas-Wedekind Marga</td>\n",
       "      <td>Officer</td>\n",
       "    </tr>\n",
       "    <tr>\n",
       "      <th>2</th>\n",
       "      <td>2360795</td>\n",
       "      <td>0001179110-14-011078</td>\n",
       "      <td>Common Stock</td>\n",
       "      <td>2014-06-26</td>\n",
       "      <td>NaN</td>\n",
       "      <td>S</td>\n",
       "      <td>0</td>\n",
       "      <td>NaN</td>\n",
       "      <td>1278.0</td>\n",
       "      <td>28.17</td>\n",
       "      <td>D</td>\n",
       "      <td>44990.0</td>\n",
       "      <td>D</td>\n",
       "      <td>NaN</td>\n",
       "      <td>36001.26</td>\n",
       "      <td>2014-06-30</td>\n",
       "      <td>2014-06-26</td>\n",
       "      <td>926326</td>\n",
       "      <td>OMNICELL, Inc</td>\n",
       "      <td>OMCL</td>\n",
       "      <td>1453971</td>\n",
       "      <td>Ortigas-Wedekind Marga</td>\n",
       "      <td>Officer</td>\n",
       "    </tr>\n",
       "    <tr>\n",
       "      <th>3</th>\n",
       "      <td>2350316</td>\n",
       "      <td>0001144204-14-040532</td>\n",
       "      <td>Common Stock</td>\n",
       "      <td>2014-05-28</td>\n",
       "      <td>NaN</td>\n",
       "      <td>A</td>\n",
       "      <td>0</td>\n",
       "      <td>NaN</td>\n",
       "      <td>1176.0</td>\n",
       "      <td>10.60</td>\n",
       "      <td>A</td>\n",
       "      <td>50295.0</td>\n",
       "      <td>D</td>\n",
       "      <td>NaN</td>\n",
       "      <td>12465.60</td>\n",
       "      <td>2014-06-30</td>\n",
       "      <td>2014-05-28</td>\n",
       "      <td>1474464</td>\n",
       "      <td>New York REIT, Inc.</td>\n",
       "      <td>NYRT</td>\n",
       "      <td>1545007</td>\n",
       "      <td>Bowman Scott J.</td>\n",
       "      <td>Director</td>\n",
       "    </tr>\n",
       "    <tr>\n",
       "      <th>4</th>\n",
       "      <td>2350317</td>\n",
       "      <td>0001144204-14-040532</td>\n",
       "      <td>Common Stock</td>\n",
       "      <td>2014-06-27</td>\n",
       "      <td>NaN</td>\n",
       "      <td>A</td>\n",
       "      <td>0</td>\n",
       "      <td>NaN</td>\n",
       "      <td>4673.0</td>\n",
       "      <td>10.70</td>\n",
       "      <td>A</td>\n",
       "      <td>54968.0</td>\n",
       "      <td>D</td>\n",
       "      <td>NaN</td>\n",
       "      <td>50001.10</td>\n",
       "      <td>2014-06-30</td>\n",
       "      <td>2014-05-28</td>\n",
       "      <td>1474464</td>\n",
       "      <td>New York REIT, Inc.</td>\n",
       "      <td>NYRT</td>\n",
       "      <td>1545007</td>\n",
       "      <td>Bowman Scott J.</td>\n",
       "      <td>Director</td>\n",
       "    </tr>\n",
       "  </tbody>\n",
       "</table>\n",
       "</div>"
      ],
      "text/plain": [
       "   TRANS_SK      ACCESSION_NUMBER SECURITY_TITLE TRANS_DATE  \\\n",
       "0   2360796  0001179110-14-011078   Common Stock 2014-06-26   \n",
       "1   2360797  0001179110-14-011078   Common Stock 2014-06-26   \n",
       "2   2360795  0001179110-14-011078   Common Stock 2014-06-26   \n",
       "3   2350316  0001144204-14-040532   Common Stock 2014-05-28   \n",
       "4   2350317  0001144204-14-040532   Common Stock 2014-06-27   \n",
       "\n",
       "  DEEMED_EXECUTION_DATE TRANS_CODE EQUITY_SWAP_INVOLVED TRANS_TIMELINESS  \\\n",
       "0                   NaN          S                    0              NaN   \n",
       "1                   NaN          S                    0              NaN   \n",
       "2                   NaN          S                    0              NaN   \n",
       "3                   NaN          A                    0              NaN   \n",
       "4                   NaN          A                    0              NaN   \n",
       "\n",
       "   TRANS_SHARES  TRANS_PRICEPERSHARE TRANS_ACQUIRED_DISP_CD  \\\n",
       "0        1046.0                28.17                      D   \n",
       "1         637.0                28.17                      D   \n",
       "2        1278.0                28.17                      D   \n",
       "3        1176.0                10.60                      A   \n",
       "4        4673.0                10.70                      A   \n",
       "\n",
       "   SHRS_OWND_FOLWNG_TRANS DIRECT_INDIRECT_OWNERSHIP NATURE_OF_OWNERSHIP  \\\n",
       "0                 43944.0                         D                 NaN   \n",
       "1                 43307.0                         D                 NaN   \n",
       "2                 44990.0                         D                 NaN   \n",
       "3                 50295.0                         D                 NaN   \n",
       "4                 54968.0                         D                 NaN   \n",
       "\n",
       "   trans_amt FILING_DATE PERIOD_OF_REPORT  ISSUERCIK           ISSUERNAME  \\\n",
       "0   29465.82  2014-06-30       2014-06-26     926326        OMNICELL, Inc   \n",
       "1   17944.29  2014-06-30       2014-06-26     926326        OMNICELL, Inc   \n",
       "2   36001.26  2014-06-30       2014-06-26     926326        OMNICELL, Inc   \n",
       "3   12465.60  2014-06-30       2014-05-28    1474464  New York REIT, Inc.   \n",
       "4   50001.10  2014-06-30       2014-05-28    1474464  New York REIT, Inc.   \n",
       "\n",
       "  ISSUERTRADINGSYMBOL  RPTOWNERCIK            RPTOWNERNAME  \\\n",
       "0                OMCL      1453971  Ortigas-Wedekind Marga   \n",
       "1                OMCL      1453971  Ortigas-Wedekind Marga   \n",
       "2                OMCL      1453971  Ortigas-Wedekind Marga   \n",
       "3                NYRT      1545007         Bowman Scott J.   \n",
       "4                NYRT      1545007         Bowman Scott J.   \n",
       "\n",
       "  RPTOWNER_RELATIONSHIP  \n",
       "0               Officer  \n",
       "1               Officer  \n",
       "2               Officer  \n",
       "3              Director  \n",
       "4              Director  "
      ]
     },
     "execution_count": 26,
     "metadata": {},
     "output_type": "execute_result"
    }
   ],
   "source": [
    "# Merging\n",
    "\n",
    "## filter all_transaction_direct_filterd to get only ACCESSION_NUMBRE in matching_rpt_names_pk\n",
    "all_transaction_direct_final = all_transaction_direct_2[all_transaction_direct_2['ACCESSION_NUMBER'].isin(matching_rpt_pk['ACCESSION_NUMBER'])]\n",
    "\n",
    "## merge with reporting_owener_data \n",
    "all_transaction_direct_final = all_transaction_direct_final.merge(reporting_owner_data[['ACCESSION_NUMBER'] + REPORTING_OWNER_COLS], on='ACCESSION_NUMBER', how='left') \n",
    "\n",
    "print(all_transaction_direct_final.shape)\n",
    "all_transaction_direct_final.head()"
   ]
  },
  {
   "cell_type": "markdown",
   "metadata": {},
   "source": [
    "#### Convert back into csv to zip"
   ]
  },
  {
   "cell_type": "code",
   "execution_count": 30,
   "metadata": {},
   "outputs": [
    {
     "name": "stdout",
     "output_type": "stream",
     "text": [
      "Folder 'data/interim/FINAL_RAW_DATA' has been zipped as 'data/interim/FINAL_RAW_DATA.zip'\n"
     ]
    }
   ],
   "source": [
    "#convert to csv\n",
    "all_transaction_direct_final.to_csv(f\"{DATA_FOLDER}/all_transactions_merged.csv\")\n",
    "\n",
    "import shutil\n",
    "#Zip folder\n",
    "folder_to_zip = DATA_FOLDER\n",
    "output_zip_file = \"data/interim/FINAL_RAW_DATA.zip\"\n",
    "shutil.make_archive(output_zip_file.replace('.zip', ''), 'zip', folder_to_zip)\n",
    "\n",
    "print(f\"Folder '{folder_to_zip}' has been zipped as '{output_zip_file}'\")\n"
   ]
  }
 ],
 "metadata": {
  "kernelspec": {
   "display_name": "Python 3",
   "language": "python",
   "name": "python3"
  },
  "language_info": {
   "codemirror_mode": {
    "name": "ipython",
    "version": 3
   },
   "file_extension": ".py",
   "mimetype": "text/x-python",
   "name": "python",
   "nbconvert_exporter": "python",
   "pygments_lexer": "ipython3",
   "version": "3.10.11"
  }
 },
 "nbformat": 4,
 "nbformat_minor": 2
}
